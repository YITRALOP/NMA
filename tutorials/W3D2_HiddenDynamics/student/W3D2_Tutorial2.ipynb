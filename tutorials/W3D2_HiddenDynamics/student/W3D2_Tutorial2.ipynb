{
  "cells": [
    {
      "cell_type": "markdown",
      "metadata": {
        "id": "view-in-github",
        "colab_type": "text"
      },
      "source": [
        "<a href=\"https://colab.research.google.com/github/YITRALOP/NMA/blob/main/tutorials/W3D2_HiddenDynamics/student/W3D2_Tutorial2.ipynb\" target=\"_parent\"><img src=\"https://colab.research.google.com/assets/colab-badge.svg\" alt=\"Open In Colab\"/></a>"
      ]
    },
    {
      "cell_type": "markdown",
      "metadata": {
        "execution": {},
        "id": "-0GuhCQNOgQd"
      },
      "source": [
        "# Tutorial 2: Hidden Markov Model\n",
        "\n",
        "**Week 3, Day 2: Hidden Dynamics**\n",
        "\n",
        "**By Neuromatch Academy**\n",
        "\n",
        "**Content creators:** Yicheng Fei with help from Jesse Livezey and Xaq Pitkow\n",
        "\n",
        "**Content reviewers:** John Butler, Matt Krause, Meenakshi Khosla, Spiros Chavlis, Michael Waskom\n",
        "\n",
        "**Production editors:** Ella Batty, Gagana B, Spiros Chavlis"
      ]
    },
    {
      "cell_type": "markdown",
      "metadata": {
        "execution": {},
        "id": "2ZrbEjL6OgQh"
      },
      "source": [
        "---\n",
        "# Tutorial objectives\n",
        "\n",
        "*Estimated timing of tutorial: 1 hour, 5 minutes*\n",
        "\n",
        "The world around us is often changing, but we only have noisy sensory measurements. Similarly, neural systems switch between discrete states (e.g. sleep/wake) which are observable only indirectly, through their impact on neural activity. **Hidden Markov Models** (HMM) let us reason about these unobserved (also called hidden or latent) states using a time series of measurements.\n",
        "\n",
        "Here we'll learn how changing the HMM's transition probability and measurement noise impacts the data. We'll look at how uncertainty increases as we predict the future, and how to gain information from the measurements.\n",
        "\n",
        "We will use a binary latent variable $s_t \\in \\{0,1\\}$ that switches randomly between the two states, and a 1D Gaussian emission model $m_t|s_t \\sim \\mathcal{N}(\\mu_{s_t},\\sigma^2_{s_t})$ that provides evidence about the current state.\n",
        "\n",
        "By the end of this tutorial, you should be able to:\n",
        "- Describe how the hidden states in a Hidden Markov model evolve over time, both in words, mathematically, and in code\n",
        "- Estimate hidden states from data using forward inference in a Hidden Markov model\n",
        "- Describe how measurement noise and state transition probabilities affect uncertainty in predictions in the future and the ability to estimate hidden states.\n",
        "\n",
        "<br>\n",
        "\n",
        "**Summary of Exercises**\n",
        "1. Generate data from an HMM.\n",
        "2. Calculate how predictions propagate in a Markov Chain without evidence.\n",
        "3. Combine new evidence and prediction from past evidence to estimate hidden states."
      ]
    },
    {
      "cell_type": "code",
      "execution_count": 1,
      "metadata": {
        "cellView": "form",
        "execution": {},
        "id": "Mt6RYCvYOgQj",
        "colab": {
          "base_uri": "https://localhost:8080/",
          "height": 518
        },
        "outputId": "4c39645c-a000-442c-9ed9-57e28908e327"
      },
      "outputs": [
        {
          "output_type": "stream",
          "name": "stdout",
          "text": [
            "If you want to download the slides: https://osf.io/download/zsfbn/\n"
          ]
        },
        {
          "output_type": "execute_result",
          "data": {
            "text/plain": [
              "<IPython.lib.display.IFrame at 0x7e087a34c390>"
            ],
            "text/html": [
              "\n",
              "        <iframe\n",
              "            width=\"854\"\n",
              "            height=\"480\"\n",
              "            src=\"https://mfr.ca-1.osf.io/render?url=https://osf.io/zsfbn/?direct%26mode=render%26action=download%26mode=render\"\n",
              "            frameborder=\"0\"\n",
              "            allowfullscreen\n",
              "            \n",
              "        ></iframe>\n",
              "        "
            ]
          },
          "metadata": {},
          "execution_count": 1
        }
      ],
      "source": [
        "# @title Tutorial slides\n",
        "# @markdown These are the slides for all videos in this tutorial.\n",
        "from IPython.display import IFrame\n",
        "link_id = \"zsfbn\"\n",
        "print(f\"If you want to download the slides: https://osf.io/download/{link_id}/\")\n",
        "IFrame(src=f\"https://mfr.ca-1.osf.io/render?url=https://osf.io/{link_id}/?direct%26mode=render%26action=download%26mode=render\", width=854, height=480)"
      ]
    },
    {
      "cell_type": "markdown",
      "metadata": {
        "execution": {},
        "id": "CghEjjBDOgQk"
      },
      "source": [
        "---\n",
        "# Setup"
      ]
    },
    {
      "cell_type": "code",
      "execution_count": 2,
      "metadata": {
        "cellView": "form",
        "execution": {},
        "id": "fdrWUvziOgQk",
        "collapsed": true,
        "colab": {
          "base_uri": "https://localhost:8080/",
          "height": 495
        },
        "outputId": "6868c401-7bc0-4778-82c8-e44740070a52"
      },
      "outputs": [
        {
          "output_type": "stream",
          "name": "stdout",
          "text": [
            "  Preparing metadata (setup.py) ... \u001b[?25l\u001b[?25hdone\n",
            "  Preparing metadata (setup.py) ... \u001b[?25l\u001b[?25hdone\n",
            "\u001b[2K   \u001b[90m━━━━━━━━━━━━━━━━━━━━━━━━━━━━━━━━━━━━━━━━\u001b[0m \u001b[32m1.6/1.6 MB\u001b[0m \u001b[31m22.0 MB/s\u001b[0m eta \u001b[36m0:00:00\u001b[0m\n",
            "\u001b[?25h  Building wheel for vibecheck (setup.py) ... \u001b[?25l\u001b[?25hdone\n",
            "  Building wheel for datatops (setup.py) ... \u001b[?25l\u001b[?25hdone\n"
          ]
        },
        {
          "output_type": "error",
          "ename": "KeyboardInterrupt",
          "evalue": "",
          "traceback": [
            "\u001b[0;31m---------------------------------------------------------------------------\u001b[0m",
            "\u001b[0;31mAttributeError\u001b[0m                            Traceback (most recent call last)",
            "\u001b[0;32m/usr/lib/python3.11/pathlib.py\u001b[0m in \u001b[0;36m__str__\u001b[0;34m(self)\u001b[0m\n\u001b[1;32m    539\u001b[0m         \u001b[0;32mtry\u001b[0m\u001b[0;34m:\u001b[0m\u001b[0;34m\u001b[0m\u001b[0;34m\u001b[0m\u001b[0m\n\u001b[0;32m--> 540\u001b[0;31m             \u001b[0;32mreturn\u001b[0m \u001b[0mself\u001b[0m\u001b[0;34m.\u001b[0m\u001b[0m_str\u001b[0m\u001b[0;34m\u001b[0m\u001b[0;34m\u001b[0m\u001b[0m\n\u001b[0m\u001b[1;32m    541\u001b[0m         \u001b[0;32mexcept\u001b[0m \u001b[0mAttributeError\u001b[0m\u001b[0;34m:\u001b[0m\u001b[0;34m\u001b[0m\u001b[0;34m\u001b[0m\u001b[0m\n",
            "\u001b[0;31mAttributeError\u001b[0m: 'PosixPath' object has no attribute '_str'",
            "\nDuring handling of the above exception, another exception occurred:\n",
            "\u001b[0;31mKeyboardInterrupt\u001b[0m                         Traceback (most recent call last)",
            "\u001b[0;32m/tmp/ipython-input-2-2077133625.py\u001b[0m in \u001b[0;36m<cell line: 0>\u001b[0;34m()\u001b[0m\n\u001b[1;32m      1\u001b[0m \u001b[0;31m# @title Install and import feedback gadget\u001b[0m\u001b[0;34m\u001b[0m\u001b[0;34m\u001b[0m\u001b[0m\n\u001b[1;32m      2\u001b[0m \u001b[0;34m\u001b[0m\u001b[0m\n\u001b[0;32m----> 3\u001b[0;31m \u001b[0mget_ipython\u001b[0m\u001b[0;34m(\u001b[0m\u001b[0;34m)\u001b[0m\u001b[0;34m.\u001b[0m\u001b[0msystem\u001b[0m\u001b[0;34m(\u001b[0m\u001b[0;34m'pip3 install vibecheck datatops --quiet'\u001b[0m\u001b[0;34m)\u001b[0m\u001b[0;34m\u001b[0m\u001b[0;34m\u001b[0m\u001b[0m\n\u001b[0m\u001b[1;32m      4\u001b[0m \u001b[0;34m\u001b[0m\u001b[0m\n\u001b[1;32m      5\u001b[0m \u001b[0;32mfrom\u001b[0m \u001b[0mvibecheck\u001b[0m \u001b[0;32mimport\u001b[0m \u001b[0mDatatopsContentReviewContainer\u001b[0m\u001b[0;34m\u001b[0m\u001b[0;34m\u001b[0m\u001b[0m\n",
            "\u001b[0;32m/usr/local/lib/python3.11/dist-packages/google/colab/_shell.py\u001b[0m in \u001b[0;36msystem\u001b[0;34m(self, *args, **kwargs)\u001b[0m\n\u001b[1;32m    150\u001b[0m \u001b[0;34m\u001b[0m\u001b[0m\n\u001b[1;32m    151\u001b[0m     \u001b[0;32mif\u001b[0m \u001b[0mpip_warn\u001b[0m\u001b[0;34m:\u001b[0m\u001b[0;34m\u001b[0m\u001b[0;34m\u001b[0m\u001b[0m\n\u001b[0;32m--> 152\u001b[0;31m       \u001b[0m_pip\u001b[0m\u001b[0;34m.\u001b[0m\u001b[0mprint_previous_import_warning\u001b[0m\u001b[0;34m(\u001b[0m\u001b[0moutput\u001b[0m\u001b[0;34m)\u001b[0m\u001b[0;34m\u001b[0m\u001b[0;34m\u001b[0m\u001b[0m\n\u001b[0m\u001b[1;32m    153\u001b[0m \u001b[0;34m\u001b[0m\u001b[0m\n\u001b[1;32m    154\u001b[0m   \u001b[0;32mdef\u001b[0m \u001b[0m_send_error\u001b[0m\u001b[0;34m(\u001b[0m\u001b[0mself\u001b[0m\u001b[0;34m,\u001b[0m \u001b[0mexc_content\u001b[0m\u001b[0;34m)\u001b[0m\u001b[0;34m:\u001b[0m\u001b[0;34m\u001b[0m\u001b[0;34m\u001b[0m\u001b[0m\n",
            "\u001b[0;32m/usr/local/lib/python3.11/dist-packages/google/colab/_pip.py\u001b[0m in \u001b[0;36mprint_previous_import_warning\u001b[0;34m(output)\u001b[0m\n\u001b[1;32m     54\u001b[0m \u001b[0;32mdef\u001b[0m \u001b[0mprint_previous_import_warning\u001b[0m\u001b[0;34m(\u001b[0m\u001b[0moutput\u001b[0m\u001b[0;34m)\u001b[0m\u001b[0;34m:\u001b[0m\u001b[0;34m\u001b[0m\u001b[0;34m\u001b[0m\u001b[0m\n\u001b[1;32m     55\u001b[0m   \u001b[0;34m\"\"\"Prints a warning about previously imported packages.\"\"\"\u001b[0m\u001b[0;34m\u001b[0m\u001b[0;34m\u001b[0m\u001b[0m\n\u001b[0;32m---> 56\u001b[0;31m   \u001b[0mpackages\u001b[0m \u001b[0;34m=\u001b[0m \u001b[0m_previously_imported_packages\u001b[0m\u001b[0;34m(\u001b[0m\u001b[0moutput\u001b[0m\u001b[0;34m)\u001b[0m\u001b[0;34m\u001b[0m\u001b[0;34m\u001b[0m\u001b[0m\n\u001b[0m\u001b[1;32m     57\u001b[0m   \u001b[0;32mif\u001b[0m \u001b[0mpackages\u001b[0m\u001b[0;34m:\u001b[0m\u001b[0;34m\u001b[0m\u001b[0;34m\u001b[0m\u001b[0m\n\u001b[1;32m     58\u001b[0m     \u001b[0;31m# display a list of packages using the colab-display-data mimetype, which\u001b[0m\u001b[0;34m\u001b[0m\u001b[0;34m\u001b[0m\u001b[0m\n",
            "\u001b[0;32m/usr/local/lib/python3.11/dist-packages/google/colab/_pip.py\u001b[0m in \u001b[0;36m_previously_imported_packages\u001b[0;34m(pip_output)\u001b[0m\n\u001b[1;32m     48\u001b[0m \u001b[0;32mdef\u001b[0m \u001b[0m_previously_imported_packages\u001b[0m\u001b[0;34m(\u001b[0m\u001b[0mpip_output\u001b[0m\u001b[0;34m)\u001b[0m\u001b[0;34m:\u001b[0m\u001b[0;34m\u001b[0m\u001b[0;34m\u001b[0m\u001b[0m\n\u001b[1;32m     49\u001b[0m   \u001b[0;34m\"\"\"List all previously imported packages from a pip install.\"\"\"\u001b[0m\u001b[0;34m\u001b[0m\u001b[0;34m\u001b[0m\u001b[0m\n\u001b[0;32m---> 50\u001b[0;31m   \u001b[0minstalled\u001b[0m \u001b[0;34m=\u001b[0m \u001b[0mset\u001b[0m\u001b[0;34m(\u001b[0m\u001b[0m_extract_toplevel_packages\u001b[0m\u001b[0;34m(\u001b[0m\u001b[0mpip_output\u001b[0m\u001b[0;34m)\u001b[0m\u001b[0;34m)\u001b[0m\u001b[0;34m\u001b[0m\u001b[0;34m\u001b[0m\u001b[0m\n\u001b[0m\u001b[1;32m     51\u001b[0m   \u001b[0;32mreturn\u001b[0m \u001b[0msorted\u001b[0m\u001b[0;34m(\u001b[0m\u001b[0minstalled\u001b[0m\u001b[0;34m.\u001b[0m\u001b[0mintersection\u001b[0m\u001b[0;34m(\u001b[0m\u001b[0mset\u001b[0m\u001b[0;34m(\u001b[0m\u001b[0msys\u001b[0m\u001b[0;34m.\u001b[0m\u001b[0mmodules\u001b[0m\u001b[0;34m)\u001b[0m\u001b[0;34m)\u001b[0m\u001b[0;34m)\u001b[0m\u001b[0;34m\u001b[0m\u001b[0;34m\u001b[0m\u001b[0m\n\u001b[1;32m     52\u001b[0m \u001b[0;34m\u001b[0m\u001b[0m\n",
            "\u001b[0;32m/usr/local/lib/python3.11/dist-packages/google/colab/_pip.py\u001b[0m in \u001b[0;36m_extract_toplevel_packages\u001b[0;34m(pip_output)\u001b[0m\n\u001b[1;32m     37\u001b[0m   \u001b[0;34m\"\"\"Extract the list of toplevel packages associated with a pip install.\"\"\"\u001b[0m\u001b[0;34m\u001b[0m\u001b[0;34m\u001b[0m\u001b[0m\n\u001b[1;32m     38\u001b[0m   \u001b[0mtoplevel\u001b[0m \u001b[0;34m=\u001b[0m \u001b[0mcollections\u001b[0m\u001b[0;34m.\u001b[0m\u001b[0mdefaultdict\u001b[0m\u001b[0;34m(\u001b[0m\u001b[0mset\u001b[0m\u001b[0;34m)\u001b[0m\u001b[0;34m\u001b[0m\u001b[0;34m\u001b[0m\u001b[0m\n\u001b[0;32m---> 39\u001b[0;31m   \u001b[0;32mfor\u001b[0m \u001b[0mm\u001b[0m\u001b[0;34m,\u001b[0m \u001b[0mps\u001b[0m \u001b[0;32min\u001b[0m \u001b[0mimportlib\u001b[0m\u001b[0;34m.\u001b[0m\u001b[0mmetadata\u001b[0m\u001b[0;34m.\u001b[0m\u001b[0mpackages_distributions\u001b[0m\u001b[0;34m(\u001b[0m\u001b[0;34m)\u001b[0m\u001b[0;34m.\u001b[0m\u001b[0mitems\u001b[0m\u001b[0;34m(\u001b[0m\u001b[0;34m)\u001b[0m\u001b[0;34m:\u001b[0m\u001b[0;34m\u001b[0m\u001b[0;34m\u001b[0m\u001b[0m\n\u001b[0m\u001b[1;32m     40\u001b[0m     \u001b[0;32mfor\u001b[0m \u001b[0mp\u001b[0m \u001b[0;32min\u001b[0m \u001b[0mps\u001b[0m\u001b[0;34m:\u001b[0m\u001b[0;34m\u001b[0m\u001b[0;34m\u001b[0m\u001b[0m\n\u001b[1;32m     41\u001b[0m       \u001b[0mtoplevel\u001b[0m\u001b[0;34m[\u001b[0m\u001b[0mp\u001b[0m\u001b[0;34m]\u001b[0m\u001b[0;34m.\u001b[0m\u001b[0madd\u001b[0m\u001b[0;34m(\u001b[0m\u001b[0mm\u001b[0m\u001b[0;34m)\u001b[0m\u001b[0;34m\u001b[0m\u001b[0;34m\u001b[0m\u001b[0m\n",
            "\u001b[0;32m/usr/lib/python3.11/importlib/metadata/__init__.py\u001b[0m in \u001b[0;36mpackages_distributions\u001b[0;34m()\u001b[0m\n\u001b[1;32m   1073\u001b[0m     \u001b[0mpkg_to_dist\u001b[0m \u001b[0;34m=\u001b[0m \u001b[0mcollections\u001b[0m\u001b[0;34m.\u001b[0m\u001b[0mdefaultdict\u001b[0m\u001b[0;34m(\u001b[0m\u001b[0mlist\u001b[0m\u001b[0;34m)\u001b[0m\u001b[0;34m\u001b[0m\u001b[0;34m\u001b[0m\u001b[0m\n\u001b[1;32m   1074\u001b[0m     \u001b[0;32mfor\u001b[0m \u001b[0mdist\u001b[0m \u001b[0;32min\u001b[0m \u001b[0mdistributions\u001b[0m\u001b[0;34m(\u001b[0m\u001b[0;34m)\u001b[0m\u001b[0;34m:\u001b[0m\u001b[0;34m\u001b[0m\u001b[0;34m\u001b[0m\u001b[0m\n\u001b[0;32m-> 1075\u001b[0;31m         \u001b[0;32mfor\u001b[0m \u001b[0mpkg\u001b[0m \u001b[0;32min\u001b[0m \u001b[0m_top_level_declared\u001b[0m\u001b[0;34m(\u001b[0m\u001b[0mdist\u001b[0m\u001b[0;34m)\u001b[0m \u001b[0;32mor\u001b[0m \u001b[0m_top_level_inferred\u001b[0m\u001b[0;34m(\u001b[0m\u001b[0mdist\u001b[0m\u001b[0;34m)\u001b[0m\u001b[0;34m:\u001b[0m\u001b[0;34m\u001b[0m\u001b[0;34m\u001b[0m\u001b[0m\n\u001b[0m\u001b[1;32m   1076\u001b[0m             \u001b[0mpkg_to_dist\u001b[0m\u001b[0;34m[\u001b[0m\u001b[0mpkg\u001b[0m\u001b[0;34m]\u001b[0m\u001b[0;34m.\u001b[0m\u001b[0mappend\u001b[0m\u001b[0;34m(\u001b[0m\u001b[0mdist\u001b[0m\u001b[0;34m.\u001b[0m\u001b[0mmetadata\u001b[0m\u001b[0;34m[\u001b[0m\u001b[0;34m'Name'\u001b[0m\u001b[0;34m]\u001b[0m\u001b[0;34m)\u001b[0m\u001b[0;34m\u001b[0m\u001b[0;34m\u001b[0m\u001b[0m\n\u001b[1;32m   1077\u001b[0m     \u001b[0;32mreturn\u001b[0m \u001b[0mdict\u001b[0m\u001b[0;34m(\u001b[0m\u001b[0mpkg_to_dist\u001b[0m\u001b[0;34m)\u001b[0m\u001b[0;34m\u001b[0m\u001b[0;34m\u001b[0m\u001b[0m\n",
            "\u001b[0;32m/usr/lib/python3.11/importlib/metadata/__init__.py\u001b[0m in \u001b[0;36m_top_level_inferred\u001b[0;34m(dist)\u001b[0m\n\u001b[1;32m   1085\u001b[0m     return {\n\u001b[1;32m   1086\u001b[0m         \u001b[0mf\u001b[0m\u001b[0;34m.\u001b[0m\u001b[0mparts\u001b[0m\u001b[0;34m[\u001b[0m\u001b[0;36m0\u001b[0m\u001b[0;34m]\u001b[0m \u001b[0;32mif\u001b[0m \u001b[0mlen\u001b[0m\u001b[0;34m(\u001b[0m\u001b[0mf\u001b[0m\u001b[0;34m.\u001b[0m\u001b[0mparts\u001b[0m\u001b[0;34m)\u001b[0m \u001b[0;34m>\u001b[0m \u001b[0;36m1\u001b[0m \u001b[0;32melse\u001b[0m \u001b[0mf\u001b[0m\u001b[0;34m.\u001b[0m\u001b[0mwith_suffix\u001b[0m\u001b[0;34m(\u001b[0m\u001b[0;34m''\u001b[0m\u001b[0;34m)\u001b[0m\u001b[0;34m.\u001b[0m\u001b[0mname\u001b[0m\u001b[0;34m\u001b[0m\u001b[0;34m\u001b[0m\u001b[0m\n\u001b[0;32m-> 1087\u001b[0;31m         \u001b[0;32mfor\u001b[0m \u001b[0mf\u001b[0m \u001b[0;32min\u001b[0m \u001b[0malways_iterable\u001b[0m\u001b[0;34m(\u001b[0m\u001b[0mdist\u001b[0m\u001b[0;34m.\u001b[0m\u001b[0mfiles\u001b[0m\u001b[0;34m)\u001b[0m\u001b[0;34m\u001b[0m\u001b[0;34m\u001b[0m\u001b[0m\n\u001b[0m\u001b[1;32m   1088\u001b[0m         \u001b[0;32mif\u001b[0m \u001b[0mf\u001b[0m\u001b[0;34m.\u001b[0m\u001b[0msuffix\u001b[0m \u001b[0;34m==\u001b[0m \u001b[0;34m\".py\"\u001b[0m\u001b[0;34m\u001b[0m\u001b[0;34m\u001b[0m\u001b[0m\n\u001b[1;32m   1089\u001b[0m     }\n",
            "\u001b[0;32m/usr/local/lib/python3.11/dist-packages/importlib_metadata/__init__.py\u001b[0m in \u001b[0;36mfiles\u001b[0;34m(self)\u001b[0m\n\u001b[1;32m    602\u001b[0m             \u001b[0;32mreturn\u001b[0m \u001b[0mlist\u001b[0m\u001b[0;34m(\u001b[0m\u001b[0mfilter\u001b[0m\u001b[0;34m(\u001b[0m\u001b[0;32mlambda\u001b[0m \u001b[0mpath\u001b[0m\u001b[0;34m:\u001b[0m \u001b[0mpath\u001b[0m\u001b[0;34m.\u001b[0m\u001b[0mlocate\u001b[0m\u001b[0;34m(\u001b[0m\u001b[0;34m)\u001b[0m\u001b[0;34m.\u001b[0m\u001b[0mexists\u001b[0m\u001b[0;34m(\u001b[0m\u001b[0;34m)\u001b[0m\u001b[0;34m,\u001b[0m \u001b[0mpackage_paths\u001b[0m\u001b[0;34m)\u001b[0m\u001b[0;34m)\u001b[0m\u001b[0;34m\u001b[0m\u001b[0;34m\u001b[0m\u001b[0m\n\u001b[1;32m    603\u001b[0m \u001b[0;34m\u001b[0m\u001b[0m\n\u001b[0;32m--> 604\u001b[0;31m         return skip_missing_files(\n\u001b[0m\u001b[1;32m    605\u001b[0m             make_files(\n\u001b[1;32m    606\u001b[0m                 \u001b[0mself\u001b[0m\u001b[0;34m.\u001b[0m\u001b[0m_read_files_distinfo\u001b[0m\u001b[0;34m(\u001b[0m\u001b[0;34m)\u001b[0m\u001b[0;34m\u001b[0m\u001b[0;34m\u001b[0m\u001b[0m\n",
            "\u001b[0;32m/usr/local/lib/python3.11/dist-packages/importlib_metadata/_functools.py\u001b[0m in \u001b[0;36mwrapper\u001b[0;34m(param, *args, **kwargs)\u001b[0m\n\u001b[1;32m    100\u001b[0m     \u001b[0;32mdef\u001b[0m \u001b[0mwrapper\u001b[0m\u001b[0;34m(\u001b[0m\u001b[0mparam\u001b[0m\u001b[0;34m,\u001b[0m \u001b[0;34m*\u001b[0m\u001b[0margs\u001b[0m\u001b[0;34m,\u001b[0m \u001b[0;34m**\u001b[0m\u001b[0mkwargs\u001b[0m\u001b[0;34m)\u001b[0m\u001b[0;34m:\u001b[0m\u001b[0;34m\u001b[0m\u001b[0;34m\u001b[0m\u001b[0m\n\u001b[1;32m    101\u001b[0m         \u001b[0;32mif\u001b[0m \u001b[0mparam\u001b[0m \u001b[0;32mis\u001b[0m \u001b[0;32mnot\u001b[0m \u001b[0;32mNone\u001b[0m\u001b[0;34m:\u001b[0m\u001b[0;34m\u001b[0m\u001b[0;34m\u001b[0m\u001b[0m\n\u001b[0;32m--> 102\u001b[0;31m             \u001b[0;32mreturn\u001b[0m \u001b[0mfunc\u001b[0m\u001b[0;34m(\u001b[0m\u001b[0mparam\u001b[0m\u001b[0;34m,\u001b[0m \u001b[0;34m*\u001b[0m\u001b[0margs\u001b[0m\u001b[0;34m,\u001b[0m \u001b[0;34m**\u001b[0m\u001b[0mkwargs\u001b[0m\u001b[0;34m)\u001b[0m\u001b[0;34m\u001b[0m\u001b[0;34m\u001b[0m\u001b[0m\n\u001b[0m\u001b[1;32m    103\u001b[0m \u001b[0;34m\u001b[0m\u001b[0m\n\u001b[1;32m    104\u001b[0m     \u001b[0;32mreturn\u001b[0m \u001b[0mwrapper\u001b[0m\u001b[0;34m\u001b[0m\u001b[0;34m\u001b[0m\u001b[0m\n",
            "\u001b[0;32m/usr/local/lib/python3.11/dist-packages/importlib_metadata/__init__.py\u001b[0m in \u001b[0;36mskip_missing_files\u001b[0;34m(package_paths)\u001b[0m\n\u001b[1;32m    600\u001b[0m         \u001b[0;34m@\u001b[0m\u001b[0mpass_none\u001b[0m\u001b[0;34m\u001b[0m\u001b[0;34m\u001b[0m\u001b[0m\n\u001b[1;32m    601\u001b[0m         \u001b[0;32mdef\u001b[0m \u001b[0mskip_missing_files\u001b[0m\u001b[0;34m(\u001b[0m\u001b[0mpackage_paths\u001b[0m\u001b[0;34m)\u001b[0m\u001b[0;34m:\u001b[0m\u001b[0;34m\u001b[0m\u001b[0;34m\u001b[0m\u001b[0m\n\u001b[0;32m--> 602\u001b[0;31m             \u001b[0;32mreturn\u001b[0m \u001b[0mlist\u001b[0m\u001b[0;34m(\u001b[0m\u001b[0mfilter\u001b[0m\u001b[0;34m(\u001b[0m\u001b[0;32mlambda\u001b[0m \u001b[0mpath\u001b[0m\u001b[0;34m:\u001b[0m \u001b[0mpath\u001b[0m\u001b[0;34m.\u001b[0m\u001b[0mlocate\u001b[0m\u001b[0;34m(\u001b[0m\u001b[0;34m)\u001b[0m\u001b[0;34m.\u001b[0m\u001b[0mexists\u001b[0m\u001b[0;34m(\u001b[0m\u001b[0;34m)\u001b[0m\u001b[0;34m,\u001b[0m \u001b[0mpackage_paths\u001b[0m\u001b[0;34m)\u001b[0m\u001b[0;34m)\u001b[0m\u001b[0;34m\u001b[0m\u001b[0;34m\u001b[0m\u001b[0m\n\u001b[0m\u001b[1;32m    603\u001b[0m \u001b[0;34m\u001b[0m\u001b[0m\n\u001b[1;32m    604\u001b[0m         return skip_missing_files(\n",
            "\u001b[0;32m/usr/local/lib/python3.11/dist-packages/importlib_metadata/__init__.py\u001b[0m in \u001b[0;36m<lambda>\u001b[0;34m(path)\u001b[0m\n\u001b[1;32m    600\u001b[0m         \u001b[0;34m@\u001b[0m\u001b[0mpass_none\u001b[0m\u001b[0;34m\u001b[0m\u001b[0;34m\u001b[0m\u001b[0m\n\u001b[1;32m    601\u001b[0m         \u001b[0;32mdef\u001b[0m \u001b[0mskip_missing_files\u001b[0m\u001b[0;34m(\u001b[0m\u001b[0mpackage_paths\u001b[0m\u001b[0;34m)\u001b[0m\u001b[0;34m:\u001b[0m\u001b[0;34m\u001b[0m\u001b[0;34m\u001b[0m\u001b[0m\n\u001b[0;32m--> 602\u001b[0;31m             \u001b[0;32mreturn\u001b[0m \u001b[0mlist\u001b[0m\u001b[0;34m(\u001b[0m\u001b[0mfilter\u001b[0m\u001b[0;34m(\u001b[0m\u001b[0;32mlambda\u001b[0m \u001b[0mpath\u001b[0m\u001b[0;34m:\u001b[0m \u001b[0mpath\u001b[0m\u001b[0;34m.\u001b[0m\u001b[0mlocate\u001b[0m\u001b[0;34m(\u001b[0m\u001b[0;34m)\u001b[0m\u001b[0;34m.\u001b[0m\u001b[0mexists\u001b[0m\u001b[0;34m(\u001b[0m\u001b[0;34m)\u001b[0m\u001b[0;34m,\u001b[0m \u001b[0mpackage_paths\u001b[0m\u001b[0;34m)\u001b[0m\u001b[0;34m)\u001b[0m\u001b[0;34m\u001b[0m\u001b[0;34m\u001b[0m\u001b[0m\n\u001b[0m\u001b[1;32m    603\u001b[0m \u001b[0;34m\u001b[0m\u001b[0m\n\u001b[1;32m    604\u001b[0m         return skip_missing_files(\n",
            "\u001b[0;32m/usr/lib/python3.11/pathlib.py\u001b[0m in \u001b[0;36mexists\u001b[0;34m(self)\u001b[0m\n\u001b[1;32m   1233\u001b[0m         \"\"\"\n\u001b[1;32m   1234\u001b[0m         \u001b[0;32mtry\u001b[0m\u001b[0;34m:\u001b[0m\u001b[0;34m\u001b[0m\u001b[0;34m\u001b[0m\u001b[0m\n\u001b[0;32m-> 1235\u001b[0;31m             \u001b[0mself\u001b[0m\u001b[0;34m.\u001b[0m\u001b[0mstat\u001b[0m\u001b[0;34m(\u001b[0m\u001b[0;34m)\u001b[0m\u001b[0;34m\u001b[0m\u001b[0;34m\u001b[0m\u001b[0m\n\u001b[0m\u001b[1;32m   1236\u001b[0m         \u001b[0;32mexcept\u001b[0m \u001b[0mOSError\u001b[0m \u001b[0;32mas\u001b[0m \u001b[0me\u001b[0m\u001b[0;34m:\u001b[0m\u001b[0;34m\u001b[0m\u001b[0;34m\u001b[0m\u001b[0m\n\u001b[1;32m   1237\u001b[0m             \u001b[0;32mif\u001b[0m \u001b[0;32mnot\u001b[0m \u001b[0m_ignore_error\u001b[0m\u001b[0;34m(\u001b[0m\u001b[0me\u001b[0m\u001b[0;34m)\u001b[0m\u001b[0;34m:\u001b[0m\u001b[0;34m\u001b[0m\u001b[0;34m\u001b[0m\u001b[0m\n",
            "\u001b[0;32m/usr/lib/python3.11/pathlib.py\u001b[0m in \u001b[0;36mstat\u001b[0;34m(self, follow_symlinks)\u001b[0m\n\u001b[1;32m   1011\u001b[0m         \u001b[0mos\u001b[0m\u001b[0;34m.\u001b[0m\u001b[0mstat\u001b[0m\u001b[0;34m(\u001b[0m\u001b[0;34m)\u001b[0m \u001b[0mdoes\u001b[0m\u001b[0;34m.\u001b[0m\u001b[0;34m\u001b[0m\u001b[0;34m\u001b[0m\u001b[0m\n\u001b[1;32m   1012\u001b[0m         \"\"\"\n\u001b[0;32m-> 1013\u001b[0;31m         \u001b[0;32mreturn\u001b[0m \u001b[0mos\u001b[0m\u001b[0;34m.\u001b[0m\u001b[0mstat\u001b[0m\u001b[0;34m(\u001b[0m\u001b[0mself\u001b[0m\u001b[0;34m,\u001b[0m \u001b[0mfollow_symlinks\u001b[0m\u001b[0;34m=\u001b[0m\u001b[0mfollow_symlinks\u001b[0m\u001b[0;34m)\u001b[0m\u001b[0;34m\u001b[0m\u001b[0;34m\u001b[0m\u001b[0m\n\u001b[0m\u001b[1;32m   1014\u001b[0m \u001b[0;34m\u001b[0m\u001b[0m\n\u001b[1;32m   1015\u001b[0m     \u001b[0;32mdef\u001b[0m \u001b[0mowner\u001b[0m\u001b[0;34m(\u001b[0m\u001b[0mself\u001b[0m\u001b[0;34m)\u001b[0m\u001b[0;34m:\u001b[0m\u001b[0;34m\u001b[0m\u001b[0;34m\u001b[0m\u001b[0m\n",
            "\u001b[0;32m/usr/lib/python3.11/pathlib.py\u001b[0m in \u001b[0;36m__fspath__\u001b[0;34m(self)\u001b[0m\n\u001b[1;32m    545\u001b[0m \u001b[0;34m\u001b[0m\u001b[0m\n\u001b[1;32m    546\u001b[0m     \u001b[0;32mdef\u001b[0m \u001b[0m__fspath__\u001b[0m\u001b[0;34m(\u001b[0m\u001b[0mself\u001b[0m\u001b[0;34m)\u001b[0m\u001b[0;34m:\u001b[0m\u001b[0;34m\u001b[0m\u001b[0;34m\u001b[0m\u001b[0m\n\u001b[0;32m--> 547\u001b[0;31m         \u001b[0;32mreturn\u001b[0m \u001b[0mstr\u001b[0m\u001b[0;34m(\u001b[0m\u001b[0mself\u001b[0m\u001b[0;34m)\u001b[0m\u001b[0;34m\u001b[0m\u001b[0;34m\u001b[0m\u001b[0m\n\u001b[0m\u001b[1;32m    548\u001b[0m \u001b[0;34m\u001b[0m\u001b[0m\n\u001b[1;32m    549\u001b[0m     \u001b[0;32mdef\u001b[0m \u001b[0mas_posix\u001b[0m\u001b[0;34m(\u001b[0m\u001b[0mself\u001b[0m\u001b[0;34m)\u001b[0m\u001b[0;34m:\u001b[0m\u001b[0;34m\u001b[0m\u001b[0;34m\u001b[0m\u001b[0m\n",
            "\u001b[0;32m/usr/lib/python3.11/pathlib.py\u001b[0m in \u001b[0;36m__str__\u001b[0;34m(self)\u001b[0m\n\u001b[1;32m    540\u001b[0m             \u001b[0;32mreturn\u001b[0m \u001b[0mself\u001b[0m\u001b[0;34m.\u001b[0m\u001b[0m_str\u001b[0m\u001b[0;34m\u001b[0m\u001b[0;34m\u001b[0m\u001b[0m\n\u001b[1;32m    541\u001b[0m         \u001b[0;32mexcept\u001b[0m \u001b[0mAttributeError\u001b[0m\u001b[0;34m:\u001b[0m\u001b[0;34m\u001b[0m\u001b[0;34m\u001b[0m\u001b[0m\n\u001b[0;32m--> 542\u001b[0;31m             self._str = self._format_parsed_parts(self._drv, self._root,\n\u001b[0m\u001b[1;32m    543\u001b[0m                                                   self._parts) or '.'\n\u001b[1;32m    544\u001b[0m             \u001b[0;32mreturn\u001b[0m \u001b[0mself\u001b[0m\u001b[0;34m.\u001b[0m\u001b[0m_str\u001b[0m\u001b[0;34m\u001b[0m\u001b[0;34m\u001b[0m\u001b[0m\n",
            "\u001b[0;32m/usr/lib/python3.11/pathlib.py\u001b[0m in \u001b[0;36m_format_parsed_parts\u001b[0;34m(cls, drv, root, parts)\u001b[0m\n\u001b[1;32m    524\u001b[0m     \u001b[0;32mdef\u001b[0m \u001b[0m_format_parsed_parts\u001b[0m\u001b[0;34m(\u001b[0m\u001b[0mcls\u001b[0m\u001b[0;34m,\u001b[0m \u001b[0mdrv\u001b[0m\u001b[0;34m,\u001b[0m \u001b[0mroot\u001b[0m\u001b[0;34m,\u001b[0m \u001b[0mparts\u001b[0m\u001b[0;34m)\u001b[0m\u001b[0;34m:\u001b[0m\u001b[0;34m\u001b[0m\u001b[0;34m\u001b[0m\u001b[0m\n\u001b[1;32m    525\u001b[0m         \u001b[0;32mif\u001b[0m \u001b[0mdrv\u001b[0m \u001b[0;32mor\u001b[0m \u001b[0mroot\u001b[0m\u001b[0;34m:\u001b[0m\u001b[0;34m\u001b[0m\u001b[0;34m\u001b[0m\u001b[0m\n\u001b[0;32m--> 526\u001b[0;31m             \u001b[0;32mreturn\u001b[0m \u001b[0mdrv\u001b[0m \u001b[0;34m+\u001b[0m \u001b[0mroot\u001b[0m \u001b[0;34m+\u001b[0m \u001b[0mcls\u001b[0m\u001b[0;34m.\u001b[0m\u001b[0m_flavour\u001b[0m\u001b[0;34m.\u001b[0m\u001b[0mjoin\u001b[0m\u001b[0;34m(\u001b[0m\u001b[0mparts\u001b[0m\u001b[0;34m[\u001b[0m\u001b[0;36m1\u001b[0m\u001b[0;34m:\u001b[0m\u001b[0;34m]\u001b[0m\u001b[0;34m)\u001b[0m\u001b[0;34m\u001b[0m\u001b[0;34m\u001b[0m\u001b[0m\n\u001b[0m\u001b[1;32m    527\u001b[0m         \u001b[0;32melse\u001b[0m\u001b[0;34m:\u001b[0m\u001b[0;34m\u001b[0m\u001b[0;34m\u001b[0m\u001b[0m\n\u001b[1;32m    528\u001b[0m             \u001b[0;32mreturn\u001b[0m \u001b[0mcls\u001b[0m\u001b[0;34m.\u001b[0m\u001b[0m_flavour\u001b[0m\u001b[0;34m.\u001b[0m\u001b[0mjoin\u001b[0m\u001b[0;34m(\u001b[0m\u001b[0mparts\u001b[0m\u001b[0;34m)\u001b[0m\u001b[0;34m\u001b[0m\u001b[0;34m\u001b[0m\u001b[0m\n",
            "\u001b[0;31mKeyboardInterrupt\u001b[0m: "
          ]
        }
      ],
      "source": [
        "# @title Install and import feedback gadget\n",
        "\n",
        "!pip3 install vibecheck datatops --quiet\n",
        "\n",
        "from vibecheck import DatatopsContentReviewContainer\n",
        "def content_review(notebook_section: str):\n",
        "    return DatatopsContentReviewContainer(\n",
        "        \"\",  # No text prompt\n",
        "        notebook_section,\n",
        "        {\n",
        "            \"url\": \"https://pmyvdlilci.execute-api.us-east-1.amazonaws.com/klab\",\n",
        "            \"name\": \"neuromatch_cn\",\n",
        "            \"user_key\": \"y1x3mpx5\",\n",
        "        },\n",
        "    ).render()\n",
        "\n",
        "\n",
        "feedback_prefix = \"W3D2_T2\""
      ]
    },
    {
      "cell_type": "code",
      "execution_count": 3,
      "metadata": {
        "execution": {},
        "id": "s9UUa_j1OgQk"
      },
      "outputs": [],
      "source": [
        "# Imports\n",
        "import numpy as np\n",
        "import time\n",
        "from scipy import stats\n",
        "from scipy.optimize import linear_sum_assignment\n",
        "from collections import namedtuple\n",
        "import matplotlib.pyplot as plt\n",
        "from matplotlib import patches"
      ]
    },
    {
      "cell_type": "code",
      "execution_count": 4,
      "metadata": {
        "cellView": "form",
        "execution": {},
        "id": "Qw7MCMtNOgQk"
      },
      "outputs": [],
      "source": [
        "# @title Figure Settings\n",
        "import logging\n",
        "logging.getLogger('matplotlib.font_manager').disabled = True\n",
        "\n",
        "import ipywidgets as widgets  # interactive display\n",
        "from ipywidgets import interactive, interact, HBox, Layout,VBox\n",
        "from IPython.display import HTML\n",
        "%config InlineBackend.figure_format = 'retina'\n",
        "plt.style.use(\"https://raw.githubusercontent.com/NeuromatchAcademy/course-content/NMA2020/nma.mplstyle\")"
      ]
    },
    {
      "cell_type": "code",
      "execution_count": 5,
      "metadata": {
        "cellView": "form",
        "execution": {},
        "id": "iu-FN8GAOgQl"
      },
      "outputs": [],
      "source": [
        "# @title Plotting Functions\n",
        "\n",
        "def plot_hmm1(model, states, measurements, flag_m=True):\n",
        "  \"\"\"Plots HMM states and measurements for 1d states and measurements.\n",
        "\n",
        "  Args:\n",
        "    model (hmmlearn model):               hmmlearn model used to get state means.\n",
        "    states (numpy array of floats):       Samples of the states.\n",
        "    measurements (numpy array of floats): Samples of the states.\n",
        "  \"\"\"\n",
        "  T = states.shape[0]\n",
        "  nsteps = states.size\n",
        "  aspect_ratio = 2\n",
        "  fig, ax1 = plt.subplots(figsize=(8,4))\n",
        "  states_forplot = list(map(lambda s: model.means[s], states))\n",
        "  ax1.step(np.arange(nstep), states_forplot, \"-\", where=\"mid\", alpha=1.0, c=\"green\")\n",
        "  ax1.set_xlabel(\"Time\")\n",
        "  ax1.set_ylabel(\"Latent State\", c=\"green\")\n",
        "  ax1.set_yticks([-1, 1])\n",
        "  ax1.set_yticklabels([\"-1\", \"+1\"])\n",
        "  ax1.set_xticks(np.arange(0,T,10))\n",
        "  ymin = min(measurements)\n",
        "  ymax = max(measurements)\n",
        "\n",
        "  ax2 = ax1.twinx()\n",
        "  ax2.set_ylabel(\"Measurements\", c=\"crimson\")\n",
        "\n",
        "  # show measurement gaussian\n",
        "  if flag_m:\n",
        "    ax2.plot([T,T],ax2.get_ylim(), color=\"maroon\", alpha=0.6)\n",
        "    for i in range(model.n_components):\n",
        "      mu = model.means[i]\n",
        "      scale = np.sqrt(model.vars[i])\n",
        "      rv = stats.norm(mu, scale)\n",
        "      num_points = 50\n",
        "      domain = np.linspace(mu-3*scale, mu+3*scale, num_points)\n",
        "\n",
        "      left = np.repeat(float(T), num_points)\n",
        "      # left = np.repeat(0.0, num_points)\n",
        "      offset = rv.pdf(domain)\n",
        "      offset *= T / 15\n",
        "      lbl = \"measurement\" if i == 0 else \"\"\n",
        "      # ax2.fill_betweenx(domain, left, left-offset, alpha=0.3, lw=2, color=\"maroon\", label=lbl)\n",
        "      ax2.fill_betweenx(domain, left+offset, left, alpha=0.3, lw=2, color=\"maroon\", label=lbl)\n",
        "      ax2.scatter(np.arange(nstep), measurements, c=\"crimson\", s=4)\n",
        "      ax2.legend(loc=\"upper left\")\n",
        "    ax1.set_ylim(ax2.get_ylim())\n",
        "  plt.show(fig)\n",
        "\n",
        "\n",
        "def plot_marginal_seq(predictive_probs, switch_prob):\n",
        "  \"\"\"Plots the sequence of marginal predictive distributions.\n",
        "\n",
        "    Args:\n",
        "      predictive_probs (list of numpy vectors): sequence of predictive probability vectors\n",
        "      switch_prob (float):                      Probability of switching states.\n",
        "  \"\"\"\n",
        "  T = len(predictive_probs)\n",
        "  prob_neg = [p_vec[0] for p_vec in predictive_probs]\n",
        "  prob_pos = [p_vec[1] for p_vec in predictive_probs]\n",
        "  fig, ax = plt.subplots()\n",
        "  ax.plot(np.arange(T), prob_neg, color=\"blue\")\n",
        "  ax.plot(np.arange(T), prob_pos, color=\"orange\")\n",
        "  ax.legend([\n",
        "    \"prob in state -1\", \"prob in state 1\"\n",
        "  ])\n",
        "  ax.text(T/2, 0.05, \"switching probability={}\".format(switch_prob), fontsize=12,\n",
        "          bbox=dict(boxstyle=\"round\", facecolor=\"wheat\", alpha=0.6))\n",
        "  ax.set_xlabel(\"Time\")\n",
        "  ax.set_ylabel(\"Probability\")\n",
        "  ax.set_title(\"Forgetting curve in a changing world\")\n",
        "  plt.show(fig)\n",
        "\n",
        "\n",
        "def plot_evidence_vs_noevidence(posterior_matrix, predictive_probs):\n",
        "  \"\"\"Plots the average posterior probabilities with evidence v.s. no evidence\n",
        "\n",
        "  Args:\n",
        "    posterior_matrix: (2d numpy array of floats): The posterior probabilities in state 1 from evidence (samples, time)\n",
        "    predictive_probs (numpy array of floats):  Predictive probabilities in state 1 without evidence\n",
        "  \"\"\"\n",
        "  nsample, T = posterior_matrix.shape\n",
        "  posterior_mean = posterior_matrix.mean(axis=0)\n",
        "  fig, ax = plt.subplots(1)\n",
        "  ax.plot([0.0, T], [0., 0.], color=\"red\", linestyle=\"dashed\")\n",
        "  ax.plot(np.arange(T), predictive_probs, c=\"orange\", linewidth=2, label=\"No evidence\")\n",
        "  ax.scatter(np.tile(np.arange(T), (nsample, 1)), posterior_matrix, s=0.8,\n",
        "             c=\"green\", alpha=0.3, label=\"With evidence(Sample)\")\n",
        "  ax.plot(np.arange(T), posterior_mean, c='green',\n",
        "          linewidth=2, label=\"With evidence(Average)\")\n",
        "  ax.legend()\n",
        "  ax.set_yticks([0.0, 0.25, 0.5, 0.75, 1.0])\n",
        "  ax.set_xlabel(\"Time\")\n",
        "  ax.set_ylabel(\"Probability in State +1\")\n",
        "  ax.set_title(\"Gain confidence with evidence\")\n",
        "  plt.show(fig)\n",
        "\n",
        "\n",
        "def plot_forward_inference(model, states, measurements, states_inferred,\n",
        "                           predictive_probs, likelihoods, posterior_probs,\n",
        "                           t=None, flag_m=True, flag_d=True, flag_pre=True,\n",
        "                           flag_like=True, flag_post=True):\n",
        "  \"\"\"Plot ground truth state sequence with noisy measurements, and ground truth states v.s. inferred ones\n",
        "\n",
        "      Args:\n",
        "          model (instance of hmmlearn.GaussianHMM): an instance of HMM\n",
        "          states (numpy vector): vector of 0 or 1(int or Bool), the sequences of true latent states\n",
        "          measurements (numpy vector of numpy vector): the un-flattened Gaussian measurements at each time point, element has size (1,)\n",
        "          states_inferred (numpy vector): vector of 0 or 1(int or Bool), the sequences of inferred latent states\n",
        "  \"\"\"\n",
        "  T = states.shape[0]\n",
        "  if t is None:\n",
        "    t = T-1\n",
        "  nsteps = states.size\n",
        "  fig, ax1 = plt.subplots(figsize=(11,6))\n",
        "  # true states\n",
        "  states_forplot = list(map(lambda s: model.means[s], states))\n",
        "  ax1.step(np.arange(nstep)[:t+1], states_forplot[:t+1], \"-\", where=\"mid\", alpha=1.0, c=\"green\", label=\"true\")\n",
        "  ax1.step(np.arange(nstep)[t+1:], states_forplot[t+1:], \"-\", where=\"mid\", alpha=0.3, c=\"green\", label=\"\")\n",
        "  # Posterior curve\n",
        "  delta = model.means[1] - model.means[0]\n",
        "  states_interpolation = model.means[0] + delta * posterior_probs[:,1]\n",
        "  if flag_post:\n",
        "    ax1.step(np.arange(nstep)[:t+1], states_interpolation[:t+1], \"-\", where=\"mid\", c=\"grey\", label=\"posterior\")\n",
        "\n",
        "  ax1.set_xlabel(\"Time\")\n",
        "  ax1.set_ylabel(\"Latent State\", c=\"green\")\n",
        "  ax1.set_yticks([-1, 1])\n",
        "  ax1.set_yticklabels([\"-1\", \"+1\"])\n",
        "  ax1.legend(bbox_to_anchor=(0,1.02,0.2,0.1), borderaxespad=0, ncol=2)\n",
        "\n",
        "  ax2 = ax1.twinx()\n",
        "  ax2.set_ylim(\n",
        "      min(-1.2, np.min(measurements)),\n",
        "      max(1.2, np.max(measurements))\n",
        "      )\n",
        "  if flag_d:\n",
        "    ax2.scatter(np.arange(nstep)[:t+1], measurements[:t+1], c=\"crimson\", s=4, label=\"measurement\")\n",
        "    ax2.set_ylabel(\"Measurements\", c=\"crimson\")\n",
        "\n",
        "  # show measurement distributions\n",
        "  if flag_m:\n",
        "    for i in range(model.n_components):\n",
        "      mu = model.means[i]\n",
        "      scale = np.sqrt(model.vars[i])\n",
        "      rv = stats.norm(mu, scale)\n",
        "      num_points = 50\n",
        "      domain = np.linspace(mu-3*scale, mu+3*scale, num_points)\n",
        "\n",
        "      left = np.repeat(float(T), num_points)\n",
        "      offset = rv.pdf(domain)\n",
        "      offset *= T /15\n",
        "      lbl = \"\"\n",
        "      ax2.fill_betweenx(domain, left+offset, left, alpha=0.3, lw=2, color=\"maroon\", label=lbl)\n",
        "  ymin, ymax = ax2.get_ylim()\n",
        "  width = 0.1 * (ymax-ymin) / 2.0\n",
        "  centers = [-1.0, 1.0]\n",
        "  bar_scale = 15\n",
        "\n",
        "  # Predictions\n",
        "  data = predictive_probs\n",
        "  if flag_pre:\n",
        "    for i in range(model.n_components):\n",
        "      domain = np.array([centers[i]-1.5*width, centers[i]-0.5*width])\n",
        "      left = np.array([t,t])\n",
        "      offset = np.array([data[t,i]]*2)\n",
        "      offset *= bar_scale\n",
        "      lbl = \"todays prior\" if i == 0 else \"\"\n",
        "      ax2.fill_betweenx(domain, left+offset, left, alpha=0.3, lw=2, color=\"dodgerblue\", label=lbl)\n",
        "\n",
        "  # Likelihoods\n",
        "  data = likelihoods\n",
        "  data /= np.sum(data,axis=-1, keepdims=True)\n",
        "  if flag_like:\n",
        "    for i in range(model.n_components):\n",
        "      domain = np.array([centers[i]+0.5*width, centers[i]+1.5*width])\n",
        "      left = np.array([t,t])\n",
        "      offset = np.array([data[t,i]]*2)\n",
        "      offset *= bar_scale\n",
        "      lbl = \"likelihood\" if i == 0 else \"\"\n",
        "      ax2.fill_betweenx(domain, left+offset, left, alpha=0.3, lw=2, color=\"crimson\", label=lbl)\n",
        "  # Posteriors\n",
        "  data = posterior_probs\n",
        "  if flag_post:\n",
        "    for i in range(model.n_components):\n",
        "      domain = np.array([centers[i]-0.5*width, centers[i]+0.5*width])\n",
        "      left = np.array([t,t])\n",
        "      offset = np.array([data[t,i]]*2)\n",
        "      offset *= bar_scale\n",
        "      lbl = \"posterior\" if i == 0 else \"\"\n",
        "      ax2.fill_betweenx(domain, left+offset, left, alpha=0.3, lw=2, color=\"grey\", label=lbl)\n",
        "  if t<T-1:\n",
        "    ax2.plot([t,t],ax2.get_ylim(), color='black',alpha=0.6)\n",
        "  if flag_pre or flag_like or flag_post:\n",
        "    ax2.plot([t,t],ax2.get_ylim(), color='black',alpha=0.6)\n",
        "\n",
        "    ax2.legend(bbox_to_anchor=(0.4,1.02,0.6, 0.1), borderaxespad=0, ncol=4)\n",
        "  ax1.set_ylim(ax2.get_ylim())\n",
        "  return fig\n",
        "  # plt.show(fig)"
      ]
    },
    {
      "cell_type": "markdown",
      "metadata": {
        "execution": {},
        "id": "HODl0pGvOgQl"
      },
      "source": [
        "---\n",
        "# Section 0: Introduction"
      ]
    },
    {
      "cell_type": "code",
      "execution_count": 7,
      "metadata": {
        "cellView": "form",
        "execution": {},
        "id": "q5103tMwOgQm",
        "colab": {
          "base_uri": "https://localhost:8080/",
          "height": 580,
          "referenced_widgets": [
            "3e153ac5af9e48dfb3ab12b6a673013e",
            "6a68490c497846059a0fa437f5f34e7b",
            "9419a551ec4746cba5fc980e91f147d3",
            "2b8349806f9241f19d2690547a7c405f",
            "f593874ade294edab786708f757ba62a",
            "10da3467e3b84135a23ce324bbcd9d8b"
          ]
        },
        "outputId": "6135d629-d7b2-4468-cff6-dfd74f0e160a"
      },
      "outputs": [
        {
          "output_type": "display_data",
          "data": {
            "text/plain": [
              "Tab(children=(Output(), Output()), _titles={'0': 'Youtube', '1': 'Bilibili'})"
            ],
            "application/vnd.jupyter.widget-view+json": {
              "version_major": 2,
              "version_minor": 0,
              "model_id": "3e153ac5af9e48dfb3ab12b6a673013e"
            }
          },
          "metadata": {}
        }
      ],
      "source": [
        "# @title Video 1: Introduction\n",
        "from ipywidgets import widgets\n",
        "from IPython.display import YouTubeVideo\n",
        "from IPython.display import IFrame\n",
        "from IPython.display import display\n",
        "\n",
        "\n",
        "class PlayVideo(IFrame):\n",
        "  def __init__(self, id, source, page=1, width=400, height=300, **kwargs):\n",
        "    self.id = id\n",
        "    if source == 'Bilibili':\n",
        "      src = f'https://player.bilibili.com/player.html?bvid={id}&page={page}'\n",
        "    elif source == 'Osf':\n",
        "      src = f'https://mfr.ca-1.osf.io/render?url=https://osf.io/download/{id}/?direct%26mode=render'\n",
        "    super(PlayVideo, self).__init__(src, width, height, **kwargs)\n",
        "\n",
        "\n",
        "def display_videos(video_ids, W=400, H=300, fs=1):\n",
        "  tab_contents = []\n",
        "  for i, video_id in enumerate(video_ids):\n",
        "    out = widgets.Output()\n",
        "    with out:\n",
        "      if video_ids[i][0] == 'Youtube':\n",
        "        video = YouTubeVideo(id=video_ids[i][1], width=W,\n",
        "                             height=H, fs=fs, rel=0)\n",
        "        print(f'Video available at https://youtube.com/watch?v={video.id}')\n",
        "      else:\n",
        "        video = PlayVideo(id=video_ids[i][1], source=video_ids[i][0], width=W,\n",
        "                          height=H, fs=fs, autoplay=False)\n",
        "        if video_ids[i][0] == 'Bilibili':\n",
        "          print(f'Video available at https://www.bilibili.com/video/{video.id}')\n",
        "        elif video_ids[i][0] == 'Osf':\n",
        "          print(f'Video available at https://osf.io/{video.id}')\n",
        "      display(video)\n",
        "    tab_contents.append(out)\n",
        "  return tab_contents\n",
        "\n",
        "\n",
        "video_ids = [('Youtube', 'pIXxVl1A4l0'), ('Bilibili', 'BV1Hh411r7JE')]\n",
        "tab_contents = display_videos(video_ids, W=854, H=480)\n",
        "tabs = widgets.Tab()\n",
        "tabs.children = tab_contents\n",
        "for i in range(len(tab_contents)):\n",
        "  tabs.set_title(i, video_ids[i][0])\n",
        "display(tabs)"
      ]
    },
    {
      "cell_type": "code",
      "execution_count": 8,
      "metadata": {
        "cellView": "form",
        "execution": {},
        "id": "Q2kixIoWOgQm",
        "colab": {
          "base_uri": "https://localhost:8080/",
          "height": 158
        },
        "outputId": "62a5e68a-6e84-4fab-e385-1755a910bdae"
      },
      "outputs": [
        {
          "output_type": "error",
          "ename": "NameError",
          "evalue": "name 'content_review' is not defined",
          "traceback": [
            "\u001b[0;31m---------------------------------------------------------------------------\u001b[0m",
            "\u001b[0;31mNameError\u001b[0m                                 Traceback (most recent call last)",
            "\u001b[0;32m/tmp/ipython-input-8-800912956.py\u001b[0m in \u001b[0;36m<cell line: 0>\u001b[0;34m()\u001b[0m\n\u001b[1;32m      1\u001b[0m \u001b[0;31m# @title Submit your feedback\u001b[0m\u001b[0;34m\u001b[0m\u001b[0;34m\u001b[0m\u001b[0m\n\u001b[0;32m----> 2\u001b[0;31m \u001b[0mcontent_review\u001b[0m\u001b[0;34m(\u001b[0m\u001b[0;34mf\"{feedback_prefix}_Introduction_Video\"\u001b[0m\u001b[0;34m)\u001b[0m\u001b[0;34m\u001b[0m\u001b[0;34m\u001b[0m\u001b[0m\n\u001b[0m",
            "\u001b[0;31mNameError\u001b[0m: name 'content_review' is not defined"
          ]
        }
      ],
      "source": [
        "# @title Submit your feedback\n",
        "content_review(f\"{feedback_prefix}_Introduction_Video\")"
      ]
    },
    {
      "cell_type": "markdown",
      "metadata": {
        "execution": {},
        "id": "f4265ECWOgQn"
      },
      "source": [
        "---\n",
        "# Section 1: Binary HMM with Gaussian measurements\n",
        "\n",
        "In contrast to last tutorial, the latent state in an HMM is not fixed, but may switch to a different state at each time step. The time dependence is simple: the probability of the state at time $t$ is wholly determined by the state at time $t-1$. This is called called the **Markov property** and the dependency of the whole state sequence $\\{s_1,...,s_t\\}$ can be described by a chain structure called a Markov Chain. You have seen a Markov chain in the [pre-reqs Statistics day](https://compneuro.neuromatch.io/tutorials/W0D5_Statistics/student/W0D5_Tutorial2.html#section-1-2-markov-chains) and in the [Linear Systems Tutorial 2](https://compneuro.neuromatch.io/tutorials/W2D2_LinearSystems/student/W2D2_Tutorial2.html).\n",
        "\n",
        "\n",
        "**Markov model for binary latent dynamics**\n",
        "\n",
        "Let's reuse the binary switching process you saw in the [Linear Systems Tutorial 2](https://compneuro.neuromatch.io/tutorials/W2D2_LinearSystems/student/W2D2_Tutorial2.html): our state can be either +1 or -1. The probability of switching to state $s_t=j$ from the previous state $s_{t-1}=i$ is the conditional probability distribution $p(s_t = j| s_{t-1} = i)$. We can summarize these as a $2\\times 2$ matrix we will denote $D$ for Dynamics.\n",
        "\n",
        "\\begin{align}\n",
        "D = \\begin{bmatrix}p(s_t = +1 | s_{t-1} = +1) & p(s_t = -1 | s_{t-1} = +1)\\\\p(s_t = +1 | s_{t-1} = -1)& p(s_t = -1 | s_{t-1} = -1)\\end{bmatrix}\n",
        "\\end{align}\n",
        "\n",
        "$D_{ij}$ represents the transition probability to switch from state $i$ to state $j$ at next time step. Please note that this is in contrast to the meaning used in the intro and in Linear Systems (their transition matrices are the transpose of ours) but syncs with the [pre-reqs Statistics day](https://compneuro.neuromatch.io/tutorials/W0D5_Statistics/student/W0D5_Tutorial2.html#section-1-2-markov-chains).\n",
        "\n",
        "We can represent the probability of the _current_ state as a 2-dimensional vector\n",
        "\n",
        "\\begin{equation}\n",
        "P_t = [p(s_t = +1), p(s_t = -1)]\n",
        "\\end{equation}\n",
        "\n",
        "The entries are the probability that the current state is +1 and the probability that the current state is -1 so these must sum up to 1.\n",
        "\n",
        "We then update the probabilities over time following the Markov process:\n",
        "\n",
        "\\begin{equation}\n",
        "P_{t}= P_{t-1}D \\tag{1}\n",
        "\\end{equation}\n",
        "\n",
        "If you know the state, the entries of $P_{t-1}$ would be either 1 or 0 as there is no uncertainty.\n",
        "\n",
        "**Measurements**\n",
        "\n",
        "In a _Hidden Markov Model_, we cannot directly observe the latent states $s_t$. Instead we get noisy measurements $m_t\\sim p(m|s_t)$."
      ]
    },
    {
      "cell_type": "code",
      "execution_count": 9,
      "metadata": {
        "cellView": "form",
        "execution": {},
        "id": "gA4S-p2aOgQn",
        "colab": {
          "base_uri": "https://localhost:8080/",
          "height": 580,
          "referenced_widgets": [
            "1a123548c13241d9903d270d9cbe04bd",
            "3d22ca21fc0947d0b4b35ce24e1625e8",
            "085633c3730d4fc298fc27870f5659c9",
            "15d69b2b873a473b9dd0d154c477348c",
            "612244c90fce4b9b8549faf74d61d708",
            "c53c4cf153b94dceb26790b63ccc9ebe"
          ]
        },
        "outputId": "19a6cfed-242e-4360-b409-38f41e863a9b"
      },
      "outputs": [
        {
          "output_type": "display_data",
          "data": {
            "text/plain": [
              "Tab(children=(Output(), Output()), _titles={'0': 'Youtube', '1': 'Bilibili'})"
            ],
            "application/vnd.jupyter.widget-view+json": {
              "version_major": 2,
              "version_minor": 0,
              "model_id": "1a123548c13241d9903d270d9cbe04bd"
            }
          },
          "metadata": {}
        }
      ],
      "source": [
        "# @title Video 2: Binary HMM with Gaussian measurements\n",
        "from ipywidgets import widgets\n",
        "from IPython.display import YouTubeVideo\n",
        "from IPython.display import IFrame\n",
        "from IPython.display import display\n",
        "\n",
        "\n",
        "class PlayVideo(IFrame):\n",
        "  def __init__(self, id, source, page=1, width=400, height=300, **kwargs):\n",
        "    self.id = id\n",
        "    if source == 'Bilibili':\n",
        "      src = f'https://player.bilibili.com/player.html?bvid={id}&page={page}'\n",
        "    elif source == 'Osf':\n",
        "      src = f'https://mfr.ca-1.osf.io/render?url=https://osf.io/download/{id}/?direct%26mode=render'\n",
        "    super(PlayVideo, self).__init__(src, width, height, **kwargs)\n",
        "\n",
        "\n",
        "def display_videos(video_ids, W=400, H=300, fs=1):\n",
        "  tab_contents = []\n",
        "  for i, video_id in enumerate(video_ids):\n",
        "    out = widgets.Output()\n",
        "    with out:\n",
        "      if video_ids[i][0] == 'Youtube':\n",
        "        video = YouTubeVideo(id=video_ids[i][1], width=W,\n",
        "                             height=H, fs=fs, rel=0)\n",
        "        print(f'Video available at https://youtube.com/watch?v={video.id}')\n",
        "      else:\n",
        "        video = PlayVideo(id=video_ids[i][1], source=video_ids[i][0], width=W,\n",
        "                          height=H, fs=fs, autoplay=False)\n",
        "        if video_ids[i][0] == 'Bilibili':\n",
        "          print(f'Video available at https://www.bilibili.com/video/{video.id}')\n",
        "        elif video_ids[i][0] == 'Osf':\n",
        "          print(f'Video available at https://osf.io/{video.id}')\n",
        "      display(video)\n",
        "    tab_contents.append(out)\n",
        "  return tab_contents\n",
        "\n",
        "\n",
        "video_ids = [('Youtube', 'z6KbKILMIPU'), ('Bilibili', 'BV1Sw41197Mj')]\n",
        "tab_contents = display_videos(video_ids, W=854, H=480)\n",
        "tabs = widgets.Tab()\n",
        "tabs.children = tab_contents\n",
        "for i in range(len(tab_contents)):\n",
        "  tabs.set_title(i, video_ids[i][0])\n",
        "display(tabs)"
      ]
    },
    {
      "cell_type": "code",
      "execution_count": null,
      "metadata": {
        "cellView": "form",
        "execution": {},
        "id": "gsFJYyMJOgQo"
      },
      "outputs": [],
      "source": [
        "# @title Submit your feedback\n",
        "content_review(f\"{feedback_prefix}_Binary_HMM_with_Gaussian_measurements_Video\")"
      ]
    },
    {
      "cell_type": "markdown",
      "metadata": {
        "execution": {},
        "id": "kwvoVrf8OgQo"
      },
      "source": [
        "## Coding Exercise 1.1: Simulate a binary HMM with Gaussian measurements\n",
        "\n",
        "In this exercise, you will implement a binary HMM with Gaussian measurements. Your HMM will start in State +1 and transition between states (both $-1 \\rightarrow 1$ and $1 \\rightarrow -1$) with probability `switch_prob`. Each state emits measurements drawn from a Gaussian with mean $+1$ for State +1 and mean $-1$ for State -1. The standard deviation of both states is given by `noise_level`.\n",
        "\n",
        "The exercises in the next cell have three steps:\n",
        "\n",
        "**STEP 1**. In `create_HMM`, complete the transition matrix  `transmat_` (i.e., $D$) in the code.\n",
        "\n",
        "\\begin{equation}\n",
        "D =\n",
        "\\begin{pmatrix}\n",
        "p_{\\rm stay} & p_{\\rm switch} \\\\\n",
        "p_{\\rm switch} & p_{\\rm stay} \\\\\n",
        "\\end{pmatrix}\n",
        "\\end{equation}\n",
        "\n",
        "with $p_{\\rm stay} = 1 - p_{\\rm switch}$.\n",
        "\n",
        "**STEP 2**. In `create_HMM`, specify gaussian measurements $m_t | s_t$, by specifying the means for each state, and the standard deviation.\n",
        "\n",
        "**STEP 3**. In `sample`, use the transition matrix to specify the probabilities for the next state $s_t$ given the previous state $s_{t-1}$.\n",
        "\n",
        "\n",
        "In this exercise, we will use a helper data structure named `GaussianHMM1D`, implemented in the following cell. This allows us to set the information we need about the HMM model (the starting probabilities of state, the transition matrix, the means and variances of the Gaussian distributions, and the number of components) and easily access it. For example, if we can set our model using:\n",
        "\n",
        "\n",
        "```python\n",
        "  model = GaussianHMM1D(\n",
        "    startprob = startprob_vec,\n",
        "    transmat = transmat_mat,\n",
        "    means = means_vec,\n",
        "    vars = vars_vec,\n",
        "    n_components = n_components\n",
        "  )\n",
        "```\n",
        "and then access the variances as:\n",
        "\n",
        "```python\n",
        "model.vars\n",
        "```\n",
        "\n",
        "Also note that we refer to the states as `0` and `1` in the code, instead of as `-1` and `+1`."
      ]
    },
    {
      "cell_type": "code",
      "execution_count": 11,
      "metadata": {
        "execution": {},
        "id": "maHn8rglOgQo"
      },
      "outputs": [],
      "source": [
        "GaussianHMM1D = namedtuple('GaussianHMM1D', ['startprob', 'transmat','means','vars','n_components'])"
      ]
    },
    {
      "cell_type": "code",
      "execution_count": 15,
      "metadata": {
        "execution": {},
        "id": "-o2APunvOgQo",
        "colab": {
          "base_uri": "https://localhost:8080/"
        },
        "outputId": "c413d74b-e636-4f66-ca6b-055049f9700a"
      },
      "outputs": [
        {
          "output_type": "stream",
          "name": "stdout",
          "text": [
            "[-3.09355908  1.58552915 -3.93502804 -1.98819072 -1.32506947]\n",
            "[0 0 0 0 0]\n"
          ]
        }
      ],
      "source": [
        "def create_HMM(switch_prob=0.1, noise_level=1e-1, startprob=[1.0, 0.0]):\n",
        "  \"\"\"Create an HMM with binary state variable and 1D Gaussian measurements\n",
        "  The probability to switch to the other state is `switch_prob`. Two\n",
        "  measurement models have mean 1.0 and -1.0 respectively. `noise_level`\n",
        "  specifies the standard deviation of the measurement models.\n",
        "\n",
        "  Args:\n",
        "      switch_prob (float): probability to jump to the other state\n",
        "      noise_level (float): standard deviation of measurement models. Same for\n",
        "      two components\n",
        "\n",
        "  Returns:\n",
        "      model (GaussianHMM instance): the described HMM\n",
        "  \"\"\"\n",
        "\n",
        "  ############################################################################\n",
        "  # Insert your code here to:\n",
        "  #   * Create the transition matrix, `transmat_mat` so that the odds of\n",
        "  #      switching is `switch_prob`\n",
        "  #\t\t* Set the measurement model variances, to `noise_level ^ 2` for both\n",
        "  #      states\n",
        "  # raise NotImplementedError(\"`create_HMM` is incomplete\")\n",
        "  ############################################################################\n",
        "\n",
        "  n_components = 2\n",
        "\n",
        "  startprob_vec = np.asarray(startprob)\n",
        "\n",
        "  # STEP 1: Transition probabilities\n",
        "  transmat_mat = np.array([[1. - switch_prob, switch_prob], [switch_prob, 1. - switch_prob]]) # np.array([[...], [...]])\n",
        "\n",
        "  # STEP 2: Measurement probabilities\n",
        "\n",
        "  # Mean measurements for each state\n",
        "  means_vec = np.array([-1.0, 1.0])\n",
        "\n",
        "  # Noise for each state\n",
        "  vars_vec = np.ones(2) * noise_level * noise_level\n",
        "\n",
        "  # Initialize model\n",
        "  model = GaussianHMM1D(\n",
        "    startprob = startprob_vec,\n",
        "    transmat = transmat_mat,\n",
        "    means = means_vec,\n",
        "    vars = vars_vec,\n",
        "    n_components = n_components\n",
        "  )\n",
        "\n",
        "  return model\n",
        "\n",
        "\n",
        "def sample(model, T):\n",
        "  \"\"\"Generate samples from the given HMM\n",
        "\n",
        "  Args:\n",
        "    model (GaussianHMM1D): the HMM with Gaussian measurement\n",
        "    T (int): number of time steps to sample\n",
        "\n",
        "  Returns:\n",
        "    M (numpy vector): the series of measurements\n",
        "    S (numpy vector): the series of latent states\n",
        "\n",
        "  \"\"\"\n",
        "  ############################################################################\n",
        "  # Insert your code here to:\n",
        "  #   * take row i from `model.transmat` to get the transition probabilities\n",
        "  #       from state i to all states\n",
        "  # raise NotImplementedError(\"`sample` is incomplete\")\n",
        "  ############################################################################\n",
        "  # Initialize S and M\n",
        "  S = np.zeros((T,),dtype=int)\n",
        "  M = np.zeros((T,))\n",
        "\n",
        "  # Calculate initial state\n",
        "  S[0] = np.random.choice([0,1],p=model.startprob)\n",
        "\n",
        "  # Latent state at time `t` depends on `t-1` and the corresponding transition probabilities to other states\n",
        "  for t in range(1,T):\n",
        "\n",
        "    # STEP 3: Get vector of probabilities for all possible `S[t]` given a particular `S[t-1]`\n",
        "    transition_vector = model.transmat[S[t-1],:]\n",
        "\n",
        "    # Calculate latent state at time `t`\n",
        "    S[t] = np.random.choice([0,1],p=transition_vector)\n",
        "\n",
        "  # Calculate measurements conditioned on the latent states\n",
        "  # Since measurements are independent of each other given the latent states, we could calculate them as a batch\n",
        "  means = model.means[S]\n",
        "  scales = np.sqrt(model.vars[S])\n",
        "  M = np.random.normal(loc=means, scale=scales, size=(T,))\n",
        "\n",
        "  return M, S\n",
        "\n",
        "\n",
        "# Set random seed\n",
        "np.random.seed(101)\n",
        "\n",
        "# Set parameters of HMM\n",
        "T = 100\n",
        "switch_prob = 0.1\n",
        "noise_level = 2.0\n",
        "\n",
        "# Create HMM\n",
        "model = create_HMM(switch_prob=switch_prob, noise_level=noise_level)\n",
        "\n",
        "# Sample from HMM\n",
        "M, S = sample(model,T)\n",
        "assert M.shape==(T,)\n",
        "assert S.shape==(T,)\n",
        "\n",
        "# Print values\n",
        "print(M[:5])\n",
        "print(S[:5])"
      ]
    },
    {
      "cell_type": "markdown",
      "metadata": {
        "execution": {},
        "id": "IPhkC6yKOgQp"
      },
      "source": [
        "You should see that the first five measurements are:\n",
        "\n",
        " `[-3.09355908  1.58552915 -3.93502804 -1.98819072 -1.32506947]`\n",
        "\n",
        " while the first five states are:\n",
        "\n",
        " `[0 0 0 0 0]`"
      ]
    },
    {
      "cell_type": "markdown",
      "metadata": {
        "execution": {},
        "id": "UW5Jh_whOgQp"
      },
      "source": [
        "[*Click for solution*](https://github.com/NeuromatchAcademy/course-content/tree/main/tutorials/W3D2_HiddenDynamics/solutions/W3D2_Tutorial2_Solution_9035e19a.py)\n",
        "\n"
      ]
    },
    {
      "cell_type": "code",
      "execution_count": null,
      "metadata": {
        "cellView": "form",
        "execution": {},
        "id": "UqglW1YiOgQp"
      },
      "outputs": [],
      "source": [
        "# @title Submit your feedback\n",
        "content_review(f\"{feedback_prefix}_Simulating_Binary_HMM_with_Gaussian_measurements_Exercise\")"
      ]
    },
    {
      "cell_type": "markdown",
      "metadata": {
        "execution": {},
        "id": "37iQXIG0OgQp"
      },
      "source": [
        "## Interactive Demo 1.2: Binary HMM\n",
        "\n",
        "In the demo below, we simulate and plot a similar HMM. You can change the probability of switching states and the noise level (the standard deviation of the Gaussian distributions for measurements). You can click the empty box to also visualize the measurements.\n",
        "\n",
        "**First**, think about and discuss these questions:\n",
        "\n",
        "1.   What will the states do if the switching probability is zero? One?\n",
        "2.   What will measurements look like with high noise? Low?\n",
        "\n",
        "\n",
        "\n",
        "**Then**, play with the demo to see if you were correct or not."
      ]
    },
    {
      "cell_type": "code",
      "execution_count": 16,
      "metadata": {
        "cellView": "form",
        "execution": {},
        "id": "BN12zaOfOgQp",
        "colab": {
          "base_uri": "https://localhost:8080/",
          "height": 523,
          "referenced_widgets": [
            "49d40ff3d68e499ea36b064ca4bb3ad0",
            "2ab250e442d0465fbd6d789ee692a97c",
            "0e4ce7c625b74d22919cf954cee5d212",
            "e0cb4ec28520422c85794bc8cd547032",
            "a915c1adec4c4e8ba37ce512f2166c79",
            "88ca8d7a920042909494038241686927",
            "b6bdcab9eb6f4a8687fee4af0d084a68",
            "fa06b4df15c4468e8ee5acc0fda4309e",
            "6ef1ebef73164edc9d8acaf1c4c0a990",
            "751f874bf4244a6a917788d43f7e3c3d",
            "f994a0a6ad4a415fb92a96b95a0672c4",
            "421c1a983b554464b834fbc8b62c502f",
            "f06f3e3f5ca7415b90f862dcd8298cf6"
          ]
        },
        "outputId": "944e23a5-691e-47ea-a8da-b9a620346413"
      },
      "outputs": [
        {
          "output_type": "display_data",
          "data": {
            "text/plain": [
              "interactive(children=(FloatSlider(value=0.1, description='switch_prob', max=1.0, step=0.02), FloatSlider(value…"
            ],
            "application/vnd.jupyter.widget-view+json": {
              "version_major": 2,
              "version_minor": 0,
              "model_id": "49d40ff3d68e499ea36b064ca4bb3ad0"
            }
          },
          "metadata": {}
        }
      ],
      "source": [
        "# @markdown Execute this cell to enable the widget!\n",
        "\n",
        "nstep = 100\n",
        "\n",
        "@widgets.interact\n",
        "def plot_samples_widget(\n",
        "    switch_prob=widgets.FloatSlider(min=0.0, max=1.0, step=0.02, value=0.1),\n",
        "    log10_noise_level=widgets.FloatSlider(min=-1., max=1., step=.01, value=-0.3),\n",
        "    flag_m=widgets.Checkbox(value=False, description='measurements',\n",
        "                            disabled=False, indent=False)\n",
        "    ):\n",
        "  np.random.seed(101)\n",
        "  model = create_HMM(switch_prob=switch_prob,\n",
        "                     noise_level=10.**log10_noise_level)\n",
        "  print(model)\n",
        "  observations, states = sample(model, nstep)\n",
        "  plot_hmm1(model, states, observations, flag_m=flag_m)"
      ]
    },
    {
      "cell_type": "markdown",
      "metadata": {
        "execution": {},
        "id": "y7gwINlgOgQq"
      },
      "source": [
        "[*Click for solution*](https://github.com/NeuromatchAcademy/course-content/tree/main/tutorials/W3D2_HiddenDynamics/solutions/W3D2_Tutorial2_Solution_f836b25b.py)\n",
        "\n"
      ]
    },
    {
      "cell_type": "code",
      "execution_count": null,
      "metadata": {
        "cellView": "form",
        "execution": {},
        "id": "Qh08xK1mOgQq"
      },
      "outputs": [],
      "source": [
        "# @title Submit your feedback\n",
        "content_review(f\"{feedback_prefix}_Binary_HMM_Interactive_Demo_and_Discussion\")"
      ]
    },
    {
      "cell_type": "code",
      "execution_count": 12,
      "metadata": {
        "cellView": "form",
        "execution": {},
        "id": "VwSGooBuOgQq",
        "colab": {
          "base_uri": "https://localhost:8080/",
          "height": 580,
          "referenced_widgets": [
            "063e209fa6eb445c8ac5d7a46db99d17",
            "cd6fb9491aa04e22a2eaf6e42132e641",
            "c9be54b196034f03bc7dd3f5ebc6e7fd",
            "6088bf676cf3499bbee001727727aad7",
            "629a77095f83465a8fa780788d24ed82",
            "4488fe7821ff43f59fe7bfe0bf3a27c1"
          ]
        },
        "outputId": "32e39db2-e1a5-4b69-8f84-68e672218c63"
      },
      "outputs": [
        {
          "output_type": "display_data",
          "data": {
            "text/plain": [
              "Tab(children=(Output(), Output()), _titles={'0': 'Youtube', '1': 'Bilibili'})"
            ],
            "application/vnd.jupyter.widget-view+json": {
              "version_major": 2,
              "version_minor": 0,
              "model_id": "063e209fa6eb445c8ac5d7a46db99d17"
            }
          },
          "metadata": {}
        }
      ],
      "source": [
        "# @title Video 3: Section 1 Exercises Discussion\n",
        "from ipywidgets import widgets\n",
        "from IPython.display import YouTubeVideo\n",
        "from IPython.display import IFrame\n",
        "from IPython.display import display\n",
        "\n",
        "\n",
        "class PlayVideo(IFrame):\n",
        "  def __init__(self, id, source, page=1, width=400, height=300, **kwargs):\n",
        "    self.id = id\n",
        "    if source == 'Bilibili':\n",
        "      src = f'https://player.bilibili.com/player.html?bvid={id}&page={page}'\n",
        "    elif source == 'Osf':\n",
        "      src = f'https://mfr.ca-1.osf.io/render?url=https://osf.io/download/{id}/?direct%26mode=render'\n",
        "    super(PlayVideo, self).__init__(src, width, height, **kwargs)\n",
        "\n",
        "\n",
        "def display_videos(video_ids, W=400, H=300, fs=1):\n",
        "  tab_contents = []\n",
        "  for i, video_id in enumerate(video_ids):\n",
        "    out = widgets.Output()\n",
        "    with out:\n",
        "      if video_ids[i][0] == 'Youtube':\n",
        "        video = YouTubeVideo(id=video_ids[i][1], width=W,\n",
        "                             height=H, fs=fs, rel=0)\n",
        "        print(f'Video available at https://youtube.com/watch?v={video.id}')\n",
        "      else:\n",
        "        video = PlayVideo(id=video_ids[i][1], source=video_ids[i][0], width=W,\n",
        "                          height=H, fs=fs, autoplay=False)\n",
        "        if video_ids[i][0] == 'Bilibili':\n",
        "          print(f'Video available at https://www.bilibili.com/video/{video.id}')\n",
        "        elif video_ids[i][0] == 'Osf':\n",
        "          print(f'Video available at https://osf.io/{video.id}')\n",
        "      display(video)\n",
        "    tab_contents.append(out)\n",
        "  return tab_contents\n",
        "\n",
        "\n",
        "video_ids = [('Youtube', 'bDDRgAvQeFA'), ('Bilibili', 'BV1dX4y1F7Fq')]\n",
        "tab_contents = display_videos(video_ids, W=854, H=480)\n",
        "tabs = widgets.Tab()\n",
        "tabs.children = tab_contents\n",
        "for i in range(len(tab_contents)):\n",
        "  tabs.set_title(i, video_ids[i][0])\n",
        "display(tabs)"
      ]
    },
    {
      "cell_type": "code",
      "execution_count": null,
      "metadata": {
        "cellView": "form",
        "execution": {},
        "id": "4WiR-HPJOgQq"
      },
      "outputs": [],
      "source": [
        "# @title Submit your feedback\n",
        "content_review(f\"{feedback_prefix}_Section_1_Exercises_Discussion_Video\")"
      ]
    },
    {
      "cell_type": "markdown",
      "metadata": {
        "execution": {},
        "id": "kI_0LUOvOgQq"
      },
      "source": [
        "\n",
        "**Applications**. Measurements could be:\n",
        "* fish caught at different times as the school of fish moves from left to right\n",
        "* membrane voltage when an ion channel changes between open and closed\n",
        "* EEG frequency measurements as the brain moves between sleep states\n",
        "\n",
        "What phenomena can you imagine modeling with these HMMs?"
      ]
    },
    {
      "cell_type": "markdown",
      "metadata": {
        "execution": {},
        "id": "roUmf91EOgQq"
      },
      "source": [
        "----\n",
        "\n",
        "# Section 2: Predicting the future in an HMM\n",
        "\n",
        "\n",
        "*Estimated timing to here from start of tutorial: 20 min*\n",
        "\n",
        "\n",
        "\n"
      ]
    },
    {
      "cell_type": "code",
      "execution_count": 17,
      "metadata": {
        "cellView": "form",
        "execution": {},
        "id": "mN00e3wFOgQq",
        "colab": {
          "base_uri": "https://localhost:8080/",
          "height": 580,
          "referenced_widgets": [
            "1f1402bf6ab64d0caa7265fdcc86ba36",
            "8d95d96eff29440fa9d10f1acd7ebda6",
            "41cb4b9056094c43b0f17ad065187369",
            "c7c8e04acf504f65bc482d5ec44f8177",
            "5907f37403e448958dd31bb3ef4ee90c",
            "8ff5f034e2e44876824e8c92b0629245"
          ]
        },
        "outputId": "863d49ed-3fce-4b06-eace-70b68be5fb7f"
      },
      "outputs": [
        {
          "output_type": "display_data",
          "data": {
            "text/plain": [
              "Tab(children=(Output(), Output()), _titles={'0': 'Youtube', '1': 'Bilibili'})"
            ],
            "application/vnd.jupyter.widget-view+json": {
              "version_major": 2,
              "version_minor": 0,
              "model_id": "1f1402bf6ab64d0caa7265fdcc86ba36"
            }
          },
          "metadata": {}
        }
      ],
      "source": [
        "# @title Video 4: Forgetting in a changing world\n",
        "from ipywidgets import widgets\n",
        "from IPython.display import YouTubeVideo\n",
        "from IPython.display import IFrame\n",
        "from IPython.display import display\n",
        "\n",
        "\n",
        "class PlayVideo(IFrame):\n",
        "  def __init__(self, id, source, page=1, width=400, height=300, **kwargs):\n",
        "    self.id = id\n",
        "    if source == 'Bilibili':\n",
        "      src = f'https://player.bilibili.com/player.html?bvid={id}&page={page}'\n",
        "    elif source == 'Osf':\n",
        "      src = f'https://mfr.ca-1.osf.io/render?url=https://osf.io/download/{id}/?direct%26mode=render'\n",
        "    super(PlayVideo, self).__init__(src, width, height, **kwargs)\n",
        "\n",
        "\n",
        "def display_videos(video_ids, W=400, H=300, fs=1):\n",
        "  tab_contents = []\n",
        "  for i, video_id in enumerate(video_ids):\n",
        "    out = widgets.Output()\n",
        "    with out:\n",
        "      if video_ids[i][0] == 'Youtube':\n",
        "        video = YouTubeVideo(id=video_ids[i][1], width=W,\n",
        "                             height=H, fs=fs, rel=0)\n",
        "        print(f'Video available at https://youtube.com/watch?v={video.id}')\n",
        "      else:\n",
        "        video = PlayVideo(id=video_ids[i][1], source=video_ids[i][0], width=W,\n",
        "                          height=H, fs=fs, autoplay=False)\n",
        "        if video_ids[i][0] == 'Bilibili':\n",
        "          print(f'Video available at https://www.bilibili.com/video/{video.id}')\n",
        "        elif video_ids[i][0] == 'Osf':\n",
        "          print(f'Video available at https://osf.io/{video.id}')\n",
        "      display(video)\n",
        "    tab_contents.append(out)\n",
        "  return tab_contents\n",
        "\n",
        "\n",
        "video_ids = [('Youtube', 'XOec560m61o'), ('Bilibili', 'BV1o64y1s7M7')]\n",
        "tab_contents = display_videos(video_ids, W=854, H=480)\n",
        "tabs = widgets.Tab()\n",
        "tabs.children = tab_contents\n",
        "for i in range(len(tab_contents)):\n",
        "  tabs.set_title(i, video_ids[i][0])\n",
        "display(tabs)"
      ]
    },
    {
      "cell_type": "code",
      "execution_count": null,
      "metadata": {
        "cellView": "form",
        "execution": {},
        "id": "3NeuaEItOgQq"
      },
      "outputs": [],
      "source": [
        "# @title Submit your feedback\n",
        "content_review(f\"{feedback_prefix}_Forgetting_in_a_changing_world_Video\")"
      ]
    },
    {
      "cell_type": "markdown",
      "metadata": {
        "execution": {},
        "id": "4QmE1NtaOgQr"
      },
      "source": [
        "### Interactive Demo 2.1: Forgetting in a changing world\n",
        "\n",
        "\n",
        "Even if we know the world state for sure, the world changes. We become less and less certain as time goes by since our last measurement. In this exercise, we'll see how a Hidden Markov Model gradually \"forgets\" the current state when predicting the future without measurements.\n",
        "\n",
        "Assume we know that the initial state is -1, $s_0=-1$, so $p(s_0)=[1,0]$. We will plot $p(s_t)$ versus time.\n",
        "\n",
        "1. Examine helper function `simulate_prediction_only` and understand how the predicted distribution changes over time.\n",
        "\n",
        "2. Using our provided code, plot this distribution over time, and manipulate the process dynamics via the slider controlling the switching probability.\n",
        "\n",
        "Do you forget more quickly with low or high switching probability? Why? How does the curve look when `prob_switch` $>0.5$? Why?\n",
        "\n",
        "\n",
        "\n"
      ]
    },
    {
      "cell_type": "code",
      "execution_count": 18,
      "metadata": {
        "cellView": "form",
        "execution": {},
        "id": "rYmnVKSAOgQr"
      },
      "outputs": [],
      "source": [
        "# @markdown Execute this cell to enable helper function `simulate_prediction_only`\n",
        "\n",
        "def simulate_prediction_only(model, nstep):\n",
        "  \"\"\"\n",
        "  Simulate the diffusion of HMM with no observations\n",
        "\n",
        "  Args:\n",
        "    model (GaussianHMM1D instance): the HMM instance\n",
        "    nstep (int): total number of time steps to simulate(include initial time)\n",
        "\n",
        "  Returns:\n",
        "    predictive_probs (list of numpy vector): the list of marginal probabilities\n",
        "  \"\"\"\n",
        "  entropy_list = []\n",
        "  predictive_probs = []\n",
        "  prob = model.startprob\n",
        "  for i in range(nstep):\n",
        "\n",
        "    # Log probabilities\n",
        "    predictive_probs.append(prob)\n",
        "\n",
        "    # One step forward\n",
        "    prob = prob @ model.transmat\n",
        "\n",
        "  return predictive_probs"
      ]
    },
    {
      "cell_type": "code",
      "execution_count": 19,
      "metadata": {
        "cellView": "form",
        "execution": {},
        "id": "bezjf8UOOgQr",
        "colab": {
          "base_uri": "https://localhost:8080/",
          "height": 624,
          "referenced_widgets": [
            "c36680b4a14a48b7b76b570fc575a28e",
            "ad672cca980f4ab2a60d93af3fb88957",
            "f2c9508369c24239914b06fc35555256",
            "da3862835da74ed994aa84fa739d1d58",
            "c41c34023f50434ead782d32c1ee1d10",
            "9bdefe4669e14b3e929dcb3caeb972cd",
            "9c887a51dfaa4ec3bb6e0915f6f87adc"
          ]
        },
        "outputId": "951e574a-86d5-49b1-c6aa-16351b21afee"
      },
      "outputs": [
        {
          "output_type": "display_data",
          "data": {
            "text/plain": [
              "interactive(children=(FloatSlider(value=0.1, description='switch_prob', max=1.0, step=0.01), Output()), _dom_c…"
            ],
            "application/vnd.jupyter.widget-view+json": {
              "version_major": 2,
              "version_minor": 0,
              "model_id": "c36680b4a14a48b7b76b570fc575a28e"
            }
          },
          "metadata": {}
        }
      ],
      "source": [
        "# @markdown Execute this cell to enable the widget!\n",
        "\n",
        "np.random.seed(101)\n",
        "T = 100\n",
        "noise_level = 0.5\n",
        "\n",
        "@widgets.interact(switch_prob=widgets.FloatSlider(min=0.0, max=1.0, step=0.01,\n",
        "                                                  value=0.1))\n",
        "def plot(switch_prob=switch_prob):\n",
        "  model = create_HMM(switch_prob=switch_prob, noise_level=noise_level)\n",
        "  predictive_probs = simulate_prediction_only(model, T)\n",
        "  plot_marginal_seq(predictive_probs, switch_prob)"
      ]
    },
    {
      "cell_type": "markdown",
      "metadata": {
        "execution": {},
        "id": "SMClb2YqOgQr"
      },
      "source": [
        "[*Click for solution*](https://github.com/NeuromatchAcademy/course-content/tree/main/tutorials/W3D2_HiddenDynamics/solutions/W3D2_Tutorial2_Solution_6ab76076.py)\n",
        "\n"
      ]
    },
    {
      "cell_type": "code",
      "execution_count": null,
      "metadata": {
        "cellView": "form",
        "execution": {},
        "id": "sZ8q37S8OgQr"
      },
      "outputs": [],
      "source": [
        "# @title Submit your feedback\n",
        "content_review(f\"{feedback_prefix}_Forgetting_in_a_changing_world_Interactive_Demo_and_Discussion\")"
      ]
    },
    {
      "cell_type": "code",
      "execution_count": 20,
      "metadata": {
        "cellView": "form",
        "execution": {},
        "id": "3I_LHjxSOgQs",
        "colab": {
          "base_uri": "https://localhost:8080/",
          "height": 580,
          "referenced_widgets": [
            "08bfc0f4f03f4d46a0b3d1085feab6c0",
            "bb1829d9e88a4dac8a53e3f86832b7e7",
            "c4bd6e73fb664299aed8d4f6e61c6415",
            "ac794d3c12c54512ba18ef4b8f88fa7d",
            "576ef547359a4c9abf3aad5f71aa431a",
            "feee0b0aaabd4118a283d61436dcec38"
          ]
        },
        "outputId": "26264e6f-653f-40a9-8b31-3d9f82f1620e"
      },
      "outputs": [
        {
          "output_type": "display_data",
          "data": {
            "text/plain": [
              "Tab(children=(Output(), Output()), _titles={'0': 'Youtube', '1': 'Bilibili'})"
            ],
            "application/vnd.jupyter.widget-view+json": {
              "version_major": 2,
              "version_minor": 0,
              "model_id": "08bfc0f4f03f4d46a0b3d1085feab6c0"
            }
          },
          "metadata": {}
        }
      ],
      "source": [
        "# @title Video 5: Section 2 Exercise Discussion\n",
        "from ipywidgets import widgets\n",
        "from IPython.display import YouTubeVideo\n",
        "from IPython.display import IFrame\n",
        "from IPython.display import display\n",
        "\n",
        "\n",
        "class PlayVideo(IFrame):\n",
        "  def __init__(self, id, source, page=1, width=400, height=300, **kwargs):\n",
        "    self.id = id\n",
        "    if source == 'Bilibili':\n",
        "      src = f'https://player.bilibili.com/player.html?bvid={id}&page={page}'\n",
        "    elif source == 'Osf':\n",
        "      src = f'https://mfr.ca-1.osf.io/render?url=https://osf.io/download/{id}/?direct%26mode=render'\n",
        "    super(PlayVideo, self).__init__(src, width, height, **kwargs)\n",
        "\n",
        "\n",
        "def display_videos(video_ids, W=400, H=300, fs=1):\n",
        "  tab_contents = []\n",
        "  for i, video_id in enumerate(video_ids):\n",
        "    out = widgets.Output()\n",
        "    with out:\n",
        "      if video_ids[i][0] == 'Youtube':\n",
        "        video = YouTubeVideo(id=video_ids[i][1], width=W,\n",
        "                             height=H, fs=fs, rel=0)\n",
        "        print(f'Video available at https://youtube.com/watch?v={video.id}')\n",
        "      else:\n",
        "        video = PlayVideo(id=video_ids[i][1], source=video_ids[i][0], width=W,\n",
        "                          height=H, fs=fs, autoplay=False)\n",
        "        if video_ids[i][0] == 'Bilibili':\n",
        "          print(f'Video available at https://www.bilibili.com/video/{video.id}')\n",
        "        elif video_ids[i][0] == 'Osf':\n",
        "          print(f'Video available at https://osf.io/{video.id}')\n",
        "      display(video)\n",
        "    tab_contents.append(out)\n",
        "  return tab_contents\n",
        "\n",
        "\n",
        "video_ids = [('Youtube', 'GRnlvxZ_ozk'), ('Bilibili', 'BV1DM4y1K7tK')]\n",
        "tab_contents = display_videos(video_ids, W=854, H=480)\n",
        "tabs = widgets.Tab()\n",
        "tabs.children = tab_contents\n",
        "for i in range(len(tab_contents)):\n",
        "  tabs.set_title(i, video_ids[i][0])\n",
        "display(tabs)"
      ]
    },
    {
      "cell_type": "code",
      "execution_count": null,
      "metadata": {
        "cellView": "form",
        "execution": {},
        "id": "r2FgVzLCOgQs"
      },
      "outputs": [],
      "source": [
        "# @title Submit your feedback\n",
        "content_review(f\"{feedback_prefix}_Section_2_Exercise_Discussion_Video\")"
      ]
    },
    {
      "cell_type": "markdown",
      "metadata": {
        "execution": {},
        "id": "XnnPRMNIOgQs"
      },
      "source": [
        "# Section 3: Forward inference in an HMM\n",
        "\n",
        "*Estimated timing to here from start of tutorial: 35 min*"
      ]
    },
    {
      "cell_type": "code",
      "execution_count": 21,
      "metadata": {
        "cellView": "form",
        "execution": {},
        "id": "0CP_HjY5OgQt",
        "colab": {
          "base_uri": "https://localhost:8080/",
          "height": 580,
          "referenced_widgets": [
            "c83ce9d3e9e8444e80e886739d218be5",
            "06566738f9cb4f83afc995aad036b8b7",
            "8ec0f0ab1032470da474c4a3f5b5c0b6",
            "9a61b91ff77f41af93546a9097d73806",
            "382a62e1ace240a7a7ab48c967a89441",
            "c0252c2af1684f45b8576c3f468043bd"
          ]
        },
        "outputId": "7344c8ea-c229-44d8-e00e-2a01771e59ae"
      },
      "outputs": [
        {
          "output_type": "display_data",
          "data": {
            "text/plain": [
              "Tab(children=(Output(), Output()), _titles={'0': 'Youtube', '1': 'Bilibili'})"
            ],
            "application/vnd.jupyter.widget-view+json": {
              "version_major": 2,
              "version_minor": 0,
              "model_id": "c83ce9d3e9e8444e80e886739d218be5"
            }
          },
          "metadata": {}
        }
      ],
      "source": [
        "# @title Video 6: Inference in an HMM\n",
        "from ipywidgets import widgets\n",
        "from IPython.display import YouTubeVideo\n",
        "from IPython.display import IFrame\n",
        "from IPython.display import display\n",
        "\n",
        "\n",
        "class PlayVideo(IFrame):\n",
        "  def __init__(self, id, source, page=1, width=400, height=300, **kwargs):\n",
        "    self.id = id\n",
        "    if source == 'Bilibili':\n",
        "      src = f'https://player.bilibili.com/player.html?bvid={id}&page={page}'\n",
        "    elif source == 'Osf':\n",
        "      src = f'https://mfr.ca-1.osf.io/render?url=https://osf.io/download/{id}/?direct%26mode=render'\n",
        "    super(PlayVideo, self).__init__(src, width, height, **kwargs)\n",
        "\n",
        "\n",
        "def display_videos(video_ids, W=400, H=300, fs=1):\n",
        "  tab_contents = []\n",
        "  for i, video_id in enumerate(video_ids):\n",
        "    out = widgets.Output()\n",
        "    with out:\n",
        "      if video_ids[i][0] == 'Youtube':\n",
        "        video = YouTubeVideo(id=video_ids[i][1], width=W,\n",
        "                             height=H, fs=fs, rel=0)\n",
        "        print(f'Video available at https://youtube.com/watch?v={video.id}')\n",
        "      else:\n",
        "        video = PlayVideo(id=video_ids[i][1], source=video_ids[i][0], width=W,\n",
        "                          height=H, fs=fs, autoplay=False)\n",
        "        if video_ids[i][0] == 'Bilibili':\n",
        "          print(f'Video available at https://www.bilibili.com/video/{video.id}')\n",
        "        elif video_ids[i][0] == 'Osf':\n",
        "          print(f'Video available at https://osf.io/{video.id}')\n",
        "      display(video)\n",
        "    tab_contents.append(out)\n",
        "  return tab_contents\n",
        "\n",
        "\n",
        "video_ids = [('Youtube', 'fErhvxE9SHs'), ('Bilibili', 'BV17f4y1571y')]\n",
        "tab_contents = display_videos(video_ids, W=854, H=480)\n",
        "tabs = widgets.Tab()\n",
        "tabs.children = tab_contents\n",
        "for i in range(len(tab_contents)):\n",
        "  tabs.set_title(i, video_ids[i][0])\n",
        "display(tabs)"
      ]
    },
    {
      "cell_type": "code",
      "execution_count": null,
      "metadata": {
        "cellView": "form",
        "execution": {},
        "id": "AST7_blsOgQ0"
      },
      "outputs": [],
      "source": [
        "# @title Submit your feedback\n",
        "content_review(f\"{feedback_prefix}_Forward_inference_in_an_HMM_Video\")"
      ]
    },
    {
      "cell_type": "markdown",
      "metadata": {
        "execution": {},
        "id": "47HFR0fNOgQ0"
      },
      "source": [
        "### Coding Exercise 3.1: Forward inference of HMM\n",
        "\n",
        "As a recursive algorithm, let's assume we already have yesterday's posterior from time $t-1$: $p(s_{t-1}|m_{1:t-1})$. When the new data $m_{t}$ comes in, the algorithm performs the following steps:\n",
        "\n",
        "* **Predict**: transform yesterday's posterior over $s_{t-1}$ into today's prior over $s_t$ using the transition matrix $D$:\n",
        "\n",
        "\\begin{equation}\n",
        "\\text{today's prior}=p(s_t|m_{1:t-1})= p(s_{t-1}|m_{1:t-1}) D\n",
        "\\end{equation}\n",
        "\n",
        "* **Update**: Incorporate measurement $m_t$ to calculate the posterior $p(s_t|m_{0:t})$\n",
        "\n",
        "\\begin{equation}\n",
        "\\text{posterior} \\propto \\text{prior}\\cdot \\text{likelihood}=p(m_t|s_t)p(s_t|m_{0:t-1})\n",
        "\\end{equation}\n",
        "\n",
        "In this exercise, you will:\n",
        "\n",
        "* STEP 1: Complete the code in function `markov_forward` to calculate the predictive marginal distribution at next time step\n",
        "\n",
        "* STEP 2: Complete the code in function `one_step_update` to combine predictive probabilities and data likelihood into a new posterior\n",
        "  * Hint: We have provided a function to calculate the likelihood of $m_t$ under the two possible states: `compute_likelihood(model,M_t)`.\n",
        "\n",
        "* STEP 3: Using code we provide, plot the posterior and compare with the true values\n",
        "\n",
        "The complete forward inference is implemented in `simulate_forward_inference` which just calls `one_step_update` recursively."
      ]
    },
    {
      "cell_type": "code",
      "execution_count": 22,
      "metadata": {
        "cellView": "form",
        "execution": {},
        "id": "WtsreAtOOgQ0",
        "colab": {
          "base_uri": "https://localhost:8080/"
        },
        "outputId": "42b6b45d-dc55-438f-f477-85a0888accb8"
      },
      "outputs": [
        {
          "output_type": "stream",
          "name": "stdout",
          "text": [
            "Help on function compute_likelihood in module __main__:\n",
            "\n",
            "compute_likelihood(model, M)\n",
            "    Calculate likelihood of seeing data `M` for all measurement models\n",
            "    \n",
            "    Args:\n",
            "      model (GaussianHMM1D): HMM\n",
            "      M (float or numpy vector)\n",
            "    \n",
            "    Returns:\n",
            "      L (numpy vector or matrix): the likelihood\n",
            "\n",
            "Help on function simulate_forward_inference in module __main__:\n",
            "\n",
            "simulate_forward_inference(model, T, data=None)\n",
            "    Given HMM `model`, calculate posterior marginal predictions of x_t for T-1 time steps ahead based on\n",
            "    evidence `data`. If `data` is not give, generate a sequence of measurements from first component.\n",
            "    \n",
            "    Args:\n",
            "      model (GaussianHMM instance): the HMM\n",
            "      T (int): length of returned array\n",
            "    \n",
            "    Returns:\n",
            "      predictive_state1: predictive probabilities in first state w.r.t no evidence\n",
            "      posterior_state1: posterior probabilities in first state w.r.t evidence\n",
            "\n"
          ]
        }
      ],
      "source": [
        "# @markdown Execute to enable helper functions `compute_likelihood` and `simulate_forward_inference`\n",
        "\n",
        "def compute_likelihood(model, M):\n",
        "  \"\"\"\n",
        "  Calculate likelihood of seeing data `M` for all measurement models\n",
        "\n",
        "  Args:\n",
        "    model (GaussianHMM1D): HMM\n",
        "    M (float or numpy vector)\n",
        "\n",
        "  Returns:\n",
        "    L (numpy vector or matrix): the likelihood\n",
        "  \"\"\"\n",
        "  rv0 = stats.norm(model.means[0], np.sqrt(model.vars[0]))\n",
        "  rv1 = stats.norm(model.means[1], np.sqrt(model.vars[1]))\n",
        "  L = np.stack([rv0.pdf(M), rv1.pdf(M)],axis=0)\n",
        "  if L.size==2:\n",
        "    L = L.flatten()\n",
        "  return L\n",
        "\n",
        "\n",
        "def simulate_forward_inference(model, T, data=None):\n",
        "  \"\"\"\n",
        "  Given HMM `model`, calculate posterior marginal predictions of x_t for T-1 time steps ahead based on\n",
        "  evidence `data`. If `data` is not give, generate a sequence of measurements from first component.\n",
        "\n",
        "  Args:\n",
        "    model (GaussianHMM instance): the HMM\n",
        "    T (int): length of returned array\n",
        "\n",
        "  Returns:\n",
        "    predictive_state1: predictive probabilities in first state w.r.t no evidence\n",
        "    posterior_state1: posterior probabilities in first state w.r.t evidence\n",
        "  \"\"\"\n",
        "\n",
        "  # First re-calculate hte predictive probabilities without evidence\n",
        "  # predictive_probs = simulate_prediction_only(model, T)\n",
        "  predictive_probs = np.zeros((T,2))\n",
        "  likelihoods = np.zeros((T,2))\n",
        "  posterior_probs = np.zeros((T, 2))\n",
        "  # Generate an measurement trajectory conditioned on that latent state x is always 1\n",
        "  if data is not None:\n",
        "    M = data\n",
        "  else:\n",
        "    M = np.random.normal(model.means[0], np.sqrt(model.vars[0]), (T,))\n",
        "\n",
        "  # Calculate marginal for each latent state x_t\n",
        "  predictive_probs[0,:] = model.startprob\n",
        "  likelihoods[0,:] = compute_likelihood(model, M[[0]])\n",
        "  posterior = predictive_probs[0,:] * likelihoods[0,:]\n",
        "  posterior /= np.sum(posterior)\n",
        "  posterior_probs[0,:] = posterior\n",
        "\n",
        "  for t in range(1, T):\n",
        "    prediction, likelihood, posterior = one_step_update(model, posterior_probs[t-1], M[[t]])\n",
        "    # normalize and add to the list\n",
        "    posterior /= np.sum(posterior)\n",
        "    predictive_probs[t,:] = prediction\n",
        "    likelihoods[t,:] = likelihood\n",
        "    posterior_probs[t,:] = posterior\n",
        "  return predictive_probs, likelihoods, posterior_probs\n",
        "\n",
        "help(compute_likelihood)\n",
        "help(simulate_forward_inference)"
      ]
    },
    {
      "cell_type": "code",
      "execution_count": null,
      "metadata": {
        "execution": {},
        "id": "NT68yYAsOgQ0"
      },
      "outputs": [],
      "source": [
        "def markov_forward(p0, D):\n",
        "  \"\"\"Calculate the forward predictive distribution in a discrete Markov chain\n",
        "\n",
        "  Args:\n",
        "    p0 (numpy vector): a discrete probability vector\n",
        "    D (numpy matrix): the transition matrix, D[i,j] means the prob. to\n",
        "    switch FROM i TO j\n",
        "\n",
        "  Returns:\n",
        "    p1 (numpy vector): the predictive probabilities in next time step\n",
        "  \"\"\"\n",
        "  ##############################################################################\n",
        "  # Insert your code here to:\n",
        "  #    1. Calculate the predicted probabilities at next time step using the\n",
        "  #      probabilities at current time and the transition matrix\n",
        "  raise NotImplementedError(\"`markov_forward` is incomplete\")\n",
        "  ##############################################################################\n",
        "\n",
        "  # Calculate predictive probabilities (prior)\n",
        "  p1 = ...\n",
        "\n",
        "  return p1\n",
        "\n",
        "def one_step_update(model, posterior_tm1, M_t):\n",
        "  \"\"\"Given a HMM model, calculate the one-time-step updates to the posterior.\n",
        "  Args:\n",
        "    model (GaussianHMM1D instance): the HMM\n",
        "    posterior_tm1 (numpy vector): Posterior at `t-1`\n",
        "    M_t (numpy array): measurement at `t`\n",
        "\n",
        "  Returns:\n",
        "    posterior_t (numpy array): Posterior at `t`\n",
        "  \"\"\"\n",
        "  ##############################################################################\n",
        "  # Insert your code here to:\n",
        "  #    1. Call function `markov_forward` to calculate the prior for next time\n",
        "  #      step\n",
        "  #    2. Calculate likelihood of seeing current data `M_t` under both states\n",
        "  #      as a vector.\n",
        "  #    3. Calculate the posterior which is proportional to\n",
        "  #      likelihood x prediction elementwise,\n",
        "  #    4. Don't forget to normalize\n",
        "  raise NotImplementedError(\"`one_step_update` is incomplete\")\n",
        "  ##############################################################################\n",
        "\n",
        "  # Calculate predictive probabilities (prior)\n",
        "  prediction = markov_forward(...)\n",
        "\n",
        "  # Get the likelihood\n",
        "  likelihood = compute_likelihood(...)\n",
        "\n",
        "  # Calculate posterior\n",
        "  posterior_t = ...\n",
        "\n",
        "  # Normalize\n",
        "  posterior_t /= ...\n",
        "\n",
        "  return prediction, likelihood, posterior_t\n",
        "\n",
        "\n",
        "# Set random seed\n",
        "np.random.seed(12)\n",
        "\n",
        "# Set parameters\n",
        "switch_prob = 0.4\n",
        "noise_level = .4\n",
        "t = 75\n",
        "\n",
        "# Create and sample from model\n",
        "model = create_HMM(switch_prob = switch_prob,\n",
        "                    noise_level = noise_level,\n",
        "                    startprob=[0.5, 0.5])\n",
        "\n",
        "measurements, states = sample(model, nstep)\n",
        "\n",
        "# Infer state sequence\n",
        "predictive_probs, likelihoods, posterior_probs = simulate_forward_inference(model, nstep,\n",
        "                                                            measurements)\n",
        "states_inferred = np.asarray(posterior_probs[:,0] <= 0.5, dtype=int)\n",
        "\n",
        "# Visualize\n",
        "plot_forward_inference(\n",
        "      model, states, measurements, states_inferred,\n",
        "      predictive_probs, likelihoods, posterior_probs,t=t, flag_m = 0\n",
        "    )"
      ]
    },
    {
      "cell_type": "markdown",
      "metadata": {
        "execution": {},
        "id": "FOcfhag9OgQ0"
      },
      "source": [
        "[*Click for solution*](https://github.com/NeuromatchAcademy/course-content/tree/main/tutorials/W3D2_HiddenDynamics/solutions/W3D2_Tutorial2_Solution_69ce2879.py)\n",
        "\n",
        "*Example output:*\n",
        "\n",
        "<img alt='Solution hint' align='left' width=1075.0 height=575.0 src=https://raw.githubusercontent.com/NeuromatchAcademy/course-content/main/tutorials/W3D2_HiddenDynamics/static/W3D2_Tutorial2_Solution_69ce2879_0.png>\n",
        "\n"
      ]
    },
    {
      "cell_type": "code",
      "execution_count": null,
      "metadata": {
        "cellView": "form",
        "execution": {},
        "id": "40xV8nPqOgQ0"
      },
      "outputs": [],
      "source": [
        "# @title Submit your feedback\n",
        "content_review(f\"{feedback_prefix}_Forward_inference_of_HMM_Exercise\")"
      ]
    },
    {
      "cell_type": "markdown",
      "metadata": {
        "execution": {},
        "id": "PdImEm9qOgQ0"
      },
      "source": [
        "## Interactive Demo 3.2: Forward inference in binary HMM\n",
        "\n",
        "Now visualize your inference algorithm. Play with the sliders and checkboxes to help you gain intuition.\n",
        "\n",
        "* Use the sliders `switch_prob` and `log10_noise_level` to change the switching probability and measurement noise level.\n",
        "\n",
        "* Use the slider `t` to view prediction (prior) probabilities, likelihood, and posteriors at different times.\n",
        "\n",
        "When does the inference make a mistake? For example, set `switch_prob=0.1`, `log_10_noise_level=-0.2`, and take a look at the probabilities at time `t=2`."
      ]
    },
    {
      "cell_type": "code",
      "execution_count": null,
      "metadata": {
        "cellView": "form",
        "execution": {},
        "id": "W4dPZ9YZOgQ0"
      },
      "outputs": [],
      "source": [
        "# @markdown Execute this cell to enable the widget\n",
        "\n",
        "nstep = 100\n",
        "\n",
        "@widgets.interact\n",
        "def plot_forward_inference_widget(\n",
        "    switch_prob=widgets.FloatSlider(min=0.0, max=1.0, step=0.01, value=0.05),\n",
        "    log10_noise_level=widgets.FloatSlider(min=-1., max=1., step=.01, value=0.1),\n",
        "    t=widgets.IntSlider(min=0, max=nstep-1, step=1, value=nstep//2),\n",
        "    flag_d=widgets.Checkbox(value=True, description='measurements',\n",
        "                            disabled=False, indent=False),\n",
        "    flag_pre=widgets.Checkbox(value=True, description='todays prior',\n",
        "                              disabled=False, indent=False),\n",
        "    flag_like=widgets.Checkbox(value=True, description='likelihood',\n",
        "                               disabled=False, indent=False),\n",
        "    flag_post=widgets.Checkbox(value=True, description='posterior',\n",
        "                               disabled=False, indent=False),\n",
        "    ):\n",
        "\n",
        "  np.random.seed(102)\n",
        "\n",
        "  # global model, measurements, states, states_inferred, predictive_probs, likelihoods, posterior_probs\n",
        "  model = create_HMM(switch_prob=switch_prob,\n",
        "                      noise_level=10.**log10_noise_level,\n",
        "                      startprob=[0.5, 0.5])\n",
        "  measurements, states = sample(model, nstep)\n",
        "\n",
        "  # Infer state sequence\n",
        "  predictive_probs, likelihoods, posterior_probs = simulate_forward_inference(model, nstep,\n",
        "                                                              measurements)\n",
        "  states_inferred = np.asarray(posterior_probs[:,0] <= 0.5, dtype=int)\n",
        "\n",
        "  fig = plot_forward_inference(\n",
        "        model, states, measurements, states_inferred,\n",
        "        predictive_probs, likelihoods, posterior_probs,t=t,\n",
        "        flag_m=0,\n",
        "        flag_d=flag_d,flag_pre=flag_pre,flag_like=flag_like,flag_post=flag_post\n",
        "      )\n",
        "  plt.show(fig)"
      ]
    },
    {
      "cell_type": "code",
      "execution_count": null,
      "metadata": {
        "cellView": "form",
        "execution": {},
        "id": "n1cl2bKSOgQ1"
      },
      "outputs": [],
      "source": [
        "# @title Submit your feedback\n",
        "content_review(f\"{feedback_prefix}_Forward_inference_of_HMM_Interactive_Demo\")"
      ]
    },
    {
      "cell_type": "code",
      "execution_count": null,
      "metadata": {
        "cellView": "form",
        "execution": {},
        "id": "ZLGAtaN2OgQ1"
      },
      "outputs": [],
      "source": [
        "# @title Video 7: Section 3 Exercise Discussion\n",
        "from ipywidgets import widgets\n",
        "from IPython.display import YouTubeVideo\n",
        "from IPython.display import IFrame\n",
        "from IPython.display import display\n",
        "\n",
        "\n",
        "class PlayVideo(IFrame):\n",
        "  def __init__(self, id, source, page=1, width=400, height=300, **kwargs):\n",
        "    self.id = id\n",
        "    if source == 'Bilibili':\n",
        "      src = f'https://player.bilibili.com/player.html?bvid={id}&page={page}'\n",
        "    elif source == 'Osf':\n",
        "      src = f'https://mfr.ca-1.osf.io/render?url=https://osf.io/download/{id}/?direct%26mode=render'\n",
        "    super(PlayVideo, self).__init__(src, width, height, **kwargs)\n",
        "\n",
        "\n",
        "def display_videos(video_ids, W=400, H=300, fs=1):\n",
        "  tab_contents = []\n",
        "  for i, video_id in enumerate(video_ids):\n",
        "    out = widgets.Output()\n",
        "    with out:\n",
        "      if video_ids[i][0] == 'Youtube':\n",
        "        video = YouTubeVideo(id=video_ids[i][1], width=W,\n",
        "                             height=H, fs=fs, rel=0)\n",
        "        print(f'Video available at https://youtube.com/watch?v={video.id}')\n",
        "      else:\n",
        "        video = PlayVideo(id=video_ids[i][1], source=video_ids[i][0], width=W,\n",
        "                          height=H, fs=fs, autoplay=False)\n",
        "        if video_ids[i][0] == 'Bilibili':\n",
        "          print(f'Video available at https://www.bilibili.com/video/{video.id}')\n",
        "        elif video_ids[i][0] == 'Osf':\n",
        "          print(f'Video available at https://osf.io/{video.id}')\n",
        "      display(video)\n",
        "    tab_contents.append(out)\n",
        "  return tab_contents\n",
        "\n",
        "\n",
        "video_ids = [('Youtube', 'CNrjxNedqV0'), ('Bilibili', 'BV1EM4y1T7cB')]\n",
        "tab_contents = display_videos(video_ids, W=854, H=480)\n",
        "tabs = widgets.Tab()\n",
        "tabs.children = tab_contents\n",
        "for i in range(len(tab_contents)):\n",
        "  tabs.set_title(i, video_ids[i][0])\n",
        "display(tabs)"
      ]
    },
    {
      "cell_type": "code",
      "execution_count": null,
      "metadata": {
        "cellView": "form",
        "execution": {},
        "id": "DpQNb3SGOgQ1"
      },
      "outputs": [],
      "source": [
        "# @title Submit your feedback\n",
        "content_review(f\"{feedback_prefix}_Section_3_Exercise_Discussion_Video\")"
      ]
    },
    {
      "cell_type": "markdown",
      "metadata": {
        "execution": {},
        "id": "QN69vdgPOgQ1"
      },
      "source": [
        "---\n",
        "# Summary\n",
        "\n",
        "*Estimated timing of tutorial: 1 hour, 5 minutes*\n",
        "\n",
        "In this tutorial, you\n",
        "\n",
        "* Simulated the dynamics of the hidden state in a Hidden Markov model and visualized the measured data (Section 1)\n",
        "* Explored how uncertainty in a future hidden state changes based on the probabilities of switching between states (Section 2)\n",
        "* Estimated hidden states from the measurements using forward inference, connected this to Bayesian ideas, and explored the effects of noise and transition matrix probabilities on this process (Section 3)"
      ]
    }
  ],
  "metadata": {
    "@webio": {
      "lastCommId": null,
      "lastKernelId": null
    },
    "colab": {
      "name": "W3D2_Tutorial2",
      "provenance": [],
      "include_colab_link": true
    },
    "kernel": {
      "display_name": "Python 3",
      "language": "python",
      "name": "python3"
    },
    "kernelspec": {
      "display_name": "Python 3",
      "name": "python3"
    },
    "language_info": {
      "codemirror_mode": {
        "name": "ipython",
        "version": 3
      },
      "file_extension": ".py",
      "mimetype": "text/x-python",
      "name": "python",
      "nbconvert_exporter": "python",
      "pygments_lexer": "ipython3",
      "version": "3.9.21"
    },
    "toc": {
      "base_numbering": 1,
      "nav_menu": {},
      "number_sections": false,
      "sideBar": true,
      "skip_h1_title": true,
      "title_cell": "Table of Contents",
      "title_sidebar": "Contents",
      "toc_cell": false,
      "toc_position": {},
      "toc_section_display": true,
      "toc_window_display": true
    },
    "widgets": {
      "application/vnd.jupyter.widget-state+json": {
        "3e153ac5af9e48dfb3ab12b6a673013e": {
          "model_module": "@jupyter-widgets/controls",
          "model_name": "TabModel",
          "model_module_version": "1.5.0",
          "state": {
            "_dom_classes": [],
            "_model_module": "@jupyter-widgets/controls",
            "_model_module_version": "1.5.0",
            "_model_name": "TabModel",
            "_titles": {
              "0": "Youtube",
              "1": "Bilibili"
            },
            "_view_count": null,
            "_view_module": "@jupyter-widgets/controls",
            "_view_module_version": "1.5.0",
            "_view_name": "TabView",
            "box_style": "",
            "children": [
              "IPY_MODEL_6a68490c497846059a0fa437f5f34e7b",
              "IPY_MODEL_9419a551ec4746cba5fc980e91f147d3"
            ],
            "layout": "IPY_MODEL_2b8349806f9241f19d2690547a7c405f",
            "selected_index": 0
          }
        },
        "6a68490c497846059a0fa437f5f34e7b": {
          "model_module": "@jupyter-widgets/output",
          "model_name": "OutputModel",
          "model_module_version": "1.0.0",
          "state": {
            "_dom_classes": [],
            "_model_module": "@jupyter-widgets/output",
            "_model_module_version": "1.0.0",
            "_model_name": "OutputModel",
            "_view_count": null,
            "_view_module": "@jupyter-widgets/output",
            "_view_module_version": "1.0.0",
            "_view_name": "OutputView",
            "layout": "IPY_MODEL_f593874ade294edab786708f757ba62a",
            "msg_id": "",
            "outputs": [
              {
                "output_type": "stream",
                "name": "stdout",
                "text": [
                  "Video available at https://youtube.com/watch?v=pIXxVl1A4l0\n"
                ]
              },
              {
                "output_type": "display_data",
                "data": {
                  "text/plain": "<IPython.lib.display.YouTubeVideo at 0x7e0843c6d8d0>",
                  "text/html": "\n        <iframe\n            width=\"854\"\n            height=\"480\"\n            src=\"https://www.youtube.com/embed/pIXxVl1A4l0?fs=1&rel=0\"\n            frameborder=\"0\"\n            allowfullscreen\n            \n        ></iframe>\n        ",
                  "image/jpeg": "/9j/4AAQSkZJRgABAQAAAQABAAD/2wCEAAUDBAgICAgICAgICAgICAoICAgKCwoICAgICAgICAgICAgIChALCAgOCggIDRYNDhERExMTCAsWGBYSGBASExIBBQUFCAcIDwkJDhIPEBASEhISEhISEhUVEhISEhISEhIVEhISEhISEhISEhISFRISEhISEhISEhISEhISEhISEv/AABEIAWgB4AMBIgACEQEDEQH/xAAdAAEAAgMBAQEBAAAAAAAAAAAABgcDBQgEAgEJ/8QAYRAAAQMDAQMHBQgMDAIGCAcAAQACAwQFERIGITEHExQiQVGRCBZSYdIjMlNxgZKh0RUYM0JUVXKTlLGy4iQ0NmJzdHWCs7TB8Dd2Q2ODtcLhCRclZITF1PE1RFaipMTT/8QAGwEBAQADAQEBAAAAAAAAAAAAAAECAwQFBgf/xAAyEQEAAgECBQIDBgYDAAAAAAAAAQIRAyEEEjFBUQVhEyJxBlKBkaHBgqKxsuHwIzJC/9oADAMBAAIRAxEAPwDjJERAREQEREBERAREQEREBERAREQEREBERAREQEREBERAREQEREBERAREQEREBERAREQEREBERAREQEREBERAREQEREBERAREQEREBERAREQEREBERAREQEREBERAREQEREBERAREQEREBERAREQEREBERAREQEREBERAREQEREBERAREQEREBERAREQEREBERAREQEREBFv/ADUqPTh8X+wnmpUenD4v9hBoEW/81Kj04fF/sJ5qVHpw+L/YQaBFv/NSo9OHxf7CealR6cPi/wBhBoEW/wDNSo9OHxf7CealR6cPi/2EGgRb/wA1Kj04fF/sJ5qVHpw+L/YQaBFv/NSo9OHxf7CealR6cPi/2EGgRb/zUqPTh8X+wnmpUenD4v8AYQaBFv8AzUqPTh8X+wnmpUenD4v9hBoEW/8ANSo9OHxf7CealR6cPi/2EGgRb/zUqPTh8X+wnmpUenD4v9hBoEW/81Kj04fF/sJ5qVHpw+L/AGEGgRb/AM1Kj04fF/sJ5qVHpw+L/YQaBFv/ADUqPTh8X+wnmpUenD4v9hBoEW/81Kj04fF/sJ5qVHpw+L/YQaBFv/NSo9OHxf7CealR6cPi/wBhBoEW/wDNSo9OHxf7CealR6cPi/2EGgRb/wA1Kj04fF/sJ5qVHpw+L/YQaBFv/NSo9OHxf7CealR6cPi/2EGgRb/zUqPTh8X+wnmpUenD4v8AYQaBFv8AzUqPTh8X+wnmpUenD4v9hBoEW/8ANSo9OHxf7CealR6cPi/2EGgRb/zUqPTh8X+wnmpUenD4v9hBoEW/81Kj04fF/sJ5qVHpw+L/AGEGgRb/AM1Kj04fF/sJ5qVHpw+L/YQaBFv/ADUqPTh8X+wnmpUenD4v9hBoEW/81Kj04fF/sJ5qVHpw+L/YQaBFv/NSo9OHxf7CealR6cPi/wBhBoEW/wDNSo9OHxf7CealR6cPi/2EGgRb/wA1Kj04fF/sJ5qVHpw+L/YQaBFv/NSo9OHxf7CealR6cPi/2EEzREWTEREQEREBERAREQEREBERAREQEREBERAREQEREBERAREQEREBERAREQEREBERAREQEREBERAREQEREBERAREQEREBERAREQEREBERARFGpdqw1zm8weqSPf8AccegoqSoov53D8HP5z9xPO4fg5/OfuIYShFF/O4fg5/OfuJ53D8HP5z9xDCUIov53D8HP5z9xPO4fg5/OfuIYShFF/O4fg5/OfuJ53D8HP5z9xDCUIov53D8HP5z9xPO4fg5/OfuIYShFF/O4fg5/OfuJ53D8HP5z9xDCUIov53D8HP5z9xPO4fg5/OfuIYShFF/O4fg5/OfuJ53D8HP5z9xDCUIov53D8HP5z9xPO4fg5/OfuIYShFF/O4fg5/OfuJ53D8HP5z9xDCUIov53D8HP5z9xPO4fg5/OfuIYShFF/O4fg5/OfuJ53D8HP5z9xDCUIov53D8HP5z9xPO4fg5/OfuIYShFF/O4fg5/OfuJ53D8HP5z9xDCUIov53D8HP5z9xPO4fg5/OfuIYShFHKPagSSRx8wRre1mdecanBucaN/FSNAREVQREQEREBERAREQEREBERAREQEREBERAREQEREBERACrKr+6P/Ld+0VZoVZVf3R/5bv2ipKwxIiKKIiICIiAiIgIiICIiAiIgIiICIiAiIgIiICIiAiIgIiICIiD12f8AjNP/AE8f+I1WOq4s/wDGaf8Ap4/8RqsdWEkREVQREQEREBERARF8vka33zgN+N5A392/tQfSLHHMxxw17XEcQCCR8gWRAREQEREBERAREQEREBERAREQAqyq/uj/AMt37RVmhVlV/dH/AJbv2ipKwm/JryXV1+t9+uVJPSRQ7PUYraxkzpWyyxGCsn00wjic10mmikGHloy5u/jiBrqnyHLRNcLFyhUFPp6RXWmno4NZ0M56po77DFrf963W9uT2BRb7UXa/utf6W32FFQDlb5J6/ZqntFRWz0czLzTOqqZtO6Vzo2MZTPIn56FgDsVTPel3vXerPm5RuTSssdBY7hU1NHNFf6PptLHA+R8sEfM0k+iqbJE1rJNNZGMNLhlj9+4Zvjy/6KSmo9iqaXAlp7bUwSAHU0SRRWqN+l33w1NO9V35RHJ9a7PY9iK6ghfFU3uz9MuL3SySiWfodqm1NZI4iIa6qY4bgdYdwQUmrX2c5L6Wq2Fu+1bqmobV266R0EdMAzo8kb3WsF7yW6w/+HycDjqN9asKu2B2S2Ns1qqNqrfWXu9XmHpTbfFUSUUNBBpY4te+CRjjIOdY0k6w57XgABpJlN4NgdyU7STbOCtjoZ71Tyy0lZgz0NX0myRyUrZWkieHRHDI1+pxxOATqa4AOPVa/kxcl9LtZdK2gq6mopY6a1y17XwBhe6SKopIQx3ONI0YqHHdvyApLyK8mdki2drNsdqm1M9shn6JQW2neYZK+bU2IvdKx7XCPnHOYA1zSOYlccgAOuPyRq/Y6tu9wqdnqG42avZZaiKe2zyuraOalfVUbjVQVUj3yNmZJHExzHloInaWg6XEBxAitXybeS+HaOurJLhUOo7LZ6R1fdappaHNhYHObCxzgebc5sczy/SQG08naW5s3YfZXYPbV1fZ7FabhYrtDSSVdurJqqSpjquZcxmiqhlnkZESZGEtYNw1kO6uHBy6iu/yO+Tm27RX+ut14p5JYqe0z1LYhJLTPjqoq2ggBcYiHbmzygtPfw3Kd8nmzHJnJdKbZV8FyvNymc+lkv7JpKehNc2NxeKOKGoaHU4exzGvdHICdJzI060HKqtzkq5BbhtDaZr1Fc7Nb6KCrdRyPr55qbTI1tOQS9tO6NrXGpjaMuyScY4KG8rmyf2CvlztIkMraGrfFFKcanwnD4HPwABIYnsyBuznCvbYn/gxtJ/bkP8AnLCg0DPJPv08csluuuzd1dG3VzNHXPkmfu4AvpmxNJO7L3tG8bwqO2istXbqqehrqeWlq6Z5jngkGmSNwAIyO1pBDg4ZDg5pBIIK/dmr5V22rp6+gnkpaulkEsE8Zw9jxu4Hc5pBLS1wLXNc4EEEhdjeUTQ2S6XPk9v11pM0W0VK2muLWyup3tZVU9JNQSufG8ENgkr5HOdknRGG79yDihFZnlHcnB2e2nrLVSxSmmldHUWxu+WSSmqx7nGzi+Qsm52AZ6zjB25yZ9yqcmFjs962L2bbC6S4VT6DzkmE0rmyurqqnpzDAA/TAOrVnqgHS+E545DnVF1nyrbD8nGx92qI7nT191dU8y+kstLPI1tupOjwtfLWVJqI5HzyztqHtZzm5jmdUAhxrryteTK12CrtdXZTK22Xuh6ZT08rnSOpy3mi4NkkJeYnMnhcA8ucCX7yMYCkUV5bO7Q8mlFT0UFVs/ebxUGCE3CtfVvpQyofGx1S2jgp6iISxMe57WiQMJDBkn3x1vla8mlFsxfo6W2ulNDW0EVwgZIdboBLNUQugEh60jAYNQLt+JACSQSQp9F15ymcl+wGzdNZ7pdI617aq3xuZZqaeR09yq5GRPlqJZZZQaakiDx7xzMukGM6dLsO1vJRsCbXads2TV1q2enif0i0Ne6ora6ra9zIaKiknlc6OUyRVLZCZCNEIIMXWkAckqb2Xk1q6vZy5bTMqKNtHbKqOkmpnvkFbI+WSjja+GMRGN0ea2PeXg9R+7cM29yg7EbH3bYqt2q2ZoKy0SWmvjo6mmnmlqRUc7NRwnPPTy6SBXQPDmFo6sjS07iIpsbsBa6nk72i2hmhe66W+6U9LSziSRrGQyz2hj2mFrubedNXPvcCesO4IKVRX/5PvJFaKmy3Da7amaeOx29zo4aWA6Jq6ZhYx2XjBDDLLHCxrHNLpHHLmBnW0HKHtNsDVW2ris2zVxtdzzF0KqfWS1UJDaiIzdJjnqnBhdAJQA1rsOc3f2oKfRdMbOcn+y9i2Otm01/tNdtBNdpSBFT1E1LSUEZfM2ISTUz2OEjhGM69XXcWjGnLqU5VbhYamubLs9QVVtoTTxh9LUyGd7aoOk51zJXSvc6ItMeMkHIduCCO2f8AjNP/AE8f+I1WOq4s/wDGaf8Ap4/8RqsdWEkREVQREQEREArW3W8RwEsHukgxqDcFrAcHe8HBdjsHxccrw7QXB+swsDtLd0hbxJ7tQ4DeN3b6shaWloZZcMDH4984BvZ74EdgGMbzgcVvppYjMsJt4eiSslmL3c+9jSNzdwJaN7sAHAAbvxxJOFgDad7t7puaydbzjXq6uSIwcEZO4E53HesVXFI1wDmlpxpaMFriDkDIO8uOfDwQ0s0bGyc3JoeRhxYcEneC0kY3gjxCymYjsmJeeUaQBqw7JIO/IxjGHDv7l+NqntIIkeHd+oj6Qd6yVNNKCA6KRp3ZDmlp7uGBxKxSUso4xubjjkEYzkjj2fUVqt7M4b617SPbhs7S8djxgPx25BOHfQpFQ1sczdUbsgcQQWkfGCq/6M9rgJGln5QLcA9u/s+JeyhqZIn8407xu9Rb3FvokYP096x5dsqniLwWW5sqWkgEObjU09meBHqOD4L3rBRERVBERAREQEREBERACrKr+6P/AC3ftFWaFWVX90f+W79oqSsOlPJB/krynf8AL7f+7toFzMpDstttdLXTXGjoKx9NTXaDo1xia2NwqoBHPFzbzIwuaNFTOOqQfdD3DEeUV1N5dI/9l7B/2PN/l7Stf5Xv8mOTL/l3/wCX2JUbtnt3drzHRRXOtkq47dEYKJrmxtEETmxNcxvNsaXAiGIZdk9QL42p21ul0p7fSV9W+pp7VB0a3xObG1tNBzcMXNsMbAXDRTwjLiT7mPWg6b8uLZavvj9nr9Z6SquNvqrUyFvRYpKnmi57qmFz44WlzBIyowCRxhxuOM4RsXcLHyQX6C5w9Gqau7UtcKZx93ghmqbJFGyqj4wTkQF/NnrBsjM4JLRRWwPLTtRYqXoVqu89NSanObTujgqY4y8lz+ZFXE/mAXFziGaQXOceJJWtunKbfqqjr6CpudRPS3OqFbXxS6JDU1Lejhkj5XNMg0ikpgGtcGgQtAAG5B0DS2Oo2g5IKCltTJKqrst3mmq6SAGSeQdKuDywRM60hENyglwATiPdwWx8g7k6vNvuFzu1fRTUNLLaJ6KBtS11PU1Erqijnc+GmlaJHU7GxYdIQG6pWAautp5n5OuUK9bPTSz2a4TUMkzQyYNDJIpgwks52nnY6KRzdT9LnNJbrfgjUc76o5c9rJK83J96qTWGlfRCTTAGMpppIpZYoqcRczCHvghJLGgnmm5O5BcP/o+741km01qhmghulzt8UtsM7dcL56Jle0h8eRzwaayJ5jByWRyngCR+1HLnylU1a+iNhibWxuMZhjtM75SQdJ5swuPOxnG5zCWuBBBIIK5et1bNTSxz08ssE8LxJFNE90UsUjTlskcjCHMeDvBBBCtN3lJ7bmHmPs/Poxp1CCjE2MY/jApudz69WUFj+QNNLJtje5KhuieSy1z52adGiZ10tjpG6D73Di4Y7MKqfJZ/lls9/aDP2HqL7F7d3ezVc1fbK6WlrKiJ8E9QAySSSKWWOaVrjM1wJdJFG4njlvHitZs3e6q21cFdRTOp6umkEsEzQ1zo3gEBwDwWncTxBQWH5W/8tdoP62z/ACsCtbkzttTWcj20NPSU89VUSXyPm4II3zzP0VVie7RFEC52Gtc44G4NJ7FzPtPfau51c9fXzOqKupcHzzODWukcGtYCQwBo6rWjcBwUn2E5XNo7FSuo7TdJqKmdM6odExkDwZntYx78yxOdktjYOOOqg2nJ9yE7T3ithpG2i4UcT3tE1ZV001LTU8WoB8rnztaJHNBJ5thLnY3BT3y4tr7fUV1o2ftb2S0ezNE6jMsbg5gqHtp4n0wLBpdzMVHTtJB3PfI3ALDmuNpOW/a24wmCqv1wdC7IfHG8UokaQWlknRWsMjCCctdkHuVeIP6B7CWyh2yotjdsa6aNs2zjKgXgyYzLLQxFzJZXN3M0VMMVWBw0VL92/dylQbXyX7lAoLvIHDpu01vkjY7GqOnZX00VLC7ScFzII4mZHoKd0u0lLs7yZSUFLcqae77T1hfVUsFTDPLb6GRjGyCaGN7uZMlNTRscHAO/hpB3x7ueLRcJqSogqqd5iqKaaOoglGCY5oXtkikAcCCWva07wRuQW55bX8u77/8AAf8Ac9vVg+WLStno+TuB0jYWzWhkTpne8ibJFamGR+8dVoOTvHBc3bX7SV13rZrhcah1VW1Gjnp3BjXP5mKOCPLY2taMRxMbuH3q9m2G291u8dFDcqx9VHboej0TXNjaIIdMbdDebYC4YijGXZPVQdWcr9tuGyddQWHY3ZKmmZJSRvdd5bebtW1lQ+SRsjX1krDHGGFoc5rtzecBAjZpCif/AKRmlmbfLPM+NwY+ysiD8YYZoqyqdLG0jq6miaMkDgHt71VEfL3tg2gFsbfqxtI2LmWgCEVIjA0horhF0oYG7POZxuWmvvKhfq6001iq7g+e1UfNdGpXRwe5CnY6OBonbEJnNYxxaA55AGBwAQXf5eX3LY3+xD+zSLzcqP8Awi2O/tif/FvqorbTbi63kUgudZJVihh6PSB7Y28zD1RobzTG5HUbvOTuXzcttbpU2ulss1Y+S10Mrp6WkLYwyGVxmLntc1ge45qJvfOP3Q+pBenJ1/we2u/t2m/zOzq+eTn/AIQbX/25Sf5nZ9UZQbaXSC1VVkiq3stVbM2oqqMNjLJpmOge2QvLOcaQaWA7nD7mPXlQbaXOC1VVkhq3stdbM2oqqMNjLJpo3QPY8vLNbSHU0B6rh9zHryHTPJdSP2m5KbjYrYBJdbVWc8+jBAlnjNaLgxzWg5OuN07GZ98+lLfWuZKzYu8QQ1FTPa7jBT0mnpM8tNPFFAXyshYJZJGBrHGSRjQCckuC+Ni9rLlZattda6yaiqmtLOdiONUbiC6ORjgWSxEtaSx4LcsacZAUr265cNqr5SPoLpd5Kmjl0c7TiGlp2Sc1IyWPnOiwML8PjY7eeLQgnXIzyj7ZbK0tNTi0VNzsNwAngo6inmmp5o6nrP6BVRNcIzJkkx9dupziY9TnE5vLa2JtNrrLPWW2jFqku9A6qrLSA2MUcrTDpPMRnRTuPOyRljMM1UrtI45gux/L1tdaaSKhoL1NFSws5uGF8VLUiKMcGRuqoHuYwdgBwOxQna3aSvu1VJXXKrmraqX380ztTtIzpY0cI4xk4Y0Bo7AEHks/8Zp/6eP/ABGqx1XFn/jNP/Tx/wCI1WOrCSIiKoIiIC1W0lXzcYALtbnYDW8SCDkjceGPpW1WOstAnkgdE7UWAmTXlrRmMkgffYbg7xj3pxvIW3RpzWYaluWMtTszY56+WmooQekTTMiLRxfqcxznteAAWhrdRzuxqOSuvNjOSOgoqdjTA18zm+7SOcXF7yMENJG6MDcB3AKFeSps0HVtxr5WOD6dwpoQ4AHnJgTPNgdjmNjwDw1vXSkEHaVr4vVnm5Y6Q7eB0YmvNMdVW1PJNbnzvnkha4yBuoaQCQxuAC4byN7j2HL3eoD11PJxbnRtZzLQG5x2AavfAtI0uYQBuIxuHcrPMIx/v6V5aqJoC45mXpRWsdoUpdOS2g1RaWYcw7j2luc47sDA49wWm2g5Obc6EsMI4HrN6pJ4E9XeHFXHco8HO4/77VEL8c5HYe7sWvnnyy+FWe0KBvGw8McckGDJT5yGE5c0d8buIPb8fxqpr5s6+lldE12phy5khzjm8EjnMDq8CMjd9K6cukAAkc7gASfDBVG7cSCOqgdlwB1jAI4HBIAd1XZGd3bw7V3cNbM4l5fGacV3hDNlpjHUBm7TIC0/HjUD8mPpUxUXZHGx0TmA870oxsJ3ZiYW41D714YQMgbxx7FKFneMThyxOYERFiCIiAiIgIiICIiAFWVX90f+W79oqzQqyq/uj/y3ftFSVhiREUUREQEREBERAU2h5I9qnta9mzl7cx7Q5rhQ1Ja5rgC1wIi3gggqEq3ORLlH2hl2j2cpZL9epKaS9WynfTvr6t8D4HV1PG6B8LptDoSwlpYRgg4xhBHP/U9tZ/8Apu+foNV//koMugPKp5Q9oKLbC901HfbxSU0U8Iip4K6rghiBo6ZxEcUUoYwFznHcOJKhl75NIafYq27VCqldPXXZ9tdSFjRFGxja53OtkB1F38EbuI+/PcgrJFZtNyZwv2Km2q6VKJ4ruLaKTQ3miwsidzpkzq1e6HdjsV3XvYLYQbDWCpnuMlJBNXzAXuK2h1xrJg6uElJUaW86II3Ne0Ekgimj9SDkRFbnJJySUtyt9w2gvNzNp2dt0wpzUtiM9XW1DiwNgpYB70+6xZeQ4ZeBggPczZbT8kForLLW37ZG8T3OntWk3W31cHR6+lifqIqWlmGyRaWudjSBiKUhxLC0BSK2ezmz1fcpJIrfR1NbLFC6oljp4nzvjgjcxr5ntiaS2MOewFx3AvHerj5MuQygumy52lrb2LVTwV8kNdJLEJIYKSFrcyRNYecqKp8j4o2RN3udKMZO47XkU2SoajaW80uyu0VxgoYdm56kXAQtZU1IbLQCoo5Ip42aYTI8HIGfcm7zvQc6IptyWWGwVZqpr/epbVT03NCKGClfWVde6YT6mQlp004j5ppL3gt90aNxIUx5WuSe00lgo9p9nbpU3G11FZ0CeKqhENVTVGmV2pxYA0szFpI0jBfGQXB3VCBXfYG40tkt+0EzIhbrnPLT0rxI10rpKeSeKQPiG9g1U8u89w71FV0Tylf8KNi/7VuP+du652QEREBERAREQEREHrs/8Zp/6eP/ABGqx1XFn/jNP/Tx/wCI1WOrCSIiKoIiICm1liijjppNABnLwHOA3BsONUZG9rsOkYCf5/bxhKlFXXmlth6rXucRE3Ooua5zIZmuac4DWgOGngSd+N2erhP+0/Rp1+joTyc2Ri1lzManzc5KQScyFjAcl2/cA0f3VbkR4KkfJxmZT7M01TK5jBNJLIXHqtaeffG0Adgy12Ap0eUCgi1c5Loaw41uIaDuDiQD1g3jvI7D3Lz9WJteZjy9jh5imnGfCbvOBuWvqXkkjs7/APyUctfKTZ61/N09fTSSZA0NeCTnhgd29b01bcB/3ueK02jHV2UmLRmGuurCGn1f7+RQy7t457+P+/lUs2mvlHAwOnqIotXpua3JOQOJVa7RbaW6R7xFVRvDAGlrCHaXDJJJbvwQW/R3rDkmVnUrXaZajbKTTE5o+/wO/Pf8u/6FQnKW9vOQRnscQR8Y3Y/nA8PDtVpXXaeCpMeiQHBOWk4cARuOO0Z7VTfK20tqo3NPHO87wHtwcDxXXw8Ynd5vGTzRs1wla59OSMYMZJxnLS5zYz3bhpGf5g7lIlFrZWDpujGtjgY4xnqx7teWnubqk3ev5VKV0as/M4axiBERa1EREBERAREQEREAKsqv7o/8t37RVmhVlV/dH/lu/aKkrDEiIooiIgIiICIiApnyE/yq2a/5gtf/AHjTKGLPQVctPLFPBLJDPDI2WGaNzo5YpY3B8csUjCHRyNcA4OBBBAIQWn5YP8t7/wD1iD/I0qsJ9grbvyS2iC10lRcaik2llkqKeljdUzxMLLk3JhiBef43THABOJmnhvXN95ulTWzyVVZUT1dTKQZaieR888ha0MaZJZXF7yGtaN54NA7FuNjNvL1ZhKLVc62gbOPdmQSvjjkO4B7owdJkAGA/GoAnBGSg6L2y2LrbDyUS0dxEcdZJfoaqama5r5KTn2RGKCp0Ehk5ibHIW8QJ2Z3rV36x1ly5JtmWW+lqK6SlvlWaiKmjfUywh8920ukjhaXNb7rEMkf9Kz0gufa7au6TwTU09yr5qaoqDVz08lTPJBPVOxqqZonvLJKg4HujgXbhvXu2M5Qb3ZmSx2q6VtBHMdUscErmRvfgN5wx50iXDQNYGrAAygvLZygm2h5K3W20tkqLhYr50ytoYQZKmemmFTzcjYGHXIzFUXDccmikwCWrNyB2OssGyO3dyvNPPbqa4Wk2uiZVRvp31lXNT1sLRFDIGyPYH1UTdYGOtJg9R+OdNmNoq+11AqrdWVNDUtGnnqeV8EhYXNcY3OjI1xktbljstOBkFe/bPbq83osN1udbXiM5jZPK+SOMkYLo4idEbiOJABPagutv/B4/8z/+ELD5Bf8A+N3z/lSv/wA3bVRP2fr+h/Y7ptX9j+d57oPPS9D574Xourmud/nacr8sF+rrfI+WgrKuhllidBJJTTS00kkDy1z4Xvhc0vic5jCWncSxvcEF7eTvsHRybMXzab7DDaS62+rZR0FoeJZYGBzKYvrJqSnOusaBVPPNkEYpnYweu2wOVOhutRyXufV2Gns9Q28sq5LfQ0ZoY4KNrXjpU1G0ufBnfqdJg4DSd2CuV9i9tLtZZJJbVcKqgfK0NlMEjoxK1urSJWA6ZNOpxGoHGo4wvXDyjX5jLgwXi4lt1aW3EOqJJDWAx8yefdI4l5MXuZOc6QG8NyC3+Ur/AIUbF/2rcf8AO3dc7LZVN+rpaSGglrauShpnukp6J80r6Snke57nvhpnO5uJ7nSSEloBJkd3la1AREQEREBERAREQeuz/wAZp/6eP/EarHVcWf8AjNP/AE8f+I1WOrCSIiKoIiIHxb/V3rfcptPNbdFDLEWyU5PNnOp87nsdFK1w34aHn73cNDQN+9aajnMUkcoAcYpGSBp4OMbw8NPqOMfKuseUTZKiv9iNXTxNmmINfRSZEcrmzfwh0bHekY5C0s7SwjcQCLTVml48T1bqaEatLeYxj9ctDyU2bGytrpn5cWQOk3drnzSO6u7+dx7lGdo37PQGRj6aWvnYQKgNkeyCBzydL6iRxLImEtO84JDcgEYVo8kzWy2S3ad7TRsb/O3ZBz3FbB+xtMN0TI2AnJBZkZJyXZa4FxLt+T2rnm3zTnpl21pM0jHXDnbY6gtVW+GoprTLSNqD7jLzpcXHqka42kkHrtwXD77ir9vkjqOxSHeJGA6f7mVmj2PaxweHHAPvgNDcDgA0Ek/G4lYOVoaLJJjPoZ9RcM/FxWmYiZdWnE1j/CiL5TQ3Tmp691VM+oOinpKd2h2M6A5z8AZJz25Wpr6TZume6kfFcaeqhBEgzJM2AtfJCBUGNp5oh0b9z8ZGDwcFPuTCNvNmIvIaXFw37gSd4IO4g/WpVtBs4ybDtERcBjVpwcfIcHP1LKMV65/NptWb4mMe+yg4NnIpZedpJNbAC5jgScjtAwdw9XDf68qE8q8Twad3cXsPfkhu/HyFdIWrZ5lPLIWtG8EE4wCXHecDcPkVIcrNu54aImkvEz+bxvcdIJIHyZWzTv8AM0auliiCbNWmVmiskBEIJa0tLdTnFpxuP3m/f2qVr0OfHPa2MjYyN7Obk0D3uciJ+ABww/PyLA7ifjWyLZn2w062lFKV85nP6PxERZuUREQEREBERAREQAqyq/uj/wAt37RVmhVlV/dH/lu/aKkrDEiIooiIgIiICIiAiIgIiICIiAiIgIiICIiAiIgIiICIiAiIgIiIPXZ/4zT/ANPH/iNVjquLN/Gaf+nj/wARqsdWEkREVQREQF1N5L1xFbYn0TsukoKqSNoyciOf+FQnd96XOqG/9kBwXLKt7yV9q6a3XWphq5mww19M2Nj3uDIukwyh8LXvO5hLXzNBON5A7QsLxmHRw1+W8fk6NoI46eWWKJjYow4PEbRhrNbWvcAOwa3OOPWtwyRhHZhRKqvdLU1U76SojnZG8QyuicHtbM2Nj3Rlzd2QHNPHtXuFUAwZyc5DGj3zz2k9zQtF47u/Rt80xPZtJ6lriWNIJ7QN5A7z3f8AmFH+UuAOtEof70FxPfuHYvS6IBg0F0by4PdIw9ckEHGcEFuAARjeFFOVPbJ9PRTxviBHN6Yt2WOcd3ZnBHcVOWe7pm9c7Ks2NrRTzsZKOb54hsTnEaXk72h3okjgVbdvm6pDsY4AdvDh4/6Lme0Ulxrpdcj3ujEjX7xzbQWOy0RNAy1o9ZJzjf2LoCy3Nr4RqaWSNaAc7wTjGT3LHVrMSmhauOrzbWXJkQPZqaW54b8erj/5hUncS2SU9uC54PbnJxg9m4Ka8pdbjLDnLcn8niP9R9CrZ9UGNL3v0gvjj1YJ9/IBvA9RdvWyldsuPVvM25WipqSSASGRuh8xL9HDm43vLmtII3O1B3yM9YRbC+VTZJOocgcXcNRwBuHogAeJWvW6lcQ5OJ1OewiIs3OIiICIiAiIgIiIC+OZZ6DfAfUvtFFY+ZZ6DfAfUptyJbBwbQ3eO2SyupmPgmm52NjHvBha0hul+7Byoari8jn+VdP/AFKr/YYgs77US3fjer/R6dPtRLd+N6v9Hp10siiuaftRLd+N6v8AR6dPtRLd+N6v9Hp10siDmn7US3fjer/R6dPtRLd+N6v9Hp10siDmn7US3fjer/R6dPtRLd+N6v8AR6ddLIg5p+1Et343q/0enT7US3fjer/R6ddLIg5p+1Et343q/wBHp0+1Et343q/0enXSyIOaftRLd+N6v9Hp0+1Et343q/0enXSyIOaftRLd+N6v9Hp0+1Et343q/wBHp10svDPeKSOpion1VMysnY6SCkdLG2pmjYHF74oC7nJGNDXZLQQNJ7kHO/2olu/G9X+j06faiW78b1f6PTrpZEHNP2olu/G9X+j06faiW78b1f6PTrpZEHNP2olu/G9X+j06faiW78b1f6PTrpZEHNP2olu/G9X+j06faiW78b1f6PTrpZEHNP2olu/G9X+j06faiW78b1f6PTrpZEHIXKp5NlDZbPXXSO41E76OJsjYnwwtY8uljjw5zd4GHk7u5c5cyz0G+A+pf0D8pr+Sd6/q7P8AMwLgBVJfAiaPvW+AX2iKgiIiCIiAiIgt3yb7oGvr6MkddkdVGOG+N3My49ZEkXzfUrtqZXhrZI8OOkMGeGQc4J7Ady5N2Lvht1dT1YBc2NxErBxfBI0xzNHe7Q4ketrV1Dba0SMY6N4fG/RLE8HLJI3tDmPH80ggrC1curQvHSXoN5qYiI6mgqRkAtmh0TxODu4NPONI7Q5o+Ub1qb/fqANd0hlbncBEaWV/y5DNI4YycYyptDWCSE5a15Azp++3drT2KOXfaiUkxmA8NALnD3oIPaOO7/RYZjGJzl6unXSmN1RXjaWDUWU9HcJHO961tOYwSN4HOSFrMfKtnsZHXy846pxTtfjm4tQkc1hbkuke3qh28jS0kbuK2NSyWqnLjGIadm6Q8ZJcf9G3HvWE9y0t/wBoxDIXNOBG3SGjHDHV3Y+L/wAlj16NWt8Os7I7ys1LTViOI5aGdYjw3+vq/SFCbkA2Fjcb3P1d/vQ4fIestrVyOmlMj97ndYnuBG75Mf73LW39o0wEcC12/sJyN4+TC2V2xDztSZtmWpREWxzCIiAiIgIiICIiAiIgIiICuLyOf5V0/wDUqv8AYYqdVxeRz/Kun/qVX+wxRXciIiiiIiAue/KhttxslZQbcWczSG2OEV8tzXvEFbbpPcjM6Np062NeWF5a7SDDJuEC6EVUeUttnJQ26O0W+FtXe9o3PtVspC1sjQJ2GOqrKiOQFhpYY35JcHNy9moaA8gITe9q28oN2obLZamUbOUUVPdtoq2F8lPLO6dnO0FmZJEQ+N5IdzgBBBZIMtfBh1rcovKHTWJ1NT/Y673OpqGOfDRWqjdWythicxjpHgObHDE0vaOs4duBuVF+T6yfYHaKTYy6SRyUF6DK+z3PRzLJ68xRQTUric4c/mtAaX5DoocD+EBWjt5yhXV+0cOytgioGVv2P+yldcLhzslPTUnPCAMgpad7H1NSXOYd72tAcOPWLQ3nJPyr27aN9bT08FwoK63OY2tt1xg6JWwCUO5t7ow9zS06Hffahu1Bupudbtry2263XGW001uvd9r6aMSVsFno+nmha8BzBVOMjAx7gRhrdXccEgKu+Q6Gsj5SNsWXCpgrKwWy3c9UQQmjheejUBYG07ppSzSwsacvOS0ndnA9/kXyMc7bPndH2S87K11aN3PBjj7jzg99o54VuM9ok9aCw+THlgtG0VbX0FuFYZbdHC+pdPD0dgdON8IbI7nWzRvD43texuHRuxkYJgXltF5t+zsLZZomVO1NFTTGGR8D3QzQVbJGc5GQ4Ag/QF8cjdbBUco+3slPLFNHzFqjL43NeznYKOGCdmphxrZNHIxw4hzHA7wVj8uandLbtmomyvhdJtZQRtmjwJInPgrGiWMndraTqGe0BBDvKO2WdsNDab1s3c7xHVPu0NI62S1tRW01fG+GeVzXU8pc6Q5hYwg5Huoxh2nNyiptfn6Yueuv2Y829fMaovsL0Hpobzuj7t0/nN2fe6V5tnOQe3xXKnu90uV42hrqNwfROulQJ6eikBBEtNTRxtYyQFrXb8gOa1wAcA5aNv8AxZP/ACV/80CDS2zyi6vzlvlBNY75Pb6GKAUlLSWyWW6RyOiiMstdHz3Uge5zzG7ADmPjPatrygf8UdkP7GuX+BXLHyYvH/rQ24bkajb7SQO0htvt4cQO4FzfnBR/ykKe6y7c2KOxyxQXZ+zt0bRSSjLGymGszpOoBkpZrDHuy1rywuBAIQXda+Uigq77U2CjZVVdVQwiW4VMLGOoKBz9Wimqal0g/hTiMCNjXH33Dm5NGm5QOWi2Wm4fYiKlut6uzYxNNbrRSmvqaWB4aWS1XXYyFpD4zjUXASxkgB7SYv5Gt2tZsr7bTwSUd6oJnDaGlqSTXvubnFs9bM541yMkcwgE+806D73J1nkt4btLyiMqci5fZ/W7XnWbe6WsNAWauMOg7scGujz96gsbYjlbtl3prjLTRV8dZao3yV9nqYOi3eAsjfI2N1LK8NL36C0YfpyQCQvbs/yl2uu2eO08Tpm2xtJU1j9bA2oZHRGZs7DEHEGUOgkaGhxycYO8KrQ5juV4ijLCWbJYuoZjOs1IdGJ8ff6H209bsMfZhVVFI+mhvXJmxz2S1m2VNT0rGO0yQ7OV7hcppYycZZHBSNL2/wDvxHWBwg6o2B5SrZebIb/TPlht7WVMkpqGtjlgZROkE7pmse5rRpiLx1j1XNO7gNpyfbUw3u2Ul1poamCnrYzNDHUtZHPzWt7GPeyKR7Q17Wh7cOPVe3ODkDkjaSrfZTthsDQgU8t82gt7LKwNw1tHtE1jq5scYaAKKCCBsBcDgGbG4gldkWK2Q0VLTUVO3RT0lPFTQM9CGCNsUbfkaxo+RB7UREBERBXHlNfyTvX9XZ/mYFwAu/8Aymv5J3r+rs/zMC4AVhJERFUEREBERAREQFc3IBfZJIqigkdkUobUU5J3tikk0yx/0YkMZHcZj3jFMqecgdcIb9SRu+51jZaKQHgRNGXRg/HNHEjKk4l0PQSnW0B2WlpLTjjnJwQB2YPgthVNYfftj9fVB++3k7s7v9FCdsaa4UT3Oga+SPPHBdjt36esw95G471B6zlDrGgh0bQdw4uGAO/UwHO5adW1cu/S5uyX7XXEM1MaAeqD6DQ453DvBa0n+6qYvlQaicjfoB62ODt/H4sYHrwVnu+0stRqaQSXEl2nUT3YDnAADxWlInmIZGwsBG843gHdkZ3k+sqfFiI2Ladp3s+qmcOPMs4cZXDhj0Af97lGeVCpka2k5p72EOe3DSRnUG4GBx4fSp7Z7E4AamkN8cnhvJ7ePisMOyj7jfrTShmY2VIqJ+5sEGJZc59TQ343havjVzDKeHtyTLT1Wy1ZR0dPNUAlzmDnM8Wl2ME53kb8Z+JapdMcp1phmhMT3BjS0t1doON2CfH5FzjdbfJTSuilA1N4OG9j29j2HtacLppnG7z9TGdnlREWbAREQEREBERAREQEREBXF5HP8q6f+pVf7DFTquDyPXhu1VOXEAdCq95OB7xnaVFdzIsPSovhI/nN+tOlRfCR/Ob9aisyLD0qL4SP5zfrTpUXwkfzm/WgzKKxbA24Xx+0T2SzXM0goYpJXl8dLSg6jHSw40wlzi8l293u0u/D3AyTpUXwkfzm/WnSovhI/nN+tBFuVDk4te0cNNFco5S6jqBVUlRBI6mqqeYDGqKePrNB6pI4ZjYeLWkablG5GbTfKukuNRLcaS5UcQgjuNDUmirJIBqzFLIxpBaeck3tDXYkcAQNysLpUXwkfzm/WnSovhI/nN+tBW2z3IXYrbdKS724V1BVUsD4JRBUyCO5NkkMr3XTnNUla8yEOJc/eWR5zobjBtryBWG6XKW6k3Ggq6kaa11vqn0bK9ukNLapjAcghrc6NGotycnJNodKi+Ej+c3606VF8JH85v1oKE5DNkWWjbja6CkoJKO1soLPBQkRyCne2G307ZBFPJnn5A/Vqdqc4uLi4kklWzyh7CW+/Moo7g2VzaCviuVPzbzERVU4e2NziB1mYkd1VIulRfCR/Ob9adKi+Ej+c360GZRobD0H2c84dMv2S+x/2M1azzPRee5/TzWMa9e/Ut/0qL4SP5zfrTpUXwkfzm/Wgr3b/kZtV4uUd3dPdLbcmwimkrLZVvoJqinaciGdzAdTezLdLiA0EkNaBIbpsLQVN6oL9K2U3C3U8tNTOEhbEIqhsrJA+IbnnEz954bu5SHpUXwkfzm/WnSovhI/nN+tBEbjyZWuW+Q7RsZPS3aKMQyVFNKYW1kLcARVsIBjqW6AGZcNWGx7/c4y3X8oHI9abxWi5mS4Wy6CIQOuVrqpLfWSwjGI5nx5bKAA0Zc0nDWjOGgCfdKi+Ej+c3606VF8JH85v1oIpyZ8mtq2ebUfY+KV1RWPEtbXVMr6qurJBnDp6iUlzsanHSMNy5xxkkn5k5MbQ7aFm05gd9lo6fo7ZdZ5sNMT4Oc5rhz3MvdHq9Hcpb0qL4SP5zfrTpUXwkfzm/WgiV35MrTVX+j2kmhe66UMHR4Hh5EOjTUtDnw+9fIBVS4cd4wz0QpmsPSovhI/nN+tOlRfCR/Ob9aDMiw9Ki+Ej+c3606VF8JH85v1oMyLD0qL4SP5zfrTpUXwkfzm/Wgr7ymv5J3r+rs/zMC4AXfflL1EbtlL0A9hPR2bg4E/xmDsBXAisJIiIqgiIgIiICIiAr98n/ku0xsv1zjLQ0Ce207stwG9ZtfOOOM4MbDxI1EY0qPcgnJPNdZ4a+vhLLTGecDX9U3B7feRxt4ml1YLn8CAWjOSRdnLltey3Uj6YfdamJ41bgyKMNw9x7gG5wPiwsL2xDbo6c3tEQmE4a4tfjLXtBPAh2QDnw/0UV2qsVLIctjjJPEaR3dvefiwvjkLvxuVgoJ351iERPDjqcRHlsUjvXJCI3/9opZ0IatWhvq3Zx47lpvGY3d8UmtsdFSy7DxvfnmmgHgMfL8TfpXzNsvEw72N3DiBjIHZniraupgp2GWqmigYBnVI9sY+TUf1KntvuVW2wao6JprJd41D3OnB7zIRlw38Gjs4rk1K0jq9ngeB4nip/wCGk298bR/FO0fm8N2po4Guc4sjY0ElxIaxoHHju4Bbrk32dZTNfdpmuZJUQltMx40ubSkh5lc3iDJpYQDghobwzugXJhaa3ai6smretbqJwmqIwNFOXDfDStZnrF7h1uJ0NdniM2BysbRkmWnidub1JHDdjPEZHBZcPXPzduzD1zSjg5jh5tzamIm+OlfFfee85xtjbfKH7Q1c11rzDG4NijDpHHsZE0hriO9zj3r52n2JgqIaWM6mOdUtgZMMF7Wn7s4t4EDic7sRvPcttya2l0gmmxpEuGlw985v3rR6O/HiFNoqZktTIwBpZQsbCOJ01M0ZfJxGN0Mrd+Sf4QQuysvmpq592t5MK6iJMP8ADGAai1jSJw0cXCLfzrR/MJPe0DeoIf1bj6j3LsqopNQbkZLcY7wRwLSoTtxycUVwzI9hgqHcKqMAFzuwTRnAl7snB3bnBbY3YTDmtFJtr9hrhbC500RkgB3VMYLo8dnOD30R/K3dxKjKrEREQEREBERAREQF8vYHDBAI7iMj6V9IgxdGj+DZ80fUnRo/g2fNH1LKiDF0aP4NnzR9SdGj+DZ80fUsqIMXRo/g2fNH1J0aP4NnzR9SyogxdGj+DZ80fUnRo/g2fNH1LKiDF0aP4NnzR9SdGj+DZ80fUsqIMXRo/g2fNH1J0aP4NnzR9SyogxdGj+DZ80fUnRo/g2fNH1LKiDF0aP4NnzR9SdGj+DZ80fUsqIMXRo/g2fNH1J0aP4NnzR9SyogxdGj+DZ80fUnRo/g2fNH1LKiDF0aP4NnzR9SdGj+DZ80fUsqIMXRo/g2fNH1J0aP4NnzR9SyogxdGj+DZ80fUnRo/g2fNH1LKiDG2BgOQxgI7QAD44WREQEREBERARFudktl6+6zcxQUz53jGt25sUQP30srsNYPVnJwcAoNMry8n/keZXsiu11bmjcddJR9lXpcW87Uf+7amnDB7/GT1ffSHYjye6WFolu0zqqTAPR4i6GlacZw+TdLNv7tAVrWt8tvoqWGZ7amqaxsfuUTKaIn72GngjGmGFjcNGc4azLiSrgby5VbKWEuAaAwBoYMANG5rGtA3NA3DHDcuT+XusqLtcRRMccua5r8bgyLWDI/4tJYPlC6I2jqJHt5rAfLOwRljc45wu05Gd+kkgZPx+pVHtBZI6W5TPBMkjmRtdKd+Q3U0hncwuDj/APZc2rmX1X2V4KnE8XFL/dmZ+kdvxzh77Ld6i10zYqFzGMZFHGGuaHt0xMDGnGeOAFq75t3e5iWtrHQtO4iFrIT87BcPkIX2WuwQOHdkf64C1z6WQnc2No7SSSfANxnPrWq+ZfrWj6fwkW57aVJt5mtZn9YRq5iWY65Xyzyb97y6V2d2QC8nC1TLJNPIyNjCXyyNiijHWklleQ1rGgbskkDBIUzktrpD1pS1o4lrQwYG/GXEn5dy8+1UrrNTvfRtDbrI3moZH5L7e2cYkqJHuOqOq5lz9LRvZrDiM6QOe2lzdejd6t6zoen8PN7bzjFK+bdo+nnxC+dlrHBYbM2mgc2R+NUszCHiesk0MkOpu4DVoYB2BrR3qntpad89xlpGdZ80wY4jeBjDy75Bneq85CqKuhqZ6qGWZttawwz0+SYrlNIBGxjIjuNQXlumX3+p2MhuQb1tOzoZXOnk3a2g6jx51xjY4OOd2dWOJzoJ35XXpzWYxV+B8XfUvqTqak5taZmZ956/70SPZ62xU0MMMYzzYLS7iHFjCdRPYSQOP1L17PNDqaN5GkSF8x3YJMkr35PrILfo4LEasMeyNuCC1xb29UNcNwHAdU/R378fJ7UiptdDJnOqna34zGTF/wCBbGiu7eRwh4y4bjvA4HHYfVu/WsU9G0A8cH707wc9gWwxj4h/vd6lilwBqdwG8fHwHyosw09VbxghzMtOQRxGO0Y+Ls9SrDbXkfoqrVLSk0U2MuLBqgc8n7+DILM797CPiKuSMEkSO3ccA93AH485Xnq4cjJB44BG5x7MDsx8frWytvLVarjza/Yq4Wsk1MJMOerUx5fAe7LsZjPqeB6sqOrsS5BsQe12HAgggjLHg7i1wcCPHcqN5TtkYCXTUVOymma5wlgYcRyYOCWR50xO4HDcNOeGVnjw15x1VaiEY3EYI3EHcQRxBHYUUUREQEREBERAREQEREBERAREQEREBERAREQEREBERAREQEREBERAREQEREBERARF+E4QS/ko2FqL/XtpoyY6eLElZUfAwk4w3O4zPwQ0eongCuydnNn6O2U8dJRQMghZgYHvnHtfI473yE7y471FeQfZIWi007Hs01VU0VdWfvuckb7nCfVHGQ3HfqPapxITkb+39SsK+a+TAwM5OTw1HDd53dvxLQ11c3W5jANbGOcZHDAYHaXOAeRvOS3qjfvGVunnMn5IJ/0Cju1kbshzSRrYRkAEgkFmcnduywjPb9FmNsnd6dmIhOW1A3tMxkjcR1pGsk0scSfvTzeoDcPdB3BVLemuzSSP99NbaaZ3eXOkqWuPx5aFeVophFTwMb1dMLW/EQ0Y39uMYVS8pNIKeW1xDstZjPx01TpO7gN8x8QtFo+V9V9j9Xl9SrH3q3j+WZ/ZGs+H+wvuCB8p0RtLsAuOMANaOL3vcQ2Ng9JxA9az2qgfUzNhYDlwLnEYy1jRlxGd2eAGd2XjKksuyVNK6OlqqxnuhJZb4pObY4tHWc8Z5yrlA4ucTw3Bo3DTu++9d+0On6dikRzakxmI7RHSJn9ojrjrGyE1+1NBQtLaVkl1uLfuYjBFBTPGcP1HrVkjXYIyGx7vvsZUN2e2Iud/qhNW85FSh7nPJJ1ya3antZn/AKSRxJc878bvvsq/rdsbSMLY4IGRtB3kAai0drfUeGSl5gbU1H2GpC5kccbZbtURnR0amfvZRRyN3tq6gZHV6zI+cfkOMerGaWt16ez8x4z1PV4rU+Jq2m09vER4iO3798y02x1mhzHLCxrKGl1R0TQMCaUZilrPXGAHxxntDpX7w5hU0ZQh437j2EcQf/uvVHRMbojY1rGMAa1jQGtYxoDWta3gGgAABexkQGe4LZWsVjEOCb5ReqpHwuPUc8EHrs39mOszjwLt4zvcV4uRGkmp7Db4amJ0U0LHxPY8YdqZNICfiPHPrU5bGANTt3qWCnaZH5+9HBZMNmXTnGf99wXgbIJqgg/c4ADp9KR24E+oDPyr31bwMNHE/QtTa91TKz08O+Qf6IjaEZO/sIx/qtRdq/e9sY1c3GSP5z8hjWj1aiBn417L5VczE5zc6nFrG/lPcG5+TOfkWmcWRc7LI5rI2NeZHu3NbFETJrcTwAwTn4vRKqPJtAYqajklldqLAx88pJBGX6AQRva0Oe7A9Rz2lVZfamWSKhk0ZNbzr6YMB1ubG1ueq8ajqa89vZ24BO95d7yG2Kfmw4dLmpo4nFpY6Y9eQgNdvaxrDG3He453kr7rqQNrdn4sbqaGbd3aYoY/1lZ0vhrvRSe1NAyUmog4ubzjmjfqbne4d7hkfGPWN8YViXG3lnS42A87TVpjAHF0RMzABv47osH61Db1SNB56PHNyHhw0E79w7Gnf8RBHctto7tcS1qIixURb/YfZ1lzlq4TWR0kkFuq6+BronzurH0MLqh9JE2Mgte6KOd2rrECF2Gu4DzWHZi53BnOUNtuFbHv91pqaepiBbuI52GMs1A7sZyg1KL0XGhnppDDUwT00zQHOhnjfTzNByAXRTNDwDg7yOwrzoCIiAiIgIiICIiAiIgIi/MoP1EXopaCeZk0kUE8sdOwSVEkcb5I6eNx0tknexpbCwncHOIGUHnREQEREBERAREQEREBERAREQEREBSTkutAr71bKVw1Mlq4zI3sdFDmeVp9RZG4fKo2ri8k6089eJ6sjLaKkdg90tS4RsI9ehsyDqNpy53cNwXz257gjDxXyeCyiFmWMffHvwPBee5Q6gO8ZHiAePYMtC9Q7F8TnG/u3+vjwH0+Kzxsx7vqinBAZk698wBG7ThuADwGM8Pj9arTlmc11ZbnDHUp6xh+WaicB8XFWQYRgybwY2P044EOaePeMEeAVAbc3Cqr7kKajYJJYY3ROe45aw1EkGjcPfucYcAA9js8CFr5JvtD2vQOKpw3G01r7RXm/ttH9ZTjk7oCYpJ9IJmfzUed+I48F5+WQ4/7JeflB5KaupmdcbVU01JcZ4YqN1TUa3dFpGF3O9EjZE4F7tZJadOXEku7BYmxtkFLT08T3a+jwMjLyBmSRrRzkhxuy5+p270lm2s2ggoaaWrqMiGEACNo1yzyPcGQ00TfvpZJC1oaO9aOWIa/VOPnjeJvrT/6naPERtWPrjr75RzbC9vtsNNR0YFVea+NtPQxuHvWRsY2Wvq8b2UzM8449pLWjrOAWx2XsMdspBTte6aZ73VFZVPxz1XVykGWeU95IADRua1jGjAaAvBsHYZo3z3e56XXSuAMoHWZR07CTBb4D8HGHZc4e/eXu4YAkMYMriezIz9XgQkeXFO2z7po8AuPE/qWZkYxv4DeV9kbw0cBjPyLx3WqI9zb74phGCpqDK8MbnAJGe9etxbDGSfl/wBAvy20wYNR4nh8XetLtXXZaY28Rx8QP9Si57Pu2zGeUuPDJ+rcsNM//wBoDHwbs/kt7/lLfFeuyxBkRd2Y4/r/AFrU7LyGWtqpPvYhzQ+MnLj4j9Si5ejaabMkbN2I3Ne4dhI3sB/vBvgVEeVh7nWSrjjJL6uoorYwDcXSV1dTRzcOwQyH5Xv7lv77NmaUgag0asdrjjqsHrzgf9ovEyI1JsMLiCxkrrtP3OdTQSOZ/wDyKuB2/wCDUnwkdcoJy/e61lkt7fex1UJc3s3SM1bvkKk95h/hlA/G9kFSfnOp8KJbQnpe1FKN5EHOSn1BjCAfnParAusH8Jg4dWB/x9ZzD/4FY6sZ6KsvkfN3uobjAnEcw7OsWtOfjDmFQC/0uiaan3YL3MZ3cDJCR69z2+vQFYO32GXeB2eMIaf7rnbj4qMbdU2Xc4BvkYXA/wA9jhI0/HxH95dcbx+Dm7q7REWtmvvkg296FTUN1vctvraWgDbFaKKClpZr9SvwwGobIGsliom0pka7L3GQlg06nZf4uX3auN9ZdqWZt/tt0oquOmt9MytDrKaOKT+NNpWMjdTGamLZQG68mSLrDDgoZsLTR1tkv9DHSU0tygFLdqSbmg6vdS0sui5Q083vgGROjlEbd7g6fcd2IjzlVcKpmqSetrKuWKFj5ZHTz1E0hZBAwzTOLnuJMbBqO4aRuARU22K2sfcXwWO/Ty1tvq5G09NVzkz11nq53aKespKqTMpg5xzGyQvcWFmcAYIdBb1QS0dRU0s4AnpJ5aaZozgS08j4pA0kb26mHB7RhWhs5yX3M0VY1llr2bRWu7UUkbpy2OgkopWydVhl/g1UI56fU9zXEaJmEOIDmqI8sdQye8188dxpLsagslkraSB1JSSzOhYHtghdJJljS0DWHuD97skkoJdfeSm2Wo0TrxtJFRxV9FBVQNjoZ6qo1ytJm5yKGQiGljJjxM45kJeA1ugk66t5H69m0DrC2op3htN9kHXE5jpmWwNBfXSM1FzAHe56AT18dbSdYzeU3XQ1NbaXU80U7G7LW6Muie2VrZOcr3GMlhID9L2HTxw9verSuW2tupdqgJa2ljpblsdTWzp/uVVTUlU+SaaF1SHaojDpI1NeC33SPV1SSiKfrthLbPRV9XY759lX2qAVNdTSUU1ukNJqLZK2kdNI4TRM4uYcOa3BJyWtdqeULY42iCzzGoFR9lrRBdNIj5ro5nbqMGdbudDQW9fq539UKydootoaKguD6287KUkE9BUU2mijthqrrHNHh1HRijomzFko3ayWaeq44xkfO2Wz7dpLRs3VUNztEDLZZIrZcxWVTaV9DNSsja98kbmlzoziQjgSAwt1B+QGlpeRl8l9oLILiNVbZGXjpHR8iMyNnHRhFz419eD7pqbuf73dv8tt5K6esq4rdQX2lrK2Jss14c2nnjt1qpqdrefmbcJCGV4bK4RjQG6i4E6AHEW5TXu3N27s80VfSvo2bIRwsqjLGyMlvT5GB7nOxHKYi1+gnUA4blTPk83uip33K3XCoZRU97sk9r6bJ1Y6SeWPTE+Zx3MiIdIC4kAEMzgEkFeiTk3t9ZS1s1gvzbvUW2ndVVVE+int80tNGcS1FEZnu59rfQAzvbvy5gd9Q8mVDDarTebpfmUFHc45Xc22jmrKpsscmGRQRQPJmYYw57pSGhhDG4eXjEm5PbF5nuuF3u1fanvdaqiit9FR1Ta2avqal0Ja5rWNBbSt5puXuG4SZOnTvjPKlWQP2Z2Ihimilkp6O5MmYx7XviJqKJrRKxpzGSY341Yzod3Ij3X7kkttrmi+y201NTUVc1klrqIqOepmq4JGMcameCN+mhp2GRg1ue4O3kacHGvZyOV32frLHJUwRR0EBraq6PaRSxW/m2SCqMerIcecDebLhhzJOtpaXL98oqthnptmRBLFMY9k6KOQRvbIY5Ax4MbwwnRJkEaTv3K1Nr9pbZNtNtDbprhTQU9/2cgtsNx5xklLBVcxKYmzytdpZG5tQTkkDqsH3wQVzs/yUWy7GsdZ9pGVcdDRTVM7ZaCekqQ+NuYebinkAlppHB4MgOYyGAtdrBG9pNltnn7FRvfe4o2PvrXvu32JqpJo6h1AA62cw1/PvjaMu50O5s44ZXr5GtkW7P1d1lut0s7KiWw1sFNTQVkdQ6RjjFLNPI7DRFGOYjDA7rP1yHSObKjnJ/TR3jY+exU9XRQXSC+NuTKernZS9JpXUccBdA+Tc5zXF+R2aBnGpuStLbOTuhht9Nc75em2qmuDpBbIWUc1fWVkMRANW6CJ4NPT4LXb85Eke8F7QZxyTbM08dLtrQU13oKulmstE9t1GuGlihlNwdI+rjdl9PJE1j3Pjy4gae04Hiv1mbtRaLAy311tiuFioTabhQVVTHTPxT81FHV0z8lk9O/mC7W0lpEjd+WkLz7HUNNabdtvQuulurJZLHSASU0wfA+pc+tbLSU8j9PSnxufE0uYMZmaNxyARHLtyeUD7RWXay3sXZlsfC24wPop7dLEyocGR1ELah5c+LJO4gbo5N+WlqrpWfyT10EWzu20ck0Uck1Fbmwse9rHzOFRWAiJrjmQgyM3Nz79veqwQEREBERAREQEREBERAREQEREBdQ+ShauZtE9WR1q2rdpP/VUzRE0fnDKuXSV2/yeWn7H2u20RGHRUcfOf0z2c7MfnucrAkbOBXy47h4/QvrG5YHzNAGSOqN/YB8Z4D5VnHQlk/0XzIcEZ7DnwG76f1LzR3KN29jmvGSMsPODLcZBMeQCN3EjivqjlMjdTgWuJ94SDpLRwy3d2jgT8aZ2MPVCcAtPa0tx343gfNKp/kXjMt92mZNTSuEFbEYqzDejhzYopG0+ov5xs458vAAIxneOBtlzyCfnD428QR8X6lCeTeNkN42jjGdU09JWnO/qSUzoGuAPvcmndu4cOG9Y83LLKJWFVzhjQ1p3nh/qVEHUhuFxZLL1qS1yFlLH97UXJzMTVDvSbTtdzTewOMp4hpG9nkkkc4x6W8Wtcd+McXfkg4+NfdmgaxgDBiOMGOLPE9skrj2vc4kk95K0zvLZGzLXEnEbflWdjQwAd30lYYD76U9+Gev1rIziC7e528N7gO09wRX5NLzbC48TwXht0Be9z3fGT3BfNVKZZcD3rSvRWyczGGj3zzj4gdyxH5cqwMY4jcB4YUTgHPPmc87sZH0fVn5V7tr5wyFrMneW57znfjHeRnxWGkjw7R26cP7gTwHiitxPJopQ7h1CfixvUe5NDmCWT4SV7vXjOFtNsJhFROPBobgn5MFazYcGKgcSMaWOcAd3HUW58VEZaQc5KH8RznOnt6rCAweveYN3qXi2ScBNXwje235po3dgjqniobED3sbG1vxNZ3r20E3NxVMnZFGxvy63vOPXpYz6Fq+T5v8AAa+rJOa6uqZsn0KdjKJmO4E0z3b/AEye1XCINse3n9oK2XjzUfN5473y+r1RFWPfHNjdG7tc3Qfizx+lQDkWYHz3Kc8TWc0O/EbASPnSFTXbWQNMGeLsgNz6gpQvsqrlLaRUUsv/AFj2n1HccfJhajaLL4oCMHABz/dxhSXlNh1Mhdj3sr3fKI3k8fiHgVE45ecp4c7yyQsPxjUPk4fSuyvSHLPVWiIi1Nj12a51FFUQ1dJM+nqqeQSwTxkB8bwCMjIIcC0uaWuBa5rnNIIJBmUu1NhrX8/cLHPS1hcJJKiz1YooZ5c5L+gVUEsVK4nBJicMkk4CgSIOgOSnlceKk2igbTWijqoK57a+6V1RcZorj0OR9JVTVVW9sEcRmiiDoGx6SZHEEuPWp7a3aNtfHRsFttVDJStmbNNQU8dGK50sjHNknjhAjywMw3SAPdHkYBDRoERX4AgC/URH4GgcAAhaOOBlfqIPzA7vWv1EQfgaBwACYX6iDdWrZK5VVOaqno5ZYBzpD26A6XmG65zBE5wlqtA99zTXacHOMLG3Zi4dDNwFJL0IRmYzdUe4Nk5p1QItXOuphJ1TMG6AQQXbip3yd7TWiibaZJpY4ZKUVTK0PoDX1jpKmSqbHNR1kjiyho2wzwFzIAyXVDP1ZDLqWjuVfa5qenmdXVrJ6axU9mNDTxuhfO+kp20Rc6reDF9jJ4mmV8bhrJlezTv1INJdNj7lSQtmnoJoo3Pjj4Nc9ks7S6COaCNxlp5XgHSyRrXOxuBWwuvJ/caak6RU08sczrlTWyGkDGzSTzVUFbKWtdDI7TURupGRmnLdealmdO4OnQ24s9LJVT08kMrTdrXc6WlZb3U874LZcTUupq65TOfPWXAxSD3SV7otUL3B2ZNI1ezW01ps7oXQ1dTccX+K5SA0zoC2k+xt4oHuxO/ElwYbhG9w3McWMDXneWhDajYm6tnhpXUEzp6hk0lPGzRPzzaZjn1IifC5zJJI2tJcwEubuBAJAOWv2Du8EUk8tBK2GGF1Q6XVC9hgY3VLPCY5D0iJjd73RagwZ1aVKRtdRU0cdLDNTujbT3h5fQ2/7F0ram4WOa10gbE7M8k7nlmuQ6WNaIgNekuWss201HE60F7nhtFs/drdMAwnTVXDzg5hrB98wi40uXDcMuz71FReqsFZFJVRyU0jJKGJs1W06f4PFK6Bkb3nOMPNTABgnPOtxnK1ysfba483YraySOaG5XSmpo69srSx0lusMlVTWufTJh+mobJAdZHW+xTSCQRmuEQREQEREBERAREQEREBERAREQbzk+tfTbtbaQjLZ62Frx3xiQPl+TQ167aqZfdm6cZ16R3e8O5cq+TNRc7tDBIRupaeoqfUCI+Zb9M30LpWGpDnSuJGI6gA/JGHH9f0LKB76q4aSQMajnQMgueeBDGcTjv3AdpC80FPqOt+89mRreM8dx6sfZw7lrNmKR0kk1Y8nNXK4xswABAwlkRJyS7cC4DcOtwypIGgDv8A1eH1rKdljdjazubnsySXnd6m4A8V57hVOiZrYA4jg0tIDusGkambmkknBK9r5N2fjwFFtsa5wmtFK0jNRXCeVucaqeiZrP8AcFTJR5HbkDtUEgqA4Eu3dXfjvA4jBGO/xUI2Wo5GbQ3WUFojrLfSMjOcvc+mnnMx0nfhkdRBn+lap23XnJ97nfxB4d2FXWx9UZNoquMu0i3ULmtaMbzW1QjLnd2635Hfrdngtd2VeqyJ26YyxgIwCMnfgDe4nsJG/d6gF9RyDQGtaQANOCW5AHEkgneTk5Xw17S3DgC0t62eBbjLhv7DvGF95bEzOgb/AL0AAZJ3kAcAsWb8MoGMadwGOsN2Bk/LvK/DIcOI3vdnrZG7fgAb+GSPBfcZyG6vfOJcQOG/fjPdgAfIsda/J5pnv3DAI7BnLnEnh8axyr4oWtbjAOkD4y9xO8n1Fy8dU/nJ2l+QxpyfXhoI+TLgFsKkNaAAB6z8QA7fiWvjYCXucMZyQASMA6R2H+Y3wURG9oZXVNRTADcZ3PcPRihBcC7uyQzd/OC3ZLYm6shucuc49gA1E4+QeKjFLMXVfNvdg9cgcctY55AaNxy4yntwNI7ltIw6bII5wBzmcc5LWxOcOtxHODfv7x2IuTb3L7c1uDqdpfg8dIfr3j4h9KzXGZsNBLIP+kiYe8b8ZJOQA3H615buHzmRrnkZDo86cBuS3LxvwXdZ2N+OoStTyl3WKntoY3c/nYooWcTI3nGNdgjcdOd59XrCD6ra5sFprqiQlrGtmkcd2Q2GkjBx8uVsrLRSUVipoZQBNDb2GfHDpL4+eqD6yZnyFaFlMJ7bb6Zwy2trmiQbsPgFY6Wdp3Dqugp3jhwUv20lxSTfzo3k95y3ekeUsr/yfqb+AyzEfda2pd8emTmv/Bj5FINvXEy0+PTA9QBz+sj9a1HIe7m7VC3eHGSocfVqqpnfqI8Vs+UB2nmZDwBDsfkuB+kZTTNTqie27ecbE3PGRw8YJTj9aragkwamL0JdbR6wfqVh7RSdSJx49Izg9mWSDHgf1KtpHYuFSBw3n/8Abn/VdVOjmshCKGeddR6EPg/20866j0IfB/trU2YTNFDPOuo9CHwf7aeddR6EPg/20MJmihnnXUehD4P9tPOuo9CHwf7aGEzRQzzrqPQh8H+2nnXUehD4P9tDCZooZ511HoQ+D/bTzrqPQh8H+2hhM0UM866j0IfB/tp511HoQ+D/AG0MJmihnnXUehD4P9tPOuo9CHwf7aGEzRQzzrqPQh8H+2nnXUehD4P9tDCZooZ511HoQ+D/AG0866j0IfB/toYTNFDPOuo9CHwf7aeddR6EPg/20MJo4knJJJ3DJ3nAAaBk9gAA+IBfihnnXUehD4P9tPOuo9CHwf7aGEzRQzzrqPQh8H+2nnXUehD4P9tDCZooZ511HoQ+D/bTzrqPQh8H+2hhM0UM866j0IfB/tp511HoQ+D/AG0MJmihnnXUehD4P9tPOuo9CHwf7aGEzRQzzrqPQh8H+2nnXUehD4P9tDCZooZ511HoQ+D/AG0866j0IfB/toYTNFDPOuo9CHwf7aeddR6EPg/20MOpfJPt/ul1rSN0cEdKw/zpHGWQD5I4/FWzsu4TR1AeMiSrc1wyQdLo2g7xvBwuN9huXa7Weklo6Wmtro5pTM98sdQ6UucxrMamVTW6QGjG7tK2lq8pK+02oMpbUdcnOHVFUnraQ3dirG7AWXNCYdtsZHCyKGJoYyNrWNaODWtGGgeoAdq/XSZ7CMHeezeAdy4wd5Uu0BOeh2bdv+41XHv/AI6v37abaH8Es/x8zVd2Pw1XmhcOzp5gNIxq7mjiTu+hVo66tqtrJI2OZKLXbKWn6nWEdRX1jqmqY48A7mqWkdjsGFzrVeU9tE9kjWwWuJ72lolZDOZIsjAdGJKpzAQd+9pGQMgrQbD8uN1tEb201LbZZJZnVFRUzx1MtRUzyZDpZpG1TQ52D2AAY4Kcyu7nPJPvs7ju37sjiVVmx84j2z2miJALqO3vbwyW4qJHHGOIdMB4Khh5UO0GpzjS2hxcMYMNTgfF/DFHKXlwu0d5qr42C39Kq6eOmli5ufo3NxNY1pazpGsPwwby88TuWM4kjZ3hUS43Z4hrfia47z8WGEeHevureDFqySXnjw7eAGdwXGEnlRbQOxmks+7/AKmq78g/x3iOw9mThfbPKl2gAaOh2YhuMAw1XZv/AA3fvz4rGYZRZ2uwBoBdxa1eOhJJfKcZcS1uc+9bxJ9XALjeTyq9onAg0lnwf+pq/wD61fA8qbaHDR0OzdUYHuNV2kE//ncHgFOVeaHY9ZUDf2+oZz9APrWpgn1OlBDhpZnfjeMb8YO7HrXJMvlQbQO40to3f9TVf/WLBH5S1+a9zxS2nLgWn3KpxghoOMVf836SmDMOjbUDJW1EhOW0xDG9x1t1gn14cd3xKT2KpOMOxnDjjhnWeH++8rj22eUDeadsjWU1sdzsjpHl0dQSS/AI3VQ3AAD5F6KXyjb5H72ltW7sMVSf/wC2pynM7Gr3iOLg0ZcOHE4cHO3nhnh8Sp7yh7yyni5ljPdjStqHBu885JW04j6oOHPL4ZGg7t7xuO7FST+U3f341Uto3Aj7jU9v/wAWodtVyr3K5V8dwqI6QSRmkIiYyVtORQVD6mJrmOmLtLpJHF3W37sYwk12OaHYYjMVdYKInDqWCSWQDvgt76Z59fu1WP1rb7cyZpnjONUb2g/3fpOVyNJ5Qt7dXMrzT2znmQywNbzVRzemd8Mjzp6Vq1ZhZjfwJ3LLdfKLvlSGiSmtYDc4DYqkZzjjmrOeCuNiZdIcnDmsjEDcnm9x7N563+oPyrYco++m1cHMaX/EGHJx3cFypZ+Xy80pcY6a2nVjIdFOQMd2mpC9V18oq91LCySltQBa5h0xVIOlwweNWVK1wlpytra+sDWMA4c6zf8AGHgHHyqFW0F1fUk8dWn6HfUq1uHKtcZ2ta+Kj6r2vBDJcksGADmY7l5aXlJro5ZJhFSF8jtTstlxnfwxNkDeVvi0RDVNcoWiItbMREQEREBERAREQEREBERAREQEREBERAREQEREBERAREQEREBERAREQEREBERAREQEREBERAREQEREBERAREQEREBERAREQEREBERAREQEREBERAREQEREBERAREQEREBERAREQEREBERAREQEREBERAREQEREBERAREQEREBERAREQEREBERAREQEREBERAREQEREBERAREQEREBERAREQEREBERAREQEREBERAREQEREBERAREQEREBERAREQEREBERAREQEREBERAREQEREBERAREQEREBERAREQEREH//Z\n"
                },
                "metadata": {}
              }
            ]
          }
        },
        "9419a551ec4746cba5fc980e91f147d3": {
          "model_module": "@jupyter-widgets/output",
          "model_name": "OutputModel",
          "model_module_version": "1.0.0",
          "state": {
            "_dom_classes": [],
            "_model_module": "@jupyter-widgets/output",
            "_model_module_version": "1.0.0",
            "_model_name": "OutputModel",
            "_view_count": null,
            "_view_module": "@jupyter-widgets/output",
            "_view_module_version": "1.0.0",
            "_view_name": "OutputView",
            "layout": "IPY_MODEL_10da3467e3b84135a23ce324bbcd9d8b",
            "msg_id": "",
            "outputs": [
              {
                "output_type": "stream",
                "name": "stdout",
                "text": [
                  "Video available at https://www.bilibili.com/video/BV1Hh411r7JE\n"
                ]
              },
              {
                "output_type": "display_data",
                "data": {
                  "text/plain": "<__main__.PlayVideo at 0x7e0843ca48d0>",
                  "text/html": "\n        <iframe\n            width=\"854\"\n            height=\"480\"\n            src=\"https://player.bilibili.com/player.html?bvid=BV1Hh411r7JE&page=1?fs=1&autoplay=False\"\n            frameborder=\"0\"\n            allowfullscreen\n            \n        ></iframe>\n        "
                },
                "metadata": {}
              }
            ]
          }
        },
        "2b8349806f9241f19d2690547a7c405f": {
          "model_module": "@jupyter-widgets/base",
          "model_name": "LayoutModel",
          "model_module_version": "1.2.0",
          "state": {
            "_model_module": "@jupyter-widgets/base",
            "_model_module_version": "1.2.0",
            "_model_name": "LayoutModel",
            "_view_count": null,
            "_view_module": "@jupyter-widgets/base",
            "_view_module_version": "1.2.0",
            "_view_name": "LayoutView",
            "align_content": null,
            "align_items": null,
            "align_self": null,
            "border": null,
            "bottom": null,
            "display": null,
            "flex": null,
            "flex_flow": null,
            "grid_area": null,
            "grid_auto_columns": null,
            "grid_auto_flow": null,
            "grid_auto_rows": null,
            "grid_column": null,
            "grid_gap": null,
            "grid_row": null,
            "grid_template_areas": null,
            "grid_template_columns": null,
            "grid_template_rows": null,
            "height": null,
            "justify_content": null,
            "justify_items": null,
            "left": null,
            "margin": null,
            "max_height": null,
            "max_width": null,
            "min_height": null,
            "min_width": null,
            "object_fit": null,
            "object_position": null,
            "order": null,
            "overflow": null,
            "overflow_x": null,
            "overflow_y": null,
            "padding": null,
            "right": null,
            "top": null,
            "visibility": null,
            "width": null
          }
        },
        "f593874ade294edab786708f757ba62a": {
          "model_module": "@jupyter-widgets/base",
          "model_name": "LayoutModel",
          "model_module_version": "1.2.0",
          "state": {
            "_model_module": "@jupyter-widgets/base",
            "_model_module_version": "1.2.0",
            "_model_name": "LayoutModel",
            "_view_count": null,
            "_view_module": "@jupyter-widgets/base",
            "_view_module_version": "1.2.0",
            "_view_name": "LayoutView",
            "align_content": null,
            "align_items": null,
            "align_self": null,
            "border": null,
            "bottom": null,
            "display": null,
            "flex": null,
            "flex_flow": null,
            "grid_area": null,
            "grid_auto_columns": null,
            "grid_auto_flow": null,
            "grid_auto_rows": null,
            "grid_column": null,
            "grid_gap": null,
            "grid_row": null,
            "grid_template_areas": null,
            "grid_template_columns": null,
            "grid_template_rows": null,
            "height": null,
            "justify_content": null,
            "justify_items": null,
            "left": null,
            "margin": null,
            "max_height": null,
            "max_width": null,
            "min_height": null,
            "min_width": null,
            "object_fit": null,
            "object_position": null,
            "order": null,
            "overflow": null,
            "overflow_x": null,
            "overflow_y": null,
            "padding": null,
            "right": null,
            "top": null,
            "visibility": null,
            "width": null
          }
        },
        "10da3467e3b84135a23ce324bbcd9d8b": {
          "model_module": "@jupyter-widgets/base",
          "model_name": "LayoutModel",
          "model_module_version": "1.2.0",
          "state": {
            "_model_module": "@jupyter-widgets/base",
            "_model_module_version": "1.2.0",
            "_model_name": "LayoutModel",
            "_view_count": null,
            "_view_module": "@jupyter-widgets/base",
            "_view_module_version": "1.2.0",
            "_view_name": "LayoutView",
            "align_content": null,
            "align_items": null,
            "align_self": null,
            "border": null,
            "bottom": null,
            "display": null,
            "flex": null,
            "flex_flow": null,
            "grid_area": null,
            "grid_auto_columns": null,
            "grid_auto_flow": null,
            "grid_auto_rows": null,
            "grid_column": null,
            "grid_gap": null,
            "grid_row": null,
            "grid_template_areas": null,
            "grid_template_columns": null,
            "grid_template_rows": null,
            "height": null,
            "justify_content": null,
            "justify_items": null,
            "left": null,
            "margin": null,
            "max_height": null,
            "max_width": null,
            "min_height": null,
            "min_width": null,
            "object_fit": null,
            "object_position": null,
            "order": null,
            "overflow": null,
            "overflow_x": null,
            "overflow_y": null,
            "padding": null,
            "right": null,
            "top": null,
            "visibility": null,
            "width": null
          }
        },
        "1a123548c13241d9903d270d9cbe04bd": {
          "model_module": "@jupyter-widgets/controls",
          "model_name": "TabModel",
          "model_module_version": "1.5.0",
          "state": {
            "_dom_classes": [],
            "_model_module": "@jupyter-widgets/controls",
            "_model_module_version": "1.5.0",
            "_model_name": "TabModel",
            "_titles": {
              "0": "Youtube",
              "1": "Bilibili"
            },
            "_view_count": null,
            "_view_module": "@jupyter-widgets/controls",
            "_view_module_version": "1.5.0",
            "_view_name": "TabView",
            "box_style": "",
            "children": [
              "IPY_MODEL_3d22ca21fc0947d0b4b35ce24e1625e8",
              "IPY_MODEL_085633c3730d4fc298fc27870f5659c9"
            ],
            "layout": "IPY_MODEL_15d69b2b873a473b9dd0d154c477348c",
            "selected_index": 0
          }
        },
        "3d22ca21fc0947d0b4b35ce24e1625e8": {
          "model_module": "@jupyter-widgets/output",
          "model_name": "OutputModel",
          "model_module_version": "1.0.0",
          "state": {
            "_dom_classes": [],
            "_model_module": "@jupyter-widgets/output",
            "_model_module_version": "1.0.0",
            "_model_name": "OutputModel",
            "_view_count": null,
            "_view_module": "@jupyter-widgets/output",
            "_view_module_version": "1.0.0",
            "_view_name": "OutputView",
            "layout": "IPY_MODEL_612244c90fce4b9b8549faf74d61d708",
            "msg_id": "",
            "outputs": [
              {
                "output_type": "stream",
                "name": "stdout",
                "text": [
                  "Video available at https://youtube.com/watch?v=z6KbKILMIPU\n"
                ]
              },
              {
                "output_type": "display_data",
                "data": {
                  "text/plain": "<IPython.lib.display.YouTubeVideo at 0x7e0843c6f9d0>",
                  "text/html": "\n        <iframe\n            width=\"854\"\n            height=\"480\"\n            src=\"https://www.youtube.com/embed/z6KbKILMIPU?fs=1&rel=0\"\n            frameborder=\"0\"\n            allowfullscreen\n            \n        ></iframe>\n        ",
                  "image/jpeg": "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\n"
                },
                "metadata": {}
              }
            ]
          }
        },
        "085633c3730d4fc298fc27870f5659c9": {
          "model_module": "@jupyter-widgets/output",
          "model_name": "OutputModel",
          "model_module_version": "1.0.0",
          "state": {
            "_dom_classes": [],
            "_model_module": "@jupyter-widgets/output",
            "_model_module_version": "1.0.0",
            "_model_name": "OutputModel",
            "_view_count": null,
            "_view_module": "@jupyter-widgets/output",
            "_view_module_version": "1.0.0",
            "_view_name": "OutputView",
            "layout": "IPY_MODEL_c53c4cf153b94dceb26790b63ccc9ebe",
            "msg_id": "",
            "outputs": [
              {
                "output_type": "stream",
                "name": "stdout",
                "text": [
                  "Video available at https://www.bilibili.com/video/BV1Sw41197Mj\n"
                ]
              },
              {
                "output_type": "display_data",
                "data": {
                  "text/plain": "<__main__.PlayVideo at 0x7e0843ca2650>",
                  "text/html": "\n        <iframe\n            width=\"854\"\n            height=\"480\"\n            src=\"https://player.bilibili.com/player.html?bvid=BV1Sw41197Mj&page=1?fs=1&autoplay=False\"\n            frameborder=\"0\"\n            allowfullscreen\n            \n        ></iframe>\n        "
                },
                "metadata": {}
              }
            ]
          }
        },
        "15d69b2b873a473b9dd0d154c477348c": {
          "model_module": "@jupyter-widgets/base",
          "model_name": "LayoutModel",
          "model_module_version": "1.2.0",
          "state": {
            "_model_module": "@jupyter-widgets/base",
            "_model_module_version": "1.2.0",
            "_model_name": "LayoutModel",
            "_view_count": null,
            "_view_module": "@jupyter-widgets/base",
            "_view_module_version": "1.2.0",
            "_view_name": "LayoutView",
            "align_content": null,
            "align_items": null,
            "align_self": null,
            "border": null,
            "bottom": null,
            "display": null,
            "flex": null,
            "flex_flow": null,
            "grid_area": null,
            "grid_auto_columns": null,
            "grid_auto_flow": null,
            "grid_auto_rows": null,
            "grid_column": null,
            "grid_gap": null,
            "grid_row": null,
            "grid_template_areas": null,
            "grid_template_columns": null,
            "grid_template_rows": null,
            "height": null,
            "justify_content": null,
            "justify_items": null,
            "left": null,
            "margin": null,
            "max_height": null,
            "max_width": null,
            "min_height": null,
            "min_width": null,
            "object_fit": null,
            "object_position": null,
            "order": null,
            "overflow": null,
            "overflow_x": null,
            "overflow_y": null,
            "padding": null,
            "right": null,
            "top": null,
            "visibility": null,
            "width": null
          }
        },
        "612244c90fce4b9b8549faf74d61d708": {
          "model_module": "@jupyter-widgets/base",
          "model_name": "LayoutModel",
          "model_module_version": "1.2.0",
          "state": {
            "_model_module": "@jupyter-widgets/base",
            "_model_module_version": "1.2.0",
            "_model_name": "LayoutModel",
            "_view_count": null,
            "_view_module": "@jupyter-widgets/base",
            "_view_module_version": "1.2.0",
            "_view_name": "LayoutView",
            "align_content": null,
            "align_items": null,
            "align_self": null,
            "border": null,
            "bottom": null,
            "display": null,
            "flex": null,
            "flex_flow": null,
            "grid_area": null,
            "grid_auto_columns": null,
            "grid_auto_flow": null,
            "grid_auto_rows": null,
            "grid_column": null,
            "grid_gap": null,
            "grid_row": null,
            "grid_template_areas": null,
            "grid_template_columns": null,
            "grid_template_rows": null,
            "height": null,
            "justify_content": null,
            "justify_items": null,
            "left": null,
            "margin": null,
            "max_height": null,
            "max_width": null,
            "min_height": null,
            "min_width": null,
            "object_fit": null,
            "object_position": null,
            "order": null,
            "overflow": null,
            "overflow_x": null,
            "overflow_y": null,
            "padding": null,
            "right": null,
            "top": null,
            "visibility": null,
            "width": null
          }
        },
        "c53c4cf153b94dceb26790b63ccc9ebe": {
          "model_module": "@jupyter-widgets/base",
          "model_name": "LayoutModel",
          "model_module_version": "1.2.0",
          "state": {
            "_model_module": "@jupyter-widgets/base",
            "_model_module_version": "1.2.0",
            "_model_name": "LayoutModel",
            "_view_count": null,
            "_view_module": "@jupyter-widgets/base",
            "_view_module_version": "1.2.0",
            "_view_name": "LayoutView",
            "align_content": null,
            "align_items": null,
            "align_self": null,
            "border": null,
            "bottom": null,
            "display": null,
            "flex": null,
            "flex_flow": null,
            "grid_area": null,
            "grid_auto_columns": null,
            "grid_auto_flow": null,
            "grid_auto_rows": null,
            "grid_column": null,
            "grid_gap": null,
            "grid_row": null,
            "grid_template_areas": null,
            "grid_template_columns": null,
            "grid_template_rows": null,
            "height": null,
            "justify_content": null,
            "justify_items": null,
            "left": null,
            "margin": null,
            "max_height": null,
            "max_width": null,
            "min_height": null,
            "min_width": null,
            "object_fit": null,
            "object_position": null,
            "order": null,
            "overflow": null,
            "overflow_x": null,
            "overflow_y": null,
            "padding": null,
            "right": null,
            "top": null,
            "visibility": null,
            "width": null
          }
        },
        "49d40ff3d68e499ea36b064ca4bb3ad0": {
          "model_module": "@jupyter-widgets/controls",
          "model_name": "VBoxModel",
          "model_module_version": "1.5.0",
          "state": {
            "_dom_classes": [
              "widget-interact"
            ],
            "_model_module": "@jupyter-widgets/controls",
            "_model_module_version": "1.5.0",
            "_model_name": "VBoxModel",
            "_view_count": null,
            "_view_module": "@jupyter-widgets/controls",
            "_view_module_version": "1.5.0",
            "_view_name": "VBoxView",
            "box_style": "",
            "children": [
              "IPY_MODEL_2ab250e442d0465fbd6d789ee692a97c",
              "IPY_MODEL_0e4ce7c625b74d22919cf954cee5d212",
              "IPY_MODEL_e0cb4ec28520422c85794bc8cd547032",
              "IPY_MODEL_a915c1adec4c4e8ba37ce512f2166c79"
            ],
            "layout": "IPY_MODEL_88ca8d7a920042909494038241686927"
          }
        },
        "2ab250e442d0465fbd6d789ee692a97c": {
          "model_module": "@jupyter-widgets/controls",
          "model_name": "FloatSliderModel",
          "model_module_version": "1.5.0",
          "state": {
            "_dom_classes": [],
            "_model_module": "@jupyter-widgets/controls",
            "_model_module_version": "1.5.0",
            "_model_name": "FloatSliderModel",
            "_view_count": null,
            "_view_module": "@jupyter-widgets/controls",
            "_view_module_version": "1.5.0",
            "_view_name": "FloatSliderView",
            "continuous_update": true,
            "description": "switch_prob",
            "description_tooltip": null,
            "disabled": false,
            "layout": "IPY_MODEL_b6bdcab9eb6f4a8687fee4af0d084a68",
            "max": 1,
            "min": 0,
            "orientation": "horizontal",
            "readout": true,
            "readout_format": ".2f",
            "step": 0.02,
            "style": "IPY_MODEL_fa06b4df15c4468e8ee5acc0fda4309e",
            "value": 0.1
          }
        },
        "0e4ce7c625b74d22919cf954cee5d212": {
          "model_module": "@jupyter-widgets/controls",
          "model_name": "FloatSliderModel",
          "model_module_version": "1.5.0",
          "state": {
            "_dom_classes": [],
            "_model_module": "@jupyter-widgets/controls",
            "_model_module_version": "1.5.0",
            "_model_name": "FloatSliderModel",
            "_view_count": null,
            "_view_module": "@jupyter-widgets/controls",
            "_view_module_version": "1.5.0",
            "_view_name": "FloatSliderView",
            "continuous_update": true,
            "description": "log10_noise_level",
            "description_tooltip": null,
            "disabled": false,
            "layout": "IPY_MODEL_6ef1ebef73164edc9d8acaf1c4c0a990",
            "max": 1,
            "min": -1,
            "orientation": "horizontal",
            "readout": true,
            "readout_format": ".2f",
            "step": 0.01,
            "style": "IPY_MODEL_751f874bf4244a6a917788d43f7e3c3d",
            "value": -0.3
          }
        },
        "e0cb4ec28520422c85794bc8cd547032": {
          "model_module": "@jupyter-widgets/controls",
          "model_name": "CheckboxModel",
          "model_module_version": "1.5.0",
          "state": {
            "_dom_classes": [],
            "_model_module": "@jupyter-widgets/controls",
            "_model_module_version": "1.5.0",
            "_model_name": "CheckboxModel",
            "_view_count": null,
            "_view_module": "@jupyter-widgets/controls",
            "_view_module_version": "1.5.0",
            "_view_name": "CheckboxView",
            "description": "measurements",
            "description_tooltip": null,
            "disabled": false,
            "indent": false,
            "layout": "IPY_MODEL_f994a0a6ad4a415fb92a96b95a0672c4",
            "style": "IPY_MODEL_421c1a983b554464b834fbc8b62c502f",
            "value": false
          }
        },
        "a915c1adec4c4e8ba37ce512f2166c79": {
          "model_module": "@jupyter-widgets/output",
          "model_name": "OutputModel",
          "model_module_version": "1.0.0",
          "state": {
            "_dom_classes": [],
            "_model_module": "@jupyter-widgets/output",
            "_model_module_version": "1.0.0",
            "_model_name": "OutputModel",
            "_view_count": null,
            "_view_module": "@jupyter-widgets/output",
            "_view_module_version": "1.0.0",
            "_view_name": "OutputView",
            "layout": "IPY_MODEL_f06f3e3f5ca7415b90f862dcd8298cf6",
            "msg_id": "",
            "outputs": [
              {
                "output_type": "stream",
                "name": "stdout",
                "text": [
                  "GaussianHMM1D(startprob=array([1., 0.]), transmat=array([[0.9, 0.1],\n",
                  "       [0.1, 0.9]]), means=array([-1.,  1.]), vars=array([0.25118864, 0.25118864]), n_components=2)\n"
                ]
              },
              {
                "output_type": "display_data",
                "data": {
                  "text/plain": "<Figure size 800x400 with 2 Axes>",
                  "image/png": "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\n"
                },
                "metadata": {
                  "image/png": {
                    "width": 775,
                    "height": 375
                  }
                }
              }
            ]
          }
        },
        "88ca8d7a920042909494038241686927": {
          "model_module": "@jupyter-widgets/base",
          "model_name": "LayoutModel",
          "model_module_version": "1.2.0",
          "state": {
            "_model_module": "@jupyter-widgets/base",
            "_model_module_version": "1.2.0",
            "_model_name": "LayoutModel",
            "_view_count": null,
            "_view_module": "@jupyter-widgets/base",
            "_view_module_version": "1.2.0",
            "_view_name": "LayoutView",
            "align_content": null,
            "align_items": null,
            "align_self": null,
            "border": null,
            "bottom": null,
            "display": null,
            "flex": null,
            "flex_flow": null,
            "grid_area": null,
            "grid_auto_columns": null,
            "grid_auto_flow": null,
            "grid_auto_rows": null,
            "grid_column": null,
            "grid_gap": null,
            "grid_row": null,
            "grid_template_areas": null,
            "grid_template_columns": null,
            "grid_template_rows": null,
            "height": null,
            "justify_content": null,
            "justify_items": null,
            "left": null,
            "margin": null,
            "max_height": null,
            "max_width": null,
            "min_height": null,
            "min_width": null,
            "object_fit": null,
            "object_position": null,
            "order": null,
            "overflow": null,
            "overflow_x": null,
            "overflow_y": null,
            "padding": null,
            "right": null,
            "top": null,
            "visibility": null,
            "width": null
          }
        },
        "b6bdcab9eb6f4a8687fee4af0d084a68": {
          "model_module": "@jupyter-widgets/base",
          "model_name": "LayoutModel",
          "model_module_version": "1.2.0",
          "state": {
            "_model_module": "@jupyter-widgets/base",
            "_model_module_version": "1.2.0",
            "_model_name": "LayoutModel",
            "_view_count": null,
            "_view_module": "@jupyter-widgets/base",
            "_view_module_version": "1.2.0",
            "_view_name": "LayoutView",
            "align_content": null,
            "align_items": null,
            "align_self": null,
            "border": null,
            "bottom": null,
            "display": null,
            "flex": null,
            "flex_flow": null,
            "grid_area": null,
            "grid_auto_columns": null,
            "grid_auto_flow": null,
            "grid_auto_rows": null,
            "grid_column": null,
            "grid_gap": null,
            "grid_row": null,
            "grid_template_areas": null,
            "grid_template_columns": null,
            "grid_template_rows": null,
            "height": null,
            "justify_content": null,
            "justify_items": null,
            "left": null,
            "margin": null,
            "max_height": null,
            "max_width": null,
            "min_height": null,
            "min_width": null,
            "object_fit": null,
            "object_position": null,
            "order": null,
            "overflow": null,
            "overflow_x": null,
            "overflow_y": null,
            "padding": null,
            "right": null,
            "top": null,
            "visibility": null,
            "width": null
          }
        },
        "fa06b4df15c4468e8ee5acc0fda4309e": {
          "model_module": "@jupyter-widgets/controls",
          "model_name": "SliderStyleModel",
          "model_module_version": "1.5.0",
          "state": {
            "_model_module": "@jupyter-widgets/controls",
            "_model_module_version": "1.5.0",
            "_model_name": "SliderStyleModel",
            "_view_count": null,
            "_view_module": "@jupyter-widgets/base",
            "_view_module_version": "1.2.0",
            "_view_name": "StyleView",
            "description_width": "",
            "handle_color": null
          }
        },
        "6ef1ebef73164edc9d8acaf1c4c0a990": {
          "model_module": "@jupyter-widgets/base",
          "model_name": "LayoutModel",
          "model_module_version": "1.2.0",
          "state": {
            "_model_module": "@jupyter-widgets/base",
            "_model_module_version": "1.2.0",
            "_model_name": "LayoutModel",
            "_view_count": null,
            "_view_module": "@jupyter-widgets/base",
            "_view_module_version": "1.2.0",
            "_view_name": "LayoutView",
            "align_content": null,
            "align_items": null,
            "align_self": null,
            "border": null,
            "bottom": null,
            "display": null,
            "flex": null,
            "flex_flow": null,
            "grid_area": null,
            "grid_auto_columns": null,
            "grid_auto_flow": null,
            "grid_auto_rows": null,
            "grid_column": null,
            "grid_gap": null,
            "grid_row": null,
            "grid_template_areas": null,
            "grid_template_columns": null,
            "grid_template_rows": null,
            "height": null,
            "justify_content": null,
            "justify_items": null,
            "left": null,
            "margin": null,
            "max_height": null,
            "max_width": null,
            "min_height": null,
            "min_width": null,
            "object_fit": null,
            "object_position": null,
            "order": null,
            "overflow": null,
            "overflow_x": null,
            "overflow_y": null,
            "padding": null,
            "right": null,
            "top": null,
            "visibility": null,
            "width": null
          }
        },
        "751f874bf4244a6a917788d43f7e3c3d": {
          "model_module": "@jupyter-widgets/controls",
          "model_name": "SliderStyleModel",
          "model_module_version": "1.5.0",
          "state": {
            "_model_module": "@jupyter-widgets/controls",
            "_model_module_version": "1.5.0",
            "_model_name": "SliderStyleModel",
            "_view_count": null,
            "_view_module": "@jupyter-widgets/base",
            "_view_module_version": "1.2.0",
            "_view_name": "StyleView",
            "description_width": "",
            "handle_color": null
          }
        },
        "f994a0a6ad4a415fb92a96b95a0672c4": {
          "model_module": "@jupyter-widgets/base",
          "model_name": "LayoutModel",
          "model_module_version": "1.2.0",
          "state": {
            "_model_module": "@jupyter-widgets/base",
            "_model_module_version": "1.2.0",
            "_model_name": "LayoutModel",
            "_view_count": null,
            "_view_module": "@jupyter-widgets/base",
            "_view_module_version": "1.2.0",
            "_view_name": "LayoutView",
            "align_content": null,
            "align_items": null,
            "align_self": null,
            "border": null,
            "bottom": null,
            "display": null,
            "flex": null,
            "flex_flow": null,
            "grid_area": null,
            "grid_auto_columns": null,
            "grid_auto_flow": null,
            "grid_auto_rows": null,
            "grid_column": null,
            "grid_gap": null,
            "grid_row": null,
            "grid_template_areas": null,
            "grid_template_columns": null,
            "grid_template_rows": null,
            "height": null,
            "justify_content": null,
            "justify_items": null,
            "left": null,
            "margin": null,
            "max_height": null,
            "max_width": null,
            "min_height": null,
            "min_width": null,
            "object_fit": null,
            "object_position": null,
            "order": null,
            "overflow": null,
            "overflow_x": null,
            "overflow_y": null,
            "padding": null,
            "right": null,
            "top": null,
            "visibility": null,
            "width": null
          }
        },
        "421c1a983b554464b834fbc8b62c502f": {
          "model_module": "@jupyter-widgets/controls",
          "model_name": "DescriptionStyleModel",
          "model_module_version": "1.5.0",
          "state": {
            "_model_module": "@jupyter-widgets/controls",
            "_model_module_version": "1.5.0",
            "_model_name": "DescriptionStyleModel",
            "_view_count": null,
            "_view_module": "@jupyter-widgets/base",
            "_view_module_version": "1.2.0",
            "_view_name": "StyleView",
            "description_width": ""
          }
        },
        "f06f3e3f5ca7415b90f862dcd8298cf6": {
          "model_module": "@jupyter-widgets/base",
          "model_name": "LayoutModel",
          "model_module_version": "1.2.0",
          "state": {
            "_model_module": "@jupyter-widgets/base",
            "_model_module_version": "1.2.0",
            "_model_name": "LayoutModel",
            "_view_count": null,
            "_view_module": "@jupyter-widgets/base",
            "_view_module_version": "1.2.0",
            "_view_name": "LayoutView",
            "align_content": null,
            "align_items": null,
            "align_self": null,
            "border": null,
            "bottom": null,
            "display": null,
            "flex": null,
            "flex_flow": null,
            "grid_area": null,
            "grid_auto_columns": null,
            "grid_auto_flow": null,
            "grid_auto_rows": null,
            "grid_column": null,
            "grid_gap": null,
            "grid_row": null,
            "grid_template_areas": null,
            "grid_template_columns": null,
            "grid_template_rows": null,
            "height": null,
            "justify_content": null,
            "justify_items": null,
            "left": null,
            "margin": null,
            "max_height": null,
            "max_width": null,
            "min_height": null,
            "min_width": null,
            "object_fit": null,
            "object_position": null,
            "order": null,
            "overflow": null,
            "overflow_x": null,
            "overflow_y": null,
            "padding": null,
            "right": null,
            "top": null,
            "visibility": null,
            "width": null
          }
        },
        "063e209fa6eb445c8ac5d7a46db99d17": {
          "model_module": "@jupyter-widgets/controls",
          "model_name": "TabModel",
          "model_module_version": "1.5.0",
          "state": {
            "_dom_classes": [],
            "_model_module": "@jupyter-widgets/controls",
            "_model_module_version": "1.5.0",
            "_model_name": "TabModel",
            "_titles": {
              "0": "Youtube",
              "1": "Bilibili"
            },
            "_view_count": null,
            "_view_module": "@jupyter-widgets/controls",
            "_view_module_version": "1.5.0",
            "_view_name": "TabView",
            "box_style": "",
            "children": [
              "IPY_MODEL_cd6fb9491aa04e22a2eaf6e42132e641",
              "IPY_MODEL_c9be54b196034f03bc7dd3f5ebc6e7fd"
            ],
            "layout": "IPY_MODEL_6088bf676cf3499bbee001727727aad7",
            "selected_index": 0
          }
        },
        "cd6fb9491aa04e22a2eaf6e42132e641": {
          "model_module": "@jupyter-widgets/output",
          "model_name": "OutputModel",
          "model_module_version": "1.0.0",
          "state": {
            "_dom_classes": [],
            "_model_module": "@jupyter-widgets/output",
            "_model_module_version": "1.0.0",
            "_model_name": "OutputModel",
            "_view_count": null,
            "_view_module": "@jupyter-widgets/output",
            "_view_module_version": "1.0.0",
            "_view_name": "OutputView",
            "layout": "IPY_MODEL_629a77095f83465a8fa780788d24ed82",
            "msg_id": "",
            "outputs": [
              {
                "output_type": "stream",
                "name": "stdout",
                "text": [
                  "Video available at https://youtube.com/watch?v=bDDRgAvQeFA\n"
                ]
              },
              {
                "output_type": "display_data",
                "data": {
                  "text/plain": "<IPython.lib.display.YouTubeVideo at 0x7e0843c579d0>",
                  "text/html": "\n        <iframe\n            width=\"854\"\n            height=\"480\"\n            src=\"https://www.youtube.com/embed/bDDRgAvQeFA?fs=1&rel=0\"\n            frameborder=\"0\"\n            allowfullscreen\n            \n        ></iframe>\n        ",
                  "image/jpeg": "/9j/4AAQSkZJRgABAQAAAQABAAD/2wCEAAUDBAgICAgICAgICAgICAoICAgKCwoICAgICAgICAgICAgIChALCAgOCggIDRYNDhERExMTCAsWGBYSGBASExIBBQUFCAcIDwkJDhIPEBASEhISEhISEhUVEhISEhISEhIVEhISEhISEhISEhISFRISEhISEhISEhISEhISEhISEv/AABEIAWgB4AMBIgACEQEDEQH/xAAdAAEAAgMBAQEBAAAAAAAAAAAABgcDBQgEAgEJ/8QAYRAAAQMDAQMHBQgMDAIGCAcAAQACAwQFERIGITEHExQiQVGRCBZSYdIjMlNxgZKh0RUYM0JUVXKTlLGy4iQ0NmJzdHWCs7TB8Dd2Q2ODtcLhCRclZITF1PE1RFaipMTT/8QAGwEBAQADAQEBAAAAAAAAAAAAAAECAwQFBgf/xAAyEQEAAgECBQIDBgYDAAAAAAAAAQIRAyEEEjFBUQVhEyJxBlKBkaHBgqKxsuHwIzJC/9oADAMBAAIRAxEAPwDjJERAREQEREBERAREQEREBERAREQEREBERAREQEREBERAREQEREBERAREQEREBERAREQEREBERAREQEREBERAREQEREBERAREQEREBERAREQEREBERAREQEREBERAREQEREBERAREQEREBERAREQEREBERAREQEREBERAREQEREBERAREQEREBERAREQEREBERAREQEREBFv/ADUqPTh8X+wnmpUenD4v9hBoEW/81Kj04fF/sJ5qVHpw+L/YQaBFv/NSo9OHxf7CealR6cPi/wBhBoEW/wDNSo9OHxf7CealR6cPi/2EGgRb/wA1Kj04fF/sJ5qVHpw+L/YQaBFv/NSo9OHxf7CealR6cPi/2EGgRb/zUqPTh8X+wnmpUenD4v8AYQaBFv8AzUqPTh8X+wnmpUenD4v9hBoEW/8ANSo9OHxf7CealR6cPi/2EGgRb/zUqPTh8X+wnmpUenD4v9hBoEW/81Kj04fF/sJ5qVHpw+L/AGEGgRb/AM1Kj04fF/sJ5qVHpw+L/YQaBFv/ADUqPTh8X+wnmpUenD4v9hBoEW/81Kj04fF/sJ5qVHpw+L/YQaBFv/NSo9OHxf7CealR6cPi/wBhBoEW/wDNSo9OHxf7CealR6cPi/2EGgRb/wA1Kj04fF/sJ5qVHpw+L/YQaBFv/NSo9OHxf7CealR6cPi/2EGgRb/zUqPTh8X+wnmpUenD4v8AYQaBFv8AzUqPTh8X+wnmpUenD4v9hBoEW/8ANSo9OHxf7CealR6cPi/2EGgRb/zUqPTh8X+wnmpUenD4v9hBoEW/81Kj04fF/sJ5qVHpw+L/AGEGgRb/AM1Kj04fF/sJ5qVHpw+L/YQaBFv/ADUqPTh8X+wnmpUenD4v9hBoEW/81Kj04fF/sJ5qVHpw+L/YQaBFv/NSo9OHxf7CealR6cPi/wBhBoEW/wDNSo9OHxf7CealR6cPi/2EGgRb/wA1Kj04fF/sJ5qVHpw+L/YQaBFv/NSo9OHxf7CealR6cPi/2EEzREWTEREQEREBERAREQEREBERAREQEREBERAREQEREBERAREQEREBERAREQEREBERAREQEREBERAREQEREBERAREQEREBERAREQEREBERARFGpdqw1zm8weqSPf8AccegoqSoov53D8HP5z9xPO4fg5/OfuIYShFF/O4fg5/OfuJ53D8HP5z9xDCUIov53D8HP5z9xPO4fg5/OfuIYShFF/O4fg5/OfuJ53D8HP5z9xDCUIov53D8HP5z9xPO4fg5/OfuIYShFF/O4fg5/OfuJ53D8HP5z9xDCUIov53D8HP5z9xPO4fg5/OfuIYShFF/O4fg5/OfuJ53D8HP5z9xDCUIov53D8HP5z9xPO4fg5/OfuIYShFF/O4fg5/OfuJ53D8HP5z9xDCUIov53D8HP5z9xPO4fg5/OfuIYShFF/O4fg5/OfuJ53D8HP5z9xDCUIov53D8HP5z9xPO4fg5/OfuIYShFF/O4fg5/OfuJ53D8HP5z9xDCUIov53D8HP5z9xPO4fg5/OfuIYShFHKPagSSRx8wRre1mdecanBucaN/FSNAREVQREQEREBERAREQEREBERAREQEREBERAREQEREBERACrKr+6P/Ld+0VZoVZVf3R/5bv2ipKwxIiKKIiICIiAiIgIiICIiAiIgIiICIiAiIgIiICIiAiIgIiICIiD12f8AjNP/AE8f+I1WOq4s/wDGaf8Ap4/8RqsdWEkREVQREQEREBERARF8vka33zgN+N5A392/tQfSLHHMxxw17XEcQCCR8gWRAREQEREBERAREQEREBERAREQAqyq/uj/AMt37RVmhVlV/dH/AJbv2ipKwm/JryXV1+t9+uVJPSRQ7PUYraxkzpWyyxGCsn00wjic10mmikGHloy5u/jiBrqnyHLRNcLFyhUFPp6RXWmno4NZ0M56po77DFrf963W9uT2BRb7UXa/utf6W32FFQDlb5J6/ZqntFRWz0czLzTOqqZtO6Vzo2MZTPIn56FgDsVTPel3vXerPm5RuTSssdBY7hU1NHNFf6PptLHA+R8sEfM0k+iqbJE1rJNNZGMNLhlj9+4Zvjy/6KSmo9iqaXAlp7bUwSAHU0SRRWqN+l33w1NO9V35RHJ9a7PY9iK6ghfFU3uz9MuL3SySiWfodqm1NZI4iIa6qY4bgdYdwQUmrX2c5L6Wq2Fu+1bqmobV266R0EdMAzo8kb3WsF7yW6w/+HycDjqN9asKu2B2S2Ns1qqNqrfWXu9XmHpTbfFUSUUNBBpY4te+CRjjIOdY0k6w57XgABpJlN4NgdyU7STbOCtjoZ71Tyy0lZgz0NX0myRyUrZWkieHRHDI1+pxxOATqa4AOPVa/kxcl9LtZdK2gq6mopY6a1y17XwBhe6SKopIQx3ONI0YqHHdvyApLyK8mdki2drNsdqm1M9shn6JQW2neYZK+bU2IvdKx7XCPnHOYA1zSOYlccgAOuPyRq/Y6tu9wqdnqG42avZZaiKe2zyuraOalfVUbjVQVUj3yNmZJHExzHloInaWg6XEBxAitXybeS+HaOurJLhUOo7LZ6R1fdappaHNhYHObCxzgebc5sczy/SQG08naW5s3YfZXYPbV1fZ7FabhYrtDSSVdurJqqSpjquZcxmiqhlnkZESZGEtYNw1kO6uHBy6iu/yO+Tm27RX+ut14p5JYqe0z1LYhJLTPjqoq2ggBcYiHbmzygtPfw3Kd8nmzHJnJdKbZV8FyvNymc+lkv7JpKehNc2NxeKOKGoaHU4exzGvdHICdJzI060HKqtzkq5BbhtDaZr1Fc7Nb6KCrdRyPr55qbTI1tOQS9tO6NrXGpjaMuyScY4KG8rmyf2CvlztIkMraGrfFFKcanwnD4HPwABIYnsyBuznCvbYn/gxtJ/bkP8AnLCg0DPJPv08csluuuzd1dG3VzNHXPkmfu4AvpmxNJO7L3tG8bwqO2istXbqqehrqeWlq6Z5jngkGmSNwAIyO1pBDg4ZDg5pBIIK/dmr5V22rp6+gnkpaulkEsE8Zw9jxu4Hc5pBLS1wLXNc4EEEhdjeUTQ2S6XPk9v11pM0W0VK2muLWyup3tZVU9JNQSufG8ENgkr5HOdknRGG79yDihFZnlHcnB2e2nrLVSxSmmldHUWxu+WSSmqx7nGzi+Qsm52AZ6zjB25yZ9yqcmFjs962L2bbC6S4VT6DzkmE0rmyurqqnpzDAA/TAOrVnqgHS+E545DnVF1nyrbD8nGx92qI7nT191dU8y+kstLPI1tupOjwtfLWVJqI5HzyztqHtZzm5jmdUAhxrryteTK12CrtdXZTK22Xuh6ZT08rnSOpy3mi4NkkJeYnMnhcA8ucCX7yMYCkUV5bO7Q8mlFT0UFVs/ebxUGCE3CtfVvpQyofGx1S2jgp6iISxMe57WiQMJDBkn3x1vla8mlFsxfo6W2ulNDW0EVwgZIdboBLNUQugEh60jAYNQLt+JACSQSQp9F15ymcl+wGzdNZ7pdI617aq3xuZZqaeR09yq5GRPlqJZZZQaakiDx7xzMukGM6dLsO1vJRsCbXads2TV1q2enif0i0Ne6ora6ra9zIaKiknlc6OUyRVLZCZCNEIIMXWkAckqb2Xk1q6vZy5bTMqKNtHbKqOkmpnvkFbI+WSjja+GMRGN0ea2PeXg9R+7cM29yg7EbH3bYqt2q2ZoKy0SWmvjo6mmnmlqRUc7NRwnPPTy6SBXQPDmFo6sjS07iIpsbsBa6nk72i2hmhe66W+6U9LSziSRrGQyz2hj2mFrubedNXPvcCesO4IKVRX/5PvJFaKmy3Da7amaeOx29zo4aWA6Jq6ZhYx2XjBDDLLHCxrHNLpHHLmBnW0HKHtNsDVW2ris2zVxtdzzF0KqfWS1UJDaiIzdJjnqnBhdAJQA1rsOc3f2oKfRdMbOcn+y9i2Otm01/tNdtBNdpSBFT1E1LSUEZfM2ISTUz2OEjhGM69XXcWjGnLqU5VbhYamubLs9QVVtoTTxh9LUyGd7aoOk51zJXSvc6ItMeMkHIduCCO2f8AjNP/AE8f+I1WOq4s/wDGaf8Ap4/8RqsdWEkREVQREQEREArW3W8RwEsHukgxqDcFrAcHe8HBdjsHxccrw7QXB+swsDtLd0hbxJ7tQ4DeN3b6shaWloZZcMDH4984BvZ74EdgGMbzgcVvppYjMsJt4eiSslmL3c+9jSNzdwJaN7sAHAAbvxxJOFgDad7t7puaydbzjXq6uSIwcEZO4E53HesVXFI1wDmlpxpaMFriDkDIO8uOfDwQ0s0bGyc3JoeRhxYcEneC0kY3gjxCymYjsmJeeUaQBqw7JIO/IxjGHDv7l+NqntIIkeHd+oj6Qd6yVNNKCA6KRp3ZDmlp7uGBxKxSUso4xubjjkEYzkjj2fUVqt7M4b617SPbhs7S8djxgPx25BOHfQpFQ1sczdUbsgcQQWkfGCq/6M9rgJGln5QLcA9u/s+JeyhqZIn8407xu9Rb3FvokYP096x5dsqniLwWW5sqWkgEObjU09meBHqOD4L3rBRERVBERAREQEREBERACrKr+6P/AC3ftFWaFWVX90f+W79oqSsOlPJB/krynf8AL7f+7toFzMpDstttdLXTXGjoKx9NTXaDo1xia2NwqoBHPFzbzIwuaNFTOOqQfdD3DEeUV1N5dI/9l7B/2PN/l7Stf5Xv8mOTL/l3/wCX2JUbtnt3drzHRRXOtkq47dEYKJrmxtEETmxNcxvNsaXAiGIZdk9QL42p21ul0p7fSV9W+pp7VB0a3xObG1tNBzcMXNsMbAXDRTwjLiT7mPWg6b8uLZavvj9nr9Z6SquNvqrUyFvRYpKnmi57qmFz44WlzBIyowCRxhxuOM4RsXcLHyQX6C5w9Gqau7UtcKZx93ghmqbJFGyqj4wTkQF/NnrBsjM4JLRRWwPLTtRYqXoVqu89NSanObTujgqY4y8lz+ZFXE/mAXFziGaQXOceJJWtunKbfqqjr6CpudRPS3OqFbXxS6JDU1Lejhkj5XNMg0ikpgGtcGgQtAAG5B0DS2Oo2g5IKCltTJKqrst3mmq6SAGSeQdKuDywRM60hENyglwATiPdwWx8g7k6vNvuFzu1fRTUNLLaJ6KBtS11PU1Erqijnc+GmlaJHU7GxYdIQG6pWAautp5n5OuUK9bPTSz2a4TUMkzQyYNDJIpgwks52nnY6KRzdT9LnNJbrfgjUc76o5c9rJK83J96qTWGlfRCTTAGMpppIpZYoqcRczCHvghJLGgnmm5O5BcP/o+741km01qhmghulzt8UtsM7dcL56Jle0h8eRzwaayJ5jByWRyngCR+1HLnylU1a+iNhibWxuMZhjtM75SQdJ5swuPOxnG5zCWuBBBIIK5et1bNTSxz08ssE8LxJFNE90UsUjTlskcjCHMeDvBBBCtN3lJ7bmHmPs/Poxp1CCjE2MY/jApudz69WUFj+QNNLJtje5KhuieSy1z52adGiZ10tjpG6D73Di4Y7MKqfJZ/lls9/aDP2HqL7F7d3ezVc1fbK6WlrKiJ8E9QAySSSKWWOaVrjM1wJdJFG4njlvHitZs3e6q21cFdRTOp6umkEsEzQ1zo3gEBwDwWncTxBQWH5W/8tdoP62z/ACsCtbkzttTWcj20NPSU89VUSXyPm4II3zzP0VVie7RFEC52Gtc44G4NJ7FzPtPfau51c9fXzOqKupcHzzODWukcGtYCQwBo6rWjcBwUn2E5XNo7FSuo7TdJqKmdM6odExkDwZntYx78yxOdktjYOOOqg2nJ9yE7T3ithpG2i4UcT3tE1ZV001LTU8WoB8rnztaJHNBJ5thLnY3BT3y4tr7fUV1o2ftb2S0ezNE6jMsbg5gqHtp4n0wLBpdzMVHTtJB3PfI3ALDmuNpOW/a24wmCqv1wdC7IfHG8UokaQWlknRWsMjCCctdkHuVeIP6B7CWyh2yotjdsa6aNs2zjKgXgyYzLLQxFzJZXN3M0VMMVWBw0VL92/dylQbXyX7lAoLvIHDpu01vkjY7GqOnZX00VLC7ScFzII4mZHoKd0u0lLs7yZSUFLcqae77T1hfVUsFTDPLb6GRjGyCaGN7uZMlNTRscHAO/hpB3x7ueLRcJqSogqqd5iqKaaOoglGCY5oXtkikAcCCWva07wRuQW55bX8u77/8AAf8Ac9vVg+WLStno+TuB0jYWzWhkTpne8ibJFamGR+8dVoOTvHBc3bX7SV13rZrhcah1VW1Gjnp3BjXP5mKOCPLY2taMRxMbuH3q9m2G291u8dFDcqx9VHboej0TXNjaIIdMbdDebYC4YijGXZPVQdWcr9tuGyddQWHY3ZKmmZJSRvdd5bebtW1lQ+SRsjX1krDHGGFoc5rtzecBAjZpCif/AKRmlmbfLPM+NwY+ysiD8YYZoqyqdLG0jq6miaMkDgHt71VEfL3tg2gFsbfqxtI2LmWgCEVIjA0horhF0oYG7POZxuWmvvKhfq6001iq7g+e1UfNdGpXRwe5CnY6OBonbEJnNYxxaA55AGBwAQXf5eX3LY3+xD+zSLzcqP8Awi2O/tif/FvqorbTbi63kUgudZJVihh6PSB7Y28zD1RobzTG5HUbvOTuXzcttbpU2ulss1Y+S10Mrp6WkLYwyGVxmLntc1ge45qJvfOP3Q+pBenJ1/we2u/t2m/zOzq+eTn/AIQbX/25Sf5nZ9UZQbaXSC1VVkiq3stVbM2oqqMNjLJpmOge2QvLOcaQaWA7nD7mPXlQbaXOC1VVkhq3stdbM2oqqMNjLJpo3QPY8vLNbSHU0B6rh9zHryHTPJdSP2m5KbjYrYBJdbVWc8+jBAlnjNaLgxzWg5OuN07GZ98+lLfWuZKzYu8QQ1FTPa7jBT0mnpM8tNPFFAXyshYJZJGBrHGSRjQCckuC+Ni9rLlZattda6yaiqmtLOdiONUbiC6ORjgWSxEtaSx4LcsacZAUr265cNqr5SPoLpd5Kmjl0c7TiGlp2Sc1IyWPnOiwML8PjY7eeLQgnXIzyj7ZbK0tNTi0VNzsNwAngo6inmmp5o6nrP6BVRNcIzJkkx9dupziY9TnE5vLa2JtNrrLPWW2jFqku9A6qrLSA2MUcrTDpPMRnRTuPOyRljMM1UrtI45gux/L1tdaaSKhoL1NFSws5uGF8VLUiKMcGRuqoHuYwdgBwOxQna3aSvu1VJXXKrmraqX380ztTtIzpY0cI4xk4Y0Bo7AEHks/8Zp/6eP/ABGqx1XFn/jNP/Tx/wCI1WOrCSIiKoIiIC1W0lXzcYALtbnYDW8SCDkjceGPpW1WOstAnkgdE7UWAmTXlrRmMkgffYbg7xj3pxvIW3RpzWYaluWMtTszY56+WmooQekTTMiLRxfqcxznteAAWhrdRzuxqOSuvNjOSOgoqdjTA18zm+7SOcXF7yMENJG6MDcB3AKFeSps0HVtxr5WOD6dwpoQ4AHnJgTPNgdjmNjwDw1vXSkEHaVr4vVnm5Y6Q7eB0YmvNMdVW1PJNbnzvnkha4yBuoaQCQxuAC4byN7j2HL3eoD11PJxbnRtZzLQG5x2AavfAtI0uYQBuIxuHcrPMIx/v6V5aqJoC45mXpRWsdoUpdOS2g1RaWYcw7j2luc47sDA49wWm2g5Obc6EsMI4HrN6pJ4E9XeHFXHco8HO4/77VEL8c5HYe7sWvnnyy+FWe0KBvGw8McckGDJT5yGE5c0d8buIPb8fxqpr5s6+lldE12phy5khzjm8EjnMDq8CMjd9K6cukAAkc7gASfDBVG7cSCOqgdlwB1jAI4HBIAd1XZGd3bw7V3cNbM4l5fGacV3hDNlpjHUBm7TIC0/HjUD8mPpUxUXZHGx0TmA870oxsJ3ZiYW41D714YQMgbxx7FKFneMThyxOYERFiCIiAiIgIiICIiAFWVX90f+W79oqzQqyq/uj/y3ftFSVhiREUUREQEREBERAU2h5I9qnta9mzl7cx7Q5rhQ1Ja5rgC1wIi3gggqEq3ORLlH2hl2j2cpZL9epKaS9WynfTvr6t8D4HV1PG6B8LptDoSwlpYRgg4xhBHP/U9tZ/8Apu+foNV//koMugPKp5Q9oKLbC901HfbxSU0U8Iip4K6rghiBo6ZxEcUUoYwFznHcOJKhl75NIafYq27VCqldPXXZ9tdSFjRFGxja53OtkB1F38EbuI+/PcgrJFZtNyZwv2Km2q6VKJ4ruLaKTQ3miwsidzpkzq1e6HdjsV3XvYLYQbDWCpnuMlJBNXzAXuK2h1xrJg6uElJUaW86II3Ne0Ekgimj9SDkRFbnJJySUtyt9w2gvNzNp2dt0wpzUtiM9XW1DiwNgpYB70+6xZeQ4ZeBggPczZbT8kForLLW37ZG8T3OntWk3W31cHR6+lifqIqWlmGyRaWudjSBiKUhxLC0BSK2ezmz1fcpJIrfR1NbLFC6oljp4nzvjgjcxr5ntiaS2MOewFx3AvHerj5MuQygumy52lrb2LVTwV8kNdJLEJIYKSFrcyRNYecqKp8j4o2RN3udKMZO47XkU2SoajaW80uyu0VxgoYdm56kXAQtZU1IbLQCoo5Ip42aYTI8HIGfcm7zvQc6IptyWWGwVZqpr/epbVT03NCKGClfWVde6YT6mQlp004j5ppL3gt90aNxIUx5WuSe00lgo9p9nbpU3G11FZ0CeKqhENVTVGmV2pxYA0szFpI0jBfGQXB3VCBXfYG40tkt+0EzIhbrnPLT0rxI10rpKeSeKQPiG9g1U8u89w71FV0Tylf8KNi/7VuP+du652QEREBERAREQEREHrs/8Zp/6eP/ABGqx1XFn/jNP/Tx/wCI1WOrCSIiKoIiICm1liijjppNABnLwHOA3BsONUZG9rsOkYCf5/bxhKlFXXmlth6rXucRE3Ooua5zIZmuac4DWgOGngSd+N2erhP+0/Rp1+joTyc2Ri1lzManzc5KQScyFjAcl2/cA0f3VbkR4KkfJxmZT7M01TK5jBNJLIXHqtaeffG0Adgy12Ap0eUCgi1c5Loaw41uIaDuDiQD1g3jvI7D3Lz9WJteZjy9jh5imnGfCbvOBuWvqXkkjs7/APyUctfKTZ61/N09fTSSZA0NeCTnhgd29b01bcB/3ueK02jHV2UmLRmGuurCGn1f7+RQy7t457+P+/lUs2mvlHAwOnqIotXpua3JOQOJVa7RbaW6R7xFVRvDAGlrCHaXDJJJbvwQW/R3rDkmVnUrXaZajbKTTE5o+/wO/Pf8u/6FQnKW9vOQRnscQR8Y3Y/nA8PDtVpXXaeCpMeiQHBOWk4cARuOO0Z7VTfK20tqo3NPHO87wHtwcDxXXw8Ynd5vGTzRs1wla59OSMYMZJxnLS5zYz3bhpGf5g7lIlFrZWDpujGtjgY4xnqx7teWnubqk3ev5VKV0as/M4axiBERa1EREBERAREQEREAKsqv7o/8t37RVmhVlV/dH/lu/aKkrDEiIooiIgIiICIiApnyE/yq2a/5gtf/AHjTKGLPQVctPLFPBLJDPDI2WGaNzo5YpY3B8csUjCHRyNcA4OBBBAIQWn5YP8t7/wD1iD/I0qsJ9grbvyS2iC10lRcaik2llkqKeljdUzxMLLk3JhiBef43THABOJmnhvXN95ulTWzyVVZUT1dTKQZaieR888ha0MaZJZXF7yGtaN54NA7FuNjNvL1ZhKLVc62gbOPdmQSvjjkO4B7owdJkAGA/GoAnBGSg6L2y2LrbDyUS0dxEcdZJfoaqama5r5KTn2RGKCp0Ehk5ibHIW8QJ2Z3rV36x1ly5JtmWW+lqK6SlvlWaiKmjfUywh8920ukjhaXNb7rEMkf9Kz0gufa7au6TwTU09yr5qaoqDVz08lTPJBPVOxqqZonvLJKg4HujgXbhvXu2M5Qb3ZmSx2q6VtBHMdUscErmRvfgN5wx50iXDQNYGrAAygvLZygm2h5K3W20tkqLhYr50ytoYQZKmemmFTzcjYGHXIzFUXDccmikwCWrNyB2OssGyO3dyvNPPbqa4Wk2uiZVRvp31lXNT1sLRFDIGyPYH1UTdYGOtJg9R+OdNmNoq+11AqrdWVNDUtGnnqeV8EhYXNcY3OjI1xktbljstOBkFe/bPbq83osN1udbXiM5jZPK+SOMkYLo4idEbiOJABPagutv/B4/8z/+ELD5Bf8A+N3z/lSv/wA3bVRP2fr+h/Y7ptX9j+d57oPPS9D574Xourmud/nacr8sF+rrfI+WgrKuhllidBJJTTS00kkDy1z4Xvhc0vic5jCWncSxvcEF7eTvsHRybMXzab7DDaS62+rZR0FoeJZYGBzKYvrJqSnOusaBVPPNkEYpnYweu2wOVOhutRyXufV2Gns9Q28sq5LfQ0ZoY4KNrXjpU1G0ufBnfqdJg4DSd2CuV9i9tLtZZJJbVcKqgfK0NlMEjoxK1urSJWA6ZNOpxGoHGo4wvXDyjX5jLgwXi4lt1aW3EOqJJDWAx8yefdI4l5MXuZOc6QG8NyC3+Ur/AIUbF/2rcf8AO3dc7LZVN+rpaSGglrauShpnukp6J80r6Snke57nvhpnO5uJ7nSSEloBJkd3la1AREQEREBERAREQeuz/wAZp/6eP/EarHVcWf8AjNP/AE8f+I1WOrCSIiKoIiIHxb/V3rfcptPNbdFDLEWyU5PNnOp87nsdFK1w34aHn73cNDQN+9aajnMUkcoAcYpGSBp4OMbw8NPqOMfKuseUTZKiv9iNXTxNmmINfRSZEcrmzfwh0bHekY5C0s7SwjcQCLTVml48T1bqaEatLeYxj9ctDyU2bGytrpn5cWQOk3drnzSO6u7+dx7lGdo37PQGRj6aWvnYQKgNkeyCBzydL6iRxLImEtO84JDcgEYVo8kzWy2S3ad7TRsb/O3ZBz3FbB+xtMN0TI2AnJBZkZJyXZa4FxLt+T2rnm3zTnpl21pM0jHXDnbY6gtVW+GoprTLSNqD7jLzpcXHqka42kkHrtwXD77ir9vkjqOxSHeJGA6f7mVmj2PaxweHHAPvgNDcDgA0Ek/G4lYOVoaLJJjPoZ9RcM/FxWmYiZdWnE1j/CiL5TQ3Tmp691VM+oOinpKd2h2M6A5z8AZJz25Wpr6TZume6kfFcaeqhBEgzJM2AtfJCBUGNp5oh0b9z8ZGDwcFPuTCNvNmIvIaXFw37gSd4IO4g/WpVtBs4ybDtERcBjVpwcfIcHP1LKMV65/NptWb4mMe+yg4NnIpZedpJNbAC5jgScjtAwdw9XDf68qE8q8Twad3cXsPfkhu/HyFdIWrZ5lPLIWtG8EE4wCXHecDcPkVIcrNu54aImkvEz+bxvcdIJIHyZWzTv8AM0auliiCbNWmVmiskBEIJa0tLdTnFpxuP3m/f2qVr0OfHPa2MjYyN7Obk0D3uciJ+ABww/PyLA7ifjWyLZn2w062lFKV85nP6PxERZuUREQEREBERAREQAqyq/uj/wAt37RVmhVlV/dH/lu/aKkrDEiIooiIgIiICIiAiIgIiICIiAiIgIiICIiAiIgIiICIiAiIgIiIPXZ/4zT/ANPH/iNVjquLN/Gaf+nj/wARqsdWEkREVQREQF1N5L1xFbYn0TsukoKqSNoyciOf+FQnd96XOqG/9kBwXLKt7yV9q6a3XWphq5mww19M2Nj3uDIukwyh8LXvO5hLXzNBON5A7QsLxmHRw1+W8fk6NoI46eWWKJjYow4PEbRhrNbWvcAOwa3OOPWtwyRhHZhRKqvdLU1U76SojnZG8QyuicHtbM2Nj3Rlzd2QHNPHtXuFUAwZyc5DGj3zz2k9zQtF47u/Rt80xPZtJ6lriWNIJ7QN5A7z3f8AmFH+UuAOtEof70FxPfuHYvS6IBg0F0by4PdIw9ckEHGcEFuAARjeFFOVPbJ9PRTxviBHN6Yt2WOcd3ZnBHcVOWe7pm9c7Ks2NrRTzsZKOb54hsTnEaXk72h3okjgVbdvm6pDsY4AdvDh4/6Lme0Ulxrpdcj3ujEjX7xzbQWOy0RNAy1o9ZJzjf2LoCy3Nr4RqaWSNaAc7wTjGT3LHVrMSmhauOrzbWXJkQPZqaW54b8erj/5hUncS2SU9uC54PbnJxg9m4Ka8pdbjLDnLcn8niP9R9CrZ9UGNL3v0gvjj1YJ9/IBvA9RdvWyldsuPVvM25WipqSSASGRuh8xL9HDm43vLmtII3O1B3yM9YRbC+VTZJOocgcXcNRwBuHogAeJWvW6lcQ5OJ1OewiIs3OIiICIiAiIgIiIC+OZZ6DfAfUvtFFY+ZZ6DfAfUptyJbBwbQ3eO2SyupmPgmm52NjHvBha0hul+7Byoari8jn+VdP/AFKr/YYgs77US3fjer/R6dPtRLd+N6v9Hp10siiuaftRLd+N6v8AR6dPtRLd+N6v9Hp10siDmn7US3fjer/R6dPtRLd+N6v9Hp10siDmn7US3fjer/R6dPtRLd+N6v8AR6ddLIg5p+1Et343q/0enT7US3fjer/R6ddLIg5p+1Et343q/wBHp0+1Et343q/0enXSyIOaftRLd+N6v9Hp0+1Et343q/0enXSyIOaftRLd+N6v9Hp0+1Et343q/wBHp10svDPeKSOpion1VMysnY6SCkdLG2pmjYHF74oC7nJGNDXZLQQNJ7kHO/2olu/G9X+j06faiW78b1f6PTrpZEHNP2olu/G9X+j06faiW78b1f6PTrpZEHNP2olu/G9X+j06faiW78b1f6PTrpZEHNP2olu/G9X+j06faiW78b1f6PTrpZEHNP2olu/G9X+j06faiW78b1f6PTrpZEHIXKp5NlDZbPXXSO41E76OJsjYnwwtY8uljjw5zd4GHk7u5c5cyz0G+A+pf0D8pr+Sd6/q7P8AMwLgBVJfAiaPvW+AX2iKgiIiCIiAiIgt3yb7oGvr6MkddkdVGOG+N3My49ZEkXzfUrtqZXhrZI8OOkMGeGQc4J7Ady5N2Lvht1dT1YBc2NxErBxfBI0xzNHe7Q4ketrV1Dba0SMY6N4fG/RLE8HLJI3tDmPH80ggrC1curQvHSXoN5qYiI6mgqRkAtmh0TxODu4NPONI7Q5o+Ub1qb/fqANd0hlbncBEaWV/y5DNI4YycYyptDWCSE5a15Azp++3drT2KOXfaiUkxmA8NALnD3oIPaOO7/RYZjGJzl6unXSmN1RXjaWDUWU9HcJHO961tOYwSN4HOSFrMfKtnsZHXy846pxTtfjm4tQkc1hbkuke3qh28jS0kbuK2NSyWqnLjGIadm6Q8ZJcf9G3HvWE9y0t/wBoxDIXNOBG3SGjHDHV3Y+L/wAlj16NWt8Os7I7ys1LTViOI5aGdYjw3+vq/SFCbkA2Fjcb3P1d/vQ4fIestrVyOmlMj97ndYnuBG75Mf73LW39o0wEcC12/sJyN4+TC2V2xDztSZtmWpREWxzCIiAiIgIiICIiAiIgIiICuLyOf5V0/wDUqv8AYYqdVxeRz/Kun/qVX+wxRXciIiiiIiAue/KhttxslZQbcWczSG2OEV8tzXvEFbbpPcjM6Np062NeWF5a7SDDJuEC6EVUeUttnJQ26O0W+FtXe9o3PtVspC1sjQJ2GOqrKiOQFhpYY35JcHNy9moaA8gITe9q28oN2obLZamUbOUUVPdtoq2F8lPLO6dnO0FmZJEQ+N5IdzgBBBZIMtfBh1rcovKHTWJ1NT/Y673OpqGOfDRWqjdWythicxjpHgObHDE0vaOs4duBuVF+T6yfYHaKTYy6SRyUF6DK+z3PRzLJ68xRQTUric4c/mtAaX5DoocD+EBWjt5yhXV+0cOytgioGVv2P+yldcLhzslPTUnPCAMgpad7H1NSXOYd72tAcOPWLQ3nJPyr27aN9bT08FwoK63OY2tt1xg6JWwCUO5t7ow9zS06Hffahu1Bupudbtry2263XGW001uvd9r6aMSVsFno+nmha8BzBVOMjAx7gRhrdXccEgKu+Q6Gsj5SNsWXCpgrKwWy3c9UQQmjheejUBYG07ppSzSwsacvOS0ndnA9/kXyMc7bPndH2S87K11aN3PBjj7jzg99o54VuM9ok9aCw+THlgtG0VbX0FuFYZbdHC+pdPD0dgdON8IbI7nWzRvD43texuHRuxkYJgXltF5t+zsLZZomVO1NFTTGGR8D3QzQVbJGc5GQ4Ag/QF8cjdbBUco+3slPLFNHzFqjL43NeznYKOGCdmphxrZNHIxw4hzHA7wVj8uandLbtmomyvhdJtZQRtmjwJInPgrGiWMndraTqGe0BBDvKO2WdsNDab1s3c7xHVPu0NI62S1tRW01fG+GeVzXU8pc6Q5hYwg5Huoxh2nNyiptfn6Yueuv2Y829fMaovsL0Hpobzuj7t0/nN2fe6V5tnOQe3xXKnu90uV42hrqNwfROulQJ6eikBBEtNTRxtYyQFrXb8gOa1wAcA5aNv8AxZP/ACV/80CDS2zyi6vzlvlBNY75Pb6GKAUlLSWyWW6RyOiiMstdHz3Uge5zzG7ADmPjPatrygf8UdkP7GuX+BXLHyYvH/rQ24bkajb7SQO0htvt4cQO4FzfnBR/ykKe6y7c2KOxyxQXZ+zt0bRSSjLGymGszpOoBkpZrDHuy1rywuBAIQXda+Uigq77U2CjZVVdVQwiW4VMLGOoKBz9Wimqal0g/hTiMCNjXH33Dm5NGm5QOWi2Wm4fYiKlut6uzYxNNbrRSmvqaWB4aWS1XXYyFpD4zjUXASxkgB7SYv5Gt2tZsr7bTwSUd6oJnDaGlqSTXvubnFs9bM541yMkcwgE+806D73J1nkt4btLyiMqci5fZ/W7XnWbe6WsNAWauMOg7scGujz96gsbYjlbtl3prjLTRV8dZao3yV9nqYOi3eAsjfI2N1LK8NL36C0YfpyQCQvbs/yl2uu2eO08Tpm2xtJU1j9bA2oZHRGZs7DEHEGUOgkaGhxycYO8KrQ5juV4ijLCWbJYuoZjOs1IdGJ8ff6H209bsMfZhVVFI+mhvXJmxz2S1m2VNT0rGO0yQ7OV7hcppYycZZHBSNL2/wDvxHWBwg6o2B5SrZebIb/TPlht7WVMkpqGtjlgZROkE7pmse5rRpiLx1j1XNO7gNpyfbUw3u2Ul1poamCnrYzNDHUtZHPzWt7GPeyKR7Q17Wh7cOPVe3ODkDkjaSrfZTthsDQgU8t82gt7LKwNw1tHtE1jq5scYaAKKCCBsBcDgGbG4gldkWK2Q0VLTUVO3RT0lPFTQM9CGCNsUbfkaxo+RB7UREBERBXHlNfyTvX9XZ/mYFwAu/8Aymv5J3r+rs/zMC4AVhJERFUEREBERAREQFc3IBfZJIqigkdkUobUU5J3tikk0yx/0YkMZHcZj3jFMqecgdcIb9SRu+51jZaKQHgRNGXRg/HNHEjKk4l0PQSnW0B2WlpLTjjnJwQB2YPgthVNYfftj9fVB++3k7s7v9FCdsaa4UT3Oga+SPPHBdjt36esw95G471B6zlDrGgh0bQdw4uGAO/UwHO5adW1cu/S5uyX7XXEM1MaAeqD6DQ453DvBa0n+6qYvlQaicjfoB62ODt/H4sYHrwVnu+0stRqaQSXEl2nUT3YDnAADxWlInmIZGwsBG843gHdkZ3k+sqfFiI2Ladp3s+qmcOPMs4cZXDhj0Af97lGeVCpka2k5p72EOe3DSRnUG4GBx4fSp7Z7E4AamkN8cnhvJ7ePisMOyj7jfrTShmY2VIqJ+5sEGJZc59TQ343havjVzDKeHtyTLT1Wy1ZR0dPNUAlzmDnM8Wl2ME53kb8Z+JapdMcp1phmhMT3BjS0t1doON2CfH5FzjdbfJTSuilA1N4OG9j29j2HtacLppnG7z9TGdnlREWbAREQEREBERAREQEREBXF5HP8q6f+pVf7DFTquDyPXhu1VOXEAdCq95OB7xnaVFdzIsPSovhI/nN+tOlRfCR/Ob9aisyLD0qL4SP5zfrTpUXwkfzm/WgzKKxbA24Xx+0T2SzXM0goYpJXl8dLSg6jHSw40wlzi8l293u0u/D3AyTpUXwkfzm/WnSovhI/nN+tBFuVDk4te0cNNFco5S6jqBVUlRBI6mqqeYDGqKePrNB6pI4ZjYeLWkablG5GbTfKukuNRLcaS5UcQgjuNDUmirJIBqzFLIxpBaeck3tDXYkcAQNysLpUXwkfzm/WnSovhI/nN+tBW2z3IXYrbdKS724V1BVUsD4JRBUyCO5NkkMr3XTnNUla8yEOJc/eWR5zobjBtryBWG6XKW6k3Ggq6kaa11vqn0bK9ukNLapjAcghrc6NGotycnJNodKi+Ej+c3606VF8JH85v1oKE5DNkWWjbja6CkoJKO1soLPBQkRyCne2G307ZBFPJnn5A/Vqdqc4uLi4kklWzyh7CW+/Moo7g2VzaCviuVPzbzERVU4e2NziB1mYkd1VIulRfCR/Ob9adKi+Ej+c360GZRobD0H2c84dMv2S+x/2M1azzPRee5/TzWMa9e/Ut/0qL4SP5zfrTpUXwkfzm/Wgr3b/kZtV4uUd3dPdLbcmwimkrLZVvoJqinaciGdzAdTezLdLiA0EkNaBIbpsLQVN6oL9K2U3C3U8tNTOEhbEIqhsrJA+IbnnEz954bu5SHpUXwkfzm/WnSovhI/nN+tBEbjyZWuW+Q7RsZPS3aKMQyVFNKYW1kLcARVsIBjqW6AGZcNWGx7/c4y3X8oHI9abxWi5mS4Wy6CIQOuVrqpLfWSwjGI5nx5bKAA0Zc0nDWjOGgCfdKi+Ej+c3606VF8JH85v1oIpyZ8mtq2ebUfY+KV1RWPEtbXVMr6qurJBnDp6iUlzsanHSMNy5xxkkn5k5MbQ7aFm05gd9lo6fo7ZdZ5sNMT4Oc5rhz3MvdHq9Hcpb0qL4SP5zfrTpUXwkfzm/WgiV35MrTVX+j2kmhe66UMHR4Hh5EOjTUtDnw+9fIBVS4cd4wz0QpmsPSovhI/nN+tOlRfCR/Ob9aDMiw9Ki+Ej+c3606VF8JH85v1oMyLD0qL4SP5zfrTpUXwkfzm/Wgr7ymv5J3r+rs/zMC4AXfflL1EbtlL0A9hPR2bg4E/xmDsBXAisJIiIqgiIgIiICIiAr98n/ku0xsv1zjLQ0Ce207stwG9ZtfOOOM4MbDxI1EY0qPcgnJPNdZ4a+vhLLTGecDX9U3B7feRxt4ml1YLn8CAWjOSRdnLltey3Uj6YfdamJ41bgyKMNw9x7gG5wPiwsL2xDbo6c3tEQmE4a4tfjLXtBPAh2QDnw/0UV2qsVLIctjjJPEaR3dvefiwvjkLvxuVgoJ351iERPDjqcRHlsUjvXJCI3/9opZ0IatWhvq3Zx47lpvGY3d8UmtsdFSy7DxvfnmmgHgMfL8TfpXzNsvEw72N3DiBjIHZniraupgp2GWqmigYBnVI9sY+TUf1KntvuVW2wao6JprJd41D3OnB7zIRlw38Gjs4rk1K0jq9ngeB4nip/wCGk298bR/FO0fm8N2po4Guc4sjY0ElxIaxoHHju4Bbrk32dZTNfdpmuZJUQltMx40ubSkh5lc3iDJpYQDghobwzugXJhaa3ai6smretbqJwmqIwNFOXDfDStZnrF7h1uJ0NdniM2BysbRkmWnidub1JHDdjPEZHBZcPXPzduzD1zSjg5jh5tzamIm+OlfFfee85xtjbfKH7Q1c11rzDG4NijDpHHsZE0hriO9zj3r52n2JgqIaWM6mOdUtgZMMF7Wn7s4t4EDic7sRvPcttya2l0gmmxpEuGlw985v3rR6O/HiFNoqZktTIwBpZQsbCOJ01M0ZfJxGN0Mrd+Sf4QQuysvmpq592t5MK6iJMP8ADGAai1jSJw0cXCLfzrR/MJPe0DeoIf1bj6j3LsqopNQbkZLcY7wRwLSoTtxycUVwzI9hgqHcKqMAFzuwTRnAl7snB3bnBbY3YTDmtFJtr9hrhbC500RkgB3VMYLo8dnOD30R/K3dxKjKrEREQEREBERAREQF8vYHDBAI7iMj6V9IgxdGj+DZ80fUnRo/g2fNH1LKiDF0aP4NnzR9SdGj+DZ80fUsqIMXRo/g2fNH1J0aP4NnzR9SyogxdGj+DZ80fUnRo/g2fNH1LKiDF0aP4NnzR9SdGj+DZ80fUsqIMXRo/g2fNH1J0aP4NnzR9SyogxdGj+DZ80fUnRo/g2fNH1LKiDF0aP4NnzR9SdGj+DZ80fUsqIMXRo/g2fNH1J0aP4NnzR9SyogxdGj+DZ80fUnRo/g2fNH1LKiDF0aP4NnzR9SdGj+DZ80fUsqIMXRo/g2fNH1J0aP4NnzR9SyogxdGj+DZ80fUnRo/g2fNH1LKiDG2BgOQxgI7QAD44WREQEREBERARFudktl6+6zcxQUz53jGt25sUQP30srsNYPVnJwcAoNMry8n/keZXsiu11bmjcddJR9lXpcW87Uf+7amnDB7/GT1ffSHYjye6WFolu0zqqTAPR4i6GlacZw+TdLNv7tAVrWt8tvoqWGZ7amqaxsfuUTKaIn72GngjGmGFjcNGc4azLiSrgby5VbKWEuAaAwBoYMANG5rGtA3NA3DHDcuT+XusqLtcRRMccua5r8bgyLWDI/4tJYPlC6I2jqJHt5rAfLOwRljc45wu05Gd+kkgZPx+pVHtBZI6W5TPBMkjmRtdKd+Q3U0hncwuDj/APZc2rmX1X2V4KnE8XFL/dmZ+kdvxzh77Ld6i10zYqFzGMZFHGGuaHt0xMDGnGeOAFq75t3e5iWtrHQtO4iFrIT87BcPkIX2WuwQOHdkf64C1z6WQnc2No7SSSfANxnPrWq+ZfrWj6fwkW57aVJt5mtZn9YRq5iWY65Xyzyb97y6V2d2QC8nC1TLJNPIyNjCXyyNiijHWklleQ1rGgbskkDBIUzktrpD1pS1o4lrQwYG/GXEn5dy8+1UrrNTvfRtDbrI3moZH5L7e2cYkqJHuOqOq5lz9LRvZrDiM6QOe2lzdejd6t6zoen8PN7bzjFK+bdo+nnxC+dlrHBYbM2mgc2R+NUszCHiesk0MkOpu4DVoYB2BrR3qntpad89xlpGdZ80wY4jeBjDy75Bneq85CqKuhqZ6qGWZttawwz0+SYrlNIBGxjIjuNQXlumX3+p2MhuQb1tOzoZXOnk3a2g6jx51xjY4OOd2dWOJzoJ35XXpzWYxV+B8XfUvqTqak5taZmZ956/70SPZ62xU0MMMYzzYLS7iHFjCdRPYSQOP1L17PNDqaN5GkSF8x3YJMkr35PrILfo4LEasMeyNuCC1xb29UNcNwHAdU/R378fJ7UiptdDJnOqna34zGTF/wCBbGiu7eRwh4y4bjvA4HHYfVu/WsU9G0A8cH707wc9gWwxj4h/vd6lilwBqdwG8fHwHyosw09VbxghzMtOQRxGO0Y+Ls9SrDbXkfoqrVLSk0U2MuLBqgc8n7+DILM797CPiKuSMEkSO3ccA93AH485Xnq4cjJB44BG5x7MDsx8frWytvLVarjza/Yq4Wsk1MJMOerUx5fAe7LsZjPqeB6sqOrsS5BsQe12HAgggjLHg7i1wcCPHcqN5TtkYCXTUVOymma5wlgYcRyYOCWR50xO4HDcNOeGVnjw15x1VaiEY3EYI3EHcQRxBHYUUUREQEREBERAREQEREBERAREQEREBERAREQEREBERAREQEREBERAREQEREBERARF+E4QS/ko2FqL/XtpoyY6eLElZUfAwk4w3O4zPwQ0eongCuydnNn6O2U8dJRQMghZgYHvnHtfI473yE7y471FeQfZIWi007Hs01VU0VdWfvuckb7nCfVHGQ3HfqPapxITkb+39SsK+a+TAwM5OTw1HDd53dvxLQ11c3W5jANbGOcZHDAYHaXOAeRvOS3qjfvGVunnMn5IJ/0Cju1kbshzSRrYRkAEgkFmcnduywjPb9FmNsnd6dmIhOW1A3tMxkjcR1pGsk0scSfvTzeoDcPdB3BVLemuzSSP99NbaaZ3eXOkqWuPx5aFeVophFTwMb1dMLW/EQ0Y39uMYVS8pNIKeW1xDstZjPx01TpO7gN8x8QtFo+V9V9j9Xl9SrH3q3j+WZ/ZGs+H+wvuCB8p0RtLsAuOMANaOL3vcQ2Ng9JxA9az2qgfUzNhYDlwLnEYy1jRlxGd2eAGd2XjKksuyVNK6OlqqxnuhJZb4pObY4tHWc8Z5yrlA4ucTw3Bo3DTu++9d+0On6dikRzakxmI7RHSJn9ojrjrGyE1+1NBQtLaVkl1uLfuYjBFBTPGcP1HrVkjXYIyGx7vvsZUN2e2Iud/qhNW85FSh7nPJJ1ya3antZn/AKSRxJc878bvvsq/rdsbSMLY4IGRtB3kAai0drfUeGSl5gbU1H2GpC5kccbZbtURnR0amfvZRRyN3tq6gZHV6zI+cfkOMerGaWt16ez8x4z1PV4rU+Jq2m09vER4iO3798y02x1mhzHLCxrKGl1R0TQMCaUZilrPXGAHxxntDpX7w5hU0ZQh437j2EcQf/uvVHRMbojY1rGMAa1jQGtYxoDWta3gGgAABexkQGe4LZWsVjEOCb5ReqpHwuPUc8EHrs39mOszjwLt4zvcV4uRGkmp7Db4amJ0U0LHxPY8YdqZNICfiPHPrU5bGANTt3qWCnaZH5+9HBZMNmXTnGf99wXgbIJqgg/c4ADp9KR24E+oDPyr31bwMNHE/QtTa91TKz08O+Qf6IjaEZO/sIx/qtRdq/e9sY1c3GSP5z8hjWj1aiBn417L5VczE5zc6nFrG/lPcG5+TOfkWmcWRc7LI5rI2NeZHu3NbFETJrcTwAwTn4vRKqPJtAYqajklldqLAx88pJBGX6AQRva0Oe7A9Rz2lVZfamWSKhk0ZNbzr6YMB1ubG1ueq8ajqa89vZ24BO95d7yG2Kfmw4dLmpo4nFpY6Y9eQgNdvaxrDG3He453kr7rqQNrdn4sbqaGbd3aYoY/1lZ0vhrvRSe1NAyUmog4ubzjmjfqbne4d7hkfGPWN8YViXG3lnS42A87TVpjAHF0RMzABv47osH61Db1SNB56PHNyHhw0E79w7Gnf8RBHctto7tcS1qIixURb/YfZ1lzlq4TWR0kkFuq6+BronzurH0MLqh9JE2Mgte6KOd2rrECF2Gu4DzWHZi53BnOUNtuFbHv91pqaepiBbuI52GMs1A7sZyg1KL0XGhnppDDUwT00zQHOhnjfTzNByAXRTNDwDg7yOwrzoCIiAiIgIiICIiAiIgIi/MoP1EXopaCeZk0kUE8sdOwSVEkcb5I6eNx0tknexpbCwncHOIGUHnREQEREBERAREQEREBERAREQEREBSTkutAr71bKVw1Mlq4zI3sdFDmeVp9RZG4fKo2ri8k6089eJ6sjLaKkdg90tS4RsI9ehsyDqNpy53cNwXz257gjDxXyeCyiFmWMffHvwPBee5Q6gO8ZHiAePYMtC9Q7F8TnG/u3+vjwH0+Kzxsx7vqinBAZk698wBG7ThuADwGM8Pj9arTlmc11ZbnDHUp6xh+WaicB8XFWQYRgybwY2P044EOaePeMEeAVAbc3Cqr7kKajYJJYY3ROe45aw1EkGjcPfucYcAA9js8CFr5JvtD2vQOKpw3G01r7RXm/ttH9ZTjk7oCYpJ9IJmfzUed+I48F5+WQ4/7JeflB5KaupmdcbVU01JcZ4YqN1TUa3dFpGF3O9EjZE4F7tZJadOXEku7BYmxtkFLT08T3a+jwMjLyBmSRrRzkhxuy5+p270lm2s2ggoaaWrqMiGEACNo1yzyPcGQ00TfvpZJC1oaO9aOWIa/VOPnjeJvrT/6naPERtWPrjr75RzbC9vtsNNR0YFVea+NtPQxuHvWRsY2Wvq8b2UzM8449pLWjrOAWx2XsMdspBTte6aZ73VFZVPxz1XVykGWeU95IADRua1jGjAaAvBsHYZo3z3e56XXSuAMoHWZR07CTBb4D8HGHZc4e/eXu4YAkMYMriezIz9XgQkeXFO2z7po8AuPE/qWZkYxv4DeV9kbw0cBjPyLx3WqI9zb74phGCpqDK8MbnAJGe9etxbDGSfl/wBAvy20wYNR4nh8XetLtXXZaY28Rx8QP9Si57Pu2zGeUuPDJ+rcsNM//wBoDHwbs/kt7/lLfFeuyxBkRd2Y4/r/AFrU7LyGWtqpPvYhzQ+MnLj4j9Si5ejaabMkbN2I3Ne4dhI3sB/vBvgVEeVh7nWSrjjJL6uoorYwDcXSV1dTRzcOwQyH5Xv7lv77NmaUgag0asdrjjqsHrzgf9ovEyI1JsMLiCxkrrtP3OdTQSOZ/wDyKuB2/wCDUnwkdcoJy/e61lkt7fex1UJc3s3SM1bvkKk95h/hlA/G9kFSfnOp8KJbQnpe1FKN5EHOSn1BjCAfnParAusH8Jg4dWB/x9ZzD/4FY6sZ6KsvkfN3uobjAnEcw7OsWtOfjDmFQC/0uiaan3YL3MZ3cDJCR69z2+vQFYO32GXeB2eMIaf7rnbj4qMbdU2Xc4BvkYXA/wA9jhI0/HxH95dcbx+Dm7q7REWtmvvkg296FTUN1vctvraWgDbFaKKClpZr9SvwwGobIGsliom0pka7L3GQlg06nZf4uX3auN9ZdqWZt/tt0oquOmt9MytDrKaOKT+NNpWMjdTGamLZQG68mSLrDDgoZsLTR1tkv9DHSU0tygFLdqSbmg6vdS0sui5Q083vgGROjlEbd7g6fcd2IjzlVcKpmqSetrKuWKFj5ZHTz1E0hZBAwzTOLnuJMbBqO4aRuARU22K2sfcXwWO/Ty1tvq5G09NVzkz11nq53aKespKqTMpg5xzGyQvcWFmcAYIdBb1QS0dRU0s4AnpJ5aaZozgS08j4pA0kb26mHB7RhWhs5yX3M0VY1llr2bRWu7UUkbpy2OgkopWydVhl/g1UI56fU9zXEaJmEOIDmqI8sdQye8188dxpLsagslkraSB1JSSzOhYHtghdJJljS0DWHuD97skkoJdfeSm2Wo0TrxtJFRxV9FBVQNjoZ6qo1ytJm5yKGQiGljJjxM45kJeA1ugk66t5H69m0DrC2op3htN9kHXE5jpmWwNBfXSM1FzAHe56AT18dbSdYzeU3XQ1NbaXU80U7G7LW6Muie2VrZOcr3GMlhID9L2HTxw9verSuW2tupdqgJa2ljpblsdTWzp/uVVTUlU+SaaF1SHaojDpI1NeC33SPV1SSiKfrthLbPRV9XY759lX2qAVNdTSUU1ukNJqLZK2kdNI4TRM4uYcOa3BJyWtdqeULY42iCzzGoFR9lrRBdNIj5ro5nbqMGdbudDQW9fq539UKydootoaKguD6287KUkE9BUU2mijthqrrHNHh1HRijomzFko3ayWaeq44xkfO2Wz7dpLRs3VUNztEDLZZIrZcxWVTaV9DNSsja98kbmlzoziQjgSAwt1B+QGlpeRl8l9oLILiNVbZGXjpHR8iMyNnHRhFz419eD7pqbuf73dv8tt5K6esq4rdQX2lrK2Jss14c2nnjt1qpqdrefmbcJCGV4bK4RjQG6i4E6AHEW5TXu3N27s80VfSvo2bIRwsqjLGyMlvT5GB7nOxHKYi1+gnUA4blTPk83uip33K3XCoZRU97sk9r6bJ1Y6SeWPTE+Zx3MiIdIC4kAEMzgEkFeiTk3t9ZS1s1gvzbvUW2ndVVVE+int80tNGcS1FEZnu59rfQAzvbvy5gd9Q8mVDDarTebpfmUFHc45Xc22jmrKpsscmGRQRQPJmYYw57pSGhhDG4eXjEm5PbF5nuuF3u1fanvdaqiit9FR1Ta2avqal0Ja5rWNBbSt5puXuG4SZOnTvjPKlWQP2Z2Ihimilkp6O5MmYx7XviJqKJrRKxpzGSY341Yzod3Ij3X7kkttrmi+y201NTUVc1klrqIqOepmq4JGMcameCN+mhp2GRg1ue4O3kacHGvZyOV32frLHJUwRR0EBraq6PaRSxW/m2SCqMerIcecDebLhhzJOtpaXL98oqthnptmRBLFMY9k6KOQRvbIY5Ax4MbwwnRJkEaTv3K1Nr9pbZNtNtDbprhTQU9/2cgtsNx5xklLBVcxKYmzytdpZG5tQTkkDqsH3wQVzs/yUWy7GsdZ9pGVcdDRTVM7ZaCekqQ+NuYebinkAlppHB4MgOYyGAtdrBG9pNltnn7FRvfe4o2PvrXvu32JqpJo6h1AA62cw1/PvjaMu50O5s44ZXr5GtkW7P1d1lut0s7KiWw1sFNTQVkdQ6RjjFLNPI7DRFGOYjDA7rP1yHSObKjnJ/TR3jY+exU9XRQXSC+NuTKernZS9JpXUccBdA+Tc5zXF+R2aBnGpuStLbOTuhht9Nc75em2qmuDpBbIWUc1fWVkMRANW6CJ4NPT4LXb85Eke8F7QZxyTbM08dLtrQU13oKulmstE9t1GuGlihlNwdI+rjdl9PJE1j3Pjy4gae04Hiv1mbtRaLAy311tiuFioTabhQVVTHTPxT81FHV0z8lk9O/mC7W0lpEjd+WkLz7HUNNabdtvQuulurJZLHSASU0wfA+pc+tbLSU8j9PSnxufE0uYMZmaNxyARHLtyeUD7RWXay3sXZlsfC24wPop7dLEyocGR1ELah5c+LJO4gbo5N+WlqrpWfyT10EWzu20ck0Uck1Fbmwse9rHzOFRWAiJrjmQgyM3Nz79veqwQEREBERAREQEREBERAREQEREBdQ+ShauZtE9WR1q2rdpP/VUzRE0fnDKuXSV2/yeWn7H2u20RGHRUcfOf0z2c7MfnucrAkbOBXy47h4/QvrG5YHzNAGSOqN/YB8Z4D5VnHQlk/0XzIcEZ7DnwG76f1LzR3KN29jmvGSMsPODLcZBMeQCN3EjivqjlMjdTgWuJ94SDpLRwy3d2jgT8aZ2MPVCcAtPa0tx343gfNKp/kXjMt92mZNTSuEFbEYqzDejhzYopG0+ov5xs458vAAIxneOBtlzyCfnD428QR8X6lCeTeNkN42jjGdU09JWnO/qSUzoGuAPvcmndu4cOG9Y83LLKJWFVzhjQ1p3nh/qVEHUhuFxZLL1qS1yFlLH97UXJzMTVDvSbTtdzTewOMp4hpG9nkkkc4x6W8Wtcd+McXfkg4+NfdmgaxgDBiOMGOLPE9skrj2vc4kk95K0zvLZGzLXEnEbflWdjQwAd30lYYD76U9+Gev1rIziC7e528N7gO09wRX5NLzbC48TwXht0Be9z3fGT3BfNVKZZcD3rSvRWyczGGj3zzj4gdyxH5cqwMY4jcB4YUTgHPPmc87sZH0fVn5V7tr5wyFrMneW57znfjHeRnxWGkjw7R26cP7gTwHiitxPJopQ7h1CfixvUe5NDmCWT4SV7vXjOFtNsJhFROPBobgn5MFazYcGKgcSMaWOcAd3HUW58VEZaQc5KH8RznOnt6rCAweveYN3qXi2ScBNXwje235po3dgjqniobED3sbG1vxNZ3r20E3NxVMnZFGxvy63vOPXpYz6Fq+T5v8AAa+rJOa6uqZsn0KdjKJmO4E0z3b/AEye1XCINse3n9oK2XjzUfN5473y+r1RFWPfHNjdG7tc3Qfizx+lQDkWYHz3Kc8TWc0O/EbASPnSFTXbWQNMGeLsgNz6gpQvsqrlLaRUUsv/AFj2n1HccfJhajaLL4oCMHABz/dxhSXlNh1Mhdj3sr3fKI3k8fiHgVE45ecp4c7yyQsPxjUPk4fSuyvSHLPVWiIi1Nj12a51FFUQ1dJM+nqqeQSwTxkB8bwCMjIIcC0uaWuBa5rnNIIJBmUu1NhrX8/cLHPS1hcJJKiz1YooZ5c5L+gVUEsVK4nBJicMkk4CgSIOgOSnlceKk2igbTWijqoK57a+6V1RcZorj0OR9JVTVVW9sEcRmiiDoGx6SZHEEuPWp7a3aNtfHRsFttVDJStmbNNQU8dGK50sjHNknjhAjywMw3SAPdHkYBDRoERX4AgC/URH4GgcAAhaOOBlfqIPzA7vWv1EQfgaBwACYX6iDdWrZK5VVOaqno5ZYBzpD26A6XmG65zBE5wlqtA99zTXacHOMLG3Zi4dDNwFJL0IRmYzdUe4Nk5p1QItXOuphJ1TMG6AQQXbip3yd7TWiibaZJpY4ZKUVTK0PoDX1jpKmSqbHNR1kjiyho2wzwFzIAyXVDP1ZDLqWjuVfa5qenmdXVrJ6axU9mNDTxuhfO+kp20Rc6reDF9jJ4mmV8bhrJlezTv1INJdNj7lSQtmnoJoo3Pjj4Nc9ks7S6COaCNxlp5XgHSyRrXOxuBWwuvJ/caak6RU08sczrlTWyGkDGzSTzVUFbKWtdDI7TURupGRmnLdealmdO4OnQ24s9LJVT08kMrTdrXc6WlZb3U874LZcTUupq65TOfPWXAxSD3SV7otUL3B2ZNI1ezW01ps7oXQ1dTccX+K5SA0zoC2k+xt4oHuxO/ElwYbhG9w3McWMDXneWhDajYm6tnhpXUEzp6hk0lPGzRPzzaZjn1IifC5zJJI2tJcwEubuBAJAOWv2Du8EUk8tBK2GGF1Q6XVC9hgY3VLPCY5D0iJjd73RagwZ1aVKRtdRU0cdLDNTujbT3h5fQ2/7F0ram4WOa10gbE7M8k7nlmuQ6WNaIgNekuWss201HE60F7nhtFs/drdMAwnTVXDzg5hrB98wi40uXDcMuz71FReqsFZFJVRyU0jJKGJs1W06f4PFK6Bkb3nOMPNTABgnPOtxnK1ysfba483YraySOaG5XSmpo69srSx0lusMlVTWufTJh+mobJAdZHW+xTSCQRmuEQREQEREBERAREQEREBERAREQbzk+tfTbtbaQjLZ62Frx3xiQPl+TQ167aqZfdm6cZ16R3e8O5cq+TNRc7tDBIRupaeoqfUCI+Zb9M30LpWGpDnSuJGI6gA/JGHH9f0LKB76q4aSQMajnQMgueeBDGcTjv3AdpC80FPqOt+89mRreM8dx6sfZw7lrNmKR0kk1Y8nNXK4xswABAwlkRJyS7cC4DcOtwypIGgDv8A1eH1rKdljdjazubnsySXnd6m4A8V57hVOiZrYA4jg0tIDusGkambmkknBK9r5N2fjwFFtsa5wmtFK0jNRXCeVucaqeiZrP8AcFTJR5HbkDtUEgqA4Eu3dXfjvA4jBGO/xUI2Wo5GbQ3WUFojrLfSMjOcvc+mnnMx0nfhkdRBn+lap23XnJ97nfxB4d2FXWx9UZNoquMu0i3ULmtaMbzW1QjLnd2635Hfrdngtd2VeqyJ26YyxgIwCMnfgDe4nsJG/d6gF9RyDQGtaQANOCW5AHEkgneTk5Xw17S3DgC0t62eBbjLhv7DvGF95bEzOgb/AL0AAZJ3kAcAsWb8MoGMadwGOsN2Bk/LvK/DIcOI3vdnrZG7fgAb+GSPBfcZyG6vfOJcQOG/fjPdgAfIsda/J5pnv3DAI7BnLnEnh8axyr4oWtbjAOkD4y9xO8n1Fy8dU/nJ2l+QxpyfXhoI+TLgFsKkNaAAB6z8QA7fiWvjYCXucMZyQASMA6R2H+Y3wURG9oZXVNRTADcZ3PcPRihBcC7uyQzd/OC3ZLYm6shucuc49gA1E4+QeKjFLMXVfNvdg9cgcctY55AaNxy4yntwNI7ltIw6bII5wBzmcc5LWxOcOtxHODfv7x2IuTb3L7c1uDqdpfg8dIfr3j4h9KzXGZsNBLIP+kiYe8b8ZJOQA3H615buHzmRrnkZDo86cBuS3LxvwXdZ2N+OoStTyl3WKntoY3c/nYooWcTI3nGNdgjcdOd59XrCD6ra5sFprqiQlrGtmkcd2Q2GkjBx8uVsrLRSUVipoZQBNDb2GfHDpL4+eqD6yZnyFaFlMJ7bb6Zwy2trmiQbsPgFY6Wdp3Dqugp3jhwUv20lxSTfzo3k95y3ekeUsr/yfqb+AyzEfda2pd8emTmv/Bj5FINvXEy0+PTA9QBz+sj9a1HIe7m7VC3eHGSocfVqqpnfqI8Vs+UB2nmZDwBDsfkuB+kZTTNTqie27ecbE3PGRw8YJTj9aragkwamL0JdbR6wfqVh7RSdSJx49Izg9mWSDHgf1KtpHYuFSBw3n/8Abn/VdVOjmshCKGeddR6EPg/20866j0IfB/trU2YTNFDPOuo9CHwf7aeddR6EPg/20MJmihnnXUehD4P9tPOuo9CHwf7aGEzRQzzrqPQh8H+2nnXUehD4P9tDCZooZ511HoQ+D/bTzrqPQh8H+2hhM0UM866j0IfB/tp511HoQ+D/AG0MJmihnnXUehD4P9tPOuo9CHwf7aGEzRQzzrqPQh8H+2nnXUehD4P9tDCZooZ511HoQ+D/AG0866j0IfB/toYTNFDPOuo9CHwf7aeddR6EPg/20MJo4knJJJ3DJ3nAAaBk9gAA+IBfihnnXUehD4P9tPOuo9CHwf7aGEzRQzzrqPQh8H+2nnXUehD4P9tDCZooZ511HoQ+D/bTzrqPQh8H+2hhM0UM866j0IfB/tp511HoQ+D/AG0MJmihnnXUehD4P9tPOuo9CHwf7aGEzRQzzrqPQh8H+2nnXUehD4P9tDCZooZ511HoQ+D/AG0866j0IfB/toYTNFDPOuo9CHwf7aeddR6EPg/20MOpfJPt/ul1rSN0cEdKw/zpHGWQD5I4/FWzsu4TR1AeMiSrc1wyQdLo2g7xvBwuN9huXa7Weklo6Wmtro5pTM98sdQ6UucxrMamVTW6QGjG7tK2lq8pK+02oMpbUdcnOHVFUnraQ3dirG7AWXNCYdtsZHCyKGJoYyNrWNaODWtGGgeoAdq/XSZ7CMHeezeAdy4wd5Uu0BOeh2bdv+41XHv/AI6v37abaH8Es/x8zVd2Pw1XmhcOzp5gNIxq7mjiTu+hVo66tqtrJI2OZKLXbKWn6nWEdRX1jqmqY48A7mqWkdjsGFzrVeU9tE9kjWwWuJ72lolZDOZIsjAdGJKpzAQd+9pGQMgrQbD8uN1tEb201LbZZJZnVFRUzx1MtRUzyZDpZpG1TQ52D2AAY4Kcyu7nPJPvs7ju37sjiVVmx84j2z2miJALqO3vbwyW4qJHHGOIdMB4Khh5UO0GpzjS2hxcMYMNTgfF/DFHKXlwu0d5qr42C39Kq6eOmli5ufo3NxNY1pazpGsPwwby88TuWM4kjZ3hUS43Z4hrfia47z8WGEeHevureDFqySXnjw7eAGdwXGEnlRbQOxmks+7/AKmq78g/x3iOw9mThfbPKl2gAaOh2YhuMAw1XZv/AA3fvz4rGYZRZ2uwBoBdxa1eOhJJfKcZcS1uc+9bxJ9XALjeTyq9onAg0lnwf+pq/wD61fA8qbaHDR0OzdUYHuNV2kE//ncHgFOVeaHY9ZUDf2+oZz9APrWpgn1OlBDhpZnfjeMb8YO7HrXJMvlQbQO40to3f9TVf/WLBH5S1+a9zxS2nLgWn3KpxghoOMVf836SmDMOjbUDJW1EhOW0xDG9x1t1gn14cd3xKT2KpOMOxnDjjhnWeH++8rj22eUDeadsjWU1sdzsjpHl0dQSS/AI3VQ3AAD5F6KXyjb5H72ltW7sMVSf/wC2pynM7Gr3iOLg0ZcOHE4cHO3nhnh8Sp7yh7yyni5ljPdjStqHBu885JW04j6oOHPL4ZGg7t7xuO7FST+U3f341Uto3Aj7jU9v/wAWodtVyr3K5V8dwqI6QSRmkIiYyVtORQVD6mJrmOmLtLpJHF3W37sYwk12OaHYYjMVdYKInDqWCSWQDvgt76Z59fu1WP1rb7cyZpnjONUb2g/3fpOVyNJ5Qt7dXMrzT2znmQywNbzVRzemd8Mjzp6Vq1ZhZjfwJ3LLdfKLvlSGiSmtYDc4DYqkZzjjmrOeCuNiZdIcnDmsjEDcnm9x7N563+oPyrYco++m1cHMaX/EGHJx3cFypZ+Xy80pcY6a2nVjIdFOQMd2mpC9V18oq91LCySltQBa5h0xVIOlwweNWVK1wlpytra+sDWMA4c6zf8AGHgHHyqFW0F1fUk8dWn6HfUq1uHKtcZ2ta+Kj6r2vBDJcksGADmY7l5aXlJro5ZJhFSF8jtTstlxnfwxNkDeVvi0RDVNcoWiItbMREQEREBERAREQEREBERAREQEREBERAREQEREBERAREQEREBERAREQEREBERAREQEREBERAREQEREBERAREQEREBERAREQEREBERAREQEREBERAREQEREBERAREQEREBERAREQEREBERAREQEREBERAREQEREBERAREQEREBERAREQEREBERAREQEREBERAREQEREBERAREQEREBERAREQEREBERAREQEREBERAREQEREBERAREQEREBERAREQEREBERAREQEREBERAREQEREBERAREQEREBERAREQEREH//Z\n"
                },
                "metadata": {}
              }
            ]
          }
        },
        "c9be54b196034f03bc7dd3f5ebc6e7fd": {
          "model_module": "@jupyter-widgets/output",
          "model_name": "OutputModel",
          "model_module_version": "1.0.0",
          "state": {
            "_dom_classes": [],
            "_model_module": "@jupyter-widgets/output",
            "_model_module_version": "1.0.0",
            "_model_name": "OutputModel",
            "_view_count": null,
            "_view_module": "@jupyter-widgets/output",
            "_view_module_version": "1.0.0",
            "_view_name": "OutputView",
            "layout": "IPY_MODEL_4488fe7821ff43f59fe7bfe0bf3a27c1",
            "msg_id": "",
            "outputs": [
              {
                "output_type": "stream",
                "name": "stdout",
                "text": [
                  "Video available at https://www.bilibili.com/video/BV1dX4y1F7Fq\n"
                ]
              },
              {
                "output_type": "display_data",
                "data": {
                  "text/plain": "<__main__.PlayVideo at 0x7e088b073a90>",
                  "text/html": "\n        <iframe\n            width=\"854\"\n            height=\"480\"\n            src=\"https://player.bilibili.com/player.html?bvid=BV1dX4y1F7Fq&page=1?fs=1&autoplay=False\"\n            frameborder=\"0\"\n            allowfullscreen\n            \n        ></iframe>\n        "
                },
                "metadata": {}
              }
            ]
          }
        },
        "6088bf676cf3499bbee001727727aad7": {
          "model_module": "@jupyter-widgets/base",
          "model_name": "LayoutModel",
          "model_module_version": "1.2.0",
          "state": {
            "_model_module": "@jupyter-widgets/base",
            "_model_module_version": "1.2.0",
            "_model_name": "LayoutModel",
            "_view_count": null,
            "_view_module": "@jupyter-widgets/base",
            "_view_module_version": "1.2.0",
            "_view_name": "LayoutView",
            "align_content": null,
            "align_items": null,
            "align_self": null,
            "border": null,
            "bottom": null,
            "display": null,
            "flex": null,
            "flex_flow": null,
            "grid_area": null,
            "grid_auto_columns": null,
            "grid_auto_flow": null,
            "grid_auto_rows": null,
            "grid_column": null,
            "grid_gap": null,
            "grid_row": null,
            "grid_template_areas": null,
            "grid_template_columns": null,
            "grid_template_rows": null,
            "height": null,
            "justify_content": null,
            "justify_items": null,
            "left": null,
            "margin": null,
            "max_height": null,
            "max_width": null,
            "min_height": null,
            "min_width": null,
            "object_fit": null,
            "object_position": null,
            "order": null,
            "overflow": null,
            "overflow_x": null,
            "overflow_y": null,
            "padding": null,
            "right": null,
            "top": null,
            "visibility": null,
            "width": null
          }
        },
        "629a77095f83465a8fa780788d24ed82": {
          "model_module": "@jupyter-widgets/base",
          "model_name": "LayoutModel",
          "model_module_version": "1.2.0",
          "state": {
            "_model_module": "@jupyter-widgets/base",
            "_model_module_version": "1.2.0",
            "_model_name": "LayoutModel",
            "_view_count": null,
            "_view_module": "@jupyter-widgets/base",
            "_view_module_version": "1.2.0",
            "_view_name": "LayoutView",
            "align_content": null,
            "align_items": null,
            "align_self": null,
            "border": null,
            "bottom": null,
            "display": null,
            "flex": null,
            "flex_flow": null,
            "grid_area": null,
            "grid_auto_columns": null,
            "grid_auto_flow": null,
            "grid_auto_rows": null,
            "grid_column": null,
            "grid_gap": null,
            "grid_row": null,
            "grid_template_areas": null,
            "grid_template_columns": null,
            "grid_template_rows": null,
            "height": null,
            "justify_content": null,
            "justify_items": null,
            "left": null,
            "margin": null,
            "max_height": null,
            "max_width": null,
            "min_height": null,
            "min_width": null,
            "object_fit": null,
            "object_position": null,
            "order": null,
            "overflow": null,
            "overflow_x": null,
            "overflow_y": null,
            "padding": null,
            "right": null,
            "top": null,
            "visibility": null,
            "width": null
          }
        },
        "4488fe7821ff43f59fe7bfe0bf3a27c1": {
          "model_module": "@jupyter-widgets/base",
          "model_name": "LayoutModel",
          "model_module_version": "1.2.0",
          "state": {
            "_model_module": "@jupyter-widgets/base",
            "_model_module_version": "1.2.0",
            "_model_name": "LayoutModel",
            "_view_count": null,
            "_view_module": "@jupyter-widgets/base",
            "_view_module_version": "1.2.0",
            "_view_name": "LayoutView",
            "align_content": null,
            "align_items": null,
            "align_self": null,
            "border": null,
            "bottom": null,
            "display": null,
            "flex": null,
            "flex_flow": null,
            "grid_area": null,
            "grid_auto_columns": null,
            "grid_auto_flow": null,
            "grid_auto_rows": null,
            "grid_column": null,
            "grid_gap": null,
            "grid_row": null,
            "grid_template_areas": null,
            "grid_template_columns": null,
            "grid_template_rows": null,
            "height": null,
            "justify_content": null,
            "justify_items": null,
            "left": null,
            "margin": null,
            "max_height": null,
            "max_width": null,
            "min_height": null,
            "min_width": null,
            "object_fit": null,
            "object_position": null,
            "order": null,
            "overflow": null,
            "overflow_x": null,
            "overflow_y": null,
            "padding": null,
            "right": null,
            "top": null,
            "visibility": null,
            "width": null
          }
        },
        "1f1402bf6ab64d0caa7265fdcc86ba36": {
          "model_module": "@jupyter-widgets/controls",
          "model_name": "TabModel",
          "model_module_version": "1.5.0",
          "state": {
            "_dom_classes": [],
            "_model_module": "@jupyter-widgets/controls",
            "_model_module_version": "1.5.0",
            "_model_name": "TabModel",
            "_titles": {
              "0": "Youtube",
              "1": "Bilibili"
            },
            "_view_count": null,
            "_view_module": "@jupyter-widgets/controls",
            "_view_module_version": "1.5.0",
            "_view_name": "TabView",
            "box_style": "",
            "children": [
              "IPY_MODEL_8d95d96eff29440fa9d10f1acd7ebda6",
              "IPY_MODEL_41cb4b9056094c43b0f17ad065187369"
            ],
            "layout": "IPY_MODEL_c7c8e04acf504f65bc482d5ec44f8177",
            "selected_index": 0
          }
        },
        "8d95d96eff29440fa9d10f1acd7ebda6": {
          "model_module": "@jupyter-widgets/output",
          "model_name": "OutputModel",
          "model_module_version": "1.0.0",
          "state": {
            "_dom_classes": [],
            "_model_module": "@jupyter-widgets/output",
            "_model_module_version": "1.0.0",
            "_model_name": "OutputModel",
            "_view_count": null,
            "_view_module": "@jupyter-widgets/output",
            "_view_module_version": "1.0.0",
            "_view_name": "OutputView",
            "layout": "IPY_MODEL_5907f37403e448958dd31bb3ef4ee90c",
            "msg_id": "",
            "outputs": [
              {
                "output_type": "stream",
                "name": "stdout",
                "text": [
                  "Video available at https://youtube.com/watch?v=XOec560m61o\n"
                ]
              },
              {
                "output_type": "display_data",
                "data": {
                  "text/plain": "<IPython.lib.display.YouTubeVideo at 0x7e0843bc5590>",
                  "text/html": "\n        <iframe\n            width=\"854\"\n            height=\"480\"\n            src=\"https://www.youtube.com/embed/XOec560m61o?fs=1&rel=0\"\n            frameborder=\"0\"\n            allowfullscreen\n            \n        ></iframe>\n        ",
                  "image/jpeg": "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\n"
                },
                "metadata": {}
              }
            ]
          }
        },
        "41cb4b9056094c43b0f17ad065187369": {
          "model_module": "@jupyter-widgets/output",
          "model_name": "OutputModel",
          "model_module_version": "1.0.0",
          "state": {
            "_dom_classes": [],
            "_model_module": "@jupyter-widgets/output",
            "_model_module_version": "1.0.0",
            "_model_name": "OutputModel",
            "_view_count": null,
            "_view_module": "@jupyter-widgets/output",
            "_view_module_version": "1.0.0",
            "_view_name": "OutputView",
            "layout": "IPY_MODEL_8ff5f034e2e44876824e8c92b0629245",
            "msg_id": "",
            "outputs": [
              {
                "output_type": "stream",
                "name": "stdout",
                "text": [
                  "Video available at https://www.bilibili.com/video/BV1o64y1s7M7\n"
                ]
              },
              {
                "output_type": "display_data",
                "data": {
                  "text/plain": "<__main__.PlayVideo at 0x7e0843b0c3d0>",
                  "text/html": "\n        <iframe\n            width=\"854\"\n            height=\"480\"\n            src=\"https://player.bilibili.com/player.html?bvid=BV1o64y1s7M7&page=1?fs=1&autoplay=False\"\n            frameborder=\"0\"\n            allowfullscreen\n            \n        ></iframe>\n        "
                },
                "metadata": {}
              }
            ]
          }
        },
        "c7c8e04acf504f65bc482d5ec44f8177": {
          "model_module": "@jupyter-widgets/base",
          "model_name": "LayoutModel",
          "model_module_version": "1.2.0",
          "state": {
            "_model_module": "@jupyter-widgets/base",
            "_model_module_version": "1.2.0",
            "_model_name": "LayoutModel",
            "_view_count": null,
            "_view_module": "@jupyter-widgets/base",
            "_view_module_version": "1.2.0",
            "_view_name": "LayoutView",
            "align_content": null,
            "align_items": null,
            "align_self": null,
            "border": null,
            "bottom": null,
            "display": null,
            "flex": null,
            "flex_flow": null,
            "grid_area": null,
            "grid_auto_columns": null,
            "grid_auto_flow": null,
            "grid_auto_rows": null,
            "grid_column": null,
            "grid_gap": null,
            "grid_row": null,
            "grid_template_areas": null,
            "grid_template_columns": null,
            "grid_template_rows": null,
            "height": null,
            "justify_content": null,
            "justify_items": null,
            "left": null,
            "margin": null,
            "max_height": null,
            "max_width": null,
            "min_height": null,
            "min_width": null,
            "object_fit": null,
            "object_position": null,
            "order": null,
            "overflow": null,
            "overflow_x": null,
            "overflow_y": null,
            "padding": null,
            "right": null,
            "top": null,
            "visibility": null,
            "width": null
          }
        },
        "5907f37403e448958dd31bb3ef4ee90c": {
          "model_module": "@jupyter-widgets/base",
          "model_name": "LayoutModel",
          "model_module_version": "1.2.0",
          "state": {
            "_model_module": "@jupyter-widgets/base",
            "_model_module_version": "1.2.0",
            "_model_name": "LayoutModel",
            "_view_count": null,
            "_view_module": "@jupyter-widgets/base",
            "_view_module_version": "1.2.0",
            "_view_name": "LayoutView",
            "align_content": null,
            "align_items": null,
            "align_self": null,
            "border": null,
            "bottom": null,
            "display": null,
            "flex": null,
            "flex_flow": null,
            "grid_area": null,
            "grid_auto_columns": null,
            "grid_auto_flow": null,
            "grid_auto_rows": null,
            "grid_column": null,
            "grid_gap": null,
            "grid_row": null,
            "grid_template_areas": null,
            "grid_template_columns": null,
            "grid_template_rows": null,
            "height": null,
            "justify_content": null,
            "justify_items": null,
            "left": null,
            "margin": null,
            "max_height": null,
            "max_width": null,
            "min_height": null,
            "min_width": null,
            "object_fit": null,
            "object_position": null,
            "order": null,
            "overflow": null,
            "overflow_x": null,
            "overflow_y": null,
            "padding": null,
            "right": null,
            "top": null,
            "visibility": null,
            "width": null
          }
        },
        "8ff5f034e2e44876824e8c92b0629245": {
          "model_module": "@jupyter-widgets/base",
          "model_name": "LayoutModel",
          "model_module_version": "1.2.0",
          "state": {
            "_model_module": "@jupyter-widgets/base",
            "_model_module_version": "1.2.0",
            "_model_name": "LayoutModel",
            "_view_count": null,
            "_view_module": "@jupyter-widgets/base",
            "_view_module_version": "1.2.0",
            "_view_name": "LayoutView",
            "align_content": null,
            "align_items": null,
            "align_self": null,
            "border": null,
            "bottom": null,
            "display": null,
            "flex": null,
            "flex_flow": null,
            "grid_area": null,
            "grid_auto_columns": null,
            "grid_auto_flow": null,
            "grid_auto_rows": null,
            "grid_column": null,
            "grid_gap": null,
            "grid_row": null,
            "grid_template_areas": null,
            "grid_template_columns": null,
            "grid_template_rows": null,
            "height": null,
            "justify_content": null,
            "justify_items": null,
            "left": null,
            "margin": null,
            "max_height": null,
            "max_width": null,
            "min_height": null,
            "min_width": null,
            "object_fit": null,
            "object_position": null,
            "order": null,
            "overflow": null,
            "overflow_x": null,
            "overflow_y": null,
            "padding": null,
            "right": null,
            "top": null,
            "visibility": null,
            "width": null
          }
        },
        "c36680b4a14a48b7b76b570fc575a28e": {
          "model_module": "@jupyter-widgets/controls",
          "model_name": "VBoxModel",
          "model_module_version": "1.5.0",
          "state": {
            "_dom_classes": [
              "widget-interact"
            ],
            "_model_module": "@jupyter-widgets/controls",
            "_model_module_version": "1.5.0",
            "_model_name": "VBoxModel",
            "_view_count": null,
            "_view_module": "@jupyter-widgets/controls",
            "_view_module_version": "1.5.0",
            "_view_name": "VBoxView",
            "box_style": "",
            "children": [
              "IPY_MODEL_ad672cca980f4ab2a60d93af3fb88957",
              "IPY_MODEL_f2c9508369c24239914b06fc35555256"
            ],
            "layout": "IPY_MODEL_da3862835da74ed994aa84fa739d1d58"
          }
        },
        "ad672cca980f4ab2a60d93af3fb88957": {
          "model_module": "@jupyter-widgets/controls",
          "model_name": "FloatSliderModel",
          "model_module_version": "1.5.0",
          "state": {
            "_dom_classes": [],
            "_model_module": "@jupyter-widgets/controls",
            "_model_module_version": "1.5.0",
            "_model_name": "FloatSliderModel",
            "_view_count": null,
            "_view_module": "@jupyter-widgets/controls",
            "_view_module_version": "1.5.0",
            "_view_name": "FloatSliderView",
            "continuous_update": true,
            "description": "switch_prob",
            "description_tooltip": null,
            "disabled": false,
            "layout": "IPY_MODEL_c41c34023f50434ead782d32c1ee1d10",
            "max": 1,
            "min": 0,
            "orientation": "horizontal",
            "readout": true,
            "readout_format": ".2f",
            "step": 0.01,
            "style": "IPY_MODEL_9bdefe4669e14b3e929dcb3caeb972cd",
            "value": 0.1
          }
        },
        "f2c9508369c24239914b06fc35555256": {
          "model_module": "@jupyter-widgets/output",
          "model_name": "OutputModel",
          "model_module_version": "1.0.0",
          "state": {
            "_dom_classes": [],
            "_model_module": "@jupyter-widgets/output",
            "_model_module_version": "1.0.0",
            "_model_name": "OutputModel",
            "_view_count": null,
            "_view_module": "@jupyter-widgets/output",
            "_view_module_version": "1.0.0",
            "_view_name": "OutputView",
            "layout": "IPY_MODEL_9c887a51dfaa4ec3bb6e0915f6f87adc",
            "msg_id": "",
            "outputs": [
              {
                "output_type": "display_data",
                "data": {
                  "text/plain": "<Figure size 800x600 with 1 Axes>",
                  "image/png": "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\n"
                },
                "metadata": {
                  "image/png": {
                    "width": 775,
                    "height": 575
                  }
                }
              }
            ]
          }
        },
        "da3862835da74ed994aa84fa739d1d58": {
          "model_module": "@jupyter-widgets/base",
          "model_name": "LayoutModel",
          "model_module_version": "1.2.0",
          "state": {
            "_model_module": "@jupyter-widgets/base",
            "_model_module_version": "1.2.0",
            "_model_name": "LayoutModel",
            "_view_count": null,
            "_view_module": "@jupyter-widgets/base",
            "_view_module_version": "1.2.0",
            "_view_name": "LayoutView",
            "align_content": null,
            "align_items": null,
            "align_self": null,
            "border": null,
            "bottom": null,
            "display": null,
            "flex": null,
            "flex_flow": null,
            "grid_area": null,
            "grid_auto_columns": null,
            "grid_auto_flow": null,
            "grid_auto_rows": null,
            "grid_column": null,
            "grid_gap": null,
            "grid_row": null,
            "grid_template_areas": null,
            "grid_template_columns": null,
            "grid_template_rows": null,
            "height": null,
            "justify_content": null,
            "justify_items": null,
            "left": null,
            "margin": null,
            "max_height": null,
            "max_width": null,
            "min_height": null,
            "min_width": null,
            "object_fit": null,
            "object_position": null,
            "order": null,
            "overflow": null,
            "overflow_x": null,
            "overflow_y": null,
            "padding": null,
            "right": null,
            "top": null,
            "visibility": null,
            "width": null
          }
        },
        "c41c34023f50434ead782d32c1ee1d10": {
          "model_module": "@jupyter-widgets/base",
          "model_name": "LayoutModel",
          "model_module_version": "1.2.0",
          "state": {
            "_model_module": "@jupyter-widgets/base",
            "_model_module_version": "1.2.0",
            "_model_name": "LayoutModel",
            "_view_count": null,
            "_view_module": "@jupyter-widgets/base",
            "_view_module_version": "1.2.0",
            "_view_name": "LayoutView",
            "align_content": null,
            "align_items": null,
            "align_self": null,
            "border": null,
            "bottom": null,
            "display": null,
            "flex": null,
            "flex_flow": null,
            "grid_area": null,
            "grid_auto_columns": null,
            "grid_auto_flow": null,
            "grid_auto_rows": null,
            "grid_column": null,
            "grid_gap": null,
            "grid_row": null,
            "grid_template_areas": null,
            "grid_template_columns": null,
            "grid_template_rows": null,
            "height": null,
            "justify_content": null,
            "justify_items": null,
            "left": null,
            "margin": null,
            "max_height": null,
            "max_width": null,
            "min_height": null,
            "min_width": null,
            "object_fit": null,
            "object_position": null,
            "order": null,
            "overflow": null,
            "overflow_x": null,
            "overflow_y": null,
            "padding": null,
            "right": null,
            "top": null,
            "visibility": null,
            "width": null
          }
        },
        "9bdefe4669e14b3e929dcb3caeb972cd": {
          "model_module": "@jupyter-widgets/controls",
          "model_name": "SliderStyleModel",
          "model_module_version": "1.5.0",
          "state": {
            "_model_module": "@jupyter-widgets/controls",
            "_model_module_version": "1.5.0",
            "_model_name": "SliderStyleModel",
            "_view_count": null,
            "_view_module": "@jupyter-widgets/base",
            "_view_module_version": "1.2.0",
            "_view_name": "StyleView",
            "description_width": "",
            "handle_color": null
          }
        },
        "9c887a51dfaa4ec3bb6e0915f6f87adc": {
          "model_module": "@jupyter-widgets/base",
          "model_name": "LayoutModel",
          "model_module_version": "1.2.0",
          "state": {
            "_model_module": "@jupyter-widgets/base",
            "_model_module_version": "1.2.0",
            "_model_name": "LayoutModel",
            "_view_count": null,
            "_view_module": "@jupyter-widgets/base",
            "_view_module_version": "1.2.0",
            "_view_name": "LayoutView",
            "align_content": null,
            "align_items": null,
            "align_self": null,
            "border": null,
            "bottom": null,
            "display": null,
            "flex": null,
            "flex_flow": null,
            "grid_area": null,
            "grid_auto_columns": null,
            "grid_auto_flow": null,
            "grid_auto_rows": null,
            "grid_column": null,
            "grid_gap": null,
            "grid_row": null,
            "grid_template_areas": null,
            "grid_template_columns": null,
            "grid_template_rows": null,
            "height": null,
            "justify_content": null,
            "justify_items": null,
            "left": null,
            "margin": null,
            "max_height": null,
            "max_width": null,
            "min_height": null,
            "min_width": null,
            "object_fit": null,
            "object_position": null,
            "order": null,
            "overflow": null,
            "overflow_x": null,
            "overflow_y": null,
            "padding": null,
            "right": null,
            "top": null,
            "visibility": null,
            "width": null
          }
        },
        "08bfc0f4f03f4d46a0b3d1085feab6c0": {
          "model_module": "@jupyter-widgets/controls",
          "model_name": "TabModel",
          "model_module_version": "1.5.0",
          "state": {
            "_dom_classes": [],
            "_model_module": "@jupyter-widgets/controls",
            "_model_module_version": "1.5.0",
            "_model_name": "TabModel",
            "_titles": {
              "0": "Youtube",
              "1": "Bilibili"
            },
            "_view_count": null,
            "_view_module": "@jupyter-widgets/controls",
            "_view_module_version": "1.5.0",
            "_view_name": "TabView",
            "box_style": "",
            "children": [
              "IPY_MODEL_bb1829d9e88a4dac8a53e3f86832b7e7",
              "IPY_MODEL_c4bd6e73fb664299aed8d4f6e61c6415"
            ],
            "layout": "IPY_MODEL_ac794d3c12c54512ba18ef4b8f88fa7d",
            "selected_index": 0
          }
        },
        "bb1829d9e88a4dac8a53e3f86832b7e7": {
          "model_module": "@jupyter-widgets/output",
          "model_name": "OutputModel",
          "model_module_version": "1.0.0",
          "state": {
            "_dom_classes": [],
            "_model_module": "@jupyter-widgets/output",
            "_model_module_version": "1.0.0",
            "_model_name": "OutputModel",
            "_view_count": null,
            "_view_module": "@jupyter-widgets/output",
            "_view_module_version": "1.0.0",
            "_view_name": "OutputView",
            "layout": "IPY_MODEL_576ef547359a4c9abf3aad5f71aa431a",
            "msg_id": "",
            "outputs": [
              {
                "output_type": "stream",
                "name": "stdout",
                "text": [
                  "Video available at https://youtube.com/watch?v=GRnlvxZ_ozk\n"
                ]
              },
              {
                "output_type": "display_data",
                "data": {
                  "text/plain": "<IPython.lib.display.YouTubeVideo at 0x7e0841186410>",
                  "text/html": "\n        <iframe\n            width=\"854\"\n            height=\"480\"\n            src=\"https://www.youtube.com/embed/GRnlvxZ_ozk?fs=1&rel=0\"\n            frameborder=\"0\"\n            allowfullscreen\n            \n        ></iframe>\n        ",
                  "image/jpeg": "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\n"
                },
                "metadata": {}
              }
            ]
          }
        },
        "c4bd6e73fb664299aed8d4f6e61c6415": {
          "model_module": "@jupyter-widgets/output",
          "model_name": "OutputModel",
          "model_module_version": "1.0.0",
          "state": {
            "_dom_classes": [],
            "_model_module": "@jupyter-widgets/output",
            "_model_module_version": "1.0.0",
            "_model_name": "OutputModel",
            "_view_count": null,
            "_view_module": "@jupyter-widgets/output",
            "_view_module_version": "1.0.0",
            "_view_name": "OutputView",
            "layout": "IPY_MODEL_feee0b0aaabd4118a283d61436dcec38",
            "msg_id": "",
            "outputs": [
              {
                "output_type": "stream",
                "name": "stdout",
                "text": [
                  "Video available at https://www.bilibili.com/video/BV1DM4y1K7tK\n"
                ]
              },
              {
                "output_type": "display_data",
                "data": {
                  "text/plain": "<__main__.PlayVideo at 0x7e084112d610>",
                  "text/html": "\n        <iframe\n            width=\"854\"\n            height=\"480\"\n            src=\"https://player.bilibili.com/player.html?bvid=BV1DM4y1K7tK&page=1?fs=1&autoplay=False\"\n            frameborder=\"0\"\n            allowfullscreen\n            \n        ></iframe>\n        "
                },
                "metadata": {}
              }
            ]
          }
        },
        "ac794d3c12c54512ba18ef4b8f88fa7d": {
          "model_module": "@jupyter-widgets/base",
          "model_name": "LayoutModel",
          "model_module_version": "1.2.0",
          "state": {
            "_model_module": "@jupyter-widgets/base",
            "_model_module_version": "1.2.0",
            "_model_name": "LayoutModel",
            "_view_count": null,
            "_view_module": "@jupyter-widgets/base",
            "_view_module_version": "1.2.0",
            "_view_name": "LayoutView",
            "align_content": null,
            "align_items": null,
            "align_self": null,
            "border": null,
            "bottom": null,
            "display": null,
            "flex": null,
            "flex_flow": null,
            "grid_area": null,
            "grid_auto_columns": null,
            "grid_auto_flow": null,
            "grid_auto_rows": null,
            "grid_column": null,
            "grid_gap": null,
            "grid_row": null,
            "grid_template_areas": null,
            "grid_template_columns": null,
            "grid_template_rows": null,
            "height": null,
            "justify_content": null,
            "justify_items": null,
            "left": null,
            "margin": null,
            "max_height": null,
            "max_width": null,
            "min_height": null,
            "min_width": null,
            "object_fit": null,
            "object_position": null,
            "order": null,
            "overflow": null,
            "overflow_x": null,
            "overflow_y": null,
            "padding": null,
            "right": null,
            "top": null,
            "visibility": null,
            "width": null
          }
        },
        "576ef547359a4c9abf3aad5f71aa431a": {
          "model_module": "@jupyter-widgets/base",
          "model_name": "LayoutModel",
          "model_module_version": "1.2.0",
          "state": {
            "_model_module": "@jupyter-widgets/base",
            "_model_module_version": "1.2.0",
            "_model_name": "LayoutModel",
            "_view_count": null,
            "_view_module": "@jupyter-widgets/base",
            "_view_module_version": "1.2.0",
            "_view_name": "LayoutView",
            "align_content": null,
            "align_items": null,
            "align_self": null,
            "border": null,
            "bottom": null,
            "display": null,
            "flex": null,
            "flex_flow": null,
            "grid_area": null,
            "grid_auto_columns": null,
            "grid_auto_flow": null,
            "grid_auto_rows": null,
            "grid_column": null,
            "grid_gap": null,
            "grid_row": null,
            "grid_template_areas": null,
            "grid_template_columns": null,
            "grid_template_rows": null,
            "height": null,
            "justify_content": null,
            "justify_items": null,
            "left": null,
            "margin": null,
            "max_height": null,
            "max_width": null,
            "min_height": null,
            "min_width": null,
            "object_fit": null,
            "object_position": null,
            "order": null,
            "overflow": null,
            "overflow_x": null,
            "overflow_y": null,
            "padding": null,
            "right": null,
            "top": null,
            "visibility": null,
            "width": null
          }
        },
        "feee0b0aaabd4118a283d61436dcec38": {
          "model_module": "@jupyter-widgets/base",
          "model_name": "LayoutModel",
          "model_module_version": "1.2.0",
          "state": {
            "_model_module": "@jupyter-widgets/base",
            "_model_module_version": "1.2.0",
            "_model_name": "LayoutModel",
            "_view_count": null,
            "_view_module": "@jupyter-widgets/base",
            "_view_module_version": "1.2.0",
            "_view_name": "LayoutView",
            "align_content": null,
            "align_items": null,
            "align_self": null,
            "border": null,
            "bottom": null,
            "display": null,
            "flex": null,
            "flex_flow": null,
            "grid_area": null,
            "grid_auto_columns": null,
            "grid_auto_flow": null,
            "grid_auto_rows": null,
            "grid_column": null,
            "grid_gap": null,
            "grid_row": null,
            "grid_template_areas": null,
            "grid_template_columns": null,
            "grid_template_rows": null,
            "height": null,
            "justify_content": null,
            "justify_items": null,
            "left": null,
            "margin": null,
            "max_height": null,
            "max_width": null,
            "min_height": null,
            "min_width": null,
            "object_fit": null,
            "object_position": null,
            "order": null,
            "overflow": null,
            "overflow_x": null,
            "overflow_y": null,
            "padding": null,
            "right": null,
            "top": null,
            "visibility": null,
            "width": null
          }
        },
        "c83ce9d3e9e8444e80e886739d218be5": {
          "model_module": "@jupyter-widgets/controls",
          "model_name": "TabModel",
          "model_module_version": "1.5.0",
          "state": {
            "_dom_classes": [],
            "_model_module": "@jupyter-widgets/controls",
            "_model_module_version": "1.5.0",
            "_model_name": "TabModel",
            "_titles": {
              "0": "Youtube",
              "1": "Bilibili"
            },
            "_view_count": null,
            "_view_module": "@jupyter-widgets/controls",
            "_view_module_version": "1.5.0",
            "_view_name": "TabView",
            "box_style": "",
            "children": [
              "IPY_MODEL_06566738f9cb4f83afc995aad036b8b7",
              "IPY_MODEL_8ec0f0ab1032470da474c4a3f5b5c0b6"
            ],
            "layout": "IPY_MODEL_9a61b91ff77f41af93546a9097d73806",
            "selected_index": 0
          }
        },
        "06566738f9cb4f83afc995aad036b8b7": {
          "model_module": "@jupyter-widgets/output",
          "model_name": "OutputModel",
          "model_module_version": "1.0.0",
          "state": {
            "_dom_classes": [],
            "_model_module": "@jupyter-widgets/output",
            "_model_module_version": "1.0.0",
            "_model_name": "OutputModel",
            "_view_count": null,
            "_view_module": "@jupyter-widgets/output",
            "_view_module_version": "1.0.0",
            "_view_name": "OutputView",
            "layout": "IPY_MODEL_382a62e1ace240a7a7ab48c967a89441",
            "msg_id": "",
            "outputs": [
              {
                "output_type": "stream",
                "name": "stdout",
                "text": [
                  "Video available at https://youtube.com/watch?v=fErhvxE9SHs\n"
                ]
              },
              {
                "output_type": "display_data",
                "data": {
                  "text/plain": "<IPython.lib.display.YouTubeVideo at 0x7e084117c790>",
                  "text/html": "\n        <iframe\n            width=\"854\"\n            height=\"480\"\n            src=\"https://www.youtube.com/embed/fErhvxE9SHs?fs=1&rel=0\"\n            frameborder=\"0\"\n            allowfullscreen\n            \n        ></iframe>\n        ",
                  "image/jpeg": "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\n"
                },
                "metadata": {}
              }
            ]
          }
        },
        "8ec0f0ab1032470da474c4a3f5b5c0b6": {
          "model_module": "@jupyter-widgets/output",
          "model_name": "OutputModel",
          "model_module_version": "1.0.0",
          "state": {
            "_dom_classes": [],
            "_model_module": "@jupyter-widgets/output",
            "_model_module_version": "1.0.0",
            "_model_name": "OutputModel",
            "_view_count": null,
            "_view_module": "@jupyter-widgets/output",
            "_view_module_version": "1.0.0",
            "_view_name": "OutputView",
            "layout": "IPY_MODEL_c0252c2af1684f45b8576c3f468043bd",
            "msg_id": "",
            "outputs": [
              {
                "output_type": "stream",
                "name": "stdout",
                "text": [
                  "Video available at https://www.bilibili.com/video/BV17f4y1571y\n"
                ]
              },
              {
                "output_type": "display_data",
                "data": {
                  "text/plain": "<__main__.PlayVideo at 0x7e0843bbc790>",
                  "text/html": "\n        <iframe\n            width=\"854\"\n            height=\"480\"\n            src=\"https://player.bilibili.com/player.html?bvid=BV17f4y1571y&page=1?fs=1&autoplay=False\"\n            frameborder=\"0\"\n            allowfullscreen\n            \n        ></iframe>\n        "
                },
                "metadata": {}
              }
            ]
          }
        },
        "9a61b91ff77f41af93546a9097d73806": {
          "model_module": "@jupyter-widgets/base",
          "model_name": "LayoutModel",
          "model_module_version": "1.2.0",
          "state": {
            "_model_module": "@jupyter-widgets/base",
            "_model_module_version": "1.2.0",
            "_model_name": "LayoutModel",
            "_view_count": null,
            "_view_module": "@jupyter-widgets/base",
            "_view_module_version": "1.2.0",
            "_view_name": "LayoutView",
            "align_content": null,
            "align_items": null,
            "align_self": null,
            "border": null,
            "bottom": null,
            "display": null,
            "flex": null,
            "flex_flow": null,
            "grid_area": null,
            "grid_auto_columns": null,
            "grid_auto_flow": null,
            "grid_auto_rows": null,
            "grid_column": null,
            "grid_gap": null,
            "grid_row": null,
            "grid_template_areas": null,
            "grid_template_columns": null,
            "grid_template_rows": null,
            "height": null,
            "justify_content": null,
            "justify_items": null,
            "left": null,
            "margin": null,
            "max_height": null,
            "max_width": null,
            "min_height": null,
            "min_width": null,
            "object_fit": null,
            "object_position": null,
            "order": null,
            "overflow": null,
            "overflow_x": null,
            "overflow_y": null,
            "padding": null,
            "right": null,
            "top": null,
            "visibility": null,
            "width": null
          }
        },
        "382a62e1ace240a7a7ab48c967a89441": {
          "model_module": "@jupyter-widgets/base",
          "model_name": "LayoutModel",
          "model_module_version": "1.2.0",
          "state": {
            "_model_module": "@jupyter-widgets/base",
            "_model_module_version": "1.2.0",
            "_model_name": "LayoutModel",
            "_view_count": null,
            "_view_module": "@jupyter-widgets/base",
            "_view_module_version": "1.2.0",
            "_view_name": "LayoutView",
            "align_content": null,
            "align_items": null,
            "align_self": null,
            "border": null,
            "bottom": null,
            "display": null,
            "flex": null,
            "flex_flow": null,
            "grid_area": null,
            "grid_auto_columns": null,
            "grid_auto_flow": null,
            "grid_auto_rows": null,
            "grid_column": null,
            "grid_gap": null,
            "grid_row": null,
            "grid_template_areas": null,
            "grid_template_columns": null,
            "grid_template_rows": null,
            "height": null,
            "justify_content": null,
            "justify_items": null,
            "left": null,
            "margin": null,
            "max_height": null,
            "max_width": null,
            "min_height": null,
            "min_width": null,
            "object_fit": null,
            "object_position": null,
            "order": null,
            "overflow": null,
            "overflow_x": null,
            "overflow_y": null,
            "padding": null,
            "right": null,
            "top": null,
            "visibility": null,
            "width": null
          }
        },
        "c0252c2af1684f45b8576c3f468043bd": {
          "model_module": "@jupyter-widgets/base",
          "model_name": "LayoutModel",
          "model_module_version": "1.2.0",
          "state": {
            "_model_module": "@jupyter-widgets/base",
            "_model_module_version": "1.2.0",
            "_model_name": "LayoutModel",
            "_view_count": null,
            "_view_module": "@jupyter-widgets/base",
            "_view_module_version": "1.2.0",
            "_view_name": "LayoutView",
            "align_content": null,
            "align_items": null,
            "align_self": null,
            "border": null,
            "bottom": null,
            "display": null,
            "flex": null,
            "flex_flow": null,
            "grid_area": null,
            "grid_auto_columns": null,
            "grid_auto_flow": null,
            "grid_auto_rows": null,
            "grid_column": null,
            "grid_gap": null,
            "grid_row": null,
            "grid_template_areas": null,
            "grid_template_columns": null,
            "grid_template_rows": null,
            "height": null,
            "justify_content": null,
            "justify_items": null,
            "left": null,
            "margin": null,
            "max_height": null,
            "max_width": null,
            "min_height": null,
            "min_width": null,
            "object_fit": null,
            "object_position": null,
            "order": null,
            "overflow": null,
            "overflow_x": null,
            "overflow_y": null,
            "padding": null,
            "right": null,
            "top": null,
            "visibility": null,
            "width": null
          }
        }
      }
    }
  },
  "nbformat": 4,
  "nbformat_minor": 0
}