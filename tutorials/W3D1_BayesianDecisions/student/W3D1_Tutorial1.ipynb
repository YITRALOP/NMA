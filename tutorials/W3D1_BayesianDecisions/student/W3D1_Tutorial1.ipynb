{
  "cells": [
    {
      "cell_type": "markdown",
      "metadata": {
        "id": "view-in-github",
        "colab_type": "text"
      },
      "source": [
        "<a href=\"https://colab.research.google.com/github/YITRALOP/NMA/blob/main/tutorials/W3D1_BayesianDecisions/student/W3D1_Tutorial1.ipynb\" target=\"_parent\"><img src=\"https://colab.research.google.com/assets/colab-badge.svg\" alt=\"Open In Colab\"/></a>"
      ]
    },
    {
      "cell_type": "markdown",
      "metadata": {
        "execution": {},
        "id": "vUcVAPCf7B2r"
      },
      "source": [
        "# Tutorial 1: Bayes with a binary hidden state\n",
        "\n",
        "**Week 3, Day 1: Bayesian Decisions**\n",
        "\n",
        "**By Neuromatch Academy**\n",
        "\n",
        "**Content creators:** Eric DeWitt, Xaq Pitkow, Ella Batty, Saeed Salehi\n",
        "\n",
        "**Content reviewers:** Hyosub Kim, Zahra Arjmandi, Anoop Kulkarni\n",
        "\n",
        "**Production editors:** Ella Batty, Gagana B, Spiros Chavlis"
      ]
    },
    {
      "cell_type": "markdown",
      "metadata": {
        "execution": {},
        "id": "PJL1PzIh7B2s"
      },
      "source": [
        "# Tutorial Objectives\n",
        "\n",
        "*Estimated timing of tutorial: 1 hour, 30 minutes*\n",
        "\n",
        "This is the first of two core tutorials on Bayesian statistics. In these tutorials, we will explore the fundamental concepts of the Bayesian approach. In this tutorial you will work through an example of Bayesian inference and decision making using a binary hidden state. The second tutorial extends these concepts to a continuous hidden state. In the related NMA days, each of these basic ideas will be extended. In Hidden Dynamics, we consider these ideas through time as you explore what happens when we infer a hidden state using repeated observations and when the hidden state changes across time. On the Optimal Control day, we will introduce the notion of how to use inference and decisions to select actions for optimal control.\n",
        "\n",
        "This notebook will introduce the fundamental building blocks for Bayesian statistics:\n",
        "\n",
        "1. How do we combine the possible loss (or gain) for making a decision with our probabilistic knowledge?\n",
        "2. How do we use probability distributions to represent hidden states?\n",
        "3. How does marginalization work and how can we use it?\n",
        "4. How do we combine new information with our prior knowledge?"
      ]
    },
    {
      "cell_type": "code",
      "execution_count": 1,
      "metadata": {
        "cellView": "form",
        "execution": {},
        "id": "OtBVy3AU7B2t",
        "colab": {
          "base_uri": "https://localhost:8080/",
          "height": 518
        },
        "outputId": "d435fb81-5160-45c8-b4f1-2c297345ad15"
      },
      "outputs": [
        {
          "output_type": "stream",
          "name": "stdout",
          "text": [
            "If you want to download the slides: https://osf.io/download/dx7jt/\n"
          ]
        },
        {
          "output_type": "execute_result",
          "data": {
            "text/plain": [
              "<IPython.lib.display.IFrame at 0x7cc3e992e2d0>"
            ],
            "text/html": [
              "\n",
              "        <iframe\n",
              "            width=\"854\"\n",
              "            height=\"480\"\n",
              "            src=\"https://mfr.ca-1.osf.io/render?url=https://osf.io/dx7jt/?direct%26mode=render%26action=download%26mode=render\"\n",
              "            frameborder=\"0\"\n",
              "            allowfullscreen\n",
              "            \n",
              "        ></iframe>\n",
              "        "
            ]
          },
          "metadata": {},
          "execution_count": 1
        }
      ],
      "source": [
        "# @title Tutorial slides\n",
        "# @markdown These are the slides for the videos in this tutorial\n",
        "from IPython.display import IFrame\n",
        "link_id = \"dx7jt\"\n",
        "print(f\"If you want to download the slides: https://osf.io/download/{link_id}/\")\n",
        "IFrame(src=f\"https://mfr.ca-1.osf.io/render?url=https://osf.io/{link_id}/?direct%26mode=render%26action=download%26mode=render\", width=854, height=480)"
      ]
    },
    {
      "cell_type": "markdown",
      "metadata": {
        "execution": {},
        "id": "TlE31THu7B2t"
      },
      "source": [
        "---\n",
        "# Setup\n"
      ]
    },
    {
      "cell_type": "code",
      "execution_count": null,
      "metadata": {
        "cellView": "form",
        "execution": {},
        "id": "lppShBEW7B2u"
      },
      "outputs": [],
      "source": [
        "# @title Install and import feedback gadget\n",
        "\n",
        "!pip3 install vibecheck datatops --quiet\n",
        "\n",
        "from vibecheck import DatatopsContentReviewContainer\n",
        "def content_review(notebook_section: str):\n",
        "    return DatatopsContentReviewContainer(\n",
        "        \"\",  # No text prompt\n",
        "        notebook_section,\n",
        "        {\n",
        "            \"url\": \"https://pmyvdlilci.execute-api.us-east-1.amazonaws.com/klab\",\n",
        "            \"name\": \"neuromatch_cn\",\n",
        "            \"user_key\": \"y1x3mpx5\",\n",
        "        },\n",
        "    ).render()\n",
        "\n",
        "\n",
        "feedback_prefix = \"W3D1_T1\""
      ]
    },
    {
      "cell_type": "code",
      "execution_count": 2,
      "metadata": {
        "execution": {},
        "id": "KPMnC7jI7B2u"
      },
      "outputs": [],
      "source": [
        "# Imports\n",
        "import numpy as np\n",
        "import matplotlib.pyplot as plt\n",
        "from matplotlib import patches, transforms, gridspec\n",
        "from scipy.optimize import fsolve\n",
        "from collections import namedtuple"
      ]
    },
    {
      "cell_type": "code",
      "execution_count": 3,
      "metadata": {
        "cellView": "form",
        "execution": {},
        "id": "dOWQ3sLL7B2v"
      },
      "outputs": [],
      "source": [
        "# @title Figure Settings\n",
        "import logging\n",
        "logging.getLogger('matplotlib.font_manager').disabled = True\n",
        "\n",
        "import ipywidgets as widgets  # interactive display\n",
        "from ipywidgets import GridspecLayout, HBox, VBox, FloatSlider, Layout, ToggleButtons\n",
        "from ipywidgets import interactive, interactive_output, Checkbox, Select\n",
        "from IPython.display import clear_output\n",
        "%config InlineBackend.figure_format = 'retina'\n",
        "plt.style.use(\"https://raw.githubusercontent.com/NeuromatchAcademy/course-content/main/nma.mplstyle\")\n",
        "\n",
        "import warnings\n",
        "warnings.filterwarnings(\"ignore\")"
      ]
    },
    {
      "cell_type": "code",
      "execution_count": 4,
      "metadata": {
        "cellView": "form",
        "execution": {},
        "id": "zXU1_yJP7B2v"
      },
      "outputs": [],
      "source": [
        "# @title Plotting Functions\n",
        "from matplotlib import colors\n",
        "\n",
        "def plot_joint_probs(P, ):\n",
        "  assert np.all(P >= 0), \"probabilities should be >= 0\"\n",
        "  # normalize if not\n",
        "  P = P / np.sum(P)\n",
        "  marginal_y = np.sum(P,axis=1)\n",
        "  marginal_x = np.sum(P,axis=0)\n",
        "\n",
        "  # definitions for the axes\n",
        "  left, width = 0.1, 0.65\n",
        "  bottom, height = 0.1, 0.65\n",
        "  spacing = 0.005\n",
        "\n",
        "  # start with a square Figure\n",
        "  fig = plt.figure(figsize=(5, 5))\n",
        "\n",
        "  joint_prob = [left, bottom, width, height]\n",
        "  rect_histx = [left, bottom + height + spacing, width, 0.2]\n",
        "  rect_histy = [left + width + spacing, bottom, 0.2, height]\n",
        "\n",
        "  rect_x_cmap = plt.cm.Blues\n",
        "  rect_y_cmap = plt.cm.Reds\n",
        "\n",
        "  # Show joint probs and marginals\n",
        "  ax = fig.add_axes(joint_prob)\n",
        "  ax_x = fig.add_axes(rect_histx, sharex=ax)\n",
        "  ax_y = fig.add_axes(rect_histy, sharey=ax)\n",
        "\n",
        "  # Show joint probs and marginals\n",
        "  ax.matshow(P,vmin=0., vmax=1., cmap='Greys')\n",
        "  ax_x.bar(0, marginal_x[0], facecolor=rect_x_cmap(marginal_x[0]))\n",
        "  ax_x.bar(1, marginal_x[1], facecolor=rect_x_cmap(marginal_x[1]))\n",
        "  ax_y.barh(0, marginal_y[0], facecolor=rect_y_cmap(marginal_y[0]))\n",
        "  ax_y.barh(1, marginal_y[1], facecolor=rect_y_cmap(marginal_y[1]))\n",
        "  # set limits\n",
        "  ax_x.set_ylim([0, 1])\n",
        "  ax_y.set_xlim([0, 1])\n",
        "\n",
        "  # show values\n",
        "  ind = np.arange(2)\n",
        "  x,y = np.meshgrid(ind,ind)\n",
        "  for i,j in zip(x.flatten(), y.flatten()):\n",
        "    c = f\"{P[i, j]:.2f}\"\n",
        "    ax.text(j,i, c, va='center', ha='center', color='black')\n",
        "  for i in ind:\n",
        "    v = marginal_x[i]\n",
        "    c = f\"{v:.2f}\"\n",
        "    ax_x.text(i, v +0.1, c, va='center', ha='center', color='black')\n",
        "    v = marginal_y[i]\n",
        "    c = f\"{v:.2f}\"\n",
        "    ax_y.text(v+0.2, i, c, va='center', ha='center', color='black')\n",
        "\n",
        "  # set up labels\n",
        "  ax.xaxis.tick_bottom()\n",
        "  ax.yaxis.tick_left()\n",
        "  ax.set_xticks([0,1])\n",
        "  ax.set_yticks([0,1])\n",
        "  ax.set_xticklabels(['Silver', 'Gold'])\n",
        "  ax.set_yticklabels(['Small', 'Large'])\n",
        "  ax.set_xlabel('color')\n",
        "  ax.set_ylabel('size')\n",
        "  ax_x.axis('off')\n",
        "  ax_y.axis('off')\n",
        "  return fig\n",
        "\n",
        "\n",
        "def plot_prior_likelihood_posterior(prior, likelihood, posterior):\n",
        "  # definitions for the axes\n",
        "  left, width = 0.05, 0.3\n",
        "  bottom, height = 0.05, 0.9\n",
        "  padding = 0.12\n",
        "  small_width = 0.1\n",
        "  left_space = left + small_width + padding\n",
        "  added_space = padding + width\n",
        "\n",
        "  fig = plt.figure(figsize=(12, 4))\n",
        "\n",
        "  rect_prior = [left, bottom, small_width, height]\n",
        "  rect_likelihood = [left_space , bottom , width, height]\n",
        "  rect_posterior = [left_space +  added_space, bottom , width, height]\n",
        "\n",
        "  ax_prior = fig.add_axes(rect_prior)\n",
        "  ax_likelihood = fig.add_axes(rect_likelihood, sharey=ax_prior)\n",
        "  ax_posterior = fig.add_axes(rect_posterior, sharey = ax_prior)\n",
        "\n",
        "  rect_colormap = plt.cm.Blues\n",
        "\n",
        "  # Show posterior probs and marginals\n",
        "  ax_prior.barh(0, prior[0], facecolor=rect_colormap(prior[0, 0]))\n",
        "  ax_prior.barh(1, prior[1], facecolor=rect_colormap(prior[1, 0]))\n",
        "  ax_likelihood.matshow(likelihood, vmin=0., vmax=1., cmap='Reds')\n",
        "  ax_posterior.matshow(posterior, vmin=0., vmax=1., cmap='Greens')\n",
        "\n",
        "  # Probabilities plot details\n",
        "  ax_prior.set(xlim=[1, 0], xticks=[], yticks=[0, 1],\n",
        "                yticklabels=['left', 'right'], title=\"Prior p(s)\")\n",
        "  ax_prior.yaxis.tick_right()\n",
        "  ax_prior.spines['left'].set_visible(False)\n",
        "  ax_prior.spines['bottom'].set_visible(False)\n",
        "\n",
        "  # Likelihood plot details\n",
        "  ax_likelihood.set(xticks=[0, 1], xticklabels=['fish', 'no fish'],\n",
        "                    yticks=[0, 1], yticklabels=['left', 'right'],\n",
        "                    ylabel='state (s)', xlabel='measurement (m)',\n",
        "                    title='Likelihood p(m (left) | s)')\n",
        "  ax_likelihood.xaxis.set_ticks_position('bottom')\n",
        "  ax_likelihood.spines['left'].set_visible(False)\n",
        "  ax_likelihood.spines['bottom'].set_visible(False)\n",
        "\n",
        "  # Posterior plot details\n",
        "  ax_posterior.set(xticks=[0, 1], xticklabels=['fish', 'no fish'],\n",
        "                    yticks=[0, 1], yticklabels=['left', 'right'],\n",
        "                    ylabel='state (s)', xlabel='measurement (m)',\n",
        "                    title='Posterior p(s | m)')\n",
        "  ax_posterior.xaxis.set_ticks_position('bottom')\n",
        "  ax_posterior.spines['left'].set_visible(False)\n",
        "  ax_posterior.spines['bottom'].set_visible(False)\n",
        "\n",
        "  # show values\n",
        "  ind = np.arange(2)\n",
        "  x,y = np.meshgrid(ind,ind)\n",
        "  for i,j in zip(x.flatten(), y.flatten()):\n",
        "    c = f\"{posterior[i, j]:.2f}\"\n",
        "    ax_posterior.text(j, i, c, va='center', ha='center', color='black')\n",
        "  for i,j in zip(x.flatten(), y.flatten()):\n",
        "    c = f\"{likelihood[i, j]:.2f}\"\n",
        "    ax_likelihood.text(j, i, c, va='center', ha='center', color='black')\n",
        "  for i in ind:\n",
        "    v = prior[i, 0]\n",
        "    c = f\"{v:.2f}\"\n",
        "    ax_prior.text(v+0.2, i, c, va='center', ha='center', color='black')\n",
        "\n",
        "\n",
        "def plot_prior_likelihood(ps, p_a_s1, p_a_s0, measurement):\n",
        "  likelihood = np.asarray([[p_a_s1, 1-p_a_s1], [p_a_s0, 1-p_a_s0]])\n",
        "  assert 0.0 <= ps <= 1.0\n",
        "  prior = np.asarray([ps, 1 - ps])\n",
        "  if measurement == \"Fish\":\n",
        "    posterior = likelihood[:, 0] * prior\n",
        "  else:\n",
        "    posterior = (likelihood[:, 1] * prior).reshape(-1)\n",
        "  posterior /= np.sum(posterior)\n",
        "\n",
        "  # definitions for the axes\n",
        "  left, width = 0.05, 0.3\n",
        "  bottom, height = 0.05, 0.9\n",
        "  padding = 0.12\n",
        "  small_width = 0.2\n",
        "  left_space = left + small_width + padding\n",
        "  small_padding = 0.05\n",
        "\n",
        "  fig = plt.figure(figsize=(12, 4))\n",
        "\n",
        "  rect_prior = [left, bottom, small_width, height]\n",
        "  rect_likelihood = [left_space , bottom , width, height]\n",
        "  rect_posterior = [left_space + width + small_padding, bottom , small_width, height]\n",
        "\n",
        "  ax_prior = fig.add_axes(rect_prior)\n",
        "  ax_likelihood = fig.add_axes(rect_likelihood, sharey=ax_prior)\n",
        "  ax_posterior = fig.add_axes(rect_posterior, sharey=ax_prior)\n",
        "\n",
        "  prior_colormap = plt.cm.Blues\n",
        "  posterior_colormap = plt.cm.Greens\n",
        "\n",
        "  # Show posterior probs and marginals\n",
        "  ax_prior.barh(0, prior[0], facecolor=prior_colormap(prior[0]))\n",
        "  ax_prior.barh(1, prior[1], facecolor=prior_colormap(prior[1]))\n",
        "  ax_likelihood.matshow(likelihood, vmin=0., vmax=1., cmap='Reds')\n",
        "  ax_posterior.barh(0, posterior[0], facecolor=posterior_colormap(posterior[0]))\n",
        "  ax_posterior.barh(1, posterior[1], facecolor=posterior_colormap(posterior[1]))\n",
        "\n",
        "  # Probabilities plot details\n",
        "  ax_prior.set(xlim=[1, 0], yticks=[0, 1], yticklabels=['left', 'right'],\n",
        "                title=\"Prior p(s)\", xticks=[])\n",
        "  ax_prior.yaxis.tick_right()\n",
        "  ax_prior.spines['left'].set_visible(False)\n",
        "  ax_prior.spines['bottom'].set_visible(False)\n",
        "\n",
        "  # Likelihood plot details\n",
        "  ax_likelihood.set(xticks=[0, 1], xticklabels=['fish', 'no fish'],\n",
        "                    yticks=[0, 1], yticklabels=['left', 'right'],\n",
        "                    ylabel='state (s)', xlabel='measurement (m)',\n",
        "                    title='Likelihood p(m | s)')\n",
        "  ax_likelihood.xaxis.set_ticks_position('bottom')\n",
        "  ax_likelihood.spines['left'].set_visible(False)\n",
        "  ax_likelihood.spines['bottom'].set_visible(False)\n",
        "\n",
        "  # Posterior plot details\n",
        "  ax_posterior.set(xlim=[0, 1], xticks=[], yticks=[0, 1],\n",
        "                    yticklabels=['left', 'right'],\n",
        "                    title=\"Posterior p(s | m)\")\n",
        "  ax_posterior.spines['left'].set_visible(False)\n",
        "  ax_posterior.spines['bottom'].set_visible(False)\n",
        "\n",
        "  # show values\n",
        "  ind = np.arange(2)\n",
        "  x,y = np.meshgrid(ind, ind)\n",
        "  for i in ind:\n",
        "    v = posterior[i]\n",
        "    c = f\"{v:.2f}\"\n",
        "    ax_posterior.text(v+0.2, i, c, va='center', ha='center', color='black')\n",
        "  for i,j in zip(x.flatten(), y.flatten()):\n",
        "    c = f\"{likelihood[i, j]:.2f}\"\n",
        "    ax_likelihood.text(j, i, c, va='center', ha='center', color='black')\n",
        "  for i in ind:\n",
        "    v = prior[i]\n",
        "    c = f\"{v:.2f}\"\n",
        "    ax_prior.text(v+0.2, i, c, va='center', ha='center', color='black')\n",
        "  plt.show()\n",
        "  return fig\n",
        "\n",
        "\n",
        "def plot_utility(ps):\n",
        "  prior = np.asarray([ps, 1 - ps])\n",
        "\n",
        "  utility = np.array([[2, -3], [-2, 1]])\n",
        "\n",
        "  expected = prior @ utility\n",
        "\n",
        "  # definitions for the axes\n",
        "  left, width = 0.05, 0.16\n",
        "  bottom, height = 0.05, 0.9\n",
        "  padding = 0.02\n",
        "  small_width = 0.1\n",
        "  left_space = left + small_width + padding\n",
        "  added_space = padding + width\n",
        "\n",
        "  fig = plt.figure(figsize=(17, 3))\n",
        "\n",
        "  rect_prior = [left, bottom, small_width, height]\n",
        "  rect_utility = [left + added_space , bottom , width, height]\n",
        "  rect_expected = [left + 2* added_space, bottom , width, height]\n",
        "\n",
        "  ax_prior = fig.add_axes(rect_prior)\n",
        "  ax_utility = fig.add_axes(rect_utility, sharey=ax_prior)\n",
        "  ax_expected = fig.add_axes(rect_expected)\n",
        "\n",
        "  rect_colormap = plt.cm.Blues\n",
        "\n",
        "  # Data of plots\n",
        "  ax_prior.barh(0, prior[0], facecolor=rect_colormap(prior[0]))\n",
        "  ax_prior.barh(1, prior[1], facecolor=rect_colormap(prior[1]))\n",
        "  ax_utility.matshow(utility, cmap='cool')\n",
        "  norm = colors.Normalize(vmin=-3, vmax=3)\n",
        "  ax_expected.bar(0, expected[0], facecolor=rect_colormap(norm(expected[0])))\n",
        "  ax_expected.bar(1, expected[1], facecolor=rect_colormap(norm(expected[1])))\n",
        "\n",
        "  # Probabilities plot details\n",
        "  ax_prior.set(xlim=[1, 0], xticks=[], yticks=[0, 1],\n",
        "                yticklabels=['left', 'right'], title=\"Probability of state\")\n",
        "  ax_prior.yaxis.tick_right()\n",
        "  ax_prior.spines['left'].set_visible(False)\n",
        "  ax_prior.spines['bottom'].set_visible(False)\n",
        "\n",
        "  # Utility plot details\n",
        "  ax_utility.set(xticks=[0, 1], xticklabels=['left', 'right'],\n",
        "                  yticks=[0, 1], yticklabels=['left', 'right'],\n",
        "                  ylabel='state (s)', xlabel='action (a)',\n",
        "                  title='Utility')\n",
        "  ax_utility.xaxis.set_ticks_position('bottom')\n",
        "  ax_utility.spines['left'].set_visible(False)\n",
        "  ax_utility.spines['bottom'].set_visible(False)\n",
        "\n",
        "  # Expected utility plot details\n",
        "  ax_expected.set(title='Expected utility', ylim=[-3, 3],\n",
        "                  xticks=[0, 1], xticklabels=['left', 'right'],\n",
        "                  xlabel='action (a)', yticks=[])\n",
        "  ax_expected.xaxis.set_ticks_position('bottom')\n",
        "  ax_expected.spines['left'].set_visible(False)\n",
        "  ax_expected.spines['bottom'].set_visible(False)\n",
        "\n",
        "  # show values\n",
        "  ind = np.arange(2)\n",
        "  x,y = np.meshgrid(ind,ind)\n",
        "\n",
        "  for i,j in zip(x.flatten(), y.flatten()):\n",
        "    c = f\"{utility[i, j]:.2f}\"\n",
        "    ax_utility.text(j, i, c, va='center', ha='center', color='black')\n",
        "  for i in ind:\n",
        "    v = prior[i]\n",
        "    c = f\"{v:.2f}\"\n",
        "    ax_prior.text(v+0.2, i, c, va='center', ha='center', color='black')\n",
        "  for i in ind:\n",
        "    v = expected[i]\n",
        "    c = f\"{v:.2f}\"\n",
        "    ax_expected.text(i, 2.5, c, va='center', ha='center', color='black')\n",
        "\n",
        "  return fig\n",
        "\n",
        "\n",
        "def plot_prior_likelihood_utility(ps, p_a_s1, p_a_s0, measurement):\n",
        "  assert 0.0 <= ps <= 1.0\n",
        "  assert 0.0 <= p_a_s1 <= 1.0\n",
        "  assert 0.0 <= p_a_s0 <= 1.0\n",
        "  prior = np.asarray([ps, 1 - ps])\n",
        "  likelihood = np.asarray([[p_a_s1, 1-p_a_s1],[p_a_s0, 1-p_a_s0]])\n",
        "  utility = np.array([[2.0, -3.0], [-2.0, 1.0]])\n",
        "\n",
        "  if measurement == \"Fish\":\n",
        "    posterior = likelihood[:, 0] * prior\n",
        "  else:\n",
        "    posterior = (likelihood[:, 1] * prior).reshape(-1)\n",
        "  posterior /= np.sum(posterior)\n",
        "  expected = posterior @ utility\n",
        "\n",
        "  # definitions for the axes\n",
        "  left, width = 0.05, 0.3\n",
        "  bottom, height = 0.05, 0.3\n",
        "  padding = 0.12\n",
        "  small_width = 0.2\n",
        "  left_space = left + small_width + padding\n",
        "  small_padding = 0.05\n",
        "\n",
        "  fig = plt.figure(figsize=(10, 9))\n",
        "\n",
        "  rect_prior = [left, bottom + height + padding, small_width, height]\n",
        "  rect_likelihood = [left_space , bottom + height + padding , width, height]\n",
        "  rect_posterior = [left_space + width + small_padding,\n",
        "                    bottom + height + padding,\n",
        "                    small_width, height]\n",
        "\n",
        "  rect_utility = [padding, bottom, width, height]\n",
        "  rect_expected = [padding + width + padding + left, bottom, width, height]\n",
        "\n",
        "  ax_likelihood = fig.add_axes(rect_likelihood)\n",
        "  ax_prior = fig.add_axes(rect_prior, sharey=ax_likelihood)\n",
        "  ax_posterior = fig.add_axes(rect_posterior, sharey=ax_likelihood)\n",
        "  ax_utility = fig.add_axes(rect_utility)\n",
        "  ax_expected = fig.add_axes(rect_expected)\n",
        "\n",
        "  prior_colormap = plt.cm.Blues\n",
        "  posterior_colormap = plt.cm.Greens\n",
        "  expected_colormap = plt.cm.Wistia\n",
        "\n",
        "  # Show posterior probs and marginals\n",
        "  ax_prior.barh(0, prior[0], facecolor=prior_colormap(prior[0]))\n",
        "  ax_prior.barh(1, prior[1], facecolor=prior_colormap(prior[1]))\n",
        "  ax_likelihood.matshow(likelihood, vmin=0., vmax=1., cmap='Reds')\n",
        "  ax_posterior.barh(0, posterior[0], facecolor=posterior_colormap(posterior[0]))\n",
        "  ax_posterior.barh(1, posterior[1], facecolor=posterior_colormap(posterior[1]))\n",
        "  ax_utility.matshow(utility, vmin=0., vmax=1., cmap='cool')\n",
        "  ax_expected.bar(0, expected[0], facecolor=expected_colormap(expected[0]))\n",
        "  ax_expected.bar(1, expected[1], facecolor=expected_colormap(expected[1]))\n",
        "\n",
        "  # Probabilities plot details\n",
        "  ax_prior.set(xlim=[1, 0], yticks=[0, 1], yticklabels=['left', 'right'],\n",
        "                title=\"Prior p(s)\", xticks=[])\n",
        "  ax_prior.yaxis.tick_right()\n",
        "  ax_prior.spines['left'].set_visible(False)\n",
        "  ax_prior.spines['bottom'].set_visible(False)\n",
        "\n",
        "  # Likelihood plot details\n",
        "  ax_likelihood.set(xticks=[0, 1], xticklabels=['fish', 'no fish'],\n",
        "                    yticks=[0, 1], yticklabels=['left', 'right'],\n",
        "                    ylabel='state (s)', xlabel='measurement (m)',\n",
        "                    title='Likelihood p(m | s)')\n",
        "  ax_likelihood.xaxis.set_ticks_position('bottom')\n",
        "  ax_likelihood.spines['left'].set_visible(False)\n",
        "  ax_likelihood.spines['bottom'].set_visible(False)\n",
        "\n",
        "  # Posterior plot details\n",
        "  ax_posterior.set(xlim=[0, 1], xticks=[], yticks=[0, 1],\n",
        "                    yticklabels=['left', 'right'],\n",
        "                    title=\"Posterior p(s | m)\")\n",
        "  ax_posterior.spines['left'].set_visible(False)\n",
        "  ax_posterior.spines['bottom'].set_visible(False)\n",
        "\n",
        "  # Utility plot details\n",
        "  ax_utility.set(xticks=[0, 1], xticklabels=['left', 'right'],\n",
        "                  xlabel='action (a)', yticks=[0, 1],\n",
        "                  yticklabels=['left', 'right'],\n",
        "                  title='Utility', ylabel='state (s)')\n",
        "  ax_utility.xaxis.set_ticks_position('bottom')\n",
        "  ax_utility.spines['left'].set_visible(False)\n",
        "  ax_utility.spines['bottom'].set_visible(False)\n",
        "\n",
        "  # Expected Utility plot details\n",
        "  ax_expected.set(ylim=[-2, 2], xticks=[0, 1],\n",
        "                  xticklabels=['left', 'right'],\n",
        "                  xlabel='action (a)',\n",
        "                  title='Expected utility', yticks=[])\n",
        "  ax_expected.spines['left'].set_visible(False)\n",
        "\n",
        "  # show values\n",
        "  ind = np.arange(2)\n",
        "  x,y = np.meshgrid(ind,ind)\n",
        "  for i in ind:\n",
        "    v = posterior[i]\n",
        "    c = f\"{v:.2f}\"\n",
        "    ax_posterior.text(v+0.2, i, c, va='center', ha='center', color='black')\n",
        "  for i,j in zip(x.flatten(), y.flatten()):\n",
        "    c = f\"{likelihood[i,j]:.2f}\"\n",
        "    ax_likelihood.text(j, i, c, va='center', ha='center', color='black')\n",
        "  for i,j in zip(x.flatten(), y.flatten()):\n",
        "    c = f\"{utility[i, j]:.2f}\"\n",
        "    ax_utility.text(j,i, c, va='center', ha='center', color='black')\n",
        "  for i in ind:\n",
        "    v = prior[i]\n",
        "    c = f\"{v:.2f}\"\n",
        "    ax_prior.text(v+0.2, i, c, va='center', ha='center', color='black')\n",
        "  for i in ind:\n",
        "    v = expected[i]\n",
        "    c = f\"{v:.2f}\"\n",
        "    ax_expected.text(i, v, c, va='center', ha='center', color='black')\n",
        "  plt.show()\n",
        "  return fig"
      ]
    },
    {
      "cell_type": "code",
      "execution_count": 5,
      "metadata": {
        "cellView": "form",
        "execution": {},
        "id": "Gso1VRmH7B2x"
      },
      "outputs": [],
      "source": [
        "# @title Helper Functions\n",
        "\n",
        "def compute_marginal(px, py, cor):\n",
        "  \"\"\" Calculate 2x2 joint probabilities given marginals p(x=1), p(y=1) and correlation\n",
        "\n",
        "    Args:\n",
        "      px (scalar): marginal probability of x\n",
        "      py (scalar): marginal probability of y\n",
        "      cor (scalar): correlation value\n",
        "\n",
        "    Returns:\n",
        "      ndarray of size (2, 2): joint probability array of x and y\n",
        "  \"\"\"\n",
        "\n",
        "  p11 = px*py + cor*np.sqrt(px*py*(1-px)*(1-py))\n",
        "  p01 = px - p11\n",
        "  p10 = py - p11\n",
        "  p00 = 1.0 - p11 - p01 - p10\n",
        "\n",
        "  return np.asarray([[p00, p01], [p10, p11]])\n",
        "\n",
        "\n",
        "def compute_cor_range(px,py):\n",
        "  \"\"\" Calculate the allowed range of correlation values given marginals p(x=1)\n",
        "    and p(y=1)\n",
        "\n",
        "  Args:\n",
        "    px (scalar): marginal probability of x\n",
        "    py (scalar): marginal probability of y\n",
        "\n",
        "  Returns:\n",
        "    scalar, scalar: minimum and maximum possible values of correlation\n",
        "  \"\"\"\n",
        "\n",
        "  def p11(corr):\n",
        "    return px*py + corr*np.sqrt(px*py*(1-px)*(1-py))\n",
        "  def p01(corr):\n",
        "    return px - p11(corr)\n",
        "  def p10(corr):\n",
        "    return py - p11(corr)\n",
        "  def p00(corr):\n",
        "    return 1.0 - p11(corr) - p01(corr) - p10(corr)\n",
        "  Cmax = min(fsolve(p01, 0.0), fsolve(p10, 0.0))\n",
        "  Cmin = max(fsolve(p11, 0.0), fsolve(p00, 0.0))\n",
        "  return Cmin, Cmax"
      ]
    },
    {
      "cell_type": "markdown",
      "metadata": {
        "execution": {},
        "id": "uhgOCKl67B2x"
      },
      "source": [
        "---\n",
        "# Section 0: Introduction"
      ]
    },
    {
      "cell_type": "code",
      "execution_count": 6,
      "metadata": {
        "cellView": "form",
        "execution": {},
        "id": "MqugX2yK7B2y",
        "colab": {
          "base_uri": "https://localhost:8080/",
          "height": 580,
          "referenced_widgets": [
            "a5207fa60aed428f80da2ae0b35c3347",
            "84fb9476c1a2492195c34f6af0427ea8",
            "13ef3c9286434c23a6568da2e45d41dc",
            "b81a51bd70714031b2c3ede76b771c84",
            "668d092a5d294f37a2a4a32915d6ce5e",
            "9627cbb494024ed7bb5312f27f76070c"
          ]
        },
        "outputId": "d5df2c8a-6ef8-4992-a611-cd1bffbf5273"
      },
      "outputs": [
        {
          "output_type": "display_data",
          "data": {
            "text/plain": [
              "Tab(children=(Output(), Output()), _titles={'0': 'Youtube', '1': 'Bilibili'})"
            ],
            "application/vnd.jupyter.widget-view+json": {
              "version_major": 2,
              "version_minor": 0,
              "model_id": "a5207fa60aed428f80da2ae0b35c3347"
            }
          },
          "metadata": {}
        }
      ],
      "source": [
        "# @title Video 1: Introduction to Bayesian Statistics and Decisions\n",
        "from ipywidgets import widgets\n",
        "from IPython.display import YouTubeVideo\n",
        "from IPython.display import IFrame\n",
        "from IPython.display import display\n",
        "\n",
        "\n",
        "class PlayVideo(IFrame):\n",
        "  def __init__(self, id, source, page=1, width=400, height=300, **kwargs):\n",
        "    self.id = id\n",
        "    if source == 'Bilibili':\n",
        "      src = f'https://player.bilibili.com/player.html?bvid={id}&page={page}'\n",
        "    elif source == 'Osf':\n",
        "      src = f'https://mfr.ca-1.osf.io/render?url=https://osf.io/download/{id}/?direct%26mode=render'\n",
        "    super(PlayVideo, self).__init__(src, width, height, **kwargs)\n",
        "\n",
        "\n",
        "def display_videos(video_ids, W=400, H=300, fs=1):\n",
        "  tab_contents = []\n",
        "  for i, video_id in enumerate(video_ids):\n",
        "    out = widgets.Output()\n",
        "    with out:\n",
        "      if video_ids[i][0] == 'Youtube':\n",
        "        video = YouTubeVideo(id=video_ids[i][1], width=W,\n",
        "                             height=H, fs=fs, rel=0)\n",
        "        print(f'Video available at https://youtube.com/watch?v={video.id}')\n",
        "      else:\n",
        "        video = PlayVideo(id=video_ids[i][1], source=video_ids[i][0], width=W,\n",
        "                          height=H, fs=fs, autoplay=False)\n",
        "        if video_ids[i][0] == 'Bilibili':\n",
        "          print(f'Video available at https://www.bilibili.com/video/{video.id}')\n",
        "        elif video_ids[i][0] == 'Osf':\n",
        "          print(f'Video available at https://osf.io/{video.id}')\n",
        "      display(video)\n",
        "    tab_contents.append(out)\n",
        "  return tab_contents\n",
        "\n",
        "\n",
        "video_ids = [('Youtube', 'Hcx2_JTpf2M'), ('Bilibili', 'BV1Ch41167jN')]\n",
        "tab_contents = display_videos(video_ids, W=854, H=480)\n",
        "tabs = widgets.Tab()\n",
        "tabs.children = tab_contents\n",
        "for i in range(len(tab_contents)):\n",
        "  tabs.set_title(i, video_ids[i][0])\n",
        "display(tabs)"
      ]
    },
    {
      "cell_type": "code",
      "execution_count": null,
      "metadata": {
        "cellView": "form",
        "execution": {},
        "id": "wGGLORy-7B2y"
      },
      "outputs": [],
      "source": [
        "# @title Submit your feedback\n",
        "content_review(f\"{feedback_prefix}_Introduction_to_Bayesian_Statistics_and_Decisions_Video\")"
      ]
    },
    {
      "cell_type": "markdown",
      "metadata": {
        "execution": {},
        "id": "G2Y1uiHm7B2y"
      },
      "source": [
        "---\n",
        "# Section 1: Gone Fishin'\n"
      ]
    },
    {
      "cell_type": "code",
      "execution_count": 7,
      "metadata": {
        "cellView": "form",
        "execution": {},
        "id": "Vuoa3ks27B2y",
        "colab": {
          "base_uri": "https://localhost:8080/",
          "height": 580,
          "referenced_widgets": [
            "31d39cf14d554740987c35767c11a4d7",
            "6486cf09aec1495bbf9e675ef158d2bc",
            "7d01946cdd6b4b3fad2e811b27c8a60c",
            "fab2d1547bf741cd9630f6a54e126da8",
            "e802dce73603446c852861c8137e97aa",
            "1873424338f049bd91a8d61b761756c9"
          ]
        },
        "outputId": "113c85e0-24c8-4adc-94d3-e9c857f47196"
      },
      "outputs": [
        {
          "output_type": "display_data",
          "data": {
            "text/plain": [
              "Tab(children=(Output(), Output()), _titles={'0': 'Youtube', '1': 'Bilibili'})"
            ],
            "application/vnd.jupyter.widget-view+json": {
              "version_major": 2,
              "version_minor": 0,
              "model_id": "31d39cf14d554740987c35767c11a4d7"
            }
          },
          "metadata": {}
        }
      ],
      "source": [
        "# @title Video 2: Gone Fishin'\n",
        "from ipywidgets import widgets\n",
        "from IPython.display import YouTubeVideo\n",
        "from IPython.display import IFrame\n",
        "from IPython.display import display\n",
        "\n",
        "\n",
        "class PlayVideo(IFrame):\n",
        "  def __init__(self, id, source, page=1, width=400, height=300, **kwargs):\n",
        "    self.id = id\n",
        "    if source == 'Bilibili':\n",
        "      src = f'https://player.bilibili.com/player.html?bvid={id}&page={page}'\n",
        "    elif source == 'Osf':\n",
        "      src = f'https://mfr.ca-1.osf.io/render?url=https://osf.io/download/{id}/?direct%26mode=render'\n",
        "    super(PlayVideo, self).__init__(src, width, height, **kwargs)\n",
        "\n",
        "\n",
        "def display_videos(video_ids, W=400, H=300, fs=1):\n",
        "  tab_contents = []\n",
        "  for i, video_id in enumerate(video_ids):\n",
        "    out = widgets.Output()\n",
        "    with out:\n",
        "      if video_ids[i][0] == 'Youtube':\n",
        "        video = YouTubeVideo(id=video_ids[i][1], width=W,\n",
        "                             height=H, fs=fs, rel=0)\n",
        "        print(f'Video available at https://youtube.com/watch?v={video.id}')\n",
        "      else:\n",
        "        video = PlayVideo(id=video_ids[i][1], source=video_ids[i][0], width=W,\n",
        "                          height=H, fs=fs, autoplay=False)\n",
        "        if video_ids[i][0] == 'Bilibili':\n",
        "          print(f'Video available at https://www.bilibili.com/video/{video.id}')\n",
        "        elif video_ids[i][0] == 'Osf':\n",
        "          print(f'Video available at https://osf.io/{video.id}')\n",
        "      display(video)\n",
        "    tab_contents.append(out)\n",
        "  return tab_contents\n",
        "\n",
        "\n",
        "video_ids = [('Youtube', 'kAdBjWOI_yE'), ('Bilibili', 'BV1TP4y147pJ')]\n",
        "tab_contents = display_videos(video_ids, W=854, H=480)\n",
        "tabs = widgets.Tab()\n",
        "tabs.children = tab_contents\n",
        "for i in range(len(tab_contents)):\n",
        "  tabs.set_title(i, video_ids[i][0])\n",
        "display(tabs)"
      ]
    },
    {
      "cell_type": "code",
      "execution_count": null,
      "metadata": {
        "cellView": "form",
        "execution": {},
        "id": "cdfQfhGm7B2z"
      },
      "outputs": [],
      "source": [
        "# @title Submit your feedback\n",
        "content_review(f\"{feedback_prefix}_Gone_Fishin_Video\")"
      ]
    },
    {
      "cell_type": "markdown",
      "metadata": {
        "execution": {},
        "id": "b5eowby07B2z"
      },
      "source": [
        "This video covers the example problem of fishing that we will cover in this tutorial.\n",
        "\n",
        "<details>\n",
        "<summary> <font color=‘blue’>Click here for text recap of video </font></summary>\n",
        "\n",
        "You were just introduced to the **binary hidden state problem** we are going to explore. You need to decide which side to fish on--the hidden state. We know fish like to school together. On different days the school of fish is either on the left or right side, but we don’t know what the case is today. We define our knowledge about the fish location as a distribution over the random hidden state variable. Using our probabilistic knowledge, also called our **belief** about the hidden state, we will explore how to make the decision about where to fish today, based on what to expect in terms of gains or losses for the decision.\n",
        "The gains and losss are defined by the utility of choosing an action, which is fishing on the left or right. The details of the utilities are described\n",
        "</details>\n",
        "\n",
        "In the next two sections we will consider just the probability of where the fish might be and what you gain or lose by choosing where to fish (leaving Bayesian approaches to the last few sections).\n",
        "\n",
        "Remember, you can either think of yourself as a scientist conducting an experiment or as a brain trying to make a decision. The Bayesian approach is the same!\n"
      ]
    },
    {
      "cell_type": "markdown",
      "metadata": {
        "execution": {},
        "id": "h23cM9FD7B20"
      },
      "source": [
        "---\n",
        "# Section 2: Deciding where to fish\n",
        "\n",
        "*Estimated timing to here from start of tutorial: 10 min*"
      ]
    },
    {
      "cell_type": "code",
      "execution_count": 8,
      "metadata": {
        "cellView": "form",
        "execution": {},
        "id": "mva0b5oa7B20",
        "colab": {
          "base_uri": "https://localhost:8080/",
          "height": 580,
          "referenced_widgets": [
            "cf2e3f42b22d4c8b8d59848cc1880191",
            "4bdd68ddcdd04b9f944af33b7424109b",
            "9c843c1a38bc48dfa02ecec305e4eadc",
            "f104ab4553f24315aabb166873ab79c8",
            "537f4b30ff724b6fa588c7e909badf61",
            "6e51372218cd458b9696a30db3cca931"
          ]
        },
        "outputId": "5c058be5-ea83-4f0a-b45b-70aa034efdfe"
      },
      "outputs": [
        {
          "output_type": "display_data",
          "data": {
            "text/plain": [
              "Tab(children=(Output(), Output()), _titles={'0': 'Youtube', '1': 'Bilibili'})"
            ],
            "application/vnd.jupyter.widget-view+json": {
              "version_major": 2,
              "version_minor": 0,
              "model_id": "cf2e3f42b22d4c8b8d59848cc1880191"
            }
          },
          "metadata": {}
        }
      ],
      "source": [
        "# @title Video 3: Utility\n",
        "from ipywidgets import widgets\n",
        "from IPython.display import YouTubeVideo\n",
        "from IPython.display import IFrame\n",
        "from IPython.display import display\n",
        "\n",
        "\n",
        "class PlayVideo(IFrame):\n",
        "  def __init__(self, id, source, page=1, width=400, height=300, **kwargs):\n",
        "    self.id = id\n",
        "    if source == 'Bilibili':\n",
        "      src = f'https://player.bilibili.com/player.html?bvid={id}&page={page}'\n",
        "    elif source == 'Osf':\n",
        "      src = f'https://mfr.ca-1.osf.io/render?url=https://osf.io/download/{id}/?direct%26mode=render'\n",
        "    super(PlayVideo, self).__init__(src, width, height, **kwargs)\n",
        "\n",
        "\n",
        "def display_videos(video_ids, W=400, H=300, fs=1):\n",
        "  tab_contents = []\n",
        "  for i, video_id in enumerate(video_ids):\n",
        "    out = widgets.Output()\n",
        "    with out:\n",
        "      if video_ids[i][0] == 'Youtube':\n",
        "        video = YouTubeVideo(id=video_ids[i][1], width=W,\n",
        "                             height=H, fs=fs, rel=0)\n",
        "        print(f'Video available at https://youtube.com/watch?v={video.id}')\n",
        "      else:\n",
        "        video = PlayVideo(id=video_ids[i][1], source=video_ids[i][0], width=W,\n",
        "                          height=H, fs=fs, autoplay=False)\n",
        "        if video_ids[i][0] == 'Bilibili':\n",
        "          print(f'Video available at https://www.bilibili.com/video/{video.id}')\n",
        "        elif video_ids[i][0] == 'Osf':\n",
        "          print(f'Video available at https://osf.io/{video.id}')\n",
        "      display(video)\n",
        "    tab_contents.append(out)\n",
        "  return tab_contents\n",
        "\n",
        "\n",
        "video_ids = [('Youtube', '8-5RM0k3IKE'), ('Bilibili', 'BV1uL411H7ZE')]\n",
        "tab_contents = display_videos(video_ids, W=854, H=480)\n",
        "tabs = widgets.Tab()\n",
        "tabs.children = tab_contents\n",
        "for i in range(len(tab_contents)):\n",
        "  tabs.set_title(i, video_ids[i][0])\n",
        "display(tabs)"
      ]
    },
    {
      "cell_type": "code",
      "execution_count": null,
      "metadata": {
        "cellView": "form",
        "execution": {},
        "id": "BqcJugQA7B20"
      },
      "outputs": [],
      "source": [
        "# @title Submit your feedback\n",
        "content_review(f\"{feedback_prefix}_Utility_Video\")"
      ]
    },
    {
      "cell_type": "markdown",
      "metadata": {
        "execution": {},
        "id": "TK51Y0wX7B20"
      },
      "source": [
        "This video covers utility and expected utility.\n",
        "\n",
        "<details>\n",
        "<summary> <font color=‘blue’>Click here for text recap of video </font></summary>\n",
        "\n",
        "You need to decide where to fish. It may seem obvious - you could just fish on the side where the probability of the fish being is higher! Unfortunately, decisions and actions are always a little more complicated. Deciding to fish may be influenced by more than just the probability of the school of fish being there as we saw by the potential issues of submarines and sunburn. The consequences of the action you take is based on the true (but hidden) state of the world and the action you choose! In our example, fishing on the wrong side, where there aren't many fish, is likely to lead to you spending your afternoon not catching fish and therefore getting a sunburn. The submarine represents a risk to fishing on the right side that is greater than the left side. If you want to know what to expect from taking the action of fishing on one side or the other, you need to calculate the expected utility.\n",
        "\n",
        "You know the (prior) probability that the school of fish is on the left side of the dock today, $P(s = \\textrm{left})$. So, you also know the probability the school is on the right, $P(s = \\textrm{right})$, because these two probabilities must add up to 1.\n",
        "\n",
        "We quantify gains and losses numerically using a **utility** function $U(s,a)$, which describes the consequences of your actions: how much value you gain (or if negative, lose) given the state of the world ($s$) and the action you take ($a$). In our example, our utility can be summarized as:\n",
        "\n",
        "| Utility: U(s,a)   | a = left   | a = right  |\n",
        "| ----------------- |------------|------------|\n",
        "| s = Left          | +2         | -3         |\n",
        "| s = right         | -2         | +1         |\n",
        "\n",
        "To use possible gains and losses to choose an action, we calculate the **expected utility** of that action by weighing these utilities with the probability of that state occurring. This allows us to choose actions by taking probabilities of events into account: we don't care if the outcome of an action-state pair is a loss if the probability of that state is very low. We can formalize this as:\n",
        "\n",
        "\\begin{equation}\n",
        "\\text{Expected utility of action a} = \\sum_{s}U(s,a)P(s)\n",
        "\\end{equation}\n",
        "\n",
        "In other words, the expected utility of an action a is the sum over possible states of the utility of that action and state times the probability of that state.\n",
        "\n",
        "</details>"
      ]
    },
    {
      "cell_type": "markdown",
      "metadata": {
        "execution": {},
        "id": "5zhH_E8J7B20"
      },
      "source": [
        "## Interactive Demo 2: Exploring the decision\n",
        "\n",
        "Let's start to get a sense of how all this works using the interactive demo below. You can change the probability that the school of fish is on the left side,$p(s = \\textrm{left})$, using the slider. You will see the utility function (a matrix) in the middle and the corresponding expected utility for each action on the right.\n",
        "\n",
        "First, make sure you understand how the expected utility of each action is being computed from the probabilities and the utility values. In the initial state: the probability of the fish being on the left is 0.9 and on the right is 0.1. The expected utility of the action of fishing on the left is then $U(s = \\textrm{left},a = \\textrm{left})p(s = \\textrm{left}) + U(s = \\textrm{right},a = \\textrm{left})p(s = \\textrm{right}) = 2(0.9) + -2(0.1) = 1.6$. Essentially, to get the expected utility of action $a$, you are doing a weighted sum over the relevant column of the utility matrix (corresponding to action $a$) where the weights are the state probabilities.\n",
        "\n",
        "For each of these scenarios, think and discuss first. Then use the demo to try out each and see if your action would have been correct (that is, if the expected value of that action is the highest).\n",
        "\n",
        "\n",
        "1.  You just arrived at the dock for the first time and have no sense of where the fish might be. So you guess that the probability of the school being on the left side is 0.5 (so the probability on the right side is also 0.5). Which side would you choose to fish on given our utility values?\n",
        "2.  You think that the probability of the school being on the left side is very low (0.1) and correspondingly high on the right side (0.9). Which side would you choose to fish on given our utility values?\n",
        "3.  What would you choose if the probability of the school being on the left side is slightly lower than on the right side (0. 4 vs 0.6)?"
      ]
    },
    {
      "cell_type": "code",
      "execution_count": 9,
      "metadata": {
        "cellView": "form",
        "execution": {},
        "id": "sWjnMWr67B20",
        "colab": {
          "base_uri": "https://localhost:8080/",
          "height": 421,
          "referenced_widgets": [
            "0ce42a52effe4741959ecd25bf0a68b5",
            "d0dd5b75d0c64d168008c84780e260b9",
            "01637b1c52f34c2484e33d150e7a439c",
            "db788de03008451a8099c66535adb08a",
            "82adb59b8d444e36b4dc711a221b4da0",
            "80fc610977454ac2ad4b0bb72a845ebe",
            "482efa61131d4cc2aabb1cf97cfbdc2b"
          ]
        },
        "outputId": "c3ea6263-bf5a-43b0-bd45-47a49573c5ee"
      },
      "outputs": [
        {
          "output_type": "display_data",
          "data": {
            "text/plain": [
              "interactive(children=(FloatSlider(value=0.9, description='p(s = left)', max=1.0, step=0.01), Output()), _dom_c…"
            ],
            "application/vnd.jupyter.widget-view+json": {
              "version_major": 2,
              "version_minor": 0,
              "model_id": "0ce42a52effe4741959ecd25bf0a68b5"
            }
          },
          "metadata": {}
        }
      ],
      "source": [
        "# @markdown Execute this cell to use the widget\n",
        "ps_widget = widgets.FloatSlider(0.9, description='p(s = left)',\n",
        "                                min=0.0, max=1.0, step=0.01)\n",
        "\n",
        "@widgets.interact(\n",
        "    ps = ps_widget,\n",
        ")\n",
        "def make_utility_plot(ps):\n",
        "  fig = plot_utility(ps)\n",
        "  plt.show(fig)\n",
        "  plt.close(fig)"
      ]
    },
    {
      "cell_type": "markdown",
      "metadata": {
        "execution": {},
        "id": "WuMIs_WT7B21"
      },
      "source": [
        "[*Click for solution*](https://github.com/NeuromatchAcademy/course-content/tree/main/tutorials/W3D1_BayesianDecisions/solutions/W3D1_Tutorial1_Solution_01d5c2c5.py)\n",
        "\n"
      ]
    },
    {
      "cell_type": "code",
      "execution_count": null,
      "metadata": {
        "cellView": "form",
        "execution": {},
        "id": "f5lVc82g7B21"
      },
      "outputs": [],
      "source": [
        "# @title Submit your feedback\n",
        "content_review(f\"{feedback_prefix}_Exploring_the_decision_Interactive_Demo_and_Discussion\")"
      ]
    },
    {
      "cell_type": "code",
      "execution_count": 10,
      "metadata": {
        "cellView": "form",
        "execution": {},
        "id": "ux7Ib75-7B21",
        "colab": {
          "base_uri": "https://localhost:8080/",
          "height": 580,
          "referenced_widgets": [
            "264c33fe2a854663934fedddab8d7e20",
            "f59ecff403974f60bc747f97622c7b93",
            "98a89fca0ea24b188302e17e8086c936",
            "6d4f1718657d443eb2e7e5150c06c100",
            "8f295e1fdbe14206aa063a36d470e7e1",
            "7ec0284ac2bc4e0ab68f2226e035897f"
          ]
        },
        "outputId": "2f82a250-49aa-4ead-c9f5-0afe371ec465"
      },
      "outputs": [
        {
          "output_type": "display_data",
          "data": {
            "text/plain": [
              "Tab(children=(Output(), Output()), _titles={'0': 'Youtube', '1': 'Bilibili'})"
            ],
            "application/vnd.jupyter.widget-view+json": {
              "version_major": 2,
              "version_minor": 0,
              "model_id": "264c33fe2a854663934fedddab8d7e20"
            }
          },
          "metadata": {}
        }
      ],
      "source": [
        "# @title Video 4: Utility Demo Discussion\n",
        "from ipywidgets import widgets\n",
        "from IPython.display import YouTubeVideo\n",
        "from IPython.display import IFrame\n",
        "from IPython.display import display\n",
        "\n",
        "\n",
        "class PlayVideo(IFrame):\n",
        "  def __init__(self, id, source, page=1, width=400, height=300, **kwargs):\n",
        "    self.id = id\n",
        "    if source == 'Bilibili':\n",
        "      src = f'https://player.bilibili.com/player.html?bvid={id}&page={page}'\n",
        "    elif source == 'Osf':\n",
        "      src = f'https://mfr.ca-1.osf.io/render?url=https://osf.io/download/{id}/?direct%26mode=render'\n",
        "    super(PlayVideo, self).__init__(src, width, height, **kwargs)\n",
        "\n",
        "\n",
        "def display_videos(video_ids, W=400, H=300, fs=1):\n",
        "  tab_contents = []\n",
        "  for i, video_id in enumerate(video_ids):\n",
        "    out = widgets.Output()\n",
        "    with out:\n",
        "      if video_ids[i][0] == 'Youtube':\n",
        "        video = YouTubeVideo(id=video_ids[i][1], width=W,\n",
        "                             height=H, fs=fs, rel=0)\n",
        "        print(f'Video available at https://youtube.com/watch?v={video.id}')\n",
        "      else:\n",
        "        video = PlayVideo(id=video_ids[i][1], source=video_ids[i][0], width=W,\n",
        "                          height=H, fs=fs, autoplay=False)\n",
        "        if video_ids[i][0] == 'Bilibili':\n",
        "          print(f'Video available at https://www.bilibili.com/video/{video.id}')\n",
        "        elif video_ids[i][0] == 'Osf':\n",
        "          print(f'Video available at https://osf.io/{video.id}')\n",
        "      display(video)\n",
        "    tab_contents.append(out)\n",
        "  return tab_contents\n",
        "\n",
        "\n",
        "video_ids = [('Youtube', 'GHQbmsEyQjE'), ('Bilibili', 'BV1po4y1D7Fu')]\n",
        "tab_contents = display_videos(video_ids, W=854, H=480)\n",
        "tabs = widgets.Tab()\n",
        "tabs.children = tab_contents\n",
        "for i in range(len(tab_contents)):\n",
        "  tabs.set_title(i, video_ids[i][0])\n",
        "display(tabs)"
      ]
    },
    {
      "cell_type": "code",
      "execution_count": null,
      "metadata": {
        "cellView": "form",
        "execution": {},
        "id": "hu-SyHcs7B21"
      },
      "outputs": [],
      "source": [
        "# @title Submit your feedback\n",
        "content_review(f\"{feedback_prefix}_Utility_demo_discussion_Video\")"
      ]
    },
    {
      "cell_type": "markdown",
      "metadata": {
        "execution": {},
        "id": "KVCDq4jh7B21"
      },
      "source": [
        "In this section, you have seen that both the utility of various state and action pairs and our knowledge of the probability of each state affects your decision. Importantly, we want our knowledge of the probability of each state to be as accurate as possible!\n",
        "\n",
        "So how do we know these probabilities? We may have prior knowledge from years of fishing at the same dock, learning that the fish are more likely to be on the left side, for example. Of course, we need to update our knowledge (our belief)! To do this, we need to collect more information, or take some measurements! In the next few sections, we will focus on how we improve our knowledge of the probabilities."
      ]
    },
    {
      "cell_type": "markdown",
      "metadata": {
        "execution": {},
        "id": "DybuycfI7B21"
      },
      "source": [
        "---\n",
        "# Section 3: Likelihood of the fish being on either side\n",
        "\n",
        "*Estimated timing to here from start of tutorial: 25 min*\n",
        "\n"
      ]
    },
    {
      "cell_type": "code",
      "execution_count": 11,
      "metadata": {
        "cellView": "form",
        "execution": {},
        "id": "tAVUhU6f7B22",
        "colab": {
          "base_uri": "https://localhost:8080/",
          "height": 580,
          "referenced_widgets": [
            "b9f0ff6c4fc549a6beece542c7cb496a",
            "b07ca74714ee444f93da3bffdedea9ef",
            "6057d6733c814a0bac9cb65c223cf8dd",
            "16fe612aafd442e281f7fecb7be56344",
            "001648b6f87b4b1cbe67d9cefacab8a3",
            "e8827e6dfd134107a89e2a466608b747"
          ]
        },
        "outputId": "7588a3c7-0592-4cb8-c84a-7e9ce8c84414"
      },
      "outputs": [
        {
          "output_type": "display_data",
          "data": {
            "text/plain": [
              "Tab(children=(Output(), Output()), _titles={'0': 'Youtube', '1': 'Bilibili'})"
            ],
            "application/vnd.jupyter.widget-view+json": {
              "version_major": 2,
              "version_minor": 0,
              "model_id": "b9f0ff6c4fc549a6beece542c7cb496a"
            }
          },
          "metadata": {}
        }
      ],
      "source": [
        "# @title Video 5: Likelihood\n",
        "from ipywidgets import widgets\n",
        "from IPython.display import YouTubeVideo\n",
        "from IPython.display import IFrame\n",
        "from IPython.display import display\n",
        "\n",
        "\n",
        "class PlayVideo(IFrame):\n",
        "  def __init__(self, id, source, page=1, width=400, height=300, **kwargs):\n",
        "    self.id = id\n",
        "    if source == 'Bilibili':\n",
        "      src = f'https://player.bilibili.com/player.html?bvid={id}&page={page}'\n",
        "    elif source == 'Osf':\n",
        "      src = f'https://mfr.ca-1.osf.io/render?url=https://osf.io/download/{id}/?direct%26mode=render'\n",
        "    super(PlayVideo, self).__init__(src, width, height, **kwargs)\n",
        "\n",
        "\n",
        "def display_videos(video_ids, W=400, H=300, fs=1):\n",
        "  tab_contents = []\n",
        "  for i, video_id in enumerate(video_ids):\n",
        "    out = widgets.Output()\n",
        "    with out:\n",
        "      if video_ids[i][0] == 'Youtube':\n",
        "        video = YouTubeVideo(id=video_ids[i][1], width=W,\n",
        "                             height=H, fs=fs, rel=0)\n",
        "        print(f'Video available at https://youtube.com/watch?v={video.id}')\n",
        "      else:\n",
        "        video = PlayVideo(id=video_ids[i][1], source=video_ids[i][0], width=W,\n",
        "                          height=H, fs=fs, autoplay=False)\n",
        "        if video_ids[i][0] == 'Bilibili':\n",
        "          print(f'Video available at https://www.bilibili.com/video/{video.id}')\n",
        "        elif video_ids[i][0] == 'Osf':\n",
        "          print(f'Video available at https://osf.io/{video.id}')\n",
        "      display(video)\n",
        "    tab_contents.append(out)\n",
        "  return tab_contents\n",
        "\n",
        "\n",
        "video_ids = [('Youtube', 'Yv8MDjdm1l4'), ('Bilibili', 'BV1EK4y1u7AV')]\n",
        "tab_contents = display_videos(video_ids, W=854, H=480)\n",
        "tabs = widgets.Tab()\n",
        "tabs.children = tab_contents\n",
        "for i in range(len(tab_contents)):\n",
        "  tabs.set_title(i, video_ids[i][0])\n",
        "display(tabs)"
      ]
    },
    {
      "cell_type": "markdown",
      "metadata": {
        "execution": {},
        "id": "od0xnZ9k7B22"
      },
      "source": [
        "\n",
        "<details>\n",
        "<summary> <font color=‘blue’>Click here for text recap of video </font></summary>\n",
        "\n",
        "First, we'll think about what it means to take a measurement (also often called an observation or just data) and what it tells you about what the hidden state may be. Specifically, we'll be looking at the **likelihood**, which is the probability of your measurement ($m$) given the hidden state ($s$): $P(m | s)$. Remember that in this case, the hidden state is which side of the dock the school of fish is on.\n",
        "We will watch someone fish (for let's say 10 minutes) and our measurement is whether they catch a fish or not. We know something about what catching a fish means for the likelihood of the fish being on one side or the other.\n",
        "</details>"
      ]
    },
    {
      "cell_type": "code",
      "execution_count": null,
      "metadata": {
        "cellView": "form",
        "execution": {},
        "id": "I9vbfw047B22"
      },
      "outputs": [],
      "source": [
        "# @title Submit your feedback\n",
        "content_review(f\"{feedback_prefix}_Likelihood_Video\")"
      ]
    },
    {
      "cell_type": "markdown",
      "metadata": {
        "execution": {},
        "id": "PfNGGZq17B22"
      },
      "source": [
        "## Think! 3: Guessing the location of the fish\n",
        "\n",
        "Let's say we go to a different dock to fish. Here, there are different probabilities of catching fish given the state of the world. At this dock, if you fish on the side of the dock where the fish are, you have a 70% chance of catching a fish. If you fish on the wrong side, you will catch a fish with only 20% probability. These are the likelihoods of observing someone catching a fish! That is, you are taking a measurement by seeing if someone else catches a fish!\n",
        "\n",
        "You see a fisher-person is fishing on the left side.\n",
        "\n",
        "1) Please figure out each of the following (might be easiest to do this separately and then compare notes):\n",
        "- probability of catching a fish given that the school of fish is on the left side, $P(m = \\textrm{catch fish} | s = \\textrm{left} )$\n",
        "  - $P(m = \\textrm{catch fish} | s = \\textrm{left} )$ = 0.7\n",
        "- probability of not catching a fish given that the school of fish is on the left side, $P(m = \\textrm{no fish} | s = \\textrm{left})$\n",
        "  - $P(m = \\textrm{no fish} | s = \\textrm{left})$ = 0.3\n",
        "- probability of catching a fish given that the school of fish is on the right side, $P(m = \\textrm{catch  fish} | s = \\textrm{right})$\n",
        "  - $P(m = \\textrm{catch  fish} | s = \\textrm{right})$ = 0.2\n",
        "- probability of not catching a fish given that the school of fish is on the right side, $P(m = \\textrm{no fish} | s = \\textrm{right})$\n",
        "   - $P(m = \\textrm{no fish} | s = \\textrm{right})$ = 0.8\n",
        "\n",
        "2) If the fisher-person catches a fish, which side would you guess the school is on? Why?\n",
        "\n",
        "3) If the fisher-person does not catch a fish, which side would you guess the school is on? Why?\n"
      ]
    },
    {
      "cell_type": "markdown",
      "metadata": {
        "execution": {},
        "id": "VCmq9JJv7B22"
      },
      "source": [
        "[*Click for solution*](https://github.com/NeuromatchAcademy/course-content/tree/main/tutorials/W3D1_BayesianDecisions/solutions/W3D1_Tutorial1_Solution_fdd90301.py)\n",
        "\n"
      ]
    },
    {
      "cell_type": "code",
      "execution_count": null,
      "metadata": {
        "cellView": "form",
        "execution": {},
        "id": "tAGUkmxq7B22"
      },
      "outputs": [],
      "source": [
        "# @title Submit your feedback\n",
        "content_review(f\"{feedback_prefix}_Guessing_the_location_of_the_fish_Discussion\")"
      ]
    },
    {
      "cell_type": "markdown",
      "metadata": {
        "execution": {},
        "id": "au43etgC7B22"
      },
      "source": [
        "In the prior exercise, you tried to guess where the school of fish was based on the measurement you took (watching someone fish). You did this by choosing the state (side where you think the fish are) that maximized the probability of the measurement. In other words, you estimated the state by maximizing the likelihood (the side with the highest probability of measurement given state $P(m|s$)). This is called maximum likelihood estimation (MLE) and you've encountered it before during this course, in the [pre-reqs statistics day](https://compneuro.neuromatch.io/tutorials/W0D5_Statistics/student/W0D5_Tutorial2.html#section-2-2-maximum-likelihood) and on [Model Fitting day](https://compneuro.neuromatch.io/tutorials/W1D3_ModelFitting/student/W1D3_Tutorial2.html)!\n",
        "\n",
        "But, what if you had been going to this dock for years and you knew that the fish were almost always on the left side? This should probably affect how you make your estimate -- you would rely less on the single new measurement and more on your prior knowledge. This is the fundamental idea behind Bayesian inference, as we will see later in this tutorial!"
      ]
    },
    {
      "cell_type": "markdown",
      "metadata": {
        "execution": {},
        "id": "6iIpmPsy7B23"
      },
      "source": [
        "---\n",
        "# Section 4: Correlation and marginalization\n",
        "\n",
        "*Estimated timing to here from start of tutorial: 35 min*\n"
      ]
    },
    {
      "cell_type": "code",
      "execution_count": 12,
      "metadata": {
        "cellView": "form",
        "execution": {},
        "id": "6zH4vXHR7B23",
        "colab": {
          "base_uri": "https://localhost:8080/",
          "height": 580,
          "referenced_widgets": [
            "c9d9a7ded591422f981ff5e2340afc33",
            "7504a8fa8c614b658a7da2f91affa7b0",
            "2eaedb051da84f1988d76e70344e214c",
            "3943612a70cb4e9a95f31abd907bd63c",
            "5a160ac49b5145d4939c96bebc11ee7f",
            "e41b009f2f1a4bd58a113d0bdefc6137"
          ]
        },
        "outputId": "1dcd2e2c-5540-414f-b9fc-e12c85eeedf0"
      },
      "outputs": [
        {
          "output_type": "display_data",
          "data": {
            "text/plain": [
              "Tab(children=(Output(), Output()), _titles={'0': 'Youtube', '1': 'Bilibili'})"
            ],
            "application/vnd.jupyter.widget-view+json": {
              "version_major": 2,
              "version_minor": 0,
              "model_id": "c9d9a7ded591422f981ff5e2340afc33"
            }
          },
          "metadata": {}
        }
      ],
      "source": [
        "# @title Video 6: Correlation and marginalization\n",
        "from ipywidgets import widgets\n",
        "from IPython.display import YouTubeVideo\n",
        "from IPython.display import IFrame\n",
        "from IPython.display import display\n",
        "\n",
        "\n",
        "class PlayVideo(IFrame):\n",
        "  def __init__(self, id, source, page=1, width=400, height=300, **kwargs):\n",
        "    self.id = id\n",
        "    if source == 'Bilibili':\n",
        "      src = f'https://player.bilibili.com/player.html?bvid={id}&page={page}'\n",
        "    elif source == 'Osf':\n",
        "      src = f'https://mfr.ca-1.osf.io/render?url=https://osf.io/download/{id}/?direct%26mode=render'\n",
        "    super(PlayVideo, self).__init__(src, width, height, **kwargs)\n",
        "\n",
        "\n",
        "def display_videos(video_ids, W=400, H=300, fs=1):\n",
        "  tab_contents = []\n",
        "  for i, video_id in enumerate(video_ids):\n",
        "    out = widgets.Output()\n",
        "    with out:\n",
        "      if video_ids[i][0] == 'Youtube':\n",
        "        video = YouTubeVideo(id=video_ids[i][1], width=W,\n",
        "                             height=H, fs=fs, rel=0)\n",
        "        print(f'Video available at https://youtube.com/watch?v={video.id}')\n",
        "      else:\n",
        "        video = PlayVideo(id=video_ids[i][1], source=video_ids[i][0], width=W,\n",
        "                          height=H, fs=fs, autoplay=False)\n",
        "        if video_ids[i][0] == 'Bilibili':\n",
        "          print(f'Video available at https://www.bilibili.com/video/{video.id}')\n",
        "        elif video_ids[i][0] == 'Osf':\n",
        "          print(f'Video available at https://osf.io/{video.id}')\n",
        "      display(video)\n",
        "    tab_contents.append(out)\n",
        "  return tab_contents\n",
        "\n",
        "\n",
        "video_ids = [('Youtube', 'iprFMHch2_g'), ('Bilibili', 'BV1Zq4y1p7N6')]\n",
        "tab_contents = display_videos(video_ids, W=854, H=480)\n",
        "tabs = widgets.Tab()\n",
        "tabs.children = tab_contents\n",
        "for i in range(len(tab_contents)):\n",
        "  tabs.set_title(i, video_ids[i][0])\n",
        "display(tabs)"
      ]
    },
    {
      "cell_type": "code",
      "execution_count": null,
      "metadata": {
        "cellView": "form",
        "execution": {},
        "id": "gV4OwPrH7B23"
      },
      "outputs": [],
      "source": [
        "# @title Submit your feedback\n",
        "content_review(f\"{feedback_prefix}_Correlation_and_marginalization_Video\")"
      ]
    },
    {
      "cell_type": "markdown",
      "metadata": {
        "execution": {},
        "id": "5mGtU7f_7B23"
      },
      "source": [
        "## Section 4.1: Correlation"
      ]
    },
    {
      "cell_type": "markdown",
      "metadata": {
        "execution": {},
        "id": "vCHOjbH77B24"
      },
      "source": [
        "In this section, we are going to take a step back for a bit and think more generally about the amount of information shared between two random variables. We want to know how much information you gain when you observe one variable (take a measurement) if you know something about another. We will see that the fundamental concept is the same if we think about two attributes, for example the size and color of the fish, or the prior information and the likelihood.\n"
      ]
    },
    {
      "cell_type": "markdown",
      "metadata": {
        "execution": {},
        "id": "0FVhM7-X7B24"
      },
      "source": [
        "### Think! 4.1: Covarying probability distributions\n",
        "\n",
        "The relationship between the marginal probabilities and the joint probabilities is determined by the correlation between the two random variables - a normalized measure of how much the variables covary. We can also think of this as gaining some information about one of the variables when we observe a measurement from the other. We will think about this more formally in Tutorial 2.\n",
        "\n",
        "Here, we want to think about how the correlation between size and color of these fish changes how much information we gain about one attribute based on the other. See Bonus Section 1 for the formula for correlation.\n",
        "\n",
        "Use the widget below and answer the following questions:\n",
        "\n",
        "1. When the correlation is zero, $\\rho = 0$, what does the distribution of size tell you about color?\n",
        "2. Set $\\rho$ to something small. As you change the probability of golden fish, what happens to the ratio of size probabilities? Set $\\rho$ larger (can be negative). Can you explain the pattern of changes in the probabilities of size as you change the probability of golden fish?\n",
        "3. Set the probability of golden fish and of large fish to around 65%. As the correlation goes towards 1, how often will you see silver large fish?\n",
        "4. What is increasing the (absolute) correlation telling you about how likely you are to see one of the properties if you see a fish with the other?\n"
      ]
    },
    {
      "cell_type": "code",
      "execution_count": 16,
      "metadata": {
        "cellView": "form",
        "execution": {},
        "id": "SbA_9hK_7B24",
        "colab": {
          "base_uri": "https://localhost:8080/",
          "height": 615,
          "referenced_widgets": [
            "5bc03dc5782b4080ac84aa44c4a192a9",
            "a062174ccfda4c1284b8892fc1141163",
            "a64fd4f63e2b4acbb626da1edd298b7a",
            "943bade11bc343c9a7d1266462024c2a",
            "9e5c999113874c77bdd375e8175b74f8",
            "e78928c69573430e9ce287f053328d11",
            "1c25f9b6a1824ddaa56095d708ef8811",
            "fb1a5daf5c0b4695b8933809526b53f5",
            "9362f37dc08b41a4a290ebe5cdb4071a",
            "49ed3932ce854d8dbe7157e23123c99b",
            "bde732a1c2674d41af1fc243b6c6382e",
            "92342b8a4bdf47009ef568654f9e885d",
            "e89d9d56ed104b4d913307d23c5c2b4b"
          ]
        },
        "outputId": "4b3a42c9-d105-414a-9090-9925c41c9221"
      },
      "outputs": [
        {
          "output_type": "display_data",
          "data": {
            "text/plain": [
              "interactive(children=(FloatSlider(value=0.5, description='p(color=golden)', layout=Layout(grid_area='widget002…"
            ],
            "application/vnd.jupyter.widget-view+json": {
              "version_major": 2,
              "version_minor": 0,
              "model_id": "5bc03dc5782b4080ac84aa44c4a192a9"
            }
          },
          "metadata": {}
        }
      ],
      "source": [
        "# @markdown Execute this cell to enable the widget\n",
        "style = {'description_width': 'initial'}\n",
        "gs = GridspecLayout(2,2)\n",
        "\n",
        "cor_widget = widgets.FloatSlider(0.0, description='ρ',\n",
        "                                 min=-1, max=1, step=0.01)\n",
        "px_widget = widgets.FloatSlider(0.5, description='p(color=golden)',\n",
        "                                min=0.01, max=0.99, step=0.01,\n",
        "                                style=style)\n",
        "py_widget = widgets.FloatSlider(0.5, description='p(size=large)',\n",
        "                                min=0.01, max=0.99, step=0.01,\n",
        "                                style=style)\n",
        "gs[0, 0] = cor_widget\n",
        "gs[0, 1] = px_widget\n",
        "gs[1, 0] = py_widget\n",
        "\n",
        "\n",
        "@widgets.interact(\n",
        "    px=px_widget,\n",
        "    py=py_widget,\n",
        "    cor=cor_widget,\n",
        ")\n",
        "\n",
        "\n",
        "def make_corr_plot(px, py, cor):\n",
        "  Cmin, Cmax = compute_cor_range(px, py)  # allow correlation values\n",
        "  cor_widget.min, cor_widget.max = Cmin+0.01, Cmax-0.01\n",
        "  if cor_widget.value > Cmax:\n",
        "    cor_widget.value = Cmax\n",
        "  if cor_widget.value < Cmin:\n",
        "    cor_widget.value = Cmin\n",
        "  cor = cor_widget.value\n",
        "  P = compute_marginal(px,py,cor)\n",
        "  fig = plot_joint_probs(P)\n",
        "  plt.show(fig)\n",
        "  plt.close(fig)"
      ]
    },
    {
      "cell_type": "markdown",
      "metadata": {
        "execution": {},
        "id": "YgimRZWr7B24"
      },
      "source": [
        "[*Click for solution*](https://github.com/NeuromatchAcademy/course-content/tree/main/tutorials/W3D1_BayesianDecisions/solutions/W3D1_Tutorial1_Solution_eb6596af.py)\n",
        "\n"
      ]
    },
    {
      "cell_type": "code",
      "execution_count": null,
      "metadata": {
        "cellView": "form",
        "execution": {},
        "id": "6KxEYYo97B24"
      },
      "outputs": [],
      "source": [
        "# @title Submit your feedback\n",
        "content_review(f\"{feedback_prefix}_Covarying_probability_distributions_Discussion\")"
      ]
    },
    {
      "cell_type": "markdown",
      "metadata": {
        "execution": {},
        "id": "pnew7JtG7B24"
      },
      "source": [
        "We have just seen how two random variables can be more or less independent. The more correlated, the less independent, and the more shared information. We also learned that we can marginalize to determine the marginal likelihood of a measurement or to find the marginal probability distribution of two random variables. We are going to now complete our journey towards being fully Bayesian!"
      ]
    },
    {
      "cell_type": "markdown",
      "metadata": {
        "execution": {},
        "id": "uaFvQNI77B24"
      },
      "source": [
        "## Section 4.2: Marginalization"
      ]
    },
    {
      "cell_type": "markdown",
      "metadata": {
        "execution": {},
        "id": "omx1hKYh7B25"
      },
      "source": [
        "\n",
        "<details>\n",
        "<summary> <font color=‘blue’>Click here for text recap of relevant part of video </font></summary>\n",
        "\n",
        "We may want to find the probability of one variable while ignoring another: we will do this by averaging out, or marginalizing, the irrelevant variable.\n",
        "\n",
        "We will think of this in two different ways.\n",
        "\n",
        "In the first math exercise, you will think about the case where you know the joint probabilities of two variables and want to figure out the probability of just one variable. To make this explicit, let's assume that a fish has a color that is either gold or silver (our first variable) and a size that is either small or large (our second). We could write out the the **joint probabilities**: the probability of both specific attributes occurring together. For example, the probability of a fish being small and silver, $P(X = \\textrm{small}, Y = \\textrm{silver})$, is 0.4. The following table summarizes our joint probabilities:\n",
        "\n",
        "| P(X, Y)        | Y = silver  | Y = gold  |\n",
        "| -------------- |-------------|-----------|\n",
        "| X = small      | 0.4         | 0.2       |\n",
        "| X = large      | 0.1         | 0.3       |\n",
        "\n",
        "\n",
        "We want to know what the probability of a fish being small  regardless of color. Since the fish are either silver or gold, this would be the probability of a fish being small and silver plus the probability of a fish being small and gold. This is an example of marginalizing, or averaging out, the variable we are not interested in across the rows or columns.. In math speak: $P(X = \\textrm{small}) = \\sum_y{P(X = \\textrm{small}, Y)}$. This gives us a **marginal probability**, a probability of a variable outcome (in this case size), regardless of the other variables (in this case color).\n",
        "\n",
        "More generally, we can marginalize out a second irrelevant variable $y$ by summing over the relevant joint probabilities:\n",
        "\n",
        "\\begin{equation}\n",
        "p(x) = \\sum_y p(x, y)\n",
        "\\end{equation}\n",
        "\n",
        "In the second math exercise, you will remove an unknown (the hidden state) to find the marginal probability of a measurement. You will do this by marginalizing out the hidden state. In this case, you know the conditional probabilities of the measurement given state and the probabilities of each state. You can marginalize using:\n",
        "\n",
        "\\begin{equation}\n",
        "p(m) = \\sum_s p(m | s) p(s)\n",
        "\\end{equation}\n",
        "\n",
        "These two ways of thinking about marginalization (as averaging over joint probabilities or conditioning on some variable) are equivalent because the joint probability of two variables equals the conditional probability of the first given the second times the marginal probability of the second:\n",
        "\n",
        "\\begin{equation}\n",
        "p(x, y) = p(x|y)p(y)\n",
        "\\end{equation}\n"
      ]
    },
    {
      "cell_type": "markdown",
      "metadata": {
        "execution": {},
        "id": "mE66y84R7B25"
      },
      "source": [
        "### Math Exercise 4.2.1: Computing marginal probabilities\n",
        "\n",
        "To understand the information between two variables, let's first consider the joint probabilities over the size and color of the fish.\n",
        "\n",
        "| P(X, Y)        | Y = silver  | Y = gold  |\n",
        "| -------------- |-------------|-----------|\n",
        "| X = small      | 0.4         | 0.2       |\n",
        "| X = large      | 0.1         | 0.3       |\n",
        "\n",
        "Please complete the following math problems to further practice thinking through probabilities:\n",
        "\n",
        "1. Calculate the probability of a fish being silver.\n",
        "2. Calculate the probability of a fish being small, large, silver, or gold.\n",
        "3. Calculate the probability of a fish being small OR gold. **Hint:** $P(A\\ \\textrm{or}\\ B) = P(A) + P(B) - P(A\\ \\textrm{and}\\ B)$.\n",
        "\n",
        "**We don't typically have math exercises in NMA but feel it is important for you to really compute this out yourself. Feel free to use the next cell to write out the math if helpful, or use paper and pen. We recommend doing this exercise individually first and then comparing notes and discussing.**"
      ]
    },
    {
      "cell_type": "code",
      "execution_count": null,
      "metadata": {
        "execution": {},
        "id": "JScR-vll7B25"
      },
      "outputs": [],
      "source": [
        "\"\"\"\n",
        "Joint probabilities\n",
        "\n",
        "P( X = small, Y = silver) = 0.4\n",
        "P( X = large, Y = silver) = 0.1\n",
        "P( X = small, Y = gold) = 0.2\n",
        "P( X = large, Y = gold) = 0.3\n",
        "\n",
        "\n",
        "1. P(Y = silver) = P( X = small, Y = silver) + P( X = large, Y = silver) = 0.4 + 0.1 = 0.5\n",
        "\n",
        "2. P(X = small or large, Y = silver or gold) = P( X = small, Y = silver) + P( X = large, Y = silver) + P( X = small, Y = gold) + P( X = large, Y = gold) = 0.4 + 0.1 + 0.2 + 0.3 = 1\n",
        "\n",
        "3. P( X = small or Y = gold) = P( X = small) + P( Y = gold) - P( X = small, Y = gold) = 0.6 + 0.5 - 0.2 = 0.9\n",
        "\n",
        "\"\"\""
      ]
    },
    {
      "cell_type": "markdown",
      "metadata": {
        "execution": {},
        "id": "-Wpw4fvm7B25"
      },
      "source": [
        "[*Click for solution*](https://github.com/NeuromatchAcademy/course-content/tree/main/tutorials/W3D1_BayesianDecisions/solutions/W3D1_Tutorial1_Solution_b60a0fd3.py)\n",
        "\n"
      ]
    },
    {
      "cell_type": "code",
      "execution_count": null,
      "metadata": {
        "cellView": "form",
        "execution": {},
        "id": "BrqGLydN7B25"
      },
      "outputs": [],
      "source": [
        "# @title Submit your feedback\n",
        "content_review(f\"{feedback_prefix}_Computing_marginal_probabilities_Math_Exercise\")"
      ]
    },
    {
      "cell_type": "markdown",
      "metadata": {
        "execution": {},
        "id": "JqYhnSLl7B25"
      },
      "source": [
        "### Math Exercise 4.2.2: Computing marginal likelihood\n",
        "\n",
        "When we normalize to find the posterior, we need to determine the marginal likelihood--or evidence--for the measurement we observed. To do this, we need to marginalize as we just did above to find the probabilities of a color or size. Only, in this case, we are marginalizing to remove a conditioning variable! In this case, let's consider the likelihood of fish (if we observed a fisher-person fishing on the **right**).\n",
        "\n",
        "| p(m\\|s)       | m = fish | m = no fish  |\n",
        "| ------------ | ---------- | -------------- |\n",
        "| s = left     | 0.1      | 0.9          |\n",
        "| s = right    | 0.5      | 0.5          |\n",
        "\n",
        "\n",
        "The table above shows us the **likelihoods**, just as we explored earlier.\n",
        "\n",
        "You want to know the total probability of a fish being caught, $P(m = \\textrm{fish})$, by the fisher-person fishing on the right. (You would need this to calculate the posterior.) To do this, you will need to consider the prior probability, $p(s)$, and marginalize over the hidden states!\n",
        "\n",
        "This is an example of marginalizing, or conditioning away, the variable we are not interested in as well.\n",
        "\n",
        "Please complete the following math problems to further practice thinking through probabilities:\n",
        "\n",
        "1. Calculate the marginal likelihood of the fish being caught, $P(m = \\textrm{fish})$, if the priors are: $p(s = \\textrm{left}) = 0.3$ and $p(s = \\textrm{right}) = 0.7$.\n",
        "2. Calculate the marginal likelihood of the fish being caught,  $P(m = \\textrm{fish})$, if the priors are: $p(s = \\textrm{left}) = 0.6$ and $p(s = \\textrm{right}) = 0.4$.\n",
        "\n",
        "**We don't typically have math exercises in NMA but feel it is important for you to really compute this out yourself. Feel free to use the next cell to write out the math if helpful, or use paper and pen. We recommend doing this exercise individually first and then comparing notes and discussing.**\n"
      ]
    },
    {
      "cell_type": "code",
      "execution_count": null,
      "metadata": {
        "execution": {},
        "id": "hg2D6XDm7B25"
      },
      "outputs": [],
      "source": [
        "\"\"\"\n",
        "\n",
        "Priors\n",
        "P(s = left) = 0.3\n",
        "P(s = right) = 0.7\n",
        "\n",
        "Likelihoods\n",
        "P(m = fish | s = left) = 0.1\n",
        "P(m = fish | s = right) = 0.5\n",
        "P(m = no fish | s = left) = 0.9\n",
        "P(m = no fish | s = right) = 0.5\n",
        "\n",
        "1. P(m = fish) = ...\n",
        "\n",
        "2. P(m = fish) = ...\n",
        "\n",
        "\"\"\""
      ]
    },
    {
      "cell_type": "markdown",
      "metadata": {
        "execution": {},
        "id": "c_qyos5e7B25"
      },
      "source": [
        "[*Click for solution*](https://github.com/NeuromatchAcademy/course-content/tree/main/tutorials/W3D1_BayesianDecisions/solutions/W3D1_Tutorial1_Solution_63e04b30.py)\n",
        "\n"
      ]
    },
    {
      "cell_type": "code",
      "execution_count": null,
      "metadata": {
        "cellView": "form",
        "execution": {},
        "id": "Y9_qHDHl7B25"
      },
      "outputs": [],
      "source": [
        "# @title Submit your feedback\n",
        "content_review(f\"{feedback_prefix}_Computing_marginal_likelihood_Math_Exercise\")"
      ]
    },
    {
      "cell_type": "markdown",
      "metadata": {
        "execution": {},
        "id": "-4-8zl_07B25"
      },
      "source": [
        "---\n",
        "# Section 5: Bayes' Rule and the Posterior\n",
        "\n",
        "*Estimated timing to here from start of tutorial: 55 min*"
      ]
    },
    {
      "cell_type": "code",
      "execution_count": 14,
      "metadata": {
        "cellView": "form",
        "execution": {},
        "id": "149_l2ZC7B25",
        "colab": {
          "base_uri": "https://localhost:8080/",
          "height": 580,
          "referenced_widgets": [
            "2eb88bceef4d404f89b4d1ad02d02acb",
            "709ce75c2c4c4de581f59880ce10ce15",
            "2afc33d2b37f4ffcad17627027e89e5b",
            "ac6fb0cc2265496ea50d62610a30c8cf",
            "48fa5fc86cc945c6aaaf6253017c6dcd",
            "0d9e40cc5d71476589409a455864be4f"
          ]
        },
        "outputId": "6640e77e-40d3-482a-d097-054f9d4f3f42"
      },
      "outputs": [
        {
          "output_type": "display_data",
          "data": {
            "text/plain": [
              "Tab(children=(Output(), Output()), _titles={'0': 'Youtube', '1': 'Bilibili'})"
            ],
            "application/vnd.jupyter.widget-view+json": {
              "version_major": 2,
              "version_minor": 0,
              "model_id": "2eb88bceef4d404f89b4d1ad02d02acb"
            }
          },
          "metadata": {}
        }
      ],
      "source": [
        "# @title Video 7: Posterior Beliefs\n",
        "from ipywidgets import widgets\n",
        "from IPython.display import YouTubeVideo\n",
        "from IPython.display import IFrame\n",
        "from IPython.display import display\n",
        "\n",
        "\n",
        "class PlayVideo(IFrame):\n",
        "  def __init__(self, id, source, page=1, width=400, height=300, **kwargs):\n",
        "    self.id = id\n",
        "    if source == 'Bilibili':\n",
        "      src = f'https://player.bilibili.com/player.html?bvid={id}&page={page}'\n",
        "    elif source == 'Osf':\n",
        "      src = f'https://mfr.ca-1.osf.io/render?url=https://osf.io/download/{id}/?direct%26mode=render'\n",
        "    super(PlayVideo, self).__init__(src, width, height, **kwargs)\n",
        "\n",
        "\n",
        "def display_videos(video_ids, W=400, H=300, fs=1):\n",
        "  tab_contents = []\n",
        "  for i, video_id in enumerate(video_ids):\n",
        "    out = widgets.Output()\n",
        "    with out:\n",
        "      if video_ids[i][0] == 'Youtube':\n",
        "        video = YouTubeVideo(id=video_ids[i][1], width=W,\n",
        "                             height=H, fs=fs, rel=0)\n",
        "        print(f'Video available at https://youtube.com/watch?v={video.id}')\n",
        "      else:\n",
        "        video = PlayVideo(id=video_ids[i][1], source=video_ids[i][0], width=W,\n",
        "                          height=H, fs=fs, autoplay=False)\n",
        "        if video_ids[i][0] == 'Bilibili':\n",
        "          print(f'Video available at https://www.bilibili.com/video/{video.id}')\n",
        "        elif video_ids[i][0] == 'Osf':\n",
        "          print(f'Video available at https://osf.io/{video.id}')\n",
        "      display(video)\n",
        "    tab_contents.append(out)\n",
        "  return tab_contents\n",
        "\n",
        "\n",
        "video_ids = [('Youtube', 'cOAJQ4utwD0'), ('Bilibili', 'BV1fK4y1M7EC')]\n",
        "tab_contents = display_videos(video_ids, W=854, H=480)\n",
        "tabs = widgets.Tab()\n",
        "tabs.children = tab_contents\n",
        "for i in range(len(tab_contents)):\n",
        "  tabs.set_title(i, video_ids[i][0])\n",
        "display(tabs)"
      ]
    },
    {
      "cell_type": "code",
      "execution_count": null,
      "metadata": {
        "cellView": "form",
        "execution": {},
        "id": "WjvWa_E67B25"
      },
      "outputs": [],
      "source": [
        "# @title Submit your feedback\n",
        "content_review(f\"{feedback_prefix}_Posterior_Beliefs_Video\")"
      ]
    },
    {
      "cell_type": "markdown",
      "metadata": {
        "execution": {},
        "id": "dWrv6zSC7B25"
      },
      "source": [
        "Marginalization is going to be used to combine our prior knowledge, which we call the **prior**, and our new information from a measurement, the **likelihood**. Only in this case, the information we gain about the hidden state we are interested in, where the fish are, is based on the relationship between the probabilities of the measurement and our prior.\n",
        "\n",
        "We can now calculate the full posterior distribution for the hidden state ($s$) using Bayes' Rule. As we've seen, the posterior is proportional to the prior times the likelihood. This means that the posterior probability of the hidden state ($s$) given a measurement ($m$) is proportional to the likelihood of the measurement given the state times the prior probability of that state:\n",
        "\n",
        "\\begin{equation}\n",
        "P(s | m) \\propto P(m | s) P(s)\n",
        "\\end{equation}\n",
        "\n",
        "We say proportional to instead of equal because we need to normalize to produce a full probability distribution:\n",
        "\n",
        "\\begin{equation}\n",
        "P(s | m) = \\frac{P(m | s) P(s)}{P(m)}\n",
        "\\end{equation}\n",
        "\n",
        "Normalizing by this $P(m)$ means that our posterior is a complete probability distribution that sums or integrates to 1 appropriately. We now can use this new, complete probability distribution for any future inference or decisions we like! In fact, as we will see tomorrow, we can use it as a new prior! Finally, we often call this probability distribution our beliefs over the hidden states, to emphasize that it is our subjective knowledge about the hidden state.\n",
        "\n",
        "For many complicated cases, like those we might be using to model behavioral or brain inferences, the normalization term can be intractable or extremely complex to calculate. We can be careful to choose probability distributions whfere we can analytically calculate the posterior probability or numerical approximation is reliable. Better yet, we sometimes don't need to bother with this normalization! The normalization term, $P(m)$, is the probability of the measurement. This does not depend on state so is essentially a constant we can often ignore. We can compare the unnormalized posterior distribution values for different states because how they relate to each other is unchanged when divided by the same constant. We will see how to do this to compare evidence for different hypotheses tomorrow. (It's also used to compare the likelihood of models fit using maximum likelihood estimation)\n",
        "\n",
        "In this relatively simple example, we can compute the marginal likelihood $P(m)$ easily by using:\n",
        "\n",
        "\\begin{equation}\n",
        "P(m) = \\sum_s P(m | s) P(s)\n",
        "\\end{equation}\n",
        "\n",
        "We can then normalize so that we deal with the full posterior distribution."
      ]
    },
    {
      "cell_type": "markdown",
      "metadata": {
        "execution": {},
        "id": "v_ByFiBG7B25"
      },
      "source": [
        "## Math Exercise 5: Calculating a posterior probability\n",
        "\n",
        "Our prior is $p(s = \\textrm{left}) = 0.3$ and $p(s = \\textrm{right}) = 0.7$. In the video, we learned that the chance of catching a fish given they fish on the same side as the school was 50%. Otherwise, it was 10%. We observe a person fishing on the left side. Our likelihood is:\n",
        "\n",
        "\n",
        "| Likelihood: p(m \\| s) | m = fish   | m = no fish  |\n",
        "| ----------------- |----------|----------|\n",
        "| s = left          | 0.5          | 0.5         |\n",
        "| s = right         | 0.1        |  0.9       |\n",
        "\n",
        "\n",
        "Calculate the posterior probability (on paper) that:\n",
        "\n",
        "1. The school is on the left if the fisher-person catches a fish: $p(s = \\textrm{left} | m = \\textrm{fish})$ (hint: normalize by computing $p(m = \\textrm{fish})$)\n",
        "2. The school is on the right if the fisher-person does not catch a fish: $p(s = \\textrm{right} | m = \\textrm{no fish})$\n",
        "\n",
        "<br>\n",
        "\n",
        "**We don't typically have math exercises in NMA but feel it is important for you to really compute this out yourself. Feel free to use the next cell to write out the math if helpful, or use paper and pen. We recommend doing this exercise individually first and then comparing notes and discussing.**"
      ]
    },
    {
      "cell_type": "code",
      "execution_count": null,
      "metadata": {
        "execution": {},
        "id": "T5FzrfV67B25"
      },
      "outputs": [],
      "source": [
        "\"\"\"\n",
        "Priors\n",
        "p(s = left) = 0.3\n",
        "p(s = right) = 0.7\n",
        "\n",
        "Likelihoods\n",
        "P(m = fish | s = left) = 0.5\n",
        "P(m = fish | s = right) = 0.1\n",
        "P(m = no fish | s = left) = 0.5\n",
        "P(m = no fish | s = right) = 0.9\n",
        "\n",
        "1. p( s = left | m = fish) = ...\n",
        "\n",
        "2. p( s = right | m = no fish ) = ...\n",
        "\n",
        "\"\"\""
      ]
    },
    {
      "cell_type": "markdown",
      "metadata": {
        "execution": {},
        "id": "Ul0vvjEX7B25"
      },
      "source": [
        "[*Click for solution*](https://github.com/NeuromatchAcademy/course-content/tree/main/tutorials/W3D1_BayesianDecisions/solutions/W3D1_Tutorial1_Solution_ef5710ed.py)\n",
        "\n"
      ]
    },
    {
      "cell_type": "code",
      "execution_count": null,
      "metadata": {
        "cellView": "form",
        "execution": {},
        "id": "RKHWQea77B25"
      },
      "outputs": [],
      "source": [
        "# @title Submit your feedback\n",
        "content_review(f\"{feedback_prefix}_Calculating_a_posterior_probability_Math_Exercise\")"
      ]
    },
    {
      "cell_type": "markdown",
      "metadata": {
        "execution": {},
        "id": "KLgmX40y7B25"
      },
      "source": [
        "## Coding Exercise 5: Computing Posteriors\n",
        "\n",
        "Let's implement our above math to be able to compute posteriors for different priors and likelihoods.\n",
        "\n",
        "As before, our prior is $p(s = \\textrm{left}) = 0.3$ and $p(s = \\textrm{right}) = 0.7$. In the video, we learned that the chance of catching a fish given they fish on the same side as the school was 50%. Otherwise, it was 10%. We observe a person fishing on the left side. Our likelihood is:\n",
        "\n",
        "\n",
        "| Likelihood: p(m \\| s) | m = fish   | m = no fish  |\n",
        "| ----------------- |----------|----------|\n",
        "| s = left          | 0.5          | 0.5         |\n",
        "| s = right         | 0.1        |  0.9       |\n",
        "\n",
        "\n",
        "We want our full posterior to take the same 2 by 2 form. Make sure the outputs match your math answers!\n",
        "\n"
      ]
    },
    {
      "cell_type": "code",
      "execution_count": null,
      "metadata": {
        "execution": {},
        "id": "-UMyxcYi7B25"
      },
      "outputs": [],
      "source": [
        "def compute_posterior(likelihood, prior):\n",
        "  \"\"\" Use Bayes' Rule to compute posterior from likelihood and prior\n",
        "\n",
        "  Args:\n",
        "    likelihood (ndarray): i x j array with likelihood probabilities where i is\n",
        "                    number of state options, j is number of measurement options\n",
        "    prior (ndarray): i x 1 array with prior probability of each state\n",
        "\n",
        "  Returns:\n",
        "    ndarray: i x j array with posterior probabilities where i is\n",
        "            number of state options, j is number of measurement options\n",
        "\n",
        "  \"\"\"\n",
        "\n",
        "  #################################################\n",
        "  ## TODO for students ##\n",
        "  # Fill out function and remove\n",
        "  raise NotImplementedError(\"Student exercise: implement compute_posterior\")\n",
        "  #################################################\n",
        "\n",
        "  # Compute unnormalized posterior (likelihood times prior)\n",
        "  posterior = ... # first row is s = left, second row is s = right\n",
        "\n",
        "  # Compute p(m)\n",
        "  p_m = np.sum(posterior, axis = 0)\n",
        "\n",
        "  # Normalize posterior (divide elements by p_m)\n",
        "  posterior /= ...\n",
        "\n",
        "  return posterior\n",
        "\n",
        "\n",
        "# Make prior\n",
        "prior = np.array([0.3, 0.7]).reshape((2, 1)) # first row is s = left, second row is s = right\n",
        "\n",
        "# Make likelihood\n",
        "likelihood = np.array([[0.5, 0.5], [0.1, 0.9]]) # first row is s = left, second row is s = right\n",
        "\n",
        "# Compute posterior\n",
        "posterior = compute_posterior(likelihood, prior)\n",
        "\n",
        "# Visualize\n",
        "plot_prior_likelihood_posterior(prior, likelihood, posterior)"
      ]
    },
    {
      "cell_type": "markdown",
      "metadata": {
        "execution": {},
        "id": "56l-p2nA7B26"
      },
      "source": [
        "[*Click for solution*](https://github.com/NeuromatchAcademy/course-content/tree/main/tutorials/W3D1_BayesianDecisions/solutions/W3D1_Tutorial1_Solution_1a2cc907.py)\n",
        "\n",
        "*Example output:*\n",
        "\n",
        "<img alt='Solution hint' align='left' width=1157.0 height=461.0 src=https://raw.githubusercontent.com/NeuromatchAcademy/course-content/main/tutorials/W3D1_BayesianDecisions/static/W3D1_Tutorial1_Solution_1a2cc907_0.png>\n",
        "\n"
      ]
    },
    {
      "cell_type": "code",
      "execution_count": null,
      "metadata": {
        "cellView": "form",
        "execution": {},
        "id": "f1CQwz5J7B26"
      },
      "outputs": [],
      "source": [
        "# @title Submit your feedback\n",
        "content_review(f\"{feedback_prefix}_Computing_Posteriors_Exercise\")"
      ]
    },
    {
      "cell_type": "markdown",
      "metadata": {
        "execution": {},
        "id": "1MjNo3-y7B26"
      },
      "source": [
        "## Interactive Demo 5: What affects the posterior?\n",
        "\n",
        "Now that we can understand the implementation of *Bayes rule*, let's vary the parameters of the prior and likelihood to see how changing the prior and likelihood affect the posterior.\n",
        "\n",
        "In the demo below, you can change the prior by playing with the slider for $p( s = left)$. You can also change the likelihood by changing the probability of catching a fish given that the school is on the left and the probability of catching a fish given that the school is on the right. The fisher-person you are observing is fishing on the left.\n",
        "\n",
        "\n",
        "1.   Keeping the likelihood constant, when does the prior have the strongest influence over the posterior? Meaning, when does the posterior look most like the prior no matter whether a fish was caught or not?\n",
        "2.   What happens if the likelihoods for catching a fish are similar when you fish on the correct or incorrect side?\n",
        "3.  Set the prior probability of the state = left to 0.6 and play with the likelihood. When does the likelihood exert the most influence over the posterior?"
      ]
    },
    {
      "cell_type": "code",
      "execution_count": null,
      "metadata": {
        "cellView": "form",
        "execution": {},
        "id": "vKsAb8zH7B26"
      },
      "outputs": [],
      "source": [
        "# @markdown Execute this cell to enable the widget\n",
        "# style = {'description_width': 'initial'}\n",
        "ps_widget = widgets.FloatSlider(0.3, description='p(s = left)',\n",
        "                                min=0.01, max=0.99, step=0.01)\n",
        "p_a_s1_widget = widgets.FloatSlider(0.5,\n",
        "                                    description='p(fish on left | state = left)',\n",
        "                                    min=0.01, max=0.99, step=0.01, style=style,\n",
        "                                    layout=Layout(width='370px'))\n",
        "p_a_s0_widget = widgets.FloatSlider(0.1,\n",
        "                                    description='p(fish on left | state = right)',\n",
        "                                    min=0.01, max=0.99, step=0.01, style=style,\n",
        "                                    layout=Layout(width='370px'))\n",
        "\n",
        "observed_widget = ToggleButtons(options=['Fish', 'No Fish'],\n",
        "    description='Observation (m) on the left:', disabled=False, button_style='',\n",
        "    layout=Layout(width='auto', display=\"flex\"),\n",
        "    style={'description_width': 'initial'}\n",
        ")\n",
        "\n",
        "widget_ui = VBox([ps_widget,\n",
        "                  HBox([p_a_s1_widget, p_a_s0_widget]),\n",
        "                  observed_widget])\n",
        "widget_out = interactive_output(plot_prior_likelihood,\n",
        "                                {'ps': ps_widget,\n",
        "                                'p_a_s1': p_a_s1_widget,\n",
        "                                'p_a_s0': p_a_s0_widget,\n",
        "                                'measurement': observed_widget})\n",
        "display(widget_ui, widget_out)"
      ]
    },
    {
      "cell_type": "markdown",
      "metadata": {
        "execution": {},
        "id": "QfzoEhan7B26"
      },
      "source": [
        "[*Click for solution*](https://github.com/NeuromatchAcademy/course-content/tree/main/tutorials/W3D1_BayesianDecisions/solutions/W3D1_Tutorial1_Solution_b12db064.py)\n",
        "\n"
      ]
    },
    {
      "cell_type": "code",
      "execution_count": null,
      "metadata": {
        "cellView": "form",
        "execution": {},
        "id": "0kkApj617B26"
      },
      "outputs": [],
      "source": [
        "# @title Submit your feedback\n",
        "content_review(f\"{feedback_prefix}_What_affects_the_posterior_Interactive_Demo_and_Discussion\")"
      ]
    },
    {
      "cell_type": "code",
      "execution_count": null,
      "metadata": {
        "cellView": "form",
        "execution": {},
        "id": "vUXJAzFI7B26"
      },
      "outputs": [],
      "source": [
        "# @title Video 8: Posterior Beliefs Exercises Discussion\n",
        "from ipywidgets import widgets\n",
        "from IPython.display import YouTubeVideo\n",
        "from IPython.display import IFrame\n",
        "from IPython.display import display\n",
        "\n",
        "\n",
        "class PlayVideo(IFrame):\n",
        "  def __init__(self, id, source, page=1, width=400, height=300, **kwargs):\n",
        "    self.id = id\n",
        "    if source == 'Bilibili':\n",
        "      src = f'https://player.bilibili.com/player.html?bvid={id}&page={page}'\n",
        "    elif source == 'Osf':\n",
        "      src = f'https://mfr.ca-1.osf.io/render?url=https://osf.io/download/{id}/?direct%26mode=render'\n",
        "    super(PlayVideo, self).__init__(src, width, height, **kwargs)\n",
        "\n",
        "\n",
        "def display_videos(video_ids, W=400, H=300, fs=1):\n",
        "  tab_contents = []\n",
        "  for i, video_id in enumerate(video_ids):\n",
        "    out = widgets.Output()\n",
        "    with out:\n",
        "      if video_ids[i][0] == 'Youtube':\n",
        "        video = YouTubeVideo(id=video_ids[i][1], width=W,\n",
        "                             height=H, fs=fs, rel=0)\n",
        "        print(f'Video available at https://youtube.com/watch?v={video.id}')\n",
        "      else:\n",
        "        video = PlayVideo(id=video_ids[i][1], source=video_ids[i][0], width=W,\n",
        "                          height=H, fs=fs, autoplay=False)\n",
        "        if video_ids[i][0] == 'Bilibili':\n",
        "          print(f'Video available at https://www.bilibili.com/video/{video.id}')\n",
        "        elif video_ids[i][0] == 'Osf':\n",
        "          print(f'Video available at https://osf.io/{video.id}')\n",
        "      display(video)\n",
        "    tab_contents.append(out)\n",
        "  return tab_contents\n",
        "\n",
        "\n",
        "video_ids = [('Youtube', 'YPQgLVolvBs'), ('Bilibili', 'BV1TU4y1G7SM')]\n",
        "tab_contents = display_videos(video_ids, W=854, H=480)\n",
        "tabs = widgets.Tab()\n",
        "tabs.children = tab_contents\n",
        "for i in range(len(tab_contents)):\n",
        "  tabs.set_title(i, video_ids[i][0])\n",
        "display(tabs)"
      ]
    },
    {
      "cell_type": "code",
      "execution_count": null,
      "metadata": {
        "cellView": "form",
        "execution": {},
        "id": "djz_AjyN7B26"
      },
      "outputs": [],
      "source": [
        "# @title Submit your feedback\n",
        "content_review(f\"{feedback_prefix}_Posterior_Beliefs_Exercises_Discussion_Video\")"
      ]
    },
    {
      "cell_type": "markdown",
      "metadata": {
        "execution": {},
        "id": "Y1Sl6yCd7B26"
      },
      "source": [
        "# Section 6: Making Bayesian fishing decisions\n",
        "\n",
        "*Estimated timing to here from start of tutorial: 1 hr, 15 min*"
      ]
    },
    {
      "cell_type": "code",
      "execution_count": null,
      "metadata": {
        "cellView": "form",
        "execution": {},
        "id": "apSxzVsg7B26"
      },
      "outputs": [],
      "source": [
        "# @title Video 9: Bayesian Decisions\n",
        "from ipywidgets import widgets\n",
        "from IPython.display import YouTubeVideo\n",
        "from IPython.display import IFrame\n",
        "from IPython.display import display\n",
        "\n",
        "\n",
        "class PlayVideo(IFrame):\n",
        "  def __init__(self, id, source, page=1, width=400, height=300, **kwargs):\n",
        "    self.id = id\n",
        "    if source == 'Bilibili':\n",
        "      src = f'https://player.bilibili.com/player.html?bvid={id}&page={page}'\n",
        "    elif source == 'Osf':\n",
        "      src = f'https://mfr.ca-1.osf.io/render?url=https://osf.io/download/{id}/?direct%26mode=render'\n",
        "    super(PlayVideo, self).__init__(src, width, height, **kwargs)\n",
        "\n",
        "\n",
        "def display_videos(video_ids, W=400, H=300, fs=1):\n",
        "  tab_contents = []\n",
        "  for i, video_id in enumerate(video_ids):\n",
        "    out = widgets.Output()\n",
        "    with out:\n",
        "      if video_ids[i][0] == 'Youtube':\n",
        "        video = YouTubeVideo(id=video_ids[i][1], width=W,\n",
        "                             height=H, fs=fs, rel=0)\n",
        "        print(f'Video available at https://youtube.com/watch?v={video.id}')\n",
        "      else:\n",
        "        video = PlayVideo(id=video_ids[i][1], source=video_ids[i][0], width=W,\n",
        "                          height=H, fs=fs, autoplay=False)\n",
        "        if video_ids[i][0] == 'Bilibili':\n",
        "          print(f'Video available at https://www.bilibili.com/video/{video.id}')\n",
        "        elif video_ids[i][0] == 'Osf':\n",
        "          print(f'Video available at https://osf.io/{video.id}')\n",
        "      display(video)\n",
        "    tab_contents.append(out)\n",
        "  return tab_contents\n",
        "\n",
        "\n",
        "video_ids = [('Youtube', 'tz9zsmTHR68'), ('Bilibili', 'BV1954y1n7uH')]\n",
        "tab_contents = display_videos(video_ids, W=854, H=480)\n",
        "tabs = widgets.Tab()\n",
        "tabs.children = tab_contents\n",
        "for i in range(len(tab_contents)):\n",
        "  tabs.set_title(i, video_ids[i][0])\n",
        "display(tabs)"
      ]
    },
    {
      "cell_type": "code",
      "execution_count": null,
      "metadata": {
        "cellView": "form",
        "execution": {},
        "id": "2OVBdTVX7B26"
      },
      "outputs": [],
      "source": [
        "# @title Submit your feedback\n",
        "content_review(f\"{feedback_prefix}_Bayesian_Decisions_Video\")"
      ]
    },
    {
      "cell_type": "markdown",
      "metadata": {
        "execution": {},
        "id": "vqDcsgQ37B26"
      },
      "source": [
        "\n",
        "We will explore how to consider the expected utility of an action based on our belief (the posterior distribution) about where we think the fish are. Now we have all the components of a Bayesian decision: our prior information, the likelihood given a measurement, the posterior distribution (belief) and our utility (the gains and losses). This allows us to consider the relationship between the true value of the hidden state, $s$, and what we *expect* to get if we take action, $a$, based on our belief!\n",
        "\n",
        "Let's use the following widget to think about the relationship between these probability distributions and utility function."
      ]
    },
    {
      "cell_type": "markdown",
      "metadata": {
        "execution": {},
        "id": "rubm_VML7B26"
      },
      "source": [
        "## Interactive Demo! 6: What is more important, the probabilities or the utilities?\n",
        "\n",
        "We are now going to put everything we've learned together to gain some intuitions for how each of the elements that goes into a Bayesian decision comes together. Remember, the common assumption in neuroscience, psychology, economics, ecology, etc. is that we (humans and animals) are trying to maximize our expected utility. There is a lot going on in this demo as it brings everything in this tutorial together in one place - please spend time making sure you understand the controls and the plots, especially how everything relates together.\n",
        "\n",
        "1. Can you find a situation where the expected utility is the same for both actions?\n",
        "2. What is more important for determining the expected utility: the prior or a new measurement (the likelihood)?\n",
        "3. Why is this a normative model?\n",
        "4. Can you think of ways in which this model would need to be extended to describe human or animal behavior?"
      ]
    },
    {
      "cell_type": "code",
      "execution_count": null,
      "metadata": {
        "cellView": "form",
        "execution": {},
        "id": "cUm9g7sM7B26"
      },
      "outputs": [],
      "source": [
        "# @markdown Execute this cell to enable the widget\n",
        "# style = {'description_width': 'initial'}\n",
        "\n",
        "ps_widget = widgets.FloatSlider(0.3, description='p(s = left)',\n",
        "                                min=0.01, max=0.99, step=0.01,\n",
        "                                layout=Layout(width='300px'))\n",
        "p_a_s1_widget = widgets.FloatSlider(0.5,\n",
        "                                    description='p(fish on left | state = left)',\n",
        "                                    min=0.01, max=0.99, step=0.01,\n",
        "                                    style=style, layout=Layout(width='370px'))\n",
        "p_a_s0_widget = widgets.FloatSlider(0.1,\n",
        "                                    description='p(fish on left | state = right)',\n",
        "                                    min=0.01, max=0.99, step=0.01,\n",
        "                                    style=style, layout=Layout(width='370px'))\n",
        "\n",
        "observed_widget = ToggleButtons(options=['Fish', 'No Fish'],\n",
        "    description='Observation (m) on the left:', disabled=False, button_style='',\n",
        "    layout=Layout(width='auto', display=\"flex\"),\n",
        "    style={'description_width': 'initial'}\n",
        ")\n",
        "\n",
        "widget_ui = VBox([ps_widget,\n",
        "                  HBox([p_a_s1_widget, p_a_s0_widget]),\n",
        "                  observed_widget])\n",
        "\n",
        "widget_out = interactive_output(plot_prior_likelihood_utility,\n",
        "                                {'ps': ps_widget,\n",
        "                                'p_a_s1': p_a_s1_widget,\n",
        "                                'p_a_s0': p_a_s0_widget,\n",
        "                                'measurement': observed_widget})\n",
        "display(widget_ui, widget_out)"
      ]
    },
    {
      "cell_type": "markdown",
      "metadata": {
        "execution": {},
        "id": "LghZKZcM7B26"
      },
      "source": [
        "[*Click for solution*](https://github.com/NeuromatchAcademy/course-content/tree/main/tutorials/W3D1_BayesianDecisions/solutions/W3D1_Tutorial1_Solution_fb91b9f9.py)\n",
        "\n"
      ]
    },
    {
      "cell_type": "code",
      "execution_count": null,
      "metadata": {
        "cellView": "form",
        "execution": {},
        "id": "JMffY8rc7B26"
      },
      "outputs": [],
      "source": [
        "# @title Submit your feedback\n",
        "content_review(f\"{feedback_prefix}_Probabilities_vs_utilities_Interactive_Demo_and_Discussion\")"
      ]
    },
    {
      "cell_type": "code",
      "execution_count": null,
      "metadata": {
        "cellView": "form",
        "execution": {},
        "id": "iXcQQfkb7B26"
      },
      "outputs": [],
      "source": [
        "# @title Video 10: Bayesian Decisions Demo Discussion\n",
        "from ipywidgets import widgets\n",
        "from IPython.display import YouTubeVideo\n",
        "from IPython.display import IFrame\n",
        "from IPython.display import display\n",
        "\n",
        "\n",
        "class PlayVideo(IFrame):\n",
        "  def __init__(self, id, source, page=1, width=400, height=300, **kwargs):\n",
        "    self.id = id\n",
        "    if source == 'Bilibili':\n",
        "      src = f'https://player.bilibili.com/player.html?bvid={id}&page={page}'\n",
        "    elif source == 'Osf':\n",
        "      src = f'https://mfr.ca-1.osf.io/render?url=https://osf.io/download/{id}/?direct%26mode=render'\n",
        "    super(PlayVideo, self).__init__(src, width, height, **kwargs)\n",
        "\n",
        "\n",
        "def display_videos(video_ids, W=400, H=300, fs=1):\n",
        "  tab_contents = []\n",
        "  for i, video_id in enumerate(video_ids):\n",
        "    out = widgets.Output()\n",
        "    with out:\n",
        "      if video_ids[i][0] == 'Youtube':\n",
        "        video = YouTubeVideo(id=video_ids[i][1], width=W,\n",
        "                             height=H, fs=fs, rel=0)\n",
        "        print(f'Video available at https://youtube.com/watch?v={video.id}')\n",
        "      else:\n",
        "        video = PlayVideo(id=video_ids[i][1], source=video_ids[i][0], width=W,\n",
        "                          height=H, fs=fs, autoplay=False)\n",
        "        if video_ids[i][0] == 'Bilibili':\n",
        "          print(f'Video available at https://www.bilibili.com/video/{video.id}')\n",
        "        elif video_ids[i][0] == 'Osf':\n",
        "          print(f'Video available at https://osf.io/{video.id}')\n",
        "      display(video)\n",
        "    tab_contents.append(out)\n",
        "  return tab_contents\n",
        "\n",
        "\n",
        "video_ids = [('Youtube', 'h9L0EYmUpHs'), ('Bilibili', 'BV1QU4y137BS')]\n",
        "tab_contents = display_videos(video_ids, W=854, H=480)\n",
        "tabs = widgets.Tab()\n",
        "tabs.children = tab_contents\n",
        "for i in range(len(tab_contents)):\n",
        "  tabs.set_title(i, video_ids[i][0])\n",
        "display(tabs)"
      ]
    },
    {
      "cell_type": "code",
      "execution_count": null,
      "metadata": {
        "cellView": "form",
        "execution": {},
        "id": "hqUnEWKW7B26"
      },
      "outputs": [],
      "source": [
        "# @title Submit your feedback\n",
        "content_review(f\"{feedback_prefix}_Bayesian_Decisions_Demo_Discussion_Video\")"
      ]
    },
    {
      "cell_type": "markdown",
      "metadata": {
        "execution": {},
        "id": "DleUO7wS7B26"
      },
      "source": [
        "---\n",
        "# Summary\n",
        "\n",
        "*Estimated timing of tutorial: 1 hour, 30 minutes*\n",
        "\n",
        "In this tutorial, you learned about combining prior information with new measurements to update your knowledge using Bayes Rule, in the context of a fishing problem.\n",
        "\n",
        "Specifically, we covered:\n",
        "\n",
        "* That the likelihood is the probability of the measurement given some hidden state\n",
        "\n",
        "* That how the prior and likelihood interact to create the posterior, the probability of the hidden state given a measurement, depends on how they covary\n",
        "\n",
        "* That utility is the gain from each action and state pair, and the expected utility for an action is the sum of the utility for all state pairs, weighted by the probability of that state happening. You can then choose the action with the highest expected utility.\n"
      ]
    },
    {
      "cell_type": "markdown",
      "metadata": {
        "execution": {},
        "id": "TltuSjMp7B26"
      },
      "source": [
        "---\n",
        "# Bonus"
      ]
    },
    {
      "cell_type": "markdown",
      "metadata": {
        "execution": {},
        "id": "NEU27qr27B27"
      },
      "source": [
        "## Bonus Section 1: Correlation Formula\n",
        "\n",
        "To understand the way we calculate the correlation, we need to review the definition of covariance and correlation.\n",
        "\n",
        "<br>\n",
        "\n",
        "Covariance:\n",
        "\n",
        "\\begin{align}\n",
        "\\text{cov}(X,Y) \\equiv \\sigma_{XY} &= \\mathbb{E} [ (X - \\mathbb{E}[X])(Y - \\mathbb{E}[Y]) ] \\\\\n",
        "&= \\mathbb{E}[ XY - X\\mathbb{E}[Y] - \\mathbb{E}[X]Y + \\mathbb{E}[X]\\mathbb{E}[Y] ] \\\\\n",
        "&= \\mathbb{E}[XY] - \\mathbb{E}[X]\\mathbb{E}[Y] - \\mathbb{E}[X]\\mathbb{E}[Y] + \\mathbb{E}[X]\\mathbb{E}[Y]\\\\\n",
        "&= \\mathbb{E}[XY] - \\mathbb{E}[X]\\mathbb{E}[Y].\n",
        "\\end{align}\n",
        "\n",
        "Correlation:\n",
        "\n",
        "\\begin{equation}\n",
        "\\rho_{XY} = \\frac{\\text{cov}(X,Y)}{\\sqrt{\\text{var}(X)\\text{var}(Y)}} = \\frac{\\sigma_{XY}}{\\sigma_{X}\\sigma_{Y}}\n",
        "\\end{equation}"
      ]
    }
  ],
  "metadata": {
    "colab": {
      "collapsed_sections": [
        "jWmfLbhzBpfz"
      ],
      "name": "W3D1_Tutorial1",
      "provenance": [],
      "toc_visible": true,
      "include_colab_link": true
    },
    "interpreter": {
      "hash": "3e19903e646247cead5404f55ff575624523d45cf244c3f93aaf5fa10367032a"
    },
    "kernel": {
      "display_name": "Python 3",
      "language": "python",
      "name": "python3"
    },
    "kernelspec": {
      "display_name": "Python 3.7.10 64-bit ('nma': conda)",
      "name": "python3"
    },
    "language_info": {
      "codemirror_mode": {
        "name": "ipython",
        "version": 3
      },
      "file_extension": ".py",
      "mimetype": "text/x-python",
      "name": "python",
      "nbconvert_exporter": "python",
      "pygments_lexer": "ipython3",
      "version": "3.9.21"
    },
    "widgets": {
      "application/vnd.jupyter.widget-state+json": {
        "a5207fa60aed428f80da2ae0b35c3347": {
          "model_module": "@jupyter-widgets/controls",
          "model_name": "TabModel",
          "model_module_version": "1.5.0",
          "state": {
            "_dom_classes": [],
            "_model_module": "@jupyter-widgets/controls",
            "_model_module_version": "1.5.0",
            "_model_name": "TabModel",
            "_titles": {
              "0": "Youtube",
              "1": "Bilibili"
            },
            "_view_count": null,
            "_view_module": "@jupyter-widgets/controls",
            "_view_module_version": "1.5.0",
            "_view_name": "TabView",
            "box_style": "",
            "children": [
              "IPY_MODEL_84fb9476c1a2492195c34f6af0427ea8",
              "IPY_MODEL_13ef3c9286434c23a6568da2e45d41dc"
            ],
            "layout": "IPY_MODEL_b81a51bd70714031b2c3ede76b771c84",
            "selected_index": 0
          }
        },
        "84fb9476c1a2492195c34f6af0427ea8": {
          "model_module": "@jupyter-widgets/output",
          "model_name": "OutputModel",
          "model_module_version": "1.0.0",
          "state": {
            "_dom_classes": [],
            "_model_module": "@jupyter-widgets/output",
            "_model_module_version": "1.0.0",
            "_model_name": "OutputModel",
            "_view_count": null,
            "_view_module": "@jupyter-widgets/output",
            "_view_module_version": "1.0.0",
            "_view_name": "OutputView",
            "layout": "IPY_MODEL_668d092a5d294f37a2a4a32915d6ce5e",
            "msg_id": "",
            "outputs": [
              {
                "output_type": "stream",
                "name": "stdout",
                "text": [
                  "Video available at https://youtube.com/watch?v=Hcx2_JTpf2M\n"
                ]
              },
              {
                "output_type": "display_data",
                "data": {
                  "text/plain": "<IPython.lib.display.YouTubeVideo at 0x7cc3cfef8bd0>",
                  "text/html": "\n        <iframe\n            width=\"854\"\n            height=\"480\"\n            src=\"https://www.youtube.com/embed/Hcx2_JTpf2M?fs=1&rel=0\"\n            frameborder=\"0\"\n            allowfullscreen\n            \n        ></iframe>\n        ",
                  "image/jpeg": "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\n"
                },
                "metadata": {}
              }
            ]
          }
        },
        "13ef3c9286434c23a6568da2e45d41dc": {
          "model_module": "@jupyter-widgets/output",
          "model_name": "OutputModel",
          "model_module_version": "1.0.0",
          "state": {
            "_dom_classes": [],
            "_model_module": "@jupyter-widgets/output",
            "_model_module_version": "1.0.0",
            "_model_name": "OutputModel",
            "_view_count": null,
            "_view_module": "@jupyter-widgets/output",
            "_view_module_version": "1.0.0",
            "_view_name": "OutputView",
            "layout": "IPY_MODEL_9627cbb494024ed7bb5312f27f76070c",
            "msg_id": "",
            "outputs": [
              {
                "output_type": "stream",
                "name": "stdout",
                "text": [
                  "Video available at https://www.bilibili.com/video/BV1Ch41167jN\n"
                ]
              },
              {
                "output_type": "display_data",
                "data": {
                  "text/plain": "<__main__.PlayVideo at 0x7cc3cfef8510>",
                  "text/html": "\n        <iframe\n            width=\"854\"\n            height=\"480\"\n            src=\"https://player.bilibili.com/player.html?bvid=BV1Ch41167jN&page=1?fs=1&autoplay=False\"\n            frameborder=\"0\"\n            allowfullscreen\n            \n        ></iframe>\n        "
                },
                "metadata": {}
              }
            ]
          }
        },
        "b81a51bd70714031b2c3ede76b771c84": {
          "model_module": "@jupyter-widgets/base",
          "model_name": "LayoutModel",
          "model_module_version": "1.2.0",
          "state": {
            "_model_module": "@jupyter-widgets/base",
            "_model_module_version": "1.2.0",
            "_model_name": "LayoutModel",
            "_view_count": null,
            "_view_module": "@jupyter-widgets/base",
            "_view_module_version": "1.2.0",
            "_view_name": "LayoutView",
            "align_content": null,
            "align_items": null,
            "align_self": null,
            "border": null,
            "bottom": null,
            "display": null,
            "flex": null,
            "flex_flow": null,
            "grid_area": null,
            "grid_auto_columns": null,
            "grid_auto_flow": null,
            "grid_auto_rows": null,
            "grid_column": null,
            "grid_gap": null,
            "grid_row": null,
            "grid_template_areas": null,
            "grid_template_columns": null,
            "grid_template_rows": null,
            "height": null,
            "justify_content": null,
            "justify_items": null,
            "left": null,
            "margin": null,
            "max_height": null,
            "max_width": null,
            "min_height": null,
            "min_width": null,
            "object_fit": null,
            "object_position": null,
            "order": null,
            "overflow": null,
            "overflow_x": null,
            "overflow_y": null,
            "padding": null,
            "right": null,
            "top": null,
            "visibility": null,
            "width": null
          }
        },
        "668d092a5d294f37a2a4a32915d6ce5e": {
          "model_module": "@jupyter-widgets/base",
          "model_name": "LayoutModel",
          "model_module_version": "1.2.0",
          "state": {
            "_model_module": "@jupyter-widgets/base",
            "_model_module_version": "1.2.0",
            "_model_name": "LayoutModel",
            "_view_count": null,
            "_view_module": "@jupyter-widgets/base",
            "_view_module_version": "1.2.0",
            "_view_name": "LayoutView",
            "align_content": null,
            "align_items": null,
            "align_self": null,
            "border": null,
            "bottom": null,
            "display": null,
            "flex": null,
            "flex_flow": null,
            "grid_area": null,
            "grid_auto_columns": null,
            "grid_auto_flow": null,
            "grid_auto_rows": null,
            "grid_column": null,
            "grid_gap": null,
            "grid_row": null,
            "grid_template_areas": null,
            "grid_template_columns": null,
            "grid_template_rows": null,
            "height": null,
            "justify_content": null,
            "justify_items": null,
            "left": null,
            "margin": null,
            "max_height": null,
            "max_width": null,
            "min_height": null,
            "min_width": null,
            "object_fit": null,
            "object_position": null,
            "order": null,
            "overflow": null,
            "overflow_x": null,
            "overflow_y": null,
            "padding": null,
            "right": null,
            "top": null,
            "visibility": null,
            "width": null
          }
        },
        "9627cbb494024ed7bb5312f27f76070c": {
          "model_module": "@jupyter-widgets/base",
          "model_name": "LayoutModel",
          "model_module_version": "1.2.0",
          "state": {
            "_model_module": "@jupyter-widgets/base",
            "_model_module_version": "1.2.0",
            "_model_name": "LayoutModel",
            "_view_count": null,
            "_view_module": "@jupyter-widgets/base",
            "_view_module_version": "1.2.0",
            "_view_name": "LayoutView",
            "align_content": null,
            "align_items": null,
            "align_self": null,
            "border": null,
            "bottom": null,
            "display": null,
            "flex": null,
            "flex_flow": null,
            "grid_area": null,
            "grid_auto_columns": null,
            "grid_auto_flow": null,
            "grid_auto_rows": null,
            "grid_column": null,
            "grid_gap": null,
            "grid_row": null,
            "grid_template_areas": null,
            "grid_template_columns": null,
            "grid_template_rows": null,
            "height": null,
            "justify_content": null,
            "justify_items": null,
            "left": null,
            "margin": null,
            "max_height": null,
            "max_width": null,
            "min_height": null,
            "min_width": null,
            "object_fit": null,
            "object_position": null,
            "order": null,
            "overflow": null,
            "overflow_x": null,
            "overflow_y": null,
            "padding": null,
            "right": null,
            "top": null,
            "visibility": null,
            "width": null
          }
        },
        "31d39cf14d554740987c35767c11a4d7": {
          "model_module": "@jupyter-widgets/controls",
          "model_name": "TabModel",
          "model_module_version": "1.5.0",
          "state": {
            "_dom_classes": [],
            "_model_module": "@jupyter-widgets/controls",
            "_model_module_version": "1.5.0",
            "_model_name": "TabModel",
            "_titles": {
              "0": "Youtube",
              "1": "Bilibili"
            },
            "_view_count": null,
            "_view_module": "@jupyter-widgets/controls",
            "_view_module_version": "1.5.0",
            "_view_name": "TabView",
            "box_style": "",
            "children": [
              "IPY_MODEL_6486cf09aec1495bbf9e675ef158d2bc",
              "IPY_MODEL_7d01946cdd6b4b3fad2e811b27c8a60c"
            ],
            "layout": "IPY_MODEL_fab2d1547bf741cd9630f6a54e126da8",
            "selected_index": 0
          }
        },
        "6486cf09aec1495bbf9e675ef158d2bc": {
          "model_module": "@jupyter-widgets/output",
          "model_name": "OutputModel",
          "model_module_version": "1.0.0",
          "state": {
            "_dom_classes": [],
            "_model_module": "@jupyter-widgets/output",
            "_model_module_version": "1.0.0",
            "_model_name": "OutputModel",
            "_view_count": null,
            "_view_module": "@jupyter-widgets/output",
            "_view_module_version": "1.0.0",
            "_view_name": "OutputView",
            "layout": "IPY_MODEL_e802dce73603446c852861c8137e97aa",
            "msg_id": "",
            "outputs": [
              {
                "output_type": "stream",
                "name": "stdout",
                "text": [
                  "Video available at https://youtube.com/watch?v=kAdBjWOI_yE\n"
                ]
              },
              {
                "output_type": "display_data",
                "data": {
                  "text/plain": "<IPython.lib.display.YouTubeVideo at 0x7cc3d13be2d0>",
                  "text/html": "\n        <iframe\n            width=\"854\"\n            height=\"480\"\n            src=\"https://www.youtube.com/embed/kAdBjWOI_yE?fs=1&rel=0\"\n            frameborder=\"0\"\n            allowfullscreen\n            \n        ></iframe>\n        ",
                  "image/jpeg": "/9j/4AAQSkZJRgABAQAAAQABAAD/2wCEAAUDBAkICAgICAgICAgICAgICAgICQgICAgICAgICAgICAgIChALCAgOCQgIDRUNDhERExMTCAsWGBYSGBASExIBBQUFCAcIDQgIDhINDQ8SEhISEhISEhISEhISEhISEhISEhISEhISEhISEhISEhISEhISEhISEhISEhISEhISEv/AABEIAWgB4AMBIgACEQEDEQH/xAAdAAEAAgIDAQEAAAAAAAAAAAAABgcDBQIECAEJ/8QAWRAAAQMDAQMGBwkMCAMFCQAAAQACAwQFERIGEyEHFBYxQZIIIlFSYdHSFTJTVHGBkZPiGCMzNkJVcpShsbK0JDRic3R1s8E3dvAlNYK14QkXVmODlcLT8f/EABoBAQEAAwEBAAAAAAAAAAAAAAABAwQFAgb/xAAlEQEAAgICAgEFAQEBAAAAAAAAARECAwQSITFBEyJRYXGBkRT/2gAMAwEAAhEDEQA/APGSIiAiIgIiICIiAiIgIiICIiAiIgIiICIiAiIgIiICIiAiIgIiICIiAiIgIiICIiAiIgIiICIiAiIgIiICIiAiIgIiICIiAiIgIiICIiAiIgIiICIiAiIgIiICIiAiIgIiICIiAiIgIiICIiAiIgIiICIiAiIgIiICIiAiIgIiICIiAiIgIiICIiAiIgIiICIiAiIgIiICLf8ARSfz4e8/2E6KT+fD3n+wg0CLf9FJ/Ph7z/YTopP58Pef7CDQIt/0Un8+HvP9hOik/nw95/sINAi3/RSfz4e8/wBhOik/nw95/sINAi3/AEUn8+HvP9hOik/nw95/sINAi3/RSfz4e8/2E6KT+fD3n+wg0CLf9FJ/Ph7z/YTopP58Pef7CDQIt/0Un8+HvP8AYTopP58Pef7CDQIt/wBFJ/Ph7z/YTopP58Pef7CDQIt/0Un8+HvP9hOik/nw95/sINAi3/RSfz4e8/2E6KT+fD3n+wg0CLf9FJ/Ph7z/AGE6KT+fD3n+wg0CLf8ARSfz4e8/2E6KT+fD3n+wg0CLf9FJ/Ph7z/YTopP58Pef7CDQIt/0Un8+HvP9hOik/nw95/sINAi3/RSfz4e8/wBhOik/nw95/sINAi3/AEUn8+HvP9hOik/nw95/sINAi3/RSfz4e8/2E6KT+fD3n+wg0CLf9FJ/Ph7z/YTopP58Pef7CDQIt/0Un8+HvP8AYTopP58Pef7CDQIt/wBFJ/Ph7z/YTopP58Pef7CDQIt/0Un8+HvP9hOik/nw95/sINAi3/RSfz4e8/2E6KT+fD3n+wg0CLf9FJ/Ph7z/AGE6KT+fD3n+wg0CLf8ARSfz4e8/2E6KT+fD3n+wg0CLf9FJ/Ph7z/YTopP58Pef7CDQIt/0Un8+HvP9hOik/nw95/sINAi3/RSfz4e8/wBhOik/nw95/sINAi3/AEUn8+HvP9hOik/nw95/sINAi3/RSfz4e8/2E6KT+fD3n+wgmaIi9PIiIgIiICIiAiIgIiICIiAiIgIiICIiAiIgIiICIiAiIgIiICIiAiIgIiICIiAiIgIiICIiAiIgIiICIiAiIgIiICIiAiIgIiICIiAiKNS7VhrnN3BOkkZ3nkOPMUVJUUX6XD4ufrfsJ0uHxc/W/YQpKEUX6XD4ufrfsJ0uHxc/W/YQpKEUX6XD4ufrfsJ0uHxc/W/YQpKEUX6XD4ufrfsJ0uHxc/W/YQpKEUX6XD4ufrfsJ0uHxc/W/YQpKEUX6XD4ufrfsJ0uHxc/W/YQpKEUX6XD4ufrfsJ0uHxc/W/YQpKEUX6XD4ufrfsJ0uHxc/W/YQpKEUX6XD4ufrfsJ0uHxc/W/YQpKEUX6XD4ufrfsJ0uHxc/W/YQpKEUX6XD4ufrfsJ0uHxc/W/YQpKEUX6XD4ufrfsJ0uHxc/W/YQpKEUX6XD4ufrfsJ0uHxc/W/YQpKEUX6XD4ufrfsJ0uHxc/W/YQpKEUX6XD4ufrfsJ0uHxc/W/YQpKEUco9qBJJHHuCNb2MzvM41ODc40cetSNAREVQREQEREBERAREQEREBERAREQEREBERAREQEREBERACrKr/CP/AE3fxFWaFWVX+Ef+m7+IqSsMSIiiiIiAiIgKScmOy3u3eLdaRPzbn9Syn3+7326158fda268Y6tQ+VRtWR4MH447O/5nB/ugteo8Fq2ivktDNubb7rsIYLfNRiCd0jo2ysjDTXFznFjmuw1rjg5wqF5TdiK3Z251FpuLGNqacsOuJxfBNHIwPjmgkc1pfE5p6yAQQ5pAc0gewtqeQyS6coFZfn3W3ClpKuhuD7fRzOqL0XUNNRuZA+kDWinMjoR4xeSA9hAOeHnbl927Ze9sn190ttZS0NPU0dNNbJ2mnuAt9K9pmimbqbuquRjpnYDvE3rQHHTqIVCi9V8j22my1+u9JYG7A2+noKwvpm1e/kqa6D71IYpJakxCXLiwNJEgc3XnU4t46zkl2NslDyhXXZa6UUNfQTy1dJb3VOoyU8rBzqkG9a4eMafeREj3zzGRjqQeZ0Vm2zklqJNtBsk8vDhdH0skw0h/MYtU76xgIIyaFpmaD5zQVbMXJnZ9p+UOttNupY7fYLFAW1vMw9hqnUUjY6hu8dnTK+rndFqByY6Yubx6g8sovYmw9NYNpbi/ZyXk/mslBUx1MVuvUcVRFXQOghkkgmqp5YR472RE4e+Qay1jhIHFyq/wcuSmiuG2tVYby4Sw2t1ybLC17oRWz2+oFNuQ5rg9rCS+QhpzpiIz1lBRam3J1sZR3SivlVV3yjtUtqojVUlJU7ne3aYQ1UgpKXeVEbt5qp42eI2Q5qGcOoGyOWfbm3RR3Gy1HJ5RWGt0llLUh25rKXTL4k500wbVscGOAc1+h2okOcOvD4M+yVvuNh29qa6jhqZ7bYnVNBLKCXUs4o7rJvYsHg7XDEePwYQUOinfJHtLZbW+rqLzY/d2bRCLfTyVD6aljk1P38lSWZ3o0FmGOY8Eg+94FXrHb7FtjsftFcodmqTZ642GHnUE1AC2KeMRPnwcRsbKHNgmYQ4O05Y4EZwg8novRfgd7C2i9UG1/uzHA1lJboHQ3CZuo2sSw3PfVsY1AZjETJOPwIU05GK/YjaK5v2Tpdk2x0clNUc1vVRUF90qH07N46aQ7veUznjePGmUgaWjQA7SwPICLa7X2nmFxr6HXvOZVtVSbwjBfzad8OvHZnRnHpWqQEREBERAREQduz/1mn/v4v8AUarHVcWf+s0/9/F/qNVjqwkiIiqCIiAiIgIiICIiAiIgIiICIiAiIgIiICIiAiIgIiIAVZVf4R/6bv4irNCrKr/CP/Td/EVJWGJERRRERAREQFZHgwfjjs7/AJnB/uq3XZtlfNSzR1FNNLTzwuD4p4JHxTRPHU+OSMhzHDygoPVnLXyQbWV23lbdbHRTwsdWUUlJdDNBTwwmOjpInzlzn6zGxzH5Aa4uDXANdnBlXLbbLJeOVPZy3VQgnAo3MurA9rY5aiKKuqrfSVGHcZS5sILHcXMmhbxBAHk2TlO2gcC120N8c0jBa66V5BHkIM3EKLtqHiQSh7xKH7wSBzhIJA7UHh+ch+rjnryg952Ko24G2baaSmbatkaG4SRRxwR0FJbTbQ58VDol/CVE02af72w5D5caIxlrfOfhSw19n27r7luZqZ/ujBcLdUSRPbFMYG00sc0D3DTM1sjWg6ScOBBwRhVxtDt/ebiyKOvvF0rI4XNfEypramZjJGZLJQ2SQjejJ8f33pXU2n2quV2fE653GtuD4m7uF1bUzVBiadIIY6d50A6WknhkjJyeKD3vtTcrZRUVbyo02htXXbMUlNSQua1+m4VD9DHS6T98ma80cDse9ZSS8cZXnjwEtt4LftJU09fUCEXqkdSx1MrhqNfvmSwh0shwHSffgC7Op7ox2rp+EfthbYrBs1sjYq2Kvo7bAay4VUGvcz3GQyA6DJhzfvstdLpOQBUxAHxVQKD1ntXdeVqhuMlvZJc60CV7IKykttBLRzxBxEc3OGUpjpw5oDtMrmubnBAKpXZzZvae47SXM0LJ3bS0FRXXCuNPNTwVLKqKtENc+J0b2xPfzioILIiQ4OdpBHBail5VdoooBTR7Q3pkAAa2NlxrGhrQMBjCJcsjxw0jA9C0Fr2hrqWpdW0tdWU1Y8vc+rgqJoal5kdrkLp43iRxc7iSTxPFB7T2brrttBsptHFyh2nm0Fro5JaG61tHzCt502GY7yCJzW6pmuEAbJC1rZN5uyJNRCqzwRPxb5S/+W3/AMhelSG1O3t4usbYbld7lXQsLS2Gqq6iaIOaCA/dPeW7zBPjYzx61rLTfqykjqYaSsq6WKsj3NXFTzzQx1UJa9hiqWRuDZ49Mkg0vBGJHDtKD0v4IOzw6N7R3q00FJc9q6KZkNuhqmxyupIXRRO5xTxye9ne19ZpP5ZpQwHBcDZmwdPthXbJ7Yx7Tc5mr621VHuTQSMpm1rmilqmzbuhpGB7Ncr4WNaW5c5uAOrPiHZfaWvtc3OLbXVdBOW6XS0k8tO9zNQdoeYnDXHkA6XZBx1LvUm315irX3KO8XNtwkiMElbz2pNVJAS07l85k1viy1h0kkZY09YCC9PBPppIdnuU+GaN8UsWz8scsUjXMkjkZQ3xr45GOAcx7XAgg8QQVHPAS/Ha3/4a4/ycqqGm2ouMRrTHca6M3IPFxLKqoZz8SbzeCt0v/pQdvpc7zVnevz74rrWO8VVDM2poaqpo6hgc1s9LNLTzND2lrw2WFwcAWkggHiCg3XK7+MN+/wA5un89OoustXUPlkfLK98ssr3SSSSOc+SSR7i573vcSXvLiSSeJJKxICIiAiIgIiIO3Z/6zT/38X+o1WOq4s/9Zp/7+L/UarHVhJERFUEREBERAREQEREBERAREQEREBERAREQEREBERAREQAqyq/wj/03fxFWaFWVX+Ef+m7+IqSsMSIiiiIiAiIgKef+5raf/wCG73/9vqv/ANaga9g+HbyiXqz7SUUFru1fQwPslNO+GmnkjidM6vuTHSOjadJeWRxgnHUxvkQeV9pNlLlbNAuVtr7eZM7sVtJUUmvHE6N+xur5lpl6+8F/lan2smqdj9rTHdqW5Us5pJp2RtqGSwR710OuNg1OETJZmTfhI3w8CcjRRFv5ILjW7U1uy9va2WppKysgdPMTHBHTUspZz2ocxrjHCW7s8ASTKxoBJAQVwi9CO8HGkrY66LZ7a23X670EL5prVDTup3StiIbIKWp5w9tQdRDQ4N0ansBc3UCqm5KuT+4bS3KO12yNjp3sdLJJK4sgpoGFrX1FQ9rXFkQc9jeDSSXtABJAQRRbey7M19bBV1VHQ1VTT0EYlrZ4IZJYqWMtkfrqHsBETNMUhy7HBjvIrvu/IFs/STS0U/KFaI7hBrZNTOo8Qxzx5D4H1fPdDJGvBaWkBwIIIBGFpOQWyXaq2c20nt14FuoqS3MkudGaWKoNzh5tcXCETSeNTeIyZupnw2fyQgpRFZvIdyRTbSi4VUldT2m1WqJstwuVU1z2RB7ZHNZHEHNEr9MTifHaGjHHLmg/OVbk+s9rooau07V0d/dJUinkpoqV1HUQtMUkm/MUlQ9zosxhucAZkbxQQtuy9wNAboKGrNtbJujX7mTmgl1Bm7M+nRr1EDGesrTq8aaxXc8m81eLyBZRdBG6y80hJdPziJu/57+EHjlrtPV4q0nI7yKz32iqrvWXCksdionbua6V3FjpSWjd08Wtm9IdJG3Jc0F0rWt1Oy0BVKK89pPB/jfa6u7bM7Q0W00FubvLhBBA6jrKeIBzt6KZ8she3SyR3EtJET9OsghRzkH5Hp9rG3fm9WKeW10rKhkO4M76t8gn0QR4kbu3F0IGTn344cEFXovSll8FZlSZLf0ss7do44HyvskYE5ikaM7meqZPrY5uW6i2F2nJOHDBNObBcnFwvF9Zs9BG2Gv39RBPvid1Smk3nOnTvjDsNZunjhnLtIGS4IIcivHbbkZsNvp7judurdV3G3RTufbuZOgM09OHaqWCpdVuZJKXNLQGgnPYqOQEREBERAREQduz/wBZp/7+L/UarHVcWf8ArNP/AH8X+o1WOrCSIiKoIiICIiAiIgIi6NwrxGOAznqPl+Tt+dSZWIt3XEDrOFjNSwHGsZHWo3K+WY5wePAAuA+jK6coe08XY9GSD+0cV47SvVMo5Gu96QfkK5qGRVzmAgO7fL2jtC21uvreDZsg9j8fxY/evUZJTeosNPUsk4seHfJ1/R1rMvQIiIgiIgIiICIiAiIgBVlV/hH/AKbv4irNCrKr/CP/AE3fxFSVhiREUUREQEREBemf/aO/jVQf8v0v/mN1XmZemNqfCjorrM2ouWw9kr52RiFk1ZI2okbC173tiD5aUkMD5JDjqy93lQazwCdlpqramO6aSyjs1NVT1E7hiISVNLNRxQueeAeWzSyfJA5Wp4LG0NLdtpuUOtjbzh9a2SahjicYqiooBUVbCIXEh0bntNCCeGHPZ1cFRfKJ4Q9zuVvks1vo7ds/Z5dTZKK0Q83M0bwN5FNKCAY3kHUI2x6gS12oEg17ycba1+z9xgulsm3NTASMOGuKeJ3CWnqI84kheOBHAghrmlrmtcAvzk/5ZNh9n69twtey94pqyNkkQea98o0St0yMdFPUuYfnHAgeRSXwIbmyrr9vKihZuauriFTbYnFu9jjlmuT2s8Xh4sktGDjhnT6FALh4QFjqZXVtTyfWSa5SEyTVLp/6PNO8l0k0tEaUtkc55LiXucSSckniqr2N5Rq+zXt19tm6pKh088rqaNhFE6GokL5KJ8AcNVJggBuQW6GOaWua1wCIztcHuEgcHhzg8PBDw8E6g4HiHZznK9K+Cj+J3KV/k8f8ld11Lr4R1oqJnV79gLHJdHkyPrJ5GzRvnPEzvpjSDW/V42S8uz+Vniq55LuVSSxWjaK0so46hu0NI2kkmdK6N1KGw1cOtjAwiU4qicEj3g8qDceDpywx7N+6FBcqBt0sd3jbHX0vi71paHs3kQkOiQGORzXMcW5xGQ5unxpPyzclFgm2edthsfVz+5sdTHT11tqy50lHJK6KIRxvfmVr2STQZjkdJqE4e2TSADBeSPlNo7PSVVBc9nLbf6SpnbUNFUdzU08gj3TtxU7uQxtLQ33rQevic4G05VuXB11tUVgtVoo9n7IyUTyUdK908lRM12tpnqCxmtofpdjTkuY0lxwAAn9F/wAGKj/PG/zkCy8pn/B/ZfmWvce6x55o143m8vG83/8AY51jGrhndY/JVSw8rEjdj5NkuZRmKStFZz3fO3gImZLu9xoxjLMZ1dq7fI7y01Fho6q01VBSXux1rt5UWquH3sSjSd7BLpdunF0cTuLXAGJrm6XeMgsj/wBnQJekN0J1czFjm5zqzuNRrKLc7zPia9AqMZ/J3uO1dzwG6ncxbczUr3x7q0iSmfnEjNDbg6F+ex4w0/KFCNpvCBaLXVWjZvZ+g2Zprg0sr5aaV1VWVMZBaY+cuijLWlj5G8Q4gSO0luTmL8ivKxJszDeoY6KOrF5ouZPc+Z0RgAZOzeNDWO3h+/ngce9Qb/wK5HP29sj3uLnuddHOc4lznOdZ7iXOcTxJJOcldWr2+qdmdv7xd6SNkzqe/wB6ZLTyEtZUU8tdUxzQlzeLHFpy12Dpc1pw4AtMQ5GtuH7N3uivUdO2rfRc5xTvkMTZOcUlRSHMjWuLcCcu6uOnHatps1ynCk2iuN9ntNDcIrnNcJKm2Vo31MY7hUGofG1zmkamO0gOc08AeGTwC8ajYzZPlFiuNbs4KiybSxQS11RbZsGlqnkt1y6AXNEbpXNZvYSzSZg58R1DPkpX/V+EVT0dFW02zOy1v2dqbjGYaqviqH1c4icHAtp8wR7lw1Eji5rTxDc4IoBAREQEREBERB27P/Waf+/i/wBRqsdVxZ/6zT/38X+o1WOrCSIiKoIiICIiAiLBWS6WnHvjwA9P/X71JmldO8XDd4a0t1Hjx4/sH71qpbs4jSAC7gA4jq/QYOB+XrXaiss87ySMautzsYA8uM5d5OCzyW5lOMaXSydhLTjt6hniFgyyiWaMZpoZJHE+OM9vHgc+jyLtRhz2ktIByGkZHH5ncDwXaNM5595oGOAPFvEdrD1dS6dRTOByGOYR2tLgPocTw+fCnYjB06uIg4e0A44EcCR6R2n5l09GD6VuYXl+GOYHHqHDGflHUf3hcpbS53FjSAezrAPbgr12pOl+mpp5HMcCHEOB4EHipXY7pvvEfgSN+YOA/wB1F6iiLcntGOv1pE8tkY9pwcgj5RjOV7iWOYr2nqLFSzCRjXjqcM/Ie0fSsqyIIiIgiIgIiICIiAFWVX+Ef+m7+IqzQqyq/wAI/wDTd/EVJWGJERRRERAREQEREBbhmy1xcARbq8ggEEUtQQQeIIIZxGFp1f3Izy87UVF92ft015mfRzXa00UsBgogH0slZTwPiLmwB4BiJbkHPHrQU10TuX5tuH6pUewtMvUHhK8ue01q2rvFvt94lpqOmmhbBA2Cje2NrqSnkcA6WBzj473HiT1qn7tyZyU+ydBtUatjoq65vtraMROEkbmNrHb0zatLm/0M+Lge/HHggr9FYEHJnI/ZOXarnbBFFcxbTR7p28Li2N2932rAH3z3uns61dt05Dtmeh9mrPd63UVTU1komv8AIyukhrdJrP6FHTOm0QvjwGlzQ3JpSe1B5SRWdyT8kE18gr7lPcKS0WK2ybqru9ZqMW9OnRDTwjBnmO8h8TU38NGBlzmtOw215FWw2eS/2C9Uu0drppBHXvp4JqKrodWA2SaincX7nJbk5DhqDtJaHOaFQrs0FBNUOc2CGWdzGGRzYY3yObG0gOe4MBIYC5vE8OIVv8mXIBUXyxMvrLpRUVM2ulpqs1g3UNHTU7N5PWzVBfjQBhoYG8XPbktGXCRciux1TSbS3mh2X2mo5hDs5UTy3VtCyaCppnS0BqKNkEkj91IJXR/fMk/ejwGUHnVFNuSzYmku3O5LhfrdYqWjbCXyVmuWondOZdLaOjjw6pLRC4uwQW6mcDq4SPlW5HGWmz0W0FsvNNfbPWVBpOcw08tJLDUaZXBktNK5zmNxDICXFpBDQR4wyEDuGyFwp7ZSXiakey210skNJVl0ZZNLC+WORjWh2sEOhlHED3hWiXonlK/4UbF/5rdf527rzsgIiICIiAiIgIiIO3Z/6zT/AN/F/qNVjquLP/Waf+/i/wBRqsdWEkREVQREQEREBc4ixpaXjJJIaMZ4kYB/afoXBSzYHZfndZESMxsZvpCfKG8APRqc36Fh3ZdcWfj4ds4hgobMyVhedbnE569PUOGDj95HyLoXigGPwL2F3DOvPjA9ZaOBBXoOm2VYGtiijaMtDSXk8B5T5PkXKn5OmH76QHOGS3LWkA+VgB6/+slc763nw7UcSKedLPYKlzmsLC9h62OGoY48c4Bae3JwtvV7FvOC8OweGRxDMeceGPJgK/6HYYQlz3B0j3cWtbjtzpBBcB1+X0rDW7LvA0OOB+U1uHEcfe9Xk458quWyXrDjY+nn6TYgtxKx3AYPUewnzhk9X7V8FCGHBAHDGeo/Qr1umzrWxkNGGt6h1nJ/JB8irbaegbGH4GMHtHEeTH7VPq37ev8AzRjFwrPaGzhwc5uM4PDHX1eRQgQEZGMjJ7OpWjU4LSep2riB1f2seQHj9CiG0VDu3nTghxcQfQTn5uJ6vStvVk5PJ1+bZtn35iwfyXEfTxWxXQsjMRn9LAXfW3HpoyIiKoIiICIiAiIgBVlV/hH/AKbv4irNCrKr/CP/AE3fxFSVhiREUUREQEREBERAUz5Cfxq2a/5gs3/mNMoYu5Y7pNQ1VNW0sm6qaOohqqeXSx+7np5GywyaJAWO0vY04cCDjiCgs7wwfx3v/wDiKf8AkaVTbaOkln5ILHuIpJtztPK6URMdJu2ubdo2uk0A6Gl80TcntlYOtwVCbXbRVd2rZ7jcJjUVlS5rp5iyOMyOaxsbToha1jcMY0cAOpSXk15Xr/s5FNT2a5vpIJ5N9LCYaWpiMugM3rWVcMjY5C1rAXNwXCNgOdIwF137ZWttPJG6K4076Wapv8NYyCUFszIJWxsjM0bgDE926LtJ46XNzjOBqNvIXP5Itlnsa5zYr5Xb1zQSI9dReA0vI96CS0ZPa4eUKo9oeVG+XCjqqCuuU1VS1lb7oVMczIXulqwxkbZN8Y961rWRRsbG1wY1rGgNAGF3OTrlj2h2ep5KS0XR9LTSSb50DoKSqjEpABextZDJuiQG50YzpGc4QWvBE+v5IN3btT32raB093ijaS/m5EzxI9oGXRNFTRvL+oCB/HxHY4+C7TvpNkeUK41QMNuqbKaGGWTxIqitfBXwxRxOcMOkbLVQM4Zw6pYOsqlOTzlAu2z076mz181FLK0Ml0COSKVrclomgna6KUtLnYLmkjU7GMlbHlF5Xb/tDFHBd7nLU08TtbKdkdPS0+vse+CkijZK9oJAc8Et1OwRk5C14pHN5HXhrnND9pQ14BID2jQ8NcB75uprXYPa0HsC6/gF/wDfd8/5Uuf83bVTPTe5e5HuDzo+5POeec03UGOc9W832733/h1Y9C+bC7aXGxzT1FqqjSTVNLLRTPEcEuulmfHJJFieNwbl0MZ1AB3i8DxKC0eRLk+tb9mr1tdeKOqu8FrqWUcNopZpKUSyFtM6Soq6mEGWOnaKqPizGkRyE6uAFgcob45eSlk1NZTY6aS/RSxUYkrZ2uicHBtUJq5xkkZITgOB08Bhef8Ak15Ub3s2Z/cW4yUYqdO/Zu6eoieWZ0vMNVE+MSDJGoAHHDOFt6rl22nmhucE15mnhu8b4q6KeKkmY+OSIwPZC2SEijaYnEYg3fYesAgLA5Sv+FGxf+a3X+du687KQ3LbS41Nqo7JNVF9rt8ss9HS7uBohlmfLJK8StjEr8vnlOHOIGvhjAxHkBERAREQEREBERB27P8A1mn/AL+L/UarHVcWb+s0/wDfxf6jVY6sJIiIqgiIgIiICvHkpDGtOAA58MPV2jdNxn58nh5FSNPC6R7I2DU97msa0dZc4gAfSVaGwdRNDcKehkaRJFDplwQR97LyMH8pul0f0rV5XnCm9wYnvdeF+WKMascOOMnHXjCmFLTtIHicG8cY6+HDGVE7AcsaeHA4P0lTK2yn5vJhczU7+2ftc+aNaC9zfGIIDeGG54cfK70rSXChZnPAdZ4dvDiVIqt3i8eHBai5MLve9Q4nPkxjt6lnzYNVoXfo2tYSB1j9o6yqZ24ja7LR154enr/erc2pe4NcMcANI7Or5FVl7i4+MM+MCAPp4rXvy28oqFa1o3fiuwNIaPlJJyOHoC0tfBvyGgcG++8hJ4A+XqAHzLcX+PeTyNbn32APLwPHrWoonuY5wcDndu+UgdZ+UEZXQ1x4cHlZeadWjg3bNPaOJ+Ql2P2grMuF2rCJMNaHE8OsAaWuIznHDhj6FzyDxa4OHY5uSD8mQtvGY9NDLGY8/AiIvbGIiICIiAiIgLhuW+Y3uj1LmiKx7lnmN7o9Sm3IlsHDtDd47ZLK6mY+Com3sUcb3gwtaQ3S/hg5UNVxeBz+NdP/AIKu/gYoLO+5EoPzvV/q1Kn3IlB+d6v9WpV6WRRXmn7kSg/O9X+rUqfciUH53q/1alXpZEHmn7kSg/O9X+rUqfciUH53q/1alXpZEHmn7kSg/O9X+rUqfciUH53q/wBWpV6WRB5p+5EoPzvV/q1Kn3IlB+d6v9WpV6WRB5p+5EoPzvV/q1Kn3IlB+d6v9WpV6WRB5p+5EoPzvV/q1Kn3IlB+d6v9WpV6WRB5p+5EoPzvV/q1Kn3IlB+d6v8AVqVelkQeafuRKD871f6tSp9yJQfner/VqVelkQeafuRKD871f6tSp9yJQfner/VqVelkQeafuRKD871f6tSp9yJQfner/VqVelkQeafuRKD871f6tSp9yJQfner/AFalXpZEHmn7kSg/O9X+rUqfciUH53q/1alXpZEHkLlU8GyistnrrpHcaid9HE2RsUlPTtY8uljjw5zeIGHk8PIvOW5Z5je6PUv0D8Jr8U71/h4/5mBeAFUlwETR+S36AuaIqgiIgIiICIiDZbLTMjrqN8pxG2phMh8jN40OPyAZPzK6dorPza+WqqaDmoirad5yMAwRtewDA4niRx81UIvQuz1Xz+02GqJ1y09RVQyuPZJzaWIOcfOIDe8tTkx6l0+BncZa/wBxP/PCytk5oy0HWM54jIwMdeexS+huUAOHSxtd1aS5vzdZyqauGzdRqjEcm5p3uBmk1antYTgiPIwDntcOGc9i0m0HJzUuuIlglPueXSPdK6p1yOZu6cMj0vIcyRj2TnIzqMzfehuFq6tcTEzDo79uUTEVPn8PQ1dUMLdWoEZxkHhx4D9669bVsZF1jJb2/wC6rfYyxTQljXVskrM4cHceAxjVn8rB6x5FF/CIu9bSiCnpHuj3rnNcWniWgHHHsyvPaZlkn7Y/iQ7Z3qnaHh80TXDBLdY/d5cqu7ndaaSJz2yNc3iCQRwUa5NdjWXIy1F3lke0wyiMl7g3fYxG127OtrQTnynTjI4ZjV32QmoWzb2pi0apC2NjnzDBe5zGtDuOA0tblxBwMnisuOmPcy19nI2TMVjcMNRIx8j3xuyWnUB5R+VgejC1d7cWzR4/KZ1+jHEf9eRZKGzTmPf6dBbp4DAB9OOwH6FsLhbHPigqPgxKHj0hpc0j5ws2FNHbjM+/lGbvKx7zHHnIwDnhk57PKNXastvYWxgHhxcceTJ6l0WvDqlo6msIBcO3Ser0nq/Ytu48Twxkk48meKy6o+WPk1jj1fERFnaIiIgIiICIiAiIgK4vA5/Gun/wVd/AxU6ri8Dn8a6f/BV38DFFe5ERFFEREBeevDKjdNNsbSb2oihrtpaWjqebzSwPkgqHRRSs3kTg4Za48exehV5x8Ne2Q1s2xdFUs3lNV7T0tLUR6nM1wVDoopWa2EOblj3DLSCM8EE/2c5DLNQVdPW07rqZqaVs0QmulfPFrYcjXFLKWSN9BCw7W8vVmtlyuVonZXyXC3CkApaanbPNcJa2COohp7dEyXXPLu5AXagxrdJy7qz3uTzkP2d2frPdC0251LV7qSDemrrpxupC0vboqJ3s4ljeOM8FX/JvQxP5VdtJ3xsdNBbrOIZHAF0Qmt1uEu7J96XBoBI44yOolBv+UPaG2Vs2xFZcG7QW6etusbrbRxthpniqL4MU97gkLnNhBDMtYc8XKYcrHKna9mo6c3B88lTWP3dFb6KI1NdWSZa3RBACB757W5c5oJc0ZyQFXnhQ/wDfvJ5/zNH/ABUq1O0m5j5XrY+4YDZdnXR2l8g8TnQkq8sjcfFEml1YADxzK0dbm5C1OTTlMbe55qY2PaKzyQwicG927mEczC8RkQP3rt48EtJGBwPaqv8ACwo+ebR7A26Sapjpa+tusFUymqJqZ0sf/ZXAvhcHcMnB7MlejV588JP8ceTX/Mrr+61IO1th4Pe5ppJ9mb3fbVdYGmWl1XSqno6iVnjNgqo5nk7t+NGc4GvJa8AtO+8HHlX93dmDdrm+OmqLa6opbvK8CCFklHGyaSpcDhsTXU8kcjgMNa4vAwBhWHtptNSWegqblcJ2U9LSxOkke8gZwPFijBP3yZ7sNawcXOc0DJK8dWexXCLki2hrXRSRy3q5e6+6ja9rxb31tuikfp98IXMpppNXUYnA8WnJC96XwjrO58Ek1DfqO1VUzYKbaCttr6eyTPeSI3CqfJrZE8g4e9jR4rydIa4jVbe1sto5SdnKkzObRbQ2ystMsRe7dirpXCZkoYTpMj3voIuoHgeJzhaN3Jpftp9l6WgG1FpdZa6ht7oGU9k3TmQQGnnp42PbVZjcwwsYRgEaXNIHELaeF9Z56XZa1XSN4mrdlrjaLhvtJBlMLo6WQ4ySxrp5IJD14EfzoIL4Vu2lbSbX2qsppZG2zZd1nmuwie8aXXSsle9k0bTiRj6WlibjGfvvDryLU8Ierkrbtsfs7TySR+6N4NyrXROIDrbZojUTwSFrgQybeYHZmL5jWcFpbtRsnyi35sbz7tVs9Rb3aXb2ag2biidbSGY1Ne4wTM0Yzlzh2raeCpfH7UX2S/y7xzLLszZ7DG54IZLXzsFTc52Ajg9s0cjM9rZWdeRgLI2QrLZ012nZBNeJLrFRW91fTzuhdaYojSUjoPc6Nv30TOj3Rdq4FxfjsUK5MvCIqq+93qiqrJe30sNXQU9vjpbRNzqgbUGdspvmZiKU5EZBP5MUpxwXd5Mf+KO3H+XWT+Qt65eDp+OfKSO3n9nOPRu7nx+TiPpQYL94QNRSbXz2g2e8z26moJy6CmtM01ynrIax8HPKdol++2h0bPFmAAJcFftrqxUQQziOWITxRzCKdhjmjEjA/dzRnjHK3OC3sIIVHzOA5WowSBnYsgek+6bzgeU4BPzFXygIiICIiCuPCa/FO9f4eP8AmYF4AXv/AMJr8U71/h4/5mBeAFYSRERVBERAREQEREBWxyHXMGlr6R54wvgrIBnqc97YJcDyYLe8qnW42Mq3Q19MWuLQ6Vkb8HGpj3AFp9HV9AWPbj2xmGxxdnTZE/Hqf5L1zbXiSIMwDkDgeo9h+VdhtjY4eMOHXxwcY6uDQM/OtTYbg1gaHYzgD6O35Vsp79I94hpog44BdI/xY4xniSe0+gcSuXFRD63LrMRMOxTsa1zA1ojja4ANbgAfR6Qqq5f6ln3p+MyNlbjq6jn5+pWOHyyy7rOXasOI4A48gPABVDy8072zMBGlsnVIT4vDPi8Oo8Exxl6nXEYzPzTo7BESvMT26XEZBHDGRx4j0KU1+xMDyJZw+QN8Zoe9zmg9fvS4tGMKrbHtLHSXFrIHteHMa1+slw1N7Qc+KT2q35dot7T+M0NOkHHDTxHWCPQrnFMOGWEzU/CtNuK4R5iZG0NY0tZpAAAOBgehRWef/s/Vk5HOAfq3YOO1dvbe6NlqSPyePAYyQOJ/cVrK54FHIzIIlm4AE50lpzjHZgBbOnFyedsjtUfCK22NpHV73iCesl3Xk+gAfSu8vjWgDAGAvq3McesU5O3Z3ysREXpiEREBERAREQEREBXF4HP410/+Crv4GKnVcHgePDdqqcuIA5lXcSQB7xnaVFe5kWHnUfwkffb6051H8JH32+tRWZFh51H8JH32+tOdR/CR99vrQZlDOVPk0t20jKSO5c5xQzmppnUs76aSObSGh4kj8YOGAQRjB4qW86j+Ej77fWnOo/hI++31oKytPIXbKaogqWV20Dn080U7Gy3mulic+GRsjWyRPfpkjJaAWngQSFK7PsJQ0l5uN+hbKLhdYqeGrc6Quicyliihh0RYwwhkLOI6+KkXOo/hI++31pzqP4SPvt9aCPbZ7C0N3qbVV1jZTNZqwV1EY5DG1tQDGQZGj8I3723gfSupyp8mdq2lghhutO57qWQy0lVDI+CrpJHABzoJ4zkA6WEsdlpMbCQSxpEs51H8JH32+tOdR/CR99vrQQfk65KaKyVLq2Osu9wrDTPoxU3a4T1z2U0kkMr4o2OxGwF9PCchufE6+tZeVLkstu0clBNcDVtlthqHUclHUyUkkbqncb12uLxtX9Hjwc8OPlUz51H8JH32+tOdR/CR99vrQVVS+Dts5v4qirp626vgOqJt2uFbXwsJxnME0m7kacDLXtcDjiFas9JE+J0D4o3wPjMT4XMa6J0Tm6HROjI0ujLSWlpGMHCc6j+Ej77fWnOo/hI++31oKkh8Hazwue2jrdoLfRSOe99robvV09uc55y/7yCXgHiMB4HH5MWLfdlaSttc1mnjcaGaj5i6MPdrEG7ETdMhy7W0AEOOTkArbc6j+Ej77fWnOo/hI++31oNHsJsXQ2W1w2ahic2hgbOxscr3SucKiWWabW93F2p80nzHHUF0eSfk3tuzFHLQ2mOWOCaodVSGaR00jpnRxRE63cQ3RCzDeocT2lSrnUfwkffb6051H8JH32+tBHbPsHQ0l5uN+hbKLhdIqeGrc6Quicymiiii0REYYQyFnEdfFR++cjVsqb2L/FPc7fcHuhNWbbWyUkNwFPo3bK2IAiWPEcYLWlocG8ckkmwudR/CR99vrTnUfwkffb60EE5TuSK23+qpLhUSV9DcqFhip7la6p1FWshcXkw75rTmP75L2ZG9kwRqOZ1bqUQQxQtdI8QxRxB8rzJK8RtDA6SR3F8hAyXHiSSV951H8JH32+tOdR/CR99vrQZkWHnUfwkffb6051H8JH32+tBmRYedR/CR99vrTnUfwkffb60FfeE1+Kd6/wAPH/MwLwAvffhL1DHbKXoB7Cebx8A5pP8AWYOwFeBFYSRERVBERAREQEREBc6eQsex462Oa4dnFpBH7lwRRXpLZm9R1lPDINQEjQRgjOrqc0eUggfSs9ZcpGPjYwSgOzgRte8gNzxkLc6flKpfk+v5izSvdpaX72F+SNEjQSW8OsHGR6QPKrt2PvW/3b3DG9Ba/wB778BpAGT2nr8i4+7VOGX6fQcbkRnjDG65zse6ppquB0oaQ6LeRhpAaG8BqyDnt6+PUqh5TZrvcWNFQx1O2PW4aQA1/EnVnrwAcfSr5utvpo9UssDXDi5wMbXA46gTjrVe7RPoZi8CjaHYIAcSfT4rTnDetZMesesnRzxxyxrtP4eeqGkfSP3kr2tLTkNcfGPZ1dqsPZO5V9VTv3cLt2CAHSAjV1jxR2jiPoXGt2fjllBip9LS/L3aMDGerOMgetb653b3OpssLQGNcCB6Q4DgOo5TPKMvXmXNjD6czN+EC29kayrETSNTGu1uByMjqAPZjP7Fwnc4U8bT1B/X/wCE8M9v/oo9FM6aZ8vv5JHZwRkeM709Zzxx/ZUmuLdMLW+SVwJ8pDeJ+nK29WNU5m7PvctaiItppCIiAiIgIiICIiAiIgLi9gcMEAjyEZH0FckQYubR/Bs7rfUnNo/g2d1vqWVEGLm0fwbO631JzaP4Nndb6llRBi5tH8Gzut9Sc2j+DZ3W+pZUQYubR/Bs7rfUnNo/g2d1vqWVEGLm0fwbO631JzaP4Nndb6llRBi5tH8Gzut9Sc2j+DZ3W+pZUQYubR/Bs7rfUnNo/g2d1vqWVEGLm0fwbO631JzaP4Nndb6llRBi5tH8Gzut9Sc2j+DZ3W+pZUQYubR/Bs7rfUnNo/g2d1vqWVEGLm0fwbO631JzaP4Nndb6llRBi5tH8Gzut9Sc2j+DZ3W+pZUQYubR/Bs7rfUnNo/g2d1vqWVEGNsDAchjAR2hoB+nCyIiAiIgIiICIiAiIgIiIPrOsfKOpXJsvNLbKlsM2t9PUNYYKnSHZkzwjkHU13ADs1asqorbSunmihYCXSSNYAPSQM/IBx+ZekXWyOan3MzA9hAaQR2dWQew9WD2LS5UxcRP7dLga5yjKY+KSdt91RtDmxnIy4nHHhjgAOI4HitDfJKcFx3bA8Z1ENGeJI4ZGDk44eRR250Nwo26qYCsjDSGMLmxzMjAxujqOmTqHjcCodftoq1uSKCdjng5Dy04e4EOw5riNPqC0+n4dOORGMfc7O0e07YnvhIYSQSCwBudAJ8Uflf/ANVTbX3l1TJpc52katPp4uwCBwIyP2elcrnFWPe58jDqHvXOdnQOIPAA/wDrhaJ9O5jsu4u7T5Pkx2LZ164xhzuTyMts16hsbNGIwHdTz1Y/efSpDWtLqUP68Tfscw//AJAqKU7yHgkn1Ka2uRj6Z8bupzMfIesEeQ5AWeMvNy1+t4zCPotGy6GnmkhqJC9owY5A0atJzwe1g6x6AtpSVsUv4ORr/QDxHytPELYibakxXh2ERFUEREBERAREQEREBERAREQEREBERAREQEREBERAREQEREBERAREQEREBERAREQEREBERAREQEREBERAWOombG0ucQAPpPoHlK1d3vjIssjxJJ1Hj4jD/aI6z6B+xR9tQ6R5fI4uc7tP5PoaPyR6EHojwdtld+wXaZ+t0r5Y4Ix+Dp443uY4HHvpnaeLj1DgOsq530+kE+TP7yqF8FXbuOlqXWaseGQ1smuikdwayrIw6Bzjwa2UNaW/2gfOXpe6UYwRjtP/AF8q5PIxyjZPb/P47/Dzw+nj1/3+tI+AuYSOIP0jA6jhaO52tj85APpGPmUlonY8X/ZYK6Icc9ZHyf8AovMT4Z9mFqk2nszQx2mM5+TH7ScKrLpZywuBGOzyntPYvQl7gB1cPk7eztKgN1s+p5JHzjj+zyrJjnTXz0Kfrafd6c4Havvui5oAaeI/2Wz24iDJQ0DGB29efkUQulQYmHz3jDfn6z9C2MPLS3fZNNLc5zJM93Xxx9HD6F1mkjBGQQcgg4I+QjqWQRr6GraiKc+Zvy2VBtBPHgOxM3+3wd3x/vlb2i2ggk4OJid5H+9744fThRAtXzSvSLFY8OGWkEHtBBH0hclXcEr4zljnMP8AZJbn5cda2lJtBOzg/TIP7Qw7vN9SCYItLSbRQu4PDoj5T4zfpHH9i28UjXAOa4OaeotIIPzhBzREQEW/2H2dZc5auE1kdJJT26ur4GvhkndWPoYXTvpImxkFsjoo53avGIELsNd1DrWHZi43Bm8obbcK2Pj99pKSpqYgW8CN7DGWagezOeCDUouxcaGamlMNTBPTTtAc6Gpikp5mgkgF0UzQ8AkHiR2FddAREQEREBERAREQEREBETKAiLsUtBPMyaSKCeWOnYJKiSKKSSOnjcdLZJ3saWwsLuAc4gZQddERAREQEREBERAREQEREBERAREQEREBFiqahkTS6RwY0drjj5h5T6FHLntMTltOMf8AzHDj8rW9nz/QgkFdWxwjVI8N8g63O/RaOJUWu1+km8SPMcZ8h8d3yke9HoH0rVSyue4ue4ucesuJJ/b+5cmDtPWgNGCB5FlYOK4M8q5s/wB0SZZ2PI7SCCCHNOC0g5DgR1HI61608HPlebdY47Vc3tFxjZpgncQ0VkbQAP8A64HWOGeteRys1NO6N7XxvdG9jg9j2Etcx4OQ5rhxBB7Vj2a4zhl07p1z49fL9Dqy3lrgQ3IXRuFIdJI+cFUxyQeEUzRHRX8aXNAay4sBLXjqHOWNBLHYx448Xgc6V6BjnpqynE1LNFNE9upskbg9j+GQWubkOC5+eqcPbuauRGfqbV7Xwg5H7McB1dS6MllLmOcB2Z/YpcyiDnaSOHb2/Lg+hZto6ylt1vqKurlbDTQRkySP6w3hpa1o4vkcSA1o4knCx44zMs2WVeZeW+USjZE6aom8SOPAB6tTuOlrQffEnyKnqud08hkcMDqa3sa0dQCk3KRta+8VbptJgpWOcKanOMsaT7+Ujg6Zw4k9QzgcOJjLupdPVr6xc+3B5O7vlNemIoFzcuJWRrPmF8wuS+Kpb5hfHhcwvhCPTEVnoqySF2qNxb5R+S70Ob1FY3DtXEBBYyIiC++SDb3mVNQ3W9y2+tpaAMsVooqejopr9SvwwGobIGsliom0hka7L3GQlg06nAv6XL7tWx9ZdqWYX+23Siq4aa300dwDrKaOKT+ttpWMjdTGal0yNDdeTJF4wAcFDNhaaOtsl/oY6SmluUAo7tSTbkOr3UtLLouUNPN74BkLo5RG3i4On4HhiI7ypuFUzVJPW1lXLDCx80r5p6iaQsggYZpnEvcSY2DUerSOACKm2xW1r7i+Cx36eWtt9XI2npquocZ66z1c7t3T1lJVSZlMG9dG2SF7iwszgDBDoLeqCSjqKmlnAE9JPPTTNGcCWnkfFIGkgEt1sOD2jCtDZzkuuJoqxrLLXs2jtd2t0jHVBZHQSUUrZODDL/RqoR1FPqe5riNEzCCQHNMR5Y6hk95r547jSXY1BZLJW0NO6kpJZnQsD2wROkkyxpaBrD36+LskkoJdfeSm3Wo0TrxtJFRxV9FTVUDYrdU1VRrlaTNvIoZCIaWMmPEzjmQl4DW6CTrqzkfrWbQOsLaineG0wuDri7MdMy2acvrpGai5gDvvegE+OQNWk6xm8Juuhqa20up5op2t2WtUZdC9krWyCSvcYyWEgP0vYdPXh7fKrSuW21BS7VDe1tLHS3LY2ktgr/vNTTUlS9880LqkO1RGHTjU14LfvkerDSSiKfrdhLfUUVfV2O+e6z7VAKmuppbfPbpDSai2StpHTSOE0TDxcw4c1uCTkta7U8oWxxtEFnmNQKj3WtFPdNIi3XNzO0O3Gdbt6Ggt8fxc8fFCsnaKK+0VBcH1t52UpKeegqqbTb4rOaq6xzR4fR0Yo6JsxZKOGslmnxXEDGW8dstn27SWjZuqobnaIGWyyQ2y5ivrWUr6GamZG1z5I3NLnRnEhHUSAwt1B+QVpaXkZdJfaCyC4jVW2SO8c4FKSIzI2cc2ERnGv75B+E1N4P8Ae8OPVtvJZBWVcVuoL7S1dbE2aa8ObS1MdutVNTtbv5m3CQhleGyuEY3YbqLgToAcRblNe6Bu3dnmir6V9GzZCGFlUZomRkt5/I1r3F2I5TCWv0HiA4cFTPg83ukp33K3XCoZRU98slTa+eyeLHSTyx6Y3zOPBkRDpAXEgAhmcDJBHYk5NqCspa2awX5t3qLbTuqqqikt9Tb5paaM4lqKIzPdv2t8wDPFvHLmh3KHkyoobVabzdL8ygo7nHM7dsoKisqmyxyYjigigeTMwxhz3ykNDCGNw8vGJNye2Loe64Xe7V9qe91qqqK30VBWMrJq+oqXQlrmNY0FtK0xNy9w4CTJDdPGM8qVZC/ZnYiGKaKSSno7uyZjHse+ImoomtErGnMZJjfjVjOh3kQd6/cklvtc0XuttNTU1FWtjktdRBQ1NTLVwSMY41M8Eb9NDTsMjBrc9wdxI04ONezkcrPd+ssclTBFHQU5raq6SNcKWO37tkgqjHqyHHeBu7LhhzJPG0tL198IqtinptmRBNFMY9k7fHIIntkMcgY8GN4YTokyD4pweCtTa/aW3TbTbQ26W4UsFPf9nKa2w3HeMkpYKrcSmJs8rHaWRubUEkkgeKwflhBXOz/JRbrsax1n2kZVx0NFUVM7ZrbU0lSHxtzDu4p5AJaWRweDIDmMhgLXawRvaTZaxP2Kje+9xRMdfWvfdvcSskmjqHUADrZuGu3742tJdvQ7dnHVldrka2RGz9XdZbrdLOyolsNwgpqamr4qh0jHGKWaokdhoijG4jDA7Dn65DpG7KjvJ/SsvGx89ip6uigukF8ZcmU9bUR0nOKU0ccBdA+Tg9zXl+R2aBnGpuStNbOTqjht9Nc75em2qmuDpvcyGOhnr6ysgiIBq3QRPBp6fBa7jnhJHxBc0Gb8k+zMEdLtrQU13oKulmstue26t1w0sUMpuDpH1cbsvp5Imte58eXEAN7TgdK/WZu1FosDLfXW2K4WKhNpuFBWVcVO/FPuoo6umfksnp37gu1tJaRI3jlpC6+x1DT2m3bbULrpbqyR9joQJKOcPgfUufWtlpKeR+nnT43PiaXMGMytGAcgERy7cnlE+0Vl2st7F2ZbHwNuMElvqLdLEyodojqIW1Dy6SLJPAgcI5OOWFqrpWfyT10MWzu20ck0Uck1FaWwse9jHzOFRWAiJjjmQgvZkNzjW3yqsEBERAREQEREBERAREQEREBERAWpvl5bB4jcPlIzj8lueou9S7lzqxDGXflHxWDyu9Q61BJWuL3ayS4klx8pPHKEy+1c8kztUjy53ZnqA8jR1NHyL5FH5VyYxZQjzb5p9CBqyL4ULfAF8K5AoUQC5YXFq5hBxK22y21dwtT9dvrZ6Yk+NGx33mTy7yB+Y3nh1kZWpeuLipMX7escpifHheOx/hDVUTg250rZ28A6elIil7PfQyO0P4Z6nN+RQvli5TqraKoG8Bp6CB2aWiactacY385HCSpI7epoJDe0ugIGFw6z6F4x14xNxDNlytmWPWZc3FfB1JlfXrIwOLl8X1/YiI+EIAvq+FAC+oetAg49nzrivresj0ri7rA9KLaxUREenbs1znoqiGrpJn09VTyCWCeMgPjeARkZBBBaXNLXAtc1zmkEEgzKXamyVrt/cLHPS1hcJJKiw1zaKGeXOS/mFVBLFSuJwSYXAEknAKgSIL/5KeVx4qTaKBtNaKOqguL2196uNVcZoriaOR9JVTVVW9sEcRmiiDoGxaSZHEEuJ1U/tbtG2vjo2C22qhlpWzsmntlLHRiudK9jmyTxwgR5YGYbpAH3x+MAho0CIr4AgC+oiPgaB1ABC0deBlfUQfMDyL6iIPgaB1AD5EwvqIN1atk7hVU5qqejllgG+Ie3dh0u4bqnMETnCSq0N98Ymu04OcYWNuzFcaM3AUkvMxG6YzeIPvDZN06oEWreuphIdJmDdAIILuBU75O9prXRNtMk0scMlKKxlaJLa6vrHSVMlU2OajrJHFlDRthngLmQBkuqGfxZDLqWjuVfbpqenmdXVrJ6axUtmNDSxOhfO+kp20Rc6rfmL3MniaZXxOGsmR7NPHUg0l02OuFJC2aegmijc+KPqY57JZ2l8Ec0EbjLTyvAOlkjWudjgCthdOT+vpqPnFTTyxzOuVJbIaQRtmknmqoK2Uta6GR2mpY+kZGact15qWZ08A6dDbi1UslVPTyQytN2s1zpaWO1up53wWy4mpdTV1ymc+esuBhkH3yV7otUL3B+ZNI1ezW09rs7onQ1dTcsX+C5SA0j4C2j9zbxQPdid+JLgx1wje4cGOLGBrzxLQhtRsTcmzw0rqCZ09QyeSnjj3c++FMxz6kRPhc5kkkbWkuYDqbkAgFwBy1+wl1giknloJWwwwuqHSh8D2GCNuuWeExyHnETG8Xui1Bgzq0qUja6jpo46WGanfG2nvzy+3Wz3LpW1Nwsc1rpA2J2Z5J3PLN5IdLGtEQGvSXLWWbaalidaC9zw2i2fvlumxGTpqrh0g3DWD8ph90aXLhwGXZ96gi9VYKuKSqjkppGSUMTJqtrtP8AR4pHQMje85xpc6ppwME53rcZWuVj7bXHd2K2skjmhuV0pqOOvbMxzHSW+wyVVNa5y2TD9NQ2SA6yPG9ymkEgjNcICIiAiIgIiICIiAiIgIiICIurdandQySdobw/SPBv7SEGgvtVvJSBxbHljflHvj9PD/wrWy8flH7li3q4GVHmWZfcLrslX3eoOwuLjwWAyrg6XsQdhrsYXPK628TeIjs5X3UusHr46RCnYLlxcVgEia0Vn1LiSsWtC5CIZgV9JWDUmtFplcepMrE53ampEplymVhL0D0IhmBXEO4rEHIXItObzh2fLhcZPfD5Vwe7qXxzuIRVlooZ0rn8yHuv9tOlc/mQ91/tqLSZooZ0rn8yHuv9tOlc/mQ91/toUmaKGdK5/Mh7r/bTpXP5kPdf7aFJmihnSufzIe6/206Vz+ZD3X+2hSZooZ0rn8yHuv8AbTpXP5kPdf7aFJmihnSufzIe6/206Vz+ZD3X+2hSZooZ0rn8yHuv9tOlc/mQ91/toUmaKGdK5/Mh7r/bTpXP5kPdf7aFJmihnSufzIe6/wBtOlc/mQ91/toUmaKGdK5/Mh7r/bTpXP5kPdf7aFJo4knJJJwBknJwAGgZPYAAPkAXxQzpXP5kPdf7adK5/Mh7r/bQpM0UM6Vz+ZD3X+2nSufzIe6/20KTNFDOlc/mQ91/tp0rn8yHuv8AbQpM0UM6Vz+ZD3X+2nSufzIe6/20KTNFDOlc/mQ91/tp0rn8yHuv9tCkzRQzpXP5kPdf7adK5/Mh7r/bQpM0UM6Vz+ZD3X+2nSufzIe6/wBtCkzUd23qMRxR+e4uPyMHD9p/Ytd0rn8yHuv9ta67XN9S5rpAwFo0jQHAYznjknillOvqXzUseUyhTJqTUseUyhTmXICuGUyhTJqTUseUyhTJqTUseUyhTJqTUseUyhTJqTUseUyhTJqTUseUyhTJqX3WsWUyhTJqTUseUyhTJqXwuXDKZQpzz2L5lccplCnxERRRERAREQEREBERAREQEREBERAREQEREBERAREQEREBERAREQEREBERAREQEREBERAREQEREBERAREQEREBERAREQEREBERAREQEREBERAREQEREBERAREQEREBERAREQEREBERAREQEREBERAREQEREBERAREQEREBERAREQEREBERAREQEREBERAREQEREBERAREQEREBERAREQEREBERAREQEREBERAREQEREBERAREQEREBERAREQEREBERAREQEREBERAREQEREBERAREQEREBERAREQEREBERAREQf//Z\n"
                },
                "metadata": {}
              }
            ]
          }
        },
        "7d01946cdd6b4b3fad2e811b27c8a60c": {
          "model_module": "@jupyter-widgets/output",
          "model_name": "OutputModel",
          "model_module_version": "1.0.0",
          "state": {
            "_dom_classes": [],
            "_model_module": "@jupyter-widgets/output",
            "_model_module_version": "1.0.0",
            "_model_name": "OutputModel",
            "_view_count": null,
            "_view_module": "@jupyter-widgets/output",
            "_view_module_version": "1.0.0",
            "_view_name": "OutputView",
            "layout": "IPY_MODEL_1873424338f049bd91a8d61b761756c9",
            "msg_id": "",
            "outputs": [
              {
                "output_type": "stream",
                "name": "stdout",
                "text": [
                  "Video available at https://www.bilibili.com/video/BV1TP4y147pJ\n"
                ]
              },
              {
                "output_type": "display_data",
                "data": {
                  "text/plain": "<__main__.PlayVideo at 0x7cc3ccd34cd0>",
                  "text/html": "\n        <iframe\n            width=\"854\"\n            height=\"480\"\n            src=\"https://player.bilibili.com/player.html?bvid=BV1TP4y147pJ&page=1?fs=1&autoplay=False\"\n            frameborder=\"0\"\n            allowfullscreen\n            \n        ></iframe>\n        "
                },
                "metadata": {}
              }
            ]
          }
        },
        "fab2d1547bf741cd9630f6a54e126da8": {
          "model_module": "@jupyter-widgets/base",
          "model_name": "LayoutModel",
          "model_module_version": "1.2.0",
          "state": {
            "_model_module": "@jupyter-widgets/base",
            "_model_module_version": "1.2.0",
            "_model_name": "LayoutModel",
            "_view_count": null,
            "_view_module": "@jupyter-widgets/base",
            "_view_module_version": "1.2.0",
            "_view_name": "LayoutView",
            "align_content": null,
            "align_items": null,
            "align_self": null,
            "border": null,
            "bottom": null,
            "display": null,
            "flex": null,
            "flex_flow": null,
            "grid_area": null,
            "grid_auto_columns": null,
            "grid_auto_flow": null,
            "grid_auto_rows": null,
            "grid_column": null,
            "grid_gap": null,
            "grid_row": null,
            "grid_template_areas": null,
            "grid_template_columns": null,
            "grid_template_rows": null,
            "height": null,
            "justify_content": null,
            "justify_items": null,
            "left": null,
            "margin": null,
            "max_height": null,
            "max_width": null,
            "min_height": null,
            "min_width": null,
            "object_fit": null,
            "object_position": null,
            "order": null,
            "overflow": null,
            "overflow_x": null,
            "overflow_y": null,
            "padding": null,
            "right": null,
            "top": null,
            "visibility": null,
            "width": null
          }
        },
        "e802dce73603446c852861c8137e97aa": {
          "model_module": "@jupyter-widgets/base",
          "model_name": "LayoutModel",
          "model_module_version": "1.2.0",
          "state": {
            "_model_module": "@jupyter-widgets/base",
            "_model_module_version": "1.2.0",
            "_model_name": "LayoutModel",
            "_view_count": null,
            "_view_module": "@jupyter-widgets/base",
            "_view_module_version": "1.2.0",
            "_view_name": "LayoutView",
            "align_content": null,
            "align_items": null,
            "align_self": null,
            "border": null,
            "bottom": null,
            "display": null,
            "flex": null,
            "flex_flow": null,
            "grid_area": null,
            "grid_auto_columns": null,
            "grid_auto_flow": null,
            "grid_auto_rows": null,
            "grid_column": null,
            "grid_gap": null,
            "grid_row": null,
            "grid_template_areas": null,
            "grid_template_columns": null,
            "grid_template_rows": null,
            "height": null,
            "justify_content": null,
            "justify_items": null,
            "left": null,
            "margin": null,
            "max_height": null,
            "max_width": null,
            "min_height": null,
            "min_width": null,
            "object_fit": null,
            "object_position": null,
            "order": null,
            "overflow": null,
            "overflow_x": null,
            "overflow_y": null,
            "padding": null,
            "right": null,
            "top": null,
            "visibility": null,
            "width": null
          }
        },
        "1873424338f049bd91a8d61b761756c9": {
          "model_module": "@jupyter-widgets/base",
          "model_name": "LayoutModel",
          "model_module_version": "1.2.0",
          "state": {
            "_model_module": "@jupyter-widgets/base",
            "_model_module_version": "1.2.0",
            "_model_name": "LayoutModel",
            "_view_count": null,
            "_view_module": "@jupyter-widgets/base",
            "_view_module_version": "1.2.0",
            "_view_name": "LayoutView",
            "align_content": null,
            "align_items": null,
            "align_self": null,
            "border": null,
            "bottom": null,
            "display": null,
            "flex": null,
            "flex_flow": null,
            "grid_area": null,
            "grid_auto_columns": null,
            "grid_auto_flow": null,
            "grid_auto_rows": null,
            "grid_column": null,
            "grid_gap": null,
            "grid_row": null,
            "grid_template_areas": null,
            "grid_template_columns": null,
            "grid_template_rows": null,
            "height": null,
            "justify_content": null,
            "justify_items": null,
            "left": null,
            "margin": null,
            "max_height": null,
            "max_width": null,
            "min_height": null,
            "min_width": null,
            "object_fit": null,
            "object_position": null,
            "order": null,
            "overflow": null,
            "overflow_x": null,
            "overflow_y": null,
            "padding": null,
            "right": null,
            "top": null,
            "visibility": null,
            "width": null
          }
        },
        "cf2e3f42b22d4c8b8d59848cc1880191": {
          "model_module": "@jupyter-widgets/controls",
          "model_name": "TabModel",
          "model_module_version": "1.5.0",
          "state": {
            "_dom_classes": [],
            "_model_module": "@jupyter-widgets/controls",
            "_model_module_version": "1.5.0",
            "_model_name": "TabModel",
            "_titles": {
              "0": "Youtube",
              "1": "Bilibili"
            },
            "_view_count": null,
            "_view_module": "@jupyter-widgets/controls",
            "_view_module_version": "1.5.0",
            "_view_name": "TabView",
            "box_style": "",
            "children": [
              "IPY_MODEL_4bdd68ddcdd04b9f944af33b7424109b",
              "IPY_MODEL_9c843c1a38bc48dfa02ecec305e4eadc"
            ],
            "layout": "IPY_MODEL_f104ab4553f24315aabb166873ab79c8",
            "selected_index": 0
          }
        },
        "4bdd68ddcdd04b9f944af33b7424109b": {
          "model_module": "@jupyter-widgets/output",
          "model_name": "OutputModel",
          "model_module_version": "1.0.0",
          "state": {
            "_dom_classes": [],
            "_model_module": "@jupyter-widgets/output",
            "_model_module_version": "1.0.0",
            "_model_name": "OutputModel",
            "_view_count": null,
            "_view_module": "@jupyter-widgets/output",
            "_view_module_version": "1.0.0",
            "_view_name": "OutputView",
            "layout": "IPY_MODEL_537f4b30ff724b6fa588c7e909badf61",
            "msg_id": "",
            "outputs": [
              {
                "output_type": "stream",
                "name": "stdout",
                "text": [
                  "Video available at https://youtube.com/watch?v=8-5RM0k3IKE\n"
                ]
              },
              {
                "output_type": "display_data",
                "data": {
                  "text/plain": "<IPython.lib.display.YouTubeVideo at 0x7cc3d1469e10>",
                  "text/html": "\n        <iframe\n            width=\"854\"\n            height=\"480\"\n            src=\"https://www.youtube.com/embed/8-5RM0k3IKE?fs=1&rel=0\"\n            frameborder=\"0\"\n            allowfullscreen\n            \n        ></iframe>\n        ",
                  "image/jpeg": "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\n"
                },
                "metadata": {}
              }
            ]
          }
        },
        "9c843c1a38bc48dfa02ecec305e4eadc": {
          "model_module": "@jupyter-widgets/output",
          "model_name": "OutputModel",
          "model_module_version": "1.0.0",
          "state": {
            "_dom_classes": [],
            "_model_module": "@jupyter-widgets/output",
            "_model_module_version": "1.0.0",
            "_model_name": "OutputModel",
            "_view_count": null,
            "_view_module": "@jupyter-widgets/output",
            "_view_module_version": "1.0.0",
            "_view_name": "OutputView",
            "layout": "IPY_MODEL_6e51372218cd458b9696a30db3cca931",
            "msg_id": "",
            "outputs": [
              {
                "output_type": "stream",
                "name": "stdout",
                "text": [
                  "Video available at https://www.bilibili.com/video/BV1uL411H7ZE\n"
                ]
              },
              {
                "output_type": "display_data",
                "data": {
                  "text/plain": "<__main__.PlayVideo at 0x7cc3ccd3f890>",
                  "text/html": "\n        <iframe\n            width=\"854\"\n            height=\"480\"\n            src=\"https://player.bilibili.com/player.html?bvid=BV1uL411H7ZE&page=1?fs=1&autoplay=False\"\n            frameborder=\"0\"\n            allowfullscreen\n            \n        ></iframe>\n        "
                },
                "metadata": {}
              }
            ]
          }
        },
        "f104ab4553f24315aabb166873ab79c8": {
          "model_module": "@jupyter-widgets/base",
          "model_name": "LayoutModel",
          "model_module_version": "1.2.0",
          "state": {
            "_model_module": "@jupyter-widgets/base",
            "_model_module_version": "1.2.0",
            "_model_name": "LayoutModel",
            "_view_count": null,
            "_view_module": "@jupyter-widgets/base",
            "_view_module_version": "1.2.0",
            "_view_name": "LayoutView",
            "align_content": null,
            "align_items": null,
            "align_self": null,
            "border": null,
            "bottom": null,
            "display": null,
            "flex": null,
            "flex_flow": null,
            "grid_area": null,
            "grid_auto_columns": null,
            "grid_auto_flow": null,
            "grid_auto_rows": null,
            "grid_column": null,
            "grid_gap": null,
            "grid_row": null,
            "grid_template_areas": null,
            "grid_template_columns": null,
            "grid_template_rows": null,
            "height": null,
            "justify_content": null,
            "justify_items": null,
            "left": null,
            "margin": null,
            "max_height": null,
            "max_width": null,
            "min_height": null,
            "min_width": null,
            "object_fit": null,
            "object_position": null,
            "order": null,
            "overflow": null,
            "overflow_x": null,
            "overflow_y": null,
            "padding": null,
            "right": null,
            "top": null,
            "visibility": null,
            "width": null
          }
        },
        "537f4b30ff724b6fa588c7e909badf61": {
          "model_module": "@jupyter-widgets/base",
          "model_name": "LayoutModel",
          "model_module_version": "1.2.0",
          "state": {
            "_model_module": "@jupyter-widgets/base",
            "_model_module_version": "1.2.0",
            "_model_name": "LayoutModel",
            "_view_count": null,
            "_view_module": "@jupyter-widgets/base",
            "_view_module_version": "1.2.0",
            "_view_name": "LayoutView",
            "align_content": null,
            "align_items": null,
            "align_self": null,
            "border": null,
            "bottom": null,
            "display": null,
            "flex": null,
            "flex_flow": null,
            "grid_area": null,
            "grid_auto_columns": null,
            "grid_auto_flow": null,
            "grid_auto_rows": null,
            "grid_column": null,
            "grid_gap": null,
            "grid_row": null,
            "grid_template_areas": null,
            "grid_template_columns": null,
            "grid_template_rows": null,
            "height": null,
            "justify_content": null,
            "justify_items": null,
            "left": null,
            "margin": null,
            "max_height": null,
            "max_width": null,
            "min_height": null,
            "min_width": null,
            "object_fit": null,
            "object_position": null,
            "order": null,
            "overflow": null,
            "overflow_x": null,
            "overflow_y": null,
            "padding": null,
            "right": null,
            "top": null,
            "visibility": null,
            "width": null
          }
        },
        "6e51372218cd458b9696a30db3cca931": {
          "model_module": "@jupyter-widgets/base",
          "model_name": "LayoutModel",
          "model_module_version": "1.2.0",
          "state": {
            "_model_module": "@jupyter-widgets/base",
            "_model_module_version": "1.2.0",
            "_model_name": "LayoutModel",
            "_view_count": null,
            "_view_module": "@jupyter-widgets/base",
            "_view_module_version": "1.2.0",
            "_view_name": "LayoutView",
            "align_content": null,
            "align_items": null,
            "align_self": null,
            "border": null,
            "bottom": null,
            "display": null,
            "flex": null,
            "flex_flow": null,
            "grid_area": null,
            "grid_auto_columns": null,
            "grid_auto_flow": null,
            "grid_auto_rows": null,
            "grid_column": null,
            "grid_gap": null,
            "grid_row": null,
            "grid_template_areas": null,
            "grid_template_columns": null,
            "grid_template_rows": null,
            "height": null,
            "justify_content": null,
            "justify_items": null,
            "left": null,
            "margin": null,
            "max_height": null,
            "max_width": null,
            "min_height": null,
            "min_width": null,
            "object_fit": null,
            "object_position": null,
            "order": null,
            "overflow": null,
            "overflow_x": null,
            "overflow_y": null,
            "padding": null,
            "right": null,
            "top": null,
            "visibility": null,
            "width": null
          }
        },
        "0ce42a52effe4741959ecd25bf0a68b5": {
          "model_module": "@jupyter-widgets/controls",
          "model_name": "VBoxModel",
          "model_module_version": "1.5.0",
          "state": {
            "_dom_classes": [
              "widget-interact"
            ],
            "_model_module": "@jupyter-widgets/controls",
            "_model_module_version": "1.5.0",
            "_model_name": "VBoxModel",
            "_view_count": null,
            "_view_module": "@jupyter-widgets/controls",
            "_view_module_version": "1.5.0",
            "_view_name": "VBoxView",
            "box_style": "",
            "children": [
              "IPY_MODEL_d0dd5b75d0c64d168008c84780e260b9",
              "IPY_MODEL_01637b1c52f34c2484e33d150e7a439c"
            ],
            "layout": "IPY_MODEL_db788de03008451a8099c66535adb08a"
          }
        },
        "d0dd5b75d0c64d168008c84780e260b9": {
          "model_module": "@jupyter-widgets/controls",
          "model_name": "FloatSliderModel",
          "model_module_version": "1.5.0",
          "state": {
            "_dom_classes": [],
            "_model_module": "@jupyter-widgets/controls",
            "_model_module_version": "1.5.0",
            "_model_name": "FloatSliderModel",
            "_view_count": null,
            "_view_module": "@jupyter-widgets/controls",
            "_view_module_version": "1.5.0",
            "_view_name": "FloatSliderView",
            "continuous_update": true,
            "description": "p(s = left)",
            "description_tooltip": null,
            "disabled": false,
            "layout": "IPY_MODEL_82adb59b8d444e36b4dc711a221b4da0",
            "max": 1,
            "min": 0,
            "orientation": "horizontal",
            "readout": true,
            "readout_format": ".2f",
            "step": 0.01,
            "style": "IPY_MODEL_80fc610977454ac2ad4b0bb72a845ebe",
            "value": 0.5
          }
        },
        "01637b1c52f34c2484e33d150e7a439c": {
          "model_module": "@jupyter-widgets/output",
          "model_name": "OutputModel",
          "model_module_version": "1.0.0",
          "state": {
            "_dom_classes": [],
            "_model_module": "@jupyter-widgets/output",
            "_model_module_version": "1.0.0",
            "_model_name": "OutputModel",
            "_view_count": null,
            "_view_module": "@jupyter-widgets/output",
            "_view_module_version": "1.0.0",
            "_view_name": "OutputView",
            "layout": "IPY_MODEL_482efa61131d4cc2aabb1cf97cfbdc2b",
            "msg_id": "",
            "outputs": [
              {
                "output_type": "display_data",
                "data": {
                  "text/plain": "<Figure size 1700x300 with 3 Axes>",
                  "image/png": "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\n"
                },
                "metadata": {
                  "image/png": {
                    "width": 936,
                    "height": 372
                  }
                }
              }
            ]
          }
        },
        "db788de03008451a8099c66535adb08a": {
          "model_module": "@jupyter-widgets/base",
          "model_name": "LayoutModel",
          "model_module_version": "1.2.0",
          "state": {
            "_model_module": "@jupyter-widgets/base",
            "_model_module_version": "1.2.0",
            "_model_name": "LayoutModel",
            "_view_count": null,
            "_view_module": "@jupyter-widgets/base",
            "_view_module_version": "1.2.0",
            "_view_name": "LayoutView",
            "align_content": null,
            "align_items": null,
            "align_self": null,
            "border": null,
            "bottom": null,
            "display": null,
            "flex": null,
            "flex_flow": null,
            "grid_area": null,
            "grid_auto_columns": null,
            "grid_auto_flow": null,
            "grid_auto_rows": null,
            "grid_column": null,
            "grid_gap": null,
            "grid_row": null,
            "grid_template_areas": null,
            "grid_template_columns": null,
            "grid_template_rows": null,
            "height": null,
            "justify_content": null,
            "justify_items": null,
            "left": null,
            "margin": null,
            "max_height": null,
            "max_width": null,
            "min_height": null,
            "min_width": null,
            "object_fit": null,
            "object_position": null,
            "order": null,
            "overflow": null,
            "overflow_x": null,
            "overflow_y": null,
            "padding": null,
            "right": null,
            "top": null,
            "visibility": null,
            "width": null
          }
        },
        "82adb59b8d444e36b4dc711a221b4da0": {
          "model_module": "@jupyter-widgets/base",
          "model_name": "LayoutModel",
          "model_module_version": "1.2.0",
          "state": {
            "_model_module": "@jupyter-widgets/base",
            "_model_module_version": "1.2.0",
            "_model_name": "LayoutModel",
            "_view_count": null,
            "_view_module": "@jupyter-widgets/base",
            "_view_module_version": "1.2.0",
            "_view_name": "LayoutView",
            "align_content": null,
            "align_items": null,
            "align_self": null,
            "border": null,
            "bottom": null,
            "display": null,
            "flex": null,
            "flex_flow": null,
            "grid_area": null,
            "grid_auto_columns": null,
            "grid_auto_flow": null,
            "grid_auto_rows": null,
            "grid_column": null,
            "grid_gap": null,
            "grid_row": null,
            "grid_template_areas": null,
            "grid_template_columns": null,
            "grid_template_rows": null,
            "height": null,
            "justify_content": null,
            "justify_items": null,
            "left": null,
            "margin": null,
            "max_height": null,
            "max_width": null,
            "min_height": null,
            "min_width": null,
            "object_fit": null,
            "object_position": null,
            "order": null,
            "overflow": null,
            "overflow_x": null,
            "overflow_y": null,
            "padding": null,
            "right": null,
            "top": null,
            "visibility": null,
            "width": null
          }
        },
        "80fc610977454ac2ad4b0bb72a845ebe": {
          "model_module": "@jupyter-widgets/controls",
          "model_name": "SliderStyleModel",
          "model_module_version": "1.5.0",
          "state": {
            "_model_module": "@jupyter-widgets/controls",
            "_model_module_version": "1.5.0",
            "_model_name": "SliderStyleModel",
            "_view_count": null,
            "_view_module": "@jupyter-widgets/base",
            "_view_module_version": "1.2.0",
            "_view_name": "StyleView",
            "description_width": "",
            "handle_color": null
          }
        },
        "482efa61131d4cc2aabb1cf97cfbdc2b": {
          "model_module": "@jupyter-widgets/base",
          "model_name": "LayoutModel",
          "model_module_version": "1.2.0",
          "state": {
            "_model_module": "@jupyter-widgets/base",
            "_model_module_version": "1.2.0",
            "_model_name": "LayoutModel",
            "_view_count": null,
            "_view_module": "@jupyter-widgets/base",
            "_view_module_version": "1.2.0",
            "_view_name": "LayoutView",
            "align_content": null,
            "align_items": null,
            "align_self": null,
            "border": null,
            "bottom": null,
            "display": null,
            "flex": null,
            "flex_flow": null,
            "grid_area": null,
            "grid_auto_columns": null,
            "grid_auto_flow": null,
            "grid_auto_rows": null,
            "grid_column": null,
            "grid_gap": null,
            "grid_row": null,
            "grid_template_areas": null,
            "grid_template_columns": null,
            "grid_template_rows": null,
            "height": null,
            "justify_content": null,
            "justify_items": null,
            "left": null,
            "margin": null,
            "max_height": null,
            "max_width": null,
            "min_height": null,
            "min_width": null,
            "object_fit": null,
            "object_position": null,
            "order": null,
            "overflow": null,
            "overflow_x": null,
            "overflow_y": null,
            "padding": null,
            "right": null,
            "top": null,
            "visibility": null,
            "width": null
          }
        },
        "264c33fe2a854663934fedddab8d7e20": {
          "model_module": "@jupyter-widgets/controls",
          "model_name": "TabModel",
          "model_module_version": "1.5.0",
          "state": {
            "_dom_classes": [],
            "_model_module": "@jupyter-widgets/controls",
            "_model_module_version": "1.5.0",
            "_model_name": "TabModel",
            "_titles": {
              "0": "Youtube",
              "1": "Bilibili"
            },
            "_view_count": null,
            "_view_module": "@jupyter-widgets/controls",
            "_view_module_version": "1.5.0",
            "_view_name": "TabView",
            "box_style": "",
            "children": [
              "IPY_MODEL_f59ecff403974f60bc747f97622c7b93",
              "IPY_MODEL_98a89fca0ea24b188302e17e8086c936"
            ],
            "layout": "IPY_MODEL_6d4f1718657d443eb2e7e5150c06c100",
            "selected_index": 0
          }
        },
        "f59ecff403974f60bc747f97622c7b93": {
          "model_module": "@jupyter-widgets/output",
          "model_name": "OutputModel",
          "model_module_version": "1.0.0",
          "state": {
            "_dom_classes": [],
            "_model_module": "@jupyter-widgets/output",
            "_model_module_version": "1.0.0",
            "_model_name": "OutputModel",
            "_view_count": null,
            "_view_module": "@jupyter-widgets/output",
            "_view_module_version": "1.0.0",
            "_view_name": "OutputView",
            "layout": "IPY_MODEL_8f295e1fdbe14206aa063a36d470e7e1",
            "msg_id": "",
            "outputs": [
              {
                "output_type": "stream",
                "name": "stdout",
                "text": [
                  "Video available at https://youtube.com/watch?v=GHQbmsEyQjE\n"
                ]
              },
              {
                "output_type": "display_data",
                "data": {
                  "text/plain": "<IPython.lib.display.YouTubeVideo at 0x7cc3ccbbc7d0>",
                  "text/html": "\n        <iframe\n            width=\"854\"\n            height=\"480\"\n            src=\"https://www.youtube.com/embed/GHQbmsEyQjE?fs=1&rel=0\"\n            frameborder=\"0\"\n            allowfullscreen\n            \n        ></iframe>\n        ",
                  "image/jpeg": "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\n"
                },
                "metadata": {}
              }
            ]
          }
        },
        "98a89fca0ea24b188302e17e8086c936": {
          "model_module": "@jupyter-widgets/output",
          "model_name": "OutputModel",
          "model_module_version": "1.0.0",
          "state": {
            "_dom_classes": [],
            "_model_module": "@jupyter-widgets/output",
            "_model_module_version": "1.0.0",
            "_model_name": "OutputModel",
            "_view_count": null,
            "_view_module": "@jupyter-widgets/output",
            "_view_module_version": "1.0.0",
            "_view_name": "OutputView",
            "layout": "IPY_MODEL_7ec0284ac2bc4e0ab68f2226e035897f",
            "msg_id": "",
            "outputs": [
              {
                "output_type": "stream",
                "name": "stdout",
                "text": [
                  "Video available at https://www.bilibili.com/video/BV1po4y1D7Fu\n"
                ]
              },
              {
                "output_type": "display_data",
                "data": {
                  "text/plain": "<__main__.PlayVideo at 0x7cc3ccaea410>",
                  "text/html": "\n        <iframe\n            width=\"854\"\n            height=\"480\"\n            src=\"https://player.bilibili.com/player.html?bvid=BV1po4y1D7Fu&page=1?fs=1&autoplay=False\"\n            frameborder=\"0\"\n            allowfullscreen\n            \n        ></iframe>\n        "
                },
                "metadata": {}
              }
            ]
          }
        },
        "6d4f1718657d443eb2e7e5150c06c100": {
          "model_module": "@jupyter-widgets/base",
          "model_name": "LayoutModel",
          "model_module_version": "1.2.0",
          "state": {
            "_model_module": "@jupyter-widgets/base",
            "_model_module_version": "1.2.0",
            "_model_name": "LayoutModel",
            "_view_count": null,
            "_view_module": "@jupyter-widgets/base",
            "_view_module_version": "1.2.0",
            "_view_name": "LayoutView",
            "align_content": null,
            "align_items": null,
            "align_self": null,
            "border": null,
            "bottom": null,
            "display": null,
            "flex": null,
            "flex_flow": null,
            "grid_area": null,
            "grid_auto_columns": null,
            "grid_auto_flow": null,
            "grid_auto_rows": null,
            "grid_column": null,
            "grid_gap": null,
            "grid_row": null,
            "grid_template_areas": null,
            "grid_template_columns": null,
            "grid_template_rows": null,
            "height": null,
            "justify_content": null,
            "justify_items": null,
            "left": null,
            "margin": null,
            "max_height": null,
            "max_width": null,
            "min_height": null,
            "min_width": null,
            "object_fit": null,
            "object_position": null,
            "order": null,
            "overflow": null,
            "overflow_x": null,
            "overflow_y": null,
            "padding": null,
            "right": null,
            "top": null,
            "visibility": null,
            "width": null
          }
        },
        "8f295e1fdbe14206aa063a36d470e7e1": {
          "model_module": "@jupyter-widgets/base",
          "model_name": "LayoutModel",
          "model_module_version": "1.2.0",
          "state": {
            "_model_module": "@jupyter-widgets/base",
            "_model_module_version": "1.2.0",
            "_model_name": "LayoutModel",
            "_view_count": null,
            "_view_module": "@jupyter-widgets/base",
            "_view_module_version": "1.2.0",
            "_view_name": "LayoutView",
            "align_content": null,
            "align_items": null,
            "align_self": null,
            "border": null,
            "bottom": null,
            "display": null,
            "flex": null,
            "flex_flow": null,
            "grid_area": null,
            "grid_auto_columns": null,
            "grid_auto_flow": null,
            "grid_auto_rows": null,
            "grid_column": null,
            "grid_gap": null,
            "grid_row": null,
            "grid_template_areas": null,
            "grid_template_columns": null,
            "grid_template_rows": null,
            "height": null,
            "justify_content": null,
            "justify_items": null,
            "left": null,
            "margin": null,
            "max_height": null,
            "max_width": null,
            "min_height": null,
            "min_width": null,
            "object_fit": null,
            "object_position": null,
            "order": null,
            "overflow": null,
            "overflow_x": null,
            "overflow_y": null,
            "padding": null,
            "right": null,
            "top": null,
            "visibility": null,
            "width": null
          }
        },
        "7ec0284ac2bc4e0ab68f2226e035897f": {
          "model_module": "@jupyter-widgets/base",
          "model_name": "LayoutModel",
          "model_module_version": "1.2.0",
          "state": {
            "_model_module": "@jupyter-widgets/base",
            "_model_module_version": "1.2.0",
            "_model_name": "LayoutModel",
            "_view_count": null,
            "_view_module": "@jupyter-widgets/base",
            "_view_module_version": "1.2.0",
            "_view_name": "LayoutView",
            "align_content": null,
            "align_items": null,
            "align_self": null,
            "border": null,
            "bottom": null,
            "display": null,
            "flex": null,
            "flex_flow": null,
            "grid_area": null,
            "grid_auto_columns": null,
            "grid_auto_flow": null,
            "grid_auto_rows": null,
            "grid_column": null,
            "grid_gap": null,
            "grid_row": null,
            "grid_template_areas": null,
            "grid_template_columns": null,
            "grid_template_rows": null,
            "height": null,
            "justify_content": null,
            "justify_items": null,
            "left": null,
            "margin": null,
            "max_height": null,
            "max_width": null,
            "min_height": null,
            "min_width": null,
            "object_fit": null,
            "object_position": null,
            "order": null,
            "overflow": null,
            "overflow_x": null,
            "overflow_y": null,
            "padding": null,
            "right": null,
            "top": null,
            "visibility": null,
            "width": null
          }
        },
        "b9f0ff6c4fc549a6beece542c7cb496a": {
          "model_module": "@jupyter-widgets/controls",
          "model_name": "TabModel",
          "model_module_version": "1.5.0",
          "state": {
            "_dom_classes": [],
            "_model_module": "@jupyter-widgets/controls",
            "_model_module_version": "1.5.0",
            "_model_name": "TabModel",
            "_titles": {
              "0": "Youtube",
              "1": "Bilibili"
            },
            "_view_count": null,
            "_view_module": "@jupyter-widgets/controls",
            "_view_module_version": "1.5.0",
            "_view_name": "TabView",
            "box_style": "",
            "children": [
              "IPY_MODEL_b07ca74714ee444f93da3bffdedea9ef",
              "IPY_MODEL_6057d6733c814a0bac9cb65c223cf8dd"
            ],
            "layout": "IPY_MODEL_16fe612aafd442e281f7fecb7be56344",
            "selected_index": 0
          }
        },
        "b07ca74714ee444f93da3bffdedea9ef": {
          "model_module": "@jupyter-widgets/output",
          "model_name": "OutputModel",
          "model_module_version": "1.0.0",
          "state": {
            "_dom_classes": [],
            "_model_module": "@jupyter-widgets/output",
            "_model_module_version": "1.0.0",
            "_model_name": "OutputModel",
            "_view_count": null,
            "_view_module": "@jupyter-widgets/output",
            "_view_module_version": "1.0.0",
            "_view_name": "OutputView",
            "layout": "IPY_MODEL_001648b6f87b4b1cbe67d9cefacab8a3",
            "msg_id": "",
            "outputs": [
              {
                "output_type": "stream",
                "name": "stdout",
                "text": [
                  "Video available at https://youtube.com/watch?v=Yv8MDjdm1l4\n"
                ]
              },
              {
                "output_type": "display_data",
                "data": {
                  "text/plain": "<IPython.lib.display.YouTubeVideo at 0x7cc3ccd76690>",
                  "text/html": "\n        <iframe\n            width=\"854\"\n            height=\"480\"\n            src=\"https://www.youtube.com/embed/Yv8MDjdm1l4?fs=1&rel=0\"\n            frameborder=\"0\"\n            allowfullscreen\n            \n        ></iframe>\n        ",
                  "image/jpeg": "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\n"
                },
                "metadata": {}
              }
            ]
          }
        },
        "6057d6733c814a0bac9cb65c223cf8dd": {
          "model_module": "@jupyter-widgets/output",
          "model_name": "OutputModel",
          "model_module_version": "1.0.0",
          "state": {
            "_dom_classes": [],
            "_model_module": "@jupyter-widgets/output",
            "_model_module_version": "1.0.0",
            "_model_name": "OutputModel",
            "_view_count": null,
            "_view_module": "@jupyter-widgets/output",
            "_view_module_version": "1.0.0",
            "_view_name": "OutputView",
            "layout": "IPY_MODEL_e8827e6dfd134107a89e2a466608b747",
            "msg_id": "",
            "outputs": [
              {
                "output_type": "stream",
                "name": "stdout",
                "text": [
                  "Video available at https://www.bilibili.com/video/BV1EK4y1u7AV\n"
                ]
              },
              {
                "output_type": "display_data",
                "data": {
                  "text/plain": "<__main__.PlayVideo at 0x7cc3cc4ea090>",
                  "text/html": "\n        <iframe\n            width=\"854\"\n            height=\"480\"\n            src=\"https://player.bilibili.com/player.html?bvid=BV1EK4y1u7AV&page=1?fs=1&autoplay=False\"\n            frameborder=\"0\"\n            allowfullscreen\n            \n        ></iframe>\n        "
                },
                "metadata": {}
              }
            ]
          }
        },
        "16fe612aafd442e281f7fecb7be56344": {
          "model_module": "@jupyter-widgets/base",
          "model_name": "LayoutModel",
          "model_module_version": "1.2.0",
          "state": {
            "_model_module": "@jupyter-widgets/base",
            "_model_module_version": "1.2.0",
            "_model_name": "LayoutModel",
            "_view_count": null,
            "_view_module": "@jupyter-widgets/base",
            "_view_module_version": "1.2.0",
            "_view_name": "LayoutView",
            "align_content": null,
            "align_items": null,
            "align_self": null,
            "border": null,
            "bottom": null,
            "display": null,
            "flex": null,
            "flex_flow": null,
            "grid_area": null,
            "grid_auto_columns": null,
            "grid_auto_flow": null,
            "grid_auto_rows": null,
            "grid_column": null,
            "grid_gap": null,
            "grid_row": null,
            "grid_template_areas": null,
            "grid_template_columns": null,
            "grid_template_rows": null,
            "height": null,
            "justify_content": null,
            "justify_items": null,
            "left": null,
            "margin": null,
            "max_height": null,
            "max_width": null,
            "min_height": null,
            "min_width": null,
            "object_fit": null,
            "object_position": null,
            "order": null,
            "overflow": null,
            "overflow_x": null,
            "overflow_y": null,
            "padding": null,
            "right": null,
            "top": null,
            "visibility": null,
            "width": null
          }
        },
        "001648b6f87b4b1cbe67d9cefacab8a3": {
          "model_module": "@jupyter-widgets/base",
          "model_name": "LayoutModel",
          "model_module_version": "1.2.0",
          "state": {
            "_model_module": "@jupyter-widgets/base",
            "_model_module_version": "1.2.0",
            "_model_name": "LayoutModel",
            "_view_count": null,
            "_view_module": "@jupyter-widgets/base",
            "_view_module_version": "1.2.0",
            "_view_name": "LayoutView",
            "align_content": null,
            "align_items": null,
            "align_self": null,
            "border": null,
            "bottom": null,
            "display": null,
            "flex": null,
            "flex_flow": null,
            "grid_area": null,
            "grid_auto_columns": null,
            "grid_auto_flow": null,
            "grid_auto_rows": null,
            "grid_column": null,
            "grid_gap": null,
            "grid_row": null,
            "grid_template_areas": null,
            "grid_template_columns": null,
            "grid_template_rows": null,
            "height": null,
            "justify_content": null,
            "justify_items": null,
            "left": null,
            "margin": null,
            "max_height": null,
            "max_width": null,
            "min_height": null,
            "min_width": null,
            "object_fit": null,
            "object_position": null,
            "order": null,
            "overflow": null,
            "overflow_x": null,
            "overflow_y": null,
            "padding": null,
            "right": null,
            "top": null,
            "visibility": null,
            "width": null
          }
        },
        "e8827e6dfd134107a89e2a466608b747": {
          "model_module": "@jupyter-widgets/base",
          "model_name": "LayoutModel",
          "model_module_version": "1.2.0",
          "state": {
            "_model_module": "@jupyter-widgets/base",
            "_model_module_version": "1.2.0",
            "_model_name": "LayoutModel",
            "_view_count": null,
            "_view_module": "@jupyter-widgets/base",
            "_view_module_version": "1.2.0",
            "_view_name": "LayoutView",
            "align_content": null,
            "align_items": null,
            "align_self": null,
            "border": null,
            "bottom": null,
            "display": null,
            "flex": null,
            "flex_flow": null,
            "grid_area": null,
            "grid_auto_columns": null,
            "grid_auto_flow": null,
            "grid_auto_rows": null,
            "grid_column": null,
            "grid_gap": null,
            "grid_row": null,
            "grid_template_areas": null,
            "grid_template_columns": null,
            "grid_template_rows": null,
            "height": null,
            "justify_content": null,
            "justify_items": null,
            "left": null,
            "margin": null,
            "max_height": null,
            "max_width": null,
            "min_height": null,
            "min_width": null,
            "object_fit": null,
            "object_position": null,
            "order": null,
            "overflow": null,
            "overflow_x": null,
            "overflow_y": null,
            "padding": null,
            "right": null,
            "top": null,
            "visibility": null,
            "width": null
          }
        },
        "c9d9a7ded591422f981ff5e2340afc33": {
          "model_module": "@jupyter-widgets/controls",
          "model_name": "TabModel",
          "model_module_version": "1.5.0",
          "state": {
            "_dom_classes": [],
            "_model_module": "@jupyter-widgets/controls",
            "_model_module_version": "1.5.0",
            "_model_name": "TabModel",
            "_titles": {
              "0": "Youtube",
              "1": "Bilibili"
            },
            "_view_count": null,
            "_view_module": "@jupyter-widgets/controls",
            "_view_module_version": "1.5.0",
            "_view_name": "TabView",
            "box_style": "",
            "children": [
              "IPY_MODEL_7504a8fa8c614b658a7da2f91affa7b0",
              "IPY_MODEL_2eaedb051da84f1988d76e70344e214c"
            ],
            "layout": "IPY_MODEL_3943612a70cb4e9a95f31abd907bd63c",
            "selected_index": 0
          }
        },
        "7504a8fa8c614b658a7da2f91affa7b0": {
          "model_module": "@jupyter-widgets/output",
          "model_name": "OutputModel",
          "model_module_version": "1.0.0",
          "state": {
            "_dom_classes": [],
            "_model_module": "@jupyter-widgets/output",
            "_model_module_version": "1.0.0",
            "_model_name": "OutputModel",
            "_view_count": null,
            "_view_module": "@jupyter-widgets/output",
            "_view_module_version": "1.0.0",
            "_view_name": "OutputView",
            "layout": "IPY_MODEL_5a160ac49b5145d4939c96bebc11ee7f",
            "msg_id": "",
            "outputs": [
              {
                "output_type": "stream",
                "name": "stdout",
                "text": [
                  "Video available at https://youtube.com/watch?v=iprFMHch2_g\n"
                ]
              },
              {
                "output_type": "display_data",
                "data": {
                  "text/plain": "<IPython.lib.display.YouTubeVideo at 0x7cc3cca4c710>",
                  "text/html": "\n        <iframe\n            width=\"854\"\n            height=\"480\"\n            src=\"https://www.youtube.com/embed/iprFMHch2_g?fs=1&rel=0\"\n            frameborder=\"0\"\n            allowfullscreen\n            \n        ></iframe>\n        ",
                  "image/jpeg": "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\n"
                },
                "metadata": {}
              }
            ]
          }
        },
        "2eaedb051da84f1988d76e70344e214c": {
          "model_module": "@jupyter-widgets/output",
          "model_name": "OutputModel",
          "model_module_version": "1.0.0",
          "state": {
            "_dom_classes": [],
            "_model_module": "@jupyter-widgets/output",
            "_model_module_version": "1.0.0",
            "_model_name": "OutputModel",
            "_view_count": null,
            "_view_module": "@jupyter-widgets/output",
            "_view_module_version": "1.0.0",
            "_view_name": "OutputView",
            "layout": "IPY_MODEL_e41b009f2f1a4bd58a113d0bdefc6137",
            "msg_id": "",
            "outputs": [
              {
                "output_type": "stream",
                "name": "stdout",
                "text": [
                  "Video available at https://www.bilibili.com/video/BV1Zq4y1p7N6\n"
                ]
              },
              {
                "output_type": "display_data",
                "data": {
                  "text/plain": "<__main__.PlayVideo at 0x7cc3cc824310>",
                  "text/html": "\n        <iframe\n            width=\"854\"\n            height=\"480\"\n            src=\"https://player.bilibili.com/player.html?bvid=BV1Zq4y1p7N6&page=1?fs=1&autoplay=False\"\n            frameborder=\"0\"\n            allowfullscreen\n            \n        ></iframe>\n        "
                },
                "metadata": {}
              }
            ]
          }
        },
        "3943612a70cb4e9a95f31abd907bd63c": {
          "model_module": "@jupyter-widgets/base",
          "model_name": "LayoutModel",
          "model_module_version": "1.2.0",
          "state": {
            "_model_module": "@jupyter-widgets/base",
            "_model_module_version": "1.2.0",
            "_model_name": "LayoutModel",
            "_view_count": null,
            "_view_module": "@jupyter-widgets/base",
            "_view_module_version": "1.2.0",
            "_view_name": "LayoutView",
            "align_content": null,
            "align_items": null,
            "align_self": null,
            "border": null,
            "bottom": null,
            "display": null,
            "flex": null,
            "flex_flow": null,
            "grid_area": null,
            "grid_auto_columns": null,
            "grid_auto_flow": null,
            "grid_auto_rows": null,
            "grid_column": null,
            "grid_gap": null,
            "grid_row": null,
            "grid_template_areas": null,
            "grid_template_columns": null,
            "grid_template_rows": null,
            "height": null,
            "justify_content": null,
            "justify_items": null,
            "left": null,
            "margin": null,
            "max_height": null,
            "max_width": null,
            "min_height": null,
            "min_width": null,
            "object_fit": null,
            "object_position": null,
            "order": null,
            "overflow": null,
            "overflow_x": null,
            "overflow_y": null,
            "padding": null,
            "right": null,
            "top": null,
            "visibility": null,
            "width": null
          }
        },
        "5a160ac49b5145d4939c96bebc11ee7f": {
          "model_module": "@jupyter-widgets/base",
          "model_name": "LayoutModel",
          "model_module_version": "1.2.0",
          "state": {
            "_model_module": "@jupyter-widgets/base",
            "_model_module_version": "1.2.0",
            "_model_name": "LayoutModel",
            "_view_count": null,
            "_view_module": "@jupyter-widgets/base",
            "_view_module_version": "1.2.0",
            "_view_name": "LayoutView",
            "align_content": null,
            "align_items": null,
            "align_self": null,
            "border": null,
            "bottom": null,
            "display": null,
            "flex": null,
            "flex_flow": null,
            "grid_area": null,
            "grid_auto_columns": null,
            "grid_auto_flow": null,
            "grid_auto_rows": null,
            "grid_column": null,
            "grid_gap": null,
            "grid_row": null,
            "grid_template_areas": null,
            "grid_template_columns": null,
            "grid_template_rows": null,
            "height": null,
            "justify_content": null,
            "justify_items": null,
            "left": null,
            "margin": null,
            "max_height": null,
            "max_width": null,
            "min_height": null,
            "min_width": null,
            "object_fit": null,
            "object_position": null,
            "order": null,
            "overflow": null,
            "overflow_x": null,
            "overflow_y": null,
            "padding": null,
            "right": null,
            "top": null,
            "visibility": null,
            "width": null
          }
        },
        "e41b009f2f1a4bd58a113d0bdefc6137": {
          "model_module": "@jupyter-widgets/base",
          "model_name": "LayoutModel",
          "model_module_version": "1.2.0",
          "state": {
            "_model_module": "@jupyter-widgets/base",
            "_model_module_version": "1.2.0",
            "_model_name": "LayoutModel",
            "_view_count": null,
            "_view_module": "@jupyter-widgets/base",
            "_view_module_version": "1.2.0",
            "_view_name": "LayoutView",
            "align_content": null,
            "align_items": null,
            "align_self": null,
            "border": null,
            "bottom": null,
            "display": null,
            "flex": null,
            "flex_flow": null,
            "grid_area": null,
            "grid_auto_columns": null,
            "grid_auto_flow": null,
            "grid_auto_rows": null,
            "grid_column": null,
            "grid_gap": null,
            "grid_row": null,
            "grid_template_areas": null,
            "grid_template_columns": null,
            "grid_template_rows": null,
            "height": null,
            "justify_content": null,
            "justify_items": null,
            "left": null,
            "margin": null,
            "max_height": null,
            "max_width": null,
            "min_height": null,
            "min_width": null,
            "object_fit": null,
            "object_position": null,
            "order": null,
            "overflow": null,
            "overflow_x": null,
            "overflow_y": null,
            "padding": null,
            "right": null,
            "top": null,
            "visibility": null,
            "width": null
          }
        },
        "5bc03dc5782b4080ac84aa44c4a192a9": {
          "model_module": "@jupyter-widgets/controls",
          "model_name": "VBoxModel",
          "model_module_version": "1.5.0",
          "state": {
            "_dom_classes": [
              "widget-interact"
            ],
            "_model_module": "@jupyter-widgets/controls",
            "_model_module_version": "1.5.0",
            "_model_name": "VBoxModel",
            "_view_count": null,
            "_view_module": "@jupyter-widgets/controls",
            "_view_module_version": "1.5.0",
            "_view_name": "VBoxView",
            "box_style": "",
            "children": [
              "IPY_MODEL_a062174ccfda4c1284b8892fc1141163",
              "IPY_MODEL_a64fd4f63e2b4acbb626da1edd298b7a",
              "IPY_MODEL_943bade11bc343c9a7d1266462024c2a",
              "IPY_MODEL_9e5c999113874c77bdd375e8175b74f8"
            ],
            "layout": "IPY_MODEL_e78928c69573430e9ce287f053328d11"
          }
        },
        "a062174ccfda4c1284b8892fc1141163": {
          "model_module": "@jupyter-widgets/controls",
          "model_name": "FloatSliderModel",
          "model_module_version": "1.5.0",
          "state": {
            "_dom_classes": [],
            "_model_module": "@jupyter-widgets/controls",
            "_model_module_version": "1.5.0",
            "_model_name": "FloatSliderModel",
            "_view_count": null,
            "_view_module": "@jupyter-widgets/controls",
            "_view_module_version": "1.5.0",
            "_view_name": "FloatSliderView",
            "continuous_update": true,
            "description": "p(color=golden)",
            "description_tooltip": null,
            "disabled": false,
            "layout": "IPY_MODEL_1c25f9b6a1824ddaa56095d708ef8811",
            "max": 0.99,
            "min": 0.01,
            "orientation": "horizontal",
            "readout": true,
            "readout_format": ".2f",
            "step": 0.01,
            "style": "IPY_MODEL_fb1a5daf5c0b4695b8933809526b53f5",
            "value": 0.65
          }
        },
        "a64fd4f63e2b4acbb626da1edd298b7a": {
          "model_module": "@jupyter-widgets/controls",
          "model_name": "FloatSliderModel",
          "model_module_version": "1.5.0",
          "state": {
            "_dom_classes": [],
            "_model_module": "@jupyter-widgets/controls",
            "_model_module_version": "1.5.0",
            "_model_name": "FloatSliderModel",
            "_view_count": null,
            "_view_module": "@jupyter-widgets/controls",
            "_view_module_version": "1.5.0",
            "_view_name": "FloatSliderView",
            "continuous_update": true,
            "description": "p(size=large)",
            "description_tooltip": null,
            "disabled": false,
            "layout": "IPY_MODEL_9362f37dc08b41a4a290ebe5cdb4071a",
            "max": 0.99,
            "min": 0.01,
            "orientation": "horizontal",
            "readout": true,
            "readout_format": ".2f",
            "step": 0.01,
            "style": "IPY_MODEL_49ed3932ce854d8dbe7157e23123c99b",
            "value": 0.65
          }
        },
        "943bade11bc343c9a7d1266462024c2a": {
          "model_module": "@jupyter-widgets/controls",
          "model_name": "FloatSliderModel",
          "model_module_version": "1.5.0",
          "state": {
            "_dom_classes": [],
            "_model_module": "@jupyter-widgets/controls",
            "_model_module_version": "1.5.0",
            "_model_name": "FloatSliderModel",
            "_view_count": null,
            "_view_module": "@jupyter-widgets/controls",
            "_view_module_version": "1.5.0",
            "_view_name": "FloatSliderView",
            "continuous_update": true,
            "description": "ρ",
            "description_tooltip": null,
            "disabled": false,
            "layout": "IPY_MODEL_bde732a1c2674d41af1fc243b6c6382e",
            "max": 0.9899999999999998,
            "min": -0.5284615384615384,
            "orientation": "horizontal",
            "readout": true,
            "readout_format": ".2f",
            "step": 0.01,
            "style": "IPY_MODEL_92342b8a4bdf47009ef568654f9e885d",
            "value": 0.9815384615384616
          }
        },
        "9e5c999113874c77bdd375e8175b74f8": {
          "model_module": "@jupyter-widgets/output",
          "model_name": "OutputModel",
          "model_module_version": "1.0.0",
          "state": {
            "_dom_classes": [],
            "_model_module": "@jupyter-widgets/output",
            "_model_module_version": "1.0.0",
            "_model_name": "OutputModel",
            "_view_count": null,
            "_view_module": "@jupyter-widgets/output",
            "_view_module_version": "1.0.0",
            "_view_name": "OutputView",
            "layout": "IPY_MODEL_e89d9d56ed104b4d913307d23c5c2b4b",
            "msg_id": "",
            "outputs": [
              {
                "output_type": "display_data",
                "data": {
                  "text/plain": "<Figure size 500x500 with 3 Axes>",
                  "image/png": "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\n"
                },
                "metadata": {
                  "image/png": {
                    "width": 542,
                    "height": 502
                  }
                }
              }
            ]
          }
        },
        "e78928c69573430e9ce287f053328d11": {
          "model_module": "@jupyter-widgets/base",
          "model_name": "LayoutModel",
          "model_module_version": "1.2.0",
          "state": {
            "_model_module": "@jupyter-widgets/base",
            "_model_module_version": "1.2.0",
            "_model_name": "LayoutModel",
            "_view_count": null,
            "_view_module": "@jupyter-widgets/base",
            "_view_module_version": "1.2.0",
            "_view_name": "LayoutView",
            "align_content": null,
            "align_items": null,
            "align_self": null,
            "border": null,
            "bottom": null,
            "display": null,
            "flex": null,
            "flex_flow": null,
            "grid_area": null,
            "grid_auto_columns": null,
            "grid_auto_flow": null,
            "grid_auto_rows": null,
            "grid_column": null,
            "grid_gap": null,
            "grid_row": null,
            "grid_template_areas": null,
            "grid_template_columns": null,
            "grid_template_rows": null,
            "height": null,
            "justify_content": null,
            "justify_items": null,
            "left": null,
            "margin": null,
            "max_height": null,
            "max_width": null,
            "min_height": null,
            "min_width": null,
            "object_fit": null,
            "object_position": null,
            "order": null,
            "overflow": null,
            "overflow_x": null,
            "overflow_y": null,
            "padding": null,
            "right": null,
            "top": null,
            "visibility": null,
            "width": null
          }
        },
        "1c25f9b6a1824ddaa56095d708ef8811": {
          "model_module": "@jupyter-widgets/base",
          "model_name": "LayoutModel",
          "model_module_version": "1.2.0",
          "state": {
            "_model_module": "@jupyter-widgets/base",
            "_model_module_version": "1.2.0",
            "_model_name": "LayoutModel",
            "_view_count": null,
            "_view_module": "@jupyter-widgets/base",
            "_view_module_version": "1.2.0",
            "_view_name": "LayoutView",
            "align_content": null,
            "align_items": null,
            "align_self": null,
            "border": null,
            "bottom": null,
            "display": null,
            "flex": null,
            "flex_flow": null,
            "grid_area": "widget002",
            "grid_auto_columns": null,
            "grid_auto_flow": null,
            "grid_auto_rows": null,
            "grid_column": null,
            "grid_gap": null,
            "grid_row": null,
            "grid_template_areas": null,
            "grid_template_columns": null,
            "grid_template_rows": null,
            "height": null,
            "justify_content": null,
            "justify_items": null,
            "left": null,
            "margin": null,
            "max_height": null,
            "max_width": null,
            "min_height": null,
            "min_width": null,
            "object_fit": null,
            "object_position": null,
            "order": null,
            "overflow": null,
            "overflow_x": null,
            "overflow_y": null,
            "padding": null,
            "right": null,
            "top": null,
            "visibility": null,
            "width": null
          }
        },
        "fb1a5daf5c0b4695b8933809526b53f5": {
          "model_module": "@jupyter-widgets/controls",
          "model_name": "SliderStyleModel",
          "model_module_version": "1.5.0",
          "state": {
            "_model_module": "@jupyter-widgets/controls",
            "_model_module_version": "1.5.0",
            "_model_name": "SliderStyleModel",
            "_view_count": null,
            "_view_module": "@jupyter-widgets/base",
            "_view_module_version": "1.2.0",
            "_view_name": "StyleView",
            "description_width": "initial",
            "handle_color": null
          }
        },
        "9362f37dc08b41a4a290ebe5cdb4071a": {
          "model_module": "@jupyter-widgets/base",
          "model_name": "LayoutModel",
          "model_module_version": "1.2.0",
          "state": {
            "_model_module": "@jupyter-widgets/base",
            "_model_module_version": "1.2.0",
            "_model_name": "LayoutModel",
            "_view_count": null,
            "_view_module": "@jupyter-widgets/base",
            "_view_module_version": "1.2.0",
            "_view_name": "LayoutView",
            "align_content": null,
            "align_items": null,
            "align_self": null,
            "border": null,
            "bottom": null,
            "display": null,
            "flex": null,
            "flex_flow": null,
            "grid_area": "widget003",
            "grid_auto_columns": null,
            "grid_auto_flow": null,
            "grid_auto_rows": null,
            "grid_column": null,
            "grid_gap": null,
            "grid_row": null,
            "grid_template_areas": null,
            "grid_template_columns": null,
            "grid_template_rows": null,
            "height": null,
            "justify_content": null,
            "justify_items": null,
            "left": null,
            "margin": null,
            "max_height": null,
            "max_width": null,
            "min_height": null,
            "min_width": null,
            "object_fit": null,
            "object_position": null,
            "order": null,
            "overflow": null,
            "overflow_x": null,
            "overflow_y": null,
            "padding": null,
            "right": null,
            "top": null,
            "visibility": null,
            "width": null
          }
        },
        "49ed3932ce854d8dbe7157e23123c99b": {
          "model_module": "@jupyter-widgets/controls",
          "model_name": "SliderStyleModel",
          "model_module_version": "1.5.0",
          "state": {
            "_model_module": "@jupyter-widgets/controls",
            "_model_module_version": "1.5.0",
            "_model_name": "SliderStyleModel",
            "_view_count": null,
            "_view_module": "@jupyter-widgets/base",
            "_view_module_version": "1.2.0",
            "_view_name": "StyleView",
            "description_width": "initial",
            "handle_color": null
          }
        },
        "bde732a1c2674d41af1fc243b6c6382e": {
          "model_module": "@jupyter-widgets/base",
          "model_name": "LayoutModel",
          "model_module_version": "1.2.0",
          "state": {
            "_model_module": "@jupyter-widgets/base",
            "_model_module_version": "1.2.0",
            "_model_name": "LayoutModel",
            "_view_count": null,
            "_view_module": "@jupyter-widgets/base",
            "_view_module_version": "1.2.0",
            "_view_name": "LayoutView",
            "align_content": null,
            "align_items": null,
            "align_self": null,
            "border": null,
            "bottom": null,
            "display": null,
            "flex": null,
            "flex_flow": null,
            "grid_area": "widget001",
            "grid_auto_columns": null,
            "grid_auto_flow": null,
            "grid_auto_rows": null,
            "grid_column": null,
            "grid_gap": null,
            "grid_row": null,
            "grid_template_areas": null,
            "grid_template_columns": null,
            "grid_template_rows": null,
            "height": null,
            "justify_content": null,
            "justify_items": null,
            "left": null,
            "margin": null,
            "max_height": null,
            "max_width": null,
            "min_height": null,
            "min_width": null,
            "object_fit": null,
            "object_position": null,
            "order": null,
            "overflow": null,
            "overflow_x": null,
            "overflow_y": null,
            "padding": null,
            "right": null,
            "top": null,
            "visibility": null,
            "width": null
          }
        },
        "92342b8a4bdf47009ef568654f9e885d": {
          "model_module": "@jupyter-widgets/controls",
          "model_name": "SliderStyleModel",
          "model_module_version": "1.5.0",
          "state": {
            "_model_module": "@jupyter-widgets/controls",
            "_model_module_version": "1.5.0",
            "_model_name": "SliderStyleModel",
            "_view_count": null,
            "_view_module": "@jupyter-widgets/base",
            "_view_module_version": "1.2.0",
            "_view_name": "StyleView",
            "description_width": "",
            "handle_color": null
          }
        },
        "e89d9d56ed104b4d913307d23c5c2b4b": {
          "model_module": "@jupyter-widgets/base",
          "model_name": "LayoutModel",
          "model_module_version": "1.2.0",
          "state": {
            "_model_module": "@jupyter-widgets/base",
            "_model_module_version": "1.2.0",
            "_model_name": "LayoutModel",
            "_view_count": null,
            "_view_module": "@jupyter-widgets/base",
            "_view_module_version": "1.2.0",
            "_view_name": "LayoutView",
            "align_content": null,
            "align_items": null,
            "align_self": null,
            "border": null,
            "bottom": null,
            "display": null,
            "flex": null,
            "flex_flow": null,
            "grid_area": null,
            "grid_auto_columns": null,
            "grid_auto_flow": null,
            "grid_auto_rows": null,
            "grid_column": null,
            "grid_gap": null,
            "grid_row": null,
            "grid_template_areas": null,
            "grid_template_columns": null,
            "grid_template_rows": null,
            "height": null,
            "justify_content": null,
            "justify_items": null,
            "left": null,
            "margin": null,
            "max_height": null,
            "max_width": null,
            "min_height": null,
            "min_width": null,
            "object_fit": null,
            "object_position": null,
            "order": null,
            "overflow": null,
            "overflow_x": null,
            "overflow_y": null,
            "padding": null,
            "right": null,
            "top": null,
            "visibility": null,
            "width": null
          }
        },
        "2eb88bceef4d404f89b4d1ad02d02acb": {
          "model_module": "@jupyter-widgets/controls",
          "model_name": "TabModel",
          "model_module_version": "1.5.0",
          "state": {
            "_dom_classes": [],
            "_model_module": "@jupyter-widgets/controls",
            "_model_module_version": "1.5.0",
            "_model_name": "TabModel",
            "_titles": {
              "0": "Youtube",
              "1": "Bilibili"
            },
            "_view_count": null,
            "_view_module": "@jupyter-widgets/controls",
            "_view_module_version": "1.5.0",
            "_view_name": "TabView",
            "box_style": "",
            "children": [
              "IPY_MODEL_709ce75c2c4c4de581f59880ce10ce15",
              "IPY_MODEL_2afc33d2b37f4ffcad17627027e89e5b"
            ],
            "layout": "IPY_MODEL_ac6fb0cc2265496ea50d62610a30c8cf",
            "selected_index": 0
          }
        },
        "709ce75c2c4c4de581f59880ce10ce15": {
          "model_module": "@jupyter-widgets/output",
          "model_name": "OutputModel",
          "model_module_version": "1.0.0",
          "state": {
            "_dom_classes": [],
            "_model_module": "@jupyter-widgets/output",
            "_model_module_version": "1.0.0",
            "_model_name": "OutputModel",
            "_view_count": null,
            "_view_module": "@jupyter-widgets/output",
            "_view_module_version": "1.0.0",
            "_view_name": "OutputView",
            "layout": "IPY_MODEL_48fa5fc86cc945c6aaaf6253017c6dcd",
            "msg_id": "",
            "outputs": [
              {
                "output_type": "stream",
                "name": "stdout",
                "text": [
                  "Video available at https://youtube.com/watch?v=cOAJQ4utwD0\n"
                ]
              },
              {
                "output_type": "display_data",
                "data": {
                  "text/plain": "<IPython.lib.display.YouTubeVideo at 0x7cc3ccd76690>",
                  "text/html": "\n        <iframe\n            width=\"854\"\n            height=\"480\"\n            src=\"https://www.youtube.com/embed/cOAJQ4utwD0?fs=1&rel=0\"\n            frameborder=\"0\"\n            allowfullscreen\n            \n        ></iframe>\n        ",
                  "image/jpeg": "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\n"
                },
                "metadata": {}
              }
            ]
          }
        },
        "2afc33d2b37f4ffcad17627027e89e5b": {
          "model_module": "@jupyter-widgets/output",
          "model_name": "OutputModel",
          "model_module_version": "1.0.0",
          "state": {
            "_dom_classes": [],
            "_model_module": "@jupyter-widgets/output",
            "_model_module_version": "1.0.0",
            "_model_name": "OutputModel",
            "_view_count": null,
            "_view_module": "@jupyter-widgets/output",
            "_view_module_version": "1.0.0",
            "_view_name": "OutputView",
            "layout": "IPY_MODEL_0d9e40cc5d71476589409a455864be4f",
            "msg_id": "",
            "outputs": [
              {
                "output_type": "stream",
                "name": "stdout",
                "text": [
                  "Video available at https://www.bilibili.com/video/BV1fK4y1M7EC\n"
                ]
              },
              {
                "output_type": "display_data",
                "data": {
                  "text/plain": "<__main__.PlayVideo at 0x7cc3ccce8b50>",
                  "text/html": "\n        <iframe\n            width=\"854\"\n            height=\"480\"\n            src=\"https://player.bilibili.com/player.html?bvid=BV1fK4y1M7EC&page=1?fs=1&autoplay=False\"\n            frameborder=\"0\"\n            allowfullscreen\n            \n        ></iframe>\n        "
                },
                "metadata": {}
              }
            ]
          }
        },
        "ac6fb0cc2265496ea50d62610a30c8cf": {
          "model_module": "@jupyter-widgets/base",
          "model_name": "LayoutModel",
          "model_module_version": "1.2.0",
          "state": {
            "_model_module": "@jupyter-widgets/base",
            "_model_module_version": "1.2.0",
            "_model_name": "LayoutModel",
            "_view_count": null,
            "_view_module": "@jupyter-widgets/base",
            "_view_module_version": "1.2.0",
            "_view_name": "LayoutView",
            "align_content": null,
            "align_items": null,
            "align_self": null,
            "border": null,
            "bottom": null,
            "display": null,
            "flex": null,
            "flex_flow": null,
            "grid_area": null,
            "grid_auto_columns": null,
            "grid_auto_flow": null,
            "grid_auto_rows": null,
            "grid_column": null,
            "grid_gap": null,
            "grid_row": null,
            "grid_template_areas": null,
            "grid_template_columns": null,
            "grid_template_rows": null,
            "height": null,
            "justify_content": null,
            "justify_items": null,
            "left": null,
            "margin": null,
            "max_height": null,
            "max_width": null,
            "min_height": null,
            "min_width": null,
            "object_fit": null,
            "object_position": null,
            "order": null,
            "overflow": null,
            "overflow_x": null,
            "overflow_y": null,
            "padding": null,
            "right": null,
            "top": null,
            "visibility": null,
            "width": null
          }
        },
        "48fa5fc86cc945c6aaaf6253017c6dcd": {
          "model_module": "@jupyter-widgets/base",
          "model_name": "LayoutModel",
          "model_module_version": "1.2.0",
          "state": {
            "_model_module": "@jupyter-widgets/base",
            "_model_module_version": "1.2.0",
            "_model_name": "LayoutModel",
            "_view_count": null,
            "_view_module": "@jupyter-widgets/base",
            "_view_module_version": "1.2.0",
            "_view_name": "LayoutView",
            "align_content": null,
            "align_items": null,
            "align_self": null,
            "border": null,
            "bottom": null,
            "display": null,
            "flex": null,
            "flex_flow": null,
            "grid_area": null,
            "grid_auto_columns": null,
            "grid_auto_flow": null,
            "grid_auto_rows": null,
            "grid_column": null,
            "grid_gap": null,
            "grid_row": null,
            "grid_template_areas": null,
            "grid_template_columns": null,
            "grid_template_rows": null,
            "height": null,
            "justify_content": null,
            "justify_items": null,
            "left": null,
            "margin": null,
            "max_height": null,
            "max_width": null,
            "min_height": null,
            "min_width": null,
            "object_fit": null,
            "object_position": null,
            "order": null,
            "overflow": null,
            "overflow_x": null,
            "overflow_y": null,
            "padding": null,
            "right": null,
            "top": null,
            "visibility": null,
            "width": null
          }
        },
        "0d9e40cc5d71476589409a455864be4f": {
          "model_module": "@jupyter-widgets/base",
          "model_name": "LayoutModel",
          "model_module_version": "1.2.0",
          "state": {
            "_model_module": "@jupyter-widgets/base",
            "_model_module_version": "1.2.0",
            "_model_name": "LayoutModel",
            "_view_count": null,
            "_view_module": "@jupyter-widgets/base",
            "_view_module_version": "1.2.0",
            "_view_name": "LayoutView",
            "align_content": null,
            "align_items": null,
            "align_self": null,
            "border": null,
            "bottom": null,
            "display": null,
            "flex": null,
            "flex_flow": null,
            "grid_area": null,
            "grid_auto_columns": null,
            "grid_auto_flow": null,
            "grid_auto_rows": null,
            "grid_column": null,
            "grid_gap": null,
            "grid_row": null,
            "grid_template_areas": null,
            "grid_template_columns": null,
            "grid_template_rows": null,
            "height": null,
            "justify_content": null,
            "justify_items": null,
            "left": null,
            "margin": null,
            "max_height": null,
            "max_width": null,
            "min_height": null,
            "min_width": null,
            "object_fit": null,
            "object_position": null,
            "order": null,
            "overflow": null,
            "overflow_x": null,
            "overflow_y": null,
            "padding": null,
            "right": null,
            "top": null,
            "visibility": null,
            "width": null
          }
        }
      }
    }
  },
  "nbformat": 4,
  "nbformat_minor": 0
}