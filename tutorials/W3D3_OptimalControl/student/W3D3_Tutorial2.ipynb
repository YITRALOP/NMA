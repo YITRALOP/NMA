{
  "cells": [
    {
      "cell_type": "markdown",
      "metadata": {
        "id": "view-in-github",
        "colab_type": "text"
      },
      "source": [
        "<a href=\"https://colab.research.google.com/github/YITRALOP/NMA/blob/main/tutorials/W3D3_OptimalControl/student/W3D3_Tutorial2.ipynb\" target=\"_parent\"><img src=\"https://colab.research.google.com/assets/colab-badge.svg\" alt=\"Open In Colab\"/></a>"
      ]
    },
    {
      "cell_type": "markdown",
      "metadata": {
        "execution": {},
        "id": "p76xa5EXS_pJ"
      },
      "source": [
        "# Tutorial 2: Optimal Control for Continuous State\n",
        "\n",
        "**Week 3, Day 3: Optimal Control**\n",
        "\n",
        "**By Neuromatch Academy**\n",
        "\n",
        "**Content creators:** Zhengwei Wu, Shreya Saxena, Xaq Pitkow\n",
        "\n",
        "**Content reviewers:** Karolina Stosio, Roozbeh Farhoodi, Saeed Salehi, Ella Batty, Spiros Chavlis, Matt Krause and Michael Waskom\n",
        "\n",
        "**Production editors:** Spiros Chavlis"
      ]
    },
    {
      "cell_type": "markdown",
      "metadata": {
        "execution": {},
        "id": "twzrA4NmS_pK"
      },
      "source": [
        "---\n",
        "# Tutorial Objectives\n",
        "\n",
        "In this tutorial, we will implement a continuous control task. You will design control inputs for a linear dynamical system to reach a target state. The state here is continuous-valued, i.e., takes on any real number from $-\\infty$ to $\\infty$.\n",
        "\n",
        "You have already learned about control for binary states in Tutorial 1, and you have learned about stochastic dynamics, latent states, and measurements yesterday. Now we introduce you to the new concepts of designing a controller with full observation of the state (linear quadratic regulator - LQR), and under partial observability of the state (linear quadratic gaussian - LQG).\n",
        "\n",
        "The running example we consider throughout the tutorial is a cat trying to catch a mouse in space using its handy little jet pack to navigate.\n",
        "\n",
        "In this tutorial you will:\n",
        "\n",
        "* Apply the ideas of optimal control to solve a toy example: Astrocat catching mice in space\n",
        "* Design an optimal controller with a full observation of the state (linear quadratic regulator - LQR)\n",
        "* Design an optimal controller under partial observability of the state (linear quadratic gaussian - LQG)"
      ]
    },
    {
      "cell_type": "code",
      "execution_count": 2,
      "metadata": {
        "cellView": "form",
        "execution": {},
        "id": "BSCmgJY9S_pL",
        "outputId": "af38cae3-67d3-460f-bb6e-f80f38ae66a6",
        "colab": {
          "base_uri": "https://localhost:8080/",
          "height": 518
        }
      },
      "outputs": [
        {
          "output_type": "stream",
          "name": "stdout",
          "text": [
            "If you want to download the slides: https://osf.io/download/8j5rs/\n"
          ]
        },
        {
          "output_type": "execute_result",
          "data": {
            "text/plain": [
              "<IPython.lib.display.IFrame at 0x7c17fc645950>"
            ],
            "text/html": [
              "\n",
              "        <iframe\n",
              "            width=\"854\"\n",
              "            height=\"480\"\n",
              "            src=\"https://mfr.ca-1.osf.io/render?url=https://osf.io/8j5rs/?direct%26mode=render%26action=download%26mode=render\"\n",
              "            frameborder=\"0\"\n",
              "            allowfullscreen\n",
              "            \n",
              "        ></iframe>\n",
              "        "
            ]
          },
          "metadata": {},
          "execution_count": 2
        }
      ],
      "source": [
        "# @title Tutorial slides\n",
        "# @markdown These are the slides for all videos in this tutorial.\n",
        "from IPython.display import IFrame\n",
        "link_id = \"8j5rs\"\n",
        "print(f\"If you want to download the slides: https://osf.io/download/{link_id}/\")\n",
        "IFrame(src=f\"https://mfr.ca-1.osf.io/render?url=https://osf.io/{link_id}/?direct%26mode=render%26action=download%26mode=render\", width=854, height=480)"
      ]
    },
    {
      "cell_type": "markdown",
      "metadata": {
        "execution": {},
        "id": "LR1G12XeS_pM"
      },
      "source": [
        "---\n",
        "# Setup"
      ]
    },
    {
      "cell_type": "code",
      "execution_count": null,
      "metadata": {
        "cellView": "form",
        "execution": {},
        "id": "UuahgyalS_pM"
      },
      "outputs": [],
      "source": [
        "# @title Install and import feedback gadget\n",
        "\n",
        "!pip3 install vibecheck datatops --quiet\n",
        "\n",
        "from vibecheck import DatatopsContentReviewContainer\n",
        "def content_review(notebook_section: str):\n",
        "    return DatatopsContentReviewContainer(\n",
        "        \"\",  # No text prompt\n",
        "        notebook_section,\n",
        "        {\n",
        "            \"url\": \"https://pmyvdlilci.execute-api.us-east-1.amazonaws.com/klab\",\n",
        "            \"name\": \"neuromatch_cn\",\n",
        "            \"user_key\": \"y1x3mpx5\",\n",
        "        },\n",
        "    ).render()\n",
        "\n",
        "\n",
        "feedback_prefix = \"W3D3_T2\""
      ]
    },
    {
      "cell_type": "code",
      "execution_count": 1,
      "metadata": {
        "cellView": "both",
        "execution": {},
        "pycharm": {
          "is_executing": false
        },
        "id": "1ymZOLkRS_pN"
      },
      "outputs": [],
      "source": [
        "# Imports\n",
        "import numpy as np\n",
        "import matplotlib.pyplot as plt\n",
        "from matplotlib import gridspec\n",
        "from collections import namedtuple"
      ]
    },
    {
      "cell_type": "code",
      "execution_count": 3,
      "metadata": {
        "cellView": "form",
        "execution": {},
        "id": "7MSQhenAS_pN"
      },
      "outputs": [],
      "source": [
        "# @title Figure Settings\n",
        "import logging\n",
        "logging.getLogger('matplotlib.font_manager').disabled = True\n",
        "\n",
        "import ipywidgets as widgets\n",
        "from IPython.display import HTML\n",
        "%matplotlib inline\n",
        "%config InlineBackend.figure_format = 'retina'\n",
        "plt.style.use(\"https://raw.githubusercontent.com/NeuromatchAcademy/course-content/main/nma.mplstyle\")"
      ]
    },
    {
      "cell_type": "code",
      "execution_count": 4,
      "metadata": {
        "cellView": "form",
        "execution": {},
        "id": "r8yAawVWS_pO"
      },
      "outputs": [],
      "source": [
        "# @title Plotting Functions\n",
        "\n",
        "def plot_vs_time(s, slabel, color, goal=None, ylabel=None, show=True):\n",
        "  plt.plot(s, color, label=slabel)\n",
        "  if goal is not None:\n",
        "    plt.plot(goal, 'm--', label='goal $g$')\n",
        "  plt.xlabel(\"Time\", fontsize=14)\n",
        "  plt.legend(loc=\"upper right\")\n",
        "\n",
        "  if ylabel:\n",
        "    plt.ylabel(ylabel, fontsize=14)\n",
        "  if show:\n",
        "    plt.show()\n",
        "\n",
        "\n",
        "def plot_kf_state_vs_time(latent_states, estimates, title, goal=None):\n",
        "\n",
        "  fig = plt.figure(figsize=(12, 4))\n",
        "  plt.suptitle(title, y=1.05)\n",
        "  gs = gridspec.GridSpec(1, 2, width_ratios=[1, 2])\n",
        "\n",
        "  ax0 = plt.subplot(gs[0])\n",
        "  ax0.plot(latent_states, estimates, 'r.')\n",
        "  ax0.plot(latent_states, latent_states, 'b')\n",
        "  ax0.set_xlabel('Latent State')\n",
        "  ax0.set_ylabel('Estimated State')\n",
        "  ax0.set_aspect('equal')\n",
        "\n",
        "  ax1 = plt.subplot(gs[1])\n",
        "  ax1.plot(latent_states, 'b', label = 'Latent State')\n",
        "  ax1.plot(estimates, 'r', label = 'Estimated State')\n",
        "\n",
        "  if goal is not None:\n",
        "    ax1.plot(goal, 'm--', label = 'goal')\n",
        "\n",
        "  ax1.set_xlabel('Time')\n",
        "  ax1.set_ylabel('State')\n",
        "  ax1.legend(loc=\"upper right\")\n",
        "  plt.tight_layout()\n",
        "  plt.show()"
      ]
    },
    {
      "cell_type": "code",
      "execution_count": 5,
      "metadata": {
        "cellView": "form",
        "execution": {},
        "id": "7l0y_KJ4S_pO"
      },
      "outputs": [],
      "source": [
        "# @title Helper Functions\n",
        "\n",
        "# Global variables\n",
        "T = 50\n",
        "standard_normal_noise = np.random.randn(T)\n",
        "standard_normal_noise_meas = np.random.randn(T)\n",
        "gaussian = namedtuple('Gaussian', ['mean', 'cov'])\n",
        "\n",
        "class ExerciseError(AssertionError):\n",
        "  pass\n",
        "\n",
        "\n",
        "def test_lds_class(lds_class):\n",
        "  from math import isclose\n",
        "  ldsys = lds_class(ini_state=2., noise_var=0.)\n",
        "  if not isclose(ldsys.dynamics(.9)[1], 1.8):\n",
        "    raise ExerciseError(\"'dynamics' method is not correctly implemented!\")\n",
        "  if not isclose(ldsys.dynamics_openloop(.9, 2., np.zeros(ldsys.T)-1.)[1], -0.2):\n",
        "    raise ExerciseError(\"'dynamics_openloop' method is not correctly implemented!\")\n",
        "  if not isclose(ldsys.dynamics_closedloop(.9, 2., np.zeros(ldsys.T)+.3)[0][1], 3.):\n",
        "    raise ExerciseError(\"s[t] in 'dynamics_closedloop' method is not correctly implemented!\")\n",
        "  if not isclose(ldsys.dynamics_closedloop(.9, 2., np.zeros(ldsys.T)+.3)[1][0], .6):\n",
        "    raise ExerciseError(\"a[t] in 'dynamics_closedloop' method is not correctly implemented!\")\n",
        "  ldsys.noise_var = 1.\n",
        "  if isclose(ldsys.dynamics(.9)[1], 1.8):\n",
        "    raise ExerciseError(\"Did you forget to add noise to your s[t+1] in 'dynamics'?\")\n",
        "  if isclose(ldsys.dynamics_openloop(.9, 2., np.zeros(ldsys.T)-1.)[1], -0.2):\n",
        "    raise ExerciseError(\"Did you forget to add noise to your s[t+1] in 'dynamics_openloop'?\")\n",
        "  if isclose(ldsys.dynamics_closedloop(.9, 2., np.zeros(ldsys.T)+.3)[0][1], 3.):\n",
        "    raise ExerciseError(\"Did you forget to add noise to your s[t+1] in 'dynamics_closedloop'?\")\n",
        "  if not isclose(ldsys.dynamics_closedloop(.9, 2., np.zeros(ldsys.T)+.3)[1][0], .6):\n",
        "    raise ExerciseError(\"Your input a[t] should not be noisy in 'dynamics_closedloop'.\")\n",
        "\n",
        "  print('Well Done!')\n",
        "\n",
        "\n",
        "def test_lqr_class(lqr_class):\n",
        "  from math import isclose\n",
        "  lqreg = lqr_class(ini_state=2., noise_var=0.)\n",
        "  lqreg.goal = np.array([-2, -2])\n",
        "  s = np.array([1, 2])\n",
        "  a = np.array([3, 4])\n",
        "  if not isclose(lqreg.calculate_J_state(s), 25):\n",
        "    raise ExerciseError(\"'calculate_J_state' method is not correctly implemented!\")\n",
        "  if not isclose(lqreg.calculate_J_control(a), 25):\n",
        "    raise ExerciseError(\"'calculate_J_control' method is not correctly implemented!\")\n",
        "\n",
        "  print('Well Done!')"
      ]
    },
    {
      "cell_type": "markdown",
      "metadata": {
        "execution": {},
        "id": "bRdVN-zhS_pP"
      },
      "source": [
        "---\n",
        "# Section 1: Exploring a Linear Dynamical System (LDS) with Open-Loop and Closed-Loop Control"
      ]
    },
    {
      "cell_type": "code",
      "execution_count": 6,
      "metadata": {
        "cellView": "form",
        "execution": {},
        "id": "cUt16p58S_pP",
        "outputId": "41c2d11f-3ff9-4389-f9d1-c4366479ece4",
        "colab": {
          "base_uri": "https://localhost:8080/",
          "height": 580,
          "referenced_widgets": [
            "173615a283214daf9d770e10137f42be",
            "d79615d22b024a6690b9736d1d60c7c5",
            "d94a2920e7c3439f80fe00d90adab983",
            "ca4d483c3e64492ba83c388674c95357",
            "9a701e4bf9c24fd2bc9309ffdcb5b9b8",
            "8534489865f84b94b9dbc791bba64e80"
          ]
        }
      },
      "outputs": [
        {
          "output_type": "display_data",
          "data": {
            "text/plain": [
              "Tab(children=(Output(), Output()), _titles={'0': 'Youtube', '1': 'Bilibili'})"
            ],
            "application/vnd.jupyter.widget-view+json": {
              "version_major": 2,
              "version_minor": 0,
              "model_id": "173615a283214daf9d770e10137f42be"
            }
          },
          "metadata": {}
        }
      ],
      "source": [
        "# @title Video 1: Flying Through Space\n",
        "from ipywidgets import widgets\n",
        "from IPython.display import YouTubeVideo\n",
        "from IPython.display import IFrame\n",
        "from IPython.display import display\n",
        "\n",
        "\n",
        "class PlayVideo(IFrame):\n",
        "  def __init__(self, id, source, page=1, width=400, height=300, **kwargs):\n",
        "    self.id = id\n",
        "    if source == 'Bilibili':\n",
        "      src = f'https://player.bilibili.com/player.html?bvid={id}&page={page}'\n",
        "    elif source == 'Osf':\n",
        "      src = f'https://mfr.ca-1.osf.io/render?url=https://osf.io/download/{id}/?direct%26mode=render'\n",
        "    super(PlayVideo, self).__init__(src, width, height, **kwargs)\n",
        "\n",
        "\n",
        "def display_videos(video_ids, W=400, H=300, fs=1):\n",
        "  tab_contents = []\n",
        "  for i, video_id in enumerate(video_ids):\n",
        "    out = widgets.Output()\n",
        "    with out:\n",
        "      if video_ids[i][0] == 'Youtube':\n",
        "        video = YouTubeVideo(id=video_ids[i][1], width=W,\n",
        "                             height=H, fs=fs, rel=0)\n",
        "        print(f'Video available at https://youtube.com/watch?v={video.id}')\n",
        "      else:\n",
        "        video = PlayVideo(id=video_ids[i][1], source=video_ids[i][0], width=W,\n",
        "                          height=H, fs=fs, autoplay=False)\n",
        "        if video_ids[i][0] == 'Bilibili':\n",
        "          print(f'Video available at https://www.bilibili.com/video/{video.id}')\n",
        "        elif video_ids[i][0] == 'Osf':\n",
        "          print(f'Video available at https://osf.io/{video.id}')\n",
        "      display(video)\n",
        "    tab_contents.append(out)\n",
        "  return tab_contents\n",
        "\n",
        "\n",
        "video_ids = [('Youtube', 'MLUTR8z16jI'), ('Bilibili', 'BV1Zv411B7WV')]\n",
        "tab_contents = display_videos(video_ids, W=854, H=480)\n",
        "tabs = widgets.Tab()\n",
        "tabs.children = tab_contents\n",
        "for i in range(len(tab_contents)):\n",
        "  tabs.set_title(i, video_ids[i][0])\n",
        "display(tabs)"
      ]
    },
    {
      "cell_type": "code",
      "execution_count": null,
      "metadata": {
        "cellView": "form",
        "execution": {},
        "id": "gJh6a813S_pP"
      },
      "outputs": [],
      "source": [
        "# @title Submit your feedback\n",
        "content_review(f\"{feedback_prefix}_Flying_Through_Space_Video\")"
      ]
    },
    {
      "cell_type": "markdown",
      "metadata": {
        "execution": {},
        "id": "92K5aE0SS_pQ"
      },
      "source": [
        "\n",
        "In this example, a cat is trying to catch a mouse in space. The location of the mouse is the goal state $g$, here a static goal. Later on, we will make the goal time-varying, i.e., $g(t)$. The cat's location is the state of the system $s_t$. The state has its internal dynamics: think of the cat drifting slowly in space. These dynamics are such that the state at the next time step $s_{t+1}$ are a linear function of the current state $s_t$. There is some process noise affecting the state (think about engine corrosions on the little jetpack causing unintended movements) here modeled as Gaussian noise $w_t$.\n",
        "\n",
        "The control input or action $a_t$ is the action of the jet pack, which has an effect $Ba_t$ on the state at the next time step $s_{t+1}$. In this tutorial, we will be designing the action $a_t$ to reach the goal $g$, with known state dynamics.\n",
        "\n",
        "Thus, our linear discrete-time system evolves according to the following equation:\n",
        "\n",
        "\\begin{align}\n",
        "s_{t+1} &= Ds_t + Ba_t + w_t \\tag{1}\\\\\n",
        "s_{0} &= s_{init}\n",
        "\\end{align}\n",
        "\n",
        "with\n",
        "\n",
        "$t$: time step, ranging from $1$ to $T$, where $T$ is the time horizon.\n",
        "\n",
        "$s_t$: state at time $t$.\n",
        "\n",
        "$a_t$: action at time $t$ (also known as \"control input\").\n",
        "\n",
        "$w_t$: gaussian noise at time $t$.\n",
        "\n",
        "$D$: transition matrix.\n",
        "\n",
        "$B$: input matrix.\n",
        "\n",
        "<br>\n",
        "\n",
        "For simplicity, we will consider the 1D case, where the matrices reduce to scalars, and the states, control and noise are one-dimensional as well. Specifically, $D$ and $B$ are scalars.\n",
        "\n",
        "We will consider the goal $g$ to be the origin, i.e., $g=0$, for Exercises 1 and 2.2. Later on, we will explore scenarios where the goal state changes over time $g(t)$.\n",
        "\n",
        "<br>\n",
        "\n",
        "**Stability**\n",
        "\n",
        "The system is stable, i.e., the output remains finite for any finite initial condition $s_{init}$, if $|D| < 1$. Note that if the state dynamics are stable, the state eventually reaches $0$ (No control is needed!). However, when $|D|>1$ or the goal $g \\neq 0$ selecting an appropriate sequence of actions becomes essential to completing the task.\n",
        "\n",
        "<br>\n",
        "\n",
        "**Open-loop control and Closed-loop linear control**\n",
        "\n",
        "In *open-loop control*, $a_t$ is not a function of $s_t$. In *closed-loop linear control*, $a_t$ is a linear function of the state $s_t$. Specifically, $a_t$ is the control gain, $L_t$, multiplied by $s_t$, i.e., $a_t=L_t s_t$.\n",
        "\n",
        "In the next exercise, you will explore what happens when nothing is controlling the system, when the system is being controlled following an open-loop control policy, and when the system is under closed-loop linear control."
      ]
    },
    {
      "cell_type": "markdown",
      "metadata": {
        "execution": {},
        "id": "4d1NgqgsS_pQ"
      },
      "source": [
        "### Coding Exercise 1: Implement state evolution equations\n",
        "\n",
        "Implement the state evolution equations in the class methods as provided below, for the following cases:\n",
        "\n",
        "(a) no control: `def dynamics`\n",
        "\n",
        "(b) open-loop control: `def dynamics_openloop`\n",
        "\n",
        "(c) closed-loop control: `def dynamics_closedloop`\n",
        "\n",
        "<br>\n",
        "\n",
        "**Tip:** refer to Equation (1) above. The provided code uses the same notation."
      ]
    },
    {
      "cell_type": "code",
      "execution_count": null,
      "metadata": {
        "execution": {},
        "id": "6gSWAgXPS_pQ"
      },
      "outputs": [],
      "source": [
        "class LDS:\n",
        "  \"\"\"\n",
        "    T: Length of timeline (global, fixed variable)\n",
        "    standard_normal_noise: Global noise of length T drawn from N(0, 1)\n",
        "    noise: Gaussian noise N(mean, var) = mean + sqrt(var) * standard_normal_noise\n",
        "    ...\n",
        "  \"\"\"\n",
        "  def __init__(self, ini_state: float, noise_var: float, static_noise=False):\n",
        "    self.ini_state = ini_state\n",
        "    self.noise_var = noise_var\n",
        "    self.T = T\n",
        "    self.static_noise = static_noise\n",
        "\n",
        "  def dynamics(self, D: float):\n",
        "    s = np.zeros(T)  # states initialization\n",
        "    s[0] = self.ini_state\n",
        "    if self.static_noise:\n",
        "      noise = np.sqrt(self.noise_var) * standard_normal_noise\n",
        "    else:\n",
        "      noise = np.sqrt(self.noise_var) * np.random.randn(T)\n",
        "\n",
        "    for t in range(T - 1):\n",
        "      ####################################################################\n",
        "      ## Insert your code here to fill with the state dynamics equation\n",
        "      ## without any control input\n",
        "      ## complete the function and remove\n",
        "      raise NotImplementedError(\"Exercise: Please complete 'dynamics'\")\n",
        "      ####################################################################\n",
        "      # calculate the state of t+1\n",
        "      s[t + 1] = ...\n",
        "\n",
        "    return s\n",
        "\n",
        "  def dynamics_openloop(self, D: float, B: float, a: np.ndarray):\n",
        "\n",
        "    s = np.zeros(T)  # states initialization\n",
        "    s[0] = self.ini_state\n",
        "    if self.static_noise:\n",
        "      noise = np.sqrt(self.noise_var) * standard_normal_noise\n",
        "    else:\n",
        "      noise = np.sqrt(self.noise_var) * np.random.randn(T)\n",
        "\n",
        "    for t in range(T - 1):\n",
        "      ####################################################################\n",
        "      ## Insert your code here to fill with the state dynamics equation\n",
        "      ## with open-loop control input a[t]\n",
        "      ## complete the function and remove\n",
        "      raise NotImplementedError(\"Please complete 'dynamics_openloop'\")\n",
        "      ####################################################################\n",
        "      # calculate the state of t+1\n",
        "      s[t + 1] = ...\n",
        "\n",
        "    return s\n",
        "\n",
        "  def dynamics_closedloop(self, D: float, B: float, L: np.ndarray):\n",
        "\n",
        "    s = np.zeros(T)  # states initialization\n",
        "    a = np.zeros(T - 1)\n",
        "    s[0] = self.ini_state\n",
        "\n",
        "    if self.static_noise:\n",
        "      noise = np.sqrt(self.noise_var) * standard_normal_noise\n",
        "    else:\n",
        "      noise = np.sqrt(self.noise_var) * np.random.randn(T)\n",
        "\n",
        "    for t in range(T - 1):\n",
        "      ####################################################################\n",
        "      ## Insert your code here to fill with the state dynamics equation\n",
        "      ## with closed-loop control input as a function of control gain L.\n",
        "      ## complete the function and remove\n",
        "      raise NotImplementedError(\"Please complete 'dynamics_closedloop'\")\n",
        "      ####################################################################\n",
        "      # calculate the current action\n",
        "      a[t] = ...\n",
        "      # calculate the next state\n",
        "      s[t + 1] = ...\n",
        "\n",
        "    return s, a\n",
        "\n",
        "\n",
        "# Test your function\n",
        "test_lds_class(LDS)"
      ]
    },
    {
      "cell_type": "markdown",
      "metadata": {
        "execution": {},
        "id": "pX8j6UcHS_pQ"
      },
      "source": [
        "You should see\n",
        "\n",
        "```Well Done!```"
      ]
    },
    {
      "cell_type": "markdown",
      "metadata": {
        "execution": {},
        "id": "12Oi5LXRS_pR"
      },
      "source": [
        "[*Click for solution*](https://github.com/NeuromatchAcademy/course-content/tree/main/tutorials/W3D3_OptimalControl/solutions/W3D3_Tutorial2_Solution_2a1f976e.py)\n",
        "\n"
      ]
    },
    {
      "cell_type": "code",
      "execution_count": null,
      "metadata": {
        "cellView": "form",
        "execution": {},
        "id": "h0BZbXvFS_pR"
      },
      "outputs": [],
      "source": [
        "# @title Submit your feedback\n",
        "content_review(f\"{feedback_prefix}_Implement_state_evolution_equations_Exercise\")"
      ]
    },
    {
      "cell_type": "markdown",
      "metadata": {
        "execution": {},
        "id": "nn0MdhMaS_pR"
      },
      "source": [
        "### Interactive Demo 1.1: Explore no control vs. open-loop control vs. closed-loop control\n",
        "\n",
        "Once your code above passes the test, use the interactive demo below to visualize the effects of different kinds of control inputs.\n",
        "\n",
        "(a) For the no-control case, can you identify two distinct outcomes, depending on the value of D? Why?\n",
        "\n",
        "(b) The open-loop controller works well--or does it? Are there any problems in in challenging (high noise) conditions.\n",
        "\n",
        "(c) Does the closed-loop controller fare better with the noise? Vary the values of $L$ and find a range where it quickly reaches the goal."
      ]
    },
    {
      "cell_type": "code",
      "execution_count": null,
      "metadata": {
        "cellView": "form",
        "execution": {},
        "id": "UfEu-MYRS_pR"
      },
      "outputs": [],
      "source": [
        "# @markdown Make sure you execute this cell to enable the widget!\n",
        "\n",
        "# @markdown Play around (attentively) with `a` and `L` to see the effect on the open-loop controlled and closed-loop controlled state.\n",
        "\n",
        "display(HTML('''<style>.widget-label { min-width: 15ex !important; }</style>'''))\n",
        "\n",
        "@widgets.interact(D=widgets.FloatSlider(0.95, description=\"D\", min=0.85, max=1.05),\n",
        "                  L=widgets.FloatSlider(-0.3, description=\"L\", min=-0.6, max=0.),\n",
        "                  a=widgets.FloatSlider(-1., description=\"a\", min=-2., max=1.),\n",
        "                  B=widgets.FloatSlider(2., description=\"B\", min=1., max=3.),\n",
        "                  noise_var=widgets.FloatSlider(.1, description=\"noise_var\", min=0., max=.2),\n",
        "                  ini_state=widgets.FloatSlider(2., description=\"ini_state\", min=2., max=10.))\n",
        "\n",
        "def simulate_lds(D=0.95, L=-0.3, a=-1., B=2., noise_var=0.1, ini_state=2.):\n",
        "  \"\"\"\n",
        "    ...\n",
        "  \"\"\"\n",
        "  static_noise = True\n",
        "\n",
        "  # linear dynamical system\n",
        "  lds = LDS(ini_state, noise_var, static_noise)\n",
        "\n",
        "  # No control\n",
        "  s_no_control=lds.dynamics(D)\n",
        "\n",
        "  # Open loop control\n",
        "  at = np.append(a, np.zeros(T - 1))\n",
        "  s_open_loop = lds.dynamics_openloop(D, B, at)\n",
        "\n",
        "  # Closed loop control\n",
        "  Lt =  np.zeros(T) + L\n",
        "  s_closed_loop, a_closed_loop = lds.dynamics_closedloop(D, B, Lt)\n",
        "\n",
        "  plt.figure(figsize=(10, 6))\n",
        "  plt.plot(s_no_control, 'b', label='No control')\n",
        "  plt.plot(s_open_loop, 'g', label='Open Loop with a = {}'.format(a))\n",
        "  plt.plot(s_closed_loop, 'r', label='Closed Loop with L = {}'.format(L))\n",
        "  plt.plot(np.zeros(T), 'm--', label='goal')\n",
        "  plt.title('LDS State Evolution')\n",
        "  plt.ylabel('State', fontsize=14)\n",
        "  plt.xlabel('Time', fontsize=14)\n",
        "  plt.legend(loc=\"upper right\")\n",
        "  plt.show()"
      ]
    },
    {
      "cell_type": "markdown",
      "metadata": {
        "execution": {},
        "id": "zAkrLIJaS_pR"
      },
      "source": [
        "[*Click for solution*](https://github.com/NeuromatchAcademy/course-content/tree/main/tutorials/W3D3_OptimalControl/solutions/W3D3_Tutorial2_Solution_f62a6bbc.py)\n",
        "\n"
      ]
    },
    {
      "cell_type": "code",
      "execution_count": null,
      "metadata": {
        "cellView": "form",
        "execution": {},
        "id": "kWfsLXdBS_pR"
      },
      "outputs": [],
      "source": [
        "# @title Submit your feedback\n",
        "content_review(f\"{feedback_prefix}_No_control_closed_lopp_open_loop_Interactive_Demo_and_Discussion\")"
      ]
    },
    {
      "cell_type": "markdown",
      "metadata": {
        "execution": {},
        "id": "I_EFhGJGS_pS"
      },
      "source": [
        "### Interactive Demo 1.2: Exploring the closed-loop setting further\n",
        "Execute the cell below to visualize the MSE between the state and goal, as a function of control gain $L$. You should see a U-shaped curve, with a minimum MSE. The control gain at which the minimum MSE is reached, is the 'optimal' constant control gain for minimizing MSE, here called the numerical optimum.\n",
        "\n",
        "A green dashed line is shown $L = -\\frac{D}{B}$ with $D=1.1$ and $B=2$. Why is this the theoretical optimal control gain for minimizing MSE of the state $s$ to the goal $g=0$? Examine how the states evolve with a constant gain $L$.\n",
        "\n",
        "\\begin{align}\n",
        "s_{t+1} &= Ds_t + Ba_t + w_t \\\\\n",
        "&= Ds_t + B(Ls_t) + w_t \\\\\n",
        "&= (D+BL)s_t + w_t \\tag{2}\n",
        "\\end{align}"
      ]
    },
    {
      "cell_type": "code",
      "execution_count": null,
      "metadata": {
        "cellView": "form",
        "execution": {},
        "id": "V__PhWDcS_pS"
      },
      "outputs": [],
      "source": [
        "# @markdown Execute this cell to visualize MSE between state and goal, as a function of control gain\n",
        "def calculate_plot_mse():\n",
        "  D, B, noise_var, ini_state = 1.1, 2., 0.1, 2.\n",
        "  num_iterations = 50\n",
        "  num_candidates = 100\n",
        "\n",
        "  control_gain_array = np.linspace(0.1, 1., num_candidates)\n",
        "  mse_array = np.zeros([num_candidates, num_iterations])\n",
        "\n",
        "  for j in range(num_iterations):\n",
        "    for i in range(num_candidates):\n",
        "      lds = LDS(ini_state, noise_var)\n",
        "      L = - np.ones(T) * control_gain_array[i]\n",
        "      s, a = lds.dynamics_closedloop(D, B, L)\n",
        "      mse_array[i, j] = np.sum(s**2)\n",
        "\n",
        "  opt = -control_gain_array[np.argmin(np.mean(mse_array, axis=1))]\n",
        "  plt.figure()\n",
        "  plt.plot(-control_gain_array, np.mean(mse_array, axis=1), 'b')\n",
        "  plt.axvline(x=-D/B, color='g', linestyle='--')\n",
        "  plt.xlabel(\"control gain (L)\", fontsize=14)\n",
        "  plt.ylabel(\"MSE between state and goal\" , fontsize=14)\n",
        "  plt.title(f\"MSE vs control gain, L*={opt:0.2f}\", fontsize=20)\n",
        "  plt.show()\n",
        "  return opt\n",
        "\n",
        "\n",
        "opt = calculate_plot_mse()"
      ]
    },
    {
      "cell_type": "markdown",
      "metadata": {
        "execution": {},
        "id": "PjtunzdtS_pS"
      },
      "source": [
        "Now, let's visualize the evolution of the system as we change the control gain.\n",
        "\n",
        "Using the next demo, explore the behavior of the system when over- and under- ambitious values of $L$ are used. The initial position of the slider corresponds to the optimal control gain $L^*$, the one that gets us the minimum MSE."
      ]
    },
    {
      "cell_type": "code",
      "execution_count": null,
      "metadata": {
        "cellView": "form",
        "execution": {},
        "id": "ZHkGNGpnS_pS"
      },
      "outputs": [],
      "source": [
        "# @markdown Make sure you execute this cell to enable the widget!\n",
        "\n",
        "# @markdown Explore different values of control gain `L` (close to optimal, over- and under- ambitious) \\\\\n",
        "\n",
        "display(HTML('''<style>.widget-label { min-width: 15ex !important; }</style>'''))\n",
        "\n",
        "@widgets.interact(L=widgets.FloatSlider(opt, description=\"L\",\n",
        "                                        min=-1.05, max=0.051))\n",
        "\n",
        "def simulate_L(L):\n",
        "  D, B, noise_var, ini_state = 1.1, 2., 0.1, 2.\n",
        "  static_noise  = True\n",
        "  lds = LDS(ini_state, noise_var, static_noise)\n",
        "  # Closed loop control with the numerical optimal control gain\n",
        "  Lt = np.ones(T) * L\n",
        "  s_closed_loop_choice, _ = lds.dynamics_closedloop(D, B, Lt)\n",
        "  # Closed loop control with the theoretical optimal control gain\n",
        "  L_theory = - D / B * np.ones(T)\n",
        "  s_closed_loop_theoretical, _ = lds.dynamics_closedloop(D, B, L_theory)\n",
        "  # Plotting closed loop state evolution with both theoretical and numerical optimal control gains\n",
        "  plt.figure(figsize=(10, 6))\n",
        "  plot_vs_time(s_closed_loop_theoretical,\n",
        "               'Closed Loop (Theoretical optimal control gain)', 'b',\n",
        "               show=False)\n",
        "  plot_vs_time(s_closed_loop_choice,\n",
        "               f'Closed Loop (your choice of L = {L:.2f})', 'g',\n",
        "               goal=np.zeros(T), ylabel=\"State\", show=False)\n",
        "  plt.title(f'Closed-loop State Evolution. L* = {opt:.2f}')\n",
        "  plt.show()"
      ]
    },
    {
      "cell_type": "markdown",
      "metadata": {
        "execution": {},
        "id": "2pNCXdacS_pS"
      },
      "source": [
        "[*Click for solution*](https://github.com/NeuromatchAcademy/course-content/tree/main/tutorials/W3D3_OptimalControl/solutions/W3D3_Tutorial2_Solution_f883b5b2.py)\n",
        "\n"
      ]
    },
    {
      "cell_type": "code",
      "execution_count": null,
      "metadata": {
        "cellView": "form",
        "execution": {},
        "id": "upXy_lZZS_pS"
      },
      "outputs": [],
      "source": [
        "# @title Submit your feedback\n",
        "content_review(f\"{feedback_prefix}_Closed_loop_exploration_Interactive_Demo_and_Discussion\")"
      ]
    },
    {
      "cell_type": "markdown",
      "metadata": {
        "execution": {},
        "id": "jIKUCKJ3S_pS"
      },
      "source": [
        "---\n",
        "# Section 2: Designing an optimal control input using a linear quadratic regulator (LQR)"
      ]
    },
    {
      "cell_type": "code",
      "execution_count": 7,
      "metadata": {
        "cellView": "form",
        "execution": {},
        "id": "JxNyiGG4S_pT",
        "outputId": "a1ab7fea-e9e9-44ba-b4ee-9bce0fd93cd5",
        "colab": {
          "base_uri": "https://localhost:8080/",
          "height": 580,
          "referenced_widgets": [
            "c2dcc17306aa483a88275ec94facd1a1",
            "20a4c124843840f5888c83a93c383a08",
            "99033c17d4e641f8b4d0f3607e283b1d",
            "069c9da8f8ea4063915d394be3925c97",
            "f34db2efdc814eee8c8bf709813ec41f",
            "6e165d5b032947a6bb847c765a4650b7"
          ]
        }
      },
      "outputs": [
        {
          "output_type": "display_data",
          "data": {
            "text/plain": [
              "Tab(children=(Output(), Output()), _titles={'0': 'Youtube', '1': 'Bilibili'})"
            ],
            "application/vnd.jupyter.widget-view+json": {
              "version_major": 2,
              "version_minor": 0,
              "model_id": "c2dcc17306aa483a88275ec94facd1a1"
            }
          },
          "metadata": {}
        }
      ],
      "source": [
        "# @title Video 2: Linear quadratic regulator (LQR)\n",
        "from ipywidgets import widgets\n",
        "from IPython.display import YouTubeVideo\n",
        "from IPython.display import IFrame\n",
        "from IPython.display import display\n",
        "\n",
        "\n",
        "class PlayVideo(IFrame):\n",
        "  def __init__(self, id, source, page=1, width=400, height=300, **kwargs):\n",
        "    self.id = id\n",
        "    if source == 'Bilibili':\n",
        "      src = f'https://player.bilibili.com/player.html?bvid={id}&page={page}'\n",
        "    elif source == 'Osf':\n",
        "      src = f'https://mfr.ca-1.osf.io/render?url=https://osf.io/download/{id}/?direct%26mode=render'\n",
        "    super(PlayVideo, self).__init__(src, width, height, **kwargs)\n",
        "\n",
        "\n",
        "def display_videos(video_ids, W=400, H=300, fs=1):\n",
        "  tab_contents = []\n",
        "  for i, video_id in enumerate(video_ids):\n",
        "    out = widgets.Output()\n",
        "    with out:\n",
        "      if video_ids[i][0] == 'Youtube':\n",
        "        video = YouTubeVideo(id=video_ids[i][1], width=W,\n",
        "                             height=H, fs=fs, rel=0)\n",
        "        print(f'Video available at https://youtube.com/watch?v={video.id}')\n",
        "      else:\n",
        "        video = PlayVideo(id=video_ids[i][1], source=video_ids[i][0], width=W,\n",
        "                          height=H, fs=fs, autoplay=False)\n",
        "        if video_ids[i][0] == 'Bilibili':\n",
        "          print(f'Video available at https://www.bilibili.com/video/{video.id}')\n",
        "        elif video_ids[i][0] == 'Osf':\n",
        "          print(f'Video available at https://osf.io/{video.id}')\n",
        "      display(video)\n",
        "    tab_contents.append(out)\n",
        "  return tab_contents\n",
        "\n",
        "\n",
        "video_ids = [('Youtube', 'NZSwDy7wtIs'), ('Bilibili', 'BV1sz411v7za')]\n",
        "tab_contents = display_videos(video_ids, W=854, H=480)\n",
        "tabs = widgets.Tab()\n",
        "tabs.children = tab_contents\n",
        "for i in range(len(tab_contents)):\n",
        "  tabs.set_title(i, video_ids[i][0])\n",
        "display(tabs)"
      ]
    },
    {
      "cell_type": "code",
      "execution_count": null,
      "metadata": {
        "cellView": "form",
        "execution": {},
        "id": "7XecJ86eS_pT"
      },
      "outputs": [],
      "source": [
        "# @title Submit your feedback\n",
        "content_review(f\"{feedback_prefix}_LQR_Video\")"
      ]
    },
    {
      "cell_type": "markdown",
      "metadata": {
        "execution": {},
        "id": "fkQhDfoXS_pT"
      },
      "source": [
        "## Section 2.1 Constraints on the system\n",
        "Now we will start imposing additional constraints on our system. For example, if you explored different values for $s_{init}$ above, you would have seen very large values for $a_t$ in order to get to the mouse in a short amount of time. However, perhaps the design of our jetpack makes it dangerous to use large amounts of fuel in a single timestep. We certainly do not want to explode, so we would like to keep the actions $a_t$ as small as possible while still maintaining good control.\n",
        "\n",
        "Moreover, in Exercise 1, we had restricted ourselves to a static control gain $L_t \\equiv L$. How would we vary it if we could?\n",
        "\n",
        "This leads us to a more principled way of designing the optimal control input."
      ]
    },
    {
      "cell_type": "markdown",
      "metadata": {
        "execution": {},
        "id": "zD_xAWV8S_pT"
      },
      "source": [
        "### Setting up a cost function\n",
        "\n",
        "In a finite-horizon LQR problem,  the cost function is defined as:\n",
        "\n",
        "\\begin{eqnarray}\n",
        "J({\\bf s},{\\bf a}) &=& J_{state}({\\bf s}) + \\rho J_{control}({\\bf a}) \\\\\n",
        " &=& \\sum_{t = 0}^{T} (s_{t}-g)^2 + \\rho \\sum_{t=0}^{T-1}a_{t}^2 \\tag{3}\n",
        "\\end{eqnarray}\n",
        "\n",
        "where $\\rho$ is the weight on the control effort cost, as compared to the cost of not being at the goal. Here, ${\\bf a} = \\{a_t\\}_{t=0}^{T-1}$, ${\\bf s} = \\{s_t\\}_{t=0}^{T}$. This is a quadratic cost function. In Exercise $2$, we will only explore $g=0$, in which case $J_{state}({\\bf s})$ can also be expressed as $\\sum_{t = 0}^{T} s_{t}^2$. In Exercise $3$, we will explore a non-zero time-varying goal.\n",
        "\n",
        "<br>\n",
        "\n",
        "The goal of the LQR problem is to find control ${\\bf a}$ such that $J({\\bf s},{\\bf a})$ is minimized. The goal is then to find the control gain at each time point, i.e.,\n",
        "\n",
        "\\begin{equation}\n",
        "\\text{argmin} _{\\{L_t\\}_{t=0}^{T-1}}  J({\\bf s},{\\bf a}) \\tag{4}\n",
        "\\end{equation}\n",
        "\n",
        "where $a_t = L_t s_t$."
      ]
    },
    {
      "cell_type": "markdown",
      "metadata": {
        "execution": {},
        "id": "gyyhpcOzS_pT"
      },
      "source": [
        "## Section 2.2 Solving LQR\n",
        "\n",
        "The solution to Equation (4), i.e., LQR for a finite time horizon, can be obtained via Dynamic Programming. For details, check out [this lecture by Stephen Boyd](https://stanford.edu/class/ee363/lectures/dlqr.pdf).\n",
        "\n",
        "For an infinite time horizon, one can obtain a closed-form solution using Riccati equations, and the solution for the control gain becomes time-invariant, i.e., $L_t \\equiv L$. We will use this in Exercise 4. For  details, check out [this other lecture by Stephen Boyd](https://stanford.edu/class/ee363/lectures/dlqr-ss.pdf).\n",
        "\n",
        "<br>\n",
        "\n",
        "Additional reference for entire section:\n",
        "\n",
        "[Bertsekas, Dimitri P. _Dynamic programming and optimal control_. Vol. 1. No. 2. Belmont, MA: Athena scientific, 1995](http://www.athenasc.com/dpbook.html)."
      ]
    },
    {
      "cell_type": "markdown",
      "metadata": {
        "execution": {},
        "id": "H4agcrbDS_pT"
      },
      "source": [
        "### Coding Exercise 2.2: Implement the cost function\n",
        "\n",
        "The cost function $J({\\bf s}, {\\bf a})$ can be divided into two parts: $J_{state}({\\bf s})$ and $J_{control}({\\bf a})$.\n",
        "\n",
        "Code up these two parts in the class methods `def calculate_J_state` and `def calculate_J_control` in the following helper class for LQR."
      ]
    },
    {
      "cell_type": "code",
      "execution_count": null,
      "metadata": {
        "execution": {},
        "id": "yjiIi_EDS_pU"
      },
      "outputs": [],
      "source": [
        "class LQR(LDS):\n",
        "  def __init__(self, ini_state, noise_var, static_noise=False):\n",
        "    super().__init__(ini_state, noise_var, static_noise)\n",
        "    self.T = T\n",
        "    self.goal = np.zeros(T)  # The class LQR only supports g=0\n",
        "\n",
        "  def control_gain_LQR(self, D, B, rho):\n",
        "    P = np.zeros(self.T)  # Dynamic programming variable\n",
        "    L = np.zeros(self.T - 1)  # control gain\n",
        "    P[-1] = 1\n",
        "    for t in range(self.T - 1):\n",
        "        P_t_1 = P[self.T - t - 1]\n",
        "        P[self.T - t-2] = (1 + P_t_1 * D**2 - D * P_t_1 * B / (rho + P_t_1 * B**2) * B * P_t_1 * D)\n",
        "        L[self.T - t-2] = - (1 / (rho + P_t_1 * B**2) * B * P_t_1 * D)\n",
        "    return L\n",
        "\n",
        "  def calculate_J_state(self, s:np.ndarray):\n",
        "    ########################################################################\n",
        "    ## Insert your code here to calculate J_state(s) (see Eq. 3)\n",
        "    ## complete the function and remove\n",
        "    raise NotImplementedError(\"Please complete 'calculate_J_state'\")\n",
        "    ########################################################################\n",
        "    # calculate the state\n",
        "    J_state = ...\n",
        "\n",
        "    return J_state\n",
        "\n",
        "  def calculate_J_control(self, a:np.ndarray):\n",
        "    ########################################################################\n",
        "    ## Insert your code here to calculate J_control(a) (see Eq. 3).\n",
        "    ## complete the function and remove\n",
        "    raise NotImplementedError(\"Please complete 'calculate_J_control'\")\n",
        "    ########################################################################\n",
        "    # calculate the control\n",
        "    J_control = ...\n",
        "\n",
        "    return J_control\n",
        "\n",
        "\n",
        "# Test class\n",
        "test_lqr_class(LQR)"
      ]
    },
    {
      "cell_type": "markdown",
      "metadata": {
        "execution": {},
        "id": "7gAoglyeS_pU"
      },
      "source": [
        "You should see\n",
        "\n",
        "```Well Done!```"
      ]
    },
    {
      "cell_type": "markdown",
      "metadata": {
        "execution": {},
        "id": "XdF8zLeSS_pU"
      },
      "source": [
        "[*Click for solution*](https://github.com/NeuromatchAcademy/course-content/tree/main/tutorials/W3D3_OptimalControl/solutions/W3D3_Tutorial2_Solution_1aa39d33.py)\n",
        "\n"
      ]
    },
    {
      "cell_type": "code",
      "execution_count": null,
      "metadata": {
        "cellView": "form",
        "execution": {},
        "id": "IZIRa5yMS_pU"
      },
      "outputs": [],
      "source": [
        "# @title Submit your feedback\n",
        "content_review(f\"{feedback_prefix}_Implement_the_cost_function_Exercise\")"
      ]
    },
    {
      "cell_type": "markdown",
      "metadata": {
        "execution": {},
        "id": "PrBJcYRzS_pY"
      },
      "source": [
        "### Interactive Demo 2.2: LQR to the origin\n",
        "\n",
        "In this exercise, we will use your new LQR controller to track a static goal at $g=0$. Here, we will explore how varying $\\rho$ (the weight on the control effort cost) affects the state trajectory, actions selected, and control gain.\n",
        "\n",
        "1. Play around with the value of $\\rho$ and see the effects on the sequence of states, the magnitude of the actions, and variability of control gain.\n",
        "2. What do you notice on the control gain when $\\rho$ is too large? and too small?\n",
        "3. For different values of $\\rho$, how does the magnitude of the actions change?"
      ]
    },
    {
      "cell_type": "code",
      "execution_count": null,
      "metadata": {
        "cellView": "form",
        "execution": {},
        "id": "V5FUQOBmS_pY"
      },
      "outputs": [],
      "source": [
        "# @markdown Make sure you execute this cell to enable the widget!\n",
        "\n",
        "# @markdown Explore different values of control gain `L` (close to optimal, over- and under- ambitious) \\\\\n",
        "\n",
        "display(HTML('''<style>.widget-label { min-width: 15ex !important; }</style>'''))\n",
        "\n",
        "@widgets.interact(rho=widgets.FloatSlider(25.,\n",
        "                                          description=\"ρ\",\n",
        "                                          min=0., max=50.))\n",
        "\n",
        "def simulate_rho(rho=1.):\n",
        "  D, B, ini_state, noise_var = 1.1, 2., 1., .1  # state parameter\n",
        "  static_noise = True\n",
        "  lqr = LQR(ini_state, noise_var, static_noise)\n",
        "  L = lqr.control_gain_LQR(D, B, rho)\n",
        "  s_lqr, a_lqr = lqr.dynamics_closedloop(D, B, L)\n",
        "\n",
        "  plt.figure(figsize=(14, 4))\n",
        "  plt.suptitle('LQR Control for rho = {}'.format(rho), y=1.05)\n",
        "\n",
        "  plt.subplot(1, 3, 1)\n",
        "  plot_vs_time(s_lqr,'State evolution','b',goal=np.zeros(T), show=False)\n",
        "  plt.ylabel('State $s_t$')\n",
        "\n",
        "  plt.subplot(1, 3, 2)\n",
        "  plot_vs_time(a_lqr,'LQR Action','b', show=False)\n",
        "  plt.ylabel('Action $a_t$')\n",
        "\n",
        "  plt.subplot(1, 3, 3)\n",
        "  plot_vs_time(L,'Control Gain','b', show=False)\n",
        "  plt.ylabel('Control Gain $L_t$')\n",
        "\n",
        "  plt.tight_layout()\n",
        "  plt.show()"
      ]
    },
    {
      "cell_type": "markdown",
      "metadata": {
        "execution": {},
        "id": "wD4mAMxcS_pZ"
      },
      "source": [
        "[*Click for solution*](https://github.com/NeuromatchAcademy/course-content/tree/main/tutorials/W3D3_OptimalControl/solutions/W3D3_Tutorial2_Solution_4bfba957.py)\n",
        "\n"
      ]
    },
    {
      "cell_type": "code",
      "execution_count": null,
      "metadata": {
        "cellView": "form",
        "execution": {},
        "id": "_n-dikoKS_pZ"
      },
      "outputs": [],
      "source": [
        "# @title Submit your feedback\n",
        "content_review(f\"{feedback_prefix}_LQR_to_the_origin_Interactive_Demo_and_Discussion\")"
      ]
    },
    {
      "cell_type": "markdown",
      "metadata": {
        "execution": {},
        "id": "eAzKW4LMS_pZ"
      },
      "source": [
        "## Section 2.3: The tradeoff between state cost and control cost\n",
        "\n",
        "In Exercise 2.1, you implemented code to calculate for $J_{state}$ and $J_{control}$ in the class methods for the class LQR.\n",
        "\n",
        "We will now plot them against each other for varying values of $\\rho$ to explore the tradeoff between state cost and control cost."
      ]
    },
    {
      "cell_type": "code",
      "execution_count": null,
      "metadata": {
        "cellView": "form",
        "execution": {},
        "id": "77DOtGybS_pZ"
      },
      "outputs": [],
      "source": [
        "# @markdown Execute this cell to visualize the tradeoff between state and control cost\n",
        "def calculate_plot_costs():\n",
        "\n",
        "  D, B, noise_var, ini_state = 1.1, 2., 0.1, 10.\n",
        "  num_iterations = 50\n",
        "  num_candidates = 100\n",
        "\n",
        "  rho_array = np.linspace(0.2, 40, num_candidates)\n",
        "  J_state = np.zeros([num_candidates, num_iterations])\n",
        "  J_control = np.zeros([num_candidates, num_iterations])\n",
        "\n",
        "  for j in range(num_iterations):\n",
        "    for i in np.arange(len(rho_array)):\n",
        "      lqr = LQR(ini_state, noise_var)\n",
        "      L = lqr.control_gain_LQR(D, B, rho_array[i])\n",
        "      s_lqr, a_lqr = lqr.dynamics_closedloop(D, B, L)\n",
        "      J_state[i, j] = lqr.calculate_J_state(s_lqr)\n",
        "      J_control[i, j] = lqr.calculate_J_control(a_lqr)\n",
        "  J_state = np.mean(J_state, axis=1)\n",
        "  J_control = np.mean(J_control, axis=1)\n",
        "\n",
        "  fig = plt.figure(figsize=(6, 6))\n",
        "  plt.plot(J_state, J_control, '.b')\n",
        "  plt.xlabel(\"$J_{state} = \\sum_{t = 0}^{T} (s_{t}-g)^2$\", fontsize=14)\n",
        "  plt.ylabel(\"$J_{control} = \\sum_{t=0}^{T-1}a_{t}^2$\" , fontsize=14)\n",
        "  plt.title(\"Error vs control effort\", fontsize=20)\n",
        "  plt.show()\n",
        "\n",
        "\n",
        "calculate_plot_costs()"
      ]
    },
    {
      "cell_type": "markdown",
      "metadata": {
        "execution": {},
        "id": "UtK_vStoS_pZ"
      },
      "source": [
        "You should notice the bottom half of a 'C' shaped curve, forming the tradeoff between the state cost and the control cost under optimal closed-loop linear control.\n",
        "\n",
        "For a desired value of the state cost, we cannot reach a lower control cost than the curve in the above plot. Similarly, for a desired value of the control cost, we must accept that amount of state cost. For example, if you know that you have a limited amount of fuel, which determines your maximum control cost to be $J_{control}^{max}$.\n",
        "\n",
        "You will be able to show that you will not be able to track your state with higher accuracy than the corresponding $J_{state}$ as given by the graph above. This is thus an important curve when designing a system and exploring its control."
      ]
    },
    {
      "cell_type": "markdown",
      "metadata": {
        "execution": {},
        "id": "2wuSaTqZS_pZ"
      },
      "source": [
        "---\n",
        "# Section 3: LQR for tracking a time-varying goal"
      ]
    },
    {
      "cell_type": "code",
      "execution_count": null,
      "metadata": {
        "cellView": "form",
        "execution": {},
        "id": "Q6TYnmemS_pZ"
      },
      "outputs": [],
      "source": [
        "# @title Video 3: Tracking a moving goal\n",
        "from ipywidgets import widgets\n",
        "from IPython.display import YouTubeVideo\n",
        "from IPython.display import IFrame\n",
        "from IPython.display import display\n",
        "\n",
        "\n",
        "class PlayVideo(IFrame):\n",
        "  def __init__(self, id, source, page=1, width=400, height=300, **kwargs):\n",
        "    self.id = id\n",
        "    if source == 'Bilibili':\n",
        "      src = f'https://player.bilibili.com/player.html?bvid={id}&page={page}'\n",
        "    elif source == 'Osf':\n",
        "      src = f'https://mfr.ca-1.osf.io/render?url=https://osf.io/download/{id}/?direct%26mode=render'\n",
        "    super(PlayVideo, self).__init__(src, width, height, **kwargs)\n",
        "\n",
        "\n",
        "def display_videos(video_ids, W=400, H=300, fs=1):\n",
        "  tab_contents = []\n",
        "  for i, video_id in enumerate(video_ids):\n",
        "    out = widgets.Output()\n",
        "    with out:\n",
        "      if video_ids[i][0] == 'Youtube':\n",
        "        video = YouTubeVideo(id=video_ids[i][1], width=W,\n",
        "                             height=H, fs=fs, rel=0)\n",
        "        print(f'Video available at https://youtube.com/watch?v={video.id}')\n",
        "      else:\n",
        "        video = PlayVideo(id=video_ids[i][1], source=video_ids[i][0], width=W,\n",
        "                          height=H, fs=fs, autoplay=False)\n",
        "        if video_ids[i][0] == 'Bilibili':\n",
        "          print(f'Video available at https://www.bilibili.com/video/{video.id}')\n",
        "        elif video_ids[i][0] == 'Osf':\n",
        "          print(f'Video available at https://osf.io/{video.id}')\n",
        "      display(video)\n",
        "    tab_contents.append(out)\n",
        "  return tab_contents\n",
        "\n",
        "\n",
        "video_ids = [('Youtube', 'HOoqM7kBWSY'), ('Bilibili', 'BV1up4y1S7gg')]\n",
        "tab_contents = display_videos(video_ids, W=854, H=480)\n",
        "tabs = widgets.Tab()\n",
        "tabs.children = tab_contents\n",
        "for i in range(len(tab_contents)):\n",
        "  tabs.set_title(i, video_ids[i][0])\n",
        "display(tabs)"
      ]
    },
    {
      "cell_type": "code",
      "execution_count": null,
      "metadata": {
        "cellView": "form",
        "execution": {},
        "id": "_4gnjpsvS_pZ"
      },
      "outputs": [],
      "source": [
        "# @title Submit your feedback\n",
        "content_review(f\"{feedback_prefix}_Tracking_a_moving_goal_Video\")"
      ]
    },
    {
      "cell_type": "markdown",
      "metadata": {
        "execution": {},
        "id": "xTxhvtIYS_pa"
      },
      "source": [
        "In a more realistic situation, the mouse would move around constantly. Suppose you were able to predict the movement of the mouse as it bounces from one place to another. This becomes your goal trajectory $g_t$.\n",
        "\n",
        "When the target state, denoted as $g_t$, is not $0$, the cost function becomes\n",
        "\n",
        "\\begin{equation}\n",
        "J({\\bf a}) = \\sum_{t = 0}^{T} (s_{t}- g_t) ^2 + \\rho \\sum_{t=0}^{T-1}(a_{t}-\\bar a_t)^2\n",
        "\\end{equation}\n",
        "\n",
        "Here, $\\bar a_t$ is the desired action based on the goal trajectory. In other words, the controller considers the goal for the next time step, and designs a preliminary control action that gets the state at the next time step to the desired goal. Specifically, without taking into account noise $w_t$, we would like to design $\\bar a_t$ such that $s_{t+1}=g_{t+1}$. Thus, from Equation $(1)$,\n",
        "\n",
        "\\begin{eqnarray}\n",
        "g_{t+1} &=& Ds_t + B \\bar a_t\\\\\n",
        "\\bar a_{t} &=& \\frac{- Ds_t + g_{t+1}}{B}\n",
        "\\end{eqnarray}\n",
        "\n",
        "The final control action $a_t$ is produced by adding this desired action $\\bar a_t$ with the term with the control gain $L_t(s_t - g_t)$."
      ]
    },
    {
      "cell_type": "code",
      "execution_count": null,
      "metadata": {
        "cellView": "form",
        "execution": {},
        "id": "sIjeYzkCS_pa"
      },
      "outputs": [],
      "source": [
        "# @markdown Execute this cell to include class for LQR control to desired time-varying goal\n",
        "\n",
        "class LQR_tracking(LQR):\n",
        "  def __init__(self, ini_state, noise_var, goal):\n",
        "    super().__init__(ini_state, noise_var)\n",
        "    self.T = T\n",
        "    self.goal = goal\n",
        "\n",
        "  def dynamics_tracking(self, D, B, L):\n",
        "\n",
        "    s = np.zeros(self.T) # states initialization\n",
        "    s[0] = self.ini_state\n",
        "\n",
        "    noise = np.sqrt(self.noise_var) * standard_normal_noise\n",
        "\n",
        "    a = np.zeros(self.T) # control initialization\n",
        "    a_bar = np.zeros(self.T)\n",
        "    for t in range(self.T - 1):\n",
        "      a_bar[t] = ( - D * s[t] + self.goal[t + 1]) / B\n",
        "      a[t] =  L[t] * (s[t] - self.goal[t]) + a_bar[t]\n",
        "      s[t + 1] = D * s[t] + B * a[t] + noise[t]\n",
        "\n",
        "    return s, a, a_bar\n",
        "\n",
        "  def calculate_J_state(self,s):\n",
        "    J_state = np.sum((s-self.g)**2)\n",
        "    return J_state\n",
        "\n",
        "  def calculate_J_control(self, a, a_bar):\n",
        "    J_control = np.sum((a-a_bar)**2)\n",
        "    return J_control"
      ]
    },
    {
      "cell_type": "markdown",
      "metadata": {
        "execution": {},
        "id": "x1_5C4gxS_pa"
      },
      "source": [
        "### Interactive Demo 3: LQR control to desired time-varying goal\n",
        "\n",
        "Use the demo below to explore how LQR tracks a time-varying goal. Starting with the sinusoidal goal function `sin`, investigate how the system reacts with different values of $\\rho$ and process noise variance. Next, explore other time-varying goals, such as a step function and ramp."
      ]
    },
    {
      "cell_type": "code",
      "execution_count": null,
      "metadata": {
        "cellView": "form",
        "execution": {},
        "id": "6MuU43AiS_pa"
      },
      "outputs": [],
      "source": [
        "# @markdown Make sure you execute this cell to enable the widget!\n",
        "\n",
        "# @markdown Explore different values of control gain `L` (close to optimal, over- and under- ambitious) \\\\\n",
        "\n",
        "display(HTML('''<style>.widget-label { min-width: 15ex !important; }</style>'''))\n",
        "\n",
        "@widgets.interact(rho=widgets.FloatSlider(20., description=\"ρ\", min=0.1, max=40.),\n",
        "                  noise_var=widgets.FloatSlider(0.1, description=\"noise_var\", min=0., max=1.),\n",
        "                  goal_func=widgets.RadioButtons(options=['sin', 'step', 'ramp'],\n",
        "                                                 description='goal_func:',\n",
        "                                                 disabled=False))\n",
        "\n",
        "def simulate_tracking(rho, noise_var, goal_func):\n",
        "  D, B, ini_state = 1.1, 1., 0.\n",
        "  if goal_func == 'sin':\n",
        "    goal = np.sin(np.arange(T) * 2 * np.pi * 5 / T)\n",
        "  elif goal_func == 'step':\n",
        "    goal = np.zeros(T)\n",
        "    goal[int(T / 3):] = 1.\n",
        "  elif goal_func == 'ramp':\n",
        "    goal = np.zeros(T)\n",
        "    goal[int(T / 3):] = np.arange(T - int(T / 3)) / (T - int(T / 3))\n",
        "\n",
        "  lqr_time = LQR_tracking(ini_state, noise_var, goal)\n",
        "  L = lqr_time.control_gain_LQR(D, B, rho)\n",
        "  s_lqr_time, a_lqr_time, a_bar_lqr_time = lqr_time.dynamics_tracking(D, B, L)\n",
        "\n",
        "  plt.figure(figsize=(13, 5))\n",
        "  plt.suptitle('LQR Control for time-varying goal', y=1.05)\n",
        "  plt.subplot(1, 2, 1)\n",
        "  plot_vs_time(s_lqr_time, 'State evolution $s_t$', 'b',\n",
        "               goal, ylabel=\"State\", show=False)\n",
        "  plt.subplot(1, 2, 2)\n",
        "  plot_vs_time(a_lqr_time, 'Action $a_t$', 'b',\n",
        "               ylabel=\"Action\", show=False)\n",
        "  plt.show()"
      ]
    },
    {
      "cell_type": "markdown",
      "metadata": {
        "execution": {},
        "id": "TJmt7SuSS_pa"
      },
      "source": [
        "[*Click for solution*](https://github.com/NeuromatchAcademy/course-content/tree/main/tutorials/W3D3_OptimalControl/solutions/W3D3_Tutorial2_Solution_a8d8aea7.py)\n",
        "\n"
      ]
    },
    {
      "cell_type": "code",
      "execution_count": null,
      "metadata": {
        "cellView": "form",
        "execution": {},
        "id": "K7oEIwQQS_pa"
      },
      "outputs": [],
      "source": [
        "# @title Submit your feedback\n",
        "content_review(f\"{feedback_prefix}_ LQR_control_to_desired_time_varying_goal_Interactive_Demo_and_Discussion\")"
      ]
    },
    {
      "cell_type": "markdown",
      "metadata": {
        "execution": {},
        "id": "-rXKVe_rS_pa"
      },
      "source": [
        "---\n",
        "# Section 4: Control of an partially observed state using a Linear Quadratic Gaussian (LQG) controller\n"
      ]
    },
    {
      "cell_type": "markdown",
      "metadata": {
        "execution": {},
        "id": "m9Z_UQ0GS_pa"
      },
      "source": [
        "## Section 4.1 Introducing the LQG Controller"
      ]
    },
    {
      "cell_type": "code",
      "execution_count": null,
      "metadata": {
        "cellView": "form",
        "execution": {},
        "id": "CVJcoqs4S_pa"
      },
      "outputs": [],
      "source": [
        "# @title Video 4: Linear Quadratic Gaussian (LQG) Control\n",
        "from ipywidgets import widgets\n",
        "from IPython.display import YouTubeVideo\n",
        "from IPython.display import IFrame\n",
        "from IPython.display import display\n",
        "\n",
        "\n",
        "class PlayVideo(IFrame):\n",
        "  def __init__(self, id, source, page=1, width=400, height=300, **kwargs):\n",
        "    self.id = id\n",
        "    if source == 'Bilibili':\n",
        "      src = f'https://player.bilibili.com/player.html?bvid={id}&page={page}'\n",
        "    elif source == 'Osf':\n",
        "      src = f'https://mfr.ca-1.osf.io/render?url=https://osf.io/download/{id}/?direct%26mode=render'\n",
        "    super(PlayVideo, self).__init__(src, width, height, **kwargs)\n",
        "\n",
        "\n",
        "def display_videos(video_ids, W=400, H=300, fs=1):\n",
        "  tab_contents = []\n",
        "  for i, video_id in enumerate(video_ids):\n",
        "    out = widgets.Output()\n",
        "    with out:\n",
        "      if video_ids[i][0] == 'Youtube':\n",
        "        video = YouTubeVideo(id=video_ids[i][1], width=W,\n",
        "                             height=H, fs=fs, rel=0)\n",
        "        print(f'Video available at https://youtube.com/watch?v={video.id}')\n",
        "      else:\n",
        "        video = PlayVideo(id=video_ids[i][1], source=video_ids[i][0], width=W,\n",
        "                          height=H, fs=fs, autoplay=False)\n",
        "        if video_ids[i][0] == 'Bilibili':\n",
        "          print(f'Video available at https://www.bilibili.com/video/{video.id}')\n",
        "        elif video_ids[i][0] == 'Osf':\n",
        "          print(f'Video available at https://osf.io/{video.id}')\n",
        "      display(video)\n",
        "    tab_contents.append(out)\n",
        "  return tab_contents\n",
        "\n",
        "\n",
        "video_ids = [('Youtube', 'c_D7iDLT_bw'), ('Bilibili', 'BV1xZ4y1u73B')]\n",
        "tab_contents = display_videos(video_ids, W=854, H=480)\n",
        "tabs = widgets.Tab()\n",
        "tabs.children = tab_contents\n",
        "for i in range(len(tab_contents)):\n",
        "  tabs.set_title(i, video_ids[i][0])\n",
        "display(tabs)"
      ]
    },
    {
      "cell_type": "code",
      "execution_count": null,
      "metadata": {
        "cellView": "form",
        "execution": {},
        "id": "cYFhfzvZS_pa"
      },
      "outputs": [],
      "source": [
        "# @title Submit your feedback\n",
        "content_review(f\"{feedback_prefix}_LQG_Video\")"
      ]
    },
    {
      "cell_type": "markdown",
      "metadata": {
        "execution": {},
        "id": "ak-5xor_S_pa"
      },
      "source": [
        "In practice, the controller does not have full access to the state. For example, your jet pack in space may be controlled by Mission Control back on earth!  In this case, noisy measurements $m_t$ of the state $s_t$ are taken via radar, and the controller needs to (1) estimate the true state, and (2) design an action based on this estimate.\n",
        "\n",
        "Fortunately, the separation principle tells us that it is optimal to do (1) and (2) separately. This makes our problem much easier, since we already know how to do each step.\n",
        "\n",
        "1) *State Estimation*\n",
        "Can we recover the state from the measurement?\n",
        "yesterday you learned that the states $\\hat{s}_t$ can be estimated from the measurements $m_t$ using the **Kalman filter**.\n",
        "\n",
        "2) *Design Action*\n",
        "In Sections 2 and 3 above, we just learned about the LQR controller which designs an action based on the state. The separation principle tells us that it is sufficient to replace the use of the state in LQR with the *estimated* state, i.e.,\n",
        "\n",
        "\\begin{equation}\n",
        "a_t = L_t \\hat s_t\n",
        "\\end{equation}\n",
        "\n",
        "The state dynamics will then be:\n",
        "\n",
        "\\begin{equation}\n",
        "s_{t+1} = D s_t + B a_t + w_t\n",
        "\\end{equation}\n",
        "\n",
        "where $w_t$ is the process noise (proc_noise), and the observation / measurement is:\n",
        "\n",
        "\\begin{equation}\n",
        "m_t = C s_t + v_t\n",
        "\\end{equation}\n",
        "\n",
        "with $C$ is the observation matrix and $v_t$ is the measurement noise (meas_noise).\n",
        "\n",
        "The combination of (1) state estimation and (2) action design using LQR is known as a **linear quadratic gaussian (LQG)**. Yesterday, you completed the code for the Kalman filter. Based on that, you will code up the LQG controller. For these exercises, we will return to using the goal $g=0$, as in Section 2."
      ]
    },
    {
      "cell_type": "markdown",
      "metadata": {
        "execution": {},
        "id": "GtxwbJbLS_pa"
      },
      "source": [
        "### Interactive Demo 4.1: The Kalman filter in conjunction with a linear closed-loop controller (LQG Control)\n",
        "\n",
        "Inspect the `KalmanFilter` class, its method `get_estimate(self, m)` will help you refresh your understanding of how the filtering mechanism works. The only difference from yesterday's implementation is that today's Kalman filter takes into account the action when computing the estimates.\n",
        "\n",
        "Also, inspect the `LQG` class. You will find that the only difference between this class and the `LQR` class is that the system now returns a noisy measurement of the state."
      ]
    },
    {
      "cell_type": "code",
      "execution_count": null,
      "metadata": {
        "execution": {},
        "id": "e4qGneY6S_pa"
      },
      "outputs": [],
      "source": [
        "class KalmanFilter():\n",
        "  def __init__(self, transition_matrix, transition_covariance,\n",
        "               observation_matrix, observation_covariance,\n",
        "               initial_state_mean, initial_state_covariance):\n",
        "    self.D = transition_matrix\n",
        "    self.Q = transition_covariance\n",
        "    self.C = observation_matrix\n",
        "    self.R = observation_covariance\n",
        "    self.prior = gaussian(initial_state_mean, initial_state_covariance)\n",
        "\n",
        "  def get_estimate(self, m, a):\n",
        "\n",
        "    predicted_estimate = self.D * self.prior.mean + a\n",
        "    predicted_covariance = self.D**2 * self.prior.cov + self.Q\n",
        "\n",
        "    innovation_estimate = m - self.C * predicted_estimate\n",
        "    innovation_covariance = self.C**2 * predicted_covariance + self.R\n",
        "\n",
        "    # Kalman gain is the weight given to the innovation (ie., the difference between the measurement and the predicted measurement)\n",
        "    K = predicted_covariance * self.C / innovation_covariance\n",
        "    updated_mean = predicted_estimate + K * innovation_estimate\n",
        "    updated_cov = (1 - K * self.C) * predicted_covariance\n",
        "    posterior = gaussian(updated_mean, updated_cov)\n",
        "\n",
        "    # Current posterior becomes next-step prior\n",
        "    self.prior = posterior\n",
        "\n",
        "    return posterior.mean\n",
        "\n",
        "\n",
        "class LQG():\n",
        "  def __init__(self, transition_matrix, transition_covariance,\n",
        "               observation_matrix, observation_covariance, initial_state_mean,\n",
        "               initial_state_covariance, ntrials=1, static_noise=False):\n",
        "    self.D = transition_matrix\n",
        "    self.Q = transition_covariance\n",
        "    self.C = observation_matrix\n",
        "    self.R = observation_covariance\n",
        "    self.static_noise = static_noise\n",
        "    self.ntrials = ntrials\n",
        "    self.t = 0\n",
        "    self.latent_states = np.zeros([T, ntrials])\n",
        "    self.latent_states[0] = initial_state_mean + np.sqrt(initial_state_covariance) * standard_normal_noise[0]\n",
        "\n",
        "  def step(self, action):\n",
        "    self.t += 1\n",
        "    if self.static_noise:\n",
        "      self.latent_states[self.t] = self.D * self.latent_states[self.t-1] + action + np.sqrt(self.Q) * standard_normal_noise[self.t-1]\n",
        "      measurement = self.C * self.latent_states[self.t] + np.sqrt(self.R) * standard_normal_noise_meas[self.t]\n",
        "    else:\n",
        "      self.latent_states[self.t] = self.D * self.latent_states[self.t-1] + action + np.sqrt(self.Q) * np.random.randn(self.ntrials)\n",
        "      measurement = self.C * self.latent_states[self.t] + np.sqrt(self.R) * np.random.randn(self.ntrials)\n",
        "    return measurement\n",
        "\n",
        "  def get_control_gain_infinite(self, rho):\n",
        "    P = np.zeros(T)\n",
        "    L = np.zeros(T - 1)\n",
        "    P[-1] = 1\n",
        "\n",
        "    for t in range(T - 1):\n",
        "        P_t_1 = P[T - t - 1]\n",
        "        P[T - t-2] = (1 + P_t_1 * self.D**2 - self.D * P_t_1 / (rho + P_t_1) * P_t_1 * self.D)\n",
        "        L[T - t-2] = - (1 / (rho + P_t_1)* P_t_1 * self.D)\n",
        "\n",
        "    return L[0]\n",
        "\n",
        "\n",
        "def control_policy_LQG(control_gain, estimated_state):\n",
        "  current_action =  control_gain * estimated_state\n",
        "  return current_action"
      ]
    },
    {
      "cell_type": "markdown",
      "metadata": {
        "execution": {},
        "id": "k8mFnDebS_pa"
      },
      "source": [
        "Use interactive demo below and observe the performance of the Kalman filter. Remember, the parameter `C` scales the observation matrix.\n",
        "\n",
        "What happens when `C=0`?"
      ]
    },
    {
      "cell_type": "code",
      "execution_count": null,
      "metadata": {
        "cellView": "form",
        "execution": {},
        "id": "4mc60USUS_pb"
      },
      "outputs": [],
      "source": [
        "# @markdown Make sure you execute this cell to enable the widget!\n",
        "display(HTML('''<style>.widget-label { min-width: 15ex !important; }</style>'''))\n",
        "\n",
        "@widgets.interact(C = widgets.FloatSlider(1., description=\"C\", min=0., max=3.),\n",
        "                  proc_noise = widgets.FloatSlider(.1, description=\"proc_noise\", min=0.0, max=1.),\n",
        "                  meas_noise = widgets.FloatSlider(.2, description=\"meas_noise\", min=0.1, max=1.))\n",
        "\n",
        "def simulate_kf_no_control(C, proc_noise, meas_noise):\n",
        "\n",
        "  D = 0.9\n",
        "  ini_state_mean = 5.\n",
        "  ini_state_cov = .1\n",
        "  estimates = np.zeros(T)\n",
        "  estimates[0] = ini_state_mean\n",
        "\n",
        "  filter = KalmanFilter(transition_matrix=D,\n",
        "                        transition_covariance=proc_noise,\n",
        "                        observation_matrix=C,\n",
        "                        observation_covariance=meas_noise,\n",
        "                        initial_state_mean=ini_state_mean,\n",
        "                        initial_state_covariance=ini_state_cov)\n",
        "\n",
        "  system = LQG(transition_matrix=D,\n",
        "               transition_covariance=proc_noise,\n",
        "               observation_matrix=C,\n",
        "               observation_covariance=meas_noise,\n",
        "               initial_state_mean=ini_state_mean,\n",
        "               initial_state_covariance=ini_state_cov,\n",
        "               static_noise=False)\n",
        "\n",
        "  action = 0\n",
        "  for t in range(1, T):\n",
        "    measurement = system.step(action)\n",
        "    estimates[t] = filter.get_estimate(measurement, action)\n",
        "\n",
        "  plot_kf_state_vs_time(system.latent_states, estimates,\n",
        "                        'State estimation with KF (Stable system without control input)')"
      ]
    },
    {
      "cell_type": "markdown",
      "metadata": {
        "execution": {},
        "id": "k7R9wDSkS_pb"
      },
      "source": [
        "[*Click for solution*](https://github.com/NeuromatchAcademy/course-content/tree/main/tutorials/W3D3_OptimalControl/solutions/W3D3_Tutorial2_Solution_96f17d3f.py)\n",
        "\n"
      ]
    },
    {
      "cell_type": "code",
      "execution_count": null,
      "metadata": {
        "cellView": "form",
        "execution": {},
        "id": "FDdjUAbLS_pb"
      },
      "outputs": [],
      "source": [
        "# @title Submit your feedback\n",
        "content_review(f\"{feedback_prefix}_LQG_Control_Interactive_Demo_and_Discussion\")"
      ]
    },
    {
      "cell_type": "markdown",
      "metadata": {
        "execution": {},
        "id": "CSr1Yt3RS_pb"
      },
      "source": [
        "### Interactive Demo 4.2: LQG controller output with varying control gains\n",
        "\n",
        "Now let's implement the Kalman filter with closed-loop feedback with the controller. We will first use an arbitrary control gain and a fixed value for measurement noise. We will then use the control gain that we calculated for the LQR system given different values for $\\rho$ (weight on the control effort).\n",
        "\n",
        "1. Visualize the system dynamics $s_t$ in closed-loop control with an arbitrary constant control gain. Vary this control gain.\n",
        "\n",
        "2. Play around with the remaining sliders. What happens when the process noise is high (low)? How about the measurement noise?\n"
      ]
    },
    {
      "cell_type": "code",
      "execution_count": null,
      "metadata": {
        "cellView": "form",
        "execution": {},
        "id": "7sWlnLOgS_pb"
      },
      "outputs": [],
      "source": [
        "# @markdown Make sure you execute this cell to enable the widget!\n",
        "\n",
        "display(HTML('''<style>.widget-label { min-width: 15ex !important; }</style>'''))\n",
        "\n",
        "@widgets.interact(C = widgets.FloatSlider(1., description=\"C\", min=0., max=3.),\n",
        "                  L = widgets.FloatSlider(-.3, description=\"L\", min=-.5, max=0.),\n",
        "                  proc_noise = widgets.FloatSlider(.1, description=\"proc_noise\", min=0.0, max=1.),\n",
        "                  meas_noise = widgets.FloatSlider(.2, description=\"meas_noise\", min=0.1, max=1.))\n",
        "\n",
        "\n",
        "def simulate_kf_with_control(C, L, proc_noise, meas_noise):\n",
        "\n",
        "  D = 1.1\n",
        "  ini_state_mean = 5.\n",
        "  ini_state_cov = .1\n",
        "  estimates = np.zeros(T)\n",
        "  estimates[0] = ini_state_mean\n",
        "  control_gain = L\n",
        "\n",
        "  filter = KalmanFilter(transition_matrix=D,\n",
        "                        transition_covariance=proc_noise,\n",
        "                        observation_matrix=C,\n",
        "                        observation_covariance=meas_noise,\n",
        "                        initial_state_mean=ini_state_mean,\n",
        "                        initial_state_covariance=ini_state_cov)\n",
        "\n",
        "  system = LQG(transition_matrix=D,\n",
        "               transition_covariance=proc_noise,\n",
        "               observation_matrix=C,\n",
        "               observation_covariance=meas_noise,\n",
        "               initial_state_mean=ini_state_mean,\n",
        "               initial_state_covariance=ini_state_cov,\n",
        "               static_noise=True)\n",
        "\n",
        "  action = 0\n",
        "  for t in range(1, T):\n",
        "    measurement = system.step(action)\n",
        "    estimates[t] = filter.get_estimate(measurement, action)\n",
        "    action = control_policy_LQG(control_gain, estimates[t])\n",
        "\n",
        "  title = f'State estimation with KF (control gain = {control_gain})'\n",
        "  plot_kf_state_vs_time(system.latent_states, estimates, title,\n",
        "                        goal=np.zeros(T))"
      ]
    },
    {
      "cell_type": "code",
      "execution_count": null,
      "metadata": {
        "cellView": "form",
        "execution": {},
        "id": "agHT79dRS_pb"
      },
      "outputs": [],
      "source": [
        "# @title Submit your feedback\n",
        "content_review(f\"{feedback_prefix}_LQC_controller_varying_gains_Interactive_Demo\")"
      ]
    },
    {
      "cell_type": "markdown",
      "metadata": {
        "execution": {},
        "id": "k6flG_zBS_pb"
      },
      "source": [
        "### Interactive Demo 4.3: LQG controller with varying weight on the control effort costs\n",
        "\n",
        "Now let's see the performance of the LQG controller as the parameter $\\rho$ changes. We will use an LQG controller gain, where the control gain is from a system with an infinite horizon; in this case, the optimal control gain turns out to be a constant.\n",
        "\n",
        "Vary the value of $\\rho$ from $0$ to large values, to see the effect on the state."
      ]
    },
    {
      "cell_type": "code",
      "execution_count": null,
      "metadata": {
        "cellView": "form",
        "execution": {},
        "id": "EEgvIEFVS_pb"
      },
      "outputs": [],
      "source": [
        "# @markdown Make sure you execute this cell to enable the widget!\n",
        "\n",
        "display(HTML('''<style>.widget-label { min-width: 15ex !important; }</style>'''))\n",
        "\n",
        "@widgets.interact(rho=widgets.FloatSlider(25., description=\"ρ\", min=0., max=50.))\n",
        "\n",
        "def simulate_kf_with_lqg(rho):\n",
        "\n",
        "  D=1.1\n",
        "  C=1.\n",
        "  ini_state_mean = 1.\n",
        "  ini_state_cov = 2.\n",
        "  proc_noise=0.1\n",
        "  meas_noise=0.2\n",
        "  estimates = np.zeros(T)\n",
        "  estimates[0] = ini_state_mean\n",
        "\n",
        "\n",
        "  filter = KalmanFilter(transition_matrix=D,\n",
        "                      transition_covariance=proc_noise,\n",
        "                      observation_matrix=C,\n",
        "                      observation_covariance=meas_noise,\n",
        "                      initial_state_mean=ini_state_mean,\n",
        "                      initial_state_covariance=ini_state_cov)\n",
        "\n",
        "  system = LQG(transition_matrix=D,\n",
        "              transition_covariance=proc_noise,\n",
        "              observation_matrix=C,\n",
        "              observation_covariance=meas_noise,\n",
        "              initial_state_mean=ini_state_mean,\n",
        "              initial_state_covariance=ini_state_cov,\n",
        "              static_noise=True)\n",
        "\n",
        "  control_gain = system.get_control_gain_infinite(rho)\n",
        "\n",
        "  action = 0\n",
        "  for t in range(1, T):\n",
        "    measurement = system.step(action)\n",
        "    estimates[t] = filter.get_estimate(measurement, action)\n",
        "    action = control_policy_LQG(control_gain, estimates[t])\n",
        "\n",
        "  title = 'State estimation with KF (LQG controller)'\n",
        "  plot_kf_state_vs_time(system.latent_states, estimates, title,\n",
        "                        goal=np.zeros(T))"
      ]
    },
    {
      "cell_type": "code",
      "execution_count": null,
      "metadata": {
        "cellView": "form",
        "execution": {},
        "id": "FAI8-qQvS_pb"
      },
      "outputs": [],
      "source": [
        "# @title Submit your feedback\n",
        "content_review(f\"{feedback_prefix}_LQC_controller_varying_weight_Interactive_Demo\")"
      ]
    },
    {
      "cell_type": "markdown",
      "metadata": {
        "execution": {},
        "id": "zBU8mK2iS_pb"
      },
      "source": [
        "### Interactive Demo 4.4: How does the process noise and the measurement noise influence the controlled state and desired action?\n",
        "\n",
        "Process noise $w_t$ (proc_noise) and measurement noise $v_t$ (meas_noise) have very different effects on the controlled state.\n",
        "\n",
        "To visualize this, play with the sliders to get an intuition for how to process noise and measurement noise influences the controlled state. How are these two sources of noise different?"
      ]
    },
    {
      "cell_type": "code",
      "execution_count": null,
      "metadata": {
        "cellView": "form",
        "execution": {},
        "id": "aINcJ2RiS_pb"
      },
      "outputs": [],
      "source": [
        "# @markdown Make sure you execute this cell to enable the widget!\n",
        "\n",
        "display(HTML('''<style>.widget-label { min-width: 15ex !important; }</style>'''))\n",
        "\n",
        "@widgets.interact(proc_noise=widgets.FloatSlider(.1, description=\"proc_noise\",\n",
        "                                                 min=0.1, max=1.),\n",
        "                  meas_noise=widgets.FloatSlider(.2, description=\"meas_noise\",\n",
        "                                                 min=0.1, max=1.)\n",
        "                  )\n",
        "\n",
        "def lqg_slider(proc_noise, meas_noise):\n",
        "\n",
        "  D = 1.1\n",
        "  C = 1.\n",
        "  rho = 1.\n",
        "  ini_state_mean = 1.\n",
        "  ini_state_cov = 2.\n",
        "  estimates = np.zeros(T)\n",
        "  estimates[0] = ini_state_mean\n",
        "\n",
        "  filter = KalmanFilter(transition_matrix=D,\n",
        "                      transition_covariance=proc_noise,\n",
        "                      observation_matrix=C,\n",
        "                      observation_covariance=meas_noise,\n",
        "                      initial_state_mean=ini_state_mean,\n",
        "                      initial_state_covariance=ini_state_cov)\n",
        "\n",
        "  system = LQG(transition_matrix=D,\n",
        "              transition_covariance=proc_noise,\n",
        "              observation_matrix=C,\n",
        "              observation_covariance=meas_noise,\n",
        "              initial_state_mean=ini_state_mean,\n",
        "              initial_state_covariance=ini_state_cov,\n",
        "              static_noise=True)\n",
        "\n",
        "  control_gain = system.get_control_gain_infinite(rho)\n",
        "\n",
        "  action = 0\n",
        "  for t in range(1, T):\n",
        "    measurement = system.step(action)\n",
        "    estimates[t] = filter.get_estimate(measurement, action)\n",
        "    action = control_policy_LQG(control_gain, estimates[t])\n",
        "\n",
        "  title = 'State estimation with KF (LQG controller)'\n",
        "  plot_kf_state_vs_time(system.latent_states, estimates, title,\n",
        "                        goal=np.zeros(T))"
      ]
    },
    {
      "cell_type": "markdown",
      "metadata": {
        "execution": {},
        "id": "TT0jE_XOS_pb"
      },
      "source": [
        "[*Click for solution*](https://github.com/NeuromatchAcademy/course-content/tree/main/tutorials/W3D3_OptimalControl/solutions/W3D3_Tutorial2_Solution_53dea2ba.py)\n",
        "\n"
      ]
    },
    {
      "cell_type": "code",
      "execution_count": null,
      "metadata": {
        "cellView": "form",
        "execution": {},
        "id": "SP3YHqtBS_pb"
      },
      "outputs": [],
      "source": [
        "# @title Submit your feedback\n",
        "content_review(f\"{feedback_prefix}_Process_noise_measurements_noise_Interactive_Demo\")"
      ]
    },
    {
      "cell_type": "markdown",
      "metadata": {
        "execution": {},
        "id": "VOx-kPknS_pb"
      },
      "source": [
        "## Section 4.2 Noise effects on the LQG\n",
        "\n",
        "Finally, we will quantify how the state cost and control costs change when we change the process and measurement noise levels. To do so, we will run many simulations, stepping through levels of process and measurement noise, tracking MSE and cost of control for each.\n",
        "\n",
        "Observe the effects of increasing the process and measurement noises in an unstable system. How do you interpret the results?"
      ]
    },
    {
      "cell_type": "code",
      "execution_count": null,
      "metadata": {
        "cellView": "form",
        "execution": {},
        "id": "aN8kz6DxS_pb"
      },
      "outputs": [],
      "source": [
        "# @markdown Execute this cell to to quantify the dependence of state and control\n",
        "\n",
        "# @markdown Note: Running many simulations takes time, you need to wait ~2 seconds before observing the consequences of changing the parameter D\n",
        "\n",
        "display(HTML('''<style>.widget-label { min-width: 15ex !important; }</style>'''))\n",
        "\n",
        "@widgets.interact(D=widgets.FloatSlider(description=\"D\",\n",
        "                                        min=0.01, max=4., value=1.1,\n",
        "                                        step=0.01)\n",
        "                  )\n",
        "\n",
        "def transit_matrix_slider(D):\n",
        "  C = 1  # observation matrix\n",
        "  ini_state = 5  # initial state mean\n",
        "  ini_state_cov = 1  # initial state covariance\n",
        "  rho = 1  # control effort parameter\n",
        "  n_iter = 50\n",
        "  n_ops = 20\n",
        "  process_noise_var = .1\n",
        "  measurement_noise_var = .2\n",
        "\n",
        "  # Implement LQG control over n_iter iterations, and record the MSE between state and goal\n",
        "  MSE_array_N_meas = []\n",
        "  MSE_array_N_proc = []\n",
        "  Jcontrol_array_N_meas = []\n",
        "  Jcontrol_array_N_proc = []\n",
        "\n",
        "  meas_noise_array = np.linspace(0.1, 3, n_ops)\n",
        "  proc_noise_array = np.linspace(0.1, 3, n_ops)\n",
        "\n",
        "  # Try several proc noises, but same measurement var\n",
        "  MSE_array_proc = []\n",
        "  Jcontrol_array_proc = []\n",
        "\n",
        "  for proc_noise in proc_noise_array:\n",
        "    transition_covariance = proc_noise\n",
        "    observation_covariance = measurement_noise_var\n",
        "\n",
        "    # Controller\n",
        "    lqg = LQG(D, transition_covariance, C, observation_covariance, ini_state, ini_state_cov, n_iter)\n",
        "    control_gain_lqg = lqg.get_control_gain_infinite(rho)\n",
        "\n",
        "    # Filtering\n",
        "    filter = KalmanFilter(D, transition_covariance, C, observation_covariance, ini_state, ini_state_cov)\n",
        "\n",
        "    filtered_state_means_impl = np.zeros([T, n_iter])\n",
        "    filtered_state_covariances_impl = np.zeros([T, n_iter])\n",
        "    measurement = np.zeros([T, n_iter])\n",
        "    action_cost = np.zeros([T, n_iter])\n",
        "\n",
        "    action = np.zeros(n_iter)\n",
        "    for t in range(1, T):\n",
        "      measurement[t] = lqg.step(action)\n",
        "\n",
        "      filter.get_estimate(measurement[t], action)\n",
        "\n",
        "      filtered_state_means_impl[t] = filter.prior.mean\n",
        "      filtered_state_covariances_impl = filter.prior.cov\n",
        "\n",
        "      action = control_gain_lqg * filter.prior.mean\n",
        "      action_cost[t] = rho * action**2\n",
        "\n",
        "    state_cost = lqg.latent_states**2\n",
        "\n",
        "    MSE_array_proc.append(np.cumsum(state_cost))\n",
        "    Jcontrol_array_proc.append(np.cumsum(action_cost))\n",
        "\n",
        "  MSE_array_proc = np.array(MSE_array_proc)\n",
        "  Jcontrol_array_proc = np.array(Jcontrol_array_proc)\n",
        "\n",
        "  # Try several measurement noises, but same proc var\n",
        "  MSE_array_meas = []\n",
        "  Jcontrol_array_meas = []\n",
        "\n",
        "  for meas_noise in meas_noise_array:\n",
        "    transition_covariance = process_noise_var\n",
        "    observation_covariance = meas_noise\n",
        "\n",
        "    # Controller\n",
        "    lqg = LQG(D, transition_covariance, C, observation_covariance, ini_state, ini_state_cov, n_iter)\n",
        "    control_gain_lqg = lqg.get_control_gain_infinite(rho)\n",
        "\n",
        "    # Filtering\n",
        "    filter = KalmanFilter(D, transition_covariance, C, observation_covariance, ini_state, ini_state_cov)\n",
        "\n",
        "    filtered_state_means_impl = np.zeros([T, n_iter])\n",
        "    filtered_state_covariances_impl = np.zeros([T, n_iter])\n",
        "    measurement = np.zeros([T, n_iter])\n",
        "    action_cost = np.zeros([T, n_iter])\n",
        "\n",
        "    action = np.zeros(n_iter)\n",
        "    for t in range(1, T):\n",
        "      measurement[t] = lqg.step(action)\n",
        "\n",
        "      filter.get_estimate(measurement[t], action)\n",
        "      filtered_state_means_impl[t] = filter.prior.mean\n",
        "      filtered_state_covariances_impl = filter.prior.cov\n",
        "\n",
        "      action = control_gain_lqg * filter.prior.mean\n",
        "      action_cost[t] = rho * action**2\n",
        "\n",
        "    state_cost = lqg.latent_states**2\n",
        "\n",
        "    MSE_array_meas.append(np.cumsum(state_cost))\n",
        "    Jcontrol_array_meas.append(np.cumsum(action_cost))\n",
        "\n",
        "  MSE_array_meas = np.array(MSE_array_meas)\n",
        "  Jcontrol_array_meas = np.array(Jcontrol_array_meas)\n",
        "\n",
        "  # Compute statistics\n",
        "  MSE_array_proc_mean = np.mean(np.array(MSE_array_proc), axis = 1)\n",
        "  MSE_array_proc_std = np.std(np.array(MSE_array_proc), axis = 1)\n",
        "  MSE_array_meas_mean = np.mean(np.array(MSE_array_meas), axis = 1)\n",
        "  MSE_array_meas_std = np.std(np.array(MSE_array_meas), axis = 1)\n",
        "\n",
        "  Jcontrol_array_proc_mean = np.mean(np.array(Jcontrol_array_proc), axis = 1)\n",
        "  Jcontrol_array_proc_std = np.std(np.array(Jcontrol_array_proc), axis = 1)\n",
        "  Jcontrol_array_meas_mean = np.mean(np.array(Jcontrol_array_meas), axis = 1)\n",
        "  Jcontrol_array_meas_std = np.std(np.array(Jcontrol_array_meas), axis = 1)\n",
        "\n",
        "  # Visualize the quantification\n",
        "  f, axs = plt.subplots(2, 2, sharex=True, sharey=True, figsize=(10, 8))\n",
        "\n",
        "  axs[0, 0].plot(proc_noise_array, MSE_array_proc_mean, 'r-')\n",
        "  axs[0, 0].fill_between(proc_noise_array,\n",
        "                        MSE_array_proc_mean+MSE_array_proc_std,\n",
        "                        MSE_array_proc_mean-MSE_array_proc_std,\n",
        "                        facecolor='tab:gray', alpha=0.5)\n",
        "  axs[0, 0].set_title('Effect of process noise')\n",
        "  axs[0, 0].set_ylabel('State Cost\\n(MSE between state and goal)')\n",
        "\n",
        "  axs[0, 1].plot(meas_noise_array, MSE_array_meas_mean, 'r-')\n",
        "  axs[0, 1].fill_between(meas_noise_array,\n",
        "                        MSE_array_meas_mean + MSE_array_meas_std,\n",
        "                        MSE_array_meas_mean - MSE_array_meas_std,\n",
        "                        facecolor='tab:gray', alpha=0.5)\n",
        "  axs[0, 1].set_title('Effect of measurement noise')\n",
        "\n",
        "  axs[1, 0].plot(proc_noise_array, Jcontrol_array_proc_mean, 'r-')\n",
        "  axs[1, 0].fill_between(proc_noise_array,\n",
        "                        Jcontrol_array_proc_mean + Jcontrol_array_proc_std,\n",
        "                        Jcontrol_array_proc_mean - Jcontrol_array_proc_std,\n",
        "                        facecolor='tab:gray', alpha=0.5)\n",
        "  axs[1, 0].set_xlabel('Process Noise')\n",
        "  axs[1, 0].set_ylabel('Cost of Control')\n",
        "\n",
        "  axs[1, 1].plot(meas_noise_array, Jcontrol_array_meas_mean, 'r-')\n",
        "  axs[1, 1].fill_between(meas_noise_array,\n",
        "                        Jcontrol_array_meas_mean + Jcontrol_array_meas_std,\n",
        "                        Jcontrol_array_meas_mean - Jcontrol_array_meas_std,\n",
        "                        facecolor='tab:gray', alpha=0.5)\n",
        "  axs[1, 1].set_xlabel('Measurement Noise')\n",
        "\n",
        "  plt.show()"
      ]
    },
    {
      "cell_type": "markdown",
      "metadata": {
        "execution": {},
        "id": "ooPNq_D_S_pc"
      },
      "source": [
        "[*Click for solution*](https://github.com/NeuromatchAcademy/course-content/tree/main/tutorials/W3D3_OptimalControl/solutions/W3D3_Tutorial2_Solution_377b4dee.py)\n",
        "\n"
      ]
    },
    {
      "cell_type": "code",
      "execution_count": null,
      "metadata": {
        "cellView": "form",
        "execution": {},
        "id": "f8DOXksXS_pc"
      },
      "outputs": [],
      "source": [
        "# @title Submit your feedback\n",
        "content_review(f\"{feedback_prefix}_Noise_effects_on_the_LQG_Discussion\")"
      ]
    },
    {
      "cell_type": "markdown",
      "metadata": {
        "execution": {},
        "id": "Xel9d4YPS_pc"
      },
      "source": [
        "---\n",
        "# Summary\n",
        "\n",
        "In this tutorial, you have extended the idea of optimal policy to the Astrocat example. You have learned about how to design an optimal controller with a full observation of the state (linear quadratic regulator - LQR) and under partial observability of the state (linear quadratic gaussian - LQG)."
      ]
    }
  ],
  "metadata": {
    "colab": {
      "collapsed_sections": [
        "epMkHVHL7uo3"
      ],
      "name": "W3D3_Tutorial2",
      "provenance": [],
      "include_colab_link": true
    },
    "kernel": {
      "display_name": "Python 3",
      "language": "python",
      "name": "python3"
    },
    "kernelspec": {
      "display_name": "Python 3",
      "language": "python",
      "name": "python3"
    },
    "language_info": {
      "codemirror_mode": {
        "name": "ipython",
        "version": 3
      },
      "file_extension": ".py",
      "mimetype": "text/x-python",
      "name": "python",
      "nbconvert_exporter": "python",
      "pygments_lexer": "ipython3",
      "version": "3.9.21"
    },
    "widgets": {
      "application/vnd.jupyter.widget-state+json": {
        "173615a283214daf9d770e10137f42be": {
          "model_module": "@jupyter-widgets/controls",
          "model_name": "TabModel",
          "model_module_version": "1.5.0",
          "state": {
            "_dom_classes": [],
            "_model_module": "@jupyter-widgets/controls",
            "_model_module_version": "1.5.0",
            "_model_name": "TabModel",
            "_titles": {
              "0": "Youtube",
              "1": "Bilibili"
            },
            "_view_count": null,
            "_view_module": "@jupyter-widgets/controls",
            "_view_module_version": "1.5.0",
            "_view_name": "TabView",
            "box_style": "",
            "children": [
              "IPY_MODEL_d79615d22b024a6690b9736d1d60c7c5",
              "IPY_MODEL_d94a2920e7c3439f80fe00d90adab983"
            ],
            "layout": "IPY_MODEL_ca4d483c3e64492ba83c388674c95357",
            "selected_index": 0
          }
        },
        "d79615d22b024a6690b9736d1d60c7c5": {
          "model_module": "@jupyter-widgets/output",
          "model_name": "OutputModel",
          "model_module_version": "1.0.0",
          "state": {
            "_dom_classes": [],
            "_model_module": "@jupyter-widgets/output",
            "_model_module_version": "1.0.0",
            "_model_name": "OutputModel",
            "_view_count": null,
            "_view_module": "@jupyter-widgets/output",
            "_view_module_version": "1.0.0",
            "_view_name": "OutputView",
            "layout": "IPY_MODEL_9a701e4bf9c24fd2bc9309ffdcb5b9b8",
            "msg_id": "",
            "outputs": [
              {
                "output_type": "stream",
                "name": "stdout",
                "text": [
                  "Video available at https://youtube.com/watch?v=MLUTR8z16jI\n"
                ]
              },
              {
                "output_type": "display_data",
                "data": {
                  "text/plain": "<IPython.lib.display.YouTubeVideo at 0x7c17fc5a6d50>",
                  "text/html": "\n        <iframe\n            width=\"854\"\n            height=\"480\"\n            src=\"https://www.youtube.com/embed/MLUTR8z16jI?fs=1&rel=0\"\n            frameborder=\"0\"\n            allowfullscreen\n            \n        ></iframe>\n        ",
                  "image/jpeg": "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\n"
                },
                "metadata": {}
              }
            ]
          }
        },
        "d94a2920e7c3439f80fe00d90adab983": {
          "model_module": "@jupyter-widgets/output",
          "model_name": "OutputModel",
          "model_module_version": "1.0.0",
          "state": {
            "_dom_classes": [],
            "_model_module": "@jupyter-widgets/output",
            "_model_module_version": "1.0.0",
            "_model_name": "OutputModel",
            "_view_count": null,
            "_view_module": "@jupyter-widgets/output",
            "_view_module_version": "1.0.0",
            "_view_name": "OutputView",
            "layout": "IPY_MODEL_8534489865f84b94b9dbc791bba64e80",
            "msg_id": "",
            "outputs": [
              {
                "output_type": "stream",
                "name": "stdout",
                "text": [
                  "Video available at https://www.bilibili.com/video/BV1Zv411B7WV\n"
                ]
              },
              {
                "output_type": "display_data",
                "data": {
                  "text/plain": "<__main__.PlayVideo at 0x7c17fc5a4850>",
                  "text/html": "\n        <iframe\n            width=\"854\"\n            height=\"480\"\n            src=\"https://player.bilibili.com/player.html?bvid=BV1Zv411B7WV&page=1?fs=1&autoplay=False\"\n            frameborder=\"0\"\n            allowfullscreen\n            \n        ></iframe>\n        "
                },
                "metadata": {}
              }
            ]
          }
        },
        "ca4d483c3e64492ba83c388674c95357": {
          "model_module": "@jupyter-widgets/base",
          "model_name": "LayoutModel",
          "model_module_version": "1.2.0",
          "state": {
            "_model_module": "@jupyter-widgets/base",
            "_model_module_version": "1.2.0",
            "_model_name": "LayoutModel",
            "_view_count": null,
            "_view_module": "@jupyter-widgets/base",
            "_view_module_version": "1.2.0",
            "_view_name": "LayoutView",
            "align_content": null,
            "align_items": null,
            "align_self": null,
            "border": null,
            "bottom": null,
            "display": null,
            "flex": null,
            "flex_flow": null,
            "grid_area": null,
            "grid_auto_columns": null,
            "grid_auto_flow": null,
            "grid_auto_rows": null,
            "grid_column": null,
            "grid_gap": null,
            "grid_row": null,
            "grid_template_areas": null,
            "grid_template_columns": null,
            "grid_template_rows": null,
            "height": null,
            "justify_content": null,
            "justify_items": null,
            "left": null,
            "margin": null,
            "max_height": null,
            "max_width": null,
            "min_height": null,
            "min_width": null,
            "object_fit": null,
            "object_position": null,
            "order": null,
            "overflow": null,
            "overflow_x": null,
            "overflow_y": null,
            "padding": null,
            "right": null,
            "top": null,
            "visibility": null,
            "width": null
          }
        },
        "9a701e4bf9c24fd2bc9309ffdcb5b9b8": {
          "model_module": "@jupyter-widgets/base",
          "model_name": "LayoutModel",
          "model_module_version": "1.2.0",
          "state": {
            "_model_module": "@jupyter-widgets/base",
            "_model_module_version": "1.2.0",
            "_model_name": "LayoutModel",
            "_view_count": null,
            "_view_module": "@jupyter-widgets/base",
            "_view_module_version": "1.2.0",
            "_view_name": "LayoutView",
            "align_content": null,
            "align_items": null,
            "align_self": null,
            "border": null,
            "bottom": null,
            "display": null,
            "flex": null,
            "flex_flow": null,
            "grid_area": null,
            "grid_auto_columns": null,
            "grid_auto_flow": null,
            "grid_auto_rows": null,
            "grid_column": null,
            "grid_gap": null,
            "grid_row": null,
            "grid_template_areas": null,
            "grid_template_columns": null,
            "grid_template_rows": null,
            "height": null,
            "justify_content": null,
            "justify_items": null,
            "left": null,
            "margin": null,
            "max_height": null,
            "max_width": null,
            "min_height": null,
            "min_width": null,
            "object_fit": null,
            "object_position": null,
            "order": null,
            "overflow": null,
            "overflow_x": null,
            "overflow_y": null,
            "padding": null,
            "right": null,
            "top": null,
            "visibility": null,
            "width": null
          }
        },
        "8534489865f84b94b9dbc791bba64e80": {
          "model_module": "@jupyter-widgets/base",
          "model_name": "LayoutModel",
          "model_module_version": "1.2.0",
          "state": {
            "_model_module": "@jupyter-widgets/base",
            "_model_module_version": "1.2.0",
            "_model_name": "LayoutModel",
            "_view_count": null,
            "_view_module": "@jupyter-widgets/base",
            "_view_module_version": "1.2.0",
            "_view_name": "LayoutView",
            "align_content": null,
            "align_items": null,
            "align_self": null,
            "border": null,
            "bottom": null,
            "display": null,
            "flex": null,
            "flex_flow": null,
            "grid_area": null,
            "grid_auto_columns": null,
            "grid_auto_flow": null,
            "grid_auto_rows": null,
            "grid_column": null,
            "grid_gap": null,
            "grid_row": null,
            "grid_template_areas": null,
            "grid_template_columns": null,
            "grid_template_rows": null,
            "height": null,
            "justify_content": null,
            "justify_items": null,
            "left": null,
            "margin": null,
            "max_height": null,
            "max_width": null,
            "min_height": null,
            "min_width": null,
            "object_fit": null,
            "object_position": null,
            "order": null,
            "overflow": null,
            "overflow_x": null,
            "overflow_y": null,
            "padding": null,
            "right": null,
            "top": null,
            "visibility": null,
            "width": null
          }
        },
        "c2dcc17306aa483a88275ec94facd1a1": {
          "model_module": "@jupyter-widgets/controls",
          "model_name": "TabModel",
          "model_module_version": "1.5.0",
          "state": {
            "_dom_classes": [],
            "_model_module": "@jupyter-widgets/controls",
            "_model_module_version": "1.5.0",
            "_model_name": "TabModel",
            "_titles": {
              "0": "Youtube",
              "1": "Bilibili"
            },
            "_view_count": null,
            "_view_module": "@jupyter-widgets/controls",
            "_view_module_version": "1.5.0",
            "_view_name": "TabView",
            "box_style": "",
            "children": [
              "IPY_MODEL_20a4c124843840f5888c83a93c383a08",
              "IPY_MODEL_99033c17d4e641f8b4d0f3607e283b1d"
            ],
            "layout": "IPY_MODEL_069c9da8f8ea4063915d394be3925c97",
            "selected_index": 0
          }
        },
        "20a4c124843840f5888c83a93c383a08": {
          "model_module": "@jupyter-widgets/output",
          "model_name": "OutputModel",
          "model_module_version": "1.0.0",
          "state": {
            "_dom_classes": [],
            "_model_module": "@jupyter-widgets/output",
            "_model_module_version": "1.0.0",
            "_model_name": "OutputModel",
            "_view_count": null,
            "_view_module": "@jupyter-widgets/output",
            "_view_module_version": "1.0.0",
            "_view_name": "OutputView",
            "layout": "IPY_MODEL_f34db2efdc814eee8c8bf709813ec41f",
            "msg_id": "",
            "outputs": [
              {
                "output_type": "stream",
                "name": "stdout",
                "text": [
                  "Video available at https://youtube.com/watch?v=NZSwDy7wtIs\n"
                ]
              },
              {
                "output_type": "display_data",
                "data": {
                  "text/plain": "<IPython.lib.display.YouTubeVideo at 0x7c17fc3f3290>",
                  "text/html": "\n        <iframe\n            width=\"854\"\n            height=\"480\"\n            src=\"https://www.youtube.com/embed/NZSwDy7wtIs?fs=1&rel=0\"\n            frameborder=\"0\"\n            allowfullscreen\n            \n        ></iframe>\n        ",
                  "image/jpeg": "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\n"
                },
                "metadata": {}
              }
            ]
          }
        },
        "99033c17d4e641f8b4d0f3607e283b1d": {
          "model_module": "@jupyter-widgets/output",
          "model_name": "OutputModel",
          "model_module_version": "1.0.0",
          "state": {
            "_dom_classes": [],
            "_model_module": "@jupyter-widgets/output",
            "_model_module_version": "1.0.0",
            "_model_name": "OutputModel",
            "_view_count": null,
            "_view_module": "@jupyter-widgets/output",
            "_view_module_version": "1.0.0",
            "_view_name": "OutputView",
            "layout": "IPY_MODEL_6e165d5b032947a6bb847c765a4650b7",
            "msg_id": "",
            "outputs": [
              {
                "output_type": "stream",
                "name": "stdout",
                "text": [
                  "Video available at https://www.bilibili.com/video/BV1sz411v7za\n"
                ]
              },
              {
                "output_type": "display_data",
                "data": {
                  "text/plain": "<__main__.PlayVideo at 0x7c17fc415750>",
                  "text/html": "\n        <iframe\n            width=\"854\"\n            height=\"480\"\n            src=\"https://player.bilibili.com/player.html?bvid=BV1sz411v7za&page=1?fs=1&autoplay=False\"\n            frameborder=\"0\"\n            allowfullscreen\n            \n        ></iframe>\n        "
                },
                "metadata": {}
              }
            ]
          }
        },
        "069c9da8f8ea4063915d394be3925c97": {
          "model_module": "@jupyter-widgets/base",
          "model_name": "LayoutModel",
          "model_module_version": "1.2.0",
          "state": {
            "_model_module": "@jupyter-widgets/base",
            "_model_module_version": "1.2.0",
            "_model_name": "LayoutModel",
            "_view_count": null,
            "_view_module": "@jupyter-widgets/base",
            "_view_module_version": "1.2.0",
            "_view_name": "LayoutView",
            "align_content": null,
            "align_items": null,
            "align_self": null,
            "border": null,
            "bottom": null,
            "display": null,
            "flex": null,
            "flex_flow": null,
            "grid_area": null,
            "grid_auto_columns": null,
            "grid_auto_flow": null,
            "grid_auto_rows": null,
            "grid_column": null,
            "grid_gap": null,
            "grid_row": null,
            "grid_template_areas": null,
            "grid_template_columns": null,
            "grid_template_rows": null,
            "height": null,
            "justify_content": null,
            "justify_items": null,
            "left": null,
            "margin": null,
            "max_height": null,
            "max_width": null,
            "min_height": null,
            "min_width": null,
            "object_fit": null,
            "object_position": null,
            "order": null,
            "overflow": null,
            "overflow_x": null,
            "overflow_y": null,
            "padding": null,
            "right": null,
            "top": null,
            "visibility": null,
            "width": null
          }
        },
        "f34db2efdc814eee8c8bf709813ec41f": {
          "model_module": "@jupyter-widgets/base",
          "model_name": "LayoutModel",
          "model_module_version": "1.2.0",
          "state": {
            "_model_module": "@jupyter-widgets/base",
            "_model_module_version": "1.2.0",
            "_model_name": "LayoutModel",
            "_view_count": null,
            "_view_module": "@jupyter-widgets/base",
            "_view_module_version": "1.2.0",
            "_view_name": "LayoutView",
            "align_content": null,
            "align_items": null,
            "align_self": null,
            "border": null,
            "bottom": null,
            "display": null,
            "flex": null,
            "flex_flow": null,
            "grid_area": null,
            "grid_auto_columns": null,
            "grid_auto_flow": null,
            "grid_auto_rows": null,
            "grid_column": null,
            "grid_gap": null,
            "grid_row": null,
            "grid_template_areas": null,
            "grid_template_columns": null,
            "grid_template_rows": null,
            "height": null,
            "justify_content": null,
            "justify_items": null,
            "left": null,
            "margin": null,
            "max_height": null,
            "max_width": null,
            "min_height": null,
            "min_width": null,
            "object_fit": null,
            "object_position": null,
            "order": null,
            "overflow": null,
            "overflow_x": null,
            "overflow_y": null,
            "padding": null,
            "right": null,
            "top": null,
            "visibility": null,
            "width": null
          }
        },
        "6e165d5b032947a6bb847c765a4650b7": {
          "model_module": "@jupyter-widgets/base",
          "model_name": "LayoutModel",
          "model_module_version": "1.2.0",
          "state": {
            "_model_module": "@jupyter-widgets/base",
            "_model_module_version": "1.2.0",
            "_model_name": "LayoutModel",
            "_view_count": null,
            "_view_module": "@jupyter-widgets/base",
            "_view_module_version": "1.2.0",
            "_view_name": "LayoutView",
            "align_content": null,
            "align_items": null,
            "align_self": null,
            "border": null,
            "bottom": null,
            "display": null,
            "flex": null,
            "flex_flow": null,
            "grid_area": null,
            "grid_auto_columns": null,
            "grid_auto_flow": null,
            "grid_auto_rows": null,
            "grid_column": null,
            "grid_gap": null,
            "grid_row": null,
            "grid_template_areas": null,
            "grid_template_columns": null,
            "grid_template_rows": null,
            "height": null,
            "justify_content": null,
            "justify_items": null,
            "left": null,
            "margin": null,
            "max_height": null,
            "max_width": null,
            "min_height": null,
            "min_width": null,
            "object_fit": null,
            "object_position": null,
            "order": null,
            "overflow": null,
            "overflow_x": null,
            "overflow_y": null,
            "padding": null,
            "right": null,
            "top": null,
            "visibility": null,
            "width": null
          }
        }
      }
    }
  },
  "nbformat": 4,
  "nbformat_minor": 0
}