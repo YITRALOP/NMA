{
  "cells": [
    {
      "cell_type": "markdown",
      "metadata": {
        "id": "view-in-github",
        "colab_type": "text"
      },
      "source": [
        "<a href=\"https://colab.research.google.com/github/YITRALOP/NMA/blob/main/tutorials/W2D4_DynamicNetworks/student/W2D4_Tutorial2.ipynb\" target=\"_parent\"><img src=\"https://colab.research.google.com/assets/colab-badge.svg\" alt=\"Open In Colab\"/></a>"
      ]
    },
    {
      "cell_type": "markdown",
      "metadata": {
        "execution": {},
        "id": "51S8kMrViJCs"
      },
      "source": [
        "# Tutorial 2: Wilson-Cowan Model\n",
        "\n",
        "**Week 2, Day 4: Dynamic Networks**\n",
        "\n",
        "**By Neuromatch Academy**\n",
        "\n",
        "**Content creators:** Qinglong Gu, Songtin Li, Arvind Kumar, John Murray, Julijana Gjorgjieva\n",
        "\n",
        "**Content reviewers:** Maryam Vaziri-Pashkam, Ella Batty, Lorenzo Fontolan, Richard Gao, Spiros Chavlis, Michael Waskom, Siddharth Suresh\n",
        "\n",
        "**Production editors:** Gagana B, Spiros Chavlis"
      ]
    },
    {
      "cell_type": "markdown",
      "metadata": {
        "execution": {},
        "id": "yIzc593LiJCt"
      },
      "source": [
        "---\n",
        "# Tutorial Objectives\n",
        "\n",
        "*Estimated timing of tutorial: 1 hour, 35 minutes*\n",
        "\n",
        "In the previous tutorial, you became familiar with a neuronal network consisting of only an excitatory population. Here, we extend the approach we used to include both excitatory and inhibitory neuronal populations in our network. A simple, yet powerful model to study the dynamics of two interacting populations of excitatory and inhibitory neurons, is the so-called **Wilson-Cowan** rate model, which will be the subject of this tutorial.\n",
        "\n",
        "The objectives of this tutorial are to:\n",
        "\n",
        "- Write the **Wilson-Cowan** equations for the firing rate dynamics of a 2D system composed of an excitatory (E) and an inhibitory (I) population of neurons\n",
        "- Simulate the dynamics of the system, i.e., Wilson-Cowan model.\n",
        "- Plot the frequency-current (F-I) curves for both populations (i.e., E and I).\n",
        "- Visualize and inspect the behavior of the system using **phase plane analysis**, **vector fields**, and **nullclines**.\n",
        "\n",
        "Bonus steps:\n",
        "\n",
        "- Find and plot the **fixed points** of the Wilson-Cowan model.\n",
        "- Investigate the stability of the Wilson-Cowan model by linearizing its dynamics and examining the **Jacobian matrix**.\n",
        "- Learn how the Wilson-Cowan model can reach an oscillatory state.\n",
        "\n",
        "Bonus steps (applications):\n",
        "- Visualize the behavior of an Inhibition-stabilized network.\n",
        "- Simulate working memory using the Wilson-Cowan model.\n",
        "\n",
        "<br>\n",
        "\n",
        "Reference paper:\n",
        "\n",
        "Wilson, H., and Cowan, J. (1972). Excitatory and inhibitory interactions in localized populations of model neurons. _Biophysical Journal_ **12**. doi: [10.1016/S0006-3495(72)86068-5](https://doi.org/10.1016/S0006-3495(72)86068-5)."
      ]
    },
    {
      "cell_type": "code",
      "execution_count": null,
      "metadata": {
        "cellView": "form",
        "execution": {},
        "id": "Elr5DQLKiJCt"
      },
      "outputs": [],
      "source": [
        "# @title Tutorial slides\n",
        "# @markdown These are the slides for the videos in all tutorials today\n",
        "from IPython.display import IFrame\n",
        "link_id = \"nvuty\"\n",
        "print(f\"If you want to download the slides: https://osf.io/download/{link_id}/\")\n",
        "IFrame(src=f\"https://mfr.ca-1.osf.io/render?url=https://osf.io/{link_id}/?direct%26mode=render%26action=download%26mode=render\", width=854, height=480)"
      ]
    },
    {
      "cell_type": "markdown",
      "metadata": {
        "execution": {},
        "id": "MXoH1proiJCu"
      },
      "source": [
        "---\n",
        "# Setup"
      ]
    },
    {
      "cell_type": "code",
      "execution_count": null,
      "metadata": {
        "cellView": "form",
        "execution": {},
        "id": "cvptUKAeiJCu"
      },
      "outputs": [],
      "source": [
        "# @title Install and import feedback gadget\n",
        "\n",
        "!pip3 install vibecheck datatops --quiet\n",
        "\n",
        "from vibecheck import DatatopsContentReviewContainer\n",
        "def content_review(notebook_section: str):\n",
        "    return DatatopsContentReviewContainer(\n",
        "        \"\",  # No text prompt\n",
        "        notebook_section,\n",
        "        {\n",
        "            \"url\": \"https://pmyvdlilci.execute-api.us-east-1.amazonaws.com/klab\",\n",
        "            \"name\": \"neuromatch_cn\",\n",
        "            \"user_key\": \"y1x3mpx5\",\n",
        "        },\n",
        "    ).render()\n",
        "\n",
        "\n",
        "feedback_prefix = \"W2D4_T2\""
      ]
    },
    {
      "cell_type": "code",
      "execution_count": 1,
      "metadata": {
        "cellView": "both",
        "execution": {},
        "id": "yB1saE8fiJCu"
      },
      "outputs": [],
      "source": [
        "# Imports\n",
        "import matplotlib.pyplot as plt\n",
        "import numpy as np\n",
        "import scipy.optimize as opt  # root-finding algorithm"
      ]
    },
    {
      "cell_type": "code",
      "execution_count": 2,
      "metadata": {
        "cellView": "form",
        "execution": {},
        "id": "TwLYQQcyiJCv"
      },
      "outputs": [],
      "source": [
        "# @title Figure Settings\n",
        "import logging\n",
        "logging.getLogger('matplotlib.font_manager').disabled = True\n",
        "\n",
        "import ipywidgets as widgets  # interactive display\n",
        "%config InlineBackend.figure_format = 'retina'\n",
        "plt.style.use(\"https://raw.githubusercontent.com/NeuromatchAcademy/course-content/main/nma.mplstyle\")"
      ]
    },
    {
      "cell_type": "code",
      "execution_count": 3,
      "metadata": {
        "cellView": "form",
        "execution": {},
        "id": "DPnHIoUiiJCv"
      },
      "outputs": [],
      "source": [
        "# @title Plotting Functions\n",
        "\n",
        "def plot_FI_inverse(x, a, theta):\n",
        "  f, ax = plt.subplots()\n",
        "  ax.plot(x, F_inv(x, a=a, theta=theta))\n",
        "  ax.set(xlabel=\"$x$\", ylabel=\"$F^{-1}(x)$\")\n",
        "\n",
        "\n",
        "def plot_FI_EI(x, FI_exc, FI_inh):\n",
        "  plt.figure()\n",
        "  plt.plot(x, FI_exc, 'b', label='E population')\n",
        "  plt.plot(x, FI_inh, 'r', label='I population')\n",
        "  plt.legend(loc='lower right')\n",
        "  plt.xlabel('x (a.u.)')\n",
        "  plt.ylabel('F(x)')\n",
        "  plt.show()\n",
        "\n",
        "\n",
        "def my_test_plot(t, rE1, rI1, rE2, rI2):\n",
        "\n",
        "  plt.figure()\n",
        "  ax1 = plt.subplot(211)\n",
        "  ax1.plot(pars['range_t'], rE1, 'b', label='E population')\n",
        "  ax1.plot(pars['range_t'], rI1, 'r', label='I population')\n",
        "  ax1.set_ylabel('Activity')\n",
        "  ax1.legend(loc='best')\n",
        "\n",
        "  ax2 = plt.subplot(212, sharex=ax1, sharey=ax1)\n",
        "  ax2.plot(pars['range_t'], rE2, 'b', label='E population')\n",
        "  ax2.plot(pars['range_t'], rI2, 'r', label='I population')\n",
        "  ax2.set_xlabel('t (ms)')\n",
        "  ax2.set_ylabel('Activity')\n",
        "  ax2.legend(loc='best')\n",
        "\n",
        "  plt.tight_layout()\n",
        "  plt.show()\n",
        "\n",
        "\n",
        "def plot_nullclines(Exc_null_rE, Exc_null_rI, Inh_null_rE, Inh_null_rI):\n",
        "\n",
        "  plt.figure()\n",
        "  plt.plot(Exc_null_rE, Exc_null_rI, 'b', label='E nullcline')\n",
        "  plt.plot(Inh_null_rE, Inh_null_rI, 'r', label='I nullcline')\n",
        "  plt.xlabel(r'$r_E$')\n",
        "  plt.ylabel(r'$r_I$')\n",
        "  plt.legend(loc='best')\n",
        "  plt.show()\n",
        "\n",
        "\n",
        "def my_plot_nullcline(pars):\n",
        "  Exc_null_rE = np.linspace(-0.01, 0.96, 100)\n",
        "  Exc_null_rI = get_E_nullcline(Exc_null_rE, **pars)\n",
        "  Inh_null_rI = np.linspace(-.01, 0.8, 100)\n",
        "  Inh_null_rE = get_I_nullcline(Inh_null_rI, **pars)\n",
        "\n",
        "  plt.plot(Exc_null_rE, Exc_null_rI, 'b', label='E nullcline')\n",
        "  plt.plot(Inh_null_rE, Inh_null_rI, 'r', label='I nullcline')\n",
        "  plt.xlabel(r'$r_E$')\n",
        "  plt.ylabel(r'$r_I$')\n",
        "  plt.legend(loc='best')\n",
        "\n",
        "\n",
        "def my_plot_vector(pars, my_n_skip=2, myscale=5):\n",
        "  EI_grid = np.linspace(0., 1., 20)\n",
        "  rE, rI = np.meshgrid(EI_grid, EI_grid)\n",
        "  drEdt, drIdt = EIderivs(rE, rI, **pars)\n",
        "\n",
        "  n_skip = my_n_skip\n",
        "\n",
        "  plt.quiver(rE[::n_skip, ::n_skip], rI[::n_skip, ::n_skip],\n",
        "             drEdt[::n_skip, ::n_skip], drIdt[::n_skip, ::n_skip],\n",
        "             angles='xy', scale_units='xy', scale=myscale, facecolor='c')\n",
        "\n",
        "  plt.xlabel(r'$r_E$')\n",
        "  plt.ylabel(r'$r_I$')\n",
        "\n",
        "\n",
        "def my_plot_trajectory(pars, mycolor, x_init, mylabel):\n",
        "  pars = pars.copy()\n",
        "  pars['rE_init'], pars['rI_init'] = x_init[0], x_init[1]\n",
        "  rE_tj, rI_tj = simulate_wc(**pars)\n",
        "\n",
        "  plt.plot(rE_tj, rI_tj, color=mycolor, label=mylabel)\n",
        "  plt.plot(x_init[0], x_init[1], 'o', color=mycolor, ms=8)\n",
        "  plt.xlabel(r'$r_E$')\n",
        "  plt.ylabel(r'$r_I$')\n",
        "\n",
        "\n",
        "def my_plot_trajectories(pars, dx, n, mylabel):\n",
        "  \"\"\"\n",
        "  Solve for I along the E_grid from dE/dt = 0.\n",
        "\n",
        "  Expects:\n",
        "  pars    : Parameter dictionary\n",
        "  dx      : increment of initial values\n",
        "  n       : n*n trjectories\n",
        "  mylabel : label for legend\n",
        "\n",
        "  Returns:\n",
        "    figure of trajectory\n",
        "  \"\"\"\n",
        "  pars = pars.copy()\n",
        "  for ie in range(n):\n",
        "    for ii in range(n):\n",
        "      pars['rE_init'], pars['rI_init'] = dx * ie, dx * ii\n",
        "      rE_tj, rI_tj = simulate_wc(**pars)\n",
        "      if (ie == n-1) & (ii == n-1):\n",
        "          plt.plot(rE_tj, rI_tj, 'gray', alpha=0.8, label=mylabel)\n",
        "      else:\n",
        "          plt.plot(rE_tj, rI_tj, 'gray', alpha=0.8)\n",
        "\n",
        "  plt.xlabel(r'$r_E$')\n",
        "  plt.ylabel(r'$r_I$')\n",
        "\n",
        "\n",
        "def plot_complete_analysis(pars):\n",
        "  plt.figure(figsize=(7.7, 6.))\n",
        "\n",
        "  # plot example trajectories\n",
        "  my_plot_trajectories(pars, 0.2, 6,\n",
        "                       'Sample trajectories \\nfor different init. conditions')\n",
        "  my_plot_trajectory(pars, 'orange', [0.6, 0.8],\n",
        "                     'Sample trajectory for \\nlow activity')\n",
        "  my_plot_trajectory(pars, 'm', [0.6, 0.6],\n",
        "                     'Sample trajectory for \\nhigh activity')\n",
        "\n",
        "  # plot nullclines\n",
        "  my_plot_nullcline(pars)\n",
        "\n",
        "  # plot vector field\n",
        "  EI_grid = np.linspace(0., 1., 20)\n",
        "  rE, rI = np.meshgrid(EI_grid, EI_grid)\n",
        "  drEdt, drIdt = EIderivs(rE, rI, **pars)\n",
        "  n_skip = 2\n",
        "  plt.quiver(rE[::n_skip, ::n_skip], rI[::n_skip, ::n_skip],\n",
        "             drEdt[::n_skip, ::n_skip], drIdt[::n_skip, ::n_skip],\n",
        "             angles='xy', scale_units='xy', scale=5., facecolor='c')\n",
        "\n",
        "  plt.legend(loc=[1.02, 0.57], handlelength=1)\n",
        "  plt.show()\n",
        "\n",
        "\n",
        "def plot_fp(x_fp, position=(0.02, 0.1), rotation=0):\n",
        "  plt.plot(x_fp[0], x_fp[1], 'ko', ms=8)\n",
        "  plt.text(x_fp[0] + position[0], x_fp[1] + position[1],\n",
        "           f'Fixed Point1=\\n({x_fp[0]:.3f}, {x_fp[1]:.3f})',\n",
        "           horizontalalignment='center', verticalalignment='bottom',\n",
        "           rotation=rotation)"
      ]
    },
    {
      "cell_type": "code",
      "execution_count": 4,
      "metadata": {
        "cellView": "form",
        "execution": {},
        "id": "zMVIsOqViJCv"
      },
      "outputs": [],
      "source": [
        "# @title Helper Functions\n",
        "\n",
        "def default_pars(**kwargs):\n",
        "  pars = {}\n",
        "\n",
        "  # Excitatory parameters\n",
        "  pars['tau_E'] = 1.     # Timescale of the E population [ms]\n",
        "  pars['a_E'] = 1.2      # Gain of the E population\n",
        "  pars['theta_E'] = 2.8  # Threshold of the E population\n",
        "\n",
        "  # Inhibitory parameters\n",
        "  pars['tau_I'] = 2.0    # Timescale of the I population [ms]\n",
        "  pars['a_I'] = 1.0      # Gain of the I population\n",
        "  pars['theta_I'] = 4.0  # Threshold of the I population\n",
        "\n",
        "  # Connection strength\n",
        "  pars['wEE'] = 9.   # E to E\n",
        "  pars['wEI'] = 4.   # I to E\n",
        "  pars['wIE'] = 13.  # E to I\n",
        "  pars['wII'] = 11.  # I to I\n",
        "\n",
        "  # External input\n",
        "  pars['I_ext_E'] = 0.\n",
        "  pars['I_ext_I'] = 0.\n",
        "\n",
        "  # simulation parameters\n",
        "  pars['T'] = 50.        # Total duration of simulation [ms]\n",
        "  pars['dt'] = .1        # Simulation time step [ms]\n",
        "  pars['rE_init'] = 0.2  # Initial value of E\n",
        "  pars['rI_init'] = 0.2  # Initial value of I\n",
        "\n",
        "  # External parameters if any\n",
        "  for k in kwargs:\n",
        "      pars[k] = kwargs[k]\n",
        "\n",
        "  # Vector of discretized time points [ms]\n",
        "  pars['range_t'] = np.arange(0, pars['T'], pars['dt'])\n",
        "\n",
        "  return pars\n",
        "\n",
        "\n",
        "def F(x, a, theta):\n",
        "  \"\"\"\n",
        "  Population activation function, F-I curve\n",
        "\n",
        "  Args:\n",
        "    x     : the population input\n",
        "    a     : the gain of the function\n",
        "    theta : the threshold of the function\n",
        "\n",
        "  Returns:\n",
        "    f     : the population activation response f(x) for input x\n",
        "  \"\"\"\n",
        "\n",
        "  # add the expression of f = F(x)\n",
        "  f = (1 + np.exp(-a * (x - theta)))**-1 - (1 + np.exp(a * theta))**-1\n",
        "\n",
        "  return f\n",
        "\n",
        "\n",
        "def dF(x, a, theta):\n",
        "  \"\"\"\n",
        "  Derivative of the population activation function.\n",
        "\n",
        "  Args:\n",
        "    x     : the population input\n",
        "    a     : the gain of the function\n",
        "    theta : the threshold of the function\n",
        "\n",
        "  Returns:\n",
        "    dFdx  :  Derivative of the population activation function.\n",
        "  \"\"\"\n",
        "\n",
        "  dFdx = a * np.exp(-a * (x - theta)) * (1 + np.exp(-a * (x - theta)))**-2\n",
        "\n",
        "  return dFdx"
      ]
    },
    {
      "cell_type": "markdown",
      "metadata": {
        "execution": {},
        "id": "gXFULZ2PiJCw"
      },
      "source": [
        "The helper functions included:\n",
        "\n",
        "- Parameter dictionary: `default_pars(**kwargs)`. You can use:\n",
        "  - `pars = default_pars()` to get all the parameters, and then you can execute `print(pars)` to check these parameters.\n",
        "  - `pars = default_pars(T=T_sim, dt=time_step)` to set a different simulation time and time step\n",
        "  - After `pars = default_pars()`, use `par['New_para'] = value` to add a new parameter with its value\n",
        "  - Pass to functions that accept individual parameters with `func(**pars)`\n",
        "- F-I curve: `F(x, a, theta)`\n",
        "- Derivative of the F-I curve: `dF(x, a, theta)`"
      ]
    },
    {
      "cell_type": "markdown",
      "metadata": {
        "execution": {},
        "id": "hxJxtruJiJCw"
      },
      "source": [
        "---\n",
        "# Section 1: Wilson-Cowan model of excitatory and inhibitory populations\n"
      ]
    },
    {
      "cell_type": "code",
      "execution_count": 5,
      "metadata": {
        "cellView": "form",
        "execution": {},
        "id": "BtT4Zss2iJCw",
        "colab": {
          "base_uri": "https://localhost:8080/",
          "height": 580,
          "referenced_widgets": [
            "7336f70fc6714d3e8bdc204a3318521a",
            "c40bcd26030c4658867d3879939d83b8",
            "56e3ec1a3c0e4ebeaca0e40f268c7a8e",
            "ca703e6f93bd4808bba92190134e6701",
            "78cfc715d38448d0ad465d56f7eb49d3",
            "7db5a7bea6bc4d59b850997759b92270"
          ]
        },
        "outputId": "8214fcef-4996-467b-f145-b547a757c852"
      },
      "outputs": [
        {
          "output_type": "display_data",
          "data": {
            "text/plain": [
              "Tab(children=(Output(), Output()), _titles={'0': 'Youtube', '1': 'Bilibili'})"
            ],
            "application/vnd.jupyter.widget-view+json": {
              "version_major": 2,
              "version_minor": 0,
              "model_id": "7336f70fc6714d3e8bdc204a3318521a"
            }
          },
          "metadata": {}
        }
      ],
      "source": [
        "# @title Video 1: Phase analysis of the Wilson-Cowan E-I model\n",
        "from ipywidgets import widgets\n",
        "from IPython.display import YouTubeVideo\n",
        "from IPython.display import IFrame\n",
        "from IPython.display import display\n",
        "\n",
        "\n",
        "class PlayVideo(IFrame):\n",
        "  def __init__(self, id, source, page=1, width=400, height=300, **kwargs):\n",
        "    self.id = id\n",
        "    if source == 'Bilibili':\n",
        "      src = f'https://player.bilibili.com/player.html?bvid={id}&page={page}'\n",
        "    elif source == 'Osf':\n",
        "      src = f'https://mfr.ca-1.osf.io/render?url=https://osf.io/download/{id}/?direct%26mode=render'\n",
        "    super(PlayVideo, self).__init__(src, width, height, **kwargs)\n",
        "\n",
        "\n",
        "def display_videos(video_ids, W=400, H=300, fs=1):\n",
        "  tab_contents = []\n",
        "  for i, video_id in enumerate(video_ids):\n",
        "    out = widgets.Output()\n",
        "    with out:\n",
        "      if video_ids[i][0] == 'Youtube':\n",
        "        video = YouTubeVideo(id=video_ids[i][1], width=W,\n",
        "                             height=H, fs=fs, rel=0)\n",
        "        print(f'Video available at https://youtube.com/watch?v={video.id}')\n",
        "      else:\n",
        "        video = PlayVideo(id=video_ids[i][1], source=video_ids[i][0], width=W,\n",
        "                          height=H, fs=fs, autoplay=False)\n",
        "        if video_ids[i][0] == 'Bilibili':\n",
        "          print(f'Video available at https://www.bilibili.com/video/{video.id}')\n",
        "        elif video_ids[i][0] == 'Osf':\n",
        "          print(f'Video available at https://osf.io/{video.id}')\n",
        "      display(video)\n",
        "    tab_contents.append(out)\n",
        "  return tab_contents\n",
        "\n",
        "\n",
        "video_ids = [('Youtube', 'GCpQmh45crM'), ('Bilibili', 'BV1CD4y1m7dK')]\n",
        "tab_contents = display_videos(video_ids, W=854, H=480)\n",
        "tabs = widgets.Tab()\n",
        "tabs.children = tab_contents\n",
        "for i in range(len(tab_contents)):\n",
        "  tabs.set_title(i, video_ids[i][0])\n",
        "display(tabs)"
      ]
    },
    {
      "cell_type": "code",
      "execution_count": null,
      "metadata": {
        "cellView": "form",
        "execution": {},
        "id": "fGtsYPFziJCw"
      },
      "outputs": [],
      "source": [
        "# @title Submit your feedback\n",
        "content_review(f\"{feedback_prefix}_Phase_analysis_Video\")"
      ]
    },
    {
      "cell_type": "markdown",
      "metadata": {
        "execution": {},
        "id": "bSwBix7kiJCw"
      },
      "source": [
        "This video explains how to model a network with interacting populations of excitatory and inhibitory neurons (the Wilson-Cowan model). It shows how to solve the network activity vs. time and introduces the phase plane in two dimensions."
      ]
    },
    {
      "cell_type": "markdown",
      "metadata": {
        "execution": {},
        "id": "qIM7KTPYiJCw"
      },
      "source": [
        "## Section 1.1: Mathematical description of the WC model\n",
        "\n",
        "*Estimated timing to here from start of tutorial: 12 min*\n",
        "\n",
        "<details>\n",
        "<summary> <font color='blue'>Click here for text recap of relevant part of video </font></summary>\n",
        "\n",
        "Many of the rich dynamics recorded in the brain are generated by the interaction of excitatory and inhibitory subtype neurons. Here, similar to what we did in the previous tutorial, we will model two coupled populations of E and I neurons (**Wilson-Cowan** model). We can write two coupled differential equations, each representing the dynamics of the excitatory or inhibitory population:\n",
        "\n",
        "\\begin{align}\n",
        "\\tau_E \\frac{dr_E}{dt} &= -r_E + F_E(w_{EE}r_E -w_{EI}r_I + I^{\\text{ext}}_E;a_E,\\theta_E)\\\\\n",
        "\\tau_I \\frac{dr_I}{dt} &= -r_I + F_I(w_{IE}r_E -w_{II}r_I + I^{\\text{ext}}_I;a_I,\\theta_I)    \\qquad (1)\n",
        "\\end{align}\n",
        "\n",
        "$r_E(t)$ represents the average activation (or firing rate) of the excitatory population at time $t$, and $r_I(t)$ the activation (or firing rate) of the inhibitory population. The parameters $\\tau_E$ and $\\tau_I$ control the timescales of the dynamics of each population. Connection strengths are given by: $w_{EE}$ (E $\\rightarrow$ E), $w_{EI}$ (I $\\rightarrow$ E), $w_{IE}$ (E $\\rightarrow$ I), and $w_{II}$ (I $\\rightarrow$ I). The terms $w_{EI}$ and $w_{IE}$ represent connections from inhibitory to excitatory population and vice versa, respectively. The transfer functions (or F-I curves) $F_E(x;a_E,\\theta_E)$ and $F_I(x;a_I,\\theta_I)$ can be different for the excitatory and the inhibitory populations.\n"
      ]
    },
    {
      "cell_type": "markdown",
      "metadata": {
        "execution": {},
        "id": "YCUsKjmviJCw"
      },
      "source": [
        "### Coding Exercise 1.1: Plot out the F-I curves for the E and I populations\n",
        "\n",
        "Let's first plot out the F-I curves for the E and I populations using the helper function `F` with default parameter values."
      ]
    },
    {
      "cell_type": "code",
      "execution_count": 6,
      "metadata": {
        "execution": {},
        "id": "vc_wNBE-iJCx",
        "colab": {
          "base_uri": "https://localhost:8080/"
        },
        "collapsed": true,
        "outputId": "50529c58-1dbd-492a-8769-a8991b003e23"
      },
      "outputs": [
        {
          "output_type": "stream",
          "name": "stdout",
          "text": [
            "Help on function F in module __main__:\n",
            "\n",
            "F(x, a, theta)\n",
            "    Population activation function, F-I curve\n",
            "    \n",
            "    Args:\n",
            "      x     : the population input\n",
            "      a     : the gain of the function\n",
            "      theta : the threshold of the function\n",
            "    \n",
            "    Returns:\n",
            "      f     : the population activation response f(x) for input x\n",
            "\n"
          ]
        }
      ],
      "source": [
        "help(F)"
      ]
    },
    {
      "cell_type": "code",
      "execution_count": 7,
      "metadata": {
        "execution": {},
        "id": "PwInlHOciJCx",
        "colab": {
          "base_uri": "https://localhost:8080/",
          "height": 627
        },
        "outputId": "708e3dcd-7214-43e6-e56d-99a3b042edb8"
      },
      "outputs": [
        {
          "output_type": "stream",
          "name": "stdout",
          "text": [
            "1.2 2.8\n",
            "1.0 4.0\n"
          ]
        },
        {
          "output_type": "display_data",
          "data": {
            "text/plain": [
              "<Figure size 800x600 with 1 Axes>"
            ],
            "image/png": "[encoded data removed]"
          },
          "metadata": {
            "image/png": {
              "width": 775,
              "height": 575
            }
          }
        }
      ],
      "source": [
        "pars = default_pars()\n",
        "x = np.arange(0, 10, .1)\n",
        "\n",
        "print(pars['a_E'], pars['theta_E'])\n",
        "print(pars['a_I'], pars['theta_I'])\n",
        "\n",
        "###################################################################\n",
        "# TODO for students: compute and plot the F-I curve here          #\n",
        "# Note: aE, thetaE, aI and theta_I are in the dictionary 'pairs'   #\n",
        "# raise NotImplementedError('student exercise: compute F-I curves of excitatory and inhibitory populations')\n",
        "###################################################################\n",
        "\n",
        "# Compute the F-I curve of the excitatory population\n",
        "FI_exc = 1/(1 + np.exp(-pars['a_E'] * (x - pars['theta_E'])))\n",
        "\n",
        "# Compute the F-I curve of the inhibitory population\n",
        "FI_inh = 1/(1 + np.exp(-pars['a_I'] * (x - pars['theta_I'])))\n",
        "\n",
        "# Visualize\n",
        "plot_FI_EI(x, FI_exc, FI_inh)"
      ]
    },
    {
      "cell_type": "markdown",
      "metadata": {
        "execution": {},
        "id": "AW2RL1NViJCx"
      },
      "source": [
        "[*Click for solution*](https://github.com/NeuromatchAcademy/course-content/tree/main/tutorials/W2D4_DynamicNetworks/solutions/W2D4_Tutorial2_Solution_043dd600.py)\n",
        "\n",
        "*Example output:*\n",
        "\n",
        "<img alt='Solution hint' align='left' width=777.0 height=577.0 src=https://raw.githubusercontent.com/NeuromatchAcademy/course-content/main/tutorials/W2D4_DynamicNetworks/static/W2D4_Tutorial2_Solution_043dd600_1.png>\n",
        "\n"
      ]
    },
    {
      "cell_type": "code",
      "execution_count": null,
      "metadata": {
        "cellView": "form",
        "execution": {},
        "id": "ZMxqbvhLiJCx"
      },
      "outputs": [],
      "source": [
        "# @title Submit your feedback\n",
        "content_review(f\"{feedback_prefix}_Plot_FI_Exercise\")"
      ]
    },
    {
      "cell_type": "markdown",
      "metadata": {
        "execution": {},
        "id": "AUYK1XTsiJCx"
      },
      "source": [
        "## Section 1.2: Simulation scheme for the Wilson-Cowan model\n",
        "\n",
        "*Estimated timing to here from start of tutorial: 20 min*\n",
        "\n",
        "Once again, we can integrate our equations numerically. Using the Euler method, the dynamics of E and I populations can be simulated on a time-grid of stepsize $\\Delta t$. The updates for the activity of the excitatory and the inhibitory populations can be written as:\n",
        "\n",
        "\\begin{align}\n",
        "r_E[k+1] &= r_E[k] + \\Delta r_E[k]\\\\\n",
        "r_I[k+1] &= r_I[k] + \\Delta r_I[k]\n",
        "\\end{align}\n",
        "\n",
        "with the increments\n",
        "\n",
        "\\begin{align}\n",
        "\\Delta r_E[k] &= \\frac{\\Delta t}{\\tau_E}[-r_E[k] + F_E(w_{EE}r_E[k] -w_{EI}r_I[k] + I^{\\text{ext}}_E[k];a_E,\\theta_E)]\\\\\n",
        "\\Delta r_I[k] &= \\frac{\\Delta t}{\\tau_I}[-r_I[k] + F_I(w_{IE}r_E[k] -w_{II}r_I[k] + I^{\\text{ext}}_I[k];a_I,\\theta_I)]\n",
        "\\end{align}"
      ]
    },
    {
      "cell_type": "markdown",
      "metadata": {
        "execution": {},
        "id": "P2WB_NZ5iJCx"
      },
      "source": [
        "### Coding Exercise 1.2: Numerically integrate the Wilson-Cowan equations\n",
        "\n",
        "We will implement this numerical simulation of our equations and visualize two simulations with similar initial points."
      ]
    },
    {
      "cell_type": "code",
      "execution_count": 10,
      "metadata": {
        "execution": {},
        "id": "66k7QJeViJCx",
        "colab": {
          "base_uri": "https://localhost:8080/",
          "height": 592
        },
        "outputId": "2fb27537-8560-41f5-81a8-59063e44e561"
      },
      "outputs": [
        {
          "output_type": "display_data",
          "data": {
            "text/plain": [
              "<Figure size 800x600 with 2 Axes>"
            ],
            "image/png": "[encoded data removed]"
          },
          "metadata": {
            "image/png": {
              "width": 775,
              "height": 575
            }
          }
        }
      ],
      "source": [
        "def simulate_wc(tau_E, a_E, theta_E, tau_I, a_I, theta_I,\n",
        "                wEE, wEI, wIE, wII, I_ext_E, I_ext_I,\n",
        "                rE_init, rI_init, dt, range_t, **other_pars):\n",
        "  \"\"\"\n",
        "  Simulate the Wilson-Cowan equations\n",
        "\n",
        "  Args:\n",
        "    Parameters of the Wilson-Cowan model\n",
        "\n",
        "  Returns:\n",
        "    rE, rI (arrays) : Activity of excitatory and inhibitory populations\n",
        "  \"\"\"\n",
        "  # Initialize activity arrays\n",
        "  Lt = range_t.size\n",
        "  rE = np.append(rE_init, np.zeros(Lt - 1))\n",
        "  rI = np.append(rI_init, np.zeros(Lt - 1))\n",
        "  I_ext_E = I_ext_E * np.ones(Lt)\n",
        "  I_ext_I = I_ext_I * np.ones(Lt)\n",
        "\n",
        "  # Simulate the Wilson-Cowan equations\n",
        "  for k in range(Lt - 1):\n",
        "\n",
        "    ########################################################################\n",
        "    # TODO for students: compute drE and drI and remove the error\n",
        "    # raise NotImplementedError(\"Student exercise: compute the change in E/I\")\n",
        "    ########################################################################\n",
        "\n",
        "    # Calculate the derivative of the E population\n",
        "    drE = (-rE[k] + F(wEE * rE[k] - wEI * rI[k] + I_ext_E[k], a=a_E, theta=theta_E)) * dt / tau_E\n",
        "\n",
        "    # Calculate the derivative of the I population\n",
        "    drI = (-rI[k] + F(wIE * rE[k] - wII * rI[k] + I_ext_I[k], a=a_I, theta=theta_I)) * dt  / tau_I\n",
        "\n",
        "    # Update using Euler's method\n",
        "    rE[k + 1] = rE[k] + drE\n",
        "    rI[k + 1] = rI[k] + drI\n",
        "\n",
        "  return rE, rI\n",
        "\n",
        "\n",
        "pars = default_pars()\n",
        "\n",
        "# Simulate first trajectory\n",
        "rE1, rI1 = simulate_wc(**default_pars(rE_init=.32, rI_init=.15))\n",
        "\n",
        "# Simulate second trajectory\n",
        "rE2, rI2 = simulate_wc(**default_pars(rE_init=.33, rI_init=.15))\n",
        "\n",
        "# Visualize\n",
        "my_test_plot(pars['range_t'], rE1, rI1, rE2, rI2)"
      ]
    },
    {
      "cell_type": "markdown",
      "metadata": {
        "cellView": "both",
        "execution": {},
        "id": "0ron8V4niJCx"
      },
      "source": [
        "[*Click for solution*](https://github.com/NeuromatchAcademy/course-content/tree/main/tutorials/W2D4_DynamicNetworks/solutions/W2D4_Tutorial2_Solution_15eff812.py)\n",
        "\n",
        "*Example output:*\n",
        "\n",
        "<img alt='Solution hint' align='left' width=777.0 height=578.0 src=https://raw.githubusercontent.com/NeuromatchAcademy/course-content/main/tutorials/W2D4_DynamicNetworks/static/W2D4_Tutorial2_Solution_15eff812_0.png>\n",
        "\n"
      ]
    },
    {
      "cell_type": "code",
      "execution_count": null,
      "metadata": {
        "cellView": "form",
        "execution": {},
        "id": "KE_tEBBaiJCx"
      },
      "outputs": [],
      "source": [
        "# @title Submit your feedback\n",
        "content_review(f\"{feedback_prefix}_Numerical_Integration_of_WE_model_Exercise\")"
      ]
    },
    {
      "cell_type": "markdown",
      "metadata": {
        "execution": {},
        "id": "6U7B-JCuiJCx"
      },
      "source": [
        "The two plots above show the temporal evolution of excitatory ($r_E$, blue) and inhibitory ($r_I$, red) activity for two different sets of initial conditions."
      ]
    },
    {
      "cell_type": "markdown",
      "metadata": {
        "execution": {},
        "id": "HC34tGwhiJCx"
      },
      "source": [
        "### Interactive Demo 1.2: population trajectories with different initial values\n",
        "\n",
        "In this interactive demo, we will simulate the Wilson-Cowan model and plot the trajectories of each population. We change the initial activity of the excitatory population.\n",
        "\n",
        "What happens to the E and I population trajectories with different initial conditions?"
      ]
    },
    {
      "cell_type": "code",
      "execution_count": 11,
      "metadata": {
        "cellView": "form",
        "execution": {},
        "id": "xLfQGn5BiJCy",
        "colab": {
          "base_uri": "https://localhost:8080/",
          "height": 624,
          "referenced_widgets": [
            "7624e0a10fc2489c89a00eed1e31153c",
            "a58338139325420298f5f4f208363b02",
            "fa4137f9735148efa4378568aa6f32c1",
            "25d5a59afb284d13905d50717d45a48f",
            "e9586ef07f924b04a4f2fe42be8538d8",
            "7e6dca5d38094d6d9e309368b56e7be0",
            "78ec832703a04395a7ce37be9470d6a8"
          ]
        },
        "outputId": "abea8d74-9be5-4a88-fcc2-a3b6af6a58bd"
      },
      "outputs": [
        {
          "output_type": "display_data",
          "data": {
            "text/plain": [
              "interactive(children=(FloatSlider(value=0.32, description='rE_init', max=0.35, min=0.3, step=0.01), Output()),…"
            ],
            "application/vnd.jupyter.widget-view+json": {
              "version_major": 2,
              "version_minor": 0,
              "model_id": "7624e0a10fc2489c89a00eed1e31153c"
            }
          },
          "metadata": {}
        }
      ],
      "source": [
        "# @markdown Make sure you execute this cell to enable the widget!\n",
        "@widgets.interact(\n",
        "    rE_init=widgets.FloatSlider(0.32, min=0.30, max=0.35, step=.01)\n",
        ")\n",
        "\n",
        "\n",
        "def plot_EI_diffinitial(rE_init=0.0):\n",
        "\n",
        "  pars = default_pars(rE_init=rE_init, rI_init=.15)\n",
        "  rE, rI = simulate_wc(**pars)\n",
        "\n",
        "  plt.figure()\n",
        "  plt.plot(pars['range_t'], rE, 'b', label='E population')\n",
        "  plt.plot(pars['range_t'], rI, 'r', label='I population')\n",
        "  plt.xlabel('t (ms)')\n",
        "  plt.ylabel('Activity')\n",
        "  plt.legend(loc='best')\n",
        "  plt.show()"
      ]
    },
    {
      "cell_type": "markdown",
      "metadata": {
        "execution": {},
        "id": "aE4UpChCiJCy"
      },
      "source": [
        "[*Click for solution*](https://github.com/NeuromatchAcademy/course-content/tree/main/tutorials/W2D4_DynamicNetworks/solutions/W2D4_Tutorial2_Solution_873fc84e.py)\n",
        "\n"
      ]
    },
    {
      "cell_type": "code",
      "execution_count": null,
      "metadata": {
        "cellView": "form",
        "execution": {},
        "id": "EkXZy8lNiJCy"
      },
      "outputs": [],
      "source": [
        "# @title Submit your feedback\n",
        "content_review(f\"{feedback_prefix}_Population_trajectories_with_different_initial_values_Interactive_Demo_and_Discussion\")"
      ]
    },
    {
      "cell_type": "markdown",
      "metadata": {
        "execution": {},
        "id": "-OUG-IXJiJCy"
      },
      "source": [
        "### Think! 1.2\n",
        "It is evident that the steady states of the neuronal response can be different when different initial states are chosen. Why is that?\n",
        "\n",
        "We will discuss this in the next section but try to think about it first."
      ]
    },
    {
      "cell_type": "markdown",
      "metadata": {
        "execution": {},
        "id": "BTPzM8N5iJCy"
      },
      "source": [
        "---\n",
        "# Section 2: Phase plane analysis\n",
        "\n",
        "*Estimated timing to here from start of tutorial: 45 min*\n",
        "\n",
        "Just like we used a graphical method to study the dynamics of a 1-D system in the previous tutorial, here we will learn a  graphical approach called **phase plane analysis** to study the dynamics of a 2-D system like the Wilson-Cowan model. You have seen this before in the [pre-reqs calculus day](https://compneuro.neuromatch.io/tutorials/W0D4_Calculus/student/W0D4_Tutorial3.html#section-3-2-phase-plane-plot-and-nullcline) and on the [Linear Systems day](https://compneuro.neuromatch.io/tutorials/W2D2_LinearSystems/student/W2D2_Tutorial1.html#section-4-stream-plots)\n",
        "\n",
        "So far, we have plotted the activities of the two populations as a function of time, i.e., in the `Activity-t` plane, either the $(t, r_E(t))$ plane or the $(t, r_I(t))$ one. Instead, we can plot the two activities $r_E(t)$ and $r_I(t)$ against each other at any time point $t$. This characterization in the `rI-rE` plane $(r_I(t), r_E(t))$ is called the **phase plane**. Each line in the phase plane indicates how both $r_E$ and $r_I$ evolve with time."
      ]
    },
    {
      "cell_type": "code",
      "execution_count": 12,
      "metadata": {
        "cellView": "form",
        "execution": {},
        "id": "RnU_xNuliJCy",
        "colab": {
          "base_uri": "https://localhost:8080/",
          "height": 580,
          "referenced_widgets": [
            "20ccfd387f914d9183a805544d6c5db2",
            "d591340dceea4c84b5ac68c3921e642b",
            "3a15a70c2c364b929055af87993a2968",
            "c142c453e1d8451aa715d1a593cc9768",
            "21eee2e7139644deaffec46fda46bab6",
            "0387e82351464fc184bbfe22c09f7b0c"
          ]
        },
        "outputId": "1469635c-6db3-4c49-a1bd-999d7575c2ce"
      },
      "outputs": [
        {
          "output_type": "display_data",
          "data": {
            "text/plain": [
              "Tab(children=(Output(), Output()), _titles={'0': 'Youtube', '1': 'Bilibili'})"
            ],
            "application/vnd.jupyter.widget-view+json": {
              "version_major": 2,
              "version_minor": 0,
              "model_id": "20ccfd387f914d9183a805544d6c5db2"
            }
          },
          "metadata": {}
        }
      ],
      "source": [
        "# @title Video 2: Nullclines and Vector Fields\n",
        "from ipywidgets import widgets\n",
        "from IPython.display import YouTubeVideo\n",
        "from IPython.display import IFrame\n",
        "from IPython.display import display\n",
        "\n",
        "\n",
        "class PlayVideo(IFrame):\n",
        "  def __init__(self, id, source, page=1, width=400, height=300, **kwargs):\n",
        "    self.id = id\n",
        "    if source == 'Bilibili':\n",
        "      src = f'https://player.bilibili.com/player.html?bvid={id}&page={page}'\n",
        "    elif source == 'Osf':\n",
        "      src = f'https://mfr.ca-1.osf.io/render?url=https://osf.io/download/{id}/?direct%26mode=render'\n",
        "    super(PlayVideo, self).__init__(src, width, height, **kwargs)\n",
        "\n",
        "\n",
        "def display_videos(video_ids, W=400, H=300, fs=1):\n",
        "  tab_contents = []\n",
        "  for i, video_id in enumerate(video_ids):\n",
        "    out = widgets.Output()\n",
        "    with out:\n",
        "      if video_ids[i][0] == 'Youtube':\n",
        "        video = YouTubeVideo(id=video_ids[i][1], width=W,\n",
        "                             height=H, fs=fs, rel=0)\n",
        "        print(f'Video available at https://youtube.com/watch?v={video.id}')\n",
        "      else:\n",
        "        video = PlayVideo(id=video_ids[i][1], source=video_ids[i][0], width=W,\n",
        "                          height=H, fs=fs, autoplay=False)\n",
        "        if video_ids[i][0] == 'Bilibili':\n",
        "          print(f'Video available at https://www.bilibili.com/video/{video.id}')\n",
        "        elif video_ids[i][0] == 'Osf':\n",
        "          print(f'Video available at https://osf.io/{video.id}')\n",
        "      display(video)\n",
        "    tab_contents.append(out)\n",
        "  return tab_contents\n",
        "\n",
        "\n",
        "video_ids = [('Youtube', 'V2SBAK2Xf8Y'), ('Bilibili', 'BV15k4y1m7Kt')]\n",
        "tab_contents = display_videos(video_ids, W=854, H=480)\n",
        "tabs = widgets.Tab()\n",
        "tabs.children = tab_contents\n",
        "for i in range(len(tab_contents)):\n",
        "  tabs.set_title(i, video_ids[i][0])\n",
        "display(tabs)"
      ]
    },
    {
      "cell_type": "code",
      "execution_count": null,
      "metadata": {
        "cellView": "form",
        "execution": {},
        "id": "LaYEkHSViJCy"
      },
      "outputs": [],
      "source": [
        "# @title Submit your feedback\n",
        "content_review(f\"{feedback_prefix}_Nullclines_and_Vector_Fields_Video\")"
      ]
    },
    {
      "cell_type": "markdown",
      "metadata": {
        "execution": {},
        "id": "9xrFEUAsiJCy"
      },
      "source": [
        "## Interactive Demo 2: From the Activity - time plane to the **$r_I$ - $r_E$** phase plane\n",
        "\n",
        "In this demo, we will visualize the system dynamics using both the `Activity-time` and the `(rE, rI)` phase plane. The circles indicate the activities at a given time $t$, while the lines represent the evolution of the system for the entire duration of the simulation.\n",
        "\n",
        "Move the time slider to better understand how the top plot relates to the bottom plot. Does the bottom plot have explicit information about time? What information does it give us?"
      ]
    },
    {
      "cell_type": "code",
      "execution_count": null,
      "metadata": {
        "cellView": "form",
        "execution": {},
        "id": "q1_q4umJiJCy"
      },
      "outputs": [],
      "source": [
        "# @markdown Make sure you execute this cell to enable the widget!\n",
        "\n",
        "pars = default_pars(T=10, rE_init=0.6, rI_init=0.8)\n",
        "rE, rI = simulate_wc(**pars)\n",
        "\n",
        "@widgets.interact(\n",
        "    n_t=widgets.IntSlider(0, min=0, max=len(pars['range_t']) - 1, step=1)\n",
        ")\n",
        "\n",
        "\n",
        "def plot_activity_phase(n_t):\n",
        "  plt.figure(figsize=(8, 5.5))\n",
        "  plt.subplot(211)\n",
        "  plt.plot(pars['range_t'], rE, 'b', label=r'$r_E$')\n",
        "  plt.plot(pars['range_t'], rI, 'r', label=r'$r_I$')\n",
        "  plt.plot(pars['range_t'][n_t], rE[n_t], 'bo')\n",
        "  plt.plot(pars['range_t'][n_t], rI[n_t], 'ro')\n",
        "  plt.axvline(pars['range_t'][n_t], 0, 1, color='k', ls='--')\n",
        "  plt.xlabel('t (ms)', fontsize=14)\n",
        "  plt.ylabel('Activity', fontsize=14)\n",
        "  plt.legend(loc='best', fontsize=14)\n",
        "\n",
        "  plt.subplot(212)\n",
        "  plt.plot(rE, rI, 'k')\n",
        "  plt.plot(rE[n_t], rI[n_t], 'ko')\n",
        "  plt.xlabel(r'$r_E$', fontsize=18, color='b')\n",
        "  plt.ylabel(r'$r_I$', fontsize=18, color='r')\n",
        "\n",
        "  plt.tight_layout()\n",
        "  plt.show()"
      ]
    },
    {
      "cell_type": "markdown",
      "metadata": {
        "execution": {},
        "id": "tiTGvcHAiJCy"
      },
      "source": [
        "[*Click for solution*](https://github.com/NeuromatchAcademy/course-content/tree/main/tutorials/W2D4_DynamicNetworks/solutions/W2D4_Tutorial2_Solution_5d1fcb72.py)\n",
        "\n"
      ]
    },
    {
      "cell_type": "code",
      "execution_count": null,
      "metadata": {
        "cellView": "form",
        "execution": {},
        "id": "SS2oQ_CviJCy"
      },
      "outputs": [],
      "source": [
        "# @title Submit your feedback\n",
        "content_review(f\"{feedback_prefix}_Time_plane_to_Phase_plane_Interactive_Demo_and_Discussion\")"
      ]
    },
    {
      "cell_type": "markdown",
      "metadata": {
        "execution": {},
        "id": "7drM_Sb_iJCy"
      },
      "source": [
        "## Section 2.1: Nullclines of the Wilson-Cowan Equations\n",
        "\n",
        "*Estimated timing to here from start of tutorial: 1 hour, 3 min*\n",
        "\n",
        "An important concept in the phase plane analysis is the \"nullcline\" which is defined as the set of points in the phase plane where the activity of one population (but not necessarily the other) does not change.\n",
        "\n",
        "In other words, the $E$ and $I$ nullclines of Equation $(1)$ are defined as the points where $\\displaystyle{\\frac{dr_E}{dt}}=0$, for the excitatory nullcline, or $\\displaystyle\\frac{dr_I}{dt}=0$ for the inhibitory nullcline. That is:\n",
        "\n",
        "\\begin{align}\n",
        "-r_E + F_E(w_{EE}r_E -w_{EI}r_I + I^{\\text{ext}}_E;a_E,\\theta_E) &= 0  \\qquad (2)\\\\[1mm]\n",
        "-r_I + F_I(w_{IE}r_E -w_{II}r_I + I^{\\text{ext}}_I;a_I,\\theta_I) &= 0  \\qquad (3)\n",
        "\\end{align}"
      ]
    },
    {
      "cell_type": "markdown",
      "metadata": {
        "execution": {},
        "id": "8p7mrPA1iJC3"
      },
      "source": [
        "### Coding Exercise 2.1: Compute the nullclines of the Wilson-Cowan model\n",
        "\n",
        "In the next exercise, we will compute and plot the nullclines of the E and I population."
      ]
    },
    {
      "cell_type": "markdown",
      "metadata": {
        "execution": {},
        "id": "_WwBQ6kSiJC3"
      },
      "source": [
        "Along the nullcline of excitatory population Equation $2$, you can calculate the inhibitory activity by rewriting Equation $2$ into\n",
        "\n",
        "\\begin{align}\n",
        "r_I = \\frac{1}{w_{EI}}\\big{[}w_{EE}r_E - F_E^{-1}(r_E; a_E,\\theta_E) + I^{\\text{ext}}_E \\big{]}. \\qquad(4)\n",
        "\\end{align}\n",
        "\n",
        "where $F_E^{-1}(r_E; a_E,\\theta_E)$ is the inverse of the excitatory transfer function (defined below). Equation $4$ defines the $r_E$ nullcline."
      ]
    },
    {
      "cell_type": "markdown",
      "metadata": {
        "execution": {},
        "id": "TFvQklG-iJC3"
      },
      "source": [
        "Along the nullcline of inhibitory population Equation $3$, you can calculate the excitatory activity by rewriting Equation $3$ into\n",
        "\\begin{align}\n",
        "r_E = \\frac{1}{w_{IE}} \\big{[} w_{II}r_I + F_I^{-1}(r_I;a_I,\\theta_I) - I^{\\text{ext}}_I \\big{]}  \\qquad (5)\n",
        "\\end{align}\n",
        "\n",
        "shere $F_I^{-1}(r_I; a_I,\\theta_I)$ is the inverse of the inhibitory transfer function (defined below). Equation $5$ defines the $I$ nullcline."
      ]
    },
    {
      "cell_type": "markdown",
      "metadata": {
        "execution": {},
        "id": "5-3jGV3liJC3"
      },
      "source": [
        "Note that, when computing the nullclines with Equations 4-5, we also need to calculate the inverse of the transfer functions.\n",
        "\n",
        "The inverse of the sigmoid shaped **f-I** function that we have been using is:\n",
        "\n",
        "\\begin{equation}\n",
        "F^{-1}(x; a, \\theta) = -\\frac{1}{a} \\ln \\left[ \\frac{1}{x + \\displaystyle \\frac{1}{1+\\text{e}^{a\\theta}}} - 1 \\right] + \\theta \\qquad (6)\n",
        "\\end{equation}\n",
        "\n",
        "The first step is to implement the inverse transfer function:"
      ]
    },
    {
      "cell_type": "code",
      "execution_count": 13,
      "metadata": {
        "execution": {},
        "id": "QnIjBRgbiJC3",
        "colab": {
          "base_uri": "https://localhost:8080/",
          "height": 896
        },
        "outputId": "be5e43eb-8459-4315-d2b7-43986f6cc0e6"
      },
      "outputs": [
        {
          "output_type": "error",
          "ename": "NotImplementedError",
          "evalue": "Student exercise: compute the inverse of F(x)",
          "traceback": [
            "\u001b[0;31m---------------------------------------------------------------------------\u001b[0m",
            "\u001b[0;31mNotImplementedError\u001b[0m                       Traceback (most recent call last)",
            "\u001b[0;32m/tmp/ipython-input-13-3695349402.py\u001b[0m in \u001b[0;36m<cell line: 0>\u001b[0;34m()\u001b[0m\n\u001b[1;32m     26\u001b[0m \u001b[0;34m\u001b[0m\u001b[0m\n\u001b[1;32m     27\u001b[0m \u001b[0;31m# Get inverse and visualize\u001b[0m\u001b[0;34m\u001b[0m\u001b[0;34m\u001b[0m\u001b[0m\n\u001b[0;32m---> 28\u001b[0;31m \u001b[0mplot_FI_inverse\u001b[0m\u001b[0;34m(\u001b[0m\u001b[0mx\u001b[0m\u001b[0;34m,\u001b[0m \u001b[0ma\u001b[0m\u001b[0;34m=\u001b[0m\u001b[0;36m1\u001b[0m\u001b[0;34m,\u001b[0m \u001b[0mtheta\u001b[0m\u001b[0;34m=\u001b[0m\u001b[0;36m3\u001b[0m\u001b[0;34m)\u001b[0m\u001b[0;34m\u001b[0m\u001b[0;34m\u001b[0m\u001b[0m\n\u001b[0m",
            "\u001b[0;32m/tmp/ipython-input-3-2190205161.py\u001b[0m in \u001b[0;36mplot_FI_inverse\u001b[0;34m(x, a, theta)\u001b[0m\n\u001b[1;32m      3\u001b[0m \u001b[0;32mdef\u001b[0m \u001b[0mplot_FI_inverse\u001b[0m\u001b[0;34m(\u001b[0m\u001b[0mx\u001b[0m\u001b[0;34m,\u001b[0m \u001b[0ma\u001b[0m\u001b[0;34m,\u001b[0m \u001b[0mtheta\u001b[0m\u001b[0;34m)\u001b[0m\u001b[0;34m:\u001b[0m\u001b[0;34m\u001b[0m\u001b[0;34m\u001b[0m\u001b[0m\n\u001b[1;32m      4\u001b[0m   \u001b[0mf\u001b[0m\u001b[0;34m,\u001b[0m \u001b[0max\u001b[0m \u001b[0;34m=\u001b[0m \u001b[0mplt\u001b[0m\u001b[0;34m.\u001b[0m\u001b[0msubplots\u001b[0m\u001b[0;34m(\u001b[0m\u001b[0;34m)\u001b[0m\u001b[0;34m\u001b[0m\u001b[0;34m\u001b[0m\u001b[0m\n\u001b[0;32m----> 5\u001b[0;31m   \u001b[0max\u001b[0m\u001b[0;34m.\u001b[0m\u001b[0mplot\u001b[0m\u001b[0;34m(\u001b[0m\u001b[0mx\u001b[0m\u001b[0;34m,\u001b[0m \u001b[0mF_inv\u001b[0m\u001b[0;34m(\u001b[0m\u001b[0mx\u001b[0m\u001b[0;34m,\u001b[0m \u001b[0ma\u001b[0m\u001b[0;34m=\u001b[0m\u001b[0ma\u001b[0m\u001b[0;34m,\u001b[0m \u001b[0mtheta\u001b[0m\u001b[0;34m=\u001b[0m\u001b[0mtheta\u001b[0m\u001b[0;34m)\u001b[0m\u001b[0;34m)\u001b[0m\u001b[0;34m\u001b[0m\u001b[0;34m\u001b[0m\u001b[0m\n\u001b[0m\u001b[1;32m      6\u001b[0m   \u001b[0max\u001b[0m\u001b[0;34m.\u001b[0m\u001b[0mset\u001b[0m\u001b[0;34m(\u001b[0m\u001b[0mxlabel\u001b[0m\u001b[0;34m=\u001b[0m\u001b[0;34m\"$x$\"\u001b[0m\u001b[0;34m,\u001b[0m \u001b[0mylabel\u001b[0m\u001b[0;34m=\u001b[0m\u001b[0;34m\"$F^{-1}(x)$\"\u001b[0m\u001b[0;34m)\u001b[0m\u001b[0;34m\u001b[0m\u001b[0;34m\u001b[0m\u001b[0m\n\u001b[1;32m      7\u001b[0m \u001b[0;34m\u001b[0m\u001b[0m\n",
            "\u001b[0;32m/tmp/ipython-input-13-3695349402.py\u001b[0m in \u001b[0;36mF_inv\u001b[0;34m(x, a, theta)\u001b[0m\n\u001b[1;32m     12\u001b[0m   \u001b[0;31m#########################################################################\u001b[0m\u001b[0;34m\u001b[0m\u001b[0;34m\u001b[0m\u001b[0m\n\u001b[1;32m     13\u001b[0m   \u001b[0;31m# TODO for students: compute F_inverse\u001b[0m\u001b[0;34m\u001b[0m\u001b[0;34m\u001b[0m\u001b[0m\n\u001b[0;32m---> 14\u001b[0;31m   \u001b[0;32mraise\u001b[0m \u001b[0mNotImplementedError\u001b[0m\u001b[0;34m(\u001b[0m\u001b[0;34m\"Student exercise: compute the inverse of F(x)\"\u001b[0m\u001b[0;34m)\u001b[0m\u001b[0;34m\u001b[0m\u001b[0;34m\u001b[0m\u001b[0m\n\u001b[0m\u001b[1;32m     15\u001b[0m   \u001b[0;31m#########################################################################\u001b[0m\u001b[0;34m\u001b[0m\u001b[0;34m\u001b[0m\u001b[0m\n\u001b[1;32m     16\u001b[0m \u001b[0;34m\u001b[0m\u001b[0m\n",
            "\u001b[0;31mNotImplementedError\u001b[0m: Student exercise: compute the inverse of F(x)"
          ]
        },
        {
          "output_type": "display_data",
          "data": {
            "text/plain": [
              "<Figure size 800x600 with 1 Axes>"
            ],
            "image/png": "[encoded data removed]"
          },
          "metadata": {
            "image/png": {
              "width": 775,
              "height": 575
            }
          }
        }
      ],
      "source": [
        "def F_inv(x, a, theta):\n",
        "  \"\"\"\n",
        "  Args:\n",
        "    x         : the population input\n",
        "    a         : the gain of the function\n",
        "    theta     : the threshold of the function\n",
        "\n",
        "  Returns:\n",
        "    F_inverse : value of the inverse function\n",
        "  \"\"\"\n",
        "\n",
        "  #########################################################################\n",
        "  # TODO for students: compute F_inverse\n",
        "  raise NotImplementedError(\"Student exercise: compute the inverse of F(x)\")\n",
        "  #########################################################################\n",
        "\n",
        "  # Calculate Finverse (ln(x) can be calculated as np.log(x))\n",
        "  F_inverse = ...\n",
        "\n",
        "  return F_inverse\n",
        "\n",
        "\n",
        "# Set parameters\n",
        "pars = default_pars()\n",
        "x = np.linspace(1e-6, 1, 100)\n",
        "\n",
        "# Get inverse and visualize\n",
        "plot_FI_inverse(x, a=1, theta=3)"
      ]
    },
    {
      "cell_type": "markdown",
      "metadata": {
        "execution": {},
        "id": "9oJTuInQiJC3"
      },
      "source": [
        "[*Click for solution*](https://github.com/NeuromatchAcademy/course-content/tree/main/tutorials/W2D4_DynamicNetworks/solutions/W2D4_Tutorial2_Solution_f3500f59.py)\n",
        "\n"
      ]
    },
    {
      "cell_type": "markdown",
      "metadata": {
        "execution": {},
        "id": "KjMa3lRaiJC3"
      },
      "source": [
        "Now you can compute the nullclines, using Equations 4-5 (repeated here for ease of access):\n",
        "\n",
        "\\begin{align}\n",
        "r_I &= \\frac{1}{w_{EI}}\\big{[}w_{EE}r_E - F_E^{-1}(r_E; a_E,\\theta_E) + I^{\\text{ext}}_E \\big{]} &\\qquad(4) \\\\\n",
        "r_E &= \\frac{1}{w_{IE}} \\big{[} w_{II}r_I + F_I^{-1}(r_I;a_I,\\theta_I) - I^{\\text{ext}}_I \\big{]} &\\qquad (5)\n",
        "\\end{align}"
      ]
    },
    {
      "cell_type": "code",
      "execution_count": null,
      "metadata": {
        "execution": {},
        "id": "OH9r0ghEiJC3"
      },
      "outputs": [],
      "source": [
        "def get_E_nullcline(rE, a_E, theta_E, wEE, wEI, I_ext_E, **other_pars):\n",
        "  \"\"\"\n",
        "  Solve for rI along the rE from drE/dt = 0.\n",
        "\n",
        "  Args:\n",
        "    rE    : response of excitatory population\n",
        "    a_E, theta_E, wEE, wEI, I_ext_E : Wilson-Cowan excitatory parameters\n",
        "    Other parameters are ignored\n",
        "\n",
        "  Returns:\n",
        "    rI    : values of inhibitory population along the nullcline on the rE\n",
        "  \"\"\"\n",
        "  #########################################################################\n",
        "  # TODO for students: compute rI for rE nullcline and disable the error\n",
        "  raise NotImplementedError(\"Student exercise: compute the E nullcline\")\n",
        "  #########################################################################\n",
        "\n",
        "  # calculate rI for E nullclines on rI\n",
        "  rI = ...\n",
        "\n",
        "  return rI\n",
        "\n",
        "\n",
        "def get_I_nullcline(rI, a_I, theta_I, wIE, wII, I_ext_I, **other_pars):\n",
        "  \"\"\"\n",
        "  Solve for E along the rI from dI/dt = 0.\n",
        "\n",
        "  Args:\n",
        "    rI    : response of inhibitory population\n",
        "    a_I, theta_I, wIE, wII, I_ext_I : Wilson-Cowan inhibitory parameters\n",
        "    Other parameters are ignored\n",
        "\n",
        "  Returns:\n",
        "    rE    : values of the excitatory population along the nullcline on the rI\n",
        "  \"\"\"\n",
        "  #########################################################################\n",
        "  # TODO for students: compute rI for rE nullcline and disable the error\n",
        "  raise NotImplementedError(\"Student exercise: compute the I nullcline\")\n",
        "  #########################################################################\n",
        "\n",
        "  # calculate rE for I nullclines on rI\n",
        "  rE = ...\n",
        "\n",
        "  return rE\n",
        "\n",
        "\n",
        "# Set parameters\n",
        "pars = default_pars()\n",
        "Exc_null_rE = np.linspace(-0.01, 0.96, 100)\n",
        "Inh_null_rI = np.linspace(-.01, 0.8, 100)\n",
        "\n",
        "# Compute nullclines\n",
        "Exc_null_rI = get_E_nullcline(Exc_null_rE, **pars)\n",
        "Inh_null_rE = get_I_nullcline(Inh_null_rI, **pars)\n",
        "\n",
        "# Visualize\n",
        "plot_nullclines(Exc_null_rE, Exc_null_rI, Inh_null_rE, Inh_null_rI)"
      ]
    },
    {
      "cell_type": "markdown",
      "metadata": {
        "cellView": "both",
        "execution": {},
        "id": "QANbL6x7iJC3"
      },
      "source": [
        "[*Click for solution*](https://github.com/NeuromatchAcademy/course-content/tree/main/tutorials/W2D4_DynamicNetworks/solutions/W2D4_Tutorial2_Solution_db10856b.py)\n",
        "\n",
        "*Example output:*\n",
        "\n",
        "<img alt='Solution hint' align='left' width=777.0 height=577.0 src=https://raw.githubusercontent.com/NeuromatchAcademy/course-content/main/tutorials/W2D4_DynamicNetworks/static/W2D4_Tutorial2_Solution_db10856b_0.png>\n",
        "\n",
        "<img alt='Solution hint' align='left' width=777.0 height=577.0 src=https://raw.githubusercontent.com/NeuromatchAcademy/course-content/main/tutorials/W2D4_DynamicNetworks/static/W2D4_Tutorial2_Solution_db10856b_1.png>\n",
        "\n",
        "<img alt='Solution hint' align='left' width=777.0 height=577.0 src=https://raw.githubusercontent.com/NeuromatchAcademy/course-content/main/tutorials/W2D4_DynamicNetworks/static/W2D4_Tutorial2_Solution_db10856b_2.png>\n",
        "\n"
      ]
    },
    {
      "cell_type": "code",
      "execution_count": null,
      "metadata": {
        "cellView": "form",
        "execution": {},
        "id": "EoGjT2IMiJC3"
      },
      "outputs": [],
      "source": [
        "# @title Submit your feedback\n",
        "content_review(f\"{feedback_prefix}_Compute_the_nullclines_WE_Exercise\")"
      ]
    },
    {
      "cell_type": "markdown",
      "metadata": {
        "execution": {},
        "id": "9CvpyZSmiJC3"
      },
      "source": [
        "Note that by definition along the blue line in the phase-plane spanned by $r_E, r_I$, $\\displaystyle{\\frac{dr_E(t)}{dt}} = 0$, therefore, it is called a nullcline.\n",
        "\n",
        "That is, the blue nullcline divides the phase-plane spanned by $r_E, r_I$ into two regions: on one side of the nullcline $\\displaystyle{\\frac{dr_E(t)}{dt}} > 0$ and on the other side $\\displaystyle{\\frac{dr_E(t)}{dt}} < 0$.\n",
        "\n",
        "The same is true for the red line along which $\\displaystyle{\\frac{dr_I(t)}{dt}} = 0$. That is, the red nullcline divides the phase-plane spanned by $r_E, r_I$ into two regions: on one side of the nullcline $\\displaystyle{\\frac{dr_I(t)}{dt}} > 0$ and on the other side $\\displaystyle{\\frac{dr_I(t)}{dt}} < 0$.\n"
      ]
    },
    {
      "cell_type": "markdown",
      "metadata": {
        "execution": {},
        "id": "Ub6cYGufiJC3"
      },
      "source": [
        "## Section 2.2: Vector field\n",
        "\n",
        "*Estimated timing to here from start of tutorial: 1 hour, 20 min*\n",
        "\n",
        "How can the phase plane and the nullcline curves help us understand the behavior of the Wilson-Cowan model?\n",
        "\n",
        "<details>\n",
        "<summary> <font color='blue'>Click here for text recap of relevant part of video </font></summary>\n",
        "\n",
        "The activities of the $E$ and $I$ populations $r_E(t)$ and $r_I(t)$ at each time point $t$ correspond to a single point in the phase plane, with coordinates $(r_E(t),r_I(t))$. Therefore, the time-dependent trajectory of the system can be described as a continuous curve in the phase plane, and the tangent vector to the trajectory, which is defined as the vector $\\bigg{(}\\displaystyle{\\frac{dr_E(t)}{dt},\\frac{dr_I(t)}{dt}}\\bigg{)}$, indicates the direction towards which the activity is evolving and how fast is the activity changing along each axis. In fact, for each point $(E,I)$ in the phase plane, we can compute the tangent vector $\\bigg{(}\\displaystyle{\\frac{dr_E}{dt},\\frac{dr_I}{dt}}\\bigg{)}$, which  indicates the behavior of the system when it traverses that point.\n",
        "\n",
        "The map of tangent vectors in the phase plane is called **vector field**. The behavior of any trajectory in the phase plane is determined by i) the initial conditions $(r_E(0),r_I(0))$, and ii) the vector field $\\bigg{(}\\displaystyle{\\frac{dr_E(t)}{dt},\\frac{dr_I(t)}{dt}}\\bigg{)}$.\n",
        "\n",
        "In general, the value of the vector field at a particular point in the phase plane is represented by an arrow. The orientation and the size of the arrow reflect the direction and the norm of the vector, respectively."
      ]
    },
    {
      "cell_type": "markdown",
      "metadata": {
        "execution": {},
        "id": "VdJhKFH0iJC4"
      },
      "source": [
        "### Coding Exercise 2.2: Compute and plot the vector field $\\displaystyle{\\Big{(}\\frac{dr_E}{dt}, \\frac{dr_I}{dt} \\Big{)}}$\n",
        "\n",
        "Note that\n",
        "\n",
        "\\begin{align}\n",
        "\\frac{dr_E}{dt} &= [-r_E + F_E(w_{EE}r_E -w_{EI}r_I + I^{\\text{ext}}_E;a_E,\\theta_E)]\\frac{1}{\\tau_E}\\\\\n",
        "\\frac{dr_I}{dt} &= [-r_I + F_I(w_{IE}r_E -w_{II}r_I + I^{\\text{ext}}_I;a_I,\\theta_I)]\\frac{1}{\\tau_I}\n",
        "\\end{align}"
      ]
    },
    {
      "cell_type": "code",
      "execution_count": null,
      "metadata": {
        "execution": {},
        "id": "Jxyr8oKuiJC4"
      },
      "outputs": [],
      "source": [
        "def EIderivs(rE, rI,\n",
        "             tau_E, a_E, theta_E, wEE, wEI, I_ext_E,\n",
        "             tau_I, a_I, theta_I, wIE, wII, I_ext_I,\n",
        "             **other_pars):\n",
        "  \"\"\"Time derivatives for E/I variables (dE/dt, dI/dt).\"\"\"\n",
        "  ######################################################################\n",
        "  # TODO for students: compute drEdt and drIdt and disable the error\n",
        "  raise NotImplementedError(\"Student exercise: compute the vector field\")\n",
        "  ######################################################################\n",
        "\n",
        "  # Compute the derivative of rE\n",
        "  drEdt = ...\n",
        "\n",
        "  # Compute the derivative of rI\n",
        "  drIdt = ...\n",
        "\n",
        "  return drEdt, drIdt\n",
        "\n",
        "\n",
        "# Create vector field using EIderivs\n",
        "plot_complete_analysis(default_pars())"
      ]
    },
    {
      "cell_type": "markdown",
      "metadata": {
        "cellView": "both",
        "execution": {},
        "id": "-ybSNrQmiJC4"
      },
      "source": [
        "[*Click for solution*](https://github.com/NeuromatchAcademy/course-content/tree/main/tutorials/W2D4_DynamicNetworks/solutions/W2D4_Tutorial2_Solution_92ba9d03.py)\n",
        "\n",
        "*Example output:*\n",
        "\n",
        "<img alt='Solution hint' align='left' width=748.0 height=578.0 src=https://raw.githubusercontent.com/NeuromatchAcademy/course-content/main/tutorials/W2D4_DynamicNetworks/static/W2D4_Tutorial2_Solution_92ba9d03_0.png>\n",
        "\n",
        "<img alt='Solution hint' align='left' width=743.0 height=577.0 src=https://raw.githubusercontent.com/NeuromatchAcademy/course-content/main/tutorials/W2D4_DynamicNetworks/static/W2D4_Tutorial2_Solution_92ba9d03_1.png>\n",
        "\n"
      ]
    },
    {
      "cell_type": "code",
      "execution_count": null,
      "metadata": {
        "cellView": "form",
        "execution": {},
        "id": "bv1FRBSWiJC4"
      },
      "outputs": [],
      "source": [
        "# @title Submit your feedback\n",
        "content_review(f\"{feedback_prefix}_Compute_the_vector_field_Exercise\")"
      ]
    },
    {
      "cell_type": "markdown",
      "metadata": {
        "execution": {},
        "id": "orN1GDuriJC4"
      },
      "source": [
        "The last phase plane plot shows us that:\n",
        "\n",
        "- Trajectories seem to follow the direction of the vector field.\n",
        "- Different trajectories eventually always reach one of two points depending on the initial conditions.\n",
        "- The two points where the trajectories converge are the intersection of the two nullcline curves."
      ]
    },
    {
      "cell_type": "markdown",
      "metadata": {
        "execution": {},
        "id": "Bs9e7QL_iJC4"
      },
      "source": [
        "## Think! 2.2: Analyzing the vector field\n",
        "\n",
        "There are, in total, three intersection points, meaning that the system has three fixed points.\n",
        "\n",
        "1. One of the fixed points (the one in the middle) is never the final state of a trajectory. Why is that?\n",
        "2. Why do the arrows tend to get smaller as they approach the fixed points?"
      ]
    },
    {
      "cell_type": "markdown",
      "metadata": {
        "execution": {},
        "id": "Wt6XJIaTiJC4"
      },
      "source": [
        "[*Click for solution*](https://github.com/NeuromatchAcademy/course-content/tree/main/tutorials/W2D4_DynamicNetworks/solutions/W2D4_Tutorial2_Solution_c77396d3.py)\n",
        "\n"
      ]
    },
    {
      "cell_type": "code",
      "execution_count": null,
      "metadata": {
        "cellView": "form",
        "execution": {},
        "id": "BthZtx3eiJC4"
      },
      "outputs": [],
      "source": [
        "# @title Submit your feedback\n",
        "content_review(f\"{feedback_prefix}_Analyzing_the_vector_field_Discussion\")"
      ]
    },
    {
      "cell_type": "markdown",
      "metadata": {
        "execution": {},
        "id": "x6wAbD_ViJC4"
      },
      "source": [
        "---\n",
        "# Summary\n",
        "\n",
        "*Estimated timing of tutorial: 1 hour, 35 minutes*\n",
        "\n",
        "Congratulations! You have finished the fourth day of the second week of the neuromatch academy! Here, you learned how to simulate a rate based model consisting of excitatory and inhibitory population of neurons.\n",
        "\n",
        "In the last tutorial on dynamical neuronal networks you learned to:\n",
        "- Implement and simulate a 2D system composed of an E and an I population of neurons using the **Wilson-Cowan** model\n",
        "- Plot the frequency-current (F-I) curves for both populations\n",
        "- Examine the behavior of the system using phase **plane analysis**, **vector fields**, and **nullclines**.\n",
        "\n",
        "Do you have more time? Have you finished early? We have more fun material for you!\n",
        "\n",
        "In the bonus tutorial, there are some, more advanced concepts on dynamical systems:\n",
        "\n",
        "- You will learn how to find the fixed points on such a system, and to investigate its stability by linearizing its dynamics and examining the **Jacobian matrix**.\n",
        "- You will identify conditions under which the Wilson-Cowan model can exhibit oscillations.\n",
        "\n",
        "If you need even more, there are two applications of the Wilson-Cowan model:\n",
        "\n",
        "- Visualization of an Inhibition-stabilized network\n",
        "- Simulation of working memory"
      ]
    }
  ],
  "metadata": {
    "colab": {
      "name": "W2D4_Tutorial2",
      "provenance": [],
      "include_colab_link": true
    },
    "kernel": {
      "display_name": "Python 3",
      "language": "python",
      "name": "python3"
    },
    "kernelspec": {
      "display_name": "Python 3",
      "language": "python",
      "name": "python3"
    },
    "language_info": {
      "codemirror_mode": {
        "name": "ipython",
        "version": 3
      },
      "file_extension": ".py",
      "mimetype": "text/x-python",
      "name": "python",
      "nbconvert_exporter": "python",
      "pygments_lexer": "ipython3",
      "version": "3.9.21"
    },
    "widgets": {
      "application/vnd.jupyter.widget-state+json": {
        "7336f70fc6714d3e8bdc204a3318521a": {
          "model_module": "@jupyter-widgets/controls",
          "model_name": "TabModel",
          "model_module_version": "1.5.0",
          "state": {
            "_dom_classes": [],
            "_model_module": "@jupyter-widgets/controls",
            "_model_module_version": "1.5.0",
            "_model_name": "TabModel",
            "_titles": {
              "0": "Youtube",
              "1": "Bilibili"
            },
            "_view_count": null,
            "_view_module": "@jupyter-widgets/controls",
            "_view_module_version": "1.5.0",
            "_view_name": "TabView",
            "box_style": "",
            "children": [
              "IPY_MODEL_c40bcd26030c4658867d3879939d83b8",
              "IPY_MODEL_56e3ec1a3c0e4ebeaca0e40f268c7a8e"
            ],
            "layout": "IPY_MODEL_ca703e6f93bd4808bba92190134e6701",
            "selected_index": 0
          }
        },
        "c40bcd26030c4658867d3879939d83b8": {
          "model_module": "@jupyter-widgets/output",
          "model_name": "OutputModel",
          "model_module_version": "1.0.0",
          "state": {
            "_dom_classes": [],
            "_model_module": "@jupyter-widgets/output",
            "_model_module_version": "1.0.0",
            "_model_name": "OutputModel",
            "_view_count": null,
            "_view_module": "@jupyter-widgets/output",
            "_view_module_version": "1.0.0",
            "_view_name": "OutputView",
            "layout": "IPY_MODEL_78cfc715d38448d0ad465d56f7eb49d3",
            "msg_id": "",
            "outputs": [
              {
                "output_type": "stream",
                "name": "stdout",
                "text": [
                  "Video available at https://youtube.com/watch?v=GCpQmh45crM\n"
                ]
              },
              {
                "output_type": "display_data",
                "data": {
                  "text/plain": "<IPython.lib.display.YouTubeVideo at 0x7b914d704950>",
                  "text/html": "\n        <iframe\n            width=\"854\"\n            height=\"480\"\n            src=\"https://www.youtube.com/embed/GCpQmh45crM?fs=1&rel=0\"\n            frameborder=\"0\"\n            allowfullscreen\n            \n        ></iframe>\n        ",
                  "image/jpeg": "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\n"
                },
                "metadata": {}
              }
            ]
          }
        },
        "56e3ec1a3c0e4ebeaca0e40f268c7a8e": {
          "model_module": "@jupyter-widgets/output",
          "model_name": "OutputModel",
          "model_module_version": "1.0.0",
          "state": {
            "_dom_classes": [],
            "_model_module": "@jupyter-widgets/output",
            "_model_module_version": "1.0.0",
            "_model_name": "OutputModel",
            "_view_count": null,
            "_view_module": "@jupyter-widgets/output",
            "_view_module_version": "1.0.0",
            "_view_name": "OutputView",
            "layout": "IPY_MODEL_7db5a7bea6bc4d59b850997759b92270",
            "msg_id": "",
            "outputs": [
              {
                "output_type": "stream",
                "name": "stdout",
                "text": [
                  "Video available at https://www.bilibili.com/video/BV1CD4y1m7dK\n"
                ]
              },
              {
                "output_type": "display_data",
                "data": {
                  "text/plain": "<__main__.PlayVideo at 0x7b914d726550>",
                  "text/html": "\n        <iframe\n            width=\"854\"\n            height=\"480\"\n            src=\"https://player.bilibili.com/player.html?bvid=BV1CD4y1m7dK&page=1?fs=1&autoplay=False\"\n            frameborder=\"0\"\n            allowfullscreen\n            \n        ></iframe>\n        "
                },
                "metadata": {}
              }
            ]
          }
        },
        "ca703e6f93bd4808bba92190134e6701": {
          "model_module": "@jupyter-widgets/base",
          "model_name": "LayoutModel",
          "model_module_version": "1.2.0",
          "state": {
            "_model_module": "@jupyter-widgets/base",
            "_model_module_version": "1.2.0",
            "_model_name": "LayoutModel",
            "_view_count": null,
            "_view_module": "@jupyter-widgets/base",
            "_view_module_version": "1.2.0",
            "_view_name": "LayoutView",
            "align_content": null,
            "align_items": null,
            "align_self": null,
            "border": null,
            "bottom": null,
            "display": null,
            "flex": null,
            "flex_flow": null,
            "grid_area": null,
            "grid_auto_columns": null,
            "grid_auto_flow": null,
            "grid_auto_rows": null,
            "grid_column": null,
            "grid_gap": null,
            "grid_row": null,
            "grid_template_areas": null,
            "grid_template_columns": null,
            "grid_template_rows": null,
            "height": null,
            "justify_content": null,
            "justify_items": null,
            "left": null,
            "margin": null,
            "max_height": null,
            "max_width": null,
            "min_height": null,
            "min_width": null,
            "object_fit": null,
            "object_position": null,
            "order": null,
            "overflow": null,
            "overflow_x": null,
            "overflow_y": null,
            "padding": null,
            "right": null,
            "top": null,
            "visibility": null,
            "width": null
          }
        },
        "78cfc715d38448d0ad465d56f7eb49d3": {
          "model_module": "@jupyter-widgets/base",
          "model_name": "LayoutModel",
          "model_module_version": "1.2.0",
          "state": {
            "_model_module": "@jupyter-widgets/base",
            "_model_module_version": "1.2.0",
            "_model_name": "LayoutModel",
            "_view_count": null,
            "_view_module": "@jupyter-widgets/base",
            "_view_module_version": "1.2.0",
            "_view_name": "LayoutView",
            "align_content": null,
            "align_items": null,
            "align_self": null,
            "border": null,
            "bottom": null,
            "display": null,
            "flex": null,
            "flex_flow": null,
            "grid_area": null,
            "grid_auto_columns": null,
            "grid_auto_flow": null,
            "grid_auto_rows": null,
            "grid_column": null,
            "grid_gap": null,
            "grid_row": null,
            "grid_template_areas": null,
            "grid_template_columns": null,
            "grid_template_rows": null,
            "height": null,
            "justify_content": null,
            "justify_items": null,
            "left": null,
            "margin": null,
            "max_height": null,
            "max_width": null,
            "min_height": null,
            "min_width": null,
            "object_fit": null,
            "object_position": null,
            "order": null,
            "overflow": null,
            "overflow_x": null,
            "overflow_y": null,
            "padding": null,
            "right": null,
            "top": null,
            "visibility": null,
            "width": null
          }
        },
        "7db5a7bea6bc4d59b850997759b92270": {
          "model_module": "@jupyter-widgets/base",
          "model_name": "LayoutModel",
          "model_module_version": "1.2.0",
          "state": {
            "_model_module": "@jupyter-widgets/base",
            "_model_module_version": "1.2.0",
            "_model_name": "LayoutModel",
            "_view_count": null,
            "_view_module": "@jupyter-widgets/base",
            "_view_module_version": "1.2.0",
            "_view_name": "LayoutView",
            "align_content": null,
            "align_items": null,
            "align_self": null,
            "border": null,
            "bottom": null,
            "display": null,
            "flex": null,
            "flex_flow": null,
            "grid_area": null,
            "grid_auto_columns": null,
            "grid_auto_flow": null,
            "grid_auto_rows": null,
            "grid_column": null,
            "grid_gap": null,
            "grid_row": null,
            "grid_template_areas": null,
            "grid_template_columns": null,
            "grid_template_rows": null,
            "height": null,
            "justify_content": null,
            "justify_items": null,
            "left": null,
            "margin": null,
            "max_height": null,
            "max_width": null,
            "min_height": null,
            "min_width": null,
            "object_fit": null,
            "object_position": null,
            "order": null,
            "overflow": null,
            "overflow_x": null,
            "overflow_y": null,
            "padding": null,
            "right": null,
            "top": null,
            "visibility": null,
            "width": null
          }
        },
        "7624e0a10fc2489c89a00eed1e31153c": {
          "model_module": "@jupyter-widgets/controls",
          "model_name": "VBoxModel",
          "model_module_version": "1.5.0",
          "state": {
            "_dom_classes": [
              "widget-interact"
            ],
            "_model_module": "@jupyter-widgets/controls",
            "_model_module_version": "1.5.0",
            "_model_name": "VBoxModel",
            "_view_count": null,
            "_view_module": "@jupyter-widgets/controls",
            "_view_module_version": "1.5.0",
            "_view_name": "VBoxView",
            "box_style": "",
            "children": [
              "IPY_MODEL_a58338139325420298f5f4f208363b02",
              "IPY_MODEL_fa4137f9735148efa4378568aa6f32c1"
            ],
            "layout": "IPY_MODEL_25d5a59afb284d13905d50717d45a48f"
          }
        },
        "a58338139325420298f5f4f208363b02": {
          "model_module": "@jupyter-widgets/controls",
          "model_name": "FloatSliderModel",
          "model_module_version": "1.5.0",
          "state": {
            "_dom_classes": [],
            "_model_module": "@jupyter-widgets/controls",
            "_model_module_version": "1.5.0",
            "_model_name": "FloatSliderModel",
            "_view_count": null,
            "_view_module": "@jupyter-widgets/controls",
            "_view_module_version": "1.5.0",
            "_view_name": "FloatSliderView",
            "continuous_update": true,
            "description": "rE_init",
            "description_tooltip": null,
            "disabled": false,
            "layout": "IPY_MODEL_e9586ef07f924b04a4f2fe42be8538d8",
            "max": 0.35,
            "min": 0.3,
            "orientation": "horizontal",
            "readout": true,
            "readout_format": ".2f",
            "step": 0.01,
            "style": "IPY_MODEL_7e6dca5d38094d6d9e309368b56e7be0",
            "value": 0.35
          }
        },
        "fa4137f9735148efa4378568aa6f32c1": {
          "model_module": "@jupyter-widgets/output",
          "model_name": "OutputModel",
          "model_module_version": "1.0.0",
          "state": {
            "_dom_classes": [],
            "_model_module": "@jupyter-widgets/output",
            "_model_module_version": "1.0.0",
            "_model_name": "OutputModel",
            "_view_count": null,
            "_view_module": "@jupyter-widgets/output",
            "_view_module_version": "1.0.0",
            "_view_name": "OutputView",
            "layout": "IPY_MODEL_78ec832703a04395a7ce37be9470d6a8",
            "msg_id": "",
            "outputs": [
              {
                "output_type": "display_data",
                "data": {
                  "text/plain": "<Figure size 800x600 with 1 Axes>",
                  "image/png": "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\n"
                },
                "metadata": {
                  "image/png": {
                    "width": 775,
                    "height": 575
                  }
                }
              }
            ]
          }
        },
        "25d5a59afb284d13905d50717d45a48f": {
          "model_module": "@jupyter-widgets/base",
          "model_name": "LayoutModel",
          "model_module_version": "1.2.0",
          "state": {
            "_model_module": "@jupyter-widgets/base",
            "_model_module_version": "1.2.0",
            "_model_name": "LayoutModel",
            "_view_count": null,
            "_view_module": "@jupyter-widgets/base",
            "_view_module_version": "1.2.0",
            "_view_name": "LayoutView",
            "align_content": null,
            "align_items": null,
            "align_self": null,
            "border": null,
            "bottom": null,
            "display": null,
            "flex": null,
            "flex_flow": null,
            "grid_area": null,
            "grid_auto_columns": null,
            "grid_auto_flow": null,
            "grid_auto_rows": null,
            "grid_column": null,
            "grid_gap": null,
            "grid_row": null,
            "grid_template_areas": null,
            "grid_template_columns": null,
            "grid_template_rows": null,
            "height": null,
            "justify_content": null,
            "justify_items": null,
            "left": null,
            "margin": null,
            "max_height": null,
            "max_width": null,
            "min_height": null,
            "min_width": null,
            "object_fit": null,
            "object_position": null,
            "order": null,
            "overflow": null,
            "overflow_x": null,
            "overflow_y": null,
            "padding": null,
            "right": null,
            "top": null,
            "visibility": null,
            "width": null
          }
        },
        "e9586ef07f924b04a4f2fe42be8538d8": {
          "model_module": "@jupyter-widgets/base",
          "model_name": "LayoutModel",
          "model_module_version": "1.2.0",
          "state": {
            "_model_module": "@jupyter-widgets/base",
            "_model_module_version": "1.2.0",
            "_model_name": "LayoutModel",
            "_view_count": null,
            "_view_module": "@jupyter-widgets/base",
            "_view_module_version": "1.2.0",
            "_view_name": "LayoutView",
            "align_content": null,
            "align_items": null,
            "align_self": null,
            "border": null,
            "bottom": null,
            "display": null,
            "flex": null,
            "flex_flow": null,
            "grid_area": null,
            "grid_auto_columns": null,
            "grid_auto_flow": null,
            "grid_auto_rows": null,
            "grid_column": null,
            "grid_gap": null,
            "grid_row": null,
            "grid_template_areas": null,
            "grid_template_columns": null,
            "grid_template_rows": null,
            "height": null,
            "justify_content": null,
            "justify_items": null,
            "left": null,
            "margin": null,
            "max_height": null,
            "max_width": null,
            "min_height": null,
            "min_width": null,
            "object_fit": null,
            "object_position": null,
            "order": null,
            "overflow": null,
            "overflow_x": null,
            "overflow_y": null,
            "padding": null,
            "right": null,
            "top": null,
            "visibility": null,
            "width": null
          }
        },
        "7e6dca5d38094d6d9e309368b56e7be0": {
          "model_module": "@jupyter-widgets/controls",
          "model_name": "SliderStyleModel",
          "model_module_version": "1.5.0",
          "state": {
            "_model_module": "@jupyter-widgets/controls",
            "_model_module_version": "1.5.0",
            "_model_name": "SliderStyleModel",
            "_view_count": null,
            "_view_module": "@jupyter-widgets/base",
            "_view_module_version": "1.2.0",
            "_view_name": "StyleView",
            "description_width": "",
            "handle_color": null
          }
        },
        "78ec832703a04395a7ce37be9470d6a8": {
          "model_module": "@jupyter-widgets/base",
          "model_name": "LayoutModel",
          "model_module_version": "1.2.0",
          "state": {
            "_model_module": "@jupyter-widgets/base",
            "_model_module_version": "1.2.0",
            "_model_name": "LayoutModel",
            "_view_count": null,
            "_view_module": "@jupyter-widgets/base",
            "_view_module_version": "1.2.0",
            "_view_name": "LayoutView",
            "align_content": null,
            "align_items": null,
            "align_self": null,
            "border": null,
            "bottom": null,
            "display": null,
            "flex": null,
            "flex_flow": null,
            "grid_area": null,
            "grid_auto_columns": null,
            "grid_auto_flow": null,
            "grid_auto_rows": null,
            "grid_column": null,
            "grid_gap": null,
            "grid_row": null,
            "grid_template_areas": null,
            "grid_template_columns": null,
            "grid_template_rows": null,
            "height": null,
            "justify_content": null,
            "justify_items": null,
            "left": null,
            "margin": null,
            "max_height": null,
            "max_width": null,
            "min_height": null,
            "min_width": null,
            "object_fit": null,
            "object_position": null,
            "order": null,
            "overflow": null,
            "overflow_x": null,
            "overflow_y": null,
            "padding": null,
            "right": null,
            "top": null,
            "visibility": null,
            "width": null
          }
        },
        "20ccfd387f914d9183a805544d6c5db2": {
          "model_module": "@jupyter-widgets/controls",
          "model_name": "TabModel",
          "model_module_version": "1.5.0",
          "state": {
            "_dom_classes": [],
            "_model_module": "@jupyter-widgets/controls",
            "_model_module_version": "1.5.0",
            "_model_name": "TabModel",
            "_titles": {
              "0": "Youtube",
              "1": "Bilibili"
            },
            "_view_count": null,
            "_view_module": "@jupyter-widgets/controls",
            "_view_module_version": "1.5.0",
            "_view_name": "TabView",
            "box_style": "",
            "children": [
              "IPY_MODEL_d591340dceea4c84b5ac68c3921e642b",
              "IPY_MODEL_3a15a70c2c364b929055af87993a2968"
            ],
            "layout": "IPY_MODEL_c142c453e1d8451aa715d1a593cc9768",
            "selected_index": 0
          }
        },
        "d591340dceea4c84b5ac68c3921e642b": {
          "model_module": "@jupyter-widgets/output",
          "model_name": "OutputModel",
          "model_module_version": "1.0.0",
          "state": {
            "_dom_classes": [],
            "_model_module": "@jupyter-widgets/output",
            "_model_module_version": "1.0.0",
            "_model_name": "OutputModel",
            "_view_count": null,
            "_view_module": "@jupyter-widgets/output",
            "_view_module_version": "1.0.0",
            "_view_name": "OutputView",
            "layout": "IPY_MODEL_21eee2e7139644deaffec46fda46bab6",
            "msg_id": "",
            "outputs": [
              {
                "output_type": "stream",
                "name": "stdout",
                "text": [
                  "Video available at https://youtube.com/watch?v=V2SBAK2Xf8Y\n"
                ]
              },
              {
                "output_type": "display_data",
                "data": {
                  "text/plain": "<IPython.lib.display.YouTubeVideo at 0x7b9144fdc990>",
                  "text/html": "\n        <iframe\n            width=\"854\"\n            height=\"480\"\n            src=\"https://www.youtube.com/embed/V2SBAK2Xf8Y?fs=1&rel=0\"\n            frameborder=\"0\"\n            allowfullscreen\n            \n        ></iframe>\n        ",
                  "image/jpeg": "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\n"
                },
                "metadata": {}
              }
            ]
          }
        },
        "3a15a70c2c364b929055af87993a2968": {
          "model_module": "@jupyter-widgets/output",
          "model_name": "OutputModel",
          "model_module_version": "1.0.0",
          "state": {
            "_dom_classes": [],
            "_model_module": "@jupyter-widgets/output",
            "_model_module_version": "1.0.0",
            "_model_name": "OutputModel",
            "_view_count": null,
            "_view_module": "@jupyter-widgets/output",
            "_view_module_version": "1.0.0",
            "_view_name": "OutputView",
            "layout": "IPY_MODEL_0387e82351464fc184bbfe22c09f7b0c",
            "msg_id": "",
            "outputs": [
              {
                "output_type": "stream",
                "name": "stdout",
                "text": [
                  "Video available at https://www.bilibili.com/video/BV15k4y1m7Kt\n"
                ]
              },
              {
                "output_type": "display_data",
                "data": {
                  "text/plain": "<__main__.PlayVideo at 0x7b9144c7dbd0>",
                  "text/html": "\n        <iframe\n            width=\"854\"\n            height=\"480\"\n            src=\"https://player.bilibili.com/player.html?bvid=BV15k4y1m7Kt&page=1?fs=1&autoplay=False\"\n            frameborder=\"0\"\n            allowfullscreen\n            \n        ></iframe>\n        "
                },
                "metadata": {}
              }
            ]
          }
        },
        "c142c453e1d8451aa715d1a593cc9768": {
          "model_module": "@jupyter-widgets/base",
          "model_name": "LayoutModel",
          "model_module_version": "1.2.0",
          "state": {
            "_model_module": "@jupyter-widgets/base",
            "_model_module_version": "1.2.0",
            "_model_name": "LayoutModel",
            "_view_count": null,
            "_view_module": "@jupyter-widgets/base",
            "_view_module_version": "1.2.0",
            "_view_name": "LayoutView",
            "align_content": null,
            "align_items": null,
            "align_self": null,
            "border": null,
            "bottom": null,
            "display": null,
            "flex": null,
            "flex_flow": null,
            "grid_area": null,
            "grid_auto_columns": null,
            "grid_auto_flow": null,
            "grid_auto_rows": null,
            "grid_column": null,
            "grid_gap": null,
            "grid_row": null,
            "grid_template_areas": null,
            "grid_template_columns": null,
            "grid_template_rows": null,
            "height": null,
            "justify_content": null,
            "justify_items": null,
            "left": null,
            "margin": null,
            "max_height": null,
            "max_width": null,
            "min_height": null,
            "min_width": null,
            "object_fit": null,
            "object_position": null,
            "order": null,
            "overflow": null,
            "overflow_x": null,
            "overflow_y": null,
            "padding": null,
            "right": null,
            "top": null,
            "visibility": null,
            "width": null
          }
        },
        "21eee2e7139644deaffec46fda46bab6": {
          "model_module": "@jupyter-widgets/base",
          "model_name": "LayoutModel",
          "model_module_version": "1.2.0",
          "state": {
            "_model_module": "@jupyter-widgets/base",
            "_model_module_version": "1.2.0",
            "_model_name": "LayoutModel",
            "_view_count": null,
            "_view_module": "@jupyter-widgets/base",
            "_view_module_version": "1.2.0",
            "_view_name": "LayoutView",
            "align_content": null,
            "align_items": null,
            "align_self": null,
            "border": null,
            "bottom": null,
            "display": null,
            "flex": null,
            "flex_flow": null,
            "grid_area": null,
            "grid_auto_columns": null,
            "grid_auto_flow": null,
            "grid_auto_rows": null,
            "grid_column": null,
            "grid_gap": null,
            "grid_row": null,
            "grid_template_areas": null,
            "grid_template_columns": null,
            "grid_template_rows": null,
            "height": null,
            "justify_content": null,
            "justify_items": null,
            "left": null,
            "margin": null,
            "max_height": null,
            "max_width": null,
            "min_height": null,
            "min_width": null,
            "object_fit": null,
            "object_position": null,
            "order": null,
            "overflow": null,
            "overflow_x": null,
            "overflow_y": null,
            "padding": null,
            "right": null,
            "top": null,
            "visibility": null,
            "width": null
          }
        },
        "0387e82351464fc184bbfe22c09f7b0c": {
          "model_module": "@jupyter-widgets/base",
          "model_name": "LayoutModel",
          "model_module_version": "1.2.0",
          "state": {
            "_model_module": "@jupyter-widgets/base",
            "_model_module_version": "1.2.0",
            "_model_name": "LayoutModel",
            "_view_count": null,
            "_view_module": "@jupyter-widgets/base",
            "_view_module_version": "1.2.0",
            "_view_name": "LayoutView",
            "align_content": null,
            "align_items": null,
            "align_self": null,
            "border": null,
            "bottom": null,
            "display": null,
            "flex": null,
            "flex_flow": null,
            "grid_area": null,
            "grid_auto_columns": null,
            "grid_auto_flow": null,
            "grid_auto_rows": null,
            "grid_column": null,
            "grid_gap": null,
            "grid_row": null,
            "grid_template_areas": null,
            "grid_template_columns": null,
            "grid_template_rows": null,
            "height": null,
            "justify_content": null,
            "justify_items": null,
            "left": null,
            "margin": null,
            "max_height": null,
            "max_width": null,
            "min_height": null,
            "min_width": null,
            "object_fit": null,
            "object_position": null,
            "order": null,
            "overflow": null,
            "overflow_x": null,
            "overflow_y": null,
            "padding": null,
            "right": null,
            "top": null,
            "visibility": null,
            "width": null
          }
        }
      }
    }
  },
  "nbformat": 4,
  "nbformat_minor": 0
}