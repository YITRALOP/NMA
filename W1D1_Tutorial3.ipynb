{
  "cells": [
    {
      "cell_type": "markdown",
      "metadata": {
        "id": "view-in-github",
        "colab_type": "text"
      },
      "source": [
        "<a href=\"https://colab.research.google.com/github/YITRALOP/NMN/blob/main/W1D1_Tutorial3.ipynb\" target=\"_parent\"><img src=\"https://colab.research.google.com/assets/colab-badge.svg\" alt=\"Open In Colab\"/></a>"
      ]
    },
    {
      "cell_type": "markdown",
      "metadata": {
        "execution": {},
        "id": "SuT7hKhfGSOk"
      },
      "source": [
        "# Tutorial 3: \"Why\" models\n",
        "**Week 1, Day 1: Model Types**\n",
        "\n",
        "**By Neuromatch Academy**\n",
        "\n",
        "__Content creators:__ Matt Laporte, Byron Galbraith, Konrad Kording\n",
        "\n",
        "__Content reviewers:__ Dalin Guo, Aishwarya Balwani, Madineh Sarvestani, Maryam Vaziri-Pashkam, Michael Waskom, Ella Batty\n",
        "\n",
        "__Post-production team:__ Gagana B, Spiros Chavlis\n",
        "\n",
        "We would like to acknowledge [Steinmetz _et al._ (2019)](https://www.nature.com/articles/s41586-019-1787-x) for sharing their data, a subset of which is used here.\n"
      ]
    },
    {
      "cell_type": "markdown",
      "metadata": {
        "execution": {},
        "id": "mrBp_epCGSOl"
      },
      "source": [
        "___\n",
        "# Tutorial Objectives\n",
        "\n",
        "*Estimated timing of tutorial: 45 minutes*\n",
        "\n",
        "This is tutorial 3 of a 3-part series on different flavors of models used to understand neural data. In parts 1 and 2 we explored mechanisms that would produce the data. In this tutorial we will explore models and techniques that can potentially explain *why* the spiking data we have observed is produced the way it is.\n",
        "\n",
        "To understand why different spiking behaviors may be beneficial, we will learn about the concept of entropy. Specifically, we will:\n",
        "\n",
        "- Write code to compute formula for entropy, a measure of information\n",
        "- Compute the entropy of a number of toy distributions\n",
        "- Compute the entropy of spiking activity from the Steinmetz dataset"
      ]
    },
    {
      "cell_type": "code",
      "execution_count": 1,
      "metadata": {
        "cellView": "form",
        "execution": {},
        "id": "3kMGLdtAGSOm",
        "colab": {
          "base_uri": "https://localhost:8080/",
          "height": 520
        },
        "outputId": "d9216f47-ddb7-44a0-af6c-741e0d729a99"
      },
      "outputs": [
        {
          "output_type": "stream",
          "name": "stdout",
          "text": [
            "If you want to download the slides: https://osf.io/download/6dxwe/\n"
          ]
        },
        {
          "output_type": "execute_result",
          "data": {
            "text/plain": [
              "<IPython.lib.display.IFrame at 0x78acc8b33890>"
            ],
            "text/html": [
              "\n",
              "        <iframe\n",
              "            width=\"854\"\n",
              "            height=\"480\"\n",
              "            src=\"https://mfr.ca-1.osf.io/render?url=https://osf.io/6dxwe/?direct%26mode=render%26action=download%26mode=render\"\n",
              "            frameborder=\"0\"\n",
              "            allowfullscreen\n",
              "            \n",
              "        ></iframe>\n",
              "        "
            ]
          },
          "metadata": {},
          "execution_count": 1
        }
      ],
      "source": [
        "# @title Tutorial slides\n",
        "# @markdown These are the slides for the videos in all tutorials today\n",
        "from IPython.display import IFrame\n",
        "link_id = \"6dxwe\"\n",
        "print(f\"If you want to download the slides: https://osf.io/download/{link_id}/\")\n",
        "IFrame(src=f\"https://mfr.ca-1.osf.io/render?url=https://osf.io/{link_id}/?direct%26mode=render%26action=download%26mode=render\", width=854, height=480)"
      ]
    },
    {
      "cell_type": "markdown",
      "metadata": {
        "execution": {},
        "id": "-SiMt8vYGSOm"
      },
      "source": [
        "---\n",
        "# Setup"
      ]
    },
    {
      "cell_type": "code",
      "execution_count": 2,
      "metadata": {
        "cellView": "form",
        "execution": {},
        "id": "ryOcA0gyGSOm",
        "colab": {
          "base_uri": "https://localhost:8080/"
        },
        "outputId": "f0f3ddac-cf40-4077-836a-65b179fc9995"
      },
      "outputs": [
        {
          "output_type": "stream",
          "name": "stdout",
          "text": [
            "  Preparing metadata (setup.py) ... \u001b[?25l\u001b[?25hdone\n",
            "  Preparing metadata (setup.py) ... \u001b[?25l\u001b[?25hdone\n",
            "\u001b[2K   \u001b[90m━━━━━━━━━━━━━━━━━━━━━━━━━━━━━━━━━━━━━━━━\u001b[0m \u001b[32m1.6/1.6 MB\u001b[0m \u001b[31m50.1 MB/s\u001b[0m eta \u001b[36m0:00:00\u001b[0m\n",
            "\u001b[?25h  Building wheel for vibecheck (setup.py) ... \u001b[?25l\u001b[?25hdone\n",
            "  Building wheel for datatops (setup.py) ... \u001b[?25l\u001b[?25hdone\n"
          ]
        }
      ],
      "source": [
        "# @title Install and import feedback gadget\n",
        "\n",
        "!pip3 install vibecheck datatops --quiet\n",
        "\n",
        "from vibecheck import DatatopsContentReviewContainer\n",
        "def content_review(notebook_section: str):\n",
        "    return DatatopsContentReviewContainer(\n",
        "        \"\",  # No text prompt\n",
        "        notebook_section,\n",
        "        {\n",
        "            \"url\": \"https://pmyvdlilci.execute-api.us-east-1.amazonaws.com/klab\",\n",
        "            \"name\": \"neuromatch_cn\",\n",
        "            \"user_key\": \"y1x3mpx5\",\n",
        "        },\n",
        "    ).render()\n",
        "\n",
        "\n",
        "feedback_prefix = \"W1D1_T3\""
      ]
    },
    {
      "cell_type": "code",
      "execution_count": 4,
      "metadata": {
        "cellView": "both",
        "execution": {},
        "id": "naNB2jDCGSOo"
      },
      "outputs": [],
      "source": [
        "# Imports\n",
        "import numpy as np\n",
        "import matplotlib.pyplot as plt\n",
        "from scipy import stats"
      ]
    },
    {
      "cell_type": "code",
      "execution_count": 5,
      "metadata": {
        "cellView": "form",
        "execution": {},
        "id": "v1pmmeYFGSOp"
      },
      "outputs": [],
      "source": [
        "# @title Figure Settings\n",
        "import logging\n",
        "logging.getLogger('matplotlib.font_manager').disabled = True\n",
        "\n",
        "import ipywidgets as widgets  # interactive display\n",
        "%matplotlib inline\n",
        "%config InlineBackend.figure_format = 'retina'\n",
        "plt.style.use(\"https://raw.githubusercontent.com/NeuromatchAcademy/course-content/main/nma.mplstyle\")"
      ]
    },
    {
      "cell_type": "code",
      "execution_count": 6,
      "metadata": {
        "cellView": "form",
        "execution": {},
        "id": "lri_TSMjGSOp"
      },
      "outputs": [],
      "source": [
        "# @title Plotting Functions\n",
        "\n",
        "def plot_pmf(pmf,isi_range):\n",
        "  \"\"\"Plot the probability mass function.\"\"\"\n",
        "  ymax = max(0.2, 1.05 * np.max(pmf))\n",
        "  pmf_ = np.insert(pmf, 0, pmf[0])\n",
        "  plt.plot(bins, pmf_, drawstyle=\"steps\")\n",
        "  plt.fill_between(bins, pmf_, step=\"pre\", alpha=0.4)\n",
        "  plt.title(f\"Neuron {neuron_idx}\")\n",
        "  plt.xlabel(\"Inter-spike interval (s)\")\n",
        "  plt.ylabel(\"Probability mass\")\n",
        "  plt.xlim(isi_range)\n",
        "  plt.ylim([0, ymax])"
      ]
    },
    {
      "cell_type": "code",
      "execution_count": 7,
      "metadata": {
        "cellView": "form",
        "execution": {},
        "id": "Y8yc2E-NGSOp"
      },
      "outputs": [],
      "source": [
        "#@title Download Data\n",
        "import io\n",
        "import requests\n",
        "r = requests.get('https://osf.io/sy5xt/download')\n",
        "if r.status_code != 200:\n",
        "  print('Could not download data')\n",
        "else:\n",
        "  steinmetz_spikes = np.load(io.BytesIO(r.content), allow_pickle=True)['spike_times']"
      ]
    },
    {
      "cell_type": "markdown",
      "metadata": {
        "execution": {},
        "id": "SoiJb3agGSOp"
      },
      "source": [
        "---\n",
        "# \"Why\" models"
      ]
    },
    {
      "cell_type": "code",
      "execution_count": 8,
      "metadata": {
        "cellView": "form",
        "execution": {},
        "id": "OEe5enaqGSOq",
        "colab": {
          "base_uri": "https://localhost:8080/",
          "height": 581,
          "referenced_widgets": [
            "34f3787e9f2f4e1c8d9b83c014f7dab5",
            "1abe56f8aeea470994ba9a252b2a1395",
            "8cf118ba1f6a4035b394e9a041ca57a7",
            "9bdf4768c99c43f68bf604fd3391782e",
            "2b46f90ef5984a8c95ffe25fd1376cdd",
            "113a73d0d1374b32903b660071e46a38"
          ]
        },
        "outputId": "087838b1-7a75-4335-cf40-83ee03d2769b"
      },
      "outputs": [
        {
          "output_type": "display_data",
          "data": {
            "text/plain": [
              "Tab(children=(Output(), Output()), _titles={'0': 'Youtube', '1': 'Bilibili'})"
            ],
            "application/vnd.jupyter.widget-view+json": {
              "version_major": 2,
              "version_minor": 0,
              "model_id": "34f3787e9f2f4e1c8d9b83c014f7dab5"
            }
          },
          "metadata": {}
        }
      ],
      "source": [
        "# @title Video 1: “Why” models\n",
        "from ipywidgets import widgets\n",
        "from IPython.display import YouTubeVideo\n",
        "from IPython.display import IFrame\n",
        "from IPython.display import display\n",
        "\n",
        "\n",
        "class PlayVideo(IFrame):\n",
        "  def __init__(self, id, source, page=1, width=400, height=300, **kwargs):\n",
        "    self.id = id\n",
        "    if source == 'Bilibili':\n",
        "      src = f'https://player.bilibili.com/player.html?bvid={id}&page={page}'\n",
        "    elif source == 'Osf':\n",
        "      src = f'https://mfr.ca-1.osf.io/render?url=https://osf.io/download/{id}/?direct%26mode=render'\n",
        "    super(PlayVideo, self).__init__(src, width, height, **kwargs)\n",
        "\n",
        "\n",
        "def display_videos(video_ids, W=400, H=300, fs=1):\n",
        "  tab_contents = []\n",
        "  for i, video_id in enumerate(video_ids):\n",
        "    out = widgets.Output()\n",
        "    with out:\n",
        "      if video_ids[i][0] == 'Youtube':\n",
        "        video = YouTubeVideo(id=video_ids[i][1], width=W,\n",
        "                             height=H, fs=fs, rel=0)\n",
        "        print(f'Video available at https://youtube.com/watch?v={video.id}')\n",
        "      else:\n",
        "        video = PlayVideo(id=video_ids[i][1], source=video_ids[i][0], width=W,\n",
        "                          height=H, fs=fs, autoplay=False)\n",
        "        if video_ids[i][0] == 'Bilibili':\n",
        "          print(f'Video available at https://www.bilibili.com/video/{video.id}')\n",
        "        elif video_ids[i][0] == 'Osf':\n",
        "          print(f'Video available at https://osf.io/{video.id}')\n",
        "      display(video)\n",
        "    tab_contents.append(out)\n",
        "  return tab_contents\n",
        "\n",
        "\n",
        "video_ids = [('Youtube', 'OOIDEr1e5Gg'), ('Bilibili', 'BV16t4y1Q7DR')]\n",
        "tab_contents = display_videos(video_ids, W=854, H=480)\n",
        "tabs = widgets.Tab()\n",
        "tabs.children = tab_contents\n",
        "for i in range(len(tab_contents)):\n",
        "  tabs.set_title(i, video_ids[i][0])\n",
        "display(tabs)"
      ]
    },
    {
      "cell_type": "code",
      "execution_count": null,
      "metadata": {
        "cellView": "form",
        "execution": {},
        "id": "Uy2n-kQKGSOq"
      },
      "outputs": [],
      "source": [
        "# @title Submit your feedback\n",
        "content_review(f\"{feedback_prefix}_Why_models_Video\")"
      ]
    },
    {
      "cell_type": "markdown",
      "metadata": {
        "execution": {},
        "id": "yulaaxO3GSOq"
      },
      "source": [
        "---\n",
        "# Section 1: Optimization and Information\n",
        "\n",
        "*Remember that the notation section is located after the Summary for quick reference!*\n",
        "\n",
        "Neurons can only fire so often in a fixed period of time, as the act of emitting a spike consumes energy that is depleted and must eventually be replenished. To communicate effectively for downstream computation, the neuron would need to make good use of its limited spiking capability. This becomes an optimization problem:\n",
        "\n",
        "What is the optimal way for a neuron to fire in order to maximize its ability to communicate information?\n",
        "\n",
        "In order to explore this question, we first need to have a quantifiable measure for information. Shannon introduced the concept of entropy to do just that, and defined it as\n",
        "\n",
        "\\begin{equation}\n",
        "H_b(X) = -\\sum_{x\\in X} p(x) \\log_b p(x)\n",
        "\\end{equation}\n",
        "\n",
        "where $H$ is entropy measured in units of base $b$ and $p(x)$ is the probability of observing the event $x$ from the set of all possible events in $X$. See the Bonus Section 1 for a more detailed look at how this equation was derived.\n",
        "\n",
        "The most common base of measuring entropy is $b=2$, so we often talk about *bits* of information, though other bases are used as well (e.g. when $b=e$ we call the units *nats*)."
      ]
    },
    {
      "cell_type": "markdown",
      "metadata": {
        "execution": {},
        "id": "wycHCk1pGSOr"
      },
      "source": [
        "First, let's explore how entropy changes between some simple discrete probability distributions. In the rest of this tutorial we will refer to these as probability mass functions (PMF), where $p(x_i)$ equals the $i^{th}$ value in an array, and mass refers to how much of the distribution is contained at that value.\n",
        "\n",
        "For our first PMF, we will choose one where all of the probability mass is located in the middle of the distribution."
      ]
    },
    {
      "cell_type": "code",
      "execution_count": 9,
      "metadata": {
        "execution": {},
        "id": "4P_5wIuLGSOr",
        "colab": {
          "base_uri": "https://localhost:8080/",
          "height": 592
        },
        "outputId": "5db7802d-e9f4-499a-98f6-90de7998bd9d"
      },
      "outputs": [
        {
          "output_type": "display_data",
          "data": {
            "text/plain": [
              "<Figure size 800x600 with 1 Axes>"
            ],
            "image/png": "[encoded data removed]"
          },
          "metadata": {
            "image/png": {
              "width": 775,
              "height": 575
            }
          }
        }
      ],
      "source": [
        "n_bins = 50  # number of points supporting the distribution\n",
        "x_range = (0, 1)  # will be subdivided evenly into bins corresponding to points\n",
        "\n",
        "bins = np.linspace(*x_range, n_bins + 1)  # bin edges\n",
        "\n",
        "pmf = np.zeros(n_bins)\n",
        "pmf[len(pmf) // 2] = 1.0  # middle point has all the mass\n",
        "\n",
        "# Since we already have a PMF, rather than un-binned samples, `plt.hist` is not\n",
        "# suitable. Instead, we directly plot the PMF as a step function to visualize\n",
        "# the histogram:\n",
        "pmf_ = np.insert(pmf, 0, pmf[0])  # this is necessary to align plot steps with bin edges\n",
        "plt.plot(bins, pmf_, drawstyle=\"steps\")\n",
        "# `fill_between` provides area shading\n",
        "plt.fill_between(bins, pmf_, step=\"pre\", alpha=0.4)\n",
        "plt.xlabel(\"x\")\n",
        "plt.ylabel(\"p(x)\")\n",
        "plt.xlim(x_range)\n",
        "plt.ylim(0, 1)\n",
        "plt.show()"
      ]
    },
    {
      "cell_type": "markdown",
      "metadata": {
        "execution": {},
        "id": "zSpMu7E7GSOr"
      },
      "source": [
        "If we were to draw a sample from this distribution, we know exactly what we would get every time. Distributions where all the mass is concentrated on a single event are known as *deterministic*.\n",
        "\n",
        "How much entropy is contained in a deterministic distribution? We will compute this in the next exercise."
      ]
    },
    {
      "cell_type": "markdown",
      "metadata": {
        "execution": {},
        "id": "JkOOjvTEGSOr"
      },
      "source": [
        "## Coding Exercise 1: Computing Entropy\n",
        "\n",
        "Your first exercise is to implement a method that computes the entropy of a discrete probability distribution, given its mass function. Remember that we are interested in entropy in units of _bits_, so be sure to use the correct log function.\n",
        "\n",
        "Recall that $\\log(0)$ is undefined. When evaluated at $0$, NumPy log functions (such as `np.log2`) return `np.nan` (\"Not a Number\"). By convention, these undefined terms— which correspond to points in the distribution with zero mass—are excluded from the sum that computes the entropy."
      ]
    },
    {
      "cell_type": "code",
      "execution_count": 18,
      "metadata": {
        "execution": {},
        "id": "KXazssO1GSOr",
        "colab": {
          "base_uri": "https://localhost:8080/"
        },
        "outputId": "f78b4ba0-47cb-49f5-d35f-343db6369efa"
      },
      "outputs": [
        {
          "output_type": "stream",
          "name": "stdout",
          "text": [
            "0.00 bits\n"
          ]
        }
      ],
      "source": [
        "def entropy(pmf):\n",
        "  \"\"\"Given a discrete distribution, return the Shannon entropy in bits.\n",
        "\n",
        "  This is a measure of information in the distribution. For a totally\n",
        "  deterministic distribution, where samples are always found in the same bin,\n",
        "  then samples from the distribution give no more information and the entropy\n",
        "  is 0.\n",
        "\n",
        "  For now this assumes `pmf` arrives as a well-formed distribution (that is,\n",
        "  `np.sum(pmf)==1` and `not np.any(pmf < 0)`)\n",
        "\n",
        "  Args:\n",
        "    pmf (np.ndarray): The probability mass function for a discrete distribution\n",
        "      represented as an array of probabilities.\n",
        "  Returns:\n",
        "    h (number): The entropy of the distribution in `pmf`.\n",
        "\n",
        "  \"\"\"\n",
        "  ############################################################################\n",
        "  # Exercise for students: compute the entropy of the provided PMF\n",
        "  #   1. Exclude the points in the distribution with no mass (where `pmf==0`).\n",
        "  #      Hint: this is equivalent to including only the points with `pmf>0`.\n",
        "  #   2. Implement the equation for Shannon entropy (in bits).\n",
        "  #  When ready to test, comment or remove the next line\n",
        "  # raise NotImplementedError(\"Exercise: implement the equation for entropy\")\n",
        "  ############################################################################\n",
        "\n",
        "  # reduce to non-zero entries to avoid an error from log2(0)\n",
        "  pmf = pmf[pmf>0]\n",
        "\n",
        "  # implement the equation for Shannon entropy (in bits)\n",
        "  h = -np.sum(pmf * np.log2(pmf))\n",
        "\n",
        "  # return the absolute value (avoids getting a -0 result)\n",
        "  return np.abs(h)\n",
        "\n",
        "# Call entropy function and print result\n",
        "print(f\"{entropy(pmf):.2f} bits\")"
      ]
    },
    {
      "cell_type": "markdown",
      "metadata": {
        "cellView": "both",
        "execution": {},
        "id": "0ZPtFvs6GSOr"
      },
      "source": [
        "[*Click for solution*](https://github.com/NeuromatchAcademy/course-content/tree/main/tutorials/W1D1_ModelTypes/solutions/W1D1_Tutorial3_Solution_f07b571c.py)\n",
        "\n"
      ]
    },
    {
      "cell_type": "code",
      "execution_count": null,
      "metadata": {
        "cellView": "form",
        "execution": {},
        "id": "_66uG7HaGSOr"
      },
      "outputs": [],
      "source": [
        "# @title Submit your feedback\n",
        "content_review(f\"{feedback_prefix}_Optimization_and_Information_Exercise\")"
      ]
    },
    {
      "cell_type": "markdown",
      "metadata": {
        "execution": {},
        "id": "a48WWL4NGSOs"
      },
      "source": [
        "We expect zero surprise from a deterministic distribution. If we had done this calculation by hand, it would simply be $-1\\log_2 1 = -0=0$."
      ]
    },
    {
      "cell_type": "markdown",
      "metadata": {
        "execution": {},
        "id": "CFCQwdyZGSOs"
      },
      "source": [
        "Note that changing the location of the peak (i.e. the point and bin on which all the mass rests) doesn't alter the entropy. The entropy is about how predictable a sample is with respect to a distribution. A single peak is deterministic regardless of which point it sits on - the following plot shows a PMF that would also have zero entropy."
      ]
    },
    {
      "cell_type": "code",
      "execution_count": 19,
      "metadata": {
        "cellView": "form",
        "execution": {},
        "id": "p-FjOvePGSOs",
        "colab": {
          "base_uri": "https://localhost:8080/",
          "height": 592
        },
        "outputId": "04d7afb3-51bf-483e-889b-f7eebdde0ce9"
      },
      "outputs": [
        {
          "output_type": "display_data",
          "data": {
            "text/plain": [
              "<Figure size 800x600 with 1 Axes>"
            ],
            "image/png": "[encoded data removed]"
          },
          "metadata": {
            "image/png": {
              "width": 775,
              "height": 575
            }
          }
        }
      ],
      "source": [
        "# @markdown Execute this cell to visualize another PMF with zero entropy\n",
        "pmf = np.zeros(n_bins)\n",
        "pmf[2] = 1.0  # arbitrary point has all the mass\n",
        "\n",
        "pmf_ = np.insert(pmf, 0, pmf[0])\n",
        "plt.plot(bins, pmf_, drawstyle=\"steps\")\n",
        "plt.fill_between(bins, pmf_, step=\"pre\", alpha=0.4)\n",
        "plt.xlabel(\"x\")\n",
        "plt.ylabel(\"p(x)\")\n",
        "plt.xlim(x_range)\n",
        "plt.ylim(0, 1);"
      ]
    },
    {
      "cell_type": "markdown",
      "metadata": {
        "execution": {},
        "id": "ESwsCUjaGSOs"
      },
      "source": [
        "What about a distribution with mass split equally between two points?"
      ]
    },
    {
      "cell_type": "code",
      "execution_count": 20,
      "metadata": {
        "cellView": "form",
        "execution": {},
        "id": "o53_BRqjGSOs",
        "colab": {
          "base_uri": "https://localhost:8080/",
          "height": 592
        },
        "outputId": "5cd8a635-e010-4381-a923-3ede6f73c0a0"
      },
      "outputs": [
        {
          "output_type": "display_data",
          "data": {
            "text/plain": [
              "<Figure size 800x600 with 1 Axes>"
            ],
            "image/png": "[encoded data removed]"
          },
          "metadata": {
            "image/png": {
              "width": 775,
              "height": 575
            }
          }
        }
      ],
      "source": [
        "# @markdown Execute this cell to visualize a PMF with split mass\n",
        "\n",
        "pmf = np.zeros(n_bins)\n",
        "pmf[len(pmf) // 3] = 0.5\n",
        "pmf[2 * len(pmf) // 3] = 0.5\n",
        "\n",
        "pmf_ = np.insert(pmf, 0, pmf[0])\n",
        "plt.plot(bins, pmf_, drawstyle=\"steps\")\n",
        "plt.fill_between(bins, pmf_, step=\"pre\", alpha=0.4)\n",
        "plt.xlabel(\"x\")\n",
        "plt.ylabel(\"p(x)\")\n",
        "plt.xlim(x_range)\n",
        "plt.ylim(0, 1)\n",
        "plt.show()"
      ]
    },
    {
      "cell_type": "markdown",
      "metadata": {
        "execution": {},
        "id": "128IsOYSGSOs"
      },
      "source": [
        "Here, the entropy calculation is: $-(0.5 \\log_2 0.5 + 0.5\\log_2 0.5)=1$"
      ]
    },
    {
      "cell_type": "markdown",
      "metadata": {
        "execution": {},
        "id": "UNTuCSNdGSOs"
      },
      "source": [
        "There is 1 bit of entropy. This means that before we take a random sample, there is 1 bit of uncertainty about which point in the distribution the sample will fall on: it will either be the first peak or the second one.\n",
        "\n",
        "Likewise, if we make one of the peaks taller (i.e. its point holds more of the probability mass) and the other one shorter, the entropy will decrease because of the increased certainty that the sample will fall on one point and not the other: : $-(0.2 \\log_2 0.2 + 0.8\\log_2 0.8)\\approx 0.72$\n",
        "\n"
      ]
    },
    {
      "cell_type": "markdown",
      "metadata": {
        "execution": {},
        "id": "YYLjag2GGSOs"
      },
      "source": [
        "Try changing the definition of the number and weighting of peaks, and see how the entropy varies."
      ]
    },
    {
      "cell_type": "markdown",
      "metadata": {
        "execution": {},
        "id": "rvTj8wnjGSOs"
      },
      "source": [
        "If we split the probability mass among even more points, the entropy continues to increase. Let's derive the general form for $N$ points of equal mass, where $p_i=p=1/N$:\n",
        "\n",
        "\\begin{align}\n",
        "-\\sum_i p_i \\log_b p_i &= -\\sum_i^N \\frac{1}{N} \\log_b \\frac{1}{N} \\\\\n",
        "&= -\\log_b \\frac{1}{N} \\\\\n",
        "&= \\log_b N\n",
        "\\end{align}"
      ]
    },
    {
      "cell_type": "markdown",
      "metadata": {
        "execution": {},
        "id": "5Ad-EE-eGSOt"
      },
      "source": [
        "If we have $N$ discrete points, the _uniform distribution_ (where all points have equal mass) is the distribution with the highest entropy: $\\log_b N$. This upper bound on entropy is useful when considering binning strategies, as any estimate of entropy over $N$ discrete points (or bins) must be in the interval $[0, \\log_b N]$.\n"
      ]
    },
    {
      "cell_type": "code",
      "execution_count": 21,
      "metadata": {
        "cellView": "form",
        "execution": {},
        "id": "BKi4lgoZGSOt",
        "colab": {
          "base_uri": "https://localhost:8080/",
          "height": 592
        },
        "outputId": "b0d42a5e-b158-426c-8530-729721d945e3"
      },
      "outputs": [
        {
          "output_type": "display_data",
          "data": {
            "text/plain": [
              "<Figure size 800x600 with 1 Axes>"
            ],
            "image/png": "[encoded data removed]"
          },
          "metadata": {
            "image/png": {
              "width": 775,
              "height": 575
            }
          }
        }
      ],
      "source": [
        "# @markdown Execute this cell to visualize a PMF of uniform distribution\n",
        "\n",
        "pmf = np.ones(n_bins) / n_bins  # [1/N] * N\n",
        "\n",
        "pmf_ = np.insert(pmf, 0, pmf[0])\n",
        "plt.plot(bins, pmf_, drawstyle=\"steps\")\n",
        "plt.fill_between(bins, pmf_, step=\"pre\", alpha=0.4)\n",
        "plt.xlabel(\"x\")\n",
        "plt.ylabel(\"p(x)\")\n",
        "plt.xlim(x_range)\n",
        "plt.ylim(0, 1)\n",
        "plt.show()"
      ]
    },
    {
      "cell_type": "markdown",
      "metadata": {
        "execution": {},
        "id": "ddGZdyAlGSOt"
      },
      "source": [
        "Here, there are 50 points and the entropy of the uniform distribution is $\\log_2 50\\approx 5.64$. If we construct _any_ discrete distribution $X$ over 50 points (or bins) and calculate an entropy of $H_2(X)>\\log_2 50$, something must be wrong with our implementation of the discrete entropy computation."
      ]
    },
    {
      "cell_type": "markdown",
      "metadata": {
        "execution": {},
        "id": "bbZ2D53lGSOt"
      },
      "source": [
        "---\n",
        "# Section 2: Information, neurons, and spikes\n",
        "\n",
        "*Estimated timing to here from start of tutorial: 20 min*"
      ]
    },
    {
      "cell_type": "code",
      "execution_count": 22,
      "metadata": {
        "cellView": "form",
        "execution": {},
        "id": "kRRvkGvwGSOt",
        "colab": {
          "base_uri": "https://localhost:8080/",
          "height": 581,
          "referenced_widgets": [
            "fce52a62adec4c06998b6449df71ae8d",
            "490a6ff2e0944e9e8168e9fbd2b34ddd",
            "eef4c6d30bb6426dac85184c4f46addd",
            "80cc56764b60435094a5dec7d3878f0d",
            "5309bc18d61743748723c27087b84dc2",
            "acbb30c458364d89a9c4b828f3aa41f4"
          ]
        },
        "outputId": "b6365530-389c-4854-d4ca-50bc4e80debe"
      },
      "outputs": [
        {
          "output_type": "display_data",
          "data": {
            "text/plain": [
              "Tab(children=(Output(), Output()), _titles={'0': 'Youtube', '1': 'Bilibili'})"
            ],
            "application/vnd.jupyter.widget-view+json": {
              "version_major": 2,
              "version_minor": 0,
              "model_id": "fce52a62adec4c06998b6449df71ae8d"
            }
          },
          "metadata": {}
        }
      ],
      "source": [
        "# @title Video 2: Entropy of different distributions\n",
        "from ipywidgets import widgets\n",
        "from IPython.display import YouTubeVideo\n",
        "from IPython.display import IFrame\n",
        "from IPython.display import display\n",
        "\n",
        "\n",
        "class PlayVideo(IFrame):\n",
        "  def __init__(self, id, source, page=1, width=400, height=300, **kwargs):\n",
        "    self.id = id\n",
        "    if source == 'Bilibili':\n",
        "      src = f'https://player.bilibili.com/player.html?bvid={id}&page={page}'\n",
        "    elif source == 'Osf':\n",
        "      src = f'https://mfr.ca-1.osf.io/render?url=https://osf.io/download/{id}/?direct%26mode=render'\n",
        "    super(PlayVideo, self).__init__(src, width, height, **kwargs)\n",
        "\n",
        "\n",
        "def display_videos(video_ids, W=400, H=300, fs=1):\n",
        "  tab_contents = []\n",
        "  for i, video_id in enumerate(video_ids):\n",
        "    out = widgets.Output()\n",
        "    with out:\n",
        "      if video_ids[i][0] == 'Youtube':\n",
        "        video = YouTubeVideo(id=video_ids[i][1], width=W,\n",
        "                             height=H, fs=fs, rel=0)\n",
        "        print(f'Video available at https://youtube.com/watch?v={video.id}')\n",
        "      else:\n",
        "        video = PlayVideo(id=video_ids[i][1], source=video_ids[i][0], width=W,\n",
        "                          height=H, fs=fs, autoplay=False)\n",
        "        if video_ids[i][0] == 'Bilibili':\n",
        "          print(f'Video available at https://www.bilibili.com/video/{video.id}')\n",
        "        elif video_ids[i][0] == 'Osf':\n",
        "          print(f'Video available at https://osf.io/{video.id}')\n",
        "      display(video)\n",
        "    tab_contents.append(out)\n",
        "  return tab_contents\n",
        "\n",
        "\n",
        "video_ids = [('Youtube', 'o6nyrx3KH20'), ('Bilibili', 'BV1df4y1976g')]\n",
        "tab_contents = display_videos(video_ids, W=854, H=480)\n",
        "tabs = widgets.Tab()\n",
        "tabs.children = tab_contents\n",
        "for i in range(len(tab_contents)):\n",
        "  tabs.set_title(i, video_ids[i][0])\n",
        "display(tabs)"
      ]
    },
    {
      "cell_type": "code",
      "execution_count": null,
      "metadata": {
        "cellView": "form",
        "execution": {},
        "id": "OcPZl9qtGSOt"
      },
      "outputs": [],
      "source": [
        "# @title Submit your feedback\n",
        "content_review(f\"{feedback_prefix}_Entropy_of_different_distributions_Video\")"
      ]
    },
    {
      "cell_type": "markdown",
      "metadata": {
        "execution": {},
        "id": "IGfPWn_mGSOt"
      },
      "source": [
        "Recall the discussion of spike times and inter-spike intervals (ISIs) from Tutorial 1. What does the information content (or distributional entropy) of these measures say about our theory of nervous systems?\n",
        "\n",
        "We'll consider three hypothetical neurons that all have the same mean ISI, but with different distributions:\n",
        "\n",
        "1. Deterministic\n",
        "2. Uniform\n",
        "3. Exponential\n",
        "\n",
        "Fixing the mean of the ISI distribution is equivalent to fixing its inverse: the neuron's mean firing rate. If a neuron has a fixed energy budget and each of its spikes has the same energy cost, then by fixing the mean firing rate, we are normalizing for energy expenditure. This provides a basis for comparing the entropy of different ISI distributions. In other words: if our neuron has a fixed budget, what ISI distribution should it express (all else being equal) to maximize the information content of its outputs?\n",
        "\n",
        "Let's construct our three distributions and see how their entropies differ."
      ]
    },
    {
      "cell_type": "code",
      "execution_count": 23,
      "metadata": {
        "execution": {},
        "id": "TUxYUYv3GSOt"
      },
      "outputs": [],
      "source": [
        "n_bins = 50\n",
        "mean_isi = 0.025\n",
        "isi_range = (0, 0.25)\n",
        "\n",
        "bins = np.linspace(*isi_range, n_bins + 1)\n",
        "mean_idx = np.searchsorted(bins, mean_isi)\n",
        "\n",
        "# 1. all mass concentrated on the ISI mean\n",
        "pmf_single = np.zeros(n_bins)\n",
        "pmf_single[mean_idx] = 1.0\n",
        "\n",
        "# 2. mass uniformly distributed about the ISI mean\n",
        "pmf_uniform = np.zeros(n_bins)\n",
        "pmf_uniform[0:2*mean_idx] = 1 / (2 * mean_idx)\n",
        "\n",
        "# 3. mass exponentially distributed about the ISI mean\n",
        "pmf_exp = stats.expon.pdf(bins[1:], scale=mean_isi)\n",
        "pmf_exp /= np.sum(pmf_exp)"
      ]
    },
    {
      "cell_type": "code",
      "execution_count": 24,
      "metadata": {
        "cellView": "form",
        "execution": {},
        "id": "4qtQLJBXGSOt",
        "colab": {
          "base_uri": "https://localhost:8080/",
          "height": 492
        },
        "outputId": "136c67c2-4ac1-4d9f-ee70-27e1cef0e9f4"
      },
      "outputs": [
        {
          "output_type": "display_data",
          "data": {
            "text/plain": [
              "<Figure size 1500x500 with 3 Axes>"
            ],
            "image/png": "[encoded data removed]"
          },
          "metadata": {
            "image/png": {
              "width": 1475,
              "height": 475
            }
          }
        }
      ],
      "source": [
        "# @markdown Run this cell to plot the three PMFs\n",
        "fig, axes = plt.subplots(ncols=3, figsize=(15, 5))\n",
        "\n",
        "dists =  [# (subplot title, pmf, ylim)\n",
        "          (\"(1) Deterministic\", pmf_single, (0, 1.05)),\n",
        "          (\"(1) Uniform\", pmf_uniform, (0, 1.05)),\n",
        "          (\"(1) Exponential\", pmf_exp, (0, 1.05))]\n",
        "\n",
        "for ax, (label, pmf_, ylim) in zip(axes, dists):\n",
        "  pmf_ = np.insert(pmf_, 0, pmf_[0])\n",
        "  ax.plot(bins, pmf_, drawstyle=\"steps\")\n",
        "  ax.fill_between(bins, pmf_, step=\"pre\", alpha=0.4)\n",
        "  ax.set_title(label)\n",
        "  ax.set_xlabel(\"Inter-spike interval (s)\")\n",
        "  ax.set_ylabel(\"Probability mass\")\n",
        "  ax.set_xlim(isi_range)\n",
        "  ax.set_ylim(ylim)\n",
        "plt.show()"
      ]
    },
    {
      "cell_type": "code",
      "execution_count": 25,
      "metadata": {
        "execution": {},
        "id": "TdvHAU8PGSOt",
        "colab": {
          "base_uri": "https://localhost:8080/"
        },
        "outputId": "88a5d4a1-2d59-4d2c-f668-ff04e3158288"
      },
      "outputs": [
        {
          "output_type": "stream",
          "name": "stdout",
          "text": [
            "Deterministic: 0.00 bits\n",
            "Uniform: 3.32 bits\n",
            "Exponential: 3.77 bits\n"
          ]
        }
      ],
      "source": [
        "print(\n",
        "  f\"Deterministic: {entropy(pmf_single):.2f} bits\",\n",
        "  f\"Uniform: {entropy(pmf_uniform):.2f} bits\",\n",
        "  f\"Exponential: {entropy(pmf_exp):.2f} bits\",\n",
        "  sep=\"\\n\",\n",
        ")"
      ]
    },
    {
      "cell_type": "markdown",
      "metadata": {
        "execution": {},
        "id": "Gm9UoxMKGSOz"
      },
      "source": [
        "---\n",
        "# Section 3: Calculate entropy of ISI distributions from data\n",
        "\n",
        "*Estimated timing to here from start of tutorial: 25 min*"
      ]
    },
    {
      "cell_type": "markdown",
      "metadata": {
        "execution": {},
        "id": "kZGvsKG-GSOz"
      },
      "source": [
        "## Section 3.1: Computing probabilities from histogram"
      ]
    },
    {
      "cell_type": "code",
      "execution_count": 26,
      "metadata": {
        "cellView": "form",
        "execution": {},
        "id": "CgZq5AhIGSOz",
        "colab": {
          "base_uri": "https://localhost:8080/",
          "height": 581,
          "referenced_widgets": [
            "582e70c0434b4b0fa9582e81b8d91a03",
            "900a1cce24ce4f2ba2d1014530812b61",
            "7a0b32a82a3c4295b0083b8bd5c8b415",
            "13f6db0aeccf49f396a14b44c010d852",
            "05bba440a57c4f27978c539940e9bd2e",
            "ca85ac2bee6947179b5d9a0912a6d8eb"
          ]
        },
        "outputId": "184b5771-2386-4614-e660-edb2cd3d72df"
      },
      "outputs": [
        {
          "output_type": "display_data",
          "data": {
            "text/plain": [
              "Tab(children=(Output(), Output()), _titles={'0': 'Youtube', '1': 'Bilibili'})"
            ],
            "application/vnd.jupyter.widget-view+json": {
              "version_major": 2,
              "version_minor": 0,
              "model_id": "582e70c0434b4b0fa9582e81b8d91a03"
            }
          },
          "metadata": {}
        }
      ],
      "source": [
        "# @title Video 3: Probabilities from histogram\n",
        "from ipywidgets import widgets\n",
        "from IPython.display import YouTubeVideo\n",
        "from IPython.display import IFrame\n",
        "from IPython.display import display\n",
        "\n",
        "\n",
        "class PlayVideo(IFrame):\n",
        "  def __init__(self, id, source, page=1, width=400, height=300, **kwargs):\n",
        "    self.id = id\n",
        "    if source == 'Bilibili':\n",
        "      src = f'https://player.bilibili.com/player.html?bvid={id}&page={page}'\n",
        "    elif source == 'Osf':\n",
        "      src = f'https://mfr.ca-1.osf.io/render?url=https://osf.io/download/{id}/?direct%26mode=render'\n",
        "    super(PlayVideo, self).__init__(src, width, height, **kwargs)\n",
        "\n",
        "\n",
        "def display_videos(video_ids, W=400, H=300, fs=1):\n",
        "  tab_contents = []\n",
        "  for i, video_id in enumerate(video_ids):\n",
        "    out = widgets.Output()\n",
        "    with out:\n",
        "      if video_ids[i][0] == 'Youtube':\n",
        "        video = YouTubeVideo(id=video_ids[i][1], width=W,\n",
        "                             height=H, fs=fs, rel=0)\n",
        "        print(f'Video available at https://youtube.com/watch?v={video.id}')\n",
        "      else:\n",
        "        video = PlayVideo(id=video_ids[i][1], source=video_ids[i][0], width=W,\n",
        "                          height=H, fs=fs, autoplay=False)\n",
        "        if video_ids[i][0] == 'Bilibili':\n",
        "          print(f'Video available at https://www.bilibili.com/video/{video.id}')\n",
        "        elif video_ids[i][0] == 'Osf':\n",
        "          print(f'Video available at https://osf.io/{video.id}')\n",
        "      display(video)\n",
        "    tab_contents.append(out)\n",
        "  return tab_contents\n",
        "\n",
        "\n",
        "video_ids = [('Youtube', 'e2U_-07O9jo'), ('Bilibili', 'BV1Jk4y1B7cz')]\n",
        "tab_contents = display_videos(video_ids, W=854, H=480)\n",
        "tabs = widgets.Tab()\n",
        "tabs.children = tab_contents\n",
        "for i in range(len(tab_contents)):\n",
        "  tabs.set_title(i, video_ids[i][0])\n",
        "display(tabs)"
      ]
    },
    {
      "cell_type": "code",
      "execution_count": null,
      "metadata": {
        "cellView": "form",
        "execution": {},
        "id": "0tP_Ezn4GSOz"
      },
      "outputs": [],
      "source": [
        "# @title Submit your feedback\n",
        "content_review(f\"{feedback_prefix}_Probabilities_from_histogram_Video\")"
      ]
    },
    {
      "cell_type": "markdown",
      "metadata": {
        "execution": {},
        "id": "4GAtr04jGSOz"
      },
      "source": [
        "In the previous example we created the PMFs by hand to illustrate idealized scenarios. How would we compute them from data recorded from actual neurons?\n",
        "\n",
        "One way is to convert the ISI histograms we've previously computed into discrete probability distributions using the following equation:\n",
        "\n",
        "\\begin{equation}\n",
        "p_i = \\frac{n_i}{\\sum\\nolimits_{i}n_i}\n",
        "\\end{equation}\n",
        "\n",
        "where $p_i$ is the probability of an ISI falling within a particular interval $i$ and $n_i$ is the count of how many ISIs were observed in that interval."
      ]
    },
    {
      "cell_type": "markdown",
      "metadata": {
        "execution": {},
        "id": "aLA1IANQGSOz"
      },
      "source": [
        "### Coding Exercise 3.1: Probability Mass Function\n",
        "\n",
        "Your second exercise is to implement a method that will produce a probability mass function from an array of ISI bin counts.\n",
        "\n",
        "To verify your solution, we will compute the probability distribution of ISIs from real neural data taken from the Steinmetz dataset."
      ]
    },
    {
      "cell_type": "code",
      "execution_count": null,
      "metadata": {
        "execution": {},
        "id": "3kmZ9GyEGSOz"
      },
      "outputs": [],
      "source": [
        "def pmf_from_counts(counts):\n",
        "  \"\"\"Given counts, normalize by the total to estimate probabilities.\"\"\"\n",
        "  ###########################################################################\n",
        "  # Exercise: Compute the PMF. Remove the next line to test your function\n",
        "  raise NotImplementedError(\"Student exercise: compute the PMF from ISI counts\")\n",
        "  ###########################################################################\n",
        "\n",
        "  pmf = ...\n",
        "\n",
        "  return pmf\n",
        "\n",
        "\n",
        "# Get neuron index\n",
        "neuron_idx = 283\n",
        "\n",
        "# Get counts of ISIs from Steinmetz data\n",
        "isi = np.diff(steinmetz_spikes[neuron_idx])\n",
        "bins = np.linspace(*isi_range, n_bins + 1)\n",
        "counts, _ = np.histogram(isi, bins)\n",
        "\n",
        "# Compute pmf\n",
        "pmf = pmf_from_counts(counts)\n",
        "\n",
        "# Visualize\n",
        "plot_pmf(pmf, isi_range)"
      ]
    },
    {
      "cell_type": "markdown",
      "metadata": {
        "cellView": "both",
        "execution": {},
        "id": "p5VR4-gpGSOz"
      },
      "source": [
        "[*Click for solution*](https://github.com/NeuromatchAcademy/course-content/tree/main/tutorials/W1D1_ModelTypes/solutions/W1D1_Tutorial3_Solution_960d622a.py)\n",
        "\n",
        "*Example output:*\n",
        "\n",
        "<img alt='Solution hint' align='left' width=775.0 height=574.0 src=https://raw.githubusercontent.com/NeuromatchAcademy/course-content/main/tutorials/W1D1_ModelTypes/static/W1D1_Tutorial3_Solution_960d622a_0.png>\n",
        "\n"
      ]
    },
    {
      "cell_type": "code",
      "execution_count": null,
      "metadata": {
        "cellView": "form",
        "execution": {},
        "id": "fjG7VDmXGSOz"
      },
      "outputs": [],
      "source": [
        "# @title Submit your feedback\n",
        "content_review(f\"{feedback_prefix}_Probability_mass_function_Exercise\")"
      ]
    },
    {
      "cell_type": "markdown",
      "metadata": {
        "execution": {},
        "id": "NVvFGkyIGSOz"
      },
      "source": [
        "## Section 3.2: Calculating entropy from pmf"
      ]
    },
    {
      "cell_type": "code",
      "execution_count": null,
      "metadata": {
        "cellView": "form",
        "execution": {},
        "id": "RxC4OSLDGSOz"
      },
      "outputs": [],
      "source": [
        "# @title Video 4: Calculating entropy from pmf\n",
        "from ipywidgets import widgets\n",
        "from IPython.display import YouTubeVideo\n",
        "from IPython.display import IFrame\n",
        "from IPython.display import display\n",
        "\n",
        "\n",
        "class PlayVideo(IFrame):\n",
        "  def __init__(self, id, source, page=1, width=400, height=300, **kwargs):\n",
        "    self.id = id\n",
        "    if source == 'Bilibili':\n",
        "      src = f'https://player.bilibili.com/player.html?bvid={id}&page={page}'\n",
        "    elif source == 'Osf':\n",
        "      src = f'https://mfr.ca-1.osf.io/render?url=https://osf.io/download/{id}/?direct%26mode=render'\n",
        "    super(PlayVideo, self).__init__(src, width, height, **kwargs)\n",
        "\n",
        "\n",
        "def display_videos(video_ids, W=400, H=300, fs=1):\n",
        "  tab_contents = []\n",
        "  for i, video_id in enumerate(video_ids):\n",
        "    out = widgets.Output()\n",
        "    with out:\n",
        "      if video_ids[i][0] == 'Youtube':\n",
        "        video = YouTubeVideo(id=video_ids[i][1], width=W,\n",
        "                             height=H, fs=fs, rel=0)\n",
        "        print(f'Video available at https://youtube.com/watch?v={video.id}')\n",
        "      else:\n",
        "        video = PlayVideo(id=video_ids[i][1], source=video_ids[i][0], width=W,\n",
        "                          height=H, fs=fs, autoplay=False)\n",
        "        if video_ids[i][0] == 'Bilibili':\n",
        "          print(f'Video available at https://www.bilibili.com/video/{video.id}')\n",
        "        elif video_ids[i][0] == 'Osf':\n",
        "          print(f'Video available at https://osf.io/{video.id}')\n",
        "      display(video)\n",
        "    tab_contents.append(out)\n",
        "  return tab_contents\n",
        "\n",
        "\n",
        "video_ids = [('Youtube', 'Xjy-jj-6Oz0'), ('Bilibili', 'BV1vA411e7Cd')]\n",
        "tab_contents = display_videos(video_ids, W=854, H=480)\n",
        "tabs = widgets.Tab()\n",
        "tabs.children = tab_contents\n",
        "for i in range(len(tab_contents)):\n",
        "  tabs.set_title(i, video_ids[i][0])\n",
        "display(tabs)"
      ]
    },
    {
      "cell_type": "code",
      "execution_count": null,
      "metadata": {
        "cellView": "form",
        "execution": {},
        "id": "I7jpzP2zGSO0"
      },
      "outputs": [],
      "source": [
        "# @title Submit your feedback\n",
        "content_review(f\"{feedback_prefix}_Calculating_entropy_from_pmf_Video\")"
      ]
    },
    {
      "cell_type": "markdown",
      "metadata": {
        "execution": {},
        "id": "RnpaA2jYGSO0"
      },
      "source": [
        "Now that we have the probability distribution for the actual neuron spiking activity, we can calculate its entropy."
      ]
    },
    {
      "cell_type": "code",
      "execution_count": null,
      "metadata": {
        "execution": {},
        "id": "iPxJJzLvGSO0"
      },
      "outputs": [],
      "source": [
        "print(f\"Entropy for Neuron {neuron_idx}: {entropy(pmf):.2f} bits\")"
      ]
    },
    {
      "cell_type": "markdown",
      "metadata": {
        "execution": {},
        "id": "-zqUeJ_tGSO0"
      },
      "source": [
        "### Interactive Demo 3.2: Entropy of neurons\n",
        "\n",
        "We can combine the above distribution plot and entropy calculation with an interactive widget to explore how the different neurons in the dataset vary in spiking activity and relative information. Note that the mean firing rate across neurons is not fixed, so some neurons with a uniform ISI distribution may have higher entropy than neurons with a more exponential distribution.\n",
        "\n",
        "\n"
      ]
    },
    {
      "cell_type": "code",
      "execution_count": null,
      "metadata": {
        "cellView": "form",
        "execution": {},
        "id": "Qshpq9D-GSO0"
      },
      "outputs": [],
      "source": [
        "# @markdown **Run the cell** to enable the sliders.\n",
        "\n",
        "def _pmf_from_counts(counts):\n",
        "  \"\"\"Given counts, normalize by the total to estimate probabilities.\"\"\"\n",
        "  pmf = counts / np.sum(counts)\n",
        "  return pmf\n",
        "\n",
        "\n",
        "def _entropy(pmf):\n",
        "  \"\"\"Given a discrete distribution, return the Shannon entropy in bits.\"\"\"\n",
        "  # remove non-zero entries to avoid an error from log2(0)\n",
        "  pmf = pmf[pmf > 0]\n",
        "  h = -np.sum(pmf * np.log2(pmf))\n",
        "  # absolute value applied to avoid getting a -0 result\n",
        "  return np.abs(h)\n",
        "\n",
        "\n",
        "@widgets.interact(neuron=widgets.IntSlider(0, min=0, max=(len(steinmetz_spikes)-1)))\n",
        "def steinmetz_pmf(neuron):\n",
        "  \"\"\" Given a neuron from the Steinmetz data, compute its PMF and entropy \"\"\"\n",
        "  isi = np.diff(steinmetz_spikes[neuron])\n",
        "  bins = np.linspace(*isi_range, n_bins + 1)\n",
        "  counts, _ = np.histogram(isi, bins)\n",
        "  pmf = _pmf_from_counts(counts)\n",
        "\n",
        "  plot_pmf(pmf, isi_range)\n",
        "  plt.title(f\"Neuron {neuron}: H = {_entropy(pmf):.2f} bits\")\n",
        "  plt.show()"
      ]
    },
    {
      "cell_type": "code",
      "execution_count": null,
      "metadata": {
        "cellView": "form",
        "execution": {},
        "id": "IMRQZUygGSO0"
      },
      "outputs": [],
      "source": [
        "# @title Submit your feedback\n",
        "content_review(f\"{feedback_prefix}_Entropy_of_neurons_Interactive_Demo\")"
      ]
    },
    {
      "cell_type": "markdown",
      "metadata": {
        "execution": {},
        "id": "LcyzbzsmGSO0"
      },
      "source": [
        "---\n",
        "# Section 4: Reflecting on why models\n",
        "\n",
        "*Estimated timing to here from start of tutorial: 35 min*"
      ]
    },
    {
      "cell_type": "markdown",
      "metadata": {
        "execution": {},
        "id": "w06tfw_3GSO0"
      },
      "source": [
        "## Think! 3: Reflecting on why models\n",
        "\n",
        "Please discuss the following questions for around 10 minutes with your group:\n",
        "\n",
        "- Have you seen why models before?\n",
        "- Have you ever done one?\n",
        "- Why are why models useful?\n",
        "- When are they possible? Does your field have why models?\n",
        "- What do we learn from constructing them?"
      ]
    },
    {
      "cell_type": "code",
      "execution_count": null,
      "metadata": {
        "cellView": "form",
        "execution": {},
        "id": "yAKyWaoCGSO0"
      },
      "outputs": [],
      "source": [
        "# @title Submit your feedback\n",
        "content_review(f\"{feedback_prefix}_Reflecting_on_why_models_Discussion\")"
      ]
    },
    {
      "cell_type": "markdown",
      "metadata": {
        "execution": {},
        "id": "u2do3SCPGSO0"
      },
      "source": [
        "---\n",
        "# Summary\n",
        "\n",
        "*Estimated timing of tutorial: 45 minutes*"
      ]
    },
    {
      "cell_type": "code",
      "execution_count": null,
      "metadata": {
        "cellView": "form",
        "execution": {},
        "id": "5n_ETUkDGSO0"
      },
      "outputs": [],
      "source": [
        "# @title Video 5: Summary of model types\n",
        "from ipywidgets import widgets\n",
        "from IPython.display import YouTubeVideo\n",
        "from IPython.display import IFrame\n",
        "from IPython.display import display\n",
        "\n",
        "\n",
        "class PlayVideo(IFrame):\n",
        "  def __init__(self, id, source, page=1, width=400, height=300, **kwargs):\n",
        "    self.id = id\n",
        "    if source == 'Bilibili':\n",
        "      src = f'https://player.bilibili.com/player.html?bvid={id}&page={page}'\n",
        "    elif source == 'Osf':\n",
        "      src = f'https://mfr.ca-1.osf.io/render?url=https://osf.io/download/{id}/?direct%26mode=render'\n",
        "    super(PlayVideo, self).__init__(src, width, height, **kwargs)\n",
        "\n",
        "\n",
        "def display_videos(video_ids, W=400, H=300, fs=1):\n",
        "  tab_contents = []\n",
        "  for i, video_id in enumerate(video_ids):\n",
        "    out = widgets.Output()\n",
        "    with out:\n",
        "      if video_ids[i][0] == 'Youtube':\n",
        "        video = YouTubeVideo(id=video_ids[i][1], width=W,\n",
        "                             height=H, fs=fs, rel=0)\n",
        "        print(f'Video available at https://youtube.com/watch?v={video.id}')\n",
        "      else:\n",
        "        video = PlayVideo(id=video_ids[i][1], source=video_ids[i][0], width=W,\n",
        "                          height=H, fs=fs, autoplay=False)\n",
        "        if video_ids[i][0] == 'Bilibili':\n",
        "          print(f'Video available at https://www.bilibili.com/video/{video.id}')\n",
        "        elif video_ids[i][0] == 'Osf':\n",
        "          print(f'Video available at https://osf.io/{video.id}')\n",
        "      display(video)\n",
        "    tab_contents.append(out)\n",
        "  return tab_contents\n",
        "\n",
        "\n",
        "video_ids = [('Youtube', 'X4K2RR5qBK8'), ('Bilibili', 'BV1F5411e7ww')]\n",
        "tab_contents = display_videos(video_ids, W=854, H=480)\n",
        "tabs = widgets.Tab()\n",
        "tabs.children = tab_contents\n",
        "for i in range(len(tab_contents)):\n",
        "  tabs.set_title(i, video_ids[i][0])\n",
        "display(tabs)"
      ]
    },
    {
      "cell_type": "code",
      "execution_count": null,
      "metadata": {
        "cellView": "form",
        "execution": {},
        "id": "GXI_NEQCGSO0"
      },
      "outputs": [],
      "source": [
        "# @title Submit your feedback\n",
        "content_review(f\"{feedback_prefix}_Summary_of_model_types_Video\")"
      ]
    },
    {
      "cell_type": "markdown",
      "metadata": {
        "execution": {},
        "id": "HU_IEgXZGSO0"
      },
      "source": [
        "Congratulations! You've finished your first NMA tutorial. In this 3 part tutorial series, we used different types of models to understand the spiking behavior of neurons recorded in the Steinmetz data set.\n",
        "\n",
        " - We used \"what\" models to discover that the ISI distribution of real neurons is closest to an exponential distribution\n",
        " - We used \"how\" models to discover that balanced excitatory and inhibitory inputs, coupled with a leaky membrane, can give rise to neuronal spiking with exhibiting such an exponential ISI distribution\n",
        " - We used \"why\" models to discover that exponential ISI distributions contain the most information when the mean spiking is constrained\n",
        "\n"
      ]
    },
    {
      "cell_type": "markdown",
      "metadata": {
        "execution": {},
        "id": "_g3oDDKuGSO0"
      },
      "source": [
        "---\n",
        "# Notation\n",
        "\n",
        "\\begin{align}\n",
        "H(X) &\\quad \\text{entropy of random variable X}\\\\\n",
        "b &\\quad \\text{base, e.g. b=2 or b=e}\\\\\n",
        "x &\\quad \\text{event x}\\\\\n",
        "p(x) &\\quad \\text{probability of observing event x}\\\\\n",
        "\\text{ISI} &\\quad \\text{interspike interval}\\\\\n",
        "n_i &\\quad \\text{count of observed ISIs in interval i}\\\\\n",
        "p_i  &\\quad \\text{probability of of an ISI falling within a particular interval i}\n",
        "\\end{align}"
      ]
    },
    {
      "cell_type": "markdown",
      "metadata": {
        "execution": {},
        "id": "zMzTi3rzGSO0"
      },
      "source": [
        "---\n",
        "# Bonus"
      ]
    },
    {
      "cell_type": "markdown",
      "metadata": {
        "execution": {},
        "id": "XsbO6u-2GSO1"
      },
      "source": [
        "## Bonus Section 1: The foundations for Entropy\n",
        "\n",
        "In his foundational [1948 paper](https://en.wikipedia.org/wiki/A_Mathematical_Theory_of_Communication) on information theory, Claude Shannon began with three criteria for a function $H$ defining the entropy of a discrete distribution of probability masses $p_i\\in p(X)$ over the points $x_i\\in X$:\n",
        "1. $H$ should be continuous in the $p_i$.\n",
        "  - That is, $H$ should change smoothly in response to smooth changes to the mass $p_i$ on each point $x_i$.\n",
        "2. If all the points have equal shares of the probability mass, $p_i=1/N$, $H$ should be a non-decreasing function of $N$.\n",
        "  - That is, if $X_N$ is the support with $N$ discrete points and $p(x\\in X_N)$ assigns constant mass to each point, then $H(X_1) < H(X_2) < H(X_3) < \\dots$\n",
        "3. $H$ should be preserved by (invariant to) the equivalent (de)composition of distributions.\n",
        "  - For example (from Shannon's paper) if we have a discrete distribution over three points with masses $(\\frac{1}{2},\\frac{1}{3},\\frac{1}{6})$, then their entropy can be represented in terms of a direct choice between the three and calculated $H(\\frac{1}{2},\\frac{1}{3},\\frac{1}{6})$. However, it could also be represented in terms of a series of two choices:\n",
        "    1. either we sample the point with mass $1/2$ or not (_not_ is the other $1/2$, whose subdivisions are not given in the first choice),\n",
        "    2. if (with probability $1/2$) we _don't_ sample the first point, we sample one of the two remaining points, masses $1/3$ and $1/6$.\n",
        "    \n",
        "    Thus in this case we require that $H(\\frac{1}{2},\\frac{1}{3},\\frac{1}{6})=H(\\frac{1}{2},\\frac{1}{2}) + \\frac{1}{2}H(\\frac{1}{3}, \\frac{1}{6})$\n",
        "\n",
        "There is a unique function (up to a linear scaling factor) which satisfies these 3 requirements:\n",
        "\n",
        "\\begin{equation}\n",
        "H_b(X) = -\\sum_{x\\in X} p(x) \\log_b p(x)\n",
        "\\end{equation}\n",
        "\n",
        "Where the base of the logarithm $b>1$ controls the units of entropy. The two most common cases are $b=2$ for units of _bits_, and $b=e$ for _nats_.\n",
        "\n",
        "We can view this function as the expectation of the self-information over a distribution:\n",
        "\n",
        "\\begin{align}\n",
        "H_b(X) &= \\mathbb{E}_{x\\in X} \\left[I_b(x)\\right]\\\\\n",
        "I_b(x) &= -\\log_b p(x)\n",
        "\\end{align}\n",
        "\n",
        "Self-information is just the negative logarithm of probability, and is a measure of how surprising an event sampled from the distribution would be. Events with $p(x)=1$ are certain to occur, and their self-information is zero (as is the entropy of the distribution they compose) meaning they are totally unsurprising. The smaller the probability of an event, the higher its self-information, and the more surprising the event would be to observe.\n"
      ]
    }
  ],
  "metadata": {
    "colab": {
      "name": "W1D1_Tutorial3",
      "provenance": [],
      "include_colab_link": true
    },
    "kernel": {
      "display_name": "Python 3",
      "language": "python",
      "name": "python3"
    },
    "kernelspec": {
      "display_name": "Python 3",
      "language": "python",
      "name": "python3"
    },
    "language_info": {
      "codemirror_mode": {
        "name": "ipython",
        "version": 3
      },
      "file_extension": ".py",
      "mimetype": "text/x-python",
      "name": "python",
      "nbconvert_exporter": "python",
      "pygments_lexer": "ipython3",
      "version": "3.9.21"
    },
    "widgets": {
      "application/vnd.jupyter.widget-state+json": {
        "34f3787e9f2f4e1c8d9b83c014f7dab5": {
          "model_module": "@jupyter-widgets/controls",
          "model_name": "TabModel",
          "model_module_version": "1.5.0",
          "state": {
            "_dom_classes": [],
            "_model_module": "@jupyter-widgets/controls",
            "_model_module_version": "1.5.0",
            "_model_name": "TabModel",
            "_titles": {
              "0": "Youtube",
              "1": "Bilibili"
            },
            "_view_count": null,
            "_view_module": "@jupyter-widgets/controls",
            "_view_module_version": "1.5.0",
            "_view_name": "TabView",
            "box_style": "",
            "children": [
              "IPY_MODEL_1abe56f8aeea470994ba9a252b2a1395",
              "IPY_MODEL_8cf118ba1f6a4035b394e9a041ca57a7"
            ],
            "layout": "IPY_MODEL_9bdf4768c99c43f68bf604fd3391782e",
            "selected_index": 1
          }
        },
        "1abe56f8aeea470994ba9a252b2a1395": {
          "model_module": "@jupyter-widgets/output",
          "model_name": "OutputModel",
          "model_module_version": "1.0.0",
          "state": {
            "_dom_classes": [],
            "_model_module": "@jupyter-widgets/output",
            "_model_module_version": "1.0.0",
            "_model_name": "OutputModel",
            "_view_count": null,
            "_view_module": "@jupyter-widgets/output",
            "_view_module_version": "1.0.0",
            "_view_name": "OutputView",
            "layout": "IPY_MODEL_2b46f90ef5984a8c95ffe25fd1376cdd",
            "msg_id": "",
            "outputs": [
              {
                "output_type": "stream",
                "name": "stdout",
                "text": [
                  "Video available at https://youtube.com/watch?v=OOIDEr1e5Gg\n"
                ]
              },
              {
                "output_type": "display_data",
                "data": {
                  "text/plain": "<IPython.lib.display.YouTubeVideo at 0x78ac8cd857d0>",
                  "text/html": "\n        <iframe\n            width=\"854\"\n            height=\"480\"\n            src=\"https://www.youtube.com/embed/OOIDEr1e5Gg?fs=1&rel=0\"\n            frameborder=\"0\"\n            allowfullscreen\n            \n        ></iframe>\n        ",
                  "image/jpeg": "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\n"
                },
                "metadata": {}
              }
            ]
          }
        },
        "8cf118ba1f6a4035b394e9a041ca57a7": {
          "model_module": "@jupyter-widgets/output",
          "model_name": "OutputModel",
          "model_module_version": "1.0.0",
          "state": {
            "_dom_classes": [],
            "_model_module": "@jupyter-widgets/output",
            "_model_module_version": "1.0.0",
            "_model_name": "OutputModel",
            "_view_count": null,
            "_view_module": "@jupyter-widgets/output",
            "_view_module_version": "1.0.0",
            "_view_name": "OutputView",
            "layout": "IPY_MODEL_113a73d0d1374b32903b660071e46a38",
            "msg_id": "",
            "outputs": [
              {
                "output_type": "stream",
                "name": "stdout",
                "text": [
                  "Video available at https://www.bilibili.com/video/BV16t4y1Q7DR\n"
                ]
              },
              {
                "output_type": "display_data",
                "data": {
                  "text/plain": "<__main__.PlayVideo at 0x78ac8b372890>",
                  "text/html": "\n        <iframe\n            width=\"854\"\n            height=\"480\"\n            src=\"https://player.bilibili.com/player.html?bvid=BV16t4y1Q7DR&page=1?fs=1&autoplay=False\"\n            frameborder=\"0\"\n            allowfullscreen\n            \n        ></iframe>\n        "
                },
                "metadata": {}
              }
            ]
          }
        },
        "9bdf4768c99c43f68bf604fd3391782e": {
          "model_module": "@jupyter-widgets/base",
          "model_name": "LayoutModel",
          "model_module_version": "1.2.0",
          "state": {
            "_model_module": "@jupyter-widgets/base",
            "_model_module_version": "1.2.0",
            "_model_name": "LayoutModel",
            "_view_count": null,
            "_view_module": "@jupyter-widgets/base",
            "_view_module_version": "1.2.0",
            "_view_name": "LayoutView",
            "align_content": null,
            "align_items": null,
            "align_self": null,
            "border": null,
            "bottom": null,
            "display": null,
            "flex": null,
            "flex_flow": null,
            "grid_area": null,
            "grid_auto_columns": null,
            "grid_auto_flow": null,
            "grid_auto_rows": null,
            "grid_column": null,
            "grid_gap": null,
            "grid_row": null,
            "grid_template_areas": null,
            "grid_template_columns": null,
            "grid_template_rows": null,
            "height": null,
            "justify_content": null,
            "justify_items": null,
            "left": null,
            "margin": null,
            "max_height": null,
            "max_width": null,
            "min_height": null,
            "min_width": null,
            "object_fit": null,
            "object_position": null,
            "order": null,
            "overflow": null,
            "overflow_x": null,
            "overflow_y": null,
            "padding": null,
            "right": null,
            "top": null,
            "visibility": null,
            "width": null
          }
        },
        "2b46f90ef5984a8c95ffe25fd1376cdd": {
          "model_module": "@jupyter-widgets/base",
          "model_name": "LayoutModel",
          "model_module_version": "1.2.0",
          "state": {
            "_model_module": "@jupyter-widgets/base",
            "_model_module_version": "1.2.0",
            "_model_name": "LayoutModel",
            "_view_count": null,
            "_view_module": "@jupyter-widgets/base",
            "_view_module_version": "1.2.0",
            "_view_name": "LayoutView",
            "align_content": null,
            "align_items": null,
            "align_self": null,
            "border": null,
            "bottom": null,
            "display": null,
            "flex": null,
            "flex_flow": null,
            "grid_area": null,
            "grid_auto_columns": null,
            "grid_auto_flow": null,
            "grid_auto_rows": null,
            "grid_column": null,
            "grid_gap": null,
            "grid_row": null,
            "grid_template_areas": null,
            "grid_template_columns": null,
            "grid_template_rows": null,
            "height": null,
            "justify_content": null,
            "justify_items": null,
            "left": null,
            "margin": null,
            "max_height": null,
            "max_width": null,
            "min_height": null,
            "min_width": null,
            "object_fit": null,
            "object_position": null,
            "order": null,
            "overflow": null,
            "overflow_x": null,
            "overflow_y": null,
            "padding": null,
            "right": null,
            "top": null,
            "visibility": null,
            "width": null
          }
        },
        "113a73d0d1374b32903b660071e46a38": {
          "model_module": "@jupyter-widgets/base",
          "model_name": "LayoutModel",
          "model_module_version": "1.2.0",
          "state": {
            "_model_module": "@jupyter-widgets/base",
            "_model_module_version": "1.2.0",
            "_model_name": "LayoutModel",
            "_view_count": null,
            "_view_module": "@jupyter-widgets/base",
            "_view_module_version": "1.2.0",
            "_view_name": "LayoutView",
            "align_content": null,
            "align_items": null,
            "align_self": null,
            "border": null,
            "bottom": null,
            "display": null,
            "flex": null,
            "flex_flow": null,
            "grid_area": null,
            "grid_auto_columns": null,
            "grid_auto_flow": null,
            "grid_auto_rows": null,
            "grid_column": null,
            "grid_gap": null,
            "grid_row": null,
            "grid_template_areas": null,
            "grid_template_columns": null,
            "grid_template_rows": null,
            "height": null,
            "justify_content": null,
            "justify_items": null,
            "left": null,
            "margin": null,
            "max_height": null,
            "max_width": null,
            "min_height": null,
            "min_width": null,
            "object_fit": null,
            "object_position": null,
            "order": null,
            "overflow": null,
            "overflow_x": null,
            "overflow_y": null,
            "padding": null,
            "right": null,
            "top": null,
            "visibility": null,
            "width": null
          }
        },
        "fce52a62adec4c06998b6449df71ae8d": {
          "model_module": "@jupyter-widgets/controls",
          "model_name": "TabModel",
          "model_module_version": "1.5.0",
          "state": {
            "_dom_classes": [],
            "_model_module": "@jupyter-widgets/controls",
            "_model_module_version": "1.5.0",
            "_model_name": "TabModel",
            "_titles": {
              "0": "Youtube",
              "1": "Bilibili"
            },
            "_view_count": null,
            "_view_module": "@jupyter-widgets/controls",
            "_view_module_version": "1.5.0",
            "_view_name": "TabView",
            "box_style": "",
            "children": [
              "IPY_MODEL_490a6ff2e0944e9e8168e9fbd2b34ddd",
              "IPY_MODEL_eef4c6d30bb6426dac85184c4f46addd"
            ],
            "layout": "IPY_MODEL_80cc56764b60435094a5dec7d3878f0d",
            "selected_index": 1
          }
        },
        "490a6ff2e0944e9e8168e9fbd2b34ddd": {
          "model_module": "@jupyter-widgets/output",
          "model_name": "OutputModel",
          "model_module_version": "1.0.0",
          "state": {
            "_dom_classes": [],
            "_model_module": "@jupyter-widgets/output",
            "_model_module_version": "1.0.0",
            "_model_name": "OutputModel",
            "_view_count": null,
            "_view_module": "@jupyter-widgets/output",
            "_view_module_version": "1.0.0",
            "_view_name": "OutputView",
            "layout": "IPY_MODEL_5309bc18d61743748723c27087b84dc2",
            "msg_id": "",
            "outputs": [
              {
                "output_type": "stream",
                "name": "stdout",
                "text": [
                  "Video available at https://youtube.com/watch?v=o6nyrx3KH20\n"
                ]
              },
              {
                "output_type": "display_data",
                "data": {
                  "text/plain": "<IPython.lib.display.YouTubeVideo at 0x78ac8b372f50>",
                  "text/html": "\n        <iframe\n            width=\"854\"\n            height=\"480\"\n            src=\"https://www.youtube.com/embed/o6nyrx3KH20?fs=1&rel=0\"\n            frameborder=\"0\"\n            allowfullscreen\n            \n        ></iframe>\n        ",
                  "image/jpeg": "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\n"
                },
                "metadata": {}
              }
            ]
          }
        },
        "eef4c6d30bb6426dac85184c4f46addd": {
          "model_module": "@jupyter-widgets/output",
          "model_name": "OutputModel",
          "model_module_version": "1.0.0",
          "state": {
            "_dom_classes": [],
            "_model_module": "@jupyter-widgets/output",
            "_model_module_version": "1.0.0",
            "_model_name": "OutputModel",
            "_view_count": null,
            "_view_module": "@jupyter-widgets/output",
            "_view_module_version": "1.0.0",
            "_view_name": "OutputView",
            "layout": "IPY_MODEL_acbb30c458364d89a9c4b828f3aa41f4",
            "msg_id": "",
            "outputs": [
              {
                "output_type": "stream",
                "name": "stdout",
                "text": [
                  "Video available at https://www.bilibili.com/video/BV1df4y1976g\n"
                ]
              },
              {
                "output_type": "display_data",
                "data": {
                  "text/plain": "<__main__.PlayVideo at 0x78ac78a202d0>",
                  "text/html": "\n        <iframe\n            width=\"854\"\n            height=\"480\"\n            src=\"https://player.bilibili.com/player.html?bvid=BV1df4y1976g&page=1?fs=1&autoplay=False\"\n            frameborder=\"0\"\n            allowfullscreen\n            \n        ></iframe>\n        "
                },
                "metadata": {}
              }
            ]
          }
        },
        "80cc56764b60435094a5dec7d3878f0d": {
          "model_module": "@jupyter-widgets/base",
          "model_name": "LayoutModel",
          "model_module_version": "1.2.0",
          "state": {
            "_model_module": "@jupyter-widgets/base",
            "_model_module_version": "1.2.0",
            "_model_name": "LayoutModel",
            "_view_count": null,
            "_view_module": "@jupyter-widgets/base",
            "_view_module_version": "1.2.0",
            "_view_name": "LayoutView",
            "align_content": null,
            "align_items": null,
            "align_self": null,
            "border": null,
            "bottom": null,
            "display": null,
            "flex": null,
            "flex_flow": null,
            "grid_area": null,
            "grid_auto_columns": null,
            "grid_auto_flow": null,
            "grid_auto_rows": null,
            "grid_column": null,
            "grid_gap": null,
            "grid_row": null,
            "grid_template_areas": null,
            "grid_template_columns": null,
            "grid_template_rows": null,
            "height": null,
            "justify_content": null,
            "justify_items": null,
            "left": null,
            "margin": null,
            "max_height": null,
            "max_width": null,
            "min_height": null,
            "min_width": null,
            "object_fit": null,
            "object_position": null,
            "order": null,
            "overflow": null,
            "overflow_x": null,
            "overflow_y": null,
            "padding": null,
            "right": null,
            "top": null,
            "visibility": null,
            "width": null
          }
        },
        "5309bc18d61743748723c27087b84dc2": {
          "model_module": "@jupyter-widgets/base",
          "model_name": "LayoutModel",
          "model_module_version": "1.2.0",
          "state": {
            "_model_module": "@jupyter-widgets/base",
            "_model_module_version": "1.2.0",
            "_model_name": "LayoutModel",
            "_view_count": null,
            "_view_module": "@jupyter-widgets/base",
            "_view_module_version": "1.2.0",
            "_view_name": "LayoutView",
            "align_content": null,
            "align_items": null,
            "align_self": null,
            "border": null,
            "bottom": null,
            "display": null,
            "flex": null,
            "flex_flow": null,
            "grid_area": null,
            "grid_auto_columns": null,
            "grid_auto_flow": null,
            "grid_auto_rows": null,
            "grid_column": null,
            "grid_gap": null,
            "grid_row": null,
            "grid_template_areas": null,
            "grid_template_columns": null,
            "grid_template_rows": null,
            "height": null,
            "justify_content": null,
            "justify_items": null,
            "left": null,
            "margin": null,
            "max_height": null,
            "max_width": null,
            "min_height": null,
            "min_width": null,
            "object_fit": null,
            "object_position": null,
            "order": null,
            "overflow": null,
            "overflow_x": null,
            "overflow_y": null,
            "padding": null,
            "right": null,
            "top": null,
            "visibility": null,
            "width": null
          }
        },
        "acbb30c458364d89a9c4b828f3aa41f4": {
          "model_module": "@jupyter-widgets/base",
          "model_name": "LayoutModel",
          "model_module_version": "1.2.0",
          "state": {
            "_model_module": "@jupyter-widgets/base",
            "_model_module_version": "1.2.0",
            "_model_name": "LayoutModel",
            "_view_count": null,
            "_view_module": "@jupyter-widgets/base",
            "_view_module_version": "1.2.0",
            "_view_name": "LayoutView",
            "align_content": null,
            "align_items": null,
            "align_self": null,
            "border": null,
            "bottom": null,
            "display": null,
            "flex": null,
            "flex_flow": null,
            "grid_area": null,
            "grid_auto_columns": null,
            "grid_auto_flow": null,
            "grid_auto_rows": null,
            "grid_column": null,
            "grid_gap": null,
            "grid_row": null,
            "grid_template_areas": null,
            "grid_template_columns": null,
            "grid_template_rows": null,
            "height": null,
            "justify_content": null,
            "justify_items": null,
            "left": null,
            "margin": null,
            "max_height": null,
            "max_width": null,
            "min_height": null,
            "min_width": null,
            "object_fit": null,
            "object_position": null,
            "order": null,
            "overflow": null,
            "overflow_x": null,
            "overflow_y": null,
            "padding": null,
            "right": null,
            "top": null,
            "visibility": null,
            "width": null
          }
        },
        "582e70c0434b4b0fa9582e81b8d91a03": {
          "model_module": "@jupyter-widgets/controls",
          "model_name": "TabModel",
          "model_module_version": "1.5.0",
          "state": {
            "_dom_classes": [],
            "_model_module": "@jupyter-widgets/controls",
            "_model_module_version": "1.5.0",
            "_model_name": "TabModel",
            "_titles": {
              "0": "Youtube",
              "1": "Bilibili"
            },
            "_view_count": null,
            "_view_module": "@jupyter-widgets/controls",
            "_view_module_version": "1.5.0",
            "_view_name": "TabView",
            "box_style": "",
            "children": [
              "IPY_MODEL_900a1cce24ce4f2ba2d1014530812b61",
              "IPY_MODEL_7a0b32a82a3c4295b0083b8bd5c8b415"
            ],
            "layout": "IPY_MODEL_13f6db0aeccf49f396a14b44c010d852",
            "selected_index": 1
          }
        },
        "900a1cce24ce4f2ba2d1014530812b61": {
          "model_module": "@jupyter-widgets/output",
          "model_name": "OutputModel",
          "model_module_version": "1.0.0",
          "state": {
            "_dom_classes": [],
            "_model_module": "@jupyter-widgets/output",
            "_model_module_version": "1.0.0",
            "_model_name": "OutputModel",
            "_view_count": null,
            "_view_module": "@jupyter-widgets/output",
            "_view_module_version": "1.0.0",
            "_view_name": "OutputView",
            "layout": "IPY_MODEL_05bba440a57c4f27978c539940e9bd2e",
            "msg_id": "",
            "outputs": [
              {
                "output_type": "stream",
                "name": "stdout",
                "text": [
                  "Video available at https://youtube.com/watch?v=e2U_-07O9jo\n"
                ]
              },
              {
                "output_type": "display_data",
                "data": {
                  "text/plain": "<IPython.lib.display.YouTubeVideo at 0x78ac794f2090>",
                  "text/html": "\n        <iframe\n            width=\"854\"\n            height=\"480\"\n            src=\"https://www.youtube.com/embed/e2U_-07O9jo?fs=1&rel=0\"\n            frameborder=\"0\"\n            allowfullscreen\n            \n        ></iframe>\n        ",
                  "image/jpeg": "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\n"
                },
                "metadata": {}
              }
            ]
          }
        },
        "7a0b32a82a3c4295b0083b8bd5c8b415": {
          "model_module": "@jupyter-widgets/output",
          "model_name": "OutputModel",
          "model_module_version": "1.0.0",
          "state": {
            "_dom_classes": [],
            "_model_module": "@jupyter-widgets/output",
            "_model_module_version": "1.0.0",
            "_model_name": "OutputModel",
            "_view_count": null,
            "_view_module": "@jupyter-widgets/output",
            "_view_module_version": "1.0.0",
            "_view_name": "OutputView",
            "layout": "IPY_MODEL_ca85ac2bee6947179b5d9a0912a6d8eb",
            "msg_id": "",
            "outputs": [
              {
                "output_type": "stream",
                "name": "stdout",
                "text": [
                  "Video available at https://www.bilibili.com/video/BV1Jk4y1B7cz\n"
                ]
              },
              {
                "output_type": "display_data",
                "data": {
                  "text/plain": "<__main__.PlayVideo at 0x78ac755ca790>",
                  "text/html": "\n        <iframe\n            width=\"854\"\n            height=\"480\"\n            src=\"https://player.bilibili.com/player.html?bvid=BV1Jk4y1B7cz&page=1?fs=1&autoplay=False\"\n            frameborder=\"0\"\n            allowfullscreen\n            \n        ></iframe>\n        "
                },
                "metadata": {}
              }
            ]
          }
        },
        "13f6db0aeccf49f396a14b44c010d852": {
          "model_module": "@jupyter-widgets/base",
          "model_name": "LayoutModel",
          "model_module_version": "1.2.0",
          "state": {
            "_model_module": "@jupyter-widgets/base",
            "_model_module_version": "1.2.0",
            "_model_name": "LayoutModel",
            "_view_count": null,
            "_view_module": "@jupyter-widgets/base",
            "_view_module_version": "1.2.0",
            "_view_name": "LayoutView",
            "align_content": null,
            "align_items": null,
            "align_self": null,
            "border": null,
            "bottom": null,
            "display": null,
            "flex": null,
            "flex_flow": null,
            "grid_area": null,
            "grid_auto_columns": null,
            "grid_auto_flow": null,
            "grid_auto_rows": null,
            "grid_column": null,
            "grid_gap": null,
            "grid_row": null,
            "grid_template_areas": null,
            "grid_template_columns": null,
            "grid_template_rows": null,
            "height": null,
            "justify_content": null,
            "justify_items": null,
            "left": null,
            "margin": null,
            "max_height": null,
            "max_width": null,
            "min_height": null,
            "min_width": null,
            "object_fit": null,
            "object_position": null,
            "order": null,
            "overflow": null,
            "overflow_x": null,
            "overflow_y": null,
            "padding": null,
            "right": null,
            "top": null,
            "visibility": null,
            "width": null
          }
        },
        "05bba440a57c4f27978c539940e9bd2e": {
          "model_module": "@jupyter-widgets/base",
          "model_name": "LayoutModel",
          "model_module_version": "1.2.0",
          "state": {
            "_model_module": "@jupyter-widgets/base",
            "_model_module_version": "1.2.0",
            "_model_name": "LayoutModel",
            "_view_count": null,
            "_view_module": "@jupyter-widgets/base",
            "_view_module_version": "1.2.0",
            "_view_name": "LayoutView",
            "align_content": null,
            "align_items": null,
            "align_self": null,
            "border": null,
            "bottom": null,
            "display": null,
            "flex": null,
            "flex_flow": null,
            "grid_area": null,
            "grid_auto_columns": null,
            "grid_auto_flow": null,
            "grid_auto_rows": null,
            "grid_column": null,
            "grid_gap": null,
            "grid_row": null,
            "grid_template_areas": null,
            "grid_template_columns": null,
            "grid_template_rows": null,
            "height": null,
            "justify_content": null,
            "justify_items": null,
            "left": null,
            "margin": null,
            "max_height": null,
            "max_width": null,
            "min_height": null,
            "min_width": null,
            "object_fit": null,
            "object_position": null,
            "order": null,
            "overflow": null,
            "overflow_x": null,
            "overflow_y": null,
            "padding": null,
            "right": null,
            "top": null,
            "visibility": null,
            "width": null
          }
        },
        "ca85ac2bee6947179b5d9a0912a6d8eb": {
          "model_module": "@jupyter-widgets/base",
          "model_name": "LayoutModel",
          "model_module_version": "1.2.0",
          "state": {
            "_model_module": "@jupyter-widgets/base",
            "_model_module_version": "1.2.0",
            "_model_name": "LayoutModel",
            "_view_count": null,
            "_view_module": "@jupyter-widgets/base",
            "_view_module_version": "1.2.0",
            "_view_name": "LayoutView",
            "align_content": null,
            "align_items": null,
            "align_self": null,
            "border": null,
            "bottom": null,
            "display": null,
            "flex": null,
            "flex_flow": null,
            "grid_area": null,
            "grid_auto_columns": null,
            "grid_auto_flow": null,
            "grid_auto_rows": null,
            "grid_column": null,
            "grid_gap": null,
            "grid_row": null,
            "grid_template_areas": null,
            "grid_template_columns": null,
            "grid_template_rows": null,
            "height": null,
            "justify_content": null,
            "justify_items": null,
            "left": null,
            "margin": null,
            "max_height": null,
            "max_width": null,
            "min_height": null,
            "min_width": null,
            "object_fit": null,
            "object_position": null,
            "order": null,
            "overflow": null,
            "overflow_x": null,
            "overflow_y": null,
            "padding": null,
            "right": null,
            "top": null,
            "visibility": null,
            "width": null
          }
        }
      }
    }
  },
  "nbformat": 4,
  "nbformat_minor": 0
}